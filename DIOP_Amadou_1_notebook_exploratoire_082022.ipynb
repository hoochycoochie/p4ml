{
 "cells": [
  {
   "cell_type": "code",
   "execution_count": 41,
   "metadata": {},
   "outputs": [],
   "source": [
    "import pandas as pd\n",
    "import numpy as np\n",
    "import seaborn as sns\n",
    "import plotly.express as px\n",
    "import matplotlib.pyplot as plt\n",
    "from sklearn.impute import KNNImputer \n",
    "from functions import utils\n",
    "from scipy.stats import shapiro\n",
    "import math\n",
    "from functions import *\n",
    "from sklearn.preprocessing import OneHotEncoder, StandardScaler\n",
    "from sklearn.decomposition import PCA,KernelPCA"
   ]
  },
  {
   "cell_type": "code",
   "execution_count": 42,
   "metadata": {},
   "outputs": [
    {
     "data": {
      "text/plain": [
       "(3376, 46)"
      ]
     },
     "execution_count": 42,
     "metadata": {},
     "output_type": "execute_result"
    }
   ],
   "source": [
    "df=pd.read_csv('data/2016_Building_Energy_Benchmarking.csv')\n",
    "df.shape"
   ]
  },
  {
   "cell_type": "code",
   "execution_count": 43,
   "metadata": {},
   "outputs": [
    {
     "data": {
      "text/plain": [
       "array([  1.,   3.,   0.,   2.,   4.,  27.,   6.,  11.,  14.,   9.,   5.,\n",
       "        nan,   7.,   8.,  16.,  23.,  10., 111.])"
      ]
     },
     "execution_count": 43,
     "metadata": {},
     "output_type": "execute_result"
    }
   ],
   "source": []
  },
  {
   "cell_type": "code",
   "execution_count": 45,
   "metadata": {},
   "outputs": [
    {
     "data": {
      "text/plain": [
       "(1546, 46)"
      ]
     },
     "execution_count": 45,
     "metadata": {},
     "output_type": "execute_result"
    }
   ],
   "source": [
    "## sélection des batiments non résidentiels et \n",
    "## répondant aux  exigences d'analyse comparative énergétique pour l'année de déclaration en cours.\n",
    "df=df[(df['ComplianceStatus']=='Compliant')&(~df['BuildingType'].str.contains('Multifamily')) & (~df['PrimaryPropertyType'].str.contains('Multifamily'))]\n",
    "df.shape\n"
   ]
  },
  {
   "cell_type": "code",
   "execution_count": 46,
   "metadata": {},
   "outputs": [
    {
     "data": {
      "text/plain": [
       "array([  1.,   3.,   0.,   2.,   4.,  27.,   6.,  11.,  14.,   9.,   7.,\n",
       "         5.,   8.,  23.,  10., 111.])"
      ]
     },
     "execution_count": 46,
     "metadata": {},
     "output_type": "execute_result"
    }
   ],
   "source": [
    "df['NumberofBuildings'].unique()"
   ]
  },
  {
   "cell_type": "code",
   "execution_count": 14,
   "metadata": {},
   "outputs": [
    {
     "data": {
      "text/html": [
       "<div>\n",
       "<style scoped>\n",
       "    .dataframe tbody tr th:only-of-type {\n",
       "        vertical-align: middle;\n",
       "    }\n",
       "\n",
       "    .dataframe tbody tr th {\n",
       "        vertical-align: top;\n",
       "    }\n",
       "\n",
       "    .dataframe thead th {\n",
       "        text-align: right;\n",
       "    }\n",
       "</style>\n",
       "<table border=\"1\" class=\"dataframe\">\n",
       "  <thead>\n",
       "    <tr style=\"text-align: right;\">\n",
       "      <th></th>\n",
       "      <th>OSEBuildingID</th>\n",
       "      <th>DataYear</th>\n",
       "      <th>BuildingType</th>\n",
       "      <th>PrimaryPropertyType</th>\n",
       "      <th>PropertyName</th>\n",
       "      <th>Address</th>\n",
       "      <th>City</th>\n",
       "      <th>State</th>\n",
       "      <th>ZipCode</th>\n",
       "      <th>TaxParcelIdentificationNumber</th>\n",
       "      <th>...</th>\n",
       "      <th>Electricity(kWh)</th>\n",
       "      <th>Electricity(kBtu)</th>\n",
       "      <th>NaturalGas(therms)</th>\n",
       "      <th>NaturalGas(kBtu)</th>\n",
       "      <th>DefaultData</th>\n",
       "      <th>Comments</th>\n",
       "      <th>ComplianceStatus</th>\n",
       "      <th>Outlier</th>\n",
       "      <th>TotalGHGEmissions</th>\n",
       "      <th>GHGEmissionsIntensity</th>\n",
       "    </tr>\n",
       "  </thead>\n",
       "  <tbody>\n",
       "    <tr>\n",
       "      <th>0</th>\n",
       "      <td>1</td>\n",
       "      <td>2016</td>\n",
       "      <td>NonResidential</td>\n",
       "      <td>Hotel</td>\n",
       "      <td>Mayflower park hotel</td>\n",
       "      <td>405 Olive way</td>\n",
       "      <td>Seattle</td>\n",
       "      <td>WA</td>\n",
       "      <td>98101.0</td>\n",
       "      <td>0659000030</td>\n",
       "      <td>...</td>\n",
       "      <td>1.156514e+06</td>\n",
       "      <td>3946027.0</td>\n",
       "      <td>12764.52930</td>\n",
       "      <td>1276453.0</td>\n",
       "      <td>False</td>\n",
       "      <td>NaN</td>\n",
       "      <td>Compliant</td>\n",
       "      <td>NaN</td>\n",
       "      <td>249.98</td>\n",
       "      <td>2.83</td>\n",
       "    </tr>\n",
       "    <tr>\n",
       "      <th>1</th>\n",
       "      <td>2</td>\n",
       "      <td>2016</td>\n",
       "      <td>NonResidential</td>\n",
       "      <td>Hotel</td>\n",
       "      <td>Paramount Hotel</td>\n",
       "      <td>724 Pine street</td>\n",
       "      <td>Seattle</td>\n",
       "      <td>WA</td>\n",
       "      <td>98101.0</td>\n",
       "      <td>0659000220</td>\n",
       "      <td>...</td>\n",
       "      <td>9.504252e+05</td>\n",
       "      <td>3242851.0</td>\n",
       "      <td>51450.81641</td>\n",
       "      <td>5145082.0</td>\n",
       "      <td>False</td>\n",
       "      <td>NaN</td>\n",
       "      <td>Compliant</td>\n",
       "      <td>NaN</td>\n",
       "      <td>295.86</td>\n",
       "      <td>2.86</td>\n",
       "    </tr>\n",
       "    <tr>\n",
       "      <th>2</th>\n",
       "      <td>3</td>\n",
       "      <td>2016</td>\n",
       "      <td>NonResidential</td>\n",
       "      <td>Hotel</td>\n",
       "      <td>5673-The Westin Seattle</td>\n",
       "      <td>1900 5th Avenue</td>\n",
       "      <td>Seattle</td>\n",
       "      <td>WA</td>\n",
       "      <td>98101.0</td>\n",
       "      <td>0659000475</td>\n",
       "      <td>...</td>\n",
       "      <td>1.451544e+07</td>\n",
       "      <td>49526664.0</td>\n",
       "      <td>14938.00000</td>\n",
       "      <td>1493800.0</td>\n",
       "      <td>False</td>\n",
       "      <td>NaN</td>\n",
       "      <td>Compliant</td>\n",
       "      <td>NaN</td>\n",
       "      <td>2089.28</td>\n",
       "      <td>2.19</td>\n",
       "    </tr>\n",
       "    <tr>\n",
       "      <th>3</th>\n",
       "      <td>5</td>\n",
       "      <td>2016</td>\n",
       "      <td>NonResidential</td>\n",
       "      <td>Hotel</td>\n",
       "      <td>HOTEL MAX</td>\n",
       "      <td>620 STEWART ST</td>\n",
       "      <td>Seattle</td>\n",
       "      <td>WA</td>\n",
       "      <td>98101.0</td>\n",
       "      <td>0659000640</td>\n",
       "      <td>...</td>\n",
       "      <td>8.115253e+05</td>\n",
       "      <td>2768924.0</td>\n",
       "      <td>18112.13086</td>\n",
       "      <td>1811213.0</td>\n",
       "      <td>False</td>\n",
       "      <td>NaN</td>\n",
       "      <td>Compliant</td>\n",
       "      <td>NaN</td>\n",
       "      <td>286.43</td>\n",
       "      <td>4.67</td>\n",
       "    </tr>\n",
       "    <tr>\n",
       "      <th>4</th>\n",
       "      <td>8</td>\n",
       "      <td>2016</td>\n",
       "      <td>NonResidential</td>\n",
       "      <td>Hotel</td>\n",
       "      <td>WARWICK SEATTLE HOTEL (ID8)</td>\n",
       "      <td>401 LENORA ST</td>\n",
       "      <td>Seattle</td>\n",
       "      <td>WA</td>\n",
       "      <td>98121.0</td>\n",
       "      <td>0659000970</td>\n",
       "      <td>...</td>\n",
       "      <td>1.573449e+06</td>\n",
       "      <td>5368607.0</td>\n",
       "      <td>88039.98438</td>\n",
       "      <td>8803998.0</td>\n",
       "      <td>False</td>\n",
       "      <td>NaN</td>\n",
       "      <td>Compliant</td>\n",
       "      <td>NaN</td>\n",
       "      <td>505.01</td>\n",
       "      <td>2.88</td>\n",
       "    </tr>\n",
       "  </tbody>\n",
       "</table>\n",
       "<p>5 rows × 46 columns</p>\n",
       "</div>"
      ],
      "text/plain": [
       "   OSEBuildingID  DataYear    BuildingType PrimaryPropertyType  \\\n",
       "0              1      2016  NonResidential               Hotel   \n",
       "1              2      2016  NonResidential               Hotel   \n",
       "2              3      2016  NonResidential               Hotel   \n",
       "3              5      2016  NonResidential               Hotel   \n",
       "4              8      2016  NonResidential               Hotel   \n",
       "\n",
       "                  PropertyName          Address     City State  ZipCode  \\\n",
       "0         Mayflower park hotel    405 Olive way  Seattle    WA  98101.0   \n",
       "1              Paramount Hotel  724 Pine street  Seattle    WA  98101.0   \n",
       "2      5673-The Westin Seattle  1900 5th Avenue  Seattle    WA  98101.0   \n",
       "3                    HOTEL MAX   620 STEWART ST  Seattle    WA  98101.0   \n",
       "4  WARWICK SEATTLE HOTEL (ID8)    401 LENORA ST  Seattle    WA  98121.0   \n",
       "\n",
       "  TaxParcelIdentificationNumber  ...  Electricity(kWh) Electricity(kBtu)  \\\n",
       "0                    0659000030  ...      1.156514e+06         3946027.0   \n",
       "1                    0659000220  ...      9.504252e+05         3242851.0   \n",
       "2                    0659000475  ...      1.451544e+07        49526664.0   \n",
       "3                    0659000640  ...      8.115253e+05         2768924.0   \n",
       "4                    0659000970  ...      1.573449e+06         5368607.0   \n",
       "\n",
       "   NaturalGas(therms)  NaturalGas(kBtu)  DefaultData  Comments  \\\n",
       "0         12764.52930         1276453.0        False       NaN   \n",
       "1         51450.81641         5145082.0        False       NaN   \n",
       "2         14938.00000         1493800.0        False       NaN   \n",
       "3         18112.13086         1811213.0        False       NaN   \n",
       "4         88039.98438         8803998.0        False       NaN   \n",
       "\n",
       "   ComplianceStatus  Outlier  TotalGHGEmissions  GHGEmissionsIntensity  \n",
       "0         Compliant      NaN             249.98                   2.83  \n",
       "1         Compliant      NaN             295.86                   2.86  \n",
       "2         Compliant      NaN            2089.28                   2.19  \n",
       "3         Compliant      NaN             286.43                   4.67  \n",
       "4         Compliant      NaN             505.01                   2.88  \n",
       "\n",
       "[5 rows x 46 columns]"
      ]
     },
     "execution_count": 14,
     "metadata": {},
     "output_type": "execute_result"
    }
   ],
   "source": [
    "df.head()"
   ]
  },
  {
   "cell_type": "code",
   "execution_count": 15,
   "metadata": {},
   "outputs": [
    {
     "data": {
      "text/html": [
       "<div>\n",
       "<style scoped>\n",
       "    .dataframe tbody tr th:only-of-type {\n",
       "        vertical-align: middle;\n",
       "    }\n",
       "\n",
       "    .dataframe tbody tr th {\n",
       "        vertical-align: top;\n",
       "    }\n",
       "\n",
       "    .dataframe thead th {\n",
       "        text-align: right;\n",
       "    }\n",
       "</style>\n",
       "<table border=\"1\" class=\"dataframe\">\n",
       "  <thead>\n",
       "    <tr style=\"text-align: right;\">\n",
       "      <th></th>\n",
       "      <th>OSEBuildingID</th>\n",
       "      <th>DataYear</th>\n",
       "      <th>BuildingType</th>\n",
       "      <th>PrimaryPropertyType</th>\n",
       "      <th>PropertyName</th>\n",
       "      <th>Address</th>\n",
       "      <th>City</th>\n",
       "      <th>State</th>\n",
       "      <th>ZipCode</th>\n",
       "      <th>TaxParcelIdentificationNumber</th>\n",
       "      <th>...</th>\n",
       "      <th>Electricity(kWh)</th>\n",
       "      <th>Electricity(kBtu)</th>\n",
       "      <th>NaturalGas(therms)</th>\n",
       "      <th>NaturalGas(kBtu)</th>\n",
       "      <th>DefaultData</th>\n",
       "      <th>Comments</th>\n",
       "      <th>ComplianceStatus</th>\n",
       "      <th>Outlier</th>\n",
       "      <th>TotalGHGEmissions</th>\n",
       "      <th>GHGEmissionsIntensity</th>\n",
       "    </tr>\n",
       "  </thead>\n",
       "  <tbody>\n",
       "  </tbody>\n",
       "</table>\n",
       "<p>0 rows × 46 columns</p>\n",
       "</div>"
      ],
      "text/plain": [
       "Empty DataFrame\n",
       "Columns: [OSEBuildingID, DataYear, BuildingType, PrimaryPropertyType, PropertyName, Address, City, State, ZipCode, TaxParcelIdentificationNumber, CouncilDistrictCode, Neighborhood, Latitude, Longitude, YearBuilt, NumberofBuildings, NumberofFloors, PropertyGFATotal, PropertyGFAParking, PropertyGFABuilding(s), ListOfAllPropertyUseTypes, LargestPropertyUseType, LargestPropertyUseTypeGFA, SecondLargestPropertyUseType, SecondLargestPropertyUseTypeGFA, ThirdLargestPropertyUseType, ThirdLargestPropertyUseTypeGFA, YearsENERGYSTARCertified, ENERGYSTARScore, SiteEUI(kBtu/sf), SiteEUIWN(kBtu/sf), SourceEUI(kBtu/sf), SourceEUIWN(kBtu/sf), SiteEnergyUse(kBtu), SiteEnergyUseWN(kBtu), SteamUse(kBtu), Electricity(kWh), Electricity(kBtu), NaturalGas(therms), NaturalGas(kBtu), DefaultData, Comments, ComplianceStatus, Outlier, TotalGHGEmissions, GHGEmissionsIntensity]\n",
       "Index: []\n",
       "\n",
       "[0 rows x 46 columns]"
      ]
     },
     "execution_count": 15,
     "metadata": {},
     "output_type": "execute_result"
    }
   ],
   "source": [
    "## recherche de doublons\n",
    "df['OSEBuildingID']=df['OSEBuildingID'].astype(str)\n",
    "df['Latitude']=df['Latitude'].astype(str)\n",
    "df['Longitude']=df['Longitude'].astype(str)\n",
    "\n",
    "duplicate = df[df.duplicated('OSEBuildingID')]\n",
    "duplicate ## aucun doublon\n"
   ]
  },
  {
   "cell_type": "markdown",
   "metadata": {},
   "source": [
    "# Partie 1 nettoyage des colonnes"
   ]
  },
  {
   "cell_type": "markdown",
   "metadata": {},
   "source": [
    "### 1-1 <u>Suppression des colonnes avec taux de complétion inférieur à 50%</u>"
   ]
  },
  {
   "cell_type": "code",
   "execution_count": 47,
   "metadata": {},
   "outputs": [
    {
     "data": {
      "text/html": [
       "<div>\n",
       "<style scoped>\n",
       "    .dataframe tbody tr th:only-of-type {\n",
       "        vertical-align: middle;\n",
       "    }\n",
       "\n",
       "    .dataframe tbody tr th {\n",
       "        vertical-align: top;\n",
       "    }\n",
       "\n",
       "    .dataframe thead th {\n",
       "        text-align: right;\n",
       "    }\n",
       "</style>\n",
       "<table border=\"1\" class=\"dataframe\">\n",
       "  <thead>\n",
       "    <tr style=\"text-align: right;\">\n",
       "      <th></th>\n",
       "      <th>Column</th>\n",
       "      <th>na_rate_percent</th>\n",
       "    </tr>\n",
       "  </thead>\n",
       "  <tbody>\n",
       "    <tr>\n",
       "      <th>0</th>\n",
       "      <td>Outlier</td>\n",
       "      <td>100.000000</td>\n",
       "    </tr>\n",
       "    <tr>\n",
       "      <th>1</th>\n",
       "      <td>Comments</td>\n",
       "      <td>100.000000</td>\n",
       "    </tr>\n",
       "    <tr>\n",
       "      <th>2</th>\n",
       "      <td>YearsENERGYSTARCertified</td>\n",
       "      <td>93.725744</td>\n",
       "    </tr>\n",
       "    <tr>\n",
       "      <th>3</th>\n",
       "      <td>ThirdLargestPropertyUseType</td>\n",
       "      <td>77.554981</td>\n",
       "    </tr>\n",
       "    <tr>\n",
       "      <th>4</th>\n",
       "      <td>ThirdLargestPropertyUseTypeGFA</td>\n",
       "      <td>77.554981</td>\n",
       "    </tr>\n",
       "  </tbody>\n",
       "</table>\n",
       "</div>"
      ],
      "text/plain": [
       "                           Column  na_rate_percent\n",
       "0                         Outlier       100.000000\n",
       "1                        Comments       100.000000\n",
       "2        YearsENERGYSTARCertified        93.725744\n",
       "3     ThirdLargestPropertyUseType        77.554981\n",
       "4  ThirdLargestPropertyUseTypeGFA        77.554981"
      ]
     },
     "execution_count": 47,
     "metadata": {},
     "output_type": "execute_result"
    }
   ],
   "source": [
    "## variables comportant plus de 50% de valeurs manquantes\n",
    "na_df=utils.columns_na_percentage(df)\n",
    "na_columns=na_df[na_df['na_rate_percent']>=50] ## 7 colonnes ont plus de 50% de valeurs nulles\n",
    "na_columns"
   ]
  },
  {
   "cell_type": "code",
   "execution_count": 347,
   "metadata": {},
   "outputs": [
    {
     "data": {
      "image/png": "[encoded data removed]",
      "text/plain": [
       "<Figure size 1440x720 with 1 Axes>"
      ]
     },
     "metadata": {
      "needs_background": "light"
     },
     "output_type": "display_data"
    }
   ],
   "source": [
    "utils.draw_completion(df,12)"
   ]
  },
  {
   "cell_type": "code",
   "execution_count": 48,
   "metadata": {},
   "outputs": [
    {
     "data": {
      "text/plain": [
       "(1546, 41)"
      ]
     },
     "execution_count": 48,
     "metadata": {},
     "output_type": "execute_result"
    }
   ],
   "source": [
    "## suppression des colonnes ayant plus 50% de valeurs nulles\n",
    "df.drop(columns=na_columns['Column'].tolist(),axis=1,inplace=True)\n",
    "df.shape"
   ]
  },
  {
   "cell_type": "markdown",
   "metadata": {},
   "source": [
    "### 1-2 <u>Sélection des variables qualitatives</u>"
   ]
  },
  {
   "cell_type": "code",
   "execution_count": 49,
   "metadata": {},
   "outputs": [
    {
     "data": {
      "text/plain": [
       "BuildingType                      0.000000\n",
       "PrimaryPropertyType               0.000000\n",
       "PropertyName                      0.000000\n",
       "Address                           0.000000\n",
       "City                              0.000000\n",
       "State                             0.000000\n",
       "TaxParcelIdentificationNumber     0.000000\n",
       "Neighborhood                      0.000000\n",
       "ListOfAllPropertyUseTypes         0.000000\n",
       "LargestPropertyUseType            0.258732\n",
       "SecondLargestPropertyUseType     45.601552\n",
       "ComplianceStatus                  0.000000\n",
       "dtype: float64"
      ]
     },
     "execution_count": 49,
     "metadata": {},
     "output_type": "execute_result"
    }
   ],
   "source": [
    "numeric_columns=df.select_dtypes(exclude=['object']).columns.tolist()\n",
    "categorical_columns=df.select_dtypes(include=['object']).columns.tolist()\n",
    "df[categorical_columns].isnull().sum()/len(df)*100"
   ]
  },
  {
   "cell_type": "code",
   "execution_count": 6,
   "metadata": {},
   "outputs": [
    {
     "data": {
      "text/plain": [
       "array(['Seattle'], dtype=object)"
      ]
     },
     "execution_count": 6,
     "metadata": {},
     "output_type": "execute_result"
    }
   ],
   "source": [
    "df['TaxParcelIdentificationNumber'].unique()"
   ]
  },
  {
   "cell_type": "code",
   "execution_count": 11,
   "metadata": {},
   "outputs": [
    {
     "data": {
      "image/png": "[encoded data removed]",
      "text/plain": [
       "<Figure size 1440x720 with 2 Axes>"
      ]
     },
     "metadata": {
      "needs_background": "light"
     },
     "output_type": "display_data"
    }
   ],
   "source": [
    "df['lat'] = df['Latitude'].astype(float)\n",
    "df['lng'] = df['Longitude'].astype(float)\n",
    "df.plot(kind=\"scatter\", x=\"lat\", y=\"lng\", \n",
    "            s=df['TotalGHGEmissions'], label=\"TotalGHGEmissions\",\n",
    "            c=\"SiteEUI(kBtu/sf)\", cmap=plt.get_cmap(\"jet\"), colorbar=True,\n",
    "            figsize=(20,10))\n",
    "plt.show()"
   ]
  },
  {
   "cell_type": "code",
   "execution_count": 351,
   "metadata": {},
   "outputs": [
    {
     "data": {
      "image/png": "[encoded data removed]",
      "text/plain": [
       "<Figure size 1440x720 with 2 Axes>"
      ]
     },
     "metadata": {
      "needs_background": "light"
     },
     "output_type": "display_data"
    }
   ],
   "source": [
    "df.plot(kind=\"scatter\", x=\"lat\", y=\"lng\", alpha=0.4,\n",
    "            s=df[\"SiteEUI(kBtu/sf)\"], label=\"SiteEUI(kBtu/sf)\",\n",
    "            c=\"SiteEUI(kBtu/sf)\", cmap=plt.get_cmap(\"jet\"), colorbar=True,\n",
    "            figsize=(20,10))\n",
    "plt.show()"
   ]
  },
  {
   "cell_type": "code",
   "execution_count": 50,
   "metadata": {},
   "outputs": [],
   "source": [
    "relevant_categorical_columns=[\n",
    "    'OSEBuildingID',\n",
    "    'BuildingType',\n",
    "    'PrimaryPropertyType',\n",
    "    'PropertyName',\n",
    "    'Neighborhood'\n",
    "    \n",
    "]"
   ]
  },
  {
   "cell_type": "markdown",
   "metadata": {},
   "source": [
    "### 1-3 <u>Sélection des variables quantitatives</u>"
   ]
  },
  {
   "cell_type": "code",
   "execution_count": 353,
   "metadata": {},
   "outputs": [
    {
     "data": {
      "text/plain": [
       "DataYear                            0.000000\n",
       "ZipCode                             0.840880\n",
       "CouncilDistrictCode                 0.000000\n",
       "YearBuilt                           0.000000\n",
       "NumberofBuildings                   0.000000\n",
       "NumberofFloors                      0.000000\n",
       "PropertyGFATotal                    0.000000\n",
       "PropertyGFAParking                  0.000000\n",
       "PropertyGFABuilding(s)              0.000000\n",
       "LargestPropertyUseTypeGFA           0.258732\n",
       "SecondLargestPropertyUseTypeGFA    45.601552\n",
       "ENERGYSTARScore                    35.575679\n",
       "SiteEUI(kBtu/sf)                    0.000000\n",
       "SiteEUIWN(kBtu/sf)                  0.064683\n",
       "SourceEUI(kBtu/sf)                  0.000000\n",
       "SourceEUIWN(kBtu/sf)                0.000000\n",
       "SiteEnergyUse(kBtu)                 0.000000\n",
       "SiteEnergyUseWN(kBtu)               0.064683\n",
       "SteamUse(kBtu)                      0.000000\n",
       "Electricity(kWh)                    0.000000\n",
       "Electricity(kBtu)                   0.000000\n",
       "NaturalGas(therms)                  0.000000\n",
       "NaturalGas(kBtu)                    0.000000\n",
       "DefaultData                         0.000000\n",
       "TotalGHGEmissions                   0.000000\n",
       "GHGEmissionsIntensity               0.000000\n",
       "lat                                 0.000000\n",
       "lng                                 0.000000\n",
       "dtype: float64"
      ]
     },
     "execution_count": 353,
     "metadata": {},
     "output_type": "execute_result"
    }
   ],
   "source": [
    "numeric_columns=df.select_dtypes(exclude=['object']).columns.tolist()\n",
    "df[numeric_columns].isnull().sum()/len(df)*100"
   ]
  },
  {
   "cell_type": "code",
   "execution_count": 51,
   "metadata": {},
   "outputs": [],
   "source": [
    "relevant_numeric_columns=[\n",
    "    'GHGEmissionsIntensity',\n",
    "    'TotalGHGEmissions',\n",
    "    'NaturalGas(kBtu)',\n",
    "    'Electricity(kBtu)',\n",
    "    'SteamUse(kBtu)',\n",
    "    'SiteEnergyUse(kBtu)',\n",
    "    'SourceEUI(kBtu/sf)',\n",
    "   \n",
    "    'ENERGYSTARScore',\n",
    "   'PropertyGFATotal',\n",
    "    'NumberofFloors',\n",
    "    'NumberofBuildings',\n",
    "    'YearBuilt'\n",
    "]\n",
    " "
   ]
  },
  {
   "cell_type": "code",
   "execution_count": 52,
   "metadata": {},
   "outputs": [
    {
     "data": {
      "text/plain": [
       "(1546, 17)"
      ]
     },
     "execution_count": 52,
     "metadata": {},
     "output_type": "execute_result"
    }
   ],
   "source": [
    "df=df[relevant_categorical_columns+relevant_numeric_columns]\n",
    "df.shape"
   ]
  },
  {
   "cell_type": "markdown",
   "metadata": {},
   "source": [
    "# Partie 2 nettoyage des lignes"
   ]
  },
  {
   "cell_type": "code",
   "execution_count": 53,
   "metadata": {},
   "outputs": [
    {
     "name": "stdout",
     "output_type": "stream",
     "text": [
      "columns with negative values ['GHGEmissionsIntensity', 'TotalGHGEmissions', 'Electricity(kBtu)']\n"
     ]
    },
    {
     "data": {
      "text/plain": [
       "(1545, 17)"
      ]
     },
     "execution_count": 53,
     "metadata": {},
     "output_type": "execute_result"
    }
   ],
   "source": [
    "## identification et suppression des valeurs numériques négatives sauf pour les colonnes latitude et longitude\n",
    "negative_cols=[]\n",
    "\n",
    "for col in relevant_numeric_columns:\n",
    "    if len(df[df[col]<0])>0:\n",
    "        negative_cols.append(col)\n",
    "\n",
    "print('columns with negative values',negative_cols)\n",
    "for col in negative_cols:\n",
    "    df.drop(index=df.loc[df[col]<0,col].index,inplace=True)\n",
    "\n",
    "df.shape"
   ]
  },
  {
   "cell_type": "markdown",
   "metadata": {},
   "source": [
    "# Partie 3 analyse de la multicolinéarité des variables quantitatives"
   ]
  },
  {
   "cell_type": "markdown",
   "metadata": {},
   "source": [
    "## 3-1 matrice de corrélation"
   ]
  },
  {
   "cell_type": "code",
   "execution_count": 54,
   "metadata": {},
   "outputs": [
    {
     "data": {
      "image/png": "[encoded data removed]",
      "text/plain": [
       "<Figure size 1008x1008 with 2 Axes>"
      ]
     },
     "metadata": {
      "needs_background": "light"
     },
     "output_type": "display_data"
    }
   ],
   "source": [
    "cols=[item for item in relevant_numeric_columns if item!='YearBuilt']\n",
    "utils.show_correlation_matrix(df,cols)"
   ]
  },
  {
   "cell_type": "code",
   "execution_count": 358,
   "metadata": {},
   "outputs": [
    {
     "name": "stdout",
     "output_type": "stream",
     "text": [
      "Electricity(kBtu)      SiteEnergyUse(kBtu)    0.956264\n",
      "                       PropertyGFATotal       0.868560\n",
      "TotalGHGEmissions      SiteEnergyUse(kBtu)    0.860011\n",
      "SiteEnergyUse(kBtu)    PropertyGFATotal       0.809619\n",
      "Electricity(kBtu)      NumberofBuildings      0.759651\n",
      "PropertyGFATotal       NumberofBuildings      0.740139\n",
      "TotalGHGEmissions      NaturalGas(kBtu)       0.725563\n",
      "SiteEnergyUse(kBtu)    NumberofBuildings      0.714177\n",
      "TotalGHGEmissions      Electricity(kBtu)      0.686515\n",
      "                       SteamUse(kBtu)         0.684055\n",
      "SteamUse(kBtu)         SiteEnergyUse(kBtu)    0.605255\n",
      "Electricity(kBtu)      SteamUse(kBtu)         0.548153\n",
      "TotalGHGEmissions      PropertyGFATotal       0.527081\n",
      "GHGEmissionsIntensity  SourceEUI(kBtu/sf)     0.512910\n",
      "NaturalGas(kBtu)       SiteEnergyUse(kBtu)    0.503097\n",
      "dtype: float64\n"
     ]
    }
   ],
   "source": [
    "utils.corr_matrix(df,relevant_numeric_columns,0.5) ##threshold"
   ]
  },
  {
   "cell_type": "code",
   "execution_count": 55,
   "metadata": {},
   "outputs": [],
   "source": [
    "numeric_col_to_remove=['Electricity(kBtu)','SourceEUI(kBtu/sf)']\n",
    "\n",
    "for col in numeric_col_to_remove:\n",
    "    relevant_numeric_columns.remove(col)"
   ]
  },
  {
   "cell_type": "code",
   "execution_count": 56,
   "metadata": {},
   "outputs": [
    {
     "data": {
      "text/plain": [
       "(1545, 15)"
      ]
     },
     "execution_count": 56,
     "metadata": {},
     "output_type": "execute_result"
    }
   ],
   "source": [
    "df=df[relevant_categorical_columns+relevant_numeric_columns]\n",
    "df.shape"
   ]
  },
  {
   "cell_type": "code",
   "execution_count": 57,
   "metadata": {},
   "outputs": [
    {
     "data": {
      "text/plain": [
       "array([  1.,   3.,   0.,   2.,   4.,  27.,   6.,  11.,  14.,   9.,   7.,\n",
       "         5.,   8.,  23.,  10., 111.])"
      ]
     },
     "execution_count": 57,
     "metadata": {},
     "output_type": "execute_result"
    }
   ],
   "source": [
    "df['NumberofBuildings'].unique()"
   ]
  },
  {
   "cell_type": "markdown",
   "metadata": {},
   "source": [
    "# Partie 4 Identification des valeurs aberrantes par IQR"
   ]
  },
  {
   "cell_type": "code",
   "execution_count": 361,
   "metadata": {},
   "outputs": [
    {
     "data": {
      "image/png": "[encoded data removed]",
      "text/plain": [
       "<Figure size 1440x720 with 1 Axes>"
      ]
     },
     "metadata": {
      "needs_background": "light"
     },
     "output_type": "display_data"
    }
   ],
   "source": [
    "\n",
    "#df[numeric_columns_2].describe()\n",
    "\n",
    "## afin de détecter d'éventuelles valeurs aberrantes, \n",
    "## nous traçons les boxplot pour  chaque variable nutnumérique\n",
    "\n",
    "## boxplot\n",
    "from matplotlib import rcParams\n",
    "\n",
    "rcParams['figure.figsize'] = 20,10\n",
    "g=sns.boxplot(data=df[[item for item in relevant_numeric_columns if item!='YearBuilt']])\n",
    "g.set_yscale(\"log\")\n",
    "\n",
    "## présence de plusieurs valeurs aberrantes "
   ]
  },
  {
   "cell_type": "code",
   "execution_count": null,
   "metadata": {},
   "outputs": [
    {
     "name": "stdout",
     "output_type": "stream",
     "text": [
      "relevant_cols_iqr ['GHGEmissionsIntensity', 'TotalGHGEmissions', 'NaturalGas(kBtu)', 'SteamUse(kBtu)', 'SiteEnergyUse(kBtu)', 'ENERGYSTARScore', 'PropertyGFATotal', 'NumberofFloors', 'NumberofBuildings']\n"
     ]
    }
   ],
   "source": [
    "\n",
    "outliers=[]\n",
    "group_by_col='BuildingType'\n",
    "name='OSEBuildingID'\n",
    "relevant_cols_iqr=[item for item in relevant_numeric_columns if item!='YearBuilt' and item!=group_by_col]\n",
    "\n",
    "print('relevant_cols_iqr',relevant_cols_iqr)\n",
    "for category in df[group_by_col].unique():\n",
    "    for col in relevant_cols_iqr:\n",
    "        data=df[df[group_by_col]==category][[col,name,group_by_col]]\n",
    "        if len(data)>0:\n",
    "            outliers+=outliers+utils.find_outliers(df,col,name)\n",
    "        \n",
    "        \n",
    "        \n",
    "print(len(outliers)) ## si on se réfère au type de batiment non résidentiel , il y a 6720 valeurs aberrantes"
   ]
  },
  {
   "cell_type": "code",
   "execution_count": 61,
   "metadata": {},
   "outputs": [
    {
     "ename": "IndexError",
     "evalue": "list index out of range",
     "output_type": "error",
     "traceback": [
      "\u001b[0;31m---------------------------------------------------------------------------\u001b[0m",
      "\u001b[0;31mIndexError\u001b[0m                                Traceback (most recent call last)",
      "\u001b[0;32m<ipython-input-61-4bf5d6bae590>\u001b[0m in \u001b[0;36m<module>\u001b[0;34m\u001b[0m\n\u001b[1;32m      1\u001b[0m \u001b[0;32mimport\u001b[0m \u001b[0mcollections\u001b[0m\u001b[0;34m\u001b[0m\u001b[0;34m\u001b[0m\u001b[0m\n\u001b[0;32m----> 2\u001b[0;31m \u001b[0moutliers_names\u001b[0m\u001b[0;34m=\u001b[0m\u001b[0mlist\u001b[0m\u001b[0;34m(\u001b[0m\u001b[0mmap\u001b[0m\u001b[0;34m(\u001b[0m\u001b[0;32mlambda\u001b[0m \u001b[0mx\u001b[0m\u001b[0;34m:\u001b[0m \u001b[0mx\u001b[0m\u001b[0;34m[\u001b[0m\u001b[0;36m0\u001b[0m\u001b[0;34m]\u001b[0m\u001b[0;34m,\u001b[0m\u001b[0moutliers\u001b[0m\u001b[0;34m)\u001b[0m\u001b[0;34m)\u001b[0m\u001b[0;34m\u001b[0m\u001b[0;34m\u001b[0m\u001b[0m\n\u001b[0m\u001b[1;32m      3\u001b[0m \u001b[0;34m\u001b[0m\u001b[0m\n\u001b[1;32m      4\u001b[0m \u001b[0mprint\u001b[0m\u001b[0;34m(\u001b[0m\u001b[0;34m'len first '\u001b[0m\u001b[0;34m,\u001b[0m\u001b[0mlen\u001b[0m\u001b[0;34m(\u001b[0m\u001b[0moutliers_names\u001b[0m\u001b[0;34m)\u001b[0m\u001b[0;34m)\u001b[0m \u001b[0;31m##84956\u001b[0m\u001b[0;34m\u001b[0m\u001b[0;34m\u001b[0m\u001b[0m\n\u001b[1;32m      5\u001b[0m \u001b[0mduplicates\u001b[0m\u001b[0;34m=\u001b[0m\u001b[0;34m[\u001b[0m\u001b[0mitem\u001b[0m \u001b[0;32mfor\u001b[0m \u001b[0mitem\u001b[0m\u001b[0;34m,\u001b[0m \u001b[0mcount\u001b[0m \u001b[0;32min\u001b[0m \u001b[0mcollections\u001b[0m\u001b[0;34m.\u001b[0m\u001b[0mCounter\u001b[0m\u001b[0;34m(\u001b[0m\u001b[0moutliers_names\u001b[0m\u001b[0;34m)\u001b[0m\u001b[0;34m.\u001b[0m\u001b[0mitems\u001b[0m\u001b[0;34m(\u001b[0m\u001b[0;34m)\u001b[0m \u001b[0;32mif\u001b[0m \u001b[0mcount\u001b[0m \u001b[0;34m>\u001b[0m \u001b[0;36m1\u001b[0m\u001b[0;34m]\u001b[0m\u001b[0;34m\u001b[0m\u001b[0;34m\u001b[0m\u001b[0m\n",
      "\u001b[0;32m<ipython-input-61-4bf5d6bae590>\u001b[0m in \u001b[0;36m<lambda>\u001b[0;34m(x)\u001b[0m\n\u001b[1;32m      1\u001b[0m \u001b[0;32mimport\u001b[0m \u001b[0mcollections\u001b[0m\u001b[0;34m\u001b[0m\u001b[0;34m\u001b[0m\u001b[0m\n\u001b[0;32m----> 2\u001b[0;31m \u001b[0moutliers_names\u001b[0m\u001b[0;34m=\u001b[0m\u001b[0mlist\u001b[0m\u001b[0;34m(\u001b[0m\u001b[0mmap\u001b[0m\u001b[0;34m(\u001b[0m\u001b[0;32mlambda\u001b[0m \u001b[0mx\u001b[0m\u001b[0;34m:\u001b[0m \u001b[0mx\u001b[0m\u001b[0;34m[\u001b[0m\u001b[0;36m0\u001b[0m\u001b[0;34m]\u001b[0m\u001b[0;34m,\u001b[0m\u001b[0moutliers\u001b[0m\u001b[0;34m)\u001b[0m\u001b[0;34m)\u001b[0m\u001b[0;34m\u001b[0m\u001b[0;34m\u001b[0m\u001b[0m\n\u001b[0m\u001b[1;32m      3\u001b[0m \u001b[0;34m\u001b[0m\u001b[0m\n\u001b[1;32m      4\u001b[0m \u001b[0mprint\u001b[0m\u001b[0;34m(\u001b[0m\u001b[0;34m'len first '\u001b[0m\u001b[0;34m,\u001b[0m\u001b[0mlen\u001b[0m\u001b[0;34m(\u001b[0m\u001b[0moutliers_names\u001b[0m\u001b[0;34m)\u001b[0m\u001b[0;34m)\u001b[0m \u001b[0;31m##84956\u001b[0m\u001b[0;34m\u001b[0m\u001b[0;34m\u001b[0m\u001b[0m\n\u001b[1;32m      5\u001b[0m \u001b[0mduplicates\u001b[0m\u001b[0;34m=\u001b[0m\u001b[0;34m[\u001b[0m\u001b[0mitem\u001b[0m \u001b[0;32mfor\u001b[0m \u001b[0mitem\u001b[0m\u001b[0;34m,\u001b[0m \u001b[0mcount\u001b[0m \u001b[0;32min\u001b[0m \u001b[0mcollections\u001b[0m\u001b[0;34m.\u001b[0m\u001b[0mCounter\u001b[0m\u001b[0;34m(\u001b[0m\u001b[0moutliers_names\u001b[0m\u001b[0;34m)\u001b[0m\u001b[0;34m.\u001b[0m\u001b[0mitems\u001b[0m\u001b[0;34m(\u001b[0m\u001b[0;34m)\u001b[0m \u001b[0;32mif\u001b[0m \u001b[0mcount\u001b[0m \u001b[0;34m>\u001b[0m \u001b[0;36m1\u001b[0m\u001b[0;34m]\u001b[0m\u001b[0;34m\u001b[0m\u001b[0;34m\u001b[0m\u001b[0m\n",
      "\u001b[0;31mIndexError\u001b[0m: list index out of range"
     ]
    }
   ],
   "source": [
    "import collections\n",
    "outliers_names=list(map(lambda x: x[0],outliers))\n",
    "\n",
    "print('len first ',len(outliers_names)) ##84956\n",
    "duplicates=[item for item, count in collections.Counter(outliers_names).items() if count > 1] \n",
    "\n",
    "print('duplicates',len(duplicates))\n"
   ]
  },
  {
   "cell_type": "code",
   "execution_count": 32,
   "metadata": {},
   "outputs": [],
   "source": [
    "## création de nouvelles colonnes pour identifier les outliers\n",
    "cols_ouliers=list(map(lambda x:x+'_outliers',relevant_cols_iqr))\n",
    "for col in cols_ouliers:\n",
    "    df[col]=0\n"
   ]
  },
  {
   "cell_type": "code",
   "execution_count": 33,
   "metadata": {},
   "outputs": [],
   "source": [
    "## identification des outliers\n",
    "for i,col in outliers:\n",
    "    building=df[df['OSEBuildingID']==i]\n",
    "    df.loc[building.index,col+'_outliers']=1"
   ]
  },
  {
   "cell_type": "code",
   "execution_count": 35,
   "metadata": {},
   "outputs": [],
   "source": [
    "df.to_csv('data/2016_Building_Energy_Benchmarking_outliers.csv',index=False)"
   ]
  },
  {
   "cell_type": "code",
   "execution_count": 36,
   "metadata": {},
   "outputs": [
    {
     "data": {
      "text/html": [
       "<div>\n",
       "<style scoped>\n",
       "    .dataframe tbody tr th:only-of-type {\n",
       "        vertical-align: middle;\n",
       "    }\n",
       "\n",
       "    .dataframe tbody tr th {\n",
       "        vertical-align: top;\n",
       "    }\n",
       "\n",
       "    .dataframe thead th {\n",
       "        text-align: right;\n",
       "    }\n",
       "</style>\n",
       "<table border=\"1\" class=\"dataframe\">\n",
       "  <thead>\n",
       "    <tr style=\"text-align: right;\">\n",
       "      <th></th>\n",
       "      <th>PropertyName</th>\n",
       "      <th>OSEBuildingID</th>\n",
       "      <th>YearBuilt</th>\n",
       "    </tr>\n",
       "  </thead>\n",
       "  <tbody>\n",
       "    <tr>\n",
       "      <th>0</th>\n",
       "      <td>Mayflower park hotel</td>\n",
       "      <td>1</td>\n",
       "      <td>1927</td>\n",
       "    </tr>\n",
       "    <tr>\n",
       "      <th>1</th>\n",
       "      <td>Paramount Hotel</td>\n",
       "      <td>2</td>\n",
       "      <td>1996</td>\n",
       "    </tr>\n",
       "    <tr>\n",
       "      <th>2</th>\n",
       "      <td>5673-The Westin Seattle</td>\n",
       "      <td>3</td>\n",
       "      <td>1969</td>\n",
       "    </tr>\n",
       "    <tr>\n",
       "      <th>3</th>\n",
       "      <td>HOTEL MAX</td>\n",
       "      <td>5</td>\n",
       "      <td>1926</td>\n",
       "    </tr>\n",
       "    <tr>\n",
       "      <th>4</th>\n",
       "      <td>WARWICK SEATTLE HOTEL (ID8)</td>\n",
       "      <td>8</td>\n",
       "      <td>1980</td>\n",
       "    </tr>\n",
       "    <tr>\n",
       "      <th>...</th>\n",
       "      <td>...</td>\n",
       "      <td>...</td>\n",
       "      <td>...</td>\n",
       "    </tr>\n",
       "    <tr>\n",
       "      <th>3339</th>\n",
       "      <td>Airport - Main Terminal</td>\n",
       "      <td>50069</td>\n",
       "      <td>1929</td>\n",
       "    </tr>\n",
       "    <tr>\n",
       "      <th>3356</th>\n",
       "      <td>AIBS</td>\n",
       "      <td>50094</td>\n",
       "      <td>2015</td>\n",
       "    </tr>\n",
       "    <tr>\n",
       "      <th>3365</th>\n",
       "      <td>Ballard Pool</td>\n",
       "      <td>50208</td>\n",
       "      <td>1972</td>\n",
       "    </tr>\n",
       "    <tr>\n",
       "      <th>3367</th>\n",
       "      <td>Conservatory Campus</td>\n",
       "      <td>50212</td>\n",
       "      <td>1912</td>\n",
       "    </tr>\n",
       "    <tr>\n",
       "      <th>3373</th>\n",
       "      <td>Queen Anne Pool</td>\n",
       "      <td>50224</td>\n",
       "      <td>1974</td>\n",
       "    </tr>\n",
       "  </tbody>\n",
       "</table>\n",
       "<p>505 rows × 3 columns</p>\n",
       "</div>"
      ],
      "text/plain": [
       "                     PropertyName OSEBuildingID  YearBuilt\n",
       "0            Mayflower park hotel             1       1927\n",
       "1                 Paramount Hotel             2       1996\n",
       "2         5673-The Westin Seattle             3       1969\n",
       "3                       HOTEL MAX             5       1926\n",
       "4     WARWICK SEATTLE HOTEL (ID8)             8       1980\n",
       "...                           ...           ...        ...\n",
       "3339      Airport - Main Terminal         50069       1929\n",
       "3356                         AIBS         50094       2015\n",
       "3365                 Ballard Pool         50208       1972\n",
       "3367          Conservatory Campus         50212       1912\n",
       "3373              Queen Anne Pool         50224       1974\n",
       "\n",
       "[505 rows x 3 columns]"
      ]
     },
     "execution_count": 36,
     "metadata": {},
     "output_type": "execute_result"
    }
   ],
   "source": [
    "## identification des 525 batiments ayant des valeurs aberrantes\n",
    "outliers_df=df[df['OSEBuildingID'].isin(outliers_names)][['PropertyName','OSEBuildingID','YearBuilt']] \n",
    "outliers_df"
   ]
  },
  {
   "cell_type": "code",
   "execution_count": 37,
   "metadata": {},
   "outputs": [
    {
     "data": {
      "text/plain": [
       "(1040, 24)"
      ]
     },
     "execution_count": 37,
     "metadata": {},
     "output_type": "execute_result"
    }
   ],
   "source": [
    "## suppression des valeurs aberrantes\n",
    "df.drop(outliers_df.index,inplace=True)\n",
    "df.shape"
   ]
  },
  {
   "cell_type": "code",
   "execution_count": 38,
   "metadata": {},
   "outputs": [
    {
     "ename": "NameError",
     "evalue": "name 'rcParams' is not defined",
     "output_type": "error",
     "traceback": [
      "\u001b[0;31m---------------------------------------------------------------------------\u001b[0m",
      "\u001b[0;31mNameError\u001b[0m                                 Traceback (most recent call last)",
      "\u001b[0;32m<ipython-input-38-5d60b9585e63>\u001b[0m in \u001b[0;36m<module>\u001b[0;34m\u001b[0m\n\u001b[0;32m----> 1\u001b[0;31m \u001b[0mrcParams\u001b[0m\u001b[0;34m[\u001b[0m\u001b[0;34m'figure.figsize'\u001b[0m\u001b[0;34m]\u001b[0m \u001b[0;34m=\u001b[0m \u001b[0;36m20\u001b[0m\u001b[0;34m,\u001b[0m\u001b[0;36m10\u001b[0m\u001b[0;34m\u001b[0m\u001b[0;34m\u001b[0m\u001b[0m\n\u001b[0m\u001b[1;32m      2\u001b[0m \u001b[0mg\u001b[0m\u001b[0;34m=\u001b[0m\u001b[0msns\u001b[0m\u001b[0;34m.\u001b[0m\u001b[0mboxplot\u001b[0m\u001b[0;34m(\u001b[0m\u001b[0mdata\u001b[0m\u001b[0;34m=\u001b[0m\u001b[0mdf\u001b[0m\u001b[0;34m[\u001b[0m\u001b[0;34m[\u001b[0m\u001b[0mitem\u001b[0m \u001b[0;32mfor\u001b[0m \u001b[0mitem\u001b[0m \u001b[0;32min\u001b[0m \u001b[0mrelevant_numeric_columns\u001b[0m \u001b[0;32mif\u001b[0m \u001b[0mitem\u001b[0m\u001b[0;34m!=\u001b[0m\u001b[0;34m'YearBuilt'\u001b[0m\u001b[0;34m]\u001b[0m\u001b[0;34m]\u001b[0m\u001b[0;34m)\u001b[0m\u001b[0;34m\u001b[0m\u001b[0;34m\u001b[0m\u001b[0m\n\u001b[1;32m      3\u001b[0m \u001b[0mg\u001b[0m\u001b[0;34m.\u001b[0m\u001b[0mset_yscale\u001b[0m\u001b[0;34m(\u001b[0m\u001b[0;34m\"log\"\u001b[0m\u001b[0;34m)\u001b[0m\u001b[0;34m\u001b[0m\u001b[0;34m\u001b[0m\u001b[0m\n",
      "\u001b[0;31mNameError\u001b[0m: name 'rcParams' is not defined"
     ]
    }
   ],
   "source": [
    "rcParams['figure.figsize'] = 20,10\n",
    "g=sns.boxplot(data=df[[item for item in relevant_numeric_columns if item!='YearBuilt']])\n",
    "g.set_yscale(\"log\")\n"
   ]
  },
  {
   "cell_type": "markdown",
   "metadata": {},
   "source": [
    "# Partie 5 Imputation des valeurs manquantes"
   ]
  },
  {
   "cell_type": "code",
   "execution_count": 370,
   "metadata": {},
   "outputs": [
    {
     "data": {
      "text/plain": [
       "OSEBuildingID                      0.000000\n",
       "BuildingType                       0.000000\n",
       "PrimaryPropertyType                0.000000\n",
       "PropertyName                       0.000000\n",
       "Neighborhood                       0.000000\n",
       "GHGEmissionsIntensity              0.000000\n",
       "TotalGHGEmissions                  0.000000\n",
       "NaturalGas(kBtu)                   0.000000\n",
       "SteamUse(kBtu)                     0.000000\n",
       "SiteEnergyUse(kBtu)                0.000000\n",
       "ENERGYSTARScore                   33.942308\n",
       "PropertyGFATotal                   0.000000\n",
       "NumberofFloors                     0.000000\n",
       "NumberofBuildings                  0.000000\n",
       "YearBuilt                          0.000000\n",
       "GHGEmissionsIntensity_outliers     0.000000\n",
       "TotalGHGEmissions_outliers         0.000000\n",
       "NaturalGas(kBtu)_outliers          0.000000\n",
       "SteamUse(kBtu)_outliers            0.000000\n",
       "SiteEnergyUse(kBtu)_outliers       0.000000\n",
       "ENERGYSTARScore_outliers           0.000000\n",
       "PropertyGFATotal_outliers          0.000000\n",
       "NumberofFloors_outliers            0.000000\n",
       "NumberofBuildings_outliers         0.000000\n",
       "dtype: float64"
      ]
     },
     "execution_count": 370,
     "metadata": {},
     "output_type": "execute_result"
    }
   ],
   "source": [
    "df.isnull().sum()/len(df)*100"
   ]
  },
  {
   "cell_type": "code",
   "execution_count": 371,
   "metadata": {},
   "outputs": [],
   "source": [
    "imputer = KNNImputer()\n",
    "data=np.array(df['ENERGYSTARScore']).reshape((len(df['ENERGYSTARScore']), 1))\n",
    "\n",
    "df['ENERGYSTARScore']=imputer.fit_transform(data)\n"
   ]
  },
  {
   "cell_type": "code",
   "execution_count": 372,
   "metadata": {},
   "outputs": [
    {
     "data": {
      "text/plain": [
       "OSEBuildingID                     0.0\n",
       "BuildingType                      0.0\n",
       "PrimaryPropertyType               0.0\n",
       "PropertyName                      0.0\n",
       "Neighborhood                      0.0\n",
       "GHGEmissionsIntensity             0.0\n",
       "TotalGHGEmissions                 0.0\n",
       "NaturalGas(kBtu)                  0.0\n",
       "SteamUse(kBtu)                    0.0\n",
       "SiteEnergyUse(kBtu)               0.0\n",
       "ENERGYSTARScore                   0.0\n",
       "PropertyGFATotal                  0.0\n",
       "NumberofFloors                    0.0\n",
       "NumberofBuildings                 0.0\n",
       "YearBuilt                         0.0\n",
       "GHGEmissionsIntensity_outliers    0.0\n",
       "TotalGHGEmissions_outliers        0.0\n",
       "NaturalGas(kBtu)_outliers         0.0\n",
       "SteamUse(kBtu)_outliers           0.0\n",
       "SiteEnergyUse(kBtu)_outliers      0.0\n",
       "ENERGYSTARScore_outliers          0.0\n",
       "PropertyGFATotal_outliers         0.0\n",
       "NumberofFloors_outliers           0.0\n",
       "NumberofBuildings_outliers        0.0\n",
       "dtype: float64"
      ]
     },
     "execution_count": 372,
     "metadata": {},
     "output_type": "execute_result"
    }
   ],
   "source": [
    "df.isnull().sum()/len(df)*100"
   ]
  },
  {
   "cell_type": "markdown",
   "metadata": {},
   "source": [
    "# Partie 6 feature engineering"
   ]
  },
  {
   "cell_type": "markdown",
   "metadata": {},
   "source": [
    "### 6-1 recherche des variables dont les valeurs sont constantes"
   ]
  },
  {
   "cell_type": "code",
   "execution_count": 40,
   "metadata": {},
   "outputs": [
    {
     "data": {
      "text/plain": [
       "array([1.])"
      ]
     },
     "execution_count": 40,
     "metadata": {},
     "output_type": "execute_result"
    }
   ],
   "source": [
    "df['NumberofBuildings'].unique()"
   ]
  },
  {
   "cell_type": "code",
   "execution_count": 373,
   "metadata": {},
   "outputs": [
    {
     "data": {
      "text/plain": [
       "['SteamUse(kBtu)', 'NumberofBuildings']"
      ]
     },
     "execution_count": 373,
     "metadata": {},
     "output_type": "execute_result"
    }
   ],
   "source": [
    "static_cols=[]\n",
    "for col in relevant_numeric_columns:\n",
    "    if df[col].nunique(col)==1:\n",
    "        static_cols.append(col)\n",
    "        relevant_numeric_columns.remove(col)\n",
    "        \n",
    "static_cols"
   ]
  },
  {
   "cell_type": "markdown",
   "metadata": {},
   "source": [
    "### 6-2 création de la variable  âge à partir de l'année de construction"
   ]
  },
  {
   "cell_type": "code",
   "execution_count": 374,
   "metadata": {},
   "outputs": [],
   "source": [
    "df['YearBuilt']=2016-df['YearBuilt']\n",
    "\n",
    "df.rename(columns = {'YearBuilt':'age'}, inplace = True)\n",
    "relevant_numeric_columns.append('age')\n",
    "relevant_numeric_columns.remove('YearBuilt')"
   ]
  },
  {
   "cell_type": "markdown",
   "metadata": {},
   "source": [
    "### 6-3 suppression de la variable GHGEmissionsIntensity au profit de TotalGHGEmissions"
   ]
  },
  {
   "cell_type": "code",
   "execution_count": 375,
   "metadata": {},
   "outputs": [],
   "source": [
    "relevant_numeric_columns.remove('GHGEmissionsIntensity')"
   ]
  },
  {
   "cell_type": "code",
   "execution_count": 376,
   "metadata": {},
   "outputs": [
    {
     "data": {
      "text/plain": [
       "['TotalGHGEmissions',\n",
       " 'NaturalGas(kBtu)',\n",
       " 'SiteEnergyUse(kBtu)',\n",
       " 'ENERGYSTARScore',\n",
       " 'PropertyGFATotal',\n",
       " 'NumberofFloors',\n",
       " 'age']"
      ]
     },
     "execution_count": 376,
     "metadata": {},
     "output_type": "execute_result"
    }
   ],
   "source": [
    "relevant_numeric_columns"
   ]
  },
  {
   "cell_type": "markdown",
   "metadata": {},
   "source": [
    "### 6-4 création de la variable volume à partir de la surface totale et du nombre d'étage"
   ]
  },
  {
   "cell_type": "code",
   "execution_count": 377,
   "metadata": {},
   "outputs": [],
   "source": [
    "df['PropertyGFATotal']=df['PropertyGFATotal']*df['NumberofFloors']\n",
    "\n",
    "df.rename(columns = {'PropertyGFATotal':'volume'}, inplace = True)\n",
    "relevant_numeric_columns.append('volume')\n",
    "relevant_numeric_columns.remove('PropertyGFATotal')\n",
    "relevant_numeric_columns.remove('NumberofFloors')"
   ]
  },
  {
   "cell_type": "markdown",
   "metadata": {},
   "source": [
    "# Partie 7 Analyse univariée"
   ]
  },
  {
   "cell_type": "markdown",
   "metadata": {},
   "source": [
    "### 7-1 Analyse univariée GHGEmissionsIntensity"
   ]
  },
  {
   "cell_type": "code",
   "execution_count": 378,
   "metadata": {},
   "outputs": [],
   "source": [
    "## histogramme et boite à moustache\n",
    "\n",
    "def boxplot_hist(df,col):\n",
    "    fig1 = px.box(df,x=col)\n",
    "    bins=round(1 + 3.322*math.log(len(df)))\n",
    "    fig1.show()\n",
    "    fig2 = px.histogram(df[col],nbins=bins)\n",
    "    fig2.show()\n",
    "    "
   ]
  },
  {
   "cell_type": "code",
   "execution_count": 379,
   "metadata": {},
   "outputs": [
    {
     "data": {
      "application/vnd.plotly.v1+json": {
       "config": {
        "plotlyServerURL": "https://plot.ly"
       },
       "data": [
        {
         "alignmentgroup": "True",
         "hovertemplate": "GHGEmissionsIntensity=%{x}<extra></extra>",
         "legendgroup": "",
         "marker": {
          "color": "#636efa"
         },
         "name": "",
         "notched": false,
         "offsetgroup": "",
         "orientation": "h",
         "showlegend": false,
         "type": "box",
         "x": [
          1.02,
          0.14,
          1.88,
          1.81,
          2.63,
          0.04,
          0.57,
          1.38,
          1.6,
          0.64,
          0.4,
          0.58,
          0.6,
          1.89,
          1.28,
          1.33,
          1.4,
          0.98,
          2.61,
          1.4,
          1.6,
          0.8,
          0.67,
          0.1,
          0.64,
          1.57,
          1.16,
          0.34,
          0.78,
          0.65,
          2.48,
          1.29,
          0.75,
          2.89,
          0.64,
          1.41,
          1.17,
          2.31,
          3.03,
          1.12,
          1.12,
          1.98,
          0.93,
          0.77,
          0.53,
          1.51,
          0.6,
          0.61,
          0.55,
          1.06,
          0.94,
          0.06,
          1.93,
          3.21,
          0.63,
          0.54,
          0.47,
          0.84,
          0.13,
          1.89,
          1.31,
          0.97,
          1.49,
          1.46,
          0.44,
          1.33,
          0.13,
          0.88,
          0.36,
          0.36,
          0.17,
          0.61,
          1,
          0.23,
          0.22,
          0.07,
          0.83,
          0.24,
          0.5,
          0.61,
          0.93,
          0.15,
          0.23,
          1.34,
          2.73,
          0.46,
          0.47,
          0.3,
          1.18,
          0.26,
          1.25,
          0.36,
          0.84,
          0.11,
          1.98,
          0.05,
          0.05,
          0.22,
          0.22,
          0.48,
          0.47,
          0.32,
          0.62,
          1.68,
          0.24,
          0.24,
          0.22,
          0.16,
          0.23,
          0.58,
          1.1,
          0.27,
          0.29,
          0.28,
          0.28,
          0.41,
          0.23,
          0.72,
          0.72,
          0.84,
          0.11,
          3.17,
          0.28,
          0.3,
          0.39,
          0.19,
          0.64,
          1.28,
          0.13,
          0.02,
          0.24,
          0.35,
          0.12,
          0.85,
          1.33,
          0.13,
          0.06,
          0.88,
          0.36,
          0.1,
          0.51,
          1.27,
          0.61,
          1.31,
          0.62,
          1.38,
          0.48,
          1.07,
          0.4,
          0.43,
          0.98,
          0.25,
          0.51,
          0.43,
          0.41,
          0.38,
          0.3,
          0.52,
          0.64,
          1.16,
          0.54,
          0.26,
          0.23,
          0.94,
          0.41,
          1.31,
          2.11,
          0.27,
          0.4,
          1.21,
          0.42,
          0.09,
          1.12,
          0.25,
          1.35,
          0.27,
          0.31,
          0.33,
          0.2,
          0.56,
          0.79,
          1.73,
          0.8,
          0.24,
          0.21,
          0.7,
          0.25,
          0.13,
          2.07,
          0.27,
          0.37,
          2.8,
          0.68,
          0.78,
          0.93,
          0.5,
          0.59,
          0.65,
          0.42,
          1.19,
          0.18,
          0.43,
          0.38,
          0.33,
          0.19,
          0.31,
          0.62,
          0,
          1.2,
          0.9,
          0.27,
          0.34,
          0.56,
          0.56,
          0.37,
          0.06,
          0.28,
          0.87,
          0.8,
          0.82,
          1.39,
          0.06,
          0.64,
          0.77,
          0.24,
          2.12,
          0.85,
          2.92,
          0.31,
          0.36,
          0.31,
          0.5,
          0.43,
          0.63,
          3.38,
          0.8,
          1.39,
          0.83,
          2.72,
          0.33,
          0.7,
          0.39,
          0.34,
          0.26,
          0.47,
          0.15,
          0.33,
          0.88,
          0.49,
          1,
          1.81,
          1.36,
          0.96,
          0.33,
          1.63,
          0.39,
          0.12,
          0.01,
          2.37,
          1.63,
          1.55,
          3.85,
          0.4,
          0.78,
          0.13,
          0.02,
          0.65,
          1.18,
          0.17,
          0.45,
          0.27,
          0.6,
          0.17,
          0.06,
          0.09,
          1.82,
          0.2,
          0.26,
          0.75,
          1.43,
          0.68,
          0.26,
          0.88,
          0.39,
          0.94,
          2.09,
          1.8,
          0.14,
          2.06,
          0.08,
          0.09,
          0.65,
          0.52,
          1.33,
          0.44,
          0.42,
          1.13,
          1.15,
          0.36,
          2.26,
          1.37,
          2.28,
          0.15,
          2.02,
          1.14,
          0.5,
          2.05,
          0.53,
          0.29,
          0.7,
          0.59,
          0.42,
          0.26,
          0.85,
          0.4,
          0.52,
          0.19,
          0.23,
          1,
          1.8,
          1.29,
          0.29,
          0.1,
          1.15,
          0.41,
          0.45,
          0.41,
          2.28,
          1.28,
          1.64,
          0.91,
          0.79,
          0.2,
          0.68,
          1.2,
          1.17,
          1.21,
          0.75,
          3.04,
          2.06,
          2.28,
          0.78,
          1.53,
          0.7,
          0.56,
          3.08,
          0.29,
          1.8,
          0.28,
          1.22,
          1.09,
          0.32,
          1.82,
          0.17,
          0.16,
          0.24,
          2.47,
          3.13,
          0.86,
          0.24,
          0.3,
          0.67,
          0.8,
          1.25,
          0.02,
          0.46,
          3.65,
          1.79,
          1.15,
          2.41,
          0.52,
          0.79,
          0.05,
          1.32,
          0.35,
          0.87,
          0.48,
          0.2,
          0.64,
          0.67,
          0.56,
          0.5,
          1.61,
          0.04,
          0.19,
          0.05,
          3.05,
          0.06,
          1.96,
          1.94,
          3,
          0.28,
          1.1,
          0.03,
          1.4,
          1.74,
          2.01,
          0.91,
          1.96,
          0.7,
          0.12,
          0.21,
          0.24,
          1.87,
          0.35,
          0.55,
          0.61,
          2.94,
          1.58,
          3.69,
          2.47,
          0.6,
          0.14,
          0.26,
          0.31,
          0.12,
          2.34,
          1.77,
          3.17,
          0.08,
          0.17,
          0.9,
          0.36,
          0.89,
          0.11,
          0.13,
          0.53,
          0.6,
          1.79,
          1.8,
          0.27,
          2.05,
          0.31,
          0.65,
          2.51,
          0.42,
          2.39,
          0.52,
          1.33,
          0.23,
          0.4,
          0.28,
          0.94,
          0.33,
          0.47,
          0.28,
          0.3,
          1.38,
          2.45,
          1.01,
          0.62,
          0.22,
          1.57,
          0.29,
          3.93,
          1.41,
          1.74,
          1.27,
          3.88,
          2.67,
          0.65,
          0.23,
          0.44,
          0.39,
          0.36,
          0.76,
          0.57,
          0.59,
          1.35,
          0.36,
          2.06,
          2.77,
          1.46,
          1.35,
          0.03,
          1.15,
          0.64,
          1.79,
          1.83,
          1.26,
          1.23,
          1.95,
          0.89,
          0.37,
          1.2,
          0.66,
          0.37,
          0.16,
          0.34,
          1.99,
          1.1,
          0.15,
          0.36,
          4.14,
          0.21,
          2.59,
          0.44,
          0.76,
          3.98,
          0.14,
          0.21,
          1.95,
          1.04,
          0.15,
          0.91,
          2.52,
          2.13,
          1.08,
          2.22,
          2.99,
          0.2,
          0.31,
          2.43,
          0.32,
          2.14,
          1.9,
          0.16,
          0.22,
          1.33,
          0.21,
          0.59,
          0.66,
          0.08,
          1.02,
          0.32,
          1.68,
          0.66,
          3.97,
          0.08,
          3.27,
          0.68,
          2.77,
          1.48,
          0.62,
          0.26,
          1.28,
          0.29,
          1.24,
          1.4,
          1.48,
          0.24,
          0.63,
          0.8,
          2.44,
          0.04,
          2.17,
          0.6,
          0.83,
          1.7,
          1.42,
          1.25,
          1.89,
          0.13,
          1.26,
          0.31,
          0.44,
          1.22,
          0.72,
          0.57,
          1.42,
          0.32,
          0.58,
          1.34,
          0.07,
          0.22,
          0.66,
          1.42,
          0.02,
          0.01,
          0.23,
          0.41,
          0.31,
          0.2,
          0.23,
          0.21,
          0.04,
          0.34,
          1.47,
          0.75,
          0.72,
          2.24,
          1.18,
          1.39,
          1.27,
          0.31,
          3.32,
          0.22,
          0.29,
          0.74,
          0.72,
          3.68,
          0.31,
          1.89,
          0.23,
          1.38,
          1.16,
          1,
          2.25,
          1.82,
          1.2,
          0.33,
          1.19,
          0.07,
          0.08,
          0.97,
          0.27,
          0.11,
          0.58,
          0.11,
          0.18,
          0.64,
          1.37,
          0.09,
          0.12,
          1.47,
          0.94,
          0.32,
          3.14,
          1.98,
          0.43,
          0.65,
          0.93,
          0.12,
          0.45,
          0.88,
          1.21,
          0.22,
          0.31,
          0.18,
          0.24,
          1.1,
          0.55,
          0.43,
          3.65,
          1.99,
          0.83,
          0.13,
          0.34,
          1.41,
          0.92,
          1.2,
          0.66,
          0.17,
          0.59,
          0.19,
          0.32,
          0.41,
          0.52,
          4.01,
          0.61,
          2.29,
          1.45,
          0.34,
          1.43,
          2.51,
          0.82,
          1.47,
          0.33,
          0.72,
          0.05,
          3.26,
          1.75,
          0.15,
          0.81,
          0.24,
          2.46,
          0.8,
          0.08,
          4.02,
          1.37,
          1.12,
          0.94,
          0.11,
          3.29,
          2.42,
          0.6,
          0.56,
          0.25,
          0.34,
          0.47,
          0.04,
          0.27,
          0.16,
          0.8,
          1.99,
          0.15,
          0.35,
          1.71,
          0.96,
          0.71,
          0.46,
          2.46,
          1.72,
          1.15,
          2.31,
          0.23,
          0.26,
          0.18,
          0.21,
          0.65,
          0.8,
          1.53,
          1.68,
          2.09,
          0.07,
          0.23,
          0.4,
          1.27,
          0.8,
          1.22,
          1.87,
          0.28,
          2.07,
          0.52,
          0.15,
          0.09,
          0.26,
          0.29,
          0.61,
          0.84,
          0.15,
          0.6,
          0.58,
          0.39,
          0.38,
          2.01,
          0.91,
          0.3,
          0.74,
          0.5,
          0.74,
          1.14,
          0.87,
          0.54,
          1.63,
          0.21,
          1.67,
          0.06,
          0.21,
          0.58,
          1.31,
          3.99,
          3.46,
          1.38,
          1.94,
          1.23,
          1.42,
          1.95,
          0.8,
          0.67,
          0.31,
          0.67,
          0.89,
          0.6,
          0.31,
          0.06,
          0.34,
          2.44,
          0.22,
          3.25,
          0.06,
          0.2,
          1.49,
          1.26,
          0.71,
          0.88,
          1.44,
          3.61,
          0.35,
          0.28,
          0.06,
          0.84,
          0.68,
          0.2,
          0.33,
          2.34,
          0.43,
          1.68,
          1.95,
          0.03,
          0.03,
          0.18,
          1.57,
          3.04,
          0.48,
          1.01,
          0.57,
          1.82,
          2.34,
          0.63,
          0.7,
          0.55,
          1.38,
          0.56,
          1.31,
          1.43,
          0.54,
          1.95,
          0.1,
          0.29,
          1.27,
          0.9,
          0.6,
          1.04,
          0.61,
          0.33,
          1.31,
          1.65,
          0.27,
          4.02,
          1.1,
          0.64,
          0.63,
          3.98,
          0.06,
          0.92,
          1.06,
          1.02,
          3.67,
          0.25,
          3.28,
          0.54,
          0.6,
          1.07,
          0.42,
          0.37,
          1.09,
          0.56,
          0.32,
          1.7,
          0.14,
          0.46,
          0.45,
          0.28,
          0.35,
          1.13,
          0.83,
          0.14,
          0.27,
          0.85,
          0.06,
          0.91,
          0.6,
          1.24,
          1.01,
          0.71,
          1.93,
          0.23,
          2.64,
          0.34,
          1.17,
          0.63,
          0.22,
          4.15,
          1.73,
          2.43,
          0.92,
          2.12,
          0.28,
          1.63,
          2.37,
          3.75,
          2.03,
          0.37,
          0.33,
          1.13,
          1.51,
          1.3,
          1.4,
          1,
          1.26,
          1.51,
          0.46,
          3.63,
          3.14,
          0.19,
          0.05,
          1.87,
          0.43,
          1.13,
          1.11,
          0.61,
          2.08,
          0.27,
          0.23,
          1.15,
          0.45,
          0.23,
          0.72,
          1.14,
          0.77,
          0.91,
          2.56,
          1.01,
          0.5,
          0.54,
          0.1,
          0.18,
          0.73,
          1.2,
          0.25,
          0.3,
          0.42,
          0.17,
          0.34,
          0.97,
          1.01,
          1.31,
          0.32,
          0.27,
          1.34,
          2.06,
          0.2,
          2.4,
          2.27,
          0.21,
          2.47,
          3.02,
          1.91,
          0.19,
          3.73,
          1.2,
          0.67,
          0.77,
          2.09,
          0.84,
          0.91,
          1.66,
          0.8,
          0.34,
          1.38,
          2.49,
          1.18,
          0.88,
          1.45,
          2.4,
          0.13,
          1.03,
          0.11,
          0.69,
          0.19,
          0.13,
          2.19,
          0.04,
          0.5,
          0.55,
          0.07,
          3.81,
          0.18,
          0.88,
          0.88,
          1.91,
          0.97,
          1.05,
          2.1,
          0.22,
          0.38,
          1.58,
          0.04,
          0.07,
          0.26,
          0.52,
          2.27,
          1.82,
          0.72,
          1.39,
          2.09,
          3.98,
          0.07,
          0.99,
          2.15,
          2.11,
          3.01,
          1.2,
          2.4,
          0.76,
          0.18,
          1.89,
          0.11,
          2.23,
          0.21,
          1.6,
          0.39,
          1.18,
          0.79,
          1.08,
          0.73,
          4.21,
          3.06,
          0.17,
          1.72,
          1.08,
          0.41,
          0.2,
          0.43,
          2.78,
          0.13,
          0.34,
          0.59,
          1.28,
          1,
          3.29,
          0.82,
          1.44,
          0.09,
          0.32,
          0.39,
          2.32,
          0.47,
          0.28,
          0.86,
          0.74,
          0.3,
          2,
          0.51,
          1.28,
          0.44,
          0.59,
          0.54,
          0.64,
          0.1,
          0.29,
          1.72,
          0.17,
          0.85,
          1.03,
          3.03,
          0.94,
          0.21,
          0.33,
          0.22,
          2.5,
          1.92,
          1.27,
          1.47,
          3.03,
          1.11,
          2.01,
          1.57,
          2.26
         ],
         "x0": " ",
         "xaxis": "x",
         "y0": " ",
         "yaxis": "y"
        }
       ],
       "layout": {
        "boxmode": "group",
        "legend": {
         "tracegroupgap": 0
        },
        "margin": {
         "t": 60
        },
        "template": {
         "data": {
          "bar": [
           {
            "error_x": {
             "color": "#2a3f5f"
            },
            "error_y": {
             "color": "#2a3f5f"
            },
            "marker": {
             "line": {
              "color": "#E5ECF6",
              "width": 0.5
             },
             "pattern": {
              "fillmode": "overlay",
              "size": 10,
              "solidity": 0.2
             }
            },
            "type": "bar"
           }
          ],
          "barpolar": [
           {
            "marker": {
             "line": {
              "color": "#E5ECF6",
              "width": 0.5
             },
             "pattern": {
              "fillmode": "overlay",
              "size": 10,
              "solidity": 0.2
             }
            },
            "type": "barpolar"
           }
          ],
          "carpet": [
           {
            "aaxis": {
             "endlinecolor": "#2a3f5f",
             "gridcolor": "white",
             "linecolor": "white",
             "minorgridcolor": "white",
             "startlinecolor": "#2a3f5f"
            },
            "baxis": {
             "endlinecolor": "#2a3f5f",
             "gridcolor": "white",
             "linecolor": "white",
             "minorgridcolor": "white",
             "startlinecolor": "#2a3f5f"
            },
            "type": "carpet"
           }
          ],
          "choropleth": [
           {
            "colorbar": {
             "outlinewidth": 0,
             "ticks": ""
            },
            "type": "choropleth"
           }
          ],
          "contour": [
           {
            "colorbar": {
             "outlinewidth": 0,
             "ticks": ""
            },
            "colorscale": [
             [
              0,
              "#0d0887"
             ],
             [
              0.1111111111111111,
              "#46039f"
             ],
             [
              0.2222222222222222,
              "#7201a8"
             ],
             [
              0.3333333333333333,
              "#9c179e"
             ],
             [
              0.4444444444444444,
              "#bd3786"
             ],
             [
              0.5555555555555556,
              "#d8576b"
             ],
             [
              0.6666666666666666,
              "#ed7953"
             ],
             [
              0.7777777777777778,
              "#fb9f3a"
             ],
             [
              0.8888888888888888,
              "#fdca26"
             ],
             [
              1,
              "#f0f921"
             ]
            ],
            "type": "contour"
           }
          ],
          "contourcarpet": [
           {
            "colorbar": {
             "outlinewidth": 0,
             "ticks": ""
            },
            "type": "contourcarpet"
           }
          ],
          "heatmap": [
           {
            "colorbar": {
             "outlinewidth": 0,
             "ticks": ""
            },
            "colorscale": [
             [
              0,
              "#0d0887"
             ],
             [
              0.1111111111111111,
              "#46039f"
             ],
             [
              0.2222222222222222,
              "#7201a8"
             ],
             [
              0.3333333333333333,
              "#9c179e"
             ],
             [
              0.4444444444444444,
              "#bd3786"
             ],
             [
              0.5555555555555556,
              "#d8576b"
             ],
             [
              0.6666666666666666,
              "#ed7953"
             ],
             [
              0.7777777777777778,
              "#fb9f3a"
             ],
             [
              0.8888888888888888,
              "#fdca26"
             ],
             [
              1,
              "#f0f921"
             ]
            ],
            "type": "heatmap"
           }
          ],
          "heatmapgl": [
           {
            "colorbar": {
             "outlinewidth": 0,
             "ticks": ""
            },
            "colorscale": [
             [
              0,
              "#0d0887"
             ],
             [
              0.1111111111111111,
              "#46039f"
             ],
             [
              0.2222222222222222,
              "#7201a8"
             ],
             [
              0.3333333333333333,
              "#9c179e"
             ],
             [
              0.4444444444444444,
              "#bd3786"
             ],
             [
              0.5555555555555556,
              "#d8576b"
             ],
             [
              0.6666666666666666,
              "#ed7953"
             ],
             [
              0.7777777777777778,
              "#fb9f3a"
             ],
             [
              0.8888888888888888,
              "#fdca26"
             ],
             [
              1,
              "#f0f921"
             ]
            ],
            "type": "heatmapgl"
           }
          ],
          "histogram": [
           {
            "marker": {
             "pattern": {
              "fillmode": "overlay",
              "size": 10,
              "solidity": 0.2
             }
            },
            "type": "histogram"
           }
          ],
          "histogram2d": [
           {
            "colorbar": {
             "outlinewidth": 0,
             "ticks": ""
            },
            "colorscale": [
             [
              0,
              "#0d0887"
             ],
             [
              0.1111111111111111,
              "#46039f"
             ],
             [
              0.2222222222222222,
              "#7201a8"
             ],
             [
              0.3333333333333333,
              "#9c179e"
             ],
             [
              0.4444444444444444,
              "#bd3786"
             ],
             [
              0.5555555555555556,
              "#d8576b"
             ],
             [
              0.6666666666666666,
              "#ed7953"
             ],
             [
              0.7777777777777778,
              "#fb9f3a"
             ],
             [
              0.8888888888888888,
              "#fdca26"
             ],
             [
              1,
              "#f0f921"
             ]
            ],
            "type": "histogram2d"
           }
          ],
          "histogram2dcontour": [
           {
            "colorbar": {
             "outlinewidth": 0,
             "ticks": ""
            },
            "colorscale": [
             [
              0,
              "#0d0887"
             ],
             [
              0.1111111111111111,
              "#46039f"
             ],
             [
              0.2222222222222222,
              "#7201a8"
             ],
             [
              0.3333333333333333,
              "#9c179e"
             ],
             [
              0.4444444444444444,
              "#bd3786"
             ],
             [
              0.5555555555555556,
              "#d8576b"
             ],
             [
              0.6666666666666666,
              "#ed7953"
             ],
             [
              0.7777777777777778,
              "#fb9f3a"
             ],
             [
              0.8888888888888888,
              "#fdca26"
             ],
             [
              1,
              "#f0f921"
             ]
            ],
            "type": "histogram2dcontour"
           }
          ],
          "mesh3d": [
           {
            "colorbar": {
             "outlinewidth": 0,
             "ticks": ""
            },
            "type": "mesh3d"
           }
          ],
          "parcoords": [
           {
            "line": {
             "colorbar": {
              "outlinewidth": 0,
              "ticks": ""
             }
            },
            "type": "parcoords"
           }
          ],
          "pie": [
           {
            "automargin": true,
            "type": "pie"
           }
          ],
          "scatter": [
           {
            "fillpattern": {
             "fillmode": "overlay",
             "size": 10,
             "solidity": 0.2
            },
            "type": "scatter"
           }
          ],
          "scatter3d": [
           {
            "line": {
             "colorbar": {
              "outlinewidth": 0,
              "ticks": ""
             }
            },
            "marker": {
             "colorbar": {
              "outlinewidth": 0,
              "ticks": ""
             }
            },
            "type": "scatter3d"
           }
          ],
          "scattercarpet": [
           {
            "marker": {
             "colorbar": {
              "outlinewidth": 0,
              "ticks": ""
             }
            },
            "type": "scattercarpet"
           }
          ],
          "scattergeo": [
           {
            "marker": {
             "colorbar": {
              "outlinewidth": 0,
              "ticks": ""
             }
            },
            "type": "scattergeo"
           }
          ],
          "scattergl": [
           {
            "marker": {
             "colorbar": {
              "outlinewidth": 0,
              "ticks": ""
             }
            },
            "type": "scattergl"
           }
          ],
          "scattermapbox": [
           {
            "marker": {
             "colorbar": {
              "outlinewidth": 0,
              "ticks": ""
             }
            },
            "type": "scattermapbox"
           }
          ],
          "scatterpolar": [
           {
            "marker": {
             "colorbar": {
              "outlinewidth": 0,
              "ticks": ""
             }
            },
            "type": "scatterpolar"
           }
          ],
          "scatterpolargl": [
           {
            "marker": {
             "colorbar": {
              "outlinewidth": 0,
              "ticks": ""
             }
            },
            "type": "scatterpolargl"
           }
          ],
          "scatterternary": [
           {
            "marker": {
             "colorbar": {
              "outlinewidth": 0,
              "ticks": ""
             }
            },
            "type": "scatterternary"
           }
          ],
          "surface": [
           {
            "colorbar": {
             "outlinewidth": 0,
             "ticks": ""
            },
            "colorscale": [
             [
              0,
              "#0d0887"
             ],
             [
              0.1111111111111111,
              "#46039f"
             ],
             [
              0.2222222222222222,
              "#7201a8"
             ],
             [
              0.3333333333333333,
              "#9c179e"
             ],
             [
              0.4444444444444444,
              "#bd3786"
             ],
             [
              0.5555555555555556,
              "#d8576b"
             ],
             [
              0.6666666666666666,
              "#ed7953"
             ],
             [
              0.7777777777777778,
              "#fb9f3a"
             ],
             [
              0.8888888888888888,
              "#fdca26"
             ],
             [
              1,
              "#f0f921"
             ]
            ],
            "type": "surface"
           }
          ],
          "table": [
           {
            "cells": {
             "fill": {
              "color": "#EBF0F8"
             },
             "line": {
              "color": "white"
             }
            },
            "header": {
             "fill": {
              "color": "#C8D4E3"
             },
             "line": {
              "color": "white"
             }
            },
            "type": "table"
           }
          ]
         },
         "layout": {
          "annotationdefaults": {
           "arrowcolor": "#2a3f5f",
           "arrowhead": 0,
           "arrowwidth": 1
          },
          "autotypenumbers": "strict",
          "coloraxis": {
           "colorbar": {
            "outlinewidth": 0,
            "ticks": ""
           }
          },
          "colorscale": {
           "diverging": [
            [
             0,
             "#8e0152"
            ],
            [
             0.1,
             "#c51b7d"
            ],
            [
             0.2,
             "#de77ae"
            ],
            [
             0.3,
             "#f1b6da"
            ],
            [
             0.4,
             "#fde0ef"
            ],
            [
             0.5,
             "#f7f7f7"
            ],
            [
             0.6,
             "#e6f5d0"
            ],
            [
             0.7,
             "#b8e186"
            ],
            [
             0.8,
             "#7fbc41"
            ],
            [
             0.9,
             "#4d9221"
            ],
            [
             1,
             "#276419"
            ]
           ],
           "sequential": [
            [
             0,
             "#0d0887"
            ],
            [
             0.1111111111111111,
             "#46039f"
            ],
            [
             0.2222222222222222,
             "#7201a8"
            ],
            [
             0.3333333333333333,
             "#9c179e"
            ],
            [
             0.4444444444444444,
             "#bd3786"
            ],
            [
             0.5555555555555556,
             "#d8576b"
            ],
            [
             0.6666666666666666,
             "#ed7953"
            ],
            [
             0.7777777777777778,
             "#fb9f3a"
            ],
            [
             0.8888888888888888,
             "#fdca26"
            ],
            [
             1,
             "#f0f921"
            ]
           ],
           "sequentialminus": [
            [
             0,
             "#0d0887"
            ],
            [
             0.1111111111111111,
             "#46039f"
            ],
            [
             0.2222222222222222,
             "#7201a8"
            ],
            [
             0.3333333333333333,
             "#9c179e"
            ],
            [
             0.4444444444444444,
             "#bd3786"
            ],
            [
             0.5555555555555556,
             "#d8576b"
            ],
            [
             0.6666666666666666,
             "#ed7953"
            ],
            [
             0.7777777777777778,
             "#fb9f3a"
            ],
            [
             0.8888888888888888,
             "#fdca26"
            ],
            [
             1,
             "#f0f921"
            ]
           ]
          },
          "colorway": [
           "#636efa",
           "#EF553B",
           "#00cc96",
           "#ab63fa",
           "#FFA15A",
           "#19d3f3",
           "#FF6692",
           "#B6E880",
           "#FF97FF",
           "#FECB52"
          ],
          "font": {
           "color": "#2a3f5f"
          },
          "geo": {
           "bgcolor": "white",
           "lakecolor": "white",
           "landcolor": "#E5ECF6",
           "showlakes": true,
           "showland": true,
           "subunitcolor": "white"
          },
          "hoverlabel": {
           "align": "left"
          },
          "hovermode": "closest",
          "mapbox": {
           "style": "light"
          },
          "paper_bgcolor": "white",
          "plot_bgcolor": "#E5ECF6",
          "polar": {
           "angularaxis": {
            "gridcolor": "white",
            "linecolor": "white",
            "ticks": ""
           },
           "bgcolor": "#E5ECF6",
           "radialaxis": {
            "gridcolor": "white",
            "linecolor": "white",
            "ticks": ""
           }
          },
          "scene": {
           "xaxis": {
            "backgroundcolor": "#E5ECF6",
            "gridcolor": "white",
            "gridwidth": 2,
            "linecolor": "white",
            "showbackground": true,
            "ticks": "",
            "zerolinecolor": "white"
           },
           "yaxis": {
            "backgroundcolor": "#E5ECF6",
            "gridcolor": "white",
            "gridwidth": 2,
            "linecolor": "white",
            "showbackground": true,
            "ticks": "",
            "zerolinecolor": "white"
           },
           "zaxis": {
            "backgroundcolor": "#E5ECF6",
            "gridcolor": "white",
            "gridwidth": 2,
            "linecolor": "white",
            "showbackground": true,
            "ticks": "",
            "zerolinecolor": "white"
           }
          },
          "shapedefaults": {
           "line": {
            "color": "#2a3f5f"
           }
          },
          "ternary": {
           "aaxis": {
            "gridcolor": "white",
            "linecolor": "white",
            "ticks": ""
           },
           "baxis": {
            "gridcolor": "white",
            "linecolor": "white",
            "ticks": ""
           },
           "bgcolor": "#E5ECF6",
           "caxis": {
            "gridcolor": "white",
            "linecolor": "white",
            "ticks": ""
           }
          },
          "title": {
           "x": 0.05
          },
          "xaxis": {
           "automargin": true,
           "gridcolor": "white",
           "linecolor": "white",
           "ticks": "",
           "title": {
            "standoff": 15
           },
           "zerolinecolor": "white",
           "zerolinewidth": 2
          },
          "yaxis": {
           "automargin": true,
           "gridcolor": "white",
           "linecolor": "white",
           "ticks": "",
           "title": {
            "standoff": 15
           },
           "zerolinecolor": "white",
           "zerolinewidth": 2
          }
         }
        },
        "xaxis": {
         "anchor": "y",
         "domain": [
          0,
          1
         ],
         "title": {
          "text": "GHGEmissionsIntensity"
         }
        },
        "yaxis": {
         "anchor": "x",
         "domain": [
          0,
          1
         ]
        }
       }
      },
      "text/html": [
       "<div>                            <div id=\"98003c9c-1387-4980-80aa-d575fb64b079\" class=\"plotly-graph-div\" style=\"height:525px; width:100%;\"></div>            <script type=\"text/javascript\">                require([\"plotly\"], function(Plotly) {                    window.PLOTLYENV=window.PLOTLYENV || {};                                    if (document.getElementById(\"98003c9c-1387-4980-80aa-d575fb64b079\")) {                    Plotly.newPlot(                        \"98003c9c-1387-4980-80aa-d575fb64b079\",                        [{\"alignmentgroup\":\"True\",\"hovertemplate\":\"GHGEmissionsIntensity=%{x}<extra></extra>\",\"legendgroup\":\"\",\"marker\":{\"color\":\"#636efa\"},\"name\":\"\",\"notched\":false,\"offsetgroup\":\"\",\"orientation\":\"h\",\"showlegend\":false,\"x\":[1.02,0.14,1.88,1.81,2.63,0.04,0.57,1.38,1.6,0.64,0.4,0.58,0.6,1.89,1.28,1.33,1.4,0.98,2.61,1.4,1.6,0.8,0.67,0.1,0.64,1.57,1.16,0.34,0.78,0.65,2.48,1.29,0.75,2.89,0.64,1.41,1.17,2.31,3.03,1.12,1.12,1.98,0.93,0.77,0.53,1.51,0.6,0.61,0.55,1.06,0.94,0.06,1.93,3.21,0.63,0.54,0.47,0.84,0.13,1.89,1.31,0.97,1.49,1.46,0.44,1.33,0.13,0.88,0.36,0.36,0.17,0.61,1.0,0.23,0.22,0.07,0.83,0.24,0.5,0.61,0.93,0.15,0.23,1.34,2.73,0.46,0.47,0.3,1.18,0.26,1.25,0.36,0.84,0.11,1.98,0.05,0.05,0.22,0.22,0.48,0.47,0.32,0.62,1.68,0.24,0.24,0.22,0.16,0.23,0.58,1.1,0.27,0.29,0.28,0.28,0.41,0.23,0.72,0.72,0.84,0.11,3.17,0.28,0.3,0.39,0.19,0.64,1.28,0.13,0.02,0.24,0.35,0.12,0.85,1.33,0.13,0.06,0.88,0.36,0.1,0.51,1.27,0.61,1.31,0.62,1.38,0.48,1.07,0.4,0.43,0.98,0.25,0.51,0.43,0.41,0.38,0.3,0.52,0.64,1.16,0.54,0.26,0.23,0.94,0.41,1.31,2.11,0.27,0.4,1.21,0.42,0.09,1.12,0.25,1.35,0.27,0.31,0.33,0.2,0.56,0.79,1.73,0.8,0.24,0.21,0.7,0.25,0.13,2.07,0.27,0.37,2.8,0.68,0.78,0.93,0.5,0.59,0.65,0.42,1.19,0.18,0.43,0.38,0.33,0.19,0.31,0.62,0.0,1.2,0.9,0.27,0.34,0.56,0.56,0.37,0.06,0.28,0.87,0.8,0.82,1.39,0.06,0.64,0.77,0.24,2.12,0.85,2.92,0.31,0.36,0.31,0.5,0.43,0.63,3.38,0.8,1.39,0.83,2.72,0.33,0.7,0.39,0.34,0.26,0.47,0.15,0.33,0.88,0.49,1.0,1.81,1.36,0.96,0.33,1.63,0.39,0.12,0.01,2.37,1.63,1.55,3.85,0.4,0.78,0.13,0.02,0.65,1.18,0.17,0.45,0.27,0.6,0.17,0.06,0.09,1.82,0.2,0.26,0.75,1.43,0.68,0.26,0.88,0.39,0.94,2.09,1.8,0.14,2.06,0.08,0.09,0.65,0.52,1.33,0.44,0.42,1.13,1.15,0.36,2.26,1.37,2.28,0.15,2.02,1.14,0.5,2.05,0.53,0.29,0.7,0.59,0.42,0.26,0.85,0.4,0.52,0.19,0.23,1.0,1.8,1.29,0.29,0.1,1.15,0.41,0.45,0.41,2.28,1.28,1.64,0.91,0.79,0.2,0.68,1.2,1.17,1.21,0.75,3.04,2.06,2.28,0.78,1.53,0.7,0.56,3.08,0.29,1.8,0.28,1.22,1.09,0.32,1.82,0.17,0.16,0.24,2.47,3.13,0.86,0.24,0.3,0.67,0.8,1.25,0.02,0.46,3.65,1.79,1.15,2.41,0.52,0.79,0.05,1.32,0.35,0.87,0.48,0.2,0.64,0.67,0.56,0.5,1.61,0.04,0.19,0.05,3.05,0.06,1.96,1.94,3.0,0.28,1.1,0.03,1.4,1.74,2.01,0.91,1.96,0.7,0.12,0.21,0.24,1.87,0.35,0.55,0.61,2.94,1.58,3.69,2.47,0.6,0.14,0.26,0.31,0.12,2.34,1.77,3.17,0.08,0.17,0.9,0.36,0.89,0.11,0.13,0.53,0.6,1.79,1.8,0.27,2.05,0.31,0.65,2.51,0.42,2.39,0.52,1.33,0.23,0.4,0.28,0.94,0.33,0.47,0.28,0.3,1.38,2.45,1.01,0.62,0.22,1.57,0.29,3.93,1.41,1.74,1.27,3.88,2.67,0.65,0.23,0.44,0.39,0.36,0.76,0.57,0.59,1.35,0.36,2.06,2.77,1.46,1.35,0.03,1.15,0.64,1.79,1.83,1.26,1.23,1.95,0.89,0.37,1.2,0.66,0.37,0.16,0.34,1.99,1.1,0.15,0.36,4.14,0.21,2.59,0.44,0.76,3.98,0.14,0.21,1.95,1.04,0.15,0.91,2.52,2.13,1.08,2.22,2.99,0.2,0.31,2.43,0.32,2.14,1.9,0.16,0.22,1.33,0.21,0.59,0.66,0.08,1.02,0.32,1.68,0.66,3.97,0.08,3.27,0.68,2.77,1.48,0.62,0.26,1.28,0.29,1.24,1.4,1.48,0.24,0.63,0.8,2.44,0.04,2.17,0.6,0.83,1.7,1.42,1.25,1.89,0.13,1.26,0.31,0.44,1.22,0.72,0.57,1.42,0.32,0.58,1.34,0.07,0.22,0.66,1.42,0.02,0.01,0.23,0.41,0.31,0.2,0.23,0.21,0.04,0.34,1.47,0.75,0.72,2.24,1.18,1.39,1.27,0.31,3.32,0.22,0.29,0.74,0.72,3.68,0.31,1.89,0.23,1.38,1.16,1.0,2.25,1.82,1.2,0.33,1.19,0.07,0.08,0.97,0.27,0.11,0.58,0.11,0.18,0.64,1.37,0.09,0.12,1.47,0.94,0.32,3.14,1.98,0.43,0.65,0.93,0.12,0.45,0.88,1.21,0.22,0.31,0.18,0.24,1.1,0.55,0.43,3.65,1.99,0.83,0.13,0.34,1.41,0.92,1.2,0.66,0.17,0.59,0.19,0.32,0.41,0.52,4.01,0.61,2.29,1.45,0.34,1.43,2.51,0.82,1.47,0.33,0.72,0.05,3.26,1.75,0.15,0.81,0.24,2.46,0.8,0.08,4.02,1.37,1.12,0.94,0.11,3.29,2.42,0.6,0.56,0.25,0.34,0.47,0.04,0.27,0.16,0.8,1.99,0.15,0.35,1.71,0.96,0.71,0.46,2.46,1.72,1.15,2.31,0.23,0.26,0.18,0.21,0.65,0.8,1.53,1.68,2.09,0.07,0.23,0.4,1.27,0.8,1.22,1.87,0.28,2.07,0.52,0.15,0.09,0.26,0.29,0.61,0.84,0.15,0.6,0.58,0.39,0.38,2.01,0.91,0.3,0.74,0.5,0.74,1.14,0.87,0.54,1.63,0.21,1.67,0.06,0.21,0.58,1.31,3.99,3.46,1.38,1.94,1.23,1.42,1.95,0.8,0.67,0.31,0.67,0.89,0.6,0.31,0.06,0.34,2.44,0.22,3.25,0.06,0.2,1.49,1.26,0.71,0.88,1.44,3.61,0.35,0.28,0.06,0.84,0.68,0.2,0.33,2.34,0.43,1.68,1.95,0.03,0.03,0.18,1.57,3.04,0.48,1.01,0.57,1.82,2.34,0.63,0.7,0.55,1.38,0.56,1.31,1.43,0.54,1.95,0.1,0.29,1.27,0.9,0.6,1.04,0.61,0.33,1.31,1.65,0.27,4.02,1.1,0.64,0.63,3.98,0.06,0.92,1.06,1.02,3.67,0.25,3.28,0.54,0.6,1.07,0.42,0.37,1.09,0.56,0.32,1.7,0.14,0.46,0.45,0.28,0.35,1.13,0.83,0.14,0.27,0.85,0.06,0.91,0.6,1.24,1.01,0.71,1.93,0.23,2.64,0.34,1.17,0.63,0.22,4.15,1.73,2.43,0.92,2.12,0.28,1.63,2.37,3.75,2.03,0.37,0.33,1.13,1.51,1.3,1.4,1.0,1.26,1.51,0.46,3.63,3.14,0.19,0.05,1.87,0.43,1.13,1.11,0.61,2.08,0.27,0.23,1.15,0.45,0.23,0.72,1.14,0.77,0.91,2.56,1.01,0.5,0.54,0.1,0.18,0.73,1.2,0.25,0.3,0.42,0.17,0.34,0.97,1.01,1.31,0.32,0.27,1.34,2.06,0.2,2.4,2.27,0.21,2.47,3.02,1.91,0.19,3.73,1.2,0.67,0.77,2.09,0.84,0.91,1.66,0.8,0.34,1.38,2.49,1.18,0.88,1.45,2.4,0.13,1.03,0.11,0.69,0.19,0.13,2.19,0.04,0.5,0.55,0.07,3.81,0.18,0.88,0.88,1.91,0.97,1.05,2.1,0.22,0.38,1.58,0.04,0.07,0.26,0.52,2.27,1.82,0.72,1.39,2.09,3.98,0.07,0.99,2.15,2.11,3.01,1.2,2.4,0.76,0.18,1.89,0.11,2.23,0.21,1.6,0.39,1.18,0.79,1.08,0.73,4.21,3.06,0.17,1.72,1.08,0.41,0.2,0.43,2.78,0.13,0.34,0.59,1.28,1.0,3.29,0.82,1.44,0.09,0.32,0.39,2.32,0.47,0.28,0.86,0.74,0.3,2.0,0.51,1.28,0.44,0.59,0.54,0.64,0.1,0.29,1.72,0.17,0.85,1.03,3.03,0.94,0.21,0.33,0.22,2.5,1.92,1.27,1.47,3.03,1.11,2.01,1.57,2.26],\"x0\":\" \",\"xaxis\":\"x\",\"y0\":\" \",\"yaxis\":\"y\",\"type\":\"box\"}],                        {\"template\":{\"data\":{\"histogram2dcontour\":[{\"type\":\"histogram2dcontour\",\"colorbar\":{\"outlinewidth\":0,\"ticks\":\"\"},\"colorscale\":[[0.0,\"#0d0887\"],[0.1111111111111111,\"#46039f\"],[0.2222222222222222,\"#7201a8\"],[0.3333333333333333,\"#9c179e\"],[0.4444444444444444,\"#bd3786\"],[0.5555555555555556,\"#d8576b\"],[0.6666666666666666,\"#ed7953\"],[0.7777777777777778,\"#fb9f3a\"],[0.8888888888888888,\"#fdca26\"],[1.0,\"#f0f921\"]]}],\"choropleth\":[{\"type\":\"choropleth\",\"colorbar\":{\"outlinewidth\":0,\"ticks\":\"\"}}],\"histogram2d\":[{\"type\":\"histogram2d\",\"colorbar\":{\"outlinewidth\":0,\"ticks\":\"\"},\"colorscale\":[[0.0,\"#0d0887\"],[0.1111111111111111,\"#46039f\"],[0.2222222222222222,\"#7201a8\"],[0.3333333333333333,\"#9c179e\"],[0.4444444444444444,\"#bd3786\"],[0.5555555555555556,\"#d8576b\"],[0.6666666666666666,\"#ed7953\"],[0.7777777777777778,\"#fb9f3a\"],[0.8888888888888888,\"#fdca26\"],[1.0,\"#f0f921\"]]}],\"heatmap\":[{\"type\":\"heatmap\",\"colorbar\":{\"outlinewidth\":0,\"ticks\":\"\"},\"colorscale\":[[0.0,\"#0d0887\"],[0.1111111111111111,\"#46039f\"],[0.2222222222222222,\"#7201a8\"],[0.3333333333333333,\"#9c179e\"],[0.4444444444444444,\"#bd3786\"],[0.5555555555555556,\"#d8576b\"],[0.6666666666666666,\"#ed7953\"],[0.7777777777777778,\"#fb9f3a\"],[0.8888888888888888,\"#fdca26\"],[1.0,\"#f0f921\"]]}],\"heatmapgl\":[{\"type\":\"heatmapgl\",\"colorbar\":{\"outlinewidth\":0,\"ticks\":\"\"},\"colorscale\":[[0.0,\"#0d0887\"],[0.1111111111111111,\"#46039f\"],[0.2222222222222222,\"#7201a8\"],[0.3333333333333333,\"#9c179e\"],[0.4444444444444444,\"#bd3786\"],[0.5555555555555556,\"#d8576b\"],[0.6666666666666666,\"#ed7953\"],[0.7777777777777778,\"#fb9f3a\"],[0.8888888888888888,\"#fdca26\"],[1.0,\"#f0f921\"]]}],\"contourcarpet\":[{\"type\":\"contourcarpet\",\"colorbar\":{\"outlinewidth\":0,\"ticks\":\"\"}}],\"contour\":[{\"type\":\"contour\",\"colorbar\":{\"outlinewidth\":0,\"ticks\":\"\"},\"colorscale\":[[0.0,\"#0d0887\"],[0.1111111111111111,\"#46039f\"],[0.2222222222222222,\"#7201a8\"],[0.3333333333333333,\"#9c179e\"],[0.4444444444444444,\"#bd3786\"],[0.5555555555555556,\"#d8576b\"],[0.6666666666666666,\"#ed7953\"],[0.7777777777777778,\"#fb9f3a\"],[0.8888888888888888,\"#fdca26\"],[1.0,\"#f0f921\"]]}],\"surface\":[{\"type\":\"surface\",\"colorbar\":{\"outlinewidth\":0,\"ticks\":\"\"},\"colorscale\":[[0.0,\"#0d0887\"],[0.1111111111111111,\"#46039f\"],[0.2222222222222222,\"#7201a8\"],[0.3333333333333333,\"#9c179e\"],[0.4444444444444444,\"#bd3786\"],[0.5555555555555556,\"#d8576b\"],[0.6666666666666666,\"#ed7953\"],[0.7777777777777778,\"#fb9f3a\"],[0.8888888888888888,\"#fdca26\"],[1.0,\"#f0f921\"]]}],\"mesh3d\":[{\"type\":\"mesh3d\",\"colorbar\":{\"outlinewidth\":0,\"ticks\":\"\"}}],\"scatter\":[{\"fillpattern\":{\"fillmode\":\"overlay\",\"size\":10,\"solidity\":0.2},\"type\":\"scatter\"}],\"parcoords\":[{\"type\":\"parcoords\",\"line\":{\"colorbar\":{\"outlinewidth\":0,\"ticks\":\"\"}}}],\"scatterpolargl\":[{\"type\":\"scatterpolargl\",\"marker\":{\"colorbar\":{\"outlinewidth\":0,\"ticks\":\"\"}}}],\"bar\":[{\"error_x\":{\"color\":\"#2a3f5f\"},\"error_y\":{\"color\":\"#2a3f5f\"},\"marker\":{\"line\":{\"color\":\"#E5ECF6\",\"width\":0.5},\"pattern\":{\"fillmode\":\"overlay\",\"size\":10,\"solidity\":0.2}},\"type\":\"bar\"}],\"scattergeo\":[{\"type\":\"scattergeo\",\"marker\":{\"colorbar\":{\"outlinewidth\":0,\"ticks\":\"\"}}}],\"scatterpolar\":[{\"type\":\"scatterpolar\",\"marker\":{\"colorbar\":{\"outlinewidth\":0,\"ticks\":\"\"}}}],\"histogram\":[{\"marker\":{\"pattern\":{\"fillmode\":\"overlay\",\"size\":10,\"solidity\":0.2}},\"type\":\"histogram\"}],\"scattergl\":[{\"type\":\"scattergl\",\"marker\":{\"colorbar\":{\"outlinewidth\":0,\"ticks\":\"\"}}}],\"scatter3d\":[{\"type\":\"scatter3d\",\"line\":{\"colorbar\":{\"outlinewidth\":0,\"ticks\":\"\"}},\"marker\":{\"colorbar\":{\"outlinewidth\":0,\"ticks\":\"\"}}}],\"scattermapbox\":[{\"type\":\"scattermapbox\",\"marker\":{\"colorbar\":{\"outlinewidth\":0,\"ticks\":\"\"}}}],\"scatterternary\":[{\"type\":\"scatterternary\",\"marker\":{\"colorbar\":{\"outlinewidth\":0,\"ticks\":\"\"}}}],\"scattercarpet\":[{\"type\":\"scattercarpet\",\"marker\":{\"colorbar\":{\"outlinewidth\":0,\"ticks\":\"\"}}}],\"carpet\":[{\"aaxis\":{\"endlinecolor\":\"#2a3f5f\",\"gridcolor\":\"white\",\"linecolor\":\"white\",\"minorgridcolor\":\"white\",\"startlinecolor\":\"#2a3f5f\"},\"baxis\":{\"endlinecolor\":\"#2a3f5f\",\"gridcolor\":\"white\",\"linecolor\":\"white\",\"minorgridcolor\":\"white\",\"startlinecolor\":\"#2a3f5f\"},\"type\":\"carpet\"}],\"table\":[{\"cells\":{\"fill\":{\"color\":\"#EBF0F8\"},\"line\":{\"color\":\"white\"}},\"header\":{\"fill\":{\"color\":\"#C8D4E3\"},\"line\":{\"color\":\"white\"}},\"type\":\"table\"}],\"barpolar\":[{\"marker\":{\"line\":{\"color\":\"#E5ECF6\",\"width\":0.5},\"pattern\":{\"fillmode\":\"overlay\",\"size\":10,\"solidity\":0.2}},\"type\":\"barpolar\"}],\"pie\":[{\"automargin\":true,\"type\":\"pie\"}]},\"layout\":{\"autotypenumbers\":\"strict\",\"colorway\":[\"#636efa\",\"#EF553B\",\"#00cc96\",\"#ab63fa\",\"#FFA15A\",\"#19d3f3\",\"#FF6692\",\"#B6E880\",\"#FF97FF\",\"#FECB52\"],\"font\":{\"color\":\"#2a3f5f\"},\"hovermode\":\"closest\",\"hoverlabel\":{\"align\":\"left\"},\"paper_bgcolor\":\"white\",\"plot_bgcolor\":\"#E5ECF6\",\"polar\":{\"bgcolor\":\"#E5ECF6\",\"angularaxis\":{\"gridcolor\":\"white\",\"linecolor\":\"white\",\"ticks\":\"\"},\"radialaxis\":{\"gridcolor\":\"white\",\"linecolor\":\"white\",\"ticks\":\"\"}},\"ternary\":{\"bgcolor\":\"#E5ECF6\",\"aaxis\":{\"gridcolor\":\"white\",\"linecolor\":\"white\",\"ticks\":\"\"},\"baxis\":{\"gridcolor\":\"white\",\"linecolor\":\"white\",\"ticks\":\"\"},\"caxis\":{\"gridcolor\":\"white\",\"linecolor\":\"white\",\"ticks\":\"\"}},\"coloraxis\":{\"colorbar\":{\"outlinewidth\":0,\"ticks\":\"\"}},\"colorscale\":{\"sequential\":[[0.0,\"#0d0887\"],[0.1111111111111111,\"#46039f\"],[0.2222222222222222,\"#7201a8\"],[0.3333333333333333,\"#9c179e\"],[0.4444444444444444,\"#bd3786\"],[0.5555555555555556,\"#d8576b\"],[0.6666666666666666,\"#ed7953\"],[0.7777777777777778,\"#fb9f3a\"],[0.8888888888888888,\"#fdca26\"],[1.0,\"#f0f921\"]],\"sequentialminus\":[[0.0,\"#0d0887\"],[0.1111111111111111,\"#46039f\"],[0.2222222222222222,\"#7201a8\"],[0.3333333333333333,\"#9c179e\"],[0.4444444444444444,\"#bd3786\"],[0.5555555555555556,\"#d8576b\"],[0.6666666666666666,\"#ed7953\"],[0.7777777777777778,\"#fb9f3a\"],[0.8888888888888888,\"#fdca26\"],[1.0,\"#f0f921\"]],\"diverging\":[[0,\"#8e0152\"],[0.1,\"#c51b7d\"],[0.2,\"#de77ae\"],[0.3,\"#f1b6da\"],[0.4,\"#fde0ef\"],[0.5,\"#f7f7f7\"],[0.6,\"#e6f5d0\"],[0.7,\"#b8e186\"],[0.8,\"#7fbc41\"],[0.9,\"#4d9221\"],[1,\"#276419\"]]},\"xaxis\":{\"gridcolor\":\"white\",\"linecolor\":\"white\",\"ticks\":\"\",\"title\":{\"standoff\":15},\"zerolinecolor\":\"white\",\"automargin\":true,\"zerolinewidth\":2},\"yaxis\":{\"gridcolor\":\"white\",\"linecolor\":\"white\",\"ticks\":\"\",\"title\":{\"standoff\":15},\"zerolinecolor\":\"white\",\"automargin\":true,\"zerolinewidth\":2},\"scene\":{\"xaxis\":{\"backgroundcolor\":\"#E5ECF6\",\"gridcolor\":\"white\",\"linecolor\":\"white\",\"showbackground\":true,\"ticks\":\"\",\"zerolinecolor\":\"white\",\"gridwidth\":2},\"yaxis\":{\"backgroundcolor\":\"#E5ECF6\",\"gridcolor\":\"white\",\"linecolor\":\"white\",\"showbackground\":true,\"ticks\":\"\",\"zerolinecolor\":\"white\",\"gridwidth\":2},\"zaxis\":{\"backgroundcolor\":\"#E5ECF6\",\"gridcolor\":\"white\",\"linecolor\":\"white\",\"showbackground\":true,\"ticks\":\"\",\"zerolinecolor\":\"white\",\"gridwidth\":2}},\"shapedefaults\":{\"line\":{\"color\":\"#2a3f5f\"}},\"annotationdefaults\":{\"arrowcolor\":\"#2a3f5f\",\"arrowhead\":0,\"arrowwidth\":1},\"geo\":{\"bgcolor\":\"white\",\"landcolor\":\"#E5ECF6\",\"subunitcolor\":\"white\",\"showland\":true,\"showlakes\":true,\"lakecolor\":\"white\"},\"title\":{\"x\":0.05},\"mapbox\":{\"style\":\"light\"}}},\"xaxis\":{\"anchor\":\"y\",\"domain\":[0.0,1.0],\"title\":{\"text\":\"GHGEmissionsIntensity\"}},\"yaxis\":{\"anchor\":\"x\",\"domain\":[0.0,1.0]},\"legend\":{\"tracegroupgap\":0},\"margin\":{\"t\":60},\"boxmode\":\"group\"},                        {\"responsive\": true}                    ).then(function(){\n",
       "                            \n",
       "var gd = document.getElementById('98003c9c-1387-4980-80aa-d575fb64b079');\n",
       "var x = new MutationObserver(function (mutations, observer) {{\n",
       "        var display = window.getComputedStyle(gd).display;\n",
       "        if (!display || display === 'none') {{\n",
       "            console.log([gd, 'removed!']);\n",
       "            Plotly.purge(gd);\n",
       "            observer.disconnect();\n",
       "        }}\n",
       "}});\n",
       "\n",
       "// Listen for the removal of the full notebook cells\n",
       "var notebookContainer = gd.closest('#notebook-container');\n",
       "if (notebookContainer) {{\n",
       "    x.observe(notebookContainer, {childList: true});\n",
       "}}\n",
       "\n",
       "// Listen for the clearing of the current output cell\n",
       "var outputEl = gd.closest('.output');\n",
       "if (outputEl) {{\n",
       "    x.observe(outputEl, {childList: true});\n",
       "}}\n",
       "\n",
       "                        })                };                });            </script>        </div>"
      ]
     },
     "metadata": {},
     "output_type": "display_data"
    },
    {
     "data": {
      "application/vnd.plotly.v1+json": {
       "config": {
        "plotlyServerURL": "https://plot.ly"
       },
       "data": [
        {
         "alignmentgroup": "True",
         "bingroup": "x",
         "hovertemplate": "variable=GHGEmissionsIntensity<br>value=%{x}<br>count=%{y}<extra></extra>",
         "legendgroup": "GHGEmissionsIntensity",
         "marker": {
          "color": "#636efa",
          "pattern": {
           "shape": ""
          }
         },
         "name": "GHGEmissionsIntensity",
         "nbinsx": 24,
         "offsetgroup": "GHGEmissionsIntensity",
         "orientation": "v",
         "showlegend": true,
         "type": "histogram",
         "x": [
          1.02,
          0.14,
          1.88,
          1.81,
          2.63,
          0.04,
          0.57,
          1.38,
          1.6,
          0.64,
          0.4,
          0.58,
          0.6,
          1.89,
          1.28,
          1.33,
          1.4,
          0.98,
          2.61,
          1.4,
          1.6,
          0.8,
          0.67,
          0.1,
          0.64,
          1.57,
          1.16,
          0.34,
          0.78,
          0.65,
          2.48,
          1.29,
          0.75,
          2.89,
          0.64,
          1.41,
          1.17,
          2.31,
          3.03,
          1.12,
          1.12,
          1.98,
          0.93,
          0.77,
          0.53,
          1.51,
          0.6,
          0.61,
          0.55,
          1.06,
          0.94,
          0.06,
          1.93,
          3.21,
          0.63,
          0.54,
          0.47,
          0.84,
          0.13,
          1.89,
          1.31,
          0.97,
          1.49,
          1.46,
          0.44,
          1.33,
          0.13,
          0.88,
          0.36,
          0.36,
          0.17,
          0.61,
          1,
          0.23,
          0.22,
          0.07,
          0.83,
          0.24,
          0.5,
          0.61,
          0.93,
          0.15,
          0.23,
          1.34,
          2.73,
          0.46,
          0.47,
          0.3,
          1.18,
          0.26,
          1.25,
          0.36,
          0.84,
          0.11,
          1.98,
          0.05,
          0.05,
          0.22,
          0.22,
          0.48,
          0.47,
          0.32,
          0.62,
          1.68,
          0.24,
          0.24,
          0.22,
          0.16,
          0.23,
          0.58,
          1.1,
          0.27,
          0.29,
          0.28,
          0.28,
          0.41,
          0.23,
          0.72,
          0.72,
          0.84,
          0.11,
          3.17,
          0.28,
          0.3,
          0.39,
          0.19,
          0.64,
          1.28,
          0.13,
          0.02,
          0.24,
          0.35,
          0.12,
          0.85,
          1.33,
          0.13,
          0.06,
          0.88,
          0.36,
          0.1,
          0.51,
          1.27,
          0.61,
          1.31,
          0.62,
          1.38,
          0.48,
          1.07,
          0.4,
          0.43,
          0.98,
          0.25,
          0.51,
          0.43,
          0.41,
          0.38,
          0.3,
          0.52,
          0.64,
          1.16,
          0.54,
          0.26,
          0.23,
          0.94,
          0.41,
          1.31,
          2.11,
          0.27,
          0.4,
          1.21,
          0.42,
          0.09,
          1.12,
          0.25,
          1.35,
          0.27,
          0.31,
          0.33,
          0.2,
          0.56,
          0.79,
          1.73,
          0.8,
          0.24,
          0.21,
          0.7,
          0.25,
          0.13,
          2.07,
          0.27,
          0.37,
          2.8,
          0.68,
          0.78,
          0.93,
          0.5,
          0.59,
          0.65,
          0.42,
          1.19,
          0.18,
          0.43,
          0.38,
          0.33,
          0.19,
          0.31,
          0.62,
          0,
          1.2,
          0.9,
          0.27,
          0.34,
          0.56,
          0.56,
          0.37,
          0.06,
          0.28,
          0.87,
          0.8,
          0.82,
          1.39,
          0.06,
          0.64,
          0.77,
          0.24,
          2.12,
          0.85,
          2.92,
          0.31,
          0.36,
          0.31,
          0.5,
          0.43,
          0.63,
          3.38,
          0.8,
          1.39,
          0.83,
          2.72,
          0.33,
          0.7,
          0.39,
          0.34,
          0.26,
          0.47,
          0.15,
          0.33,
          0.88,
          0.49,
          1,
          1.81,
          1.36,
          0.96,
          0.33,
          1.63,
          0.39,
          0.12,
          0.01,
          2.37,
          1.63,
          1.55,
          3.85,
          0.4,
          0.78,
          0.13,
          0.02,
          0.65,
          1.18,
          0.17,
          0.45,
          0.27,
          0.6,
          0.17,
          0.06,
          0.09,
          1.82,
          0.2,
          0.26,
          0.75,
          1.43,
          0.68,
          0.26,
          0.88,
          0.39,
          0.94,
          2.09,
          1.8,
          0.14,
          2.06,
          0.08,
          0.09,
          0.65,
          0.52,
          1.33,
          0.44,
          0.42,
          1.13,
          1.15,
          0.36,
          2.26,
          1.37,
          2.28,
          0.15,
          2.02,
          1.14,
          0.5,
          2.05,
          0.53,
          0.29,
          0.7,
          0.59,
          0.42,
          0.26,
          0.85,
          0.4,
          0.52,
          0.19,
          0.23,
          1,
          1.8,
          1.29,
          0.29,
          0.1,
          1.15,
          0.41,
          0.45,
          0.41,
          2.28,
          1.28,
          1.64,
          0.91,
          0.79,
          0.2,
          0.68,
          1.2,
          1.17,
          1.21,
          0.75,
          3.04,
          2.06,
          2.28,
          0.78,
          1.53,
          0.7,
          0.56,
          3.08,
          0.29,
          1.8,
          0.28,
          1.22,
          1.09,
          0.32,
          1.82,
          0.17,
          0.16,
          0.24,
          2.47,
          3.13,
          0.86,
          0.24,
          0.3,
          0.67,
          0.8,
          1.25,
          0.02,
          0.46,
          3.65,
          1.79,
          1.15,
          2.41,
          0.52,
          0.79,
          0.05,
          1.32,
          0.35,
          0.87,
          0.48,
          0.2,
          0.64,
          0.67,
          0.56,
          0.5,
          1.61,
          0.04,
          0.19,
          0.05,
          3.05,
          0.06,
          1.96,
          1.94,
          3,
          0.28,
          1.1,
          0.03,
          1.4,
          1.74,
          2.01,
          0.91,
          1.96,
          0.7,
          0.12,
          0.21,
          0.24,
          1.87,
          0.35,
          0.55,
          0.61,
          2.94,
          1.58,
          3.69,
          2.47,
          0.6,
          0.14,
          0.26,
          0.31,
          0.12,
          2.34,
          1.77,
          3.17,
          0.08,
          0.17,
          0.9,
          0.36,
          0.89,
          0.11,
          0.13,
          0.53,
          0.6,
          1.79,
          1.8,
          0.27,
          2.05,
          0.31,
          0.65,
          2.51,
          0.42,
          2.39,
          0.52,
          1.33,
          0.23,
          0.4,
          0.28,
          0.94,
          0.33,
          0.47,
          0.28,
          0.3,
          1.38,
          2.45,
          1.01,
          0.62,
          0.22,
          1.57,
          0.29,
          3.93,
          1.41,
          1.74,
          1.27,
          3.88,
          2.67,
          0.65,
          0.23,
          0.44,
          0.39,
          0.36,
          0.76,
          0.57,
          0.59,
          1.35,
          0.36,
          2.06,
          2.77,
          1.46,
          1.35,
          0.03,
          1.15,
          0.64,
          1.79,
          1.83,
          1.26,
          1.23,
          1.95,
          0.89,
          0.37,
          1.2,
          0.66,
          0.37,
          0.16,
          0.34,
          1.99,
          1.1,
          0.15,
          0.36,
          4.14,
          0.21,
          2.59,
          0.44,
          0.76,
          3.98,
          0.14,
          0.21,
          1.95,
          1.04,
          0.15,
          0.91,
          2.52,
          2.13,
          1.08,
          2.22,
          2.99,
          0.2,
          0.31,
          2.43,
          0.32,
          2.14,
          1.9,
          0.16,
          0.22,
          1.33,
          0.21,
          0.59,
          0.66,
          0.08,
          1.02,
          0.32,
          1.68,
          0.66,
          3.97,
          0.08,
          3.27,
          0.68,
          2.77,
          1.48,
          0.62,
          0.26,
          1.28,
          0.29,
          1.24,
          1.4,
          1.48,
          0.24,
          0.63,
          0.8,
          2.44,
          0.04,
          2.17,
          0.6,
          0.83,
          1.7,
          1.42,
          1.25,
          1.89,
          0.13,
          1.26,
          0.31,
          0.44,
          1.22,
          0.72,
          0.57,
          1.42,
          0.32,
          0.58,
          1.34,
          0.07,
          0.22,
          0.66,
          1.42,
          0.02,
          0.01,
          0.23,
          0.41,
          0.31,
          0.2,
          0.23,
          0.21,
          0.04,
          0.34,
          1.47,
          0.75,
          0.72,
          2.24,
          1.18,
          1.39,
          1.27,
          0.31,
          3.32,
          0.22,
          0.29,
          0.74,
          0.72,
          3.68,
          0.31,
          1.89,
          0.23,
          1.38,
          1.16,
          1,
          2.25,
          1.82,
          1.2,
          0.33,
          1.19,
          0.07,
          0.08,
          0.97,
          0.27,
          0.11,
          0.58,
          0.11,
          0.18,
          0.64,
          1.37,
          0.09,
          0.12,
          1.47,
          0.94,
          0.32,
          3.14,
          1.98,
          0.43,
          0.65,
          0.93,
          0.12,
          0.45,
          0.88,
          1.21,
          0.22,
          0.31,
          0.18,
          0.24,
          1.1,
          0.55,
          0.43,
          3.65,
          1.99,
          0.83,
          0.13,
          0.34,
          1.41,
          0.92,
          1.2,
          0.66,
          0.17,
          0.59,
          0.19,
          0.32,
          0.41,
          0.52,
          4.01,
          0.61,
          2.29,
          1.45,
          0.34,
          1.43,
          2.51,
          0.82,
          1.47,
          0.33,
          0.72,
          0.05,
          3.26,
          1.75,
          0.15,
          0.81,
          0.24,
          2.46,
          0.8,
          0.08,
          4.02,
          1.37,
          1.12,
          0.94,
          0.11,
          3.29,
          2.42,
          0.6,
          0.56,
          0.25,
          0.34,
          0.47,
          0.04,
          0.27,
          0.16,
          0.8,
          1.99,
          0.15,
          0.35,
          1.71,
          0.96,
          0.71,
          0.46,
          2.46,
          1.72,
          1.15,
          2.31,
          0.23,
          0.26,
          0.18,
          0.21,
          0.65,
          0.8,
          1.53,
          1.68,
          2.09,
          0.07,
          0.23,
          0.4,
          1.27,
          0.8,
          1.22,
          1.87,
          0.28,
          2.07,
          0.52,
          0.15,
          0.09,
          0.26,
          0.29,
          0.61,
          0.84,
          0.15,
          0.6,
          0.58,
          0.39,
          0.38,
          2.01,
          0.91,
          0.3,
          0.74,
          0.5,
          0.74,
          1.14,
          0.87,
          0.54,
          1.63,
          0.21,
          1.67,
          0.06,
          0.21,
          0.58,
          1.31,
          3.99,
          3.46,
          1.38,
          1.94,
          1.23,
          1.42,
          1.95,
          0.8,
          0.67,
          0.31,
          0.67,
          0.89,
          0.6,
          0.31,
          0.06,
          0.34,
          2.44,
          0.22,
          3.25,
          0.06,
          0.2,
          1.49,
          1.26,
          0.71,
          0.88,
          1.44,
          3.61,
          0.35,
          0.28,
          0.06,
          0.84,
          0.68,
          0.2,
          0.33,
          2.34,
          0.43,
          1.68,
          1.95,
          0.03,
          0.03,
          0.18,
          1.57,
          3.04,
          0.48,
          1.01,
          0.57,
          1.82,
          2.34,
          0.63,
          0.7,
          0.55,
          1.38,
          0.56,
          1.31,
          1.43,
          0.54,
          1.95,
          0.1,
          0.29,
          1.27,
          0.9,
          0.6,
          1.04,
          0.61,
          0.33,
          1.31,
          1.65,
          0.27,
          4.02,
          1.1,
          0.64,
          0.63,
          3.98,
          0.06,
          0.92,
          1.06,
          1.02,
          3.67,
          0.25,
          3.28,
          0.54,
          0.6,
          1.07,
          0.42,
          0.37,
          1.09,
          0.56,
          0.32,
          1.7,
          0.14,
          0.46,
          0.45,
          0.28,
          0.35,
          1.13,
          0.83,
          0.14,
          0.27,
          0.85,
          0.06,
          0.91,
          0.6,
          1.24,
          1.01,
          0.71,
          1.93,
          0.23,
          2.64,
          0.34,
          1.17,
          0.63,
          0.22,
          4.15,
          1.73,
          2.43,
          0.92,
          2.12,
          0.28,
          1.63,
          2.37,
          3.75,
          2.03,
          0.37,
          0.33,
          1.13,
          1.51,
          1.3,
          1.4,
          1,
          1.26,
          1.51,
          0.46,
          3.63,
          3.14,
          0.19,
          0.05,
          1.87,
          0.43,
          1.13,
          1.11,
          0.61,
          2.08,
          0.27,
          0.23,
          1.15,
          0.45,
          0.23,
          0.72,
          1.14,
          0.77,
          0.91,
          2.56,
          1.01,
          0.5,
          0.54,
          0.1,
          0.18,
          0.73,
          1.2,
          0.25,
          0.3,
          0.42,
          0.17,
          0.34,
          0.97,
          1.01,
          1.31,
          0.32,
          0.27,
          1.34,
          2.06,
          0.2,
          2.4,
          2.27,
          0.21,
          2.47,
          3.02,
          1.91,
          0.19,
          3.73,
          1.2,
          0.67,
          0.77,
          2.09,
          0.84,
          0.91,
          1.66,
          0.8,
          0.34,
          1.38,
          2.49,
          1.18,
          0.88,
          1.45,
          2.4,
          0.13,
          1.03,
          0.11,
          0.69,
          0.19,
          0.13,
          2.19,
          0.04,
          0.5,
          0.55,
          0.07,
          3.81,
          0.18,
          0.88,
          0.88,
          1.91,
          0.97,
          1.05,
          2.1,
          0.22,
          0.38,
          1.58,
          0.04,
          0.07,
          0.26,
          0.52,
          2.27,
          1.82,
          0.72,
          1.39,
          2.09,
          3.98,
          0.07,
          0.99,
          2.15,
          2.11,
          3.01,
          1.2,
          2.4,
          0.76,
          0.18,
          1.89,
          0.11,
          2.23,
          0.21,
          1.6,
          0.39,
          1.18,
          0.79,
          1.08,
          0.73,
          4.21,
          3.06,
          0.17,
          1.72,
          1.08,
          0.41,
          0.2,
          0.43,
          2.78,
          0.13,
          0.34,
          0.59,
          1.28,
          1,
          3.29,
          0.82,
          1.44,
          0.09,
          0.32,
          0.39,
          2.32,
          0.47,
          0.28,
          0.86,
          0.74,
          0.3,
          2,
          0.51,
          1.28,
          0.44,
          0.59,
          0.54,
          0.64,
          0.1,
          0.29,
          1.72,
          0.17,
          0.85,
          1.03,
          3.03,
          0.94,
          0.21,
          0.33,
          0.22,
          2.5,
          1.92,
          1.27,
          1.47,
          3.03,
          1.11,
          2.01,
          1.57,
          2.26
         ],
         "xaxis": "x",
         "yaxis": "y"
        }
       ],
       "layout": {
        "barmode": "relative",
        "legend": {
         "title": {
          "text": "variable"
         },
         "tracegroupgap": 0
        },
        "margin": {
         "t": 60
        },
        "template": {
         "data": {
          "bar": [
           {
            "error_x": {
             "color": "#2a3f5f"
            },
            "error_y": {
             "color": "#2a3f5f"
            },
            "marker": {
             "line": {
              "color": "#E5ECF6",
              "width": 0.5
             },
             "pattern": {
              "fillmode": "overlay",
              "size": 10,
              "solidity": 0.2
             }
            },
            "type": "bar"
           }
          ],
          "barpolar": [
           {
            "marker": {
             "line": {
              "color": "#E5ECF6",
              "width": 0.5
             },
             "pattern": {
              "fillmode": "overlay",
              "size": 10,
              "solidity": 0.2
             }
            },
            "type": "barpolar"
           }
          ],
          "carpet": [
           {
            "aaxis": {
             "endlinecolor": "#2a3f5f",
             "gridcolor": "white",
             "linecolor": "white",
             "minorgridcolor": "white",
             "startlinecolor": "#2a3f5f"
            },
            "baxis": {
             "endlinecolor": "#2a3f5f",
             "gridcolor": "white",
             "linecolor": "white",
             "minorgridcolor": "white",
             "startlinecolor": "#2a3f5f"
            },
            "type": "carpet"
           }
          ],
          "choropleth": [
           {
            "colorbar": {
             "outlinewidth": 0,
             "ticks": ""
            },
            "type": "choropleth"
           }
          ],
          "contour": [
           {
            "colorbar": {
             "outlinewidth": 0,
             "ticks": ""
            },
            "colorscale": [
             [
              0,
              "#0d0887"
             ],
             [
              0.1111111111111111,
              "#46039f"
             ],
             [
              0.2222222222222222,
              "#7201a8"
             ],
             [
              0.3333333333333333,
              "#9c179e"
             ],
             [
              0.4444444444444444,
              "#bd3786"
             ],
             [
              0.5555555555555556,
              "#d8576b"
             ],
             [
              0.6666666666666666,
              "#ed7953"
             ],
             [
              0.7777777777777778,
              "#fb9f3a"
             ],
             [
              0.8888888888888888,
              "#fdca26"
             ],
             [
              1,
              "#f0f921"
             ]
            ],
            "type": "contour"
           }
          ],
          "contourcarpet": [
           {
            "colorbar": {
             "outlinewidth": 0,
             "ticks": ""
            },
            "type": "contourcarpet"
           }
          ],
          "heatmap": [
           {
            "colorbar": {
             "outlinewidth": 0,
             "ticks": ""
            },
            "colorscale": [
             [
              0,
              "#0d0887"
             ],
             [
              0.1111111111111111,
              "#46039f"
             ],
             [
              0.2222222222222222,
              "#7201a8"
             ],
             [
              0.3333333333333333,
              "#9c179e"
             ],
             [
              0.4444444444444444,
              "#bd3786"
             ],
             [
              0.5555555555555556,
              "#d8576b"
             ],
             [
              0.6666666666666666,
              "#ed7953"
             ],
             [
              0.7777777777777778,
              "#fb9f3a"
             ],
             [
              0.8888888888888888,
              "#fdca26"
             ],
             [
              1,
              "#f0f921"
             ]
            ],
            "type": "heatmap"
           }
          ],
          "heatmapgl": [
           {
            "colorbar": {
             "outlinewidth": 0,
             "ticks": ""
            },
            "colorscale": [
             [
              0,
              "#0d0887"
             ],
             [
              0.1111111111111111,
              "#46039f"
             ],
             [
              0.2222222222222222,
              "#7201a8"
             ],
             [
              0.3333333333333333,
              "#9c179e"
             ],
             [
              0.4444444444444444,
              "#bd3786"
             ],
             [
              0.5555555555555556,
              "#d8576b"
             ],
             [
              0.6666666666666666,
              "#ed7953"
             ],
             [
              0.7777777777777778,
              "#fb9f3a"
             ],
             [
              0.8888888888888888,
              "#fdca26"
             ],
             [
              1,
              "#f0f921"
             ]
            ],
            "type": "heatmapgl"
           }
          ],
          "histogram": [
           {
            "marker": {
             "pattern": {
              "fillmode": "overlay",
              "size": 10,
              "solidity": 0.2
             }
            },
            "type": "histogram"
           }
          ],
          "histogram2d": [
           {
            "colorbar": {
             "outlinewidth": 0,
             "ticks": ""
            },
            "colorscale": [
             [
              0,
              "#0d0887"
             ],
             [
              0.1111111111111111,
              "#46039f"
             ],
             [
              0.2222222222222222,
              "#7201a8"
             ],
             [
              0.3333333333333333,
              "#9c179e"
             ],
             [
              0.4444444444444444,
              "#bd3786"
             ],
             [
              0.5555555555555556,
              "#d8576b"
             ],
             [
              0.6666666666666666,
              "#ed7953"
             ],
             [
              0.7777777777777778,
              "#fb9f3a"
             ],
             [
              0.8888888888888888,
              "#fdca26"
             ],
             [
              1,
              "#f0f921"
             ]
            ],
            "type": "histogram2d"
           }
          ],
          "histogram2dcontour": [
           {
            "colorbar": {
             "outlinewidth": 0,
             "ticks": ""
            },
            "colorscale": [
             [
              0,
              "#0d0887"
             ],
             [
              0.1111111111111111,
              "#46039f"
             ],
             [
              0.2222222222222222,
              "#7201a8"
             ],
             [
              0.3333333333333333,
              "#9c179e"
             ],
             [
              0.4444444444444444,
              "#bd3786"
             ],
             [
              0.5555555555555556,
              "#d8576b"
             ],
             [
              0.6666666666666666,
              "#ed7953"
             ],
             [
              0.7777777777777778,
              "#fb9f3a"
             ],
             [
              0.8888888888888888,
              "#fdca26"
             ],
             [
              1,
              "#f0f921"
             ]
            ],
            "type": "histogram2dcontour"
           }
          ],
          "mesh3d": [
           {
            "colorbar": {
             "outlinewidth": 0,
             "ticks": ""
            },
            "type": "mesh3d"
           }
          ],
          "parcoords": [
           {
            "line": {
             "colorbar": {
              "outlinewidth": 0,
              "ticks": ""
             }
            },
            "type": "parcoords"
           }
          ],
          "pie": [
           {
            "automargin": true,
            "type": "pie"
           }
          ],
          "scatter": [
           {
            "fillpattern": {
             "fillmode": "overlay",
             "size": 10,
             "solidity": 0.2
            },
            "type": "scatter"
           }
          ],
          "scatter3d": [
           {
            "line": {
             "colorbar": {
              "outlinewidth": 0,
              "ticks": ""
             }
            },
            "marker": {
             "colorbar": {
              "outlinewidth": 0,
              "ticks": ""
             }
            },
            "type": "scatter3d"
           }
          ],
          "scattercarpet": [
           {
            "marker": {
             "colorbar": {
              "outlinewidth": 0,
              "ticks": ""
             }
            },
            "type": "scattercarpet"
           }
          ],
          "scattergeo": [
           {
            "marker": {
             "colorbar": {
              "outlinewidth": 0,
              "ticks": ""
             }
            },
            "type": "scattergeo"
           }
          ],
          "scattergl": [
           {
            "marker": {
             "colorbar": {
              "outlinewidth": 0,
              "ticks": ""
             }
            },
            "type": "scattergl"
           }
          ],
          "scattermapbox": [
           {
            "marker": {
             "colorbar": {
              "outlinewidth": 0,
              "ticks": ""
             }
            },
            "type": "scattermapbox"
           }
          ],
          "scatterpolar": [
           {
            "marker": {
             "colorbar": {
              "outlinewidth": 0,
              "ticks": ""
             }
            },
            "type": "scatterpolar"
           }
          ],
          "scatterpolargl": [
           {
            "marker": {
             "colorbar": {
              "outlinewidth": 0,
              "ticks": ""
             }
            },
            "type": "scatterpolargl"
           }
          ],
          "scatterternary": [
           {
            "marker": {
             "colorbar": {
              "outlinewidth": 0,
              "ticks": ""
             }
            },
            "type": "scatterternary"
           }
          ],
          "surface": [
           {
            "colorbar": {
             "outlinewidth": 0,
             "ticks": ""
            },
            "colorscale": [
             [
              0,
              "#0d0887"
             ],
             [
              0.1111111111111111,
              "#46039f"
             ],
             [
              0.2222222222222222,
              "#7201a8"
             ],
             [
              0.3333333333333333,
              "#9c179e"
             ],
             [
              0.4444444444444444,
              "#bd3786"
             ],
             [
              0.5555555555555556,
              "#d8576b"
             ],
             [
              0.6666666666666666,
              "#ed7953"
             ],
             [
              0.7777777777777778,
              "#fb9f3a"
             ],
             [
              0.8888888888888888,
              "#fdca26"
             ],
             [
              1,
              "#f0f921"
             ]
            ],
            "type": "surface"
           }
          ],
          "table": [
           {
            "cells": {
             "fill": {
              "color": "#EBF0F8"
             },
             "line": {
              "color": "white"
             }
            },
            "header": {
             "fill": {
              "color": "#C8D4E3"
             },
             "line": {
              "color": "white"
             }
            },
            "type": "table"
           }
          ]
         },
         "layout": {
          "annotationdefaults": {
           "arrowcolor": "#2a3f5f",
           "arrowhead": 0,
           "arrowwidth": 1
          },
          "autotypenumbers": "strict",
          "coloraxis": {
           "colorbar": {
            "outlinewidth": 0,
            "ticks": ""
           }
          },
          "colorscale": {
           "diverging": [
            [
             0,
             "#8e0152"
            ],
            [
             0.1,
             "#c51b7d"
            ],
            [
             0.2,
             "#de77ae"
            ],
            [
             0.3,
             "#f1b6da"
            ],
            [
             0.4,
             "#fde0ef"
            ],
            [
             0.5,
             "#f7f7f7"
            ],
            [
             0.6,
             "#e6f5d0"
            ],
            [
             0.7,
             "#b8e186"
            ],
            [
             0.8,
             "#7fbc41"
            ],
            [
             0.9,
             "#4d9221"
            ],
            [
             1,
             "#276419"
            ]
           ],
           "sequential": [
            [
             0,
             "#0d0887"
            ],
            [
             0.1111111111111111,
             "#46039f"
            ],
            [
             0.2222222222222222,
             "#7201a8"
            ],
            [
             0.3333333333333333,
             "#9c179e"
            ],
            [
             0.4444444444444444,
             "#bd3786"
            ],
            [
             0.5555555555555556,
             "#d8576b"
            ],
            [
             0.6666666666666666,
             "#ed7953"
            ],
            [
             0.7777777777777778,
             "#fb9f3a"
            ],
            [
             0.8888888888888888,
             "#fdca26"
            ],
            [
             1,
             "#f0f921"
            ]
           ],
           "sequentialminus": [
            [
             0,
             "#0d0887"
            ],
            [
             0.1111111111111111,
             "#46039f"
            ],
            [
             0.2222222222222222,
             "#7201a8"
            ],
            [
             0.3333333333333333,
             "#9c179e"
            ],
            [
             0.4444444444444444,
             "#bd3786"
            ],
            [
             0.5555555555555556,
             "#d8576b"
            ],
            [
             0.6666666666666666,
             "#ed7953"
            ],
            [
             0.7777777777777778,
             "#fb9f3a"
            ],
            [
             0.8888888888888888,
             "#fdca26"
            ],
            [
             1,
             "#f0f921"
            ]
           ]
          },
          "colorway": [
           "#636efa",
           "#EF553B",
           "#00cc96",
           "#ab63fa",
           "#FFA15A",
           "#19d3f3",
           "#FF6692",
           "#B6E880",
           "#FF97FF",
           "#FECB52"
          ],
          "font": {
           "color": "#2a3f5f"
          },
          "geo": {
           "bgcolor": "white",
           "lakecolor": "white",
           "landcolor": "#E5ECF6",
           "showlakes": true,
           "showland": true,
           "subunitcolor": "white"
          },
          "hoverlabel": {
           "align": "left"
          },
          "hovermode": "closest",
          "mapbox": {
           "style": "light"
          },
          "paper_bgcolor": "white",
          "plot_bgcolor": "#E5ECF6",
          "polar": {
           "angularaxis": {
            "gridcolor": "white",
            "linecolor": "white",
            "ticks": ""
           },
           "bgcolor": "#E5ECF6",
           "radialaxis": {
            "gridcolor": "white",
            "linecolor": "white",
            "ticks": ""
           }
          },
          "scene": {
           "xaxis": {
            "backgroundcolor": "#E5ECF6",
            "gridcolor": "white",
            "gridwidth": 2,
            "linecolor": "white",
            "showbackground": true,
            "ticks": "",
            "zerolinecolor": "white"
           },
           "yaxis": {
            "backgroundcolor": "#E5ECF6",
            "gridcolor": "white",
            "gridwidth": 2,
            "linecolor": "white",
            "showbackground": true,
            "ticks": "",
            "zerolinecolor": "white"
           },
           "zaxis": {
            "backgroundcolor": "#E5ECF6",
            "gridcolor": "white",
            "gridwidth": 2,
            "linecolor": "white",
            "showbackground": true,
            "ticks": "",
            "zerolinecolor": "white"
           }
          },
          "shapedefaults": {
           "line": {
            "color": "#2a3f5f"
           }
          },
          "ternary": {
           "aaxis": {
            "gridcolor": "white",
            "linecolor": "white",
            "ticks": ""
           },
           "baxis": {
            "gridcolor": "white",
            "linecolor": "white",
            "ticks": ""
           },
           "bgcolor": "#E5ECF6",
           "caxis": {
            "gridcolor": "white",
            "linecolor": "white",
            "ticks": ""
           }
          },
          "title": {
           "x": 0.05
          },
          "xaxis": {
           "automargin": true,
           "gridcolor": "white",
           "linecolor": "white",
           "ticks": "",
           "title": {
            "standoff": 15
           },
           "zerolinecolor": "white",
           "zerolinewidth": 2
          },
          "yaxis": {
           "automargin": true,
           "gridcolor": "white",
           "linecolor": "white",
           "ticks": "",
           "title": {
            "standoff": 15
           },
           "zerolinecolor": "white",
           "zerolinewidth": 2
          }
         }
        },
        "xaxis": {
         "anchor": "y",
         "domain": [
          0,
          1
         ],
         "title": {
          "text": "value"
         }
        },
        "yaxis": {
         "anchor": "x",
         "domain": [
          0,
          1
         ],
         "title": {
          "text": "count"
         }
        }
       }
      },
      "text/html": [
       "<div>                            <div id=\"7708e17f-9ae1-45ab-9263-8792f32f64c4\" class=\"plotly-graph-div\" style=\"height:525px; width:100%;\"></div>            <script type=\"text/javascript\">                require([\"plotly\"], function(Plotly) {                    window.PLOTLYENV=window.PLOTLYENV || {};                                    if (document.getElementById(\"7708e17f-9ae1-45ab-9263-8792f32f64c4\")) {                    Plotly.newPlot(                        \"7708e17f-9ae1-45ab-9263-8792f32f64c4\",                        [{\"alignmentgroup\":\"True\",\"bingroup\":\"x\",\"hovertemplate\":\"variable=GHGEmissionsIntensity<br>value=%{x}<br>count=%{y}<extra></extra>\",\"legendgroup\":\"GHGEmissionsIntensity\",\"marker\":{\"color\":\"#636efa\",\"pattern\":{\"shape\":\"\"}},\"name\":\"GHGEmissionsIntensity\",\"nbinsx\":24,\"offsetgroup\":\"GHGEmissionsIntensity\",\"orientation\":\"v\",\"showlegend\":true,\"x\":[1.02,0.14,1.88,1.81,2.63,0.04,0.57,1.38,1.6,0.64,0.4,0.58,0.6,1.89,1.28,1.33,1.4,0.98,2.61,1.4,1.6,0.8,0.67,0.1,0.64,1.57,1.16,0.34,0.78,0.65,2.48,1.29,0.75,2.89,0.64,1.41,1.17,2.31,3.03,1.12,1.12,1.98,0.93,0.77,0.53,1.51,0.6,0.61,0.55,1.06,0.94,0.06,1.93,3.21,0.63,0.54,0.47,0.84,0.13,1.89,1.31,0.97,1.49,1.46,0.44,1.33,0.13,0.88,0.36,0.36,0.17,0.61,1.0,0.23,0.22,0.07,0.83,0.24,0.5,0.61,0.93,0.15,0.23,1.34,2.73,0.46,0.47,0.3,1.18,0.26,1.25,0.36,0.84,0.11,1.98,0.05,0.05,0.22,0.22,0.48,0.47,0.32,0.62,1.68,0.24,0.24,0.22,0.16,0.23,0.58,1.1,0.27,0.29,0.28,0.28,0.41,0.23,0.72,0.72,0.84,0.11,3.17,0.28,0.3,0.39,0.19,0.64,1.28,0.13,0.02,0.24,0.35,0.12,0.85,1.33,0.13,0.06,0.88,0.36,0.1,0.51,1.27,0.61,1.31,0.62,1.38,0.48,1.07,0.4,0.43,0.98,0.25,0.51,0.43,0.41,0.38,0.3,0.52,0.64,1.16,0.54,0.26,0.23,0.94,0.41,1.31,2.11,0.27,0.4,1.21,0.42,0.09,1.12,0.25,1.35,0.27,0.31,0.33,0.2,0.56,0.79,1.73,0.8,0.24,0.21,0.7,0.25,0.13,2.07,0.27,0.37,2.8,0.68,0.78,0.93,0.5,0.59,0.65,0.42,1.19,0.18,0.43,0.38,0.33,0.19,0.31,0.62,0.0,1.2,0.9,0.27,0.34,0.56,0.56,0.37,0.06,0.28,0.87,0.8,0.82,1.39,0.06,0.64,0.77,0.24,2.12,0.85,2.92,0.31,0.36,0.31,0.5,0.43,0.63,3.38,0.8,1.39,0.83,2.72,0.33,0.7,0.39,0.34,0.26,0.47,0.15,0.33,0.88,0.49,1.0,1.81,1.36,0.96,0.33,1.63,0.39,0.12,0.01,2.37,1.63,1.55,3.85,0.4,0.78,0.13,0.02,0.65,1.18,0.17,0.45,0.27,0.6,0.17,0.06,0.09,1.82,0.2,0.26,0.75,1.43,0.68,0.26,0.88,0.39,0.94,2.09,1.8,0.14,2.06,0.08,0.09,0.65,0.52,1.33,0.44,0.42,1.13,1.15,0.36,2.26,1.37,2.28,0.15,2.02,1.14,0.5,2.05,0.53,0.29,0.7,0.59,0.42,0.26,0.85,0.4,0.52,0.19,0.23,1.0,1.8,1.29,0.29,0.1,1.15,0.41,0.45,0.41,2.28,1.28,1.64,0.91,0.79,0.2,0.68,1.2,1.17,1.21,0.75,3.04,2.06,2.28,0.78,1.53,0.7,0.56,3.08,0.29,1.8,0.28,1.22,1.09,0.32,1.82,0.17,0.16,0.24,2.47,3.13,0.86,0.24,0.3,0.67,0.8,1.25,0.02,0.46,3.65,1.79,1.15,2.41,0.52,0.79,0.05,1.32,0.35,0.87,0.48,0.2,0.64,0.67,0.56,0.5,1.61,0.04,0.19,0.05,3.05,0.06,1.96,1.94,3.0,0.28,1.1,0.03,1.4,1.74,2.01,0.91,1.96,0.7,0.12,0.21,0.24,1.87,0.35,0.55,0.61,2.94,1.58,3.69,2.47,0.6,0.14,0.26,0.31,0.12,2.34,1.77,3.17,0.08,0.17,0.9,0.36,0.89,0.11,0.13,0.53,0.6,1.79,1.8,0.27,2.05,0.31,0.65,2.51,0.42,2.39,0.52,1.33,0.23,0.4,0.28,0.94,0.33,0.47,0.28,0.3,1.38,2.45,1.01,0.62,0.22,1.57,0.29,3.93,1.41,1.74,1.27,3.88,2.67,0.65,0.23,0.44,0.39,0.36,0.76,0.57,0.59,1.35,0.36,2.06,2.77,1.46,1.35,0.03,1.15,0.64,1.79,1.83,1.26,1.23,1.95,0.89,0.37,1.2,0.66,0.37,0.16,0.34,1.99,1.1,0.15,0.36,4.14,0.21,2.59,0.44,0.76,3.98,0.14,0.21,1.95,1.04,0.15,0.91,2.52,2.13,1.08,2.22,2.99,0.2,0.31,2.43,0.32,2.14,1.9,0.16,0.22,1.33,0.21,0.59,0.66,0.08,1.02,0.32,1.68,0.66,3.97,0.08,3.27,0.68,2.77,1.48,0.62,0.26,1.28,0.29,1.24,1.4,1.48,0.24,0.63,0.8,2.44,0.04,2.17,0.6,0.83,1.7,1.42,1.25,1.89,0.13,1.26,0.31,0.44,1.22,0.72,0.57,1.42,0.32,0.58,1.34,0.07,0.22,0.66,1.42,0.02,0.01,0.23,0.41,0.31,0.2,0.23,0.21,0.04,0.34,1.47,0.75,0.72,2.24,1.18,1.39,1.27,0.31,3.32,0.22,0.29,0.74,0.72,3.68,0.31,1.89,0.23,1.38,1.16,1.0,2.25,1.82,1.2,0.33,1.19,0.07,0.08,0.97,0.27,0.11,0.58,0.11,0.18,0.64,1.37,0.09,0.12,1.47,0.94,0.32,3.14,1.98,0.43,0.65,0.93,0.12,0.45,0.88,1.21,0.22,0.31,0.18,0.24,1.1,0.55,0.43,3.65,1.99,0.83,0.13,0.34,1.41,0.92,1.2,0.66,0.17,0.59,0.19,0.32,0.41,0.52,4.01,0.61,2.29,1.45,0.34,1.43,2.51,0.82,1.47,0.33,0.72,0.05,3.26,1.75,0.15,0.81,0.24,2.46,0.8,0.08,4.02,1.37,1.12,0.94,0.11,3.29,2.42,0.6,0.56,0.25,0.34,0.47,0.04,0.27,0.16,0.8,1.99,0.15,0.35,1.71,0.96,0.71,0.46,2.46,1.72,1.15,2.31,0.23,0.26,0.18,0.21,0.65,0.8,1.53,1.68,2.09,0.07,0.23,0.4,1.27,0.8,1.22,1.87,0.28,2.07,0.52,0.15,0.09,0.26,0.29,0.61,0.84,0.15,0.6,0.58,0.39,0.38,2.01,0.91,0.3,0.74,0.5,0.74,1.14,0.87,0.54,1.63,0.21,1.67,0.06,0.21,0.58,1.31,3.99,3.46,1.38,1.94,1.23,1.42,1.95,0.8,0.67,0.31,0.67,0.89,0.6,0.31,0.06,0.34,2.44,0.22,3.25,0.06,0.2,1.49,1.26,0.71,0.88,1.44,3.61,0.35,0.28,0.06,0.84,0.68,0.2,0.33,2.34,0.43,1.68,1.95,0.03,0.03,0.18,1.57,3.04,0.48,1.01,0.57,1.82,2.34,0.63,0.7,0.55,1.38,0.56,1.31,1.43,0.54,1.95,0.1,0.29,1.27,0.9,0.6,1.04,0.61,0.33,1.31,1.65,0.27,4.02,1.1,0.64,0.63,3.98,0.06,0.92,1.06,1.02,3.67,0.25,3.28,0.54,0.6,1.07,0.42,0.37,1.09,0.56,0.32,1.7,0.14,0.46,0.45,0.28,0.35,1.13,0.83,0.14,0.27,0.85,0.06,0.91,0.6,1.24,1.01,0.71,1.93,0.23,2.64,0.34,1.17,0.63,0.22,4.15,1.73,2.43,0.92,2.12,0.28,1.63,2.37,3.75,2.03,0.37,0.33,1.13,1.51,1.3,1.4,1.0,1.26,1.51,0.46,3.63,3.14,0.19,0.05,1.87,0.43,1.13,1.11,0.61,2.08,0.27,0.23,1.15,0.45,0.23,0.72,1.14,0.77,0.91,2.56,1.01,0.5,0.54,0.1,0.18,0.73,1.2,0.25,0.3,0.42,0.17,0.34,0.97,1.01,1.31,0.32,0.27,1.34,2.06,0.2,2.4,2.27,0.21,2.47,3.02,1.91,0.19,3.73,1.2,0.67,0.77,2.09,0.84,0.91,1.66,0.8,0.34,1.38,2.49,1.18,0.88,1.45,2.4,0.13,1.03,0.11,0.69,0.19,0.13,2.19,0.04,0.5,0.55,0.07,3.81,0.18,0.88,0.88,1.91,0.97,1.05,2.1,0.22,0.38,1.58,0.04,0.07,0.26,0.52,2.27,1.82,0.72,1.39,2.09,3.98,0.07,0.99,2.15,2.11,3.01,1.2,2.4,0.76,0.18,1.89,0.11,2.23,0.21,1.6,0.39,1.18,0.79,1.08,0.73,4.21,3.06,0.17,1.72,1.08,0.41,0.2,0.43,2.78,0.13,0.34,0.59,1.28,1.0,3.29,0.82,1.44,0.09,0.32,0.39,2.32,0.47,0.28,0.86,0.74,0.3,2.0,0.51,1.28,0.44,0.59,0.54,0.64,0.1,0.29,1.72,0.17,0.85,1.03,3.03,0.94,0.21,0.33,0.22,2.5,1.92,1.27,1.47,3.03,1.11,2.01,1.57,2.26],\"xaxis\":\"x\",\"yaxis\":\"y\",\"type\":\"histogram\"}],                        {\"template\":{\"data\":{\"histogram2dcontour\":[{\"type\":\"histogram2dcontour\",\"colorbar\":{\"outlinewidth\":0,\"ticks\":\"\"},\"colorscale\":[[0.0,\"#0d0887\"],[0.1111111111111111,\"#46039f\"],[0.2222222222222222,\"#7201a8\"],[0.3333333333333333,\"#9c179e\"],[0.4444444444444444,\"#bd3786\"],[0.5555555555555556,\"#d8576b\"],[0.6666666666666666,\"#ed7953\"],[0.7777777777777778,\"#fb9f3a\"],[0.8888888888888888,\"#fdca26\"],[1.0,\"#f0f921\"]]}],\"choropleth\":[{\"type\":\"choropleth\",\"colorbar\":{\"outlinewidth\":0,\"ticks\":\"\"}}],\"histogram2d\":[{\"type\":\"histogram2d\",\"colorbar\":{\"outlinewidth\":0,\"ticks\":\"\"},\"colorscale\":[[0.0,\"#0d0887\"],[0.1111111111111111,\"#46039f\"],[0.2222222222222222,\"#7201a8\"],[0.3333333333333333,\"#9c179e\"],[0.4444444444444444,\"#bd3786\"],[0.5555555555555556,\"#d8576b\"],[0.6666666666666666,\"#ed7953\"],[0.7777777777777778,\"#fb9f3a\"],[0.8888888888888888,\"#fdca26\"],[1.0,\"#f0f921\"]]}],\"heatmap\":[{\"type\":\"heatmap\",\"colorbar\":{\"outlinewidth\":0,\"ticks\":\"\"},\"colorscale\":[[0.0,\"#0d0887\"],[0.1111111111111111,\"#46039f\"],[0.2222222222222222,\"#7201a8\"],[0.3333333333333333,\"#9c179e\"],[0.4444444444444444,\"#bd3786\"],[0.5555555555555556,\"#d8576b\"],[0.6666666666666666,\"#ed7953\"],[0.7777777777777778,\"#fb9f3a\"],[0.8888888888888888,\"#fdca26\"],[1.0,\"#f0f921\"]]}],\"heatmapgl\":[{\"type\":\"heatmapgl\",\"colorbar\":{\"outlinewidth\":0,\"ticks\":\"\"},\"colorscale\":[[0.0,\"#0d0887\"],[0.1111111111111111,\"#46039f\"],[0.2222222222222222,\"#7201a8\"],[0.3333333333333333,\"#9c179e\"],[0.4444444444444444,\"#bd3786\"],[0.5555555555555556,\"#d8576b\"],[0.6666666666666666,\"#ed7953\"],[0.7777777777777778,\"#fb9f3a\"],[0.8888888888888888,\"#fdca26\"],[1.0,\"#f0f921\"]]}],\"contourcarpet\":[{\"type\":\"contourcarpet\",\"colorbar\":{\"outlinewidth\":0,\"ticks\":\"\"}}],\"contour\":[{\"type\":\"contour\",\"colorbar\":{\"outlinewidth\":0,\"ticks\":\"\"},\"colorscale\":[[0.0,\"#0d0887\"],[0.1111111111111111,\"#46039f\"],[0.2222222222222222,\"#7201a8\"],[0.3333333333333333,\"#9c179e\"],[0.4444444444444444,\"#bd3786\"],[0.5555555555555556,\"#d8576b\"],[0.6666666666666666,\"#ed7953\"],[0.7777777777777778,\"#fb9f3a\"],[0.8888888888888888,\"#fdca26\"],[1.0,\"#f0f921\"]]}],\"surface\":[{\"type\":\"surface\",\"colorbar\":{\"outlinewidth\":0,\"ticks\":\"\"},\"colorscale\":[[0.0,\"#0d0887\"],[0.1111111111111111,\"#46039f\"],[0.2222222222222222,\"#7201a8\"],[0.3333333333333333,\"#9c179e\"],[0.4444444444444444,\"#bd3786\"],[0.5555555555555556,\"#d8576b\"],[0.6666666666666666,\"#ed7953\"],[0.7777777777777778,\"#fb9f3a\"],[0.8888888888888888,\"#fdca26\"],[1.0,\"#f0f921\"]]}],\"mesh3d\":[{\"type\":\"mesh3d\",\"colorbar\":{\"outlinewidth\":0,\"ticks\":\"\"}}],\"scatter\":[{\"fillpattern\":{\"fillmode\":\"overlay\",\"size\":10,\"solidity\":0.2},\"type\":\"scatter\"}],\"parcoords\":[{\"type\":\"parcoords\",\"line\":{\"colorbar\":{\"outlinewidth\":0,\"ticks\":\"\"}}}],\"scatterpolargl\":[{\"type\":\"scatterpolargl\",\"marker\":{\"colorbar\":{\"outlinewidth\":0,\"ticks\":\"\"}}}],\"bar\":[{\"error_x\":{\"color\":\"#2a3f5f\"},\"error_y\":{\"color\":\"#2a3f5f\"},\"marker\":{\"line\":{\"color\":\"#E5ECF6\",\"width\":0.5},\"pattern\":{\"fillmode\":\"overlay\",\"size\":10,\"solidity\":0.2}},\"type\":\"bar\"}],\"scattergeo\":[{\"type\":\"scattergeo\",\"marker\":{\"colorbar\":{\"outlinewidth\":0,\"ticks\":\"\"}}}],\"scatterpolar\":[{\"type\":\"scatterpolar\",\"marker\":{\"colorbar\":{\"outlinewidth\":0,\"ticks\":\"\"}}}],\"histogram\":[{\"marker\":{\"pattern\":{\"fillmode\":\"overlay\",\"size\":10,\"solidity\":0.2}},\"type\":\"histogram\"}],\"scattergl\":[{\"type\":\"scattergl\",\"marker\":{\"colorbar\":{\"outlinewidth\":0,\"ticks\":\"\"}}}],\"scatter3d\":[{\"type\":\"scatter3d\",\"line\":{\"colorbar\":{\"outlinewidth\":0,\"ticks\":\"\"}},\"marker\":{\"colorbar\":{\"outlinewidth\":0,\"ticks\":\"\"}}}],\"scattermapbox\":[{\"type\":\"scattermapbox\",\"marker\":{\"colorbar\":{\"outlinewidth\":0,\"ticks\":\"\"}}}],\"scatterternary\":[{\"type\":\"scatterternary\",\"marker\":{\"colorbar\":{\"outlinewidth\":0,\"ticks\":\"\"}}}],\"scattercarpet\":[{\"type\":\"scattercarpet\",\"marker\":{\"colorbar\":{\"outlinewidth\":0,\"ticks\":\"\"}}}],\"carpet\":[{\"aaxis\":{\"endlinecolor\":\"#2a3f5f\",\"gridcolor\":\"white\",\"linecolor\":\"white\",\"minorgridcolor\":\"white\",\"startlinecolor\":\"#2a3f5f\"},\"baxis\":{\"endlinecolor\":\"#2a3f5f\",\"gridcolor\":\"white\",\"linecolor\":\"white\",\"minorgridcolor\":\"white\",\"startlinecolor\":\"#2a3f5f\"},\"type\":\"carpet\"}],\"table\":[{\"cells\":{\"fill\":{\"color\":\"#EBF0F8\"},\"line\":{\"color\":\"white\"}},\"header\":{\"fill\":{\"color\":\"#C8D4E3\"},\"line\":{\"color\":\"white\"}},\"type\":\"table\"}],\"barpolar\":[{\"marker\":{\"line\":{\"color\":\"#E5ECF6\",\"width\":0.5},\"pattern\":{\"fillmode\":\"overlay\",\"size\":10,\"solidity\":0.2}},\"type\":\"barpolar\"}],\"pie\":[{\"automargin\":true,\"type\":\"pie\"}]},\"layout\":{\"autotypenumbers\":\"strict\",\"colorway\":[\"#636efa\",\"#EF553B\",\"#00cc96\",\"#ab63fa\",\"#FFA15A\",\"#19d3f3\",\"#FF6692\",\"#B6E880\",\"#FF97FF\",\"#FECB52\"],\"font\":{\"color\":\"#2a3f5f\"},\"hovermode\":\"closest\",\"hoverlabel\":{\"align\":\"left\"},\"paper_bgcolor\":\"white\",\"plot_bgcolor\":\"#E5ECF6\",\"polar\":{\"bgcolor\":\"#E5ECF6\",\"angularaxis\":{\"gridcolor\":\"white\",\"linecolor\":\"white\",\"ticks\":\"\"},\"radialaxis\":{\"gridcolor\":\"white\",\"linecolor\":\"white\",\"ticks\":\"\"}},\"ternary\":{\"bgcolor\":\"#E5ECF6\",\"aaxis\":{\"gridcolor\":\"white\",\"linecolor\":\"white\",\"ticks\":\"\"},\"baxis\":{\"gridcolor\":\"white\",\"linecolor\":\"white\",\"ticks\":\"\"},\"caxis\":{\"gridcolor\":\"white\",\"linecolor\":\"white\",\"ticks\":\"\"}},\"coloraxis\":{\"colorbar\":{\"outlinewidth\":0,\"ticks\":\"\"}},\"colorscale\":{\"sequential\":[[0.0,\"#0d0887\"],[0.1111111111111111,\"#46039f\"],[0.2222222222222222,\"#7201a8\"],[0.3333333333333333,\"#9c179e\"],[0.4444444444444444,\"#bd3786\"],[0.5555555555555556,\"#d8576b\"],[0.6666666666666666,\"#ed7953\"],[0.7777777777777778,\"#fb9f3a\"],[0.8888888888888888,\"#fdca26\"],[1.0,\"#f0f921\"]],\"sequentialminus\":[[0.0,\"#0d0887\"],[0.1111111111111111,\"#46039f\"],[0.2222222222222222,\"#7201a8\"],[0.3333333333333333,\"#9c179e\"],[0.4444444444444444,\"#bd3786\"],[0.5555555555555556,\"#d8576b\"],[0.6666666666666666,\"#ed7953\"],[0.7777777777777778,\"#fb9f3a\"],[0.8888888888888888,\"#fdca26\"],[1.0,\"#f0f921\"]],\"diverging\":[[0,\"#8e0152\"],[0.1,\"#c51b7d\"],[0.2,\"#de77ae\"],[0.3,\"#f1b6da\"],[0.4,\"#fde0ef\"],[0.5,\"#f7f7f7\"],[0.6,\"#e6f5d0\"],[0.7,\"#b8e186\"],[0.8,\"#7fbc41\"],[0.9,\"#4d9221\"],[1,\"#276419\"]]},\"xaxis\":{\"gridcolor\":\"white\",\"linecolor\":\"white\",\"ticks\":\"\",\"title\":{\"standoff\":15},\"zerolinecolor\":\"white\",\"automargin\":true,\"zerolinewidth\":2},\"yaxis\":{\"gridcolor\":\"white\",\"linecolor\":\"white\",\"ticks\":\"\",\"title\":{\"standoff\":15},\"zerolinecolor\":\"white\",\"automargin\":true,\"zerolinewidth\":2},\"scene\":{\"xaxis\":{\"backgroundcolor\":\"#E5ECF6\",\"gridcolor\":\"white\",\"linecolor\":\"white\",\"showbackground\":true,\"ticks\":\"\",\"zerolinecolor\":\"white\",\"gridwidth\":2},\"yaxis\":{\"backgroundcolor\":\"#E5ECF6\",\"gridcolor\":\"white\",\"linecolor\":\"white\",\"showbackground\":true,\"ticks\":\"\",\"zerolinecolor\":\"white\",\"gridwidth\":2},\"zaxis\":{\"backgroundcolor\":\"#E5ECF6\",\"gridcolor\":\"white\",\"linecolor\":\"white\",\"showbackground\":true,\"ticks\":\"\",\"zerolinecolor\":\"white\",\"gridwidth\":2}},\"shapedefaults\":{\"line\":{\"color\":\"#2a3f5f\"}},\"annotationdefaults\":{\"arrowcolor\":\"#2a3f5f\",\"arrowhead\":0,\"arrowwidth\":1},\"geo\":{\"bgcolor\":\"white\",\"landcolor\":\"#E5ECF6\",\"subunitcolor\":\"white\",\"showland\":true,\"showlakes\":true,\"lakecolor\":\"white\"},\"title\":{\"x\":0.05},\"mapbox\":{\"style\":\"light\"}}},\"xaxis\":{\"anchor\":\"y\",\"domain\":[0.0,1.0],\"title\":{\"text\":\"value\"}},\"yaxis\":{\"anchor\":\"x\",\"domain\":[0.0,1.0],\"title\":{\"text\":\"count\"}},\"legend\":{\"title\":{\"text\":\"variable\"},\"tracegroupgap\":0},\"margin\":{\"t\":60},\"barmode\":\"relative\"},                        {\"responsive\": true}                    ).then(function(){\n",
       "                            \n",
       "var gd = document.getElementById('7708e17f-9ae1-45ab-9263-8792f32f64c4');\n",
       "var x = new MutationObserver(function (mutations, observer) {{\n",
       "        var display = window.getComputedStyle(gd).display;\n",
       "        if (!display || display === 'none') {{\n",
       "            console.log([gd, 'removed!']);\n",
       "            Plotly.purge(gd);\n",
       "            observer.disconnect();\n",
       "        }}\n",
       "}});\n",
       "\n",
       "// Listen for the removal of the full notebook cells\n",
       "var notebookContainer = gd.closest('#notebook-container');\n",
       "if (notebookContainer) {{\n",
       "    x.observe(notebookContainer, {childList: true});\n",
       "}}\n",
       "\n",
       "// Listen for the clearing of the current output cell\n",
       "var outputEl = gd.closest('.output');\n",
       "if (outputEl) {{\n",
       "    x.observe(outputEl, {childList: true});\n",
       "}}\n",
       "\n",
       "                        })                };                });            </script>        </div>"
      ]
     },
     "metadata": {},
     "output_type": "display_data"
    }
   ],
   "source": [
    "boxplot_hist(df,'GHGEmissionsIntensity')"
   ]
  },
  {
   "cell_type": "code",
   "execution_count": 380,
   "metadata": {},
   "outputs": [
    {
     "data": {
      "text/html": [
       "<div>\n",
       "<style scoped>\n",
       "    .dataframe tbody tr th:only-of-type {\n",
       "        vertical-align: middle;\n",
       "    }\n",
       "\n",
       "    .dataframe tbody tr th {\n",
       "        vertical-align: top;\n",
       "    }\n",
       "\n",
       "    .dataframe thead th {\n",
       "        text-align: right;\n",
       "    }\n",
       "</style>\n",
       "<table border=\"1\" class=\"dataframe\">\n",
       "  <thead>\n",
       "    <tr style=\"text-align: right;\">\n",
       "      <th></th>\n",
       "      <th>TotalGHGEmissions</th>\n",
       "      <th>NaturalGas(kBtu)</th>\n",
       "      <th>SiteEnergyUse(kBtu)</th>\n",
       "      <th>ENERGYSTARScore</th>\n",
       "      <th>age</th>\n",
       "      <th>volume</th>\n",
       "    </tr>\n",
       "  </thead>\n",
       "  <tbody>\n",
       "    <tr>\n",
       "      <th>TotalGHGEmissions</th>\n",
       "      <td>1.000000</td>\n",
       "      <td>0.945290</td>\n",
       "      <td>0.664254</td>\n",
       "      <td>-0.078173</td>\n",
       "      <td>-0.066875</td>\n",
       "      <td>0.278776</td>\n",
       "    </tr>\n",
       "    <tr>\n",
       "      <th>NaturalGas(kBtu)</th>\n",
       "      <td>0.945290</td>\n",
       "      <td>1.000000</td>\n",
       "      <td>0.391341</td>\n",
       "      <td>-0.042255</td>\n",
       "      <td>-0.000744</td>\n",
       "      <td>0.097325</td>\n",
       "    </tr>\n",
       "    <tr>\n",
       "      <th>SiteEnergyUse(kBtu)</th>\n",
       "      <td>0.664254</td>\n",
       "      <td>0.391341</td>\n",
       "      <td>1.000000</td>\n",
       "      <td>-0.130808</td>\n",
       "      <td>-0.189967</td>\n",
       "      <td>0.553761</td>\n",
       "    </tr>\n",
       "    <tr>\n",
       "      <th>ENERGYSTARScore</th>\n",
       "      <td>-0.078173</td>\n",
       "      <td>-0.042255</td>\n",
       "      <td>-0.130808</td>\n",
       "      <td>1.000000</td>\n",
       "      <td>0.055208</td>\n",
       "      <td>0.138956</td>\n",
       "    </tr>\n",
       "    <tr>\n",
       "      <th>age</th>\n",
       "      <td>-0.066875</td>\n",
       "      <td>-0.000744</td>\n",
       "      <td>-0.189967</td>\n",
       "      <td>0.055208</td>\n",
       "      <td>1.000000</td>\n",
       "      <td>-0.130140</td>\n",
       "    </tr>\n",
       "    <tr>\n",
       "      <th>volume</th>\n",
       "      <td>0.278776</td>\n",
       "      <td>0.097325</td>\n",
       "      <td>0.553761</td>\n",
       "      <td>0.138956</td>\n",
       "      <td>-0.130140</td>\n",
       "      <td>1.000000</td>\n",
       "    </tr>\n",
       "  </tbody>\n",
       "</table>\n",
       "</div>"
      ],
      "text/plain": [
       "                     TotalGHGEmissions  NaturalGas(kBtu)  SiteEnergyUse(kBtu)  \\\n",
       "TotalGHGEmissions             1.000000          0.945290             0.664254   \n",
       "NaturalGas(kBtu)              0.945290          1.000000             0.391341   \n",
       "SiteEnergyUse(kBtu)           0.664254          0.391341             1.000000   \n",
       "ENERGYSTARScore              -0.078173         -0.042255            -0.130808   \n",
       "age                          -0.066875         -0.000744            -0.189967   \n",
       "volume                        0.278776          0.097325             0.553761   \n",
       "\n",
       "                     ENERGYSTARScore       age    volume  \n",
       "TotalGHGEmissions          -0.078173 -0.066875  0.278776  \n",
       "NaturalGas(kBtu)           -0.042255 -0.000744  0.097325  \n",
       "SiteEnergyUse(kBtu)        -0.130808 -0.189967  0.553761  \n",
       "ENERGYSTARScore             1.000000  0.055208  0.138956  \n",
       "age                         0.055208  1.000000 -0.130140  \n",
       "volume                      0.138956 -0.130140  1.000000  "
      ]
     },
     "execution_count": 380,
     "metadata": {},
     "output_type": "execute_result"
    }
   ],
   "source": [
    "df[relevant_numeric_columns].corr()"
   ]
  },
  {
   "cell_type": "markdown",
   "metadata": {},
   "source": [
    "# Partie 10 Transformation des variables qualitatives en numérique et normalisation"
   ]
  },
  {
   "cell_type": "code",
   "execution_count": 381,
   "metadata": {},
   "outputs": [],
   "source": [
    "\n",
    "features_categorical=['BuildingType','PrimaryPropertyType','Neighborhood']\n",
    "one_hot_encoder = OneHotEncoder(sparse=False)\n",
    "data=one_hot_encoder.fit_transform(df[features_categorical])\n",
    "df= pd.merge(df[relevant_numeric_columns], \n",
    "          pd.DataFrame(columns = one_hot_encoder.get_feature_names_out().tolist(),\n",
    "              data = data),\n",
    "        left_index = True, right_index = True)\n"
   ]
  },
  {
   "cell_type": "code",
   "execution_count": 382,
   "metadata": {},
   "outputs": [],
   "source": [
    " \n",
    "target_cols=['TotalGHGEmissions','SiteEnergyUse(kBtu)']\n",
    "cols_to_normalize=[col for col in df.columns.tolist() if col!='TotalGHGEmissions' and col!='SiteEnergyUse(kBtu)']\n",
    "df[cols_to_normalize]=StandardScaler().fit_transform(df[cols_to_normalize])\n",
    "df.to_csv('data/cleaned_and_normalized.csv',index=False)"
   ]
  }
 ],
 "metadata": {
  "kernelspec": {
   "display_name": "Python 3",
   "language": "python",
   "name": "python3"
  },
  "language_info": {
   "codemirror_mode": {
    "name": "ipython",
    "version": 3
   },
   "file_extension": ".py",
   "mimetype": "text/x-python",
   "name": "python",
   "nbconvert_exporter": "python",
   "pygments_lexer": "ipython3",
   "version": "3.7.6"
  }
 },
 "nbformat": 4,
 "nbformat_minor": 4
}
