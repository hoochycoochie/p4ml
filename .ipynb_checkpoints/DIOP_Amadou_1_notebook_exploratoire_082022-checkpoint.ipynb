{
 "cells": [
  {
   "cell_type": "code",
   "execution_count": 1138,
   "metadata": {},
   "outputs": [],
   "source": [
    "import pandas as pd\n",
    "import numpy as np\n",
    "import seaborn as sns\n",
    "import plotly.express as px\n",
    "import matplotlib.pyplot as plt\n",
    "from sklearn.impute import KNNImputer\n",
    "from functions import utils\n",
    "from functions import functions as utils2\n",
    "from scipy.stats import shapiro\n",
    "import math\n",
    "from functions import *\n",
    "from sklearn.preprocessing import OneHotEncoder, StandardScaler\n",
    "from sklearn.decomposition import PCA,KernelPCA\n",
    " \n",
    "import haversine as hs\n",
    "from IPython.display import display\n",
    "pd.options.display.float_format = '{:,.4f}'.format\n",
    "pd.set_option('display.max_columns', 200)\n",
    "pd.set_option('display.max_rows', 100)\n",
    "#pd.set_option('display.min_rows', 100)\n",
    "#pd.set_option('display.expand_frame_repr', True)"
   ]
  },
  {
   "cell_type": "code",
   "execution_count": 1139,
   "metadata": {},
   "outputs": [
    {
     "data": {
      "text/plain": [
       "(3376, 46)"
      ]
     },
     "execution_count": 1139,
     "metadata": {},
     "output_type": "execute_result"
    }
   ],
   "source": [
    "df=pd.read_csv('data/2016_Building_Energy_Benchmarking.csv')\n",
    "df.shape"
   ]
  },
  {
   "cell_type": "code",
   "execution_count": 1140,
   "metadata": {},
   "outputs": [
    {
     "data": {
      "text/html": [
       "<div>\n",
       "<style scoped>\n",
       "    .dataframe tbody tr th:only-of-type {\n",
       "        vertical-align: middle;\n",
       "    }\n",
       "\n",
       "    .dataframe tbody tr th {\n",
       "        vertical-align: top;\n",
       "    }\n",
       "\n",
       "    .dataframe thead th {\n",
       "        text-align: right;\n",
       "    }\n",
       "</style>\n",
       "<table border=\"1\" class=\"dataframe\">\n",
       "  <thead>\n",
       "    <tr style=\"text-align: right;\">\n",
       "      <th></th>\n",
       "      <th>OSEBuildingID</th>\n",
       "      <th>DataYear</th>\n",
       "      <th>BuildingType</th>\n",
       "      <th>PrimaryPropertyType</th>\n",
       "      <th>PropertyName</th>\n",
       "      <th>Address</th>\n",
       "      <th>City</th>\n",
       "      <th>State</th>\n",
       "      <th>ZipCode</th>\n",
       "      <th>TaxParcelIdentificationNumber</th>\n",
       "      <th>CouncilDistrictCode</th>\n",
       "      <th>Neighborhood</th>\n",
       "      <th>Latitude</th>\n",
       "      <th>Longitude</th>\n",
       "      <th>YearBuilt</th>\n",
       "      <th>NumberofBuildings</th>\n",
       "      <th>NumberofFloors</th>\n",
       "      <th>PropertyGFATotal</th>\n",
       "      <th>PropertyGFAParking</th>\n",
       "      <th>PropertyGFABuilding(s)</th>\n",
       "      <th>ListOfAllPropertyUseTypes</th>\n",
       "      <th>LargestPropertyUseType</th>\n",
       "      <th>LargestPropertyUseTypeGFA</th>\n",
       "      <th>SecondLargestPropertyUseType</th>\n",
       "      <th>SecondLargestPropertyUseTypeGFA</th>\n",
       "      <th>ThirdLargestPropertyUseType</th>\n",
       "      <th>ThirdLargestPropertyUseTypeGFA</th>\n",
       "      <th>YearsENERGYSTARCertified</th>\n",
       "      <th>ENERGYSTARScore</th>\n",
       "      <th>SiteEUI(kBtu/sf)</th>\n",
       "      <th>SiteEUIWN(kBtu/sf)</th>\n",
       "      <th>SourceEUI(kBtu/sf)</th>\n",
       "      <th>SourceEUIWN(kBtu/sf)</th>\n",
       "      <th>SiteEnergyUse(kBtu)</th>\n",
       "      <th>SiteEnergyUseWN(kBtu)</th>\n",
       "      <th>SteamUse(kBtu)</th>\n",
       "      <th>Electricity(kWh)</th>\n",
       "      <th>Electricity(kBtu)</th>\n",
       "      <th>NaturalGas(therms)</th>\n",
       "      <th>NaturalGas(kBtu)</th>\n",
       "      <th>DefaultData</th>\n",
       "      <th>Comments</th>\n",
       "      <th>ComplianceStatus</th>\n",
       "      <th>Outlier</th>\n",
       "      <th>TotalGHGEmissions</th>\n",
       "      <th>GHGEmissionsIntensity</th>\n",
       "    </tr>\n",
       "  </thead>\n",
       "  <tbody>\n",
       "    <tr>\n",
       "      <th>0</th>\n",
       "      <td>1</td>\n",
       "      <td>2016</td>\n",
       "      <td>NonResidential</td>\n",
       "      <td>Hotel</td>\n",
       "      <td>Mayflower park hotel</td>\n",
       "      <td>405 Olive way</td>\n",
       "      <td>Seattle</td>\n",
       "      <td>WA</td>\n",
       "      <td>98,101.0000</td>\n",
       "      <td>0659000030</td>\n",
       "      <td>7</td>\n",
       "      <td>DOWNTOWN</td>\n",
       "      <td>47.6122</td>\n",
       "      <td>-122.3380</td>\n",
       "      <td>1927</td>\n",
       "      <td>1.0000</td>\n",
       "      <td>12</td>\n",
       "      <td>88434</td>\n",
       "      <td>0</td>\n",
       "      <td>88434</td>\n",
       "      <td>Hotel</td>\n",
       "      <td>Hotel</td>\n",
       "      <td>88,434.0000</td>\n",
       "      <td>NaN</td>\n",
       "      <td>nan</td>\n",
       "      <td>NaN</td>\n",
       "      <td>nan</td>\n",
       "      <td>NaN</td>\n",
       "      <td>60.0000</td>\n",
       "      <td>81.7000</td>\n",
       "      <td>84.3000</td>\n",
       "      <td>182.5000</td>\n",
       "      <td>189.0000</td>\n",
       "      <td>7,226,362.5000</td>\n",
       "      <td>7,456,910.0000</td>\n",
       "      <td>2,003,882.0000</td>\n",
       "      <td>1,156,514.2500</td>\n",
       "      <td>3,946,027.0000</td>\n",
       "      <td>12,764.5293</td>\n",
       "      <td>1,276,453.0000</td>\n",
       "      <td>False</td>\n",
       "      <td>nan</td>\n",
       "      <td>Compliant</td>\n",
       "      <td>NaN</td>\n",
       "      <td>249.9800</td>\n",
       "      <td>2.8300</td>\n",
       "    </tr>\n",
       "    <tr>\n",
       "      <th>1</th>\n",
       "      <td>2</td>\n",
       "      <td>2016</td>\n",
       "      <td>NonResidential</td>\n",
       "      <td>Hotel</td>\n",
       "      <td>Paramount Hotel</td>\n",
       "      <td>724 Pine street</td>\n",
       "      <td>Seattle</td>\n",
       "      <td>WA</td>\n",
       "      <td>98,101.0000</td>\n",
       "      <td>0659000220</td>\n",
       "      <td>7</td>\n",
       "      <td>DOWNTOWN</td>\n",
       "      <td>47.6132</td>\n",
       "      <td>-122.3339</td>\n",
       "      <td>1996</td>\n",
       "      <td>1.0000</td>\n",
       "      <td>11</td>\n",
       "      <td>103566</td>\n",
       "      <td>15064</td>\n",
       "      <td>88502</td>\n",
       "      <td>Hotel, Parking, Restaurant</td>\n",
       "      <td>Hotel</td>\n",
       "      <td>83,880.0000</td>\n",
       "      <td>Parking</td>\n",
       "      <td>15,064.0000</td>\n",
       "      <td>Restaurant</td>\n",
       "      <td>4,622.0000</td>\n",
       "      <td>NaN</td>\n",
       "      <td>61.0000</td>\n",
       "      <td>94.8000</td>\n",
       "      <td>97.9000</td>\n",
       "      <td>176.1000</td>\n",
       "      <td>179.4000</td>\n",
       "      <td>8,387,933.0000</td>\n",
       "      <td>8,664,479.0000</td>\n",
       "      <td>0.0000</td>\n",
       "      <td>950,425.1875</td>\n",
       "      <td>3,242,851.0000</td>\n",
       "      <td>51,450.8164</td>\n",
       "      <td>5,145,082.0000</td>\n",
       "      <td>False</td>\n",
       "      <td>nan</td>\n",
       "      <td>Compliant</td>\n",
       "      <td>NaN</td>\n",
       "      <td>295.8600</td>\n",
       "      <td>2.8600</td>\n",
       "    </tr>\n",
       "    <tr>\n",
       "      <th>2</th>\n",
       "      <td>3</td>\n",
       "      <td>2016</td>\n",
       "      <td>NonResidential</td>\n",
       "      <td>Hotel</td>\n",
       "      <td>5673-The Westin Seattle</td>\n",
       "      <td>1900 5th Avenue</td>\n",
       "      <td>Seattle</td>\n",
       "      <td>WA</td>\n",
       "      <td>98,101.0000</td>\n",
       "      <td>0659000475</td>\n",
       "      <td>7</td>\n",
       "      <td>DOWNTOWN</td>\n",
       "      <td>47.6139</td>\n",
       "      <td>-122.3381</td>\n",
       "      <td>1969</td>\n",
       "      <td>1.0000</td>\n",
       "      <td>41</td>\n",
       "      <td>956110</td>\n",
       "      <td>196718</td>\n",
       "      <td>759392</td>\n",
       "      <td>Hotel</td>\n",
       "      <td>Hotel</td>\n",
       "      <td>756,493.0000</td>\n",
       "      <td>NaN</td>\n",
       "      <td>nan</td>\n",
       "      <td>NaN</td>\n",
       "      <td>nan</td>\n",
       "      <td>NaN</td>\n",
       "      <td>43.0000</td>\n",
       "      <td>96.0000</td>\n",
       "      <td>97.7000</td>\n",
       "      <td>241.9000</td>\n",
       "      <td>244.1000</td>\n",
       "      <td>72,587,024.0000</td>\n",
       "      <td>73,937,112.0000</td>\n",
       "      <td>21,566,554.0000</td>\n",
       "      <td>14,515,435.0000</td>\n",
       "      <td>49,526,664.0000</td>\n",
       "      <td>14,938.0000</td>\n",
       "      <td>1,493,800.0000</td>\n",
       "      <td>False</td>\n",
       "      <td>nan</td>\n",
       "      <td>Compliant</td>\n",
       "      <td>NaN</td>\n",
       "      <td>2,089.2800</td>\n",
       "      <td>2.1900</td>\n",
       "    </tr>\n",
       "    <tr>\n",
       "      <th>3</th>\n",
       "      <td>5</td>\n",
       "      <td>2016</td>\n",
       "      <td>NonResidential</td>\n",
       "      <td>Hotel</td>\n",
       "      <td>HOTEL MAX</td>\n",
       "      <td>620 STEWART ST</td>\n",
       "      <td>Seattle</td>\n",
       "      <td>WA</td>\n",
       "      <td>98,101.0000</td>\n",
       "      <td>0659000640</td>\n",
       "      <td>7</td>\n",
       "      <td>DOWNTOWN</td>\n",
       "      <td>47.6141</td>\n",
       "      <td>-122.3366</td>\n",
       "      <td>1926</td>\n",
       "      <td>1.0000</td>\n",
       "      <td>10</td>\n",
       "      <td>61320</td>\n",
       "      <td>0</td>\n",
       "      <td>61320</td>\n",
       "      <td>Hotel</td>\n",
       "      <td>Hotel</td>\n",
       "      <td>61,320.0000</td>\n",
       "      <td>NaN</td>\n",
       "      <td>nan</td>\n",
       "      <td>NaN</td>\n",
       "      <td>nan</td>\n",
       "      <td>NaN</td>\n",
       "      <td>56.0000</td>\n",
       "      <td>110.8000</td>\n",
       "      <td>113.3000</td>\n",
       "      <td>216.2000</td>\n",
       "      <td>224.0000</td>\n",
       "      <td>6,794,584.0000</td>\n",
       "      <td>6,946,800.5000</td>\n",
       "      <td>2,214,446.2500</td>\n",
       "      <td>811,525.3125</td>\n",
       "      <td>2,768,924.0000</td>\n",
       "      <td>18,112.1309</td>\n",
       "      <td>1,811,213.0000</td>\n",
       "      <td>False</td>\n",
       "      <td>nan</td>\n",
       "      <td>Compliant</td>\n",
       "      <td>NaN</td>\n",
       "      <td>286.4300</td>\n",
       "      <td>4.6700</td>\n",
       "    </tr>\n",
       "    <tr>\n",
       "      <th>4</th>\n",
       "      <td>8</td>\n",
       "      <td>2016</td>\n",
       "      <td>NonResidential</td>\n",
       "      <td>Hotel</td>\n",
       "      <td>WARWICK SEATTLE HOTEL (ID8)</td>\n",
       "      <td>401 LENORA ST</td>\n",
       "      <td>Seattle</td>\n",
       "      <td>WA</td>\n",
       "      <td>98,121.0000</td>\n",
       "      <td>0659000970</td>\n",
       "      <td>7</td>\n",
       "      <td>DOWNTOWN</td>\n",
       "      <td>47.6138</td>\n",
       "      <td>-122.3405</td>\n",
       "      <td>1980</td>\n",
       "      <td>1.0000</td>\n",
       "      <td>18</td>\n",
       "      <td>175580</td>\n",
       "      <td>62000</td>\n",
       "      <td>113580</td>\n",
       "      <td>Hotel, Parking, Swimming Pool</td>\n",
       "      <td>Hotel</td>\n",
       "      <td>123,445.0000</td>\n",
       "      <td>Parking</td>\n",
       "      <td>68,009.0000</td>\n",
       "      <td>Swimming Pool</td>\n",
       "      <td>0.0000</td>\n",
       "      <td>NaN</td>\n",
       "      <td>75.0000</td>\n",
       "      <td>114.8000</td>\n",
       "      <td>118.7000</td>\n",
       "      <td>211.4000</td>\n",
       "      <td>215.6000</td>\n",
       "      <td>14,172,606.0000</td>\n",
       "      <td>14,656,503.0000</td>\n",
       "      <td>0.0000</td>\n",
       "      <td>1,573,448.6250</td>\n",
       "      <td>5,368,607.0000</td>\n",
       "      <td>88,039.9844</td>\n",
       "      <td>8,803,998.0000</td>\n",
       "      <td>False</td>\n",
       "      <td>nan</td>\n",
       "      <td>Compliant</td>\n",
       "      <td>NaN</td>\n",
       "      <td>505.0100</td>\n",
       "      <td>2.8800</td>\n",
       "    </tr>\n",
       "  </tbody>\n",
       "</table>\n",
       "</div>"
      ],
      "text/plain": [
       "   OSEBuildingID  DataYear    BuildingType PrimaryPropertyType  \\\n",
       "0              1      2016  NonResidential               Hotel   \n",
       "1              2      2016  NonResidential               Hotel   \n",
       "2              3      2016  NonResidential               Hotel   \n",
       "3              5      2016  NonResidential               Hotel   \n",
       "4              8      2016  NonResidential               Hotel   \n",
       "\n",
       "                  PropertyName          Address     City State     ZipCode  \\\n",
       "0         Mayflower park hotel    405 Olive way  Seattle    WA 98,101.0000   \n",
       "1              Paramount Hotel  724 Pine street  Seattle    WA 98,101.0000   \n",
       "2      5673-The Westin Seattle  1900 5th Avenue  Seattle    WA 98,101.0000   \n",
       "3                    HOTEL MAX   620 STEWART ST  Seattle    WA 98,101.0000   \n",
       "4  WARWICK SEATTLE HOTEL (ID8)    401 LENORA ST  Seattle    WA 98,121.0000   \n",
       "\n",
       "  TaxParcelIdentificationNumber  CouncilDistrictCode Neighborhood  Latitude  \\\n",
       "0                    0659000030                    7     DOWNTOWN   47.6122   \n",
       "1                    0659000220                    7     DOWNTOWN   47.6132   \n",
       "2                    0659000475                    7     DOWNTOWN   47.6139   \n",
       "3                    0659000640                    7     DOWNTOWN   47.6141   \n",
       "4                    0659000970                    7     DOWNTOWN   47.6138   \n",
       "\n",
       "   Longitude  YearBuilt  NumberofBuildings  NumberofFloors  PropertyGFATotal  \\\n",
       "0  -122.3380       1927             1.0000              12             88434   \n",
       "1  -122.3339       1996             1.0000              11            103566   \n",
       "2  -122.3381       1969             1.0000              41            956110   \n",
       "3  -122.3366       1926             1.0000              10             61320   \n",
       "4  -122.3405       1980             1.0000              18            175580   \n",
       "\n",
       "   PropertyGFAParking  PropertyGFABuilding(s)      ListOfAllPropertyUseTypes  \\\n",
       "0                   0                   88434                          Hotel   \n",
       "1               15064                   88502     Hotel, Parking, Restaurant   \n",
       "2              196718                  759392                          Hotel   \n",
       "3                   0                   61320                          Hotel   \n",
       "4               62000                  113580  Hotel, Parking, Swimming Pool   \n",
       "\n",
       "  LargestPropertyUseType  LargestPropertyUseTypeGFA  \\\n",
       "0                  Hotel                88,434.0000   \n",
       "1                  Hotel                83,880.0000   \n",
       "2                  Hotel               756,493.0000   \n",
       "3                  Hotel                61,320.0000   \n",
       "4                  Hotel               123,445.0000   \n",
       "\n",
       "  SecondLargestPropertyUseType  SecondLargestPropertyUseTypeGFA  \\\n",
       "0                          NaN                              nan   \n",
       "1                      Parking                      15,064.0000   \n",
       "2                          NaN                              nan   \n",
       "3                          NaN                              nan   \n",
       "4                      Parking                      68,009.0000   \n",
       "\n",
       "  ThirdLargestPropertyUseType  ThirdLargestPropertyUseTypeGFA  \\\n",
       "0                         NaN                             nan   \n",
       "1                  Restaurant                      4,622.0000   \n",
       "2                         NaN                             nan   \n",
       "3                         NaN                             nan   \n",
       "4               Swimming Pool                          0.0000   \n",
       "\n",
       "  YearsENERGYSTARCertified  ENERGYSTARScore  SiteEUI(kBtu/sf)  \\\n",
       "0                      NaN          60.0000           81.7000   \n",
       "1                      NaN          61.0000           94.8000   \n",
       "2                      NaN          43.0000           96.0000   \n",
       "3                      NaN          56.0000          110.8000   \n",
       "4                      NaN          75.0000          114.8000   \n",
       "\n",
       "   SiteEUIWN(kBtu/sf)  SourceEUI(kBtu/sf)  SourceEUIWN(kBtu/sf)  \\\n",
       "0             84.3000            182.5000              189.0000   \n",
       "1             97.9000            176.1000              179.4000   \n",
       "2             97.7000            241.9000              244.1000   \n",
       "3            113.3000            216.2000              224.0000   \n",
       "4            118.7000            211.4000              215.6000   \n",
       "\n",
       "   SiteEnergyUse(kBtu)  SiteEnergyUseWN(kBtu)  SteamUse(kBtu)  \\\n",
       "0       7,226,362.5000         7,456,910.0000  2,003,882.0000   \n",
       "1       8,387,933.0000         8,664,479.0000          0.0000   \n",
       "2      72,587,024.0000        73,937,112.0000 21,566,554.0000   \n",
       "3       6,794,584.0000         6,946,800.5000  2,214,446.2500   \n",
       "4      14,172,606.0000        14,656,503.0000          0.0000   \n",
       "\n",
       "   Electricity(kWh)  Electricity(kBtu)  NaturalGas(therms)  NaturalGas(kBtu)  \\\n",
       "0    1,156,514.2500     3,946,027.0000         12,764.5293    1,276,453.0000   \n",
       "1      950,425.1875     3,242,851.0000         51,450.8164    5,145,082.0000   \n",
       "2   14,515,435.0000    49,526,664.0000         14,938.0000    1,493,800.0000   \n",
       "3      811,525.3125     2,768,924.0000         18,112.1309    1,811,213.0000   \n",
       "4    1,573,448.6250     5,368,607.0000         88,039.9844    8,803,998.0000   \n",
       "\n",
       "   DefaultData  Comments ComplianceStatus Outlier  TotalGHGEmissions  \\\n",
       "0        False       nan        Compliant     NaN           249.9800   \n",
       "1        False       nan        Compliant     NaN           295.8600   \n",
       "2        False       nan        Compliant     NaN         2,089.2800   \n",
       "3        False       nan        Compliant     NaN           286.4300   \n",
       "4        False       nan        Compliant     NaN           505.0100   \n",
       "\n",
       "   GHGEmissionsIntensity  \n",
       "0                 2.8300  \n",
       "1                 2.8600  \n",
       "2                 2.1900  \n",
       "3                 4.6700  \n",
       "4                 2.8800  "
      ]
     },
     "execution_count": 1140,
     "metadata": {},
     "output_type": "execute_result"
    }
   ],
   "source": [
    "df.head()"
   ]
  },
  {
   "cell_type": "markdown",
   "metadata": {},
   "source": [
    "sélection des batiments non résidentiels et \n",
    "répondant aux  exigences d'analyse comparative énergétique pour l'année de déclaration en cours."
   ]
  },
  {
   "cell_type": "code",
   "execution_count": 1141,
   "metadata": {},
   "outputs": [
    {
     "data": {
      "text/plain": [
       "(1546, 46)"
      ]
     },
     "execution_count": 1141,
     "metadata": {},
     "output_type": "execute_result"
    }
   ],
   "source": [
    "\n",
    "df=df[(df['ComplianceStatus']=='Compliant')&(~df['BuildingType'].str.contains('Multifamily')) & (~df['PrimaryPropertyType'].str.contains('Multifamily'))]\n",
    "df.shape\n"
   ]
  },
  {
   "cell_type": "markdown",
   "metadata": {},
   "source": [
    "recherche de doublons"
   ]
  },
  {
   "cell_type": "code",
   "execution_count": 1142,
   "metadata": {},
   "outputs": [
    {
     "data": {
      "text/html": [
       "<div>\n",
       "<style scoped>\n",
       "    .dataframe tbody tr th:only-of-type {\n",
       "        vertical-align: middle;\n",
       "    }\n",
       "\n",
       "    .dataframe tbody tr th {\n",
       "        vertical-align: top;\n",
       "    }\n",
       "\n",
       "    .dataframe thead th {\n",
       "        text-align: right;\n",
       "    }\n",
       "</style>\n",
       "<table border=\"1\" class=\"dataframe\">\n",
       "  <thead>\n",
       "    <tr style=\"text-align: right;\">\n",
       "      <th></th>\n",
       "      <th>OSEBuildingID</th>\n",
       "      <th>DataYear</th>\n",
       "      <th>BuildingType</th>\n",
       "      <th>PrimaryPropertyType</th>\n",
       "      <th>PropertyName</th>\n",
       "      <th>Address</th>\n",
       "      <th>City</th>\n",
       "      <th>State</th>\n",
       "      <th>ZipCode</th>\n",
       "      <th>TaxParcelIdentificationNumber</th>\n",
       "      <th>CouncilDistrictCode</th>\n",
       "      <th>Neighborhood</th>\n",
       "      <th>Latitude</th>\n",
       "      <th>Longitude</th>\n",
       "      <th>YearBuilt</th>\n",
       "      <th>NumberofBuildings</th>\n",
       "      <th>NumberofFloors</th>\n",
       "      <th>PropertyGFATotal</th>\n",
       "      <th>PropertyGFAParking</th>\n",
       "      <th>PropertyGFABuilding(s)</th>\n",
       "      <th>ListOfAllPropertyUseTypes</th>\n",
       "      <th>LargestPropertyUseType</th>\n",
       "      <th>LargestPropertyUseTypeGFA</th>\n",
       "      <th>SecondLargestPropertyUseType</th>\n",
       "      <th>SecondLargestPropertyUseTypeGFA</th>\n",
       "      <th>ThirdLargestPropertyUseType</th>\n",
       "      <th>ThirdLargestPropertyUseTypeGFA</th>\n",
       "      <th>YearsENERGYSTARCertified</th>\n",
       "      <th>ENERGYSTARScore</th>\n",
       "      <th>SiteEUI(kBtu/sf)</th>\n",
       "      <th>SiteEUIWN(kBtu/sf)</th>\n",
       "      <th>SourceEUI(kBtu/sf)</th>\n",
       "      <th>SourceEUIWN(kBtu/sf)</th>\n",
       "      <th>SiteEnergyUse(kBtu)</th>\n",
       "      <th>SiteEnergyUseWN(kBtu)</th>\n",
       "      <th>SteamUse(kBtu)</th>\n",
       "      <th>Electricity(kWh)</th>\n",
       "      <th>Electricity(kBtu)</th>\n",
       "      <th>NaturalGas(therms)</th>\n",
       "      <th>NaturalGas(kBtu)</th>\n",
       "      <th>DefaultData</th>\n",
       "      <th>Comments</th>\n",
       "      <th>ComplianceStatus</th>\n",
       "      <th>Outlier</th>\n",
       "      <th>TotalGHGEmissions</th>\n",
       "      <th>GHGEmissionsIntensity</th>\n",
       "    </tr>\n",
       "  </thead>\n",
       "  <tbody>\n",
       "  </tbody>\n",
       "</table>\n",
       "</div>"
      ],
      "text/plain": [
       "Empty DataFrame\n",
       "Columns: [OSEBuildingID, DataYear, BuildingType, PrimaryPropertyType, PropertyName, Address, City, State, ZipCode, TaxParcelIdentificationNumber, CouncilDistrictCode, Neighborhood, Latitude, Longitude, YearBuilt, NumberofBuildings, NumberofFloors, PropertyGFATotal, PropertyGFAParking, PropertyGFABuilding(s), ListOfAllPropertyUseTypes, LargestPropertyUseType, LargestPropertyUseTypeGFA, SecondLargestPropertyUseType, SecondLargestPropertyUseTypeGFA, ThirdLargestPropertyUseType, ThirdLargestPropertyUseTypeGFA, YearsENERGYSTARCertified, ENERGYSTARScore, SiteEUI(kBtu/sf), SiteEUIWN(kBtu/sf), SourceEUI(kBtu/sf), SourceEUIWN(kBtu/sf), SiteEnergyUse(kBtu), SiteEnergyUseWN(kBtu), SteamUse(kBtu), Electricity(kWh), Electricity(kBtu), NaturalGas(therms), NaturalGas(kBtu), DefaultData, Comments, ComplianceStatus, Outlier, TotalGHGEmissions, GHGEmissionsIntensity]\n",
       "Index: []"
      ]
     },
     "execution_count": 1142,
     "metadata": {},
     "output_type": "execute_result"
    }
   ],
   "source": [
    "\n",
    "df['OSEBuildingID']=df['OSEBuildingID'].astype(str)\n",
    "df['Latitude']=df['Latitude'].astype(str)\n",
    "df['Longitude']=df['Longitude'].astype(str)\n",
    "\n",
    "duplicate = df[df.duplicated('OSEBuildingID')]\n",
    "duplicate ## aucun doublon\n"
   ]
  },
  {
   "cell_type": "markdown",
   "metadata": {},
   "source": [
    "# Partie 1 nettoyage des colonnes"
   ]
  },
  {
   "cell_type": "markdown",
   "metadata": {},
   "source": [
    "### 1-1 <u>Suppression des colonnes avec taux de complétion inférieur à 50%</u>"
   ]
  },
  {
   "cell_type": "code",
   "execution_count": 1143,
   "metadata": {},
   "outputs": [
    {
     "data": {
      "text/plain": [
       "(1546, 46)"
      ]
     },
     "execution_count": 1143,
     "metadata": {},
     "output_type": "execute_result"
    }
   ],
   "source": [
    "## variables comportant plus de 50% de valeurs manquantes\n",
    "na_df=utils.columns_na_percentage(df)\n",
    "na_columns=na_df[na_df['na_rate_percent']>=50] ## 7 colonnes ont plus de 50% de valeurs nulles\n",
    "na_columns\n",
    "df.shape"
   ]
  },
  {
   "cell_type": "code",
   "execution_count": 1144,
   "metadata": {},
   "outputs": [
    {
     "data": {
      "image/png": "[encoded data removed]",
      "text/plain": [
       "<Figure size 1440x720 with 1 Axes>"
      ]
     },
     "metadata": {
      "needs_background": "light"
     },
     "output_type": "display_data"
    }
   ],
   "source": [
    "utils.draw_completion(df,12)"
   ]
  },
  {
   "cell_type": "markdown",
   "metadata": {},
   "source": [
    "suppression des colonnes ayant plus 50% de valeurs nulles"
   ]
  },
  {
   "cell_type": "code",
   "execution_count": 1145,
   "metadata": {},
   "outputs": [
    {
     "data": {
      "text/plain": [
       "(1546, 41)"
      ]
     },
     "execution_count": 1145,
     "metadata": {},
     "output_type": "execute_result"
    }
   ],
   "source": [
    "\n",
    "df.drop(columns=na_columns['Column'].tolist(),axis=1,inplace=True)\n",
    "df.shape"
   ]
  },
  {
   "cell_type": "markdown",
   "metadata": {},
   "source": [
    "### 1-2 <u>Sélection des variables qualitatives</u>"
   ]
  },
  {
   "cell_type": "code",
   "execution_count": 1146,
   "metadata": {},
   "outputs": [
    {
     "data": {
      "text/plain": [
       "OSEBuildingID                    0.0000\n",
       "BuildingType                     0.0000\n",
       "PrimaryPropertyType              0.0000\n",
       "PropertyName                     0.0000\n",
       "Address                          0.0000\n",
       "City                             0.0000\n",
       "State                            0.0000\n",
       "TaxParcelIdentificationNumber    0.0000\n",
       "Neighborhood                     0.0000\n",
       "Latitude                         0.0000\n",
       "Longitude                        0.0000\n",
       "ListOfAllPropertyUseTypes        0.0000\n",
       "LargestPropertyUseType           0.2587\n",
       "SecondLargestPropertyUseType    45.6016\n",
       "ComplianceStatus                 0.0000\n",
       "dtype: float64"
      ]
     },
     "execution_count": 1146,
     "metadata": {},
     "output_type": "execute_result"
    }
   ],
   "source": [
    "numeric_columns=df.select_dtypes(exclude=['object']).columns.tolist()\n",
    "categorical_columns=df.select_dtypes(include=['object']).columns.tolist()\n",
    "df[categorical_columns].isnull().sum()/len(df)*100"
   ]
  },
  {
   "cell_type": "code",
   "execution_count": 1147,
   "metadata": {},
   "outputs": [
    {
     "name": "stderr",
     "output_type": "stream",
     "text": [
      "/home/amadou/anaconda3/lib/python3.7/site-packages/matplotlib/collections.py:857: RuntimeWarning:\n",
      "\n",
      "invalid value encountered in sqrt\n",
      "\n"
     ]
    },
    {
     "data": {
      "image/png": "[encoded data removed]",
      "text/plain": [
       "<Figure size 1440x720 with 2 Axes>"
      ]
     },
     "metadata": {
      "needs_background": "light"
     },
     "output_type": "display_data"
    }
   ],
   "source": [
    "df['lat'] = df['Latitude'].astype(float)\n",
    "df['lng'] = df['Longitude'].astype(float)\n",
    "df.plot(kind=\"scatter\", x=\"lat\", y=\"lng\", \n",
    "            s=df['TotalGHGEmissions'], label=\"TotalGHGEmissions\",\n",
    "            c=\"SiteEUI(kBtu/sf)\", cmap=plt.get_cmap(\"jet\"), colorbar=True,\n",
    "            figsize=(20,10))\n",
    "plt.show()"
   ]
  },
  {
   "cell_type": "code",
   "execution_count": 1148,
   "metadata": {},
   "outputs": [
    {
     "data": {
      "image/png": "[encoded data removed]",
      "text/plain": [
       "<Figure size 1440x720 with 2 Axes>"
      ]
     },
     "metadata": {
      "needs_background": "light"
     },
     "output_type": "display_data"
    }
   ],
   "source": [
    "df.plot(kind=\"scatter\", x=\"lat\", y=\"lng\", alpha=0.4,\n",
    "            s=df[\"TotalGHGEmissions\"], label=\"SiteEUI(kBtu/sf)\",\n",
    "            c=\"SiteEUI(kBtu/sf)\", cmap=plt.get_cmap(\"jet\"), colorbar=True,\n",
    "            figsize=(20,10))\n",
    "plt.show()"
   ]
  },
  {
   "cell_type": "code",
   "execution_count": 1149,
   "metadata": {},
   "outputs": [],
   "source": [
    "relevant_categorical_columns=[\n",
    "    'OSEBuildingID',\n",
    "    'BuildingType',\n",
    "    'PrimaryPropertyType',\n",
    "    'PropertyName',\n",
    "    'Neighborhood',\n",
    "    'LargestPropertyUseType'\n",
    "    \n",
    "    \n",
    "]"
   ]
  },
  {
   "cell_type": "markdown",
   "metadata": {},
   "source": [
    "### 1-3 <u>Sélection des variables quantitatives</u>"
   ]
  },
  {
   "cell_type": "markdown",
   "metadata": {},
   "source": [
    "Afin d'éviter le phénomène de data leakage, nous n'allons pas sélectionner les variables inconnues au moment de la prédiction"
   ]
  },
  {
   "cell_type": "code",
   "execution_count": 1150,
   "metadata": {},
   "outputs": [
    {
     "data": {
      "text/plain": [
       "DataYear                           0.0000\n",
       "ZipCode                            0.8409\n",
       "CouncilDistrictCode                0.0000\n",
       "YearBuilt                          0.0000\n",
       "NumberofBuildings                  0.0000\n",
       "NumberofFloors                     0.0000\n",
       "PropertyGFATotal                   0.0000\n",
       "PropertyGFAParking                 0.0000\n",
       "PropertyGFABuilding(s)             0.0000\n",
       "LargestPropertyUseTypeGFA          0.2587\n",
       "SecondLargestPropertyUseTypeGFA   45.6016\n",
       "ENERGYSTARScore                   35.5757\n",
       "SiteEUI(kBtu/sf)                   0.0000\n",
       "SiteEUIWN(kBtu/sf)                 0.0647\n",
       "SourceEUI(kBtu/sf)                 0.0000\n",
       "SourceEUIWN(kBtu/sf)               0.0000\n",
       "SiteEnergyUse(kBtu)                0.0000\n",
       "SiteEnergyUseWN(kBtu)              0.0647\n",
       "SteamUse(kBtu)                     0.0000\n",
       "Electricity(kWh)                   0.0000\n",
       "Electricity(kBtu)                  0.0000\n",
       "NaturalGas(therms)                 0.0000\n",
       "NaturalGas(kBtu)                   0.0000\n",
       "DefaultData                        0.0000\n",
       "TotalGHGEmissions                  0.0000\n",
       "GHGEmissionsIntensity              0.0000\n",
       "lat                                0.0000\n",
       "lng                                0.0000\n",
       "dtype: float64"
      ]
     },
     "execution_count": 1150,
     "metadata": {},
     "output_type": "execute_result"
    }
   ],
   "source": [
    "numeric_columns=df.select_dtypes(exclude=['object']).columns.tolist()\n",
    "df[numeric_columns].isnull().sum()/len(df)*100"
   ]
  },
  {
   "cell_type": "code",
   "execution_count": 1151,
   "metadata": {},
   "outputs": [],
   "source": [
    "target_cols=['TotalGHGEmissions','SiteEnergyUse(kBtu)']\n",
    "relevant_numeric_columns=[\n",
    "    'NumberofBuildings',\n",
    "    'NumberofFloors',\n",
    "    'PropertyGFATotal',\n",
    "    'PropertyGFAParking',\n",
    "    'PropertyGFABuilding(s)',\n",
    "    'LargestPropertyUseTypeGFA',\n",
    "    'TotalGHGEmissions',\n",
    "    'SiteEnergyUse(kBtu)',\n",
    "    'ENERGYSTARScore',\n",
    "    \n",
    "    'YearBuilt',\n",
    "    'lat',\n",
    "    'lng',\n",
    "    'NaturalGas(kBtu)',\n",
    "   'Electricity(kBtu)'\n",
    " \n",
    "    \n",
    "   \n",
    "    \n",
    "]\n",
    " "
   ]
  },
  {
   "cell_type": "code",
   "execution_count": 1152,
   "metadata": {},
   "outputs": [
    {
     "data": {
      "text/plain": [
       "(1546, 20)"
      ]
     },
     "execution_count": 1152,
     "metadata": {},
     "output_type": "execute_result"
    }
   ],
   "source": [
    "df=df[relevant_categorical_columns+relevant_numeric_columns]\n",
    "df.shape"
   ]
  },
  {
   "cell_type": "markdown",
   "metadata": {},
   "source": [
    "# Partie 2 nettoyage des lignes"
   ]
  },
  {
   "cell_type": "markdown",
   "metadata": {},
   "source": [
    "identification et suppression des valeurs numériques négatives sauf pour les colonnes latitude et longitude"
   ]
  },
  {
   "cell_type": "code",
   "execution_count": 1153,
   "metadata": {},
   "outputs": [
    {
     "name": "stdout",
     "output_type": "stream",
     "text": [
      "columns with negative values ['TotalGHGEmissions', 'Electricity(kBtu)']\n"
     ]
    },
    {
     "name": "stderr",
     "output_type": "stream",
     "text": [
      "/home/amadou/anaconda3/lib/python3.7/site-packages/pandas/core/frame.py:3997: SettingWithCopyWarning:\n",
      "\n",
      "\n",
      "A value is trying to be set on a copy of a slice from a DataFrame\n",
      "\n",
      "See the caveats in the documentation: https://pandas.pydata.org/pandas-docs/stable/user_guide/indexing.html#returning-a-view-versus-a-copy\n",
      "\n"
     ]
    },
    {
     "data": {
      "text/plain": [
       "(1545, 20)"
      ]
     },
     "execution_count": 1153,
     "metadata": {},
     "output_type": "execute_result"
    }
   ],
   "source": [
    "\n",
    "negative_cols=[]\n",
    "\n",
    "for col in relevant_numeric_columns:\n",
    "    if col not in ['lat','lng'] and len(df[df[col]<0])>0:\n",
    "        negative_cols.append(col)\n",
    "\n",
    "print('columns with negative values',negative_cols)\n",
    "for col in negative_cols:\n",
    "    df.drop(index=df.loc[df[col]<0,col].index,inplace=True)\n",
    "\n",
    "df.shape"
   ]
  },
  {
   "cell_type": "markdown",
   "metadata": {},
   "source": [
    "# Partie 3 analyse de la multicolinéarité des variables quantitatives"
   ]
  },
  {
   "cell_type": "markdown",
   "metadata": {},
   "source": [
    "## 3-1 matrice de corrélation"
   ]
  },
  {
   "cell_type": "code",
   "execution_count": 1154,
   "metadata": {},
   "outputs": [
    {
     "data": {
      "image/png": "[encoded data removed]",
      "text/plain": [
       "<Figure size 1008x1008 with 2 Axes>"
      ]
     },
     "metadata": {
      "needs_background": "light"
     },
     "output_type": "display_data"
    }
   ],
   "source": [
    "cols=[item for item in relevant_numeric_columns if item!='YearBuilt' and item not in target_cols and item not in ['lat','lng']]\n",
    "utils.show_correlation_matrix(df,cols)"
   ]
  },
  {
   "cell_type": "code",
   "execution_count": 1155,
   "metadata": {},
   "outputs": [
    {
     "name": "stdout",
     "output_type": "stream",
     "text": [
      "PropertyGFATotal           PropertyGFABuilding(s)      0.9904\n",
      "PropertyGFABuilding(s)     LargestPropertyUseTypeGFA   0.9824\n",
      "PropertyGFATotal           LargestPropertyUseTypeGFA   0.9777\n",
      "SiteEnergyUse(kBtu)        Electricity(kBtu)           0.9563\n",
      "LargestPropertyUseTypeGFA  Electricity(kBtu)           0.8902\n",
      "PropertyGFABuilding(s)     Electricity(kBtu)           0.8797\n",
      "PropertyGFATotal           Electricity(kBtu)           0.8686\n",
      "TotalGHGEmissions          SiteEnergyUse(kBtu)         0.8600\n",
      "LargestPropertyUseTypeGFA  SiteEnergyUse(kBtu)         0.8468\n",
      "PropertyGFABuilding(s)     SiteEnergyUse(kBtu)         0.8262\n",
      "PropertyGFATotal           SiteEnergyUse(kBtu)         0.8096\n",
      "NumberofBuildings          LargestPropertyUseTypeGFA   0.8012\n",
      "                           PropertyGFABuilding(s)      0.7766\n",
      "                           Electricity(kBtu)           0.7597\n",
      "                           PropertyGFATotal            0.7401\n",
      "TotalGHGEmissions          NaturalGas(kBtu)            0.7256\n",
      "NumberofBuildings          SiteEnergyUse(kBtu)         0.7142\n",
      "TotalGHGEmissions          Electricity(kBtu)           0.6865\n",
      "LargestPropertyUseTypeGFA  TotalGHGEmissions           0.5751\n",
      "PropertyGFABuilding(s)     TotalGHGEmissions           0.5435\n",
      "PropertyGFATotal           TotalGHGEmissions           0.5271\n",
      "SiteEnergyUse(kBtu)        NaturalGas(kBtu)            0.5031\n",
      "NumberofFloors             PropertyGFAParking          0.5007\n",
      "dtype: float64\n"
     ]
    }
   ],
   "source": [
    "utils.corr_matrix(df,relevant_numeric_columns,0.5) ##threshold"
   ]
  },
  {
   "cell_type": "markdown",
   "metadata": {},
   "source": [
    "suppression de la variable LargestPropertyUseTypeGFA trop corrélée avec PropertyGFATotal, et PropertyGFABuilding(s)\n",
    "\n",
    "suppression de la variable PropertyGFATotal trop corrélée avec  PropertyGFABuilding(s)"
   ]
  },
  {
   "cell_type": "code",
   "execution_count": 1156,
   "metadata": {},
   "outputs": [
    {
     "data": {
      "text/plain": [
       "\"\\ncorrelated_cols_to_remove=['PropertyGFATotal','LargestPropertyUseTypeGFA']\\n\\nfor col in correlated_cols_to_remove:\\n    if col in relevant_numeric_columns:\\n        relevant_numeric_columns.remove(col)\\n\""
      ]
     },
     "execution_count": 1156,
     "metadata": {},
     "output_type": "execute_result"
    }
   ],
   "source": [
    "'''\n",
    "correlated_cols_to_remove=['PropertyGFATotal','LargestPropertyUseTypeGFA']\n",
    "\n",
    "for col in correlated_cols_to_remove:\n",
    "    if col in relevant_numeric_columns:\n",
    "        relevant_numeric_columns.remove(col)\n",
    "'''"
   ]
  },
  {
   "cell_type": "code",
   "execution_count": 1157,
   "metadata": {},
   "outputs": [
    {
     "name": "stdout",
     "output_type": "stream",
     "text": [
      "PropertyGFATotal           PropertyGFABuilding(s)      0.9904\n",
      "PropertyGFABuilding(s)     LargestPropertyUseTypeGFA   0.9824\n",
      "PropertyGFATotal           LargestPropertyUseTypeGFA   0.9777\n",
      "SiteEnergyUse(kBtu)        Electricity(kBtu)           0.9563\n",
      "LargestPropertyUseTypeGFA  Electricity(kBtu)           0.8902\n",
      "PropertyGFABuilding(s)     Electricity(kBtu)           0.8797\n",
      "PropertyGFATotal           Electricity(kBtu)           0.8686\n",
      "TotalGHGEmissions          SiteEnergyUse(kBtu)         0.8600\n",
      "LargestPropertyUseTypeGFA  SiteEnergyUse(kBtu)         0.8468\n",
      "PropertyGFABuilding(s)     SiteEnergyUse(kBtu)         0.8262\n",
      "PropertyGFATotal           SiteEnergyUse(kBtu)         0.8096\n",
      "NumberofBuildings          LargestPropertyUseTypeGFA   0.8012\n",
      "                           PropertyGFABuilding(s)      0.7766\n",
      "                           Electricity(kBtu)           0.7597\n",
      "                           PropertyGFATotal            0.7401\n",
      "TotalGHGEmissions          NaturalGas(kBtu)            0.7256\n",
      "NumberofBuildings          SiteEnergyUse(kBtu)         0.7142\n",
      "TotalGHGEmissions          Electricity(kBtu)           0.6865\n",
      "LargestPropertyUseTypeGFA  TotalGHGEmissions           0.5751\n",
      "PropertyGFABuilding(s)     TotalGHGEmissions           0.5435\n",
      "PropertyGFATotal           TotalGHGEmissions           0.5271\n",
      "SiteEnergyUse(kBtu)        NaturalGas(kBtu)            0.5031\n",
      "NumberofFloors             PropertyGFAParking          0.5007\n",
      "dtype: float64\n"
     ]
    }
   ],
   "source": [
    "utils.corr_matrix(df,relevant_numeric_columns,0.5) ##threshold"
   ]
  },
  {
   "cell_type": "code",
   "execution_count": 1158,
   "metadata": {},
   "outputs": [
    {
     "data": {
      "text/plain": [
       "(1545, 20)"
      ]
     },
     "execution_count": 1158,
     "metadata": {},
     "output_type": "execute_result"
    }
   ],
   "source": [
    "df=df[relevant_categorical_columns+relevant_numeric_columns]\n",
    "df.shape"
   ]
  },
  {
   "cell_type": "markdown",
   "metadata": {},
   "source": [
    "# Partie 4 Identification des valeurs aberrantes par IQR"
   ]
  },
  {
   "cell_type": "code",
   "execution_count": 1159,
   "metadata": {
    "scrolled": true
   },
   "outputs": [
    {
     "data": {
      "image/png": "[encoded data removed]",
      "text/plain": [
       "<Figure size 1440x720 with 1 Axes>"
      ]
     },
     "metadata": {
      "needs_background": "light"
     },
     "output_type": "display_data"
    }
   ],
   "source": [
    "\n",
    "#df[numeric_columns_2].describe()\n",
    "\n",
    "## afin de détecter d'éventuelles valeurs aberrantes, \n",
    "## nous traçons les boxplot pour  chaque variable nutnumérique\n",
    "\n",
    "## boxplot\n",
    "from matplotlib import rcParams\n",
    "\n",
    "rcParams['figure.figsize'] = 20,10\n",
    "g=sns.boxplot(data=df[[item for item in relevant_numeric_columns if item not in ['YearBuilt','lat','lng']]])\n",
    "g.set_yscale(\"log\")\n",
    "\n",
    "## présence de plusieurs valeurs aberrantes "
   ]
  },
  {
   "cell_type": "code",
   "execution_count": 1160,
   "metadata": {},
   "outputs": [
    {
     "data": {
      "text/html": [
       "<div>\n",
       "<style scoped>\n",
       "    .dataframe tbody tr th:only-of-type {\n",
       "        vertical-align: middle;\n",
       "    }\n",
       "\n",
       "    .dataframe tbody tr th {\n",
       "        vertical-align: top;\n",
       "    }\n",
       "\n",
       "    .dataframe thead th {\n",
       "        text-align: right;\n",
       "    }\n",
       "</style>\n",
       "<table border=\"1\" class=\"dataframe\">\n",
       "  <thead>\n",
       "    <tr style=\"text-align: right;\">\n",
       "      <th></th>\n",
       "      <th>NumberofBuildings</th>\n",
       "      <th>NumberofFloors</th>\n",
       "      <th>PropertyGFATotal</th>\n",
       "      <th>PropertyGFAParking</th>\n",
       "      <th>PropertyGFABuilding(s)</th>\n",
       "      <th>LargestPropertyUseTypeGFA</th>\n",
       "      <th>TotalGHGEmissions</th>\n",
       "      <th>SiteEnergyUse(kBtu)</th>\n",
       "      <th>ENERGYSTARScore</th>\n",
       "      <th>YearBuilt</th>\n",
       "      <th>lat</th>\n",
       "      <th>lng</th>\n",
       "      <th>NaturalGas(kBtu)</th>\n",
       "      <th>Electricity(kBtu)</th>\n",
       "    </tr>\n",
       "  </thead>\n",
       "  <tbody>\n",
       "    <tr>\n",
       "      <th>count</th>\n",
       "      <td>1,545.0000</td>\n",
       "      <td>1,545.0000</td>\n",
       "      <td>1,545.0000</td>\n",
       "      <td>1,545.0000</td>\n",
       "      <td>1,545.0000</td>\n",
       "      <td>1,541.0000</td>\n",
       "      <td>1,545.0000</td>\n",
       "      <td>1,545.0000</td>\n",
       "      <td>995.0000</td>\n",
       "      <td>1,545.0000</td>\n",
       "      <td>1,545.0000</td>\n",
       "      <td>1,545.0000</td>\n",
       "      <td>1,545.0000</td>\n",
       "      <td>1,545.0000</td>\n",
       "    </tr>\n",
       "    <tr>\n",
       "      <th>mean</th>\n",
       "      <td>1.1793</td>\n",
       "      <td>4.2764</td>\n",
       "      <td>121,444.3411</td>\n",
       "      <td>13,845.8544</td>\n",
       "      <td>107,598.4867</td>\n",
       "      <td>100,035.1544</td>\n",
       "      <td>193.9517</td>\n",
       "      <td>8,873,302.4272</td>\n",
       "      <td>63.6312</td>\n",
       "      <td>1,961.5987</td>\n",
       "      <td>47.6165</td>\n",
       "      <td>-122.3335</td>\n",
       "      <td>2,042,091.0246</td>\n",
       "      <td>6,149,264.6153</td>\n",
       "    </tr>\n",
       "    <tr>\n",
       "      <th>std</th>\n",
       "      <td>3.0422</td>\n",
       "      <td>6.7871</td>\n",
       "      <td>306,579.8494</td>\n",
       "      <td>43,757.7778</td>\n",
       "      <td>292,900.8933</td>\n",
       "      <td>285,769.4140</td>\n",
       "      <td>779.8227</td>\n",
       "      <td>31,334,568.7068</td>\n",
       "      <td>28.8138</td>\n",
       "      <td>32.8746</td>\n",
       "      <td>0.0470</td>\n",
       "      <td>0.0233</td>\n",
       "      <td>9,719,712.2889</td>\n",
       "      <td>21,530,636.6458</td>\n",
       "    </tr>\n",
       "    <tr>\n",
       "      <th>min</th>\n",
       "      <td>0.0000</td>\n",
       "      <td>0.0000</td>\n",
       "      <td>11,285.0000</td>\n",
       "      <td>0.0000</td>\n",
       "      <td>3,636.0000</td>\n",
       "      <td>5,656.0000</td>\n",
       "      <td>0.0000</td>\n",
       "      <td>57,133.1992</td>\n",
       "      <td>1.0000</td>\n",
       "      <td>1,900.0000</td>\n",
       "      <td>47.5096</td>\n",
       "      <td>-122.4118</td>\n",
       "      <td>0.0000</td>\n",
       "      <td>0.0000</td>\n",
       "    </tr>\n",
       "    <tr>\n",
       "      <th>25%</th>\n",
       "      <td>1.0000</td>\n",
       "      <td>1.0000</td>\n",
       "      <td>28,841.0000</td>\n",
       "      <td>0.0000</td>\n",
       "      <td>27,933.0000</td>\n",
       "      <td>25,021.0000</td>\n",
       "      <td>20.6600</td>\n",
       "      <td>1,252,323.8750</td>\n",
       "      <td>44.0000</td>\n",
       "      <td>1,930.0000</td>\n",
       "      <td>47.5878</td>\n",
       "      <td>-122.3431</td>\n",
       "      <td>0.0000</td>\n",
       "      <td>731,279.0000</td>\n",
       "    </tr>\n",
       "    <tr>\n",
       "      <th>50%</th>\n",
       "      <td>1.0000</td>\n",
       "      <td>2.0000</td>\n",
       "      <td>48,139.0000</td>\n",
       "      <td>0.0000</td>\n",
       "      <td>46,068.0000</td>\n",
       "      <td>41,958.0000</td>\n",
       "      <td>49.9800</td>\n",
       "      <td>2,735,166.0000</td>\n",
       "      <td>71.0000</td>\n",
       "      <td>1,965.0000</td>\n",
       "      <td>47.6127</td>\n",
       "      <td>-122.3332</td>\n",
       "      <td>491,090.0000</td>\n",
       "      <td>1,747,974.0000</td>\n",
       "    </tr>\n",
       "    <tr>\n",
       "      <th>75%</th>\n",
       "      <td>1.0000</td>\n",
       "      <td>4.0000</td>\n",
       "      <td>107,930.0000</td>\n",
       "      <td>0.0000</td>\n",
       "      <td>95,995.0000</td>\n",
       "      <td>92,129.0000</td>\n",
       "      <td>147.4900</td>\n",
       "      <td>7,305,474.0000</td>\n",
       "      <td>88.0000</td>\n",
       "      <td>1,989.0000</td>\n",
       "      <td>47.6491</td>\n",
       "      <td>-122.3227</td>\n",
       "      <td>1,531,185.0000</td>\n",
       "      <td>5,266,334.0000</td>\n",
       "    </tr>\n",
       "    <tr>\n",
       "      <th>max</th>\n",
       "      <td>111.0000</td>\n",
       "      <td>99.0000</td>\n",
       "      <td>9,320,156.0000</td>\n",
       "      <td>512,608.0000</td>\n",
       "      <td>9,320,156.0000</td>\n",
       "      <td>9,320,156.0000</td>\n",
       "      <td>16,870.9800</td>\n",
       "      <td>873,923,712.0000</td>\n",
       "      <td>100.0000</td>\n",
       "      <td>2,015.0000</td>\n",
       "      <td>47.7339</td>\n",
       "      <td>-122.2618</td>\n",
       "      <td>297,909,000.0000</td>\n",
       "      <td>657,074,389.0000</td>\n",
       "    </tr>\n",
       "  </tbody>\n",
       "</table>\n",
       "</div>"
      ],
      "text/plain": [
       "       NumberofBuildings  NumberofFloors  PropertyGFATotal  \\\n",
       "count         1,545.0000      1,545.0000        1,545.0000   \n",
       "mean              1.1793          4.2764      121,444.3411   \n",
       "std               3.0422          6.7871      306,579.8494   \n",
       "min               0.0000          0.0000       11,285.0000   \n",
       "25%               1.0000          1.0000       28,841.0000   \n",
       "50%               1.0000          2.0000       48,139.0000   \n",
       "75%               1.0000          4.0000      107,930.0000   \n",
       "max             111.0000         99.0000    9,320,156.0000   \n",
       "\n",
       "       PropertyGFAParking  PropertyGFABuilding(s)  LargestPropertyUseTypeGFA  \\\n",
       "count          1,545.0000              1,545.0000                 1,541.0000   \n",
       "mean          13,845.8544            107,598.4867               100,035.1544   \n",
       "std           43,757.7778            292,900.8933               285,769.4140   \n",
       "min                0.0000              3,636.0000                 5,656.0000   \n",
       "25%                0.0000             27,933.0000                25,021.0000   \n",
       "50%                0.0000             46,068.0000                41,958.0000   \n",
       "75%                0.0000             95,995.0000                92,129.0000   \n",
       "max          512,608.0000          9,320,156.0000             9,320,156.0000   \n",
       "\n",
       "       TotalGHGEmissions  SiteEnergyUse(kBtu)  ENERGYSTARScore  YearBuilt  \\\n",
       "count         1,545.0000           1,545.0000         995.0000 1,545.0000   \n",
       "mean            193.9517       8,873,302.4272          63.6312 1,961.5987   \n",
       "std             779.8227      31,334,568.7068          28.8138    32.8746   \n",
       "min               0.0000          57,133.1992           1.0000 1,900.0000   \n",
       "25%              20.6600       1,252,323.8750          44.0000 1,930.0000   \n",
       "50%              49.9800       2,735,166.0000          71.0000 1,965.0000   \n",
       "75%             147.4900       7,305,474.0000          88.0000 1,989.0000   \n",
       "max          16,870.9800     873,923,712.0000         100.0000 2,015.0000   \n",
       "\n",
       "             lat        lng  NaturalGas(kBtu)  Electricity(kBtu)  \n",
       "count 1,545.0000 1,545.0000        1,545.0000         1,545.0000  \n",
       "mean     47.6165  -122.3335    2,042,091.0246     6,149,264.6153  \n",
       "std       0.0470     0.0233    9,719,712.2889    21,530,636.6458  \n",
       "min      47.5096  -122.4118            0.0000             0.0000  \n",
       "25%      47.5878  -122.3431            0.0000       731,279.0000  \n",
       "50%      47.6127  -122.3332      491,090.0000     1,747,974.0000  \n",
       "75%      47.6491  -122.3227    1,531,185.0000     5,266,334.0000  \n",
       "max      47.7339  -122.2618  297,909,000.0000   657,074,389.0000  "
      ]
     },
     "execution_count": 1160,
     "metadata": {},
     "output_type": "execute_result"
    }
   ],
   "source": [
    "df[relevant_numeric_columns].describe()"
   ]
  },
  {
   "cell_type": "code",
   "execution_count": 1161,
   "metadata": {},
   "outputs": [
    {
     "name": "stdout",
     "output_type": "stream",
     "text": [
      "7605\n"
     ]
    }
   ],
   "source": [
    "\n",
    "outliers=[]\n",
    "group_by_col= 'BuildingType'#'BuildingType'\n",
    "name='OSEBuildingID'\n",
    "relevant_cols_iqr=[item for item in relevant_numeric_columns if item not in ['lat','lng','YearBuilt','NumberofBuildings',group_by_col]\n",
    "                  ]\n",
    " \n",
    "\n",
    "for category in df[group_by_col].unique():\n",
    "    for col in relevant_cols_iqr:\n",
    "        data=df[df[group_by_col]==category][[col,name,group_by_col]]\n",
    "        if len(data)>0:\n",
    "            result=utils.find_outliers(df,col,name)\n",
    "            outliers+=result\n",
    "            #print('result',type(result))\n",
    "            \n",
    "        \n",
    "        \n",
    " \n",
    "\n",
    "print(len(outliers)) ## 5765"
   ]
  },
  {
   "cell_type": "code",
   "execution_count": 1162,
   "metadata": {},
   "outputs": [
    {
     "name": "stdout",
     "output_type": "stream",
     "text": [
      "outliers_names len 7605\n",
      "len first  7605\n",
      "duplicates 548\n"
     ]
    }
   ],
   "source": [
    "import collections\n",
    "outliers_names=list(map(lambda x: x[0],outliers))\n",
    "print('outliers_names len',len(outliers_names))\n",
    "print('len first ',len(outliers_names)) ##84956\n",
    "duplicates=[item for item, count in collections.Counter(outliers_names).items() if count > 1] \n",
    "\n",
    "print('duplicates',len(duplicates))\n"
   ]
  },
  {
   "cell_type": "code",
   "execution_count": 1163,
   "metadata": {},
   "outputs": [],
   "source": [
    "## création de nouvelles colonnes pour identifier les outliers\n",
    "cols_ouliers=list(map(lambda x:x+'_outliers',relevant_cols_iqr))\n",
    "for col in cols_ouliers:\n",
    "    df[col]=0\n"
   ]
  },
  {
   "cell_type": "code",
   "execution_count": 1164,
   "metadata": {},
   "outputs": [],
   "source": [
    "## identification des outliers\n",
    "for i,col in outliers:\n",
    "    building=df[df['OSEBuildingID']==i]\n",
    "    df.loc[building.index,col+'_outliers']=1"
   ]
  },
  {
   "cell_type": "code",
   "execution_count": 1165,
   "metadata": {},
   "outputs": [],
   "source": [
    "df.to_csv('data/2016_Building_Energy_Benchmarking_outliers.csv',index=False)"
   ]
  },
  {
   "cell_type": "code",
   "execution_count": 1166,
   "metadata": {},
   "outputs": [
    {
     "data": {
      "text/html": [
       "<div>\n",
       "<style scoped>\n",
       "    .dataframe tbody tr th:only-of-type {\n",
       "        vertical-align: middle;\n",
       "    }\n",
       "\n",
       "    .dataframe tbody tr th {\n",
       "        vertical-align: top;\n",
       "    }\n",
       "\n",
       "    .dataframe thead th {\n",
       "        text-align: right;\n",
       "    }\n",
       "</style>\n",
       "<table border=\"1\" class=\"dataframe\">\n",
       "  <thead>\n",
       "    <tr style=\"text-align: right;\">\n",
       "      <th></th>\n",
       "      <th>PropertyName</th>\n",
       "      <th>OSEBuildingID</th>\n",
       "      <th>YearBuilt</th>\n",
       "    </tr>\n",
       "  </thead>\n",
       "  <tbody>\n",
       "    <tr>\n",
       "      <th>0</th>\n",
       "      <td>Mayflower park hotel</td>\n",
       "      <td>1</td>\n",
       "      <td>1927</td>\n",
       "    </tr>\n",
       "    <tr>\n",
       "      <th>1</th>\n",
       "      <td>Paramount Hotel</td>\n",
       "      <td>2</td>\n",
       "      <td>1996</td>\n",
       "    </tr>\n",
       "    <tr>\n",
       "      <th>2</th>\n",
       "      <td>5673-The Westin Seattle</td>\n",
       "      <td>3</td>\n",
       "      <td>1969</td>\n",
       "    </tr>\n",
       "    <tr>\n",
       "      <th>3</th>\n",
       "      <td>HOTEL MAX</td>\n",
       "      <td>5</td>\n",
       "      <td>1926</td>\n",
       "    </tr>\n",
       "    <tr>\n",
       "      <th>4</th>\n",
       "      <td>WARWICK SEATTLE HOTEL (ID8)</td>\n",
       "      <td>8</td>\n",
       "      <td>1980</td>\n",
       "    </tr>\n",
       "    <tr>\n",
       "      <th>...</th>\n",
       "      <td>...</td>\n",
       "      <td>...</td>\n",
       "      <td>...</td>\n",
       "    </tr>\n",
       "    <tr>\n",
       "      <th>3338</th>\n",
       "      <td>Airport - Maintenance Shop - DOT: KCIA</td>\n",
       "      <td>50068</td>\n",
       "      <td>1955</td>\n",
       "    </tr>\n",
       "    <tr>\n",
       "      <th>3356</th>\n",
       "      <td>AIBS</td>\n",
       "      <td>50094</td>\n",
       "      <td>2015</td>\n",
       "    </tr>\n",
       "    <tr>\n",
       "      <th>3365</th>\n",
       "      <td>Ballard Pool</td>\n",
       "      <td>50208</td>\n",
       "      <td>1972</td>\n",
       "    </tr>\n",
       "    <tr>\n",
       "      <th>3367</th>\n",
       "      <td>Conservatory Campus</td>\n",
       "      <td>50212</td>\n",
       "      <td>1912</td>\n",
       "    </tr>\n",
       "    <tr>\n",
       "      <th>3373</th>\n",
       "      <td>Queen Anne Pool</td>\n",
       "      <td>50224</td>\n",
       "      <td>1974</td>\n",
       "    </tr>\n",
       "  </tbody>\n",
       "</table>\n",
       "<p>548 rows × 3 columns</p>\n",
       "</div>"
      ],
      "text/plain": [
       "                                PropertyName OSEBuildingID  YearBuilt\n",
       "0                       Mayflower park hotel             1       1927\n",
       "1                            Paramount Hotel             2       1996\n",
       "2                    5673-The Westin Seattle             3       1969\n",
       "3                                  HOTEL MAX             5       1926\n",
       "4                WARWICK SEATTLE HOTEL (ID8)             8       1980\n",
       "...                                      ...           ...        ...\n",
       "3338  Airport - Maintenance Shop - DOT: KCIA         50068       1955\n",
       "3356                                    AIBS         50094       2015\n",
       "3365                            Ballard Pool         50208       1972\n",
       "3367                     Conservatory Campus         50212       1912\n",
       "3373                         Queen Anne Pool         50224       1974\n",
       "\n",
       "[548 rows x 3 columns]"
      ]
     },
     "execution_count": 1166,
     "metadata": {},
     "output_type": "execute_result"
    }
   ],
   "source": [
    "## identification des 525 batiments ayant des valeurs aberrantes\n",
    "outliers_df=df[df['OSEBuildingID'].isin(outliers_names)][['PropertyName','OSEBuildingID','YearBuilt']] \n",
    "outliers_df"
   ]
  },
  {
   "cell_type": "markdown",
   "metadata": {},
   "source": [
    "suppression des valeurs aberrantes"
   ]
  },
  {
   "cell_type": "code",
   "execution_count": 1167,
   "metadata": {},
   "outputs": [
    {
     "data": {
      "text/plain": [
       "(997, 30)"
      ]
     },
     "execution_count": 1167,
     "metadata": {},
     "output_type": "execute_result"
    }
   ],
   "source": [
    "\n",
    "df.drop(outliers_df.index,inplace=True)\n",
    "df.shape"
   ]
  },
  {
   "cell_type": "code",
   "execution_count": 1168,
   "metadata": {},
   "outputs": [
    {
     "data": {
      "image/png": "[encoded data removed]",
      "text/plain": [
       "<Figure size 1440x720 with 1 Axes>"
      ]
     },
     "metadata": {
      "needs_background": "light"
     },
     "output_type": "display_data"
    }
   ],
   "source": [
    "rcParams['figure.figsize'] = 20,10\n",
    "g=sns.boxplot(data=df[[item for item in relevant_numeric_columns if item not in ['YearBuilt','lat','lng']]])\n",
    "g.set_yscale(\"log\")\n"
   ]
  },
  {
   "cell_type": "markdown",
   "metadata": {},
   "source": [
    "# Partie 5 Imputation des valeurs manquantes"
   ]
  },
  {
   "cell_type": "code",
   "execution_count": 1169,
   "metadata": {},
   "outputs": [
    {
     "data": {
      "text/plain": [
       "OSEBuildingID                         0.0000\n",
       "BuildingType                          0.0000\n",
       "PrimaryPropertyType                   0.0000\n",
       "PropertyName                          0.0000\n",
       "Neighborhood                          0.0000\n",
       "LargestPropertyUseType                0.4012\n",
       "NumberofBuildings                     0.0000\n",
       "NumberofFloors                        0.0000\n",
       "PropertyGFATotal                      0.0000\n",
       "PropertyGFAParking                    0.0000\n",
       "PropertyGFABuilding(s)                0.0000\n",
       "LargestPropertyUseTypeGFA             0.4012\n",
       "TotalGHGEmissions                     0.0000\n",
       "SiteEnergyUse(kBtu)                   0.0000\n",
       "ENERGYSTARScore                      38.2146\n",
       "YearBuilt                             0.0000\n",
       "lat                                   0.0000\n",
       "lng                                   0.0000\n",
       "NaturalGas(kBtu)                      0.0000\n",
       "Electricity(kBtu)                     0.0000\n",
       "NumberofFloors_outliers               0.0000\n",
       "PropertyGFATotal_outliers             0.0000\n",
       "PropertyGFAParking_outliers           0.0000\n",
       "PropertyGFABuilding(s)_outliers       0.0000\n",
       "LargestPropertyUseTypeGFA_outliers    0.0000\n",
       "TotalGHGEmissions_outliers            0.0000\n",
       "SiteEnergyUse(kBtu)_outliers          0.0000\n",
       "ENERGYSTARScore_outliers              0.0000\n",
       "NaturalGas(kBtu)_outliers             0.0000\n",
       "Electricity(kBtu)_outliers            0.0000\n",
       "dtype: float64"
      ]
     },
     "execution_count": 1169,
     "metadata": {},
     "output_type": "execute_result"
    }
   ],
   "source": [
    "df.isnull().sum()/len(df)*100"
   ]
  },
  {
   "cell_type": "code",
   "execution_count": 1170,
   "metadata": {},
   "outputs": [],
   "source": [
    "from sklearn.impute import SimpleImputer\n",
    "imputer = KNNImputer()\n",
    "data=np.array(df['ENERGYSTARScore']).reshape((len(df['ENERGYSTARScore']), 1))\n",
    "\n",
    "df['ENERGYSTARScore']=imputer.fit_transform(data)\n",
    "df['LargestPropertyUseTypeGFA']=imputer.fit_transform(np.array(df['LargestPropertyUseTypeGFA']).reshape((len(df['LargestPropertyUseTypeGFA']), 1)))\n",
    "#df['LargestPropertyUseType']=SimpleImputer(missing_values='str',strategy='median').fit_transform(np.array(df['LargestPropertyUseType']).reshape((len(df['LargestPropertyUseType']), 1)))\n",
    "df.drop(index=df.loc[pd.isna(df['LargestPropertyUseType']),'LargestPropertyUseType'].index,inplace=True)\n",
    "\n"
   ]
  },
  {
   "cell_type": "code",
   "execution_count": 1171,
   "metadata": {},
   "outputs": [
    {
     "data": {
      "text/plain": [
       "OSEBuildingID                        0.0000\n",
       "BuildingType                         0.0000\n",
       "PrimaryPropertyType                  0.0000\n",
       "PropertyName                         0.0000\n",
       "Neighborhood                         0.0000\n",
       "LargestPropertyUseType               0.0000\n",
       "NumberofBuildings                    0.0000\n",
       "NumberofFloors                       0.0000\n",
       "PropertyGFATotal                     0.0000\n",
       "PropertyGFAParking                   0.0000\n",
       "PropertyGFABuilding(s)               0.0000\n",
       "LargestPropertyUseTypeGFA            0.0000\n",
       "TotalGHGEmissions                    0.0000\n",
       "SiteEnergyUse(kBtu)                  0.0000\n",
       "ENERGYSTARScore                      0.0000\n",
       "YearBuilt                            0.0000\n",
       "lat                                  0.0000\n",
       "lng                                  0.0000\n",
       "NaturalGas(kBtu)                     0.0000\n",
       "Electricity(kBtu)                    0.0000\n",
       "NumberofFloors_outliers              0.0000\n",
       "PropertyGFATotal_outliers            0.0000\n",
       "PropertyGFAParking_outliers          0.0000\n",
       "PropertyGFABuilding(s)_outliers      0.0000\n",
       "LargestPropertyUseTypeGFA_outliers   0.0000\n",
       "TotalGHGEmissions_outliers           0.0000\n",
       "SiteEnergyUse(kBtu)_outliers         0.0000\n",
       "ENERGYSTARScore_outliers             0.0000\n",
       "NaturalGas(kBtu)_outliers            0.0000\n",
       "Electricity(kBtu)_outliers           0.0000\n",
       "dtype: float64"
      ]
     },
     "execution_count": 1171,
     "metadata": {},
     "output_type": "execute_result"
    }
   ],
   "source": [
    "df.isnull().sum()/len(df)*100"
   ]
  },
  {
   "cell_type": "markdown",
   "metadata": {},
   "source": [
    "# Partie 6 feature engineering"
   ]
  },
  {
   "cell_type": "markdown",
   "metadata": {},
   "source": [
    "### 6-1 création de la variable  âge à partir de l'année de construction"
   ]
  },
  {
   "cell_type": "code",
   "execution_count": 1172,
   "metadata": {},
   "outputs": [],
   "source": [
    "df['YearBuilt']=2016-df['YearBuilt']\n",
    "\n",
    "df.rename(columns = {'YearBuilt':'age'}, inplace = True)\n",
    "relevant_numeric_columns.append('age')\n",
    "relevant_numeric_columns.remove('YearBuilt')"
   ]
  },
  {
   "cell_type": "markdown",
   "metadata": {},
   "source": [
    "### 6-3 création de la variable  distance_from_center_ville (lat et lng) distance par rapport au centre ville de seattle "
   ]
  },
  {
   "cell_type": "code",
   "execution_count": 1173,
   "metadata": {},
   "outputs": [],
   "source": [
    "#distance_from_center_ville\n",
    "lat_center = 47.617004\n",
    "lng_center = -122.343506\n",
    "\n",
    "def dist_from_center(x):\n",
    "    center_ville=(47.617004,-122.343506)\n",
    "    return hs.haversine((x.lat,x.lng),center_ville)\n",
    "    \n",
    "center_ville = (lat_center,lng_center)\n",
    "#df['distance_from_center_ville']=\n",
    "\n",
    "df['distance_from_center_ville']=df[['lat','lng']].apply(lambda x:dist_from_center(x),axis=1)\n",
    "df['distance_from_center_ville'].sort_values()\n",
    "\n",
    "for col in ['lat','lng']:\n",
    "    if col  in relevant_numeric_columns:\n",
    "        relevant_numeric_columns.remove(col)\n",
    "        \n",
    "if 'distance_from_center_ville' not in relevant_numeric_columns:\n",
    "    relevant_numeric_columns.append('distance_from_center_ville')\n",
    "    "
   ]
  },
  {
   "cell_type": "markdown",
   "metadata": {},
   "source": [
    "### 6-5 création de la variable  natural_gas_percentage  et electricity_percentage"
   ]
  },
  {
   "cell_type": "code",
   "execution_count": 1174,
   "metadata": {},
   "outputs": [],
   "source": [
    "cols_to_remove=[\n",
    "    \n",
    "   \n",
    "    'NaturalGas(kBtu)',\n",
    "    'Electricity(kBtu)'\n",
    "   \n",
    "]\n",
    "new_col=  'natural_gas_percentage' \n",
    "df[new_col]=(df['NaturalGas(kBtu)']/(df['SiteEnergyUse(kBtu)']))*100\n",
    "df['electricity_percentage']=(df['Electricity(kBtu)']/(df['SiteEnergyUse(kBtu)']))*100\n",
    "\n",
    "for col in ['natural_gas_percentage' ,'electricity_percentage']:\n",
    "    if col not in relevant_numeric_columns:\n",
    "        relevant_numeric_columns.append(col)\n",
    "    \n",
    "    \n",
    "    \n",
    "for col in cols_to_remove:\n",
    "    if col in relevant_numeric_columns:\n",
    "        relevant_numeric_columns.remove(col)\n",
    "    \n",
    "imputer = KNNImputer()\n",
    "data=np.array(df[new_col]).reshape((len(df[new_col]), 1))\n",
    "\n",
    "df[new_col]=imputer.fit_transform(data)"
   ]
  },
  {
   "cell_type": "markdown",
   "metadata": {},
   "source": [
    "### 6-6 transformation de la  variable qualitative LargestPropertyUseTypeGFA en quantitative OneHotEncoder"
   ]
  },
  {
   "cell_type": "code",
   "execution_count": 1175,
   "metadata": {},
   "outputs": [],
   "source": [
    "df=df[relevant_categorical_columns+relevant_numeric_columns].reset_index()\n",
    "ohe = OneHotEncoder(sparse=False)\n",
    "\n",
    " \n",
    "data= ohe.fit_transform(np.array(df['LargestPropertyUseType']).reshape((len(df['LargestPropertyUseType']), 1)))\n",
    "new_cols= ohe.get_feature_names_out().tolist()\n",
    "df_hot= pd.DataFrame(columns =new_cols,\n",
    "              data =data)\n",
    "for col in new_cols:\n",
    "    df[col]=df_hot[col]\n",
    "    \n",
    "if  'LargestPropertyUseType 'not in relevant_categorical_columns:\n",
    "    relevant_categorical_columns.remove('LargestPropertyUseType')\n",
    "\n",
    "for col in new_cols:\n",
    "    \n",
    "    if col not in relevant_numeric_columns:\n",
    "        relevant_numeric_columns.append(col)"
   ]
  },
  {
   "cell_type": "code",
   "execution_count": 1176,
   "metadata": {},
   "outputs": [],
   "source": [
    " \n",
    "for col in new_cols:\n",
    "    \n",
    "    if col not in relevant_numeric_columns:\n",
    "        relevant_numeric_columns.append(col)\n",
    "        \n",
    "    item = df[df[col]==1]\n",
    "    if len(item)>0:\n",
    "        index = item.index\n",
    "        data=df[['LargestPropertyUseTypeGFA','PropertyGFATotal']].iloc[index]\n",
    "        #df.loc[index,col]=(data['LargestPropertyUseTypeGFA']/data['PropertyGFATotal'])\n",
    "        df.loc[index,col]=data['LargestPropertyUseTypeGFA']\n",
    "        \n",
    "         \n",
    "        "
   ]
  },
  {
   "cell_type": "markdown",
   "metadata": {},
   "source": [
    "# Partie 7 Analyse univariée"
   ]
  },
  {
   "cell_type": "markdown",
   "metadata": {},
   "source": [
    "### 7-1 Analyse univariée TotalGHGEmissions"
   ]
  },
  {
   "cell_type": "code",
   "execution_count": 1177,
   "metadata": {},
   "outputs": [],
   "source": [
    "## histogramme et boite à moustache\n",
    "\n",
    "def boxplot_hist(df,col):\n",
    "    fig1 = px.box(df,x=col)\n",
    "    bins=round(1 + 3.322*math.log(len(df)))\n",
    "    fig1.show()\n",
    "    fig2 = px.histogram(df[col],nbins=bins)\n",
    "    fig2.show()\n",
    "    "
   ]
  },
  {
   "cell_type": "code",
   "execution_count": 1178,
   "metadata": {},
   "outputs": [
    {
     "data": {
      "application/vnd.plotly.v1+json": {
       "config": {
        "plotlyServerURL": "https://plot.ly"
       },
       "data": [
        {
         "alignmentgroup": "True",
         "hovertemplate": "TotalGHGEmissions=%{x}<extra></extra>",
         "legendgroup": "",
         "marker": {
          "color": "#636efa"
         },
         "name": "",
         "notched": false,
         "offsetgroup": "",
         "orientation": "h",
         "showlegend": false,
         "type": "box",
         "x": [
          221.51,
          273.02,
          9.13,
          157.77,
          215,
          3.93,
          31.47,
          130.56,
          83.86,
          45.43,
          66.48,
          33.26,
          35.36,
          134.38,
          146.34,
          87.98,
          39.06,
          101.83,
          6.11,
          191.2,
          78.85,
          44.32,
          127.29,
          89.02,
          142.39,
          176.75,
          74.33,
          204.08,
          61.21,
          100.46,
          104.26,
          49.58,
          66.3,
          83.7,
          51.11,
          69.44,
          35.78,
          59.34,
          48.99,
          225.69,
          3,
          175.77,
          208.26,
          28.27,
          96.43,
          27.39,
          16.81,
          92.91,
          72.88,
          49.09,
          84.57,
          149.93,
          57.21,
          101.41,
          44.22,
          26.19,
          51.67,
          31.97,
          89.47,
          119.03,
          6.09,
          24.91,
          78.92,
          116.03,
          48.65,
          70.47,
          156.67,
          36.61,
          18.03,
          74.83,
          20.98,
          44.48,
          13.86,
          117.11,
          5.32,
          5.44,
          35.8,
          42.03,
          38.59,
          33.06,
          93.23,
          29.53,
          74.1,
          22.44,
          45.47,
          121.98,
          110.46,
          10.24,
          226.43,
          237.39,
          158.92,
          17.17,
          32.22,
          8.15,
          25.58,
          33.18,
          2.8,
          42.65,
          76.68,
          10.72,
          3.62,
          46.93,
          6.32,
          204.81,
          32.02,
          74.31,
          38.55,
          90.24,
          42.25,
          46.49,
          44.35,
          22.1,
          57.73,
          33.22,
          34,
          58.67,
          91.1,
          23.86,
          107.83,
          22.12,
          65.3,
          107.16,
          20.29,
          39.5,
          64,
          39.47,
          8.73,
          25.74,
          19.73,
          134.69,
          19.89,
          76.8,
          26.04,
          130.31,
          99.59,
          13.28,
          31.58,
          65.56,
          132.6,
          74.18,
          15.65,
          16.48,
          41.18,
          7.37,
          138.35,
          67.78,
          180.76,
          98.43,
          47.25,
          100.42,
          49.25,
          42.74,
          33.41,
          67.29,
          17.28,
          40.38,
          94.74,
          21.37,
          23.48,
          30.61,
          0,
          60.7,
          55.73,
          5.59,
          70.09,
          8.8,
          47.39,
          97.82,
          69.02,
          119.46,
          157.48,
          7.08,
          95.86,
          75.29,
          19.86,
          155.74,
          48.5,
          178.62,
          34.14,
          168.5,
          86.9,
          47.82,
          260.13,
          109.85,
          150.88,
          27.82,
          54.4,
          20.12,
          41.8,
          13.72,
          9.31,
          51.56,
          30.35,
          73.58,
          89.94,
          111.23,
          46.52,
          152.28,
          60.92,
          13.61,
          1.06,
          131.64,
          89.53,
          158.55,
          195.43,
          29.16,
          24.12,
          4.22,
          4.2,
          110.41,
          20.94,
          27.24,
          54.18,
          7.56,
          109.71,
          13.07,
          134.82,
          16.27,
          13.51,
          31.74,
          30.52,
          11.29,
          24.39,
          17.87,
          101.5,
          36.02,
          43.84,
          86.46,
          3.58,
          77.04,
          2.41,
          2.57,
          21.93,
          22.65,
          37.78,
          9.77,
          9.47,
          169.75,
          7.77,
          63.48,
          207.6,
          29.62,
          9.82,
          42.19,
          25.24,
          24.02,
          43.8,
          15.27,
          6.33,
          18.1,
          154.17,
          29.54,
          14.22,
          9.95,
          6.16,
          24.25,
          13.87,
          8.68,
          28.81,
          33.78,
          66.29,
          12.95,
          126.78,
          10.83,
          86.02,
          30.33,
          72.78,
          36.43,
          4.22,
          13.91,
          47.12,
          63.61,
          28.41,
          47.66,
          46.57,
          101.99,
          74.92,
          18.66,
          32.64,
          33.23,
          34.98,
          64.51,
          8.45,
          38.87,
          6.49,
          32.22,
          23.59,
          6.69,
          37.31,
          5.67,
          4.8,
          4.99,
          118.37,
          89.57,
          27.14,
          202.65,
          23.15,
          26.11,
          33.37,
          49.98,
          0.63,
          19.07,
          130.58,
          185.23,
          89.29,
          43.45,
          35.04,
          188.67,
          13.29,
          210.3,
          34.15,
          1.86,
          134.57,
          43.13,
          13.16,
          33.92,
          147,
          12.48,
          5.17,
          19.93,
          19.82,
          13.02,
          19.04,
          63.06,
          10.05,
          0.82,
          3.89,
          1.73,
          83.1,
          1.7,
          61.71,
          46.64,
          65.65,
          10.75,
          39.05,
          1.67,
          31.6,
          67.52,
          28.58,
          61.53,
          29.82,
          47.59,
          18.85,
          2.52,
          39.5,
          11.27,
          15.47,
          68.14,
          32.63,
          106.45,
          68.97,
          29.41,
          3.06,
          10.26,
          8.85,
          3.16,
          64.81,
          45.79,
          81.96,
          1.55,
          3.73,
          18.16,
          4.95,
          3.34,
          13.71,
          46.48,
          149.91,
          94.85,
          148.55,
          60.88,
          42.04,
          8.47,
          30.32,
          66.53,
          9.46,
          73.52,
          18.34,
          82.34,
          5.41,
          16.06,
          23.85,
          38.12,
          11.29,
          16.13,
          19.39,
          8.49,
          30.02,
          127.1,
          49.58,
          40.22,
          15.9,
          122.73,
          10.36,
          32.86,
          176.79,
          36.74,
          45.33,
          61.98,
          180.38,
          79.58,
          17.12,
          8.8,
          12.77,
          12.59,
          26.38,
          20.76,
          20.9,
          48.35,
          9.3,
          73.61,
          101.34,
          71.23,
          107.45,
          60.04,
          55.61,
          123.41,
          37.34,
          1.12,
          31.61,
          34.87,
          16.57,
          73,
          82.72,
          32.09,
          73.48,
          184.09,
          20.64,
          24.62,
          192.12,
          41.06,
          13.97,
          13.33,
          119.34,
          44.33,
          8.77,
          77.48,
          98.28,
          218.79,
          44.89,
          12.98,
          143.34,
          14.13,
          75.99,
          2.01,
          182.81,
          3.04,
          10.73,
          75.25,
          4.05,
          115.43,
          104.91,
          35.96,
          167.98,
          111.73,
          5.97,
          7.07,
          54.44,
          13.27,
          92.45,
          86.81,
          3.71,
          6.35,
          27.97,
          9.42,
          15.62,
          18.63,
          2.64,
          26.55,
          7.59,
          73.26,
          18.54,
          203.73,
          1.85,
          103.28,
          23.9,
          80.09,
          32.77,
          24.88,
          135.81,
          49.62,
          5.97,
          27.41,
          53.73,
          49.73,
          225.67,
          5.08,
          15.11,
          17.38,
          64.88,
          0.81,
          215.56,
          173.75,
          55.3,
          25.09,
          46.9,
          60.34,
          208.53,
          45.38,
          38.86,
          78.22,
          5.24,
          6.61,
          13.14,
          36.77,
          29.24,
          13.29,
          31.79,
          8.42,
          14.9,
          34.26,
          1.55,
          37.49,
          46.44,
          0.68,
          0.4,
          4.58,
          14.81,
          11.08,
          5.07,
          6.3,
          1.68,
          7.82,
          34.52,
          16.67,
          17.39,
          60.67,
          44.26,
          33.28,
          30.49,
          128.66,
          67.45,
          42.87,
          28.28,
          121.9,
          8.44,
          82.57,
          44.28,
          33.42,
          0.86,
          80.19,
          42.96,
          52.41,
          55.85,
          32.58,
          184.6,
          11.39,
          53.21,
          129.89,
          3.04,
          96.15,
          122.71,
          2.19,
          43.63,
          2.28,
          179.55,
          23.6,
          2.25,
          184,
          62.23,
          26.41,
          38.39,
          2.69,
          44.26,
          37.65,
          21.24,
          62.05,
          112.34,
          146.93,
          46.45,
          110.66,
          22.26,
          38.57,
          5.37,
          15.7,
          33.8,
          59.24,
          26.73,
          13.12,
          13.7,
          178.86,
          61.3,
          55.86,
          6.16,
          16.04,
          22.29,
          24.76,
          14.36,
          6.04,
          18.87,
          4.95,
          7.56,
          10.01,
          128.41,
          19.56,
          50.07,
          42.45,
          54.24,
          19.51,
          37.08,
          9.26,
          22.48,
          8.07,
          174.62,
          67.05,
          3.8,
          19.61,
          8.85,
          51.1,
          17.04,
          2.91,
          83.3,
          33.1,
          28.37,
          21.5,
          157.07,
          4.48,
          178.35,
          102.35,
          13.87,
          12.92,
          18.03,
          9.71,
          1.14,
          12.55,
          5.09,
          25.77,
          40.85,
          3.45,
          8.7,
          40.94,
          95.93,
          17.29,
          15.35,
          51.27,
          40.01,
          40.42,
          59,
          5.82,
          6.42,
          3.67,
          6.41,
          17.51,
          42.73,
          38.87,
          60.12,
          2.82,
          9.25,
          16.5,
          46.16,
          24.91,
          43.64,
          38.38,
          93.5,
          30.99,
          17.87,
          3.65,
          3.72,
          9.29,
          8.22,
          43.17,
          19.88,
          7.27,
          27.92,
          20.3,
          57.25,
          31.94,
          19.77,
          18.87,
          18.04,
          26.52,
          49.18,
          23.5,
          78.57,
          7.74,
          219.93,
          34.04,
          1.51,
          4.33,
          19.43,
          158.63,
          41.77,
          175.53,
          124.4,
          43.18,
          64.75,
          59.14,
          39.05,
          85.15,
          21.46,
          29.88,
          112.82,
          6.46,
          17.6,
          26.27,
          12.17,
          6.3,
          1.46,
          7.49,
          66.77,
          106.35,
          7.98,
          92.7,
          2.15,
          7.05,
          61.6,
          30.79,
          35.48,
          37.61,
          152.14,
          11.44,
          14.17,
          1.6,
          17.45,
          27.83,
          4.02,
          11.73,
          96.62,
          23.62,
          9.65,
          33.52,
          82.07,
          0.79,
          0.75,
          58.36,
          77.23,
          10.05,
          25.15,
          39.25,
          14.99,
          54.27,
          47.08,
          28.05,
          11.69,
          42.24,
          13.22,
          31.54,
          51.15,
          27.75,
          42.66,
          1.6,
          9.67,
          44.68,
          32.44,
          14.37,
          23.52,
          23.84,
          8.49,
          78.19,
          28.78,
          41.96,
          6.3,
          120.72,
          49.53,
          14.64,
          17.22,
          125.59,
          1.24,
          36.82,
          27.93,
          29.44,
          28.64,
          97.27,
          116.94,
          5.86,
          101.21,
          10.99,
          13.09,
          11.85,
          122,
          14.35,
          46.53,
          223.36,
          18.76,
          7.05,
          50.05,
          3.25,
          20.66,
          6.53,
          34.08,
          124.59,
          13.69,
          63.81,
          25.53,
          2.88,
          9.29,
          17.79,
          2.35,
          20.76,
          18.19,
          35.4,
          190.45,
          25.14,
          5.66,
          65.05,
          14.21,
          65.89,
          8.61,
          26.56,
          17.41,
          10.31,
          95.38,
          120.86,
          37.28,
          62.51,
          22.38,
          18.81,
          58.79,
          55.06,
          91.69,
          28.07,
          121.63,
          17.31,
          10.04,
          34.03,
          38.59,
          35.99,
          22.33,
          39.65,
          46.01,
          12.57,
          203.21,
          70.92,
          1.59,
          41.88,
          11.02,
          38.21,
          87.41,
          48.13,
          69.2,
          226.73,
          156.18,
          9.72,
          4.76,
          18.62,
          43.91,
          185.33,
          19.81,
          37.43,
          53.88,
          47.03,
          28.46,
          14.79,
          3.78,
          60.93,
          7.69,
          26.94,
          35.72,
          7.52,
          10.92,
          6.84,
          173.67,
          11.18,
          6.76,
          20.96,
          32.42,
          20.78,
          53.25,
          10.04,
          6.73,
          34.61,
          42.71,
          4.45,
          65.95,
          53.65,
          6.96,
          104.74,
          55.23,
          96.2,
          56.25,
          9.23,
          78.36,
          39.4,
          29.7,
          27.06,
          60.83,
          19.28,
          19.14,
          46.61,
          20.46,
          11.38,
          38.36,
          206.33,
          93.55,
          49.55,
          19.61,
          41.7,
          38.18,
          25.14,
          51.89,
          2.94,
          37.97,
          2.62,
          29.39,
          6.88,
          3.06,
          67.15,
          0.89,
          17.65,
          14.19,
          2.82,
          77.84,
          21.87,
          67.33,
          62.94,
          115.34,
          53.02,
          4.8,
          9.09,
          128.07,
          0.87,
          4.15,
          7.31,
          11.32,
          63.22,
          55.73,
          39.31,
          51.14,
          54.02,
          150.23,
          7.12,
          24.97,
          68.39,
          43.97,
          66.43,
          119.76,
          43.04,
          67.96,
          22.18,
          38.71,
          3.39,
          49.44,
          7.8,
          156.45,
          21.05,
          29.18,
          89.8,
          81.18,
          176.75,
          72.02,
          24.82,
          193.36,
          83.45,
          137.66,
          12.43,
          37.83,
          32.72,
          145.11,
          30.03,
          11.4,
          158.6,
          94.63,
          9.46,
          15.5,
          92.07,
          175.46,
          191.97,
          38.17,
          144.41,
          57.59,
          51.59,
          184.81,
          22.76,
          54.98,
          16.13,
          107.29,
          38.13,
          29.4,
          74.3,
          82.58,
          10.8,
          51.39,
          25.93,
          103.65,
          48.53,
          62.41,
          9.76,
          65.01,
          4.38,
          91.98,
          134.8,
          67.65,
          9.24,
          22.17,
          4.44,
          29.18,
          23,
          14.37,
          24.73,
          60.81,
          20.33,
          32.17,
          22.11,
          41.27
         ],
         "x0": " ",
         "xaxis": "x",
         "y0": " ",
         "yaxis": "y"
        }
       ],
       "layout": {
        "boxmode": "group",
        "legend": {
         "tracegroupgap": 0
        },
        "margin": {
         "t": 60
        },
        "template": {
         "data": {
          "bar": [
           {
            "error_x": {
             "color": "#2a3f5f"
            },
            "error_y": {
             "color": "#2a3f5f"
            },
            "marker": {
             "line": {
              "color": "#E5ECF6",
              "width": 0.5
             },
             "pattern": {
              "fillmode": "overlay",
              "size": 10,
              "solidity": 0.2
             }
            },
            "type": "bar"
           }
          ],
          "barpolar": [
           {
            "marker": {
             "line": {
              "color": "#E5ECF6",
              "width": 0.5
             },
             "pattern": {
              "fillmode": "overlay",
              "size": 10,
              "solidity": 0.2
             }
            },
            "type": "barpolar"
           }
          ],
          "carpet": [
           {
            "aaxis": {
             "endlinecolor": "#2a3f5f",
             "gridcolor": "white",
             "linecolor": "white",
             "minorgridcolor": "white",
             "startlinecolor": "#2a3f5f"
            },
            "baxis": {
             "endlinecolor": "#2a3f5f",
             "gridcolor": "white",
             "linecolor": "white",
             "minorgridcolor": "white",
             "startlinecolor": "#2a3f5f"
            },
            "type": "carpet"
           }
          ],
          "choropleth": [
           {
            "colorbar": {
             "outlinewidth": 0,
             "ticks": ""
            },
            "type": "choropleth"
           }
          ],
          "contour": [
           {
            "colorbar": {
             "outlinewidth": 0,
             "ticks": ""
            },
            "colorscale": [
             [
              0,
              "#0d0887"
             ],
             [
              0.1111111111111111,
              "#46039f"
             ],
             [
              0.2222222222222222,
              "#7201a8"
             ],
             [
              0.3333333333333333,
              "#9c179e"
             ],
             [
              0.4444444444444444,
              "#bd3786"
             ],
             [
              0.5555555555555556,
              "#d8576b"
             ],
             [
              0.6666666666666666,
              "#ed7953"
             ],
             [
              0.7777777777777778,
              "#fb9f3a"
             ],
             [
              0.8888888888888888,
              "#fdca26"
             ],
             [
              1,
              "#f0f921"
             ]
            ],
            "type": "contour"
           }
          ],
          "contourcarpet": [
           {
            "colorbar": {
             "outlinewidth": 0,
             "ticks": ""
            },
            "type": "contourcarpet"
           }
          ],
          "heatmap": [
           {
            "colorbar": {
             "outlinewidth": 0,
             "ticks": ""
            },
            "colorscale": [
             [
              0,
              "#0d0887"
             ],
             [
              0.1111111111111111,
              "#46039f"
             ],
             [
              0.2222222222222222,
              "#7201a8"
             ],
             [
              0.3333333333333333,
              "#9c179e"
             ],
             [
              0.4444444444444444,
              "#bd3786"
             ],
             [
              0.5555555555555556,
              "#d8576b"
             ],
             [
              0.6666666666666666,
              "#ed7953"
             ],
             [
              0.7777777777777778,
              "#fb9f3a"
             ],
             [
              0.8888888888888888,
              "#fdca26"
             ],
             [
              1,
              "#f0f921"
             ]
            ],
            "type": "heatmap"
           }
          ],
          "heatmapgl": [
           {
            "colorbar": {
             "outlinewidth": 0,
             "ticks": ""
            },
            "colorscale": [
             [
              0,
              "#0d0887"
             ],
             [
              0.1111111111111111,
              "#46039f"
             ],
             [
              0.2222222222222222,
              "#7201a8"
             ],
             [
              0.3333333333333333,
              "#9c179e"
             ],
             [
              0.4444444444444444,
              "#bd3786"
             ],
             [
              0.5555555555555556,
              "#d8576b"
             ],
             [
              0.6666666666666666,
              "#ed7953"
             ],
             [
              0.7777777777777778,
              "#fb9f3a"
             ],
             [
              0.8888888888888888,
              "#fdca26"
             ],
             [
              1,
              "#f0f921"
             ]
            ],
            "type": "heatmapgl"
           }
          ],
          "histogram": [
           {
            "marker": {
             "pattern": {
              "fillmode": "overlay",
              "size": 10,
              "solidity": 0.2
             }
            },
            "type": "histogram"
           }
          ],
          "histogram2d": [
           {
            "colorbar": {
             "outlinewidth": 0,
             "ticks": ""
            },
            "colorscale": [
             [
              0,
              "#0d0887"
             ],
             [
              0.1111111111111111,
              "#46039f"
             ],
             [
              0.2222222222222222,
              "#7201a8"
             ],
             [
              0.3333333333333333,
              "#9c179e"
             ],
             [
              0.4444444444444444,
              "#bd3786"
             ],
             [
              0.5555555555555556,
              "#d8576b"
             ],
             [
              0.6666666666666666,
              "#ed7953"
             ],
             [
              0.7777777777777778,
              "#fb9f3a"
             ],
             [
              0.8888888888888888,
              "#fdca26"
             ],
             [
              1,
              "#f0f921"
             ]
            ],
            "type": "histogram2d"
           }
          ],
          "histogram2dcontour": [
           {
            "colorbar": {
             "outlinewidth": 0,
             "ticks": ""
            },
            "colorscale": [
             [
              0,
              "#0d0887"
             ],
             [
              0.1111111111111111,
              "#46039f"
             ],
             [
              0.2222222222222222,
              "#7201a8"
             ],
             [
              0.3333333333333333,
              "#9c179e"
             ],
             [
              0.4444444444444444,
              "#bd3786"
             ],
             [
              0.5555555555555556,
              "#d8576b"
             ],
             [
              0.6666666666666666,
              "#ed7953"
             ],
             [
              0.7777777777777778,
              "#fb9f3a"
             ],
             [
              0.8888888888888888,
              "#fdca26"
             ],
             [
              1,
              "#f0f921"
             ]
            ],
            "type": "histogram2dcontour"
           }
          ],
          "mesh3d": [
           {
            "colorbar": {
             "outlinewidth": 0,
             "ticks": ""
            },
            "type": "mesh3d"
           }
          ],
          "parcoords": [
           {
            "line": {
             "colorbar": {
              "outlinewidth": 0,
              "ticks": ""
             }
            },
            "type": "parcoords"
           }
          ],
          "pie": [
           {
            "automargin": true,
            "type": "pie"
           }
          ],
          "scatter": [
           {
            "fillpattern": {
             "fillmode": "overlay",
             "size": 10,
             "solidity": 0.2
            },
            "type": "scatter"
           }
          ],
          "scatter3d": [
           {
            "line": {
             "colorbar": {
              "outlinewidth": 0,
              "ticks": ""
             }
            },
            "marker": {
             "colorbar": {
              "outlinewidth": 0,
              "ticks": ""
             }
            },
            "type": "scatter3d"
           }
          ],
          "scattercarpet": [
           {
            "marker": {
             "colorbar": {
              "outlinewidth": 0,
              "ticks": ""
             }
            },
            "type": "scattercarpet"
           }
          ],
          "scattergeo": [
           {
            "marker": {
             "colorbar": {
              "outlinewidth": 0,
              "ticks": ""
             }
            },
            "type": "scattergeo"
           }
          ],
          "scattergl": [
           {
            "marker": {
             "colorbar": {
              "outlinewidth": 0,
              "ticks": ""
             }
            },
            "type": "scattergl"
           }
          ],
          "scattermapbox": [
           {
            "marker": {
             "colorbar": {
              "outlinewidth": 0,
              "ticks": ""
             }
            },
            "type": "scattermapbox"
           }
          ],
          "scatterpolar": [
           {
            "marker": {
             "colorbar": {
              "outlinewidth": 0,
              "ticks": ""
             }
            },
            "type": "scatterpolar"
           }
          ],
          "scatterpolargl": [
           {
            "marker": {
             "colorbar": {
              "outlinewidth": 0,
              "ticks": ""
             }
            },
            "type": "scatterpolargl"
           }
          ],
          "scatterternary": [
           {
            "marker": {
             "colorbar": {
              "outlinewidth": 0,
              "ticks": ""
             }
            },
            "type": "scatterternary"
           }
          ],
          "surface": [
           {
            "colorbar": {
             "outlinewidth": 0,
             "ticks": ""
            },
            "colorscale": [
             [
              0,
              "#0d0887"
             ],
             [
              0.1111111111111111,
              "#46039f"
             ],
             [
              0.2222222222222222,
              "#7201a8"
             ],
             [
              0.3333333333333333,
              "#9c179e"
             ],
             [
              0.4444444444444444,
              "#bd3786"
             ],
             [
              0.5555555555555556,
              "#d8576b"
             ],
             [
              0.6666666666666666,
              "#ed7953"
             ],
             [
              0.7777777777777778,
              "#fb9f3a"
             ],
             [
              0.8888888888888888,
              "#fdca26"
             ],
             [
              1,
              "#f0f921"
             ]
            ],
            "type": "surface"
           }
          ],
          "table": [
           {
            "cells": {
             "fill": {
              "color": "#EBF0F8"
             },
             "line": {
              "color": "white"
             }
            },
            "header": {
             "fill": {
              "color": "#C8D4E3"
             },
             "line": {
              "color": "white"
             }
            },
            "type": "table"
           }
          ]
         },
         "layout": {
          "annotationdefaults": {
           "arrowcolor": "#2a3f5f",
           "arrowhead": 0,
           "arrowwidth": 1
          },
          "autotypenumbers": "strict",
          "coloraxis": {
           "colorbar": {
            "outlinewidth": 0,
            "ticks": ""
           }
          },
          "colorscale": {
           "diverging": [
            [
             0,
             "#8e0152"
            ],
            [
             0.1,
             "#c51b7d"
            ],
            [
             0.2,
             "#de77ae"
            ],
            [
             0.3,
             "#f1b6da"
            ],
            [
             0.4,
             "#fde0ef"
            ],
            [
             0.5,
             "#f7f7f7"
            ],
            [
             0.6,
             "#e6f5d0"
            ],
            [
             0.7,
             "#b8e186"
            ],
            [
             0.8,
             "#7fbc41"
            ],
            [
             0.9,
             "#4d9221"
            ],
            [
             1,
             "#276419"
            ]
           ],
           "sequential": [
            [
             0,
             "#0d0887"
            ],
            [
             0.1111111111111111,
             "#46039f"
            ],
            [
             0.2222222222222222,
             "#7201a8"
            ],
            [
             0.3333333333333333,
             "#9c179e"
            ],
            [
             0.4444444444444444,
             "#bd3786"
            ],
            [
             0.5555555555555556,
             "#d8576b"
            ],
            [
             0.6666666666666666,
             "#ed7953"
            ],
            [
             0.7777777777777778,
             "#fb9f3a"
            ],
            [
             0.8888888888888888,
             "#fdca26"
            ],
            [
             1,
             "#f0f921"
            ]
           ],
           "sequentialminus": [
            [
             0,
             "#0d0887"
            ],
            [
             0.1111111111111111,
             "#46039f"
            ],
            [
             0.2222222222222222,
             "#7201a8"
            ],
            [
             0.3333333333333333,
             "#9c179e"
            ],
            [
             0.4444444444444444,
             "#bd3786"
            ],
            [
             0.5555555555555556,
             "#d8576b"
            ],
            [
             0.6666666666666666,
             "#ed7953"
            ],
            [
             0.7777777777777778,
             "#fb9f3a"
            ],
            [
             0.8888888888888888,
             "#fdca26"
            ],
            [
             1,
             "#f0f921"
            ]
           ]
          },
          "colorway": [
           "#636efa",
           "#EF553B",
           "#00cc96",
           "#ab63fa",
           "#FFA15A",
           "#19d3f3",
           "#FF6692",
           "#B6E880",
           "#FF97FF",
           "#FECB52"
          ],
          "font": {
           "color": "#2a3f5f"
          },
          "geo": {
           "bgcolor": "white",
           "lakecolor": "white",
           "landcolor": "#E5ECF6",
           "showlakes": true,
           "showland": true,
           "subunitcolor": "white"
          },
          "hoverlabel": {
           "align": "left"
          },
          "hovermode": "closest",
          "mapbox": {
           "style": "light"
          },
          "paper_bgcolor": "white",
          "plot_bgcolor": "#E5ECF6",
          "polar": {
           "angularaxis": {
            "gridcolor": "white",
            "linecolor": "white",
            "ticks": ""
           },
           "bgcolor": "#E5ECF6",
           "radialaxis": {
            "gridcolor": "white",
            "linecolor": "white",
            "ticks": ""
           }
          },
          "scene": {
           "xaxis": {
            "backgroundcolor": "#E5ECF6",
            "gridcolor": "white",
            "gridwidth": 2,
            "linecolor": "white",
            "showbackground": true,
            "ticks": "",
            "zerolinecolor": "white"
           },
           "yaxis": {
            "backgroundcolor": "#E5ECF6",
            "gridcolor": "white",
            "gridwidth": 2,
            "linecolor": "white",
            "showbackground": true,
            "ticks": "",
            "zerolinecolor": "white"
           },
           "zaxis": {
            "backgroundcolor": "#E5ECF6",
            "gridcolor": "white",
            "gridwidth": 2,
            "linecolor": "white",
            "showbackground": true,
            "ticks": "",
            "zerolinecolor": "white"
           }
          },
          "shapedefaults": {
           "line": {
            "color": "#2a3f5f"
           }
          },
          "ternary": {
           "aaxis": {
            "gridcolor": "white",
            "linecolor": "white",
            "ticks": ""
           },
           "baxis": {
            "gridcolor": "white",
            "linecolor": "white",
            "ticks": ""
           },
           "bgcolor": "#E5ECF6",
           "caxis": {
            "gridcolor": "white",
            "linecolor": "white",
            "ticks": ""
           }
          },
          "title": {
           "x": 0.05
          },
          "xaxis": {
           "automargin": true,
           "gridcolor": "white",
           "linecolor": "white",
           "ticks": "",
           "title": {
            "standoff": 15
           },
           "zerolinecolor": "white",
           "zerolinewidth": 2
          },
          "yaxis": {
           "automargin": true,
           "gridcolor": "white",
           "linecolor": "white",
           "ticks": "",
           "title": {
            "standoff": 15
           },
           "zerolinecolor": "white",
           "zerolinewidth": 2
          }
         }
        },
        "xaxis": {
         "anchor": "y",
         "domain": [
          0,
          1
         ],
         "title": {
          "text": "TotalGHGEmissions"
         }
        },
        "yaxis": {
         "anchor": "x",
         "domain": [
          0,
          1
         ]
        }
       }
      },
      "text/html": [
       "<div>                            <div id=\"b70fe65c-2b3d-4627-be5d-af902a6d1d7d\" class=\"plotly-graph-div\" style=\"height:525px; width:100%;\"></div>            <script type=\"text/javascript\">                require([\"plotly\"], function(Plotly) {                    window.PLOTLYENV=window.PLOTLYENV || {};                                    if (document.getElementById(\"b70fe65c-2b3d-4627-be5d-af902a6d1d7d\")) {                    Plotly.newPlot(                        \"b70fe65c-2b3d-4627-be5d-af902a6d1d7d\",                        [{\"alignmentgroup\":\"True\",\"hovertemplate\":\"TotalGHGEmissions=%{x}<extra></extra>\",\"legendgroup\":\"\",\"marker\":{\"color\":\"#636efa\"},\"name\":\"\",\"notched\":false,\"offsetgroup\":\"\",\"orientation\":\"h\",\"showlegend\":false,\"x\":[221.51,273.02,9.13,157.77,215.0,3.93,31.47,130.56,83.86,45.43,66.48,33.26,35.36,134.38,146.34,87.98,39.06,101.83,6.11,191.2,78.85,44.32,127.29,89.02,142.39,176.75,74.33,204.08,61.21,100.46,104.26,49.58,66.3,83.7,51.11,69.44,35.78,59.34,48.99,225.69,3.0,175.77,208.26,28.27,96.43,27.39,16.81,92.91,72.88,49.09,84.57,149.93,57.21,101.41,44.22,26.19,51.67,31.97,89.47,119.03,6.09,24.91,78.92,116.03,48.65,70.47,156.67,36.61,18.03,74.83,20.98,44.48,13.86,117.11,5.32,5.44,35.8,42.03,38.59,33.06,93.23,29.53,74.1,22.44,45.47,121.98,110.46,10.24,226.43,237.39,158.92,17.17,32.22,8.15,25.58,33.18,2.8,42.65,76.68,10.72,3.62,46.93,6.32,204.81,32.02,74.31,38.55,90.24,42.25,46.49,44.35,22.1,57.73,33.22,34.0,58.67,91.1,23.86,107.83,22.12,65.3,107.16,20.29,39.5,64.0,39.47,8.73,25.74,19.73,134.69,19.89,76.8,26.04,130.31,99.59,13.28,31.58,65.56,132.6,74.18,15.65,16.48,41.18,7.37,138.35,67.78,180.76,98.43,47.25,100.42,49.25,42.74,33.41,67.29,17.28,40.38,94.74,21.37,23.48,30.61,0.0,60.7,55.73,5.59,70.09,8.8,47.39,97.82,69.02,119.46,157.48,7.08,95.86,75.29,19.86,155.74,48.5,178.62,34.14,168.5,86.9,47.82,260.13,109.85,150.88,27.82,54.4,20.12,41.8,13.72,9.31,51.56,30.35,73.58,89.94,111.23,46.52,152.28,60.92,13.61,1.06,131.64,89.53,158.55,195.43,29.16,24.12,4.22,4.2,110.41,20.94,27.24,54.18,7.56,109.71,13.07,134.82,16.27,13.51,31.74,30.52,11.29,24.39,17.87,101.5,36.02,43.84,86.46,3.58,77.04,2.41,2.57,21.93,22.65,37.78,9.77,9.47,169.75,7.77,63.48,207.6,29.62,9.82,42.19,25.24,24.02,43.8,15.27,6.33,18.1,154.17,29.54,14.22,9.95,6.16,24.25,13.87,8.68,28.81,33.78,66.29,12.95,126.78,10.83,86.02,30.33,72.78,36.43,4.22,13.91,47.12,63.61,28.41,47.66,46.57,101.99,74.92,18.66,32.64,33.23,34.98,64.51,8.45,38.87,6.49,32.22,23.59,6.69,37.31,5.67,4.8,4.99,118.37,89.57,27.14,202.65,23.15,26.11,33.37,49.98,0.63,19.07,130.58,185.23,89.29,43.45,35.04,188.67,13.29,210.3,34.15,1.86,134.57,43.13,13.16,33.92,147.0,12.48,5.17,19.93,19.82,13.02,19.04,63.06,10.05,0.82,3.89,1.73,83.1,1.7,61.71,46.64,65.65,10.75,39.05,1.67,31.6,67.52,28.58,61.53,29.82,47.59,18.85,2.52,39.5,11.27,15.47,68.14,32.63,106.45,68.97,29.41,3.06,10.26,8.85,3.16,64.81,45.79,81.96,1.55,3.73,18.16,4.95,3.34,13.71,46.48,149.91,94.85,148.55,60.88,42.04,8.47,30.32,66.53,9.46,73.52,18.34,82.34,5.41,16.06,23.85,38.12,11.29,16.13,19.39,8.49,30.02,127.1,49.58,40.22,15.9,122.73,10.36,32.86,176.79,36.74,45.33,61.98,180.38,79.58,17.12,8.8,12.77,12.59,26.38,20.76,20.9,48.35,9.3,73.61,101.34,71.23,107.45,60.04,55.61,123.41,37.34,1.12,31.61,34.87,16.57,73.0,82.72,32.09,73.48,184.09,20.64,24.62,192.12,41.06,13.97,13.33,119.34,44.33,8.77,77.48,98.28,218.79,44.89,12.98,143.34,14.13,75.99,2.01,182.81,3.04,10.73,75.25,4.05,115.43,104.91,35.96,167.98,111.73,5.97,7.07,54.44,13.27,92.45,86.81,3.71,6.35,27.97,9.42,15.62,18.63,2.64,26.55,7.59,73.26,18.54,203.73,1.85,103.28,23.9,80.09,32.77,24.88,135.81,49.62,5.97,27.41,53.73,49.73,225.67,5.08,15.11,17.38,64.88,0.81,215.56,173.75,55.3,25.09,46.9,60.34,208.53,45.38,38.86,78.22,5.24,6.61,13.14,36.77,29.24,13.29,31.79,8.42,14.9,34.26,1.55,37.49,46.44,0.68,0.4,4.58,14.81,11.08,5.07,6.3,1.68,7.82,34.52,16.67,17.39,60.67,44.26,33.28,30.49,128.66,67.45,42.87,28.28,121.9,8.44,82.57,44.28,33.42,0.86,80.19,42.96,52.41,55.85,32.58,184.6,11.39,53.21,129.89,3.04,96.15,122.71,2.19,43.63,2.28,179.55,23.6,2.25,184.0,62.23,26.41,38.39,2.69,44.26,37.65,21.24,62.05,112.34,146.93,46.45,110.66,22.26,38.57,5.37,15.7,33.8,59.24,26.73,13.12,13.7,178.86,61.3,55.86,6.16,16.04,22.29,24.76,14.36,6.04,18.87,4.95,7.56,10.01,128.41,19.56,50.07,42.45,54.24,19.51,37.08,9.26,22.48,8.07,174.62,67.05,3.8,19.61,8.85,51.1,17.04,2.91,83.3,33.1,28.37,21.5,157.07,4.48,178.35,102.35,13.87,12.92,18.03,9.71,1.14,12.55,5.09,25.77,40.85,3.45,8.7,40.94,95.93,17.29,15.35,51.27,40.01,40.42,59.0,5.82,6.42,3.67,6.41,17.51,42.73,38.87,60.12,2.82,9.25,16.5,46.16,24.91,43.64,38.38,93.5,30.99,17.87,3.65,3.72,9.29,8.22,43.17,19.88,7.27,27.92,20.3,57.25,31.94,19.77,18.87,18.04,26.52,49.18,23.5,78.57,7.74,219.93,34.04,1.51,4.33,19.43,158.63,41.77,175.53,124.4,43.18,64.75,59.14,39.05,85.15,21.46,29.88,112.82,6.46,17.6,26.27,12.17,6.3,1.46,7.49,66.77,106.35,7.98,92.7,2.15,7.05,61.6,30.79,35.48,37.61,152.14,11.44,14.17,1.6,17.45,27.83,4.02,11.73,96.62,23.62,9.65,33.52,82.07,0.79,0.75,58.36,77.23,10.05,25.15,39.25,14.99,54.27,47.08,28.05,11.69,42.24,13.22,31.54,51.15,27.75,42.66,1.6,9.67,44.68,32.44,14.37,23.52,23.84,8.49,78.19,28.78,41.96,6.3,120.72,49.53,14.64,17.22,125.59,1.24,36.82,27.93,29.44,28.64,97.27,116.94,5.86,101.21,10.99,13.09,11.85,122.0,14.35,46.53,223.36,18.76,7.05,50.05,3.25,20.66,6.53,34.08,124.59,13.69,63.81,25.53,2.88,9.29,17.79,2.35,20.76,18.19,35.4,190.45,25.14,5.66,65.05,14.21,65.89,8.61,26.56,17.41,10.31,95.38,120.86,37.28,62.51,22.38,18.81,58.79,55.06,91.69,28.07,121.63,17.31,10.04,34.03,38.59,35.99,22.33,39.65,46.01,12.57,203.21,70.92,1.59,41.88,11.02,38.21,87.41,48.13,69.2,226.73,156.18,9.72,4.76,18.62,43.91,185.33,19.81,37.43,53.88,47.03,28.46,14.79,3.78,60.93,7.69,26.94,35.72,7.52,10.92,6.84,173.67,11.18,6.76,20.96,32.42,20.78,53.25,10.04,6.73,34.61,42.71,4.45,65.95,53.65,6.96,104.74,55.23,96.2,56.25,9.23,78.36,39.4,29.7,27.06,60.83,19.28,19.14,46.61,20.46,11.38,38.36,206.33,93.55,49.55,19.61,41.7,38.18,25.14,51.89,2.94,37.97,2.62,29.39,6.88,3.06,67.15,0.89,17.65,14.19,2.82,77.84,21.87,67.33,62.94,115.34,53.02,4.8,9.09,128.07,0.87,4.15,7.31,11.32,63.22,55.73,39.31,51.14,54.02,150.23,7.12,24.97,68.39,43.97,66.43,119.76,43.04,67.96,22.18,38.71,3.39,49.44,7.8,156.45,21.05,29.18,89.8,81.18,176.75,72.02,24.82,193.36,83.45,137.66,12.43,37.83,32.72,145.11,30.03,11.4,158.6,94.63,9.46,15.5,92.07,175.46,191.97,38.17,144.41,57.59,51.59,184.81,22.76,54.98,16.13,107.29,38.13,29.4,74.3,82.58,10.8,51.39,25.93,103.65,48.53,62.41,9.76,65.01,4.38,91.98,134.8,67.65,9.24,22.17,4.44,29.18,23.0,14.37,24.73,60.81,20.33,32.17,22.11,41.27],\"x0\":\" \",\"xaxis\":\"x\",\"y0\":\" \",\"yaxis\":\"y\",\"type\":\"box\"}],                        {\"template\":{\"data\":{\"histogram2dcontour\":[{\"type\":\"histogram2dcontour\",\"colorbar\":{\"outlinewidth\":0,\"ticks\":\"\"},\"colorscale\":[[0.0,\"#0d0887\"],[0.1111111111111111,\"#46039f\"],[0.2222222222222222,\"#7201a8\"],[0.3333333333333333,\"#9c179e\"],[0.4444444444444444,\"#bd3786\"],[0.5555555555555556,\"#d8576b\"],[0.6666666666666666,\"#ed7953\"],[0.7777777777777778,\"#fb9f3a\"],[0.8888888888888888,\"#fdca26\"],[1.0,\"#f0f921\"]]}],\"choropleth\":[{\"type\":\"choropleth\",\"colorbar\":{\"outlinewidth\":0,\"ticks\":\"\"}}],\"histogram2d\":[{\"type\":\"histogram2d\",\"colorbar\":{\"outlinewidth\":0,\"ticks\":\"\"},\"colorscale\":[[0.0,\"#0d0887\"],[0.1111111111111111,\"#46039f\"],[0.2222222222222222,\"#7201a8\"],[0.3333333333333333,\"#9c179e\"],[0.4444444444444444,\"#bd3786\"],[0.5555555555555556,\"#d8576b\"],[0.6666666666666666,\"#ed7953\"],[0.7777777777777778,\"#fb9f3a\"],[0.8888888888888888,\"#fdca26\"],[1.0,\"#f0f921\"]]}],\"heatmap\":[{\"type\":\"heatmap\",\"colorbar\":{\"outlinewidth\":0,\"ticks\":\"\"},\"colorscale\":[[0.0,\"#0d0887\"],[0.1111111111111111,\"#46039f\"],[0.2222222222222222,\"#7201a8\"],[0.3333333333333333,\"#9c179e\"],[0.4444444444444444,\"#bd3786\"],[0.5555555555555556,\"#d8576b\"],[0.6666666666666666,\"#ed7953\"],[0.7777777777777778,\"#fb9f3a\"],[0.8888888888888888,\"#fdca26\"],[1.0,\"#f0f921\"]]}],\"heatmapgl\":[{\"type\":\"heatmapgl\",\"colorbar\":{\"outlinewidth\":0,\"ticks\":\"\"},\"colorscale\":[[0.0,\"#0d0887\"],[0.1111111111111111,\"#46039f\"],[0.2222222222222222,\"#7201a8\"],[0.3333333333333333,\"#9c179e\"],[0.4444444444444444,\"#bd3786\"],[0.5555555555555556,\"#d8576b\"],[0.6666666666666666,\"#ed7953\"],[0.7777777777777778,\"#fb9f3a\"],[0.8888888888888888,\"#fdca26\"],[1.0,\"#f0f921\"]]}],\"contourcarpet\":[{\"type\":\"contourcarpet\",\"colorbar\":{\"outlinewidth\":0,\"ticks\":\"\"}}],\"contour\":[{\"type\":\"contour\",\"colorbar\":{\"outlinewidth\":0,\"ticks\":\"\"},\"colorscale\":[[0.0,\"#0d0887\"],[0.1111111111111111,\"#46039f\"],[0.2222222222222222,\"#7201a8\"],[0.3333333333333333,\"#9c179e\"],[0.4444444444444444,\"#bd3786\"],[0.5555555555555556,\"#d8576b\"],[0.6666666666666666,\"#ed7953\"],[0.7777777777777778,\"#fb9f3a\"],[0.8888888888888888,\"#fdca26\"],[1.0,\"#f0f921\"]]}],\"surface\":[{\"type\":\"surface\",\"colorbar\":{\"outlinewidth\":0,\"ticks\":\"\"},\"colorscale\":[[0.0,\"#0d0887\"],[0.1111111111111111,\"#46039f\"],[0.2222222222222222,\"#7201a8\"],[0.3333333333333333,\"#9c179e\"],[0.4444444444444444,\"#bd3786\"],[0.5555555555555556,\"#d8576b\"],[0.6666666666666666,\"#ed7953\"],[0.7777777777777778,\"#fb9f3a\"],[0.8888888888888888,\"#fdca26\"],[1.0,\"#f0f921\"]]}],\"mesh3d\":[{\"type\":\"mesh3d\",\"colorbar\":{\"outlinewidth\":0,\"ticks\":\"\"}}],\"scatter\":[{\"fillpattern\":{\"fillmode\":\"overlay\",\"size\":10,\"solidity\":0.2},\"type\":\"scatter\"}],\"parcoords\":[{\"type\":\"parcoords\",\"line\":{\"colorbar\":{\"outlinewidth\":0,\"ticks\":\"\"}}}],\"scatterpolargl\":[{\"type\":\"scatterpolargl\",\"marker\":{\"colorbar\":{\"outlinewidth\":0,\"ticks\":\"\"}}}],\"bar\":[{\"error_x\":{\"color\":\"#2a3f5f\"},\"error_y\":{\"color\":\"#2a3f5f\"},\"marker\":{\"line\":{\"color\":\"#E5ECF6\",\"width\":0.5},\"pattern\":{\"fillmode\":\"overlay\",\"size\":10,\"solidity\":0.2}},\"type\":\"bar\"}],\"scattergeo\":[{\"type\":\"scattergeo\",\"marker\":{\"colorbar\":{\"outlinewidth\":0,\"ticks\":\"\"}}}],\"scatterpolar\":[{\"type\":\"scatterpolar\",\"marker\":{\"colorbar\":{\"outlinewidth\":0,\"ticks\":\"\"}}}],\"histogram\":[{\"marker\":{\"pattern\":{\"fillmode\":\"overlay\",\"size\":10,\"solidity\":0.2}},\"type\":\"histogram\"}],\"scattergl\":[{\"type\":\"scattergl\",\"marker\":{\"colorbar\":{\"outlinewidth\":0,\"ticks\":\"\"}}}],\"scatter3d\":[{\"type\":\"scatter3d\",\"line\":{\"colorbar\":{\"outlinewidth\":0,\"ticks\":\"\"}},\"marker\":{\"colorbar\":{\"outlinewidth\":0,\"ticks\":\"\"}}}],\"scattermapbox\":[{\"type\":\"scattermapbox\",\"marker\":{\"colorbar\":{\"outlinewidth\":0,\"ticks\":\"\"}}}],\"scatterternary\":[{\"type\":\"scatterternary\",\"marker\":{\"colorbar\":{\"outlinewidth\":0,\"ticks\":\"\"}}}],\"scattercarpet\":[{\"type\":\"scattercarpet\",\"marker\":{\"colorbar\":{\"outlinewidth\":0,\"ticks\":\"\"}}}],\"carpet\":[{\"aaxis\":{\"endlinecolor\":\"#2a3f5f\",\"gridcolor\":\"white\",\"linecolor\":\"white\",\"minorgridcolor\":\"white\",\"startlinecolor\":\"#2a3f5f\"},\"baxis\":{\"endlinecolor\":\"#2a3f5f\",\"gridcolor\":\"white\",\"linecolor\":\"white\",\"minorgridcolor\":\"white\",\"startlinecolor\":\"#2a3f5f\"},\"type\":\"carpet\"}],\"table\":[{\"cells\":{\"fill\":{\"color\":\"#EBF0F8\"},\"line\":{\"color\":\"white\"}},\"header\":{\"fill\":{\"color\":\"#C8D4E3\"},\"line\":{\"color\":\"white\"}},\"type\":\"table\"}],\"barpolar\":[{\"marker\":{\"line\":{\"color\":\"#E5ECF6\",\"width\":0.5},\"pattern\":{\"fillmode\":\"overlay\",\"size\":10,\"solidity\":0.2}},\"type\":\"barpolar\"}],\"pie\":[{\"automargin\":true,\"type\":\"pie\"}]},\"layout\":{\"autotypenumbers\":\"strict\",\"colorway\":[\"#636efa\",\"#EF553B\",\"#00cc96\",\"#ab63fa\",\"#FFA15A\",\"#19d3f3\",\"#FF6692\",\"#B6E880\",\"#FF97FF\",\"#FECB52\"],\"font\":{\"color\":\"#2a3f5f\"},\"hovermode\":\"closest\",\"hoverlabel\":{\"align\":\"left\"},\"paper_bgcolor\":\"white\",\"plot_bgcolor\":\"#E5ECF6\",\"polar\":{\"bgcolor\":\"#E5ECF6\",\"angularaxis\":{\"gridcolor\":\"white\",\"linecolor\":\"white\",\"ticks\":\"\"},\"radialaxis\":{\"gridcolor\":\"white\",\"linecolor\":\"white\",\"ticks\":\"\"}},\"ternary\":{\"bgcolor\":\"#E5ECF6\",\"aaxis\":{\"gridcolor\":\"white\",\"linecolor\":\"white\",\"ticks\":\"\"},\"baxis\":{\"gridcolor\":\"white\",\"linecolor\":\"white\",\"ticks\":\"\"},\"caxis\":{\"gridcolor\":\"white\",\"linecolor\":\"white\",\"ticks\":\"\"}},\"coloraxis\":{\"colorbar\":{\"outlinewidth\":0,\"ticks\":\"\"}},\"colorscale\":{\"sequential\":[[0.0,\"#0d0887\"],[0.1111111111111111,\"#46039f\"],[0.2222222222222222,\"#7201a8\"],[0.3333333333333333,\"#9c179e\"],[0.4444444444444444,\"#bd3786\"],[0.5555555555555556,\"#d8576b\"],[0.6666666666666666,\"#ed7953\"],[0.7777777777777778,\"#fb9f3a\"],[0.8888888888888888,\"#fdca26\"],[1.0,\"#f0f921\"]],\"sequentialminus\":[[0.0,\"#0d0887\"],[0.1111111111111111,\"#46039f\"],[0.2222222222222222,\"#7201a8\"],[0.3333333333333333,\"#9c179e\"],[0.4444444444444444,\"#bd3786\"],[0.5555555555555556,\"#d8576b\"],[0.6666666666666666,\"#ed7953\"],[0.7777777777777778,\"#fb9f3a\"],[0.8888888888888888,\"#fdca26\"],[1.0,\"#f0f921\"]],\"diverging\":[[0,\"#8e0152\"],[0.1,\"#c51b7d\"],[0.2,\"#de77ae\"],[0.3,\"#f1b6da\"],[0.4,\"#fde0ef\"],[0.5,\"#f7f7f7\"],[0.6,\"#e6f5d0\"],[0.7,\"#b8e186\"],[0.8,\"#7fbc41\"],[0.9,\"#4d9221\"],[1,\"#276419\"]]},\"xaxis\":{\"gridcolor\":\"white\",\"linecolor\":\"white\",\"ticks\":\"\",\"title\":{\"standoff\":15},\"zerolinecolor\":\"white\",\"automargin\":true,\"zerolinewidth\":2},\"yaxis\":{\"gridcolor\":\"white\",\"linecolor\":\"white\",\"ticks\":\"\",\"title\":{\"standoff\":15},\"zerolinecolor\":\"white\",\"automargin\":true,\"zerolinewidth\":2},\"scene\":{\"xaxis\":{\"backgroundcolor\":\"#E5ECF6\",\"gridcolor\":\"white\",\"linecolor\":\"white\",\"showbackground\":true,\"ticks\":\"\",\"zerolinecolor\":\"white\",\"gridwidth\":2},\"yaxis\":{\"backgroundcolor\":\"#E5ECF6\",\"gridcolor\":\"white\",\"linecolor\":\"white\",\"showbackground\":true,\"ticks\":\"\",\"zerolinecolor\":\"white\",\"gridwidth\":2},\"zaxis\":{\"backgroundcolor\":\"#E5ECF6\",\"gridcolor\":\"white\",\"linecolor\":\"white\",\"showbackground\":true,\"ticks\":\"\",\"zerolinecolor\":\"white\",\"gridwidth\":2}},\"shapedefaults\":{\"line\":{\"color\":\"#2a3f5f\"}},\"annotationdefaults\":{\"arrowcolor\":\"#2a3f5f\",\"arrowhead\":0,\"arrowwidth\":1},\"geo\":{\"bgcolor\":\"white\",\"landcolor\":\"#E5ECF6\",\"subunitcolor\":\"white\",\"showland\":true,\"showlakes\":true,\"lakecolor\":\"white\"},\"title\":{\"x\":0.05},\"mapbox\":{\"style\":\"light\"}}},\"xaxis\":{\"anchor\":\"y\",\"domain\":[0.0,1.0],\"title\":{\"text\":\"TotalGHGEmissions\"}},\"yaxis\":{\"anchor\":\"x\",\"domain\":[0.0,1.0]},\"legend\":{\"tracegroupgap\":0},\"margin\":{\"t\":60},\"boxmode\":\"group\"},                        {\"responsive\": true}                    ).then(function(){\n",
       "                            \n",
       "var gd = document.getElementById('b70fe65c-2b3d-4627-be5d-af902a6d1d7d');\n",
       "var x = new MutationObserver(function (mutations, observer) {{\n",
       "        var display = window.getComputedStyle(gd).display;\n",
       "        if (!display || display === 'none') {{\n",
       "            console.log([gd, 'removed!']);\n",
       "            Plotly.purge(gd);\n",
       "            observer.disconnect();\n",
       "        }}\n",
       "}});\n",
       "\n",
       "// Listen for the removal of the full notebook cells\n",
       "var notebookContainer = gd.closest('#notebook-container');\n",
       "if (notebookContainer) {{\n",
       "    x.observe(notebookContainer, {childList: true});\n",
       "}}\n",
       "\n",
       "// Listen for the clearing of the current output cell\n",
       "var outputEl = gd.closest('.output');\n",
       "if (outputEl) {{\n",
       "    x.observe(outputEl, {childList: true});\n",
       "}}\n",
       "\n",
       "                        })                };                });            </script>        </div>"
      ]
     },
     "metadata": {},
     "output_type": "display_data"
    },
    {
     "data": {
      "application/vnd.plotly.v1+json": {
       "config": {
        "plotlyServerURL": "https://plot.ly"
       },
       "data": [
        {
         "alignmentgroup": "True",
         "bingroup": "x",
         "hovertemplate": "variable=TotalGHGEmissions<br>value=%{x}<br>count=%{y}<extra></extra>",
         "legendgroup": "TotalGHGEmissions",
         "marker": {
          "color": "#636efa",
          "pattern": {
           "shape": ""
          }
         },
         "name": "TotalGHGEmissions",
         "nbinsx": 24,
         "offsetgroup": "TotalGHGEmissions",
         "orientation": "v",
         "showlegend": true,
         "type": "histogram",
         "x": [
          221.51,
          273.02,
          9.13,
          157.77,
          215,
          3.93,
          31.47,
          130.56,
          83.86,
          45.43,
          66.48,
          33.26,
          35.36,
          134.38,
          146.34,
          87.98,
          39.06,
          101.83,
          6.11,
          191.2,
          78.85,
          44.32,
          127.29,
          89.02,
          142.39,
          176.75,
          74.33,
          204.08,
          61.21,
          100.46,
          104.26,
          49.58,
          66.3,
          83.7,
          51.11,
          69.44,
          35.78,
          59.34,
          48.99,
          225.69,
          3,
          175.77,
          208.26,
          28.27,
          96.43,
          27.39,
          16.81,
          92.91,
          72.88,
          49.09,
          84.57,
          149.93,
          57.21,
          101.41,
          44.22,
          26.19,
          51.67,
          31.97,
          89.47,
          119.03,
          6.09,
          24.91,
          78.92,
          116.03,
          48.65,
          70.47,
          156.67,
          36.61,
          18.03,
          74.83,
          20.98,
          44.48,
          13.86,
          117.11,
          5.32,
          5.44,
          35.8,
          42.03,
          38.59,
          33.06,
          93.23,
          29.53,
          74.1,
          22.44,
          45.47,
          121.98,
          110.46,
          10.24,
          226.43,
          237.39,
          158.92,
          17.17,
          32.22,
          8.15,
          25.58,
          33.18,
          2.8,
          42.65,
          76.68,
          10.72,
          3.62,
          46.93,
          6.32,
          204.81,
          32.02,
          74.31,
          38.55,
          90.24,
          42.25,
          46.49,
          44.35,
          22.1,
          57.73,
          33.22,
          34,
          58.67,
          91.1,
          23.86,
          107.83,
          22.12,
          65.3,
          107.16,
          20.29,
          39.5,
          64,
          39.47,
          8.73,
          25.74,
          19.73,
          134.69,
          19.89,
          76.8,
          26.04,
          130.31,
          99.59,
          13.28,
          31.58,
          65.56,
          132.6,
          74.18,
          15.65,
          16.48,
          41.18,
          7.37,
          138.35,
          67.78,
          180.76,
          98.43,
          47.25,
          100.42,
          49.25,
          42.74,
          33.41,
          67.29,
          17.28,
          40.38,
          94.74,
          21.37,
          23.48,
          30.61,
          0,
          60.7,
          55.73,
          5.59,
          70.09,
          8.8,
          47.39,
          97.82,
          69.02,
          119.46,
          157.48,
          7.08,
          95.86,
          75.29,
          19.86,
          155.74,
          48.5,
          178.62,
          34.14,
          168.5,
          86.9,
          47.82,
          260.13,
          109.85,
          150.88,
          27.82,
          54.4,
          20.12,
          41.8,
          13.72,
          9.31,
          51.56,
          30.35,
          73.58,
          89.94,
          111.23,
          46.52,
          152.28,
          60.92,
          13.61,
          1.06,
          131.64,
          89.53,
          158.55,
          195.43,
          29.16,
          24.12,
          4.22,
          4.2,
          110.41,
          20.94,
          27.24,
          54.18,
          7.56,
          109.71,
          13.07,
          134.82,
          16.27,
          13.51,
          31.74,
          30.52,
          11.29,
          24.39,
          17.87,
          101.5,
          36.02,
          43.84,
          86.46,
          3.58,
          77.04,
          2.41,
          2.57,
          21.93,
          22.65,
          37.78,
          9.77,
          9.47,
          169.75,
          7.77,
          63.48,
          207.6,
          29.62,
          9.82,
          42.19,
          25.24,
          24.02,
          43.8,
          15.27,
          6.33,
          18.1,
          154.17,
          29.54,
          14.22,
          9.95,
          6.16,
          24.25,
          13.87,
          8.68,
          28.81,
          33.78,
          66.29,
          12.95,
          126.78,
          10.83,
          86.02,
          30.33,
          72.78,
          36.43,
          4.22,
          13.91,
          47.12,
          63.61,
          28.41,
          47.66,
          46.57,
          101.99,
          74.92,
          18.66,
          32.64,
          33.23,
          34.98,
          64.51,
          8.45,
          38.87,
          6.49,
          32.22,
          23.59,
          6.69,
          37.31,
          5.67,
          4.8,
          4.99,
          118.37,
          89.57,
          27.14,
          202.65,
          23.15,
          26.11,
          33.37,
          49.98,
          0.63,
          19.07,
          130.58,
          185.23,
          89.29,
          43.45,
          35.04,
          188.67,
          13.29,
          210.3,
          34.15,
          1.86,
          134.57,
          43.13,
          13.16,
          33.92,
          147,
          12.48,
          5.17,
          19.93,
          19.82,
          13.02,
          19.04,
          63.06,
          10.05,
          0.82,
          3.89,
          1.73,
          83.1,
          1.7,
          61.71,
          46.64,
          65.65,
          10.75,
          39.05,
          1.67,
          31.6,
          67.52,
          28.58,
          61.53,
          29.82,
          47.59,
          18.85,
          2.52,
          39.5,
          11.27,
          15.47,
          68.14,
          32.63,
          106.45,
          68.97,
          29.41,
          3.06,
          10.26,
          8.85,
          3.16,
          64.81,
          45.79,
          81.96,
          1.55,
          3.73,
          18.16,
          4.95,
          3.34,
          13.71,
          46.48,
          149.91,
          94.85,
          148.55,
          60.88,
          42.04,
          8.47,
          30.32,
          66.53,
          9.46,
          73.52,
          18.34,
          82.34,
          5.41,
          16.06,
          23.85,
          38.12,
          11.29,
          16.13,
          19.39,
          8.49,
          30.02,
          127.1,
          49.58,
          40.22,
          15.9,
          122.73,
          10.36,
          32.86,
          176.79,
          36.74,
          45.33,
          61.98,
          180.38,
          79.58,
          17.12,
          8.8,
          12.77,
          12.59,
          26.38,
          20.76,
          20.9,
          48.35,
          9.3,
          73.61,
          101.34,
          71.23,
          107.45,
          60.04,
          55.61,
          123.41,
          37.34,
          1.12,
          31.61,
          34.87,
          16.57,
          73,
          82.72,
          32.09,
          73.48,
          184.09,
          20.64,
          24.62,
          192.12,
          41.06,
          13.97,
          13.33,
          119.34,
          44.33,
          8.77,
          77.48,
          98.28,
          218.79,
          44.89,
          12.98,
          143.34,
          14.13,
          75.99,
          2.01,
          182.81,
          3.04,
          10.73,
          75.25,
          4.05,
          115.43,
          104.91,
          35.96,
          167.98,
          111.73,
          5.97,
          7.07,
          54.44,
          13.27,
          92.45,
          86.81,
          3.71,
          6.35,
          27.97,
          9.42,
          15.62,
          18.63,
          2.64,
          26.55,
          7.59,
          73.26,
          18.54,
          203.73,
          1.85,
          103.28,
          23.9,
          80.09,
          32.77,
          24.88,
          135.81,
          49.62,
          5.97,
          27.41,
          53.73,
          49.73,
          225.67,
          5.08,
          15.11,
          17.38,
          64.88,
          0.81,
          215.56,
          173.75,
          55.3,
          25.09,
          46.9,
          60.34,
          208.53,
          45.38,
          38.86,
          78.22,
          5.24,
          6.61,
          13.14,
          36.77,
          29.24,
          13.29,
          31.79,
          8.42,
          14.9,
          34.26,
          1.55,
          37.49,
          46.44,
          0.68,
          0.4,
          4.58,
          14.81,
          11.08,
          5.07,
          6.3,
          1.68,
          7.82,
          34.52,
          16.67,
          17.39,
          60.67,
          44.26,
          33.28,
          30.49,
          128.66,
          67.45,
          42.87,
          28.28,
          121.9,
          8.44,
          82.57,
          44.28,
          33.42,
          0.86,
          80.19,
          42.96,
          52.41,
          55.85,
          32.58,
          184.6,
          11.39,
          53.21,
          129.89,
          3.04,
          96.15,
          122.71,
          2.19,
          43.63,
          2.28,
          179.55,
          23.6,
          2.25,
          184,
          62.23,
          26.41,
          38.39,
          2.69,
          44.26,
          37.65,
          21.24,
          62.05,
          112.34,
          146.93,
          46.45,
          110.66,
          22.26,
          38.57,
          5.37,
          15.7,
          33.8,
          59.24,
          26.73,
          13.12,
          13.7,
          178.86,
          61.3,
          55.86,
          6.16,
          16.04,
          22.29,
          24.76,
          14.36,
          6.04,
          18.87,
          4.95,
          7.56,
          10.01,
          128.41,
          19.56,
          50.07,
          42.45,
          54.24,
          19.51,
          37.08,
          9.26,
          22.48,
          8.07,
          174.62,
          67.05,
          3.8,
          19.61,
          8.85,
          51.1,
          17.04,
          2.91,
          83.3,
          33.1,
          28.37,
          21.5,
          157.07,
          4.48,
          178.35,
          102.35,
          13.87,
          12.92,
          18.03,
          9.71,
          1.14,
          12.55,
          5.09,
          25.77,
          40.85,
          3.45,
          8.7,
          40.94,
          95.93,
          17.29,
          15.35,
          51.27,
          40.01,
          40.42,
          59,
          5.82,
          6.42,
          3.67,
          6.41,
          17.51,
          42.73,
          38.87,
          60.12,
          2.82,
          9.25,
          16.5,
          46.16,
          24.91,
          43.64,
          38.38,
          93.5,
          30.99,
          17.87,
          3.65,
          3.72,
          9.29,
          8.22,
          43.17,
          19.88,
          7.27,
          27.92,
          20.3,
          57.25,
          31.94,
          19.77,
          18.87,
          18.04,
          26.52,
          49.18,
          23.5,
          78.57,
          7.74,
          219.93,
          34.04,
          1.51,
          4.33,
          19.43,
          158.63,
          41.77,
          175.53,
          124.4,
          43.18,
          64.75,
          59.14,
          39.05,
          85.15,
          21.46,
          29.88,
          112.82,
          6.46,
          17.6,
          26.27,
          12.17,
          6.3,
          1.46,
          7.49,
          66.77,
          106.35,
          7.98,
          92.7,
          2.15,
          7.05,
          61.6,
          30.79,
          35.48,
          37.61,
          152.14,
          11.44,
          14.17,
          1.6,
          17.45,
          27.83,
          4.02,
          11.73,
          96.62,
          23.62,
          9.65,
          33.52,
          82.07,
          0.79,
          0.75,
          58.36,
          77.23,
          10.05,
          25.15,
          39.25,
          14.99,
          54.27,
          47.08,
          28.05,
          11.69,
          42.24,
          13.22,
          31.54,
          51.15,
          27.75,
          42.66,
          1.6,
          9.67,
          44.68,
          32.44,
          14.37,
          23.52,
          23.84,
          8.49,
          78.19,
          28.78,
          41.96,
          6.3,
          120.72,
          49.53,
          14.64,
          17.22,
          125.59,
          1.24,
          36.82,
          27.93,
          29.44,
          28.64,
          97.27,
          116.94,
          5.86,
          101.21,
          10.99,
          13.09,
          11.85,
          122,
          14.35,
          46.53,
          223.36,
          18.76,
          7.05,
          50.05,
          3.25,
          20.66,
          6.53,
          34.08,
          124.59,
          13.69,
          63.81,
          25.53,
          2.88,
          9.29,
          17.79,
          2.35,
          20.76,
          18.19,
          35.4,
          190.45,
          25.14,
          5.66,
          65.05,
          14.21,
          65.89,
          8.61,
          26.56,
          17.41,
          10.31,
          95.38,
          120.86,
          37.28,
          62.51,
          22.38,
          18.81,
          58.79,
          55.06,
          91.69,
          28.07,
          121.63,
          17.31,
          10.04,
          34.03,
          38.59,
          35.99,
          22.33,
          39.65,
          46.01,
          12.57,
          203.21,
          70.92,
          1.59,
          41.88,
          11.02,
          38.21,
          87.41,
          48.13,
          69.2,
          226.73,
          156.18,
          9.72,
          4.76,
          18.62,
          43.91,
          185.33,
          19.81,
          37.43,
          53.88,
          47.03,
          28.46,
          14.79,
          3.78,
          60.93,
          7.69,
          26.94,
          35.72,
          7.52,
          10.92,
          6.84,
          173.67,
          11.18,
          6.76,
          20.96,
          32.42,
          20.78,
          53.25,
          10.04,
          6.73,
          34.61,
          42.71,
          4.45,
          65.95,
          53.65,
          6.96,
          104.74,
          55.23,
          96.2,
          56.25,
          9.23,
          78.36,
          39.4,
          29.7,
          27.06,
          60.83,
          19.28,
          19.14,
          46.61,
          20.46,
          11.38,
          38.36,
          206.33,
          93.55,
          49.55,
          19.61,
          41.7,
          38.18,
          25.14,
          51.89,
          2.94,
          37.97,
          2.62,
          29.39,
          6.88,
          3.06,
          67.15,
          0.89,
          17.65,
          14.19,
          2.82,
          77.84,
          21.87,
          67.33,
          62.94,
          115.34,
          53.02,
          4.8,
          9.09,
          128.07,
          0.87,
          4.15,
          7.31,
          11.32,
          63.22,
          55.73,
          39.31,
          51.14,
          54.02,
          150.23,
          7.12,
          24.97,
          68.39,
          43.97,
          66.43,
          119.76,
          43.04,
          67.96,
          22.18,
          38.71,
          3.39,
          49.44,
          7.8,
          156.45,
          21.05,
          29.18,
          89.8,
          81.18,
          176.75,
          72.02,
          24.82,
          193.36,
          83.45,
          137.66,
          12.43,
          37.83,
          32.72,
          145.11,
          30.03,
          11.4,
          158.6,
          94.63,
          9.46,
          15.5,
          92.07,
          175.46,
          191.97,
          38.17,
          144.41,
          57.59,
          51.59,
          184.81,
          22.76,
          54.98,
          16.13,
          107.29,
          38.13,
          29.4,
          74.3,
          82.58,
          10.8,
          51.39,
          25.93,
          103.65,
          48.53,
          62.41,
          9.76,
          65.01,
          4.38,
          91.98,
          134.8,
          67.65,
          9.24,
          22.17,
          4.44,
          29.18,
          23,
          14.37,
          24.73,
          60.81,
          20.33,
          32.17,
          22.11,
          41.27
         ],
         "xaxis": "x",
         "yaxis": "y"
        }
       ],
       "layout": {
        "barmode": "relative",
        "legend": {
         "title": {
          "text": "variable"
         },
         "tracegroupgap": 0
        },
        "margin": {
         "t": 60
        },
        "template": {
         "data": {
          "bar": [
           {
            "error_x": {
             "color": "#2a3f5f"
            },
            "error_y": {
             "color": "#2a3f5f"
            },
            "marker": {
             "line": {
              "color": "#E5ECF6",
              "width": 0.5
             },
             "pattern": {
              "fillmode": "overlay",
              "size": 10,
              "solidity": 0.2
             }
            },
            "type": "bar"
           }
          ],
          "barpolar": [
           {
            "marker": {
             "line": {
              "color": "#E5ECF6",
              "width": 0.5
             },
             "pattern": {
              "fillmode": "overlay",
              "size": 10,
              "solidity": 0.2
             }
            },
            "type": "barpolar"
           }
          ],
          "carpet": [
           {
            "aaxis": {
             "endlinecolor": "#2a3f5f",
             "gridcolor": "white",
             "linecolor": "white",
             "minorgridcolor": "white",
             "startlinecolor": "#2a3f5f"
            },
            "baxis": {
             "endlinecolor": "#2a3f5f",
             "gridcolor": "white",
             "linecolor": "white",
             "minorgridcolor": "white",
             "startlinecolor": "#2a3f5f"
            },
            "type": "carpet"
           }
          ],
          "choropleth": [
           {
            "colorbar": {
             "outlinewidth": 0,
             "ticks": ""
            },
            "type": "choropleth"
           }
          ],
          "contour": [
           {
            "colorbar": {
             "outlinewidth": 0,
             "ticks": ""
            },
            "colorscale": [
             [
              0,
              "#0d0887"
             ],
             [
              0.1111111111111111,
              "#46039f"
             ],
             [
              0.2222222222222222,
              "#7201a8"
             ],
             [
              0.3333333333333333,
              "#9c179e"
             ],
             [
              0.4444444444444444,
              "#bd3786"
             ],
             [
              0.5555555555555556,
              "#d8576b"
             ],
             [
              0.6666666666666666,
              "#ed7953"
             ],
             [
              0.7777777777777778,
              "#fb9f3a"
             ],
             [
              0.8888888888888888,
              "#fdca26"
             ],
             [
              1,
              "#f0f921"
             ]
            ],
            "type": "contour"
           }
          ],
          "contourcarpet": [
           {
            "colorbar": {
             "outlinewidth": 0,
             "ticks": ""
            },
            "type": "contourcarpet"
           }
          ],
          "heatmap": [
           {
            "colorbar": {
             "outlinewidth": 0,
             "ticks": ""
            },
            "colorscale": [
             [
              0,
              "#0d0887"
             ],
             [
              0.1111111111111111,
              "#46039f"
             ],
             [
              0.2222222222222222,
              "#7201a8"
             ],
             [
              0.3333333333333333,
              "#9c179e"
             ],
             [
              0.4444444444444444,
              "#bd3786"
             ],
             [
              0.5555555555555556,
              "#d8576b"
             ],
             [
              0.6666666666666666,
              "#ed7953"
             ],
             [
              0.7777777777777778,
              "#fb9f3a"
             ],
             [
              0.8888888888888888,
              "#fdca26"
             ],
             [
              1,
              "#f0f921"
             ]
            ],
            "type": "heatmap"
           }
          ],
          "heatmapgl": [
           {
            "colorbar": {
             "outlinewidth": 0,
             "ticks": ""
            },
            "colorscale": [
             [
              0,
              "#0d0887"
             ],
             [
              0.1111111111111111,
              "#46039f"
             ],
             [
              0.2222222222222222,
              "#7201a8"
             ],
             [
              0.3333333333333333,
              "#9c179e"
             ],
             [
              0.4444444444444444,
              "#bd3786"
             ],
             [
              0.5555555555555556,
              "#d8576b"
             ],
             [
              0.6666666666666666,
              "#ed7953"
             ],
             [
              0.7777777777777778,
              "#fb9f3a"
             ],
             [
              0.8888888888888888,
              "#fdca26"
             ],
             [
              1,
              "#f0f921"
             ]
            ],
            "type": "heatmapgl"
           }
          ],
          "histogram": [
           {
            "marker": {
             "pattern": {
              "fillmode": "overlay",
              "size": 10,
              "solidity": 0.2
             }
            },
            "type": "histogram"
           }
          ],
          "histogram2d": [
           {
            "colorbar": {
             "outlinewidth": 0,
             "ticks": ""
            },
            "colorscale": [
             [
              0,
              "#0d0887"
             ],
             [
              0.1111111111111111,
              "#46039f"
             ],
             [
              0.2222222222222222,
              "#7201a8"
             ],
             [
              0.3333333333333333,
              "#9c179e"
             ],
             [
              0.4444444444444444,
              "#bd3786"
             ],
             [
              0.5555555555555556,
              "#d8576b"
             ],
             [
              0.6666666666666666,
              "#ed7953"
             ],
             [
              0.7777777777777778,
              "#fb9f3a"
             ],
             [
              0.8888888888888888,
              "#fdca26"
             ],
             [
              1,
              "#f0f921"
             ]
            ],
            "type": "histogram2d"
           }
          ],
          "histogram2dcontour": [
           {
            "colorbar": {
             "outlinewidth": 0,
             "ticks": ""
            },
            "colorscale": [
             [
              0,
              "#0d0887"
             ],
             [
              0.1111111111111111,
              "#46039f"
             ],
             [
              0.2222222222222222,
              "#7201a8"
             ],
             [
              0.3333333333333333,
              "#9c179e"
             ],
             [
              0.4444444444444444,
              "#bd3786"
             ],
             [
              0.5555555555555556,
              "#d8576b"
             ],
             [
              0.6666666666666666,
              "#ed7953"
             ],
             [
              0.7777777777777778,
              "#fb9f3a"
             ],
             [
              0.8888888888888888,
              "#fdca26"
             ],
             [
              1,
              "#f0f921"
             ]
            ],
            "type": "histogram2dcontour"
           }
          ],
          "mesh3d": [
           {
            "colorbar": {
             "outlinewidth": 0,
             "ticks": ""
            },
            "type": "mesh3d"
           }
          ],
          "parcoords": [
           {
            "line": {
             "colorbar": {
              "outlinewidth": 0,
              "ticks": ""
             }
            },
            "type": "parcoords"
           }
          ],
          "pie": [
           {
            "automargin": true,
            "type": "pie"
           }
          ],
          "scatter": [
           {
            "fillpattern": {
             "fillmode": "overlay",
             "size": 10,
             "solidity": 0.2
            },
            "type": "scatter"
           }
          ],
          "scatter3d": [
           {
            "line": {
             "colorbar": {
              "outlinewidth": 0,
              "ticks": ""
             }
            },
            "marker": {
             "colorbar": {
              "outlinewidth": 0,
              "ticks": ""
             }
            },
            "type": "scatter3d"
           }
          ],
          "scattercarpet": [
           {
            "marker": {
             "colorbar": {
              "outlinewidth": 0,
              "ticks": ""
             }
            },
            "type": "scattercarpet"
           }
          ],
          "scattergeo": [
           {
            "marker": {
             "colorbar": {
              "outlinewidth": 0,
              "ticks": ""
             }
            },
            "type": "scattergeo"
           }
          ],
          "scattergl": [
           {
            "marker": {
             "colorbar": {
              "outlinewidth": 0,
              "ticks": ""
             }
            },
            "type": "scattergl"
           }
          ],
          "scattermapbox": [
           {
            "marker": {
             "colorbar": {
              "outlinewidth": 0,
              "ticks": ""
             }
            },
            "type": "scattermapbox"
           }
          ],
          "scatterpolar": [
           {
            "marker": {
             "colorbar": {
              "outlinewidth": 0,
              "ticks": ""
             }
            },
            "type": "scatterpolar"
           }
          ],
          "scatterpolargl": [
           {
            "marker": {
             "colorbar": {
              "outlinewidth": 0,
              "ticks": ""
             }
            },
            "type": "scatterpolargl"
           }
          ],
          "scatterternary": [
           {
            "marker": {
             "colorbar": {
              "outlinewidth": 0,
              "ticks": ""
             }
            },
            "type": "scatterternary"
           }
          ],
          "surface": [
           {
            "colorbar": {
             "outlinewidth": 0,
             "ticks": ""
            },
            "colorscale": [
             [
              0,
              "#0d0887"
             ],
             [
              0.1111111111111111,
              "#46039f"
             ],
             [
              0.2222222222222222,
              "#7201a8"
             ],
             [
              0.3333333333333333,
              "#9c179e"
             ],
             [
              0.4444444444444444,
              "#bd3786"
             ],
             [
              0.5555555555555556,
              "#d8576b"
             ],
             [
              0.6666666666666666,
              "#ed7953"
             ],
             [
              0.7777777777777778,
              "#fb9f3a"
             ],
             [
              0.8888888888888888,
              "#fdca26"
             ],
             [
              1,
              "#f0f921"
             ]
            ],
            "type": "surface"
           }
          ],
          "table": [
           {
            "cells": {
             "fill": {
              "color": "#EBF0F8"
             },
             "line": {
              "color": "white"
             }
            },
            "header": {
             "fill": {
              "color": "#C8D4E3"
             },
             "line": {
              "color": "white"
             }
            },
            "type": "table"
           }
          ]
         },
         "layout": {
          "annotationdefaults": {
           "arrowcolor": "#2a3f5f",
           "arrowhead": 0,
           "arrowwidth": 1
          },
          "autotypenumbers": "strict",
          "coloraxis": {
           "colorbar": {
            "outlinewidth": 0,
            "ticks": ""
           }
          },
          "colorscale": {
           "diverging": [
            [
             0,
             "#8e0152"
            ],
            [
             0.1,
             "#c51b7d"
            ],
            [
             0.2,
             "#de77ae"
            ],
            [
             0.3,
             "#f1b6da"
            ],
            [
             0.4,
             "#fde0ef"
            ],
            [
             0.5,
             "#f7f7f7"
            ],
            [
             0.6,
             "#e6f5d0"
            ],
            [
             0.7,
             "#b8e186"
            ],
            [
             0.8,
             "#7fbc41"
            ],
            [
             0.9,
             "#4d9221"
            ],
            [
             1,
             "#276419"
            ]
           ],
           "sequential": [
            [
             0,
             "#0d0887"
            ],
            [
             0.1111111111111111,
             "#46039f"
            ],
            [
             0.2222222222222222,
             "#7201a8"
            ],
            [
             0.3333333333333333,
             "#9c179e"
            ],
            [
             0.4444444444444444,
             "#bd3786"
            ],
            [
             0.5555555555555556,
             "#d8576b"
            ],
            [
             0.6666666666666666,
             "#ed7953"
            ],
            [
             0.7777777777777778,
             "#fb9f3a"
            ],
            [
             0.8888888888888888,
             "#fdca26"
            ],
            [
             1,
             "#f0f921"
            ]
           ],
           "sequentialminus": [
            [
             0,
             "#0d0887"
            ],
            [
             0.1111111111111111,
             "#46039f"
            ],
            [
             0.2222222222222222,
             "#7201a8"
            ],
            [
             0.3333333333333333,
             "#9c179e"
            ],
            [
             0.4444444444444444,
             "#bd3786"
            ],
            [
             0.5555555555555556,
             "#d8576b"
            ],
            [
             0.6666666666666666,
             "#ed7953"
            ],
            [
             0.7777777777777778,
             "#fb9f3a"
            ],
            [
             0.8888888888888888,
             "#fdca26"
            ],
            [
             1,
             "#f0f921"
            ]
           ]
          },
          "colorway": [
           "#636efa",
           "#EF553B",
           "#00cc96",
           "#ab63fa",
           "#FFA15A",
           "#19d3f3",
           "#FF6692",
           "#B6E880",
           "#FF97FF",
           "#FECB52"
          ],
          "font": {
           "color": "#2a3f5f"
          },
          "geo": {
           "bgcolor": "white",
           "lakecolor": "white",
           "landcolor": "#E5ECF6",
           "showlakes": true,
           "showland": true,
           "subunitcolor": "white"
          },
          "hoverlabel": {
           "align": "left"
          },
          "hovermode": "closest",
          "mapbox": {
           "style": "light"
          },
          "paper_bgcolor": "white",
          "plot_bgcolor": "#E5ECF6",
          "polar": {
           "angularaxis": {
            "gridcolor": "white",
            "linecolor": "white",
            "ticks": ""
           },
           "bgcolor": "#E5ECF6",
           "radialaxis": {
            "gridcolor": "white",
            "linecolor": "white",
            "ticks": ""
           }
          },
          "scene": {
           "xaxis": {
            "backgroundcolor": "#E5ECF6",
            "gridcolor": "white",
            "gridwidth": 2,
            "linecolor": "white",
            "showbackground": true,
            "ticks": "",
            "zerolinecolor": "white"
           },
           "yaxis": {
            "backgroundcolor": "#E5ECF6",
            "gridcolor": "white",
            "gridwidth": 2,
            "linecolor": "white",
            "showbackground": true,
            "ticks": "",
            "zerolinecolor": "white"
           },
           "zaxis": {
            "backgroundcolor": "#E5ECF6",
            "gridcolor": "white",
            "gridwidth": 2,
            "linecolor": "white",
            "showbackground": true,
            "ticks": "",
            "zerolinecolor": "white"
           }
          },
          "shapedefaults": {
           "line": {
            "color": "#2a3f5f"
           }
          },
          "ternary": {
           "aaxis": {
            "gridcolor": "white",
            "linecolor": "white",
            "ticks": ""
           },
           "baxis": {
            "gridcolor": "white",
            "linecolor": "white",
            "ticks": ""
           },
           "bgcolor": "#E5ECF6",
           "caxis": {
            "gridcolor": "white",
            "linecolor": "white",
            "ticks": ""
           }
          },
          "title": {
           "x": 0.05
          },
          "xaxis": {
           "automargin": true,
           "gridcolor": "white",
           "linecolor": "white",
           "ticks": "",
           "title": {
            "standoff": 15
           },
           "zerolinecolor": "white",
           "zerolinewidth": 2
          },
          "yaxis": {
           "automargin": true,
           "gridcolor": "white",
           "linecolor": "white",
           "ticks": "",
           "title": {
            "standoff": 15
           },
           "zerolinecolor": "white",
           "zerolinewidth": 2
          }
         }
        },
        "xaxis": {
         "anchor": "y",
         "domain": [
          0,
          1
         ],
         "title": {
          "text": "value"
         }
        },
        "yaxis": {
         "anchor": "x",
         "domain": [
          0,
          1
         ],
         "title": {
          "text": "count"
         }
        }
       }
      },
      "text/html": [
       "<div>                            <div id=\"768575d0-d0be-41b1-a795-9b21db348a2f\" class=\"plotly-graph-div\" style=\"height:525px; width:100%;\"></div>            <script type=\"text/javascript\">                require([\"plotly\"], function(Plotly) {                    window.PLOTLYENV=window.PLOTLYENV || {};                                    if (document.getElementById(\"768575d0-d0be-41b1-a795-9b21db348a2f\")) {                    Plotly.newPlot(                        \"768575d0-d0be-41b1-a795-9b21db348a2f\",                        [{\"alignmentgroup\":\"True\",\"bingroup\":\"x\",\"hovertemplate\":\"variable=TotalGHGEmissions<br>value=%{x}<br>count=%{y}<extra></extra>\",\"legendgroup\":\"TotalGHGEmissions\",\"marker\":{\"color\":\"#636efa\",\"pattern\":{\"shape\":\"\"}},\"name\":\"TotalGHGEmissions\",\"nbinsx\":24,\"offsetgroup\":\"TotalGHGEmissions\",\"orientation\":\"v\",\"showlegend\":true,\"x\":[221.51,273.02,9.13,157.77,215.0,3.93,31.47,130.56,83.86,45.43,66.48,33.26,35.36,134.38,146.34,87.98,39.06,101.83,6.11,191.2,78.85,44.32,127.29,89.02,142.39,176.75,74.33,204.08,61.21,100.46,104.26,49.58,66.3,83.7,51.11,69.44,35.78,59.34,48.99,225.69,3.0,175.77,208.26,28.27,96.43,27.39,16.81,92.91,72.88,49.09,84.57,149.93,57.21,101.41,44.22,26.19,51.67,31.97,89.47,119.03,6.09,24.91,78.92,116.03,48.65,70.47,156.67,36.61,18.03,74.83,20.98,44.48,13.86,117.11,5.32,5.44,35.8,42.03,38.59,33.06,93.23,29.53,74.1,22.44,45.47,121.98,110.46,10.24,226.43,237.39,158.92,17.17,32.22,8.15,25.58,33.18,2.8,42.65,76.68,10.72,3.62,46.93,6.32,204.81,32.02,74.31,38.55,90.24,42.25,46.49,44.35,22.1,57.73,33.22,34.0,58.67,91.1,23.86,107.83,22.12,65.3,107.16,20.29,39.5,64.0,39.47,8.73,25.74,19.73,134.69,19.89,76.8,26.04,130.31,99.59,13.28,31.58,65.56,132.6,74.18,15.65,16.48,41.18,7.37,138.35,67.78,180.76,98.43,47.25,100.42,49.25,42.74,33.41,67.29,17.28,40.38,94.74,21.37,23.48,30.61,0.0,60.7,55.73,5.59,70.09,8.8,47.39,97.82,69.02,119.46,157.48,7.08,95.86,75.29,19.86,155.74,48.5,178.62,34.14,168.5,86.9,47.82,260.13,109.85,150.88,27.82,54.4,20.12,41.8,13.72,9.31,51.56,30.35,73.58,89.94,111.23,46.52,152.28,60.92,13.61,1.06,131.64,89.53,158.55,195.43,29.16,24.12,4.22,4.2,110.41,20.94,27.24,54.18,7.56,109.71,13.07,134.82,16.27,13.51,31.74,30.52,11.29,24.39,17.87,101.5,36.02,43.84,86.46,3.58,77.04,2.41,2.57,21.93,22.65,37.78,9.77,9.47,169.75,7.77,63.48,207.6,29.62,9.82,42.19,25.24,24.02,43.8,15.27,6.33,18.1,154.17,29.54,14.22,9.95,6.16,24.25,13.87,8.68,28.81,33.78,66.29,12.95,126.78,10.83,86.02,30.33,72.78,36.43,4.22,13.91,47.12,63.61,28.41,47.66,46.57,101.99,74.92,18.66,32.64,33.23,34.98,64.51,8.45,38.87,6.49,32.22,23.59,6.69,37.31,5.67,4.8,4.99,118.37,89.57,27.14,202.65,23.15,26.11,33.37,49.98,0.63,19.07,130.58,185.23,89.29,43.45,35.04,188.67,13.29,210.3,34.15,1.86,134.57,43.13,13.16,33.92,147.0,12.48,5.17,19.93,19.82,13.02,19.04,63.06,10.05,0.82,3.89,1.73,83.1,1.7,61.71,46.64,65.65,10.75,39.05,1.67,31.6,67.52,28.58,61.53,29.82,47.59,18.85,2.52,39.5,11.27,15.47,68.14,32.63,106.45,68.97,29.41,3.06,10.26,8.85,3.16,64.81,45.79,81.96,1.55,3.73,18.16,4.95,3.34,13.71,46.48,149.91,94.85,148.55,60.88,42.04,8.47,30.32,66.53,9.46,73.52,18.34,82.34,5.41,16.06,23.85,38.12,11.29,16.13,19.39,8.49,30.02,127.1,49.58,40.22,15.9,122.73,10.36,32.86,176.79,36.74,45.33,61.98,180.38,79.58,17.12,8.8,12.77,12.59,26.38,20.76,20.9,48.35,9.3,73.61,101.34,71.23,107.45,60.04,55.61,123.41,37.34,1.12,31.61,34.87,16.57,73.0,82.72,32.09,73.48,184.09,20.64,24.62,192.12,41.06,13.97,13.33,119.34,44.33,8.77,77.48,98.28,218.79,44.89,12.98,143.34,14.13,75.99,2.01,182.81,3.04,10.73,75.25,4.05,115.43,104.91,35.96,167.98,111.73,5.97,7.07,54.44,13.27,92.45,86.81,3.71,6.35,27.97,9.42,15.62,18.63,2.64,26.55,7.59,73.26,18.54,203.73,1.85,103.28,23.9,80.09,32.77,24.88,135.81,49.62,5.97,27.41,53.73,49.73,225.67,5.08,15.11,17.38,64.88,0.81,215.56,173.75,55.3,25.09,46.9,60.34,208.53,45.38,38.86,78.22,5.24,6.61,13.14,36.77,29.24,13.29,31.79,8.42,14.9,34.26,1.55,37.49,46.44,0.68,0.4,4.58,14.81,11.08,5.07,6.3,1.68,7.82,34.52,16.67,17.39,60.67,44.26,33.28,30.49,128.66,67.45,42.87,28.28,121.9,8.44,82.57,44.28,33.42,0.86,80.19,42.96,52.41,55.85,32.58,184.6,11.39,53.21,129.89,3.04,96.15,122.71,2.19,43.63,2.28,179.55,23.6,2.25,184.0,62.23,26.41,38.39,2.69,44.26,37.65,21.24,62.05,112.34,146.93,46.45,110.66,22.26,38.57,5.37,15.7,33.8,59.24,26.73,13.12,13.7,178.86,61.3,55.86,6.16,16.04,22.29,24.76,14.36,6.04,18.87,4.95,7.56,10.01,128.41,19.56,50.07,42.45,54.24,19.51,37.08,9.26,22.48,8.07,174.62,67.05,3.8,19.61,8.85,51.1,17.04,2.91,83.3,33.1,28.37,21.5,157.07,4.48,178.35,102.35,13.87,12.92,18.03,9.71,1.14,12.55,5.09,25.77,40.85,3.45,8.7,40.94,95.93,17.29,15.35,51.27,40.01,40.42,59.0,5.82,6.42,3.67,6.41,17.51,42.73,38.87,60.12,2.82,9.25,16.5,46.16,24.91,43.64,38.38,93.5,30.99,17.87,3.65,3.72,9.29,8.22,43.17,19.88,7.27,27.92,20.3,57.25,31.94,19.77,18.87,18.04,26.52,49.18,23.5,78.57,7.74,219.93,34.04,1.51,4.33,19.43,158.63,41.77,175.53,124.4,43.18,64.75,59.14,39.05,85.15,21.46,29.88,112.82,6.46,17.6,26.27,12.17,6.3,1.46,7.49,66.77,106.35,7.98,92.7,2.15,7.05,61.6,30.79,35.48,37.61,152.14,11.44,14.17,1.6,17.45,27.83,4.02,11.73,96.62,23.62,9.65,33.52,82.07,0.79,0.75,58.36,77.23,10.05,25.15,39.25,14.99,54.27,47.08,28.05,11.69,42.24,13.22,31.54,51.15,27.75,42.66,1.6,9.67,44.68,32.44,14.37,23.52,23.84,8.49,78.19,28.78,41.96,6.3,120.72,49.53,14.64,17.22,125.59,1.24,36.82,27.93,29.44,28.64,97.27,116.94,5.86,101.21,10.99,13.09,11.85,122.0,14.35,46.53,223.36,18.76,7.05,50.05,3.25,20.66,6.53,34.08,124.59,13.69,63.81,25.53,2.88,9.29,17.79,2.35,20.76,18.19,35.4,190.45,25.14,5.66,65.05,14.21,65.89,8.61,26.56,17.41,10.31,95.38,120.86,37.28,62.51,22.38,18.81,58.79,55.06,91.69,28.07,121.63,17.31,10.04,34.03,38.59,35.99,22.33,39.65,46.01,12.57,203.21,70.92,1.59,41.88,11.02,38.21,87.41,48.13,69.2,226.73,156.18,9.72,4.76,18.62,43.91,185.33,19.81,37.43,53.88,47.03,28.46,14.79,3.78,60.93,7.69,26.94,35.72,7.52,10.92,6.84,173.67,11.18,6.76,20.96,32.42,20.78,53.25,10.04,6.73,34.61,42.71,4.45,65.95,53.65,6.96,104.74,55.23,96.2,56.25,9.23,78.36,39.4,29.7,27.06,60.83,19.28,19.14,46.61,20.46,11.38,38.36,206.33,93.55,49.55,19.61,41.7,38.18,25.14,51.89,2.94,37.97,2.62,29.39,6.88,3.06,67.15,0.89,17.65,14.19,2.82,77.84,21.87,67.33,62.94,115.34,53.02,4.8,9.09,128.07,0.87,4.15,7.31,11.32,63.22,55.73,39.31,51.14,54.02,150.23,7.12,24.97,68.39,43.97,66.43,119.76,43.04,67.96,22.18,38.71,3.39,49.44,7.8,156.45,21.05,29.18,89.8,81.18,176.75,72.02,24.82,193.36,83.45,137.66,12.43,37.83,32.72,145.11,30.03,11.4,158.6,94.63,9.46,15.5,92.07,175.46,191.97,38.17,144.41,57.59,51.59,184.81,22.76,54.98,16.13,107.29,38.13,29.4,74.3,82.58,10.8,51.39,25.93,103.65,48.53,62.41,9.76,65.01,4.38,91.98,134.8,67.65,9.24,22.17,4.44,29.18,23.0,14.37,24.73,60.81,20.33,32.17,22.11,41.27],\"xaxis\":\"x\",\"yaxis\":\"y\",\"type\":\"histogram\"}],                        {\"template\":{\"data\":{\"histogram2dcontour\":[{\"type\":\"histogram2dcontour\",\"colorbar\":{\"outlinewidth\":0,\"ticks\":\"\"},\"colorscale\":[[0.0,\"#0d0887\"],[0.1111111111111111,\"#46039f\"],[0.2222222222222222,\"#7201a8\"],[0.3333333333333333,\"#9c179e\"],[0.4444444444444444,\"#bd3786\"],[0.5555555555555556,\"#d8576b\"],[0.6666666666666666,\"#ed7953\"],[0.7777777777777778,\"#fb9f3a\"],[0.8888888888888888,\"#fdca26\"],[1.0,\"#f0f921\"]]}],\"choropleth\":[{\"type\":\"choropleth\",\"colorbar\":{\"outlinewidth\":0,\"ticks\":\"\"}}],\"histogram2d\":[{\"type\":\"histogram2d\",\"colorbar\":{\"outlinewidth\":0,\"ticks\":\"\"},\"colorscale\":[[0.0,\"#0d0887\"],[0.1111111111111111,\"#46039f\"],[0.2222222222222222,\"#7201a8\"],[0.3333333333333333,\"#9c179e\"],[0.4444444444444444,\"#bd3786\"],[0.5555555555555556,\"#d8576b\"],[0.6666666666666666,\"#ed7953\"],[0.7777777777777778,\"#fb9f3a\"],[0.8888888888888888,\"#fdca26\"],[1.0,\"#f0f921\"]]}],\"heatmap\":[{\"type\":\"heatmap\",\"colorbar\":{\"outlinewidth\":0,\"ticks\":\"\"},\"colorscale\":[[0.0,\"#0d0887\"],[0.1111111111111111,\"#46039f\"],[0.2222222222222222,\"#7201a8\"],[0.3333333333333333,\"#9c179e\"],[0.4444444444444444,\"#bd3786\"],[0.5555555555555556,\"#d8576b\"],[0.6666666666666666,\"#ed7953\"],[0.7777777777777778,\"#fb9f3a\"],[0.8888888888888888,\"#fdca26\"],[1.0,\"#f0f921\"]]}],\"heatmapgl\":[{\"type\":\"heatmapgl\",\"colorbar\":{\"outlinewidth\":0,\"ticks\":\"\"},\"colorscale\":[[0.0,\"#0d0887\"],[0.1111111111111111,\"#46039f\"],[0.2222222222222222,\"#7201a8\"],[0.3333333333333333,\"#9c179e\"],[0.4444444444444444,\"#bd3786\"],[0.5555555555555556,\"#d8576b\"],[0.6666666666666666,\"#ed7953\"],[0.7777777777777778,\"#fb9f3a\"],[0.8888888888888888,\"#fdca26\"],[1.0,\"#f0f921\"]]}],\"contourcarpet\":[{\"type\":\"contourcarpet\",\"colorbar\":{\"outlinewidth\":0,\"ticks\":\"\"}}],\"contour\":[{\"type\":\"contour\",\"colorbar\":{\"outlinewidth\":0,\"ticks\":\"\"},\"colorscale\":[[0.0,\"#0d0887\"],[0.1111111111111111,\"#46039f\"],[0.2222222222222222,\"#7201a8\"],[0.3333333333333333,\"#9c179e\"],[0.4444444444444444,\"#bd3786\"],[0.5555555555555556,\"#d8576b\"],[0.6666666666666666,\"#ed7953\"],[0.7777777777777778,\"#fb9f3a\"],[0.8888888888888888,\"#fdca26\"],[1.0,\"#f0f921\"]]}],\"surface\":[{\"type\":\"surface\",\"colorbar\":{\"outlinewidth\":0,\"ticks\":\"\"},\"colorscale\":[[0.0,\"#0d0887\"],[0.1111111111111111,\"#46039f\"],[0.2222222222222222,\"#7201a8\"],[0.3333333333333333,\"#9c179e\"],[0.4444444444444444,\"#bd3786\"],[0.5555555555555556,\"#d8576b\"],[0.6666666666666666,\"#ed7953\"],[0.7777777777777778,\"#fb9f3a\"],[0.8888888888888888,\"#fdca26\"],[1.0,\"#f0f921\"]]}],\"mesh3d\":[{\"type\":\"mesh3d\",\"colorbar\":{\"outlinewidth\":0,\"ticks\":\"\"}}],\"scatter\":[{\"fillpattern\":{\"fillmode\":\"overlay\",\"size\":10,\"solidity\":0.2},\"type\":\"scatter\"}],\"parcoords\":[{\"type\":\"parcoords\",\"line\":{\"colorbar\":{\"outlinewidth\":0,\"ticks\":\"\"}}}],\"scatterpolargl\":[{\"type\":\"scatterpolargl\",\"marker\":{\"colorbar\":{\"outlinewidth\":0,\"ticks\":\"\"}}}],\"bar\":[{\"error_x\":{\"color\":\"#2a3f5f\"},\"error_y\":{\"color\":\"#2a3f5f\"},\"marker\":{\"line\":{\"color\":\"#E5ECF6\",\"width\":0.5},\"pattern\":{\"fillmode\":\"overlay\",\"size\":10,\"solidity\":0.2}},\"type\":\"bar\"}],\"scattergeo\":[{\"type\":\"scattergeo\",\"marker\":{\"colorbar\":{\"outlinewidth\":0,\"ticks\":\"\"}}}],\"scatterpolar\":[{\"type\":\"scatterpolar\",\"marker\":{\"colorbar\":{\"outlinewidth\":0,\"ticks\":\"\"}}}],\"histogram\":[{\"marker\":{\"pattern\":{\"fillmode\":\"overlay\",\"size\":10,\"solidity\":0.2}},\"type\":\"histogram\"}],\"scattergl\":[{\"type\":\"scattergl\",\"marker\":{\"colorbar\":{\"outlinewidth\":0,\"ticks\":\"\"}}}],\"scatter3d\":[{\"type\":\"scatter3d\",\"line\":{\"colorbar\":{\"outlinewidth\":0,\"ticks\":\"\"}},\"marker\":{\"colorbar\":{\"outlinewidth\":0,\"ticks\":\"\"}}}],\"scattermapbox\":[{\"type\":\"scattermapbox\",\"marker\":{\"colorbar\":{\"outlinewidth\":0,\"ticks\":\"\"}}}],\"scatterternary\":[{\"type\":\"scatterternary\",\"marker\":{\"colorbar\":{\"outlinewidth\":0,\"ticks\":\"\"}}}],\"scattercarpet\":[{\"type\":\"scattercarpet\",\"marker\":{\"colorbar\":{\"outlinewidth\":0,\"ticks\":\"\"}}}],\"carpet\":[{\"aaxis\":{\"endlinecolor\":\"#2a3f5f\",\"gridcolor\":\"white\",\"linecolor\":\"white\",\"minorgridcolor\":\"white\",\"startlinecolor\":\"#2a3f5f\"},\"baxis\":{\"endlinecolor\":\"#2a3f5f\",\"gridcolor\":\"white\",\"linecolor\":\"white\",\"minorgridcolor\":\"white\",\"startlinecolor\":\"#2a3f5f\"},\"type\":\"carpet\"}],\"table\":[{\"cells\":{\"fill\":{\"color\":\"#EBF0F8\"},\"line\":{\"color\":\"white\"}},\"header\":{\"fill\":{\"color\":\"#C8D4E3\"},\"line\":{\"color\":\"white\"}},\"type\":\"table\"}],\"barpolar\":[{\"marker\":{\"line\":{\"color\":\"#E5ECF6\",\"width\":0.5},\"pattern\":{\"fillmode\":\"overlay\",\"size\":10,\"solidity\":0.2}},\"type\":\"barpolar\"}],\"pie\":[{\"automargin\":true,\"type\":\"pie\"}]},\"layout\":{\"autotypenumbers\":\"strict\",\"colorway\":[\"#636efa\",\"#EF553B\",\"#00cc96\",\"#ab63fa\",\"#FFA15A\",\"#19d3f3\",\"#FF6692\",\"#B6E880\",\"#FF97FF\",\"#FECB52\"],\"font\":{\"color\":\"#2a3f5f\"},\"hovermode\":\"closest\",\"hoverlabel\":{\"align\":\"left\"},\"paper_bgcolor\":\"white\",\"plot_bgcolor\":\"#E5ECF6\",\"polar\":{\"bgcolor\":\"#E5ECF6\",\"angularaxis\":{\"gridcolor\":\"white\",\"linecolor\":\"white\",\"ticks\":\"\"},\"radialaxis\":{\"gridcolor\":\"white\",\"linecolor\":\"white\",\"ticks\":\"\"}},\"ternary\":{\"bgcolor\":\"#E5ECF6\",\"aaxis\":{\"gridcolor\":\"white\",\"linecolor\":\"white\",\"ticks\":\"\"},\"baxis\":{\"gridcolor\":\"white\",\"linecolor\":\"white\",\"ticks\":\"\"},\"caxis\":{\"gridcolor\":\"white\",\"linecolor\":\"white\",\"ticks\":\"\"}},\"coloraxis\":{\"colorbar\":{\"outlinewidth\":0,\"ticks\":\"\"}},\"colorscale\":{\"sequential\":[[0.0,\"#0d0887\"],[0.1111111111111111,\"#46039f\"],[0.2222222222222222,\"#7201a8\"],[0.3333333333333333,\"#9c179e\"],[0.4444444444444444,\"#bd3786\"],[0.5555555555555556,\"#d8576b\"],[0.6666666666666666,\"#ed7953\"],[0.7777777777777778,\"#fb9f3a\"],[0.8888888888888888,\"#fdca26\"],[1.0,\"#f0f921\"]],\"sequentialminus\":[[0.0,\"#0d0887\"],[0.1111111111111111,\"#46039f\"],[0.2222222222222222,\"#7201a8\"],[0.3333333333333333,\"#9c179e\"],[0.4444444444444444,\"#bd3786\"],[0.5555555555555556,\"#d8576b\"],[0.6666666666666666,\"#ed7953\"],[0.7777777777777778,\"#fb9f3a\"],[0.8888888888888888,\"#fdca26\"],[1.0,\"#f0f921\"]],\"diverging\":[[0,\"#8e0152\"],[0.1,\"#c51b7d\"],[0.2,\"#de77ae\"],[0.3,\"#f1b6da\"],[0.4,\"#fde0ef\"],[0.5,\"#f7f7f7\"],[0.6,\"#e6f5d0\"],[0.7,\"#b8e186\"],[0.8,\"#7fbc41\"],[0.9,\"#4d9221\"],[1,\"#276419\"]]},\"xaxis\":{\"gridcolor\":\"white\",\"linecolor\":\"white\",\"ticks\":\"\",\"title\":{\"standoff\":15},\"zerolinecolor\":\"white\",\"automargin\":true,\"zerolinewidth\":2},\"yaxis\":{\"gridcolor\":\"white\",\"linecolor\":\"white\",\"ticks\":\"\",\"title\":{\"standoff\":15},\"zerolinecolor\":\"white\",\"automargin\":true,\"zerolinewidth\":2},\"scene\":{\"xaxis\":{\"backgroundcolor\":\"#E5ECF6\",\"gridcolor\":\"white\",\"linecolor\":\"white\",\"showbackground\":true,\"ticks\":\"\",\"zerolinecolor\":\"white\",\"gridwidth\":2},\"yaxis\":{\"backgroundcolor\":\"#E5ECF6\",\"gridcolor\":\"white\",\"linecolor\":\"white\",\"showbackground\":true,\"ticks\":\"\",\"zerolinecolor\":\"white\",\"gridwidth\":2},\"zaxis\":{\"backgroundcolor\":\"#E5ECF6\",\"gridcolor\":\"white\",\"linecolor\":\"white\",\"showbackground\":true,\"ticks\":\"\",\"zerolinecolor\":\"white\",\"gridwidth\":2}},\"shapedefaults\":{\"line\":{\"color\":\"#2a3f5f\"}},\"annotationdefaults\":{\"arrowcolor\":\"#2a3f5f\",\"arrowhead\":0,\"arrowwidth\":1},\"geo\":{\"bgcolor\":\"white\",\"landcolor\":\"#E5ECF6\",\"subunitcolor\":\"white\",\"showland\":true,\"showlakes\":true,\"lakecolor\":\"white\"},\"title\":{\"x\":0.05},\"mapbox\":{\"style\":\"light\"}}},\"xaxis\":{\"anchor\":\"y\",\"domain\":[0.0,1.0],\"title\":{\"text\":\"value\"}},\"yaxis\":{\"anchor\":\"x\",\"domain\":[0.0,1.0],\"title\":{\"text\":\"count\"}},\"legend\":{\"title\":{\"text\":\"variable\"},\"tracegroupgap\":0},\"margin\":{\"t\":60},\"barmode\":\"relative\"},                        {\"responsive\": true}                    ).then(function(){\n",
       "                            \n",
       "var gd = document.getElementById('768575d0-d0be-41b1-a795-9b21db348a2f');\n",
       "var x = new MutationObserver(function (mutations, observer) {{\n",
       "        var display = window.getComputedStyle(gd).display;\n",
       "        if (!display || display === 'none') {{\n",
       "            console.log([gd, 'removed!']);\n",
       "            Plotly.purge(gd);\n",
       "            observer.disconnect();\n",
       "        }}\n",
       "}});\n",
       "\n",
       "// Listen for the removal of the full notebook cells\n",
       "var notebookContainer = gd.closest('#notebook-container');\n",
       "if (notebookContainer) {{\n",
       "    x.observe(notebookContainer, {childList: true});\n",
       "}}\n",
       "\n",
       "// Listen for the clearing of the current output cell\n",
       "var outputEl = gd.closest('.output');\n",
       "if (outputEl) {{\n",
       "    x.observe(outputEl, {childList: true});\n",
       "}}\n",
       "\n",
       "                        })                };                });            </script>        </div>"
      ]
     },
     "metadata": {},
     "output_type": "display_data"
    }
   ],
   "source": [
    "boxplot_hist(df,'TotalGHGEmissions')"
   ]
  },
  {
   "cell_type": "markdown",
   "metadata": {},
   "source": [
    "# Partie 8 Transformation des variables qualitatives en numériques et normalisation"
   ]
  },
  {
   "cell_type": "code",
   "execution_count": 1179,
   "metadata": {},
   "outputs": [
    {
     "data": {
      "text/plain": [
       "['BuildingType', 'PrimaryPropertyType', 'Neighborhood']"
      ]
     },
     "execution_count": 1179,
     "metadata": {},
     "output_type": "execute_result"
    }
   ],
   "source": [
    "relevant_categorical_columns.remove('OSEBuildingID')\n",
    "relevant_categorical_columns.remove('PropertyName')\n",
    "relevant_categorical_columns"
   ]
  },
  {
   "cell_type": "code",
   "execution_count": 1180,
   "metadata": {},
   "outputs": [],
   "source": [
    " \n",
    "df=df[relevant_categorical_columns+relevant_numeric_columns].reset_index()\n",
    "ohe = OneHotEncoder(sparse=False)\n",
    "\n",
    " \n",
    "data= ohe.fit_transform(df[relevant_categorical_columns])\n",
    "new_cols= ohe.get_feature_names_out().tolist()\n",
    "df_hot= pd.DataFrame(columns =new_cols,\n",
    "              data =data)\n",
    "for col in new_cols:\n",
    "    df[col]=df_hot[col]\n",
    " "
   ]
  },
  {
   "cell_type": "code",
   "execution_count": 1181,
   "metadata": {},
   "outputs": [],
   "source": [
    "cols_to_normalize=[item for item in relevant_numeric_columns if item not in ['TotalGHGEmissions','SiteEnergyUse(kBtu)']]\n",
    "\n",
    "\n",
    "\n",
    "values_to_normalize=df[cols_to_normalize].values\n",
    "## normalisation des données\n",
    "df[cols_to_normalize] = StandardScaler().fit_transform(values_to_normalize)\n",
    "df.drop(columns=[ 'PrimaryPropertyType', 'Neighborhood','index'],inplace=True)\n",
    " \n",
    "df.to_csv('data/cleaned_and_normalized.csv',index=False)"
   ]
  },
  {
   "cell_type": "code",
   "execution_count": 1182,
   "metadata": {},
   "outputs": [
    {
     "name": "stdout",
     "output_type": "stream",
     "text": [
      "<class 'pandas.core.frame.DataFrame'>\n",
      "RangeIndex: 993 entries, 0 to 992\n",
      "Columns: 106 entries, BuildingType to Neighborhood_SOUTHWEST\n",
      "dtypes: float64(105), object(1)\n",
      "memory usage: 822.5+ KB\n"
     ]
    }
   ],
   "source": [
    "df.info()"
   ]
  },
  {
   "cell_type": "markdown",
   "metadata": {},
   "source": [
    "# Partie 9 Réduction dimensionnelle avec l'acp"
   ]
  },
  {
   "cell_type": "code",
   "execution_count": 1183,
   "metadata": {},
   "outputs": [],
   "source": [
    " \n",
    "features_col=[x for x in df.columns.tolist() if x not in ['BuildingType','TotalGHGEmissions','SiteEnergyUse(kBtu)']]\n",
    "\n",
    "data=df[features_col].values\n",
    "\n"
   ]
  },
  {
   "cell_type": "code",
   "execution_count": 1184,
   "metadata": {},
   "outputs": [
    {
     "data": {
      "image/png": "[encoded data removed]",
      "text/plain": [
       "<Figure size 1440x720 with 1 Axes>"
      ]
     },
     "metadata": {
      "needs_background": "light"
     },
     "output_type": "display_data"
    },
    {
     "data": {
      "text/plain": [
       "array([0.06014777, 0.09985081, 0.13322852, 0.1574629 , 0.1784971 ,\n",
       "       0.19814891, 0.21741501, 0.23573827, 0.25398571, 0.2720129 ,\n",
       "       0.28949566, 0.30691712, 0.32415447, 0.34116255, 0.35815908,\n",
       "       0.37505794, 0.39186825, 0.40865868, 0.42540773, 0.44212887,\n",
       "       0.45880874, 0.47547016, 0.49212421, 0.50873567, 0.52532851,\n",
       "       0.54191046, 0.55845636, 0.57499164, 0.59151754, 0.60802704,\n",
       "       0.62453098, 0.64103032, 0.65752559, 0.67401444, 0.69049897,\n",
       "       0.70698029, 0.72346033, 0.73993511, 0.75640957, 0.77287715,\n",
       "       0.78934292, 0.80580536])"
      ]
     },
     "execution_count": 1184,
     "metadata": {},
     "output_type": "execute_result"
    }
   ],
   "source": [
    " \n",
    "pca=PCA(0.70)\n",
    "pca.fit(data)\n",
    "# Eboulis des valeurs propres\n",
    "utils2.display_scree_plot(pca)\n",
    "\n",
    "\n",
    "pca.explained_variance_ratio_.cumsum()"
   ]
  },
  {
   "cell_type": "code",
   "execution_count": 1185,
   "metadata": {},
   "outputs": [
    {
     "data": {
      "text/plain": [
       "42"
      ]
     },
     "execution_count": 1185,
     "metadata": {},
     "output_type": "execute_result"
    }
   ],
   "source": [
    "pca.n_components_"
   ]
  },
  {
   "cell_type": "code",
   "execution_count": 1186,
   "metadata": {},
   "outputs": [
    {
     "data": {
      "text/html": [
       "<div>\n",
       "<style scoped>\n",
       "    .dataframe tbody tr th:only-of-type {\n",
       "        vertical-align: middle;\n",
       "    }\n",
       "\n",
       "    .dataframe tbody tr th {\n",
       "        vertical-align: top;\n",
       "    }\n",
       "\n",
       "    .dataframe thead th {\n",
       "        text-align: right;\n",
       "    }\n",
       "</style>\n",
       "<table border=\"1\" class=\"dataframe\">\n",
       "  <thead>\n",
       "    <tr style=\"text-align: right;\">\n",
       "      <th></th>\n",
       "      <th>pca_0</th>\n",
       "      <th>pca_1</th>\n",
       "      <th>pca_2</th>\n",
       "      <th>pca_3</th>\n",
       "      <th>pca_4</th>\n",
       "      <th>pca_5</th>\n",
       "      <th>pca_6</th>\n",
       "      <th>pca_7</th>\n",
       "      <th>pca_8</th>\n",
       "      <th>pca_9</th>\n",
       "      <th>pca_10</th>\n",
       "      <th>pca_11</th>\n",
       "      <th>pca_12</th>\n",
       "      <th>pca_13</th>\n",
       "      <th>pca_14</th>\n",
       "      <th>pca_15</th>\n",
       "      <th>pca_16</th>\n",
       "      <th>pca_17</th>\n",
       "      <th>pca_18</th>\n",
       "      <th>pca_19</th>\n",
       "      <th>pca_20</th>\n",
       "      <th>pca_21</th>\n",
       "      <th>pca_22</th>\n",
       "      <th>pca_23</th>\n",
       "      <th>pca_24</th>\n",
       "      <th>pca_25</th>\n",
       "      <th>pca_26</th>\n",
       "      <th>pca_27</th>\n",
       "      <th>pca_28</th>\n",
       "      <th>pca_29</th>\n",
       "      <th>pca_30</th>\n",
       "      <th>pca_31</th>\n",
       "      <th>pca_32</th>\n",
       "      <th>pca_33</th>\n",
       "      <th>pca_34</th>\n",
       "      <th>pca_35</th>\n",
       "      <th>pca_36</th>\n",
       "      <th>pca_37</th>\n",
       "      <th>pca_38</th>\n",
       "      <th>pca_39</th>\n",
       "      <th>pca_40</th>\n",
       "      <th>pca_41</th>\n",
       "    </tr>\n",
       "  </thead>\n",
       "  <tbody>\n",
       "    <tr>\n",
       "      <th>0</th>\n",
       "      <td>4.1683</td>\n",
       "      <td>-2.3549</td>\n",
       "      <td>3.7939</td>\n",
       "      <td>0.3824</td>\n",
       "      <td>-1.2244</td>\n",
       "      <td>1.3062</td>\n",
       "      <td>5.6039</td>\n",
       "      <td>-0.0533</td>\n",
       "      <td>0.1377</td>\n",
       "      <td>-2.6792</td>\n",
       "      <td>-2.9456</td>\n",
       "      <td>1.8904</td>\n",
       "      <td>-2.2343</td>\n",
       "      <td>-2.9486</td>\n",
       "      <td>-2.0256</td>\n",
       "      <td>2.2055</td>\n",
       "      <td>0.5814</td>\n",
       "      <td>-4.5275</td>\n",
       "      <td>-0.8728</td>\n",
       "      <td>1.0885</td>\n",
       "      <td>4.0563</td>\n",
       "      <td>1.5469</td>\n",
       "      <td>-3.1492</td>\n",
       "      <td>1.2592</td>\n",
       "      <td>5.6369</td>\n",
       "      <td>3.3022</td>\n",
       "      <td>9.1475</td>\n",
       "      <td>-2.6333</td>\n",
       "      <td>-4.2128</td>\n",
       "      <td>-1.6299</td>\n",
       "      <td>2.0286</td>\n",
       "      <td>-0.8353</td>\n",
       "      <td>1.6972</td>\n",
       "      <td>0.8595</td>\n",
       "      <td>-1.2020</td>\n",
       "      <td>0.8101</td>\n",
       "      <td>0.9430</td>\n",
       "      <td>0.0220</td>\n",
       "      <td>-1.4227</td>\n",
       "      <td>-0.5284</td>\n",
       "      <td>-0.1036</td>\n",
       "      <td>-0.2711</td>\n",
       "    </tr>\n",
       "    <tr>\n",
       "      <th>1</th>\n",
       "      <td>-0.1667</td>\n",
       "      <td>-1.4642</td>\n",
       "      <td>2.2295</td>\n",
       "      <td>-0.3048</td>\n",
       "      <td>-0.6392</td>\n",
       "      <td>0.0936</td>\n",
       "      <td>0.5209</td>\n",
       "      <td>0.0283</td>\n",
       "      <td>-0.7977</td>\n",
       "      <td>-0.8404</td>\n",
       "      <td>-1.7016</td>\n",
       "      <td>-0.7144</td>\n",
       "      <td>0.2332</td>\n",
       "      <td>0.1806</td>\n",
       "      <td>-0.3077</td>\n",
       "      <td>1.0426</td>\n",
       "      <td>-0.7058</td>\n",
       "      <td>-0.8325</td>\n",
       "      <td>2.7860</td>\n",
       "      <td>0.8163</td>\n",
       "      <td>1.3763</td>\n",
       "      <td>-1.7318</td>\n",
       "      <td>-0.2360</td>\n",
       "      <td>-1.6356</td>\n",
       "      <td>-0.8112</td>\n",
       "      <td>-0.7262</td>\n",
       "      <td>-1.8063</td>\n",
       "      <td>-1.6072</td>\n",
       "      <td>-0.2412</td>\n",
       "      <td>-3.5309</td>\n",
       "      <td>-1.7384</td>\n",
       "      <td>-0.0498</td>\n",
       "      <td>1.0673</td>\n",
       "      <td>-0.6408</td>\n",
       "      <td>-0.0897</td>\n",
       "      <td>-0.4982</td>\n",
       "      <td>-0.5612</td>\n",
       "      <td>0.4642</td>\n",
       "      <td>-0.1810</td>\n",
       "      <td>-0.0563</td>\n",
       "      <td>0.1316</td>\n",
       "      <td>-0.0303</td>\n",
       "    </tr>\n",
       "    <tr>\n",
       "      <th>2</th>\n",
       "      <td>1.5797</td>\n",
       "      <td>-1.2952</td>\n",
       "      <td>-1.5571</td>\n",
       "      <td>0.4748</td>\n",
       "      <td>0.4993</td>\n",
       "      <td>-0.7850</td>\n",
       "      <td>2.4340</td>\n",
       "      <td>-0.6260</td>\n",
       "      <td>-1.0786</td>\n",
       "      <td>-0.7672</td>\n",
       "      <td>0.4069</td>\n",
       "      <td>1.7529</td>\n",
       "      <td>0.5180</td>\n",
       "      <td>-1.7669</td>\n",
       "      <td>-0.2011</td>\n",
       "      <td>0.2457</td>\n",
       "      <td>-0.7692</td>\n",
       "      <td>-3.2572</td>\n",
       "      <td>-1.2570</td>\n",
       "      <td>-1.2846</td>\n",
       "      <td>-1.4801</td>\n",
       "      <td>-5.4267</td>\n",
       "      <td>2.4971</td>\n",
       "      <td>0.6605</td>\n",
       "      <td>-0.2881</td>\n",
       "      <td>-6.0498</td>\n",
       "      <td>4.0474</td>\n",
       "      <td>10.5543</td>\n",
       "      <td>-5.5892</td>\n",
       "      <td>-0.3343</td>\n",
       "      <td>-6.7989</td>\n",
       "      <td>-1.2138</td>\n",
       "      <td>2.0709</td>\n",
       "      <td>-6.0758</td>\n",
       "      <td>4.4558</td>\n",
       "      <td>-0.1297</td>\n",
       "      <td>2.7148</td>\n",
       "      <td>-3.5948</td>\n",
       "      <td>-3.6074</td>\n",
       "      <td>0.4168</td>\n",
       "      <td>-2.8162</td>\n",
       "      <td>-0.1180</td>\n",
       "    </tr>\n",
       "    <tr>\n",
       "      <th>3</th>\n",
       "      <td>0.9790</td>\n",
       "      <td>-0.1033</td>\n",
       "      <td>2.3545</td>\n",
       "      <td>-0.1615</td>\n",
       "      <td>-0.0507</td>\n",
       "      <td>0.1741</td>\n",
       "      <td>-0.7323</td>\n",
       "      <td>0.5273</td>\n",
       "      <td>-0.5923</td>\n",
       "      <td>0.0839</td>\n",
       "      <td>0.0055</td>\n",
       "      <td>-0.7239</td>\n",
       "      <td>0.0549</td>\n",
       "      <td>0.0476</td>\n",
       "      <td>0.0815</td>\n",
       "      <td>-0.0209</td>\n",
       "      <td>-0.0653</td>\n",
       "      <td>0.0376</td>\n",
       "      <td>0.0999</td>\n",
       "      <td>0.0555</td>\n",
       "      <td>-0.0462</td>\n",
       "      <td>-0.0051</td>\n",
       "      <td>-0.0312</td>\n",
       "      <td>0.0468</td>\n",
       "      <td>-0.0175</td>\n",
       "      <td>0.0246</td>\n",
       "      <td>0.0131</td>\n",
       "      <td>-0.0049</td>\n",
       "      <td>0.0052</td>\n",
       "      <td>-0.0067</td>\n",
       "      <td>-0.0078</td>\n",
       "      <td>-0.0217</td>\n",
       "      <td>-0.0154</td>\n",
       "      <td>-0.0013</td>\n",
       "      <td>-0.0058</td>\n",
       "      <td>0.0294</td>\n",
       "      <td>0.0176</td>\n",
       "      <td>0.0001</td>\n",
       "      <td>-0.0092</td>\n",
       "      <td>0.0043</td>\n",
       "      <td>-0.0053</td>\n",
       "      <td>-0.0023</td>\n",
       "    </tr>\n",
       "    <tr>\n",
       "      <th>4</th>\n",
       "      <td>1.8347</td>\n",
       "      <td>1.5852</td>\n",
       "      <td>2.3200</td>\n",
       "      <td>0.0606</td>\n",
       "      <td>1.8658</td>\n",
       "      <td>1.3801</td>\n",
       "      <td>1.6545</td>\n",
       "      <td>-0.9150</td>\n",
       "      <td>0.5305</td>\n",
       "      <td>-0.2443</td>\n",
       "      <td>-1.8954</td>\n",
       "      <td>1.9706</td>\n",
       "      <td>2.9655</td>\n",
       "      <td>1.4869</td>\n",
       "      <td>-3.3694</td>\n",
       "      <td>2.8370</td>\n",
       "      <td>-0.7195</td>\n",
       "      <td>2.9226</td>\n",
       "      <td>-2.4602</td>\n",
       "      <td>-0.2250</td>\n",
       "      <td>-2.5853</td>\n",
       "      <td>-1.1179</td>\n",
       "      <td>0.6235</td>\n",
       "      <td>0.3454</td>\n",
       "      <td>-1.7919</td>\n",
       "      <td>0.2929</td>\n",
       "      <td>0.1323</td>\n",
       "      <td>-0.2158</td>\n",
       "      <td>-0.0672</td>\n",
       "      <td>-0.7219</td>\n",
       "      <td>0.3161</td>\n",
       "      <td>-0.3052</td>\n",
       "      <td>-0.1286</td>\n",
       "      <td>0.3263</td>\n",
       "      <td>-0.0131</td>\n",
       "      <td>0.3689</td>\n",
       "      <td>0.1323</td>\n",
       "      <td>-0.0589</td>\n",
       "      <td>-0.1471</td>\n",
       "      <td>-0.0527</td>\n",
       "      <td>0.0559</td>\n",
       "      <td>0.0205</td>\n",
       "    </tr>\n",
       "  </tbody>\n",
       "</table>\n",
       "</div>"
      ],
      "text/plain": [
       "    pca_0   pca_1   pca_2   pca_3   pca_4   pca_5   pca_6   pca_7   pca_8  \\\n",
       "0  4.1683 -2.3549  3.7939  0.3824 -1.2244  1.3062  5.6039 -0.0533  0.1377   \n",
       "1 -0.1667 -1.4642  2.2295 -0.3048 -0.6392  0.0936  0.5209  0.0283 -0.7977   \n",
       "2  1.5797 -1.2952 -1.5571  0.4748  0.4993 -0.7850  2.4340 -0.6260 -1.0786   \n",
       "3  0.9790 -0.1033  2.3545 -0.1615 -0.0507  0.1741 -0.7323  0.5273 -0.5923   \n",
       "4  1.8347  1.5852  2.3200  0.0606  1.8658  1.3801  1.6545 -0.9150  0.5305   \n",
       "\n",
       "    pca_9  pca_10  pca_11  pca_12  pca_13  pca_14  pca_15  pca_16  pca_17  \\\n",
       "0 -2.6792 -2.9456  1.8904 -2.2343 -2.9486 -2.0256  2.2055  0.5814 -4.5275   \n",
       "1 -0.8404 -1.7016 -0.7144  0.2332  0.1806 -0.3077  1.0426 -0.7058 -0.8325   \n",
       "2 -0.7672  0.4069  1.7529  0.5180 -1.7669 -0.2011  0.2457 -0.7692 -3.2572   \n",
       "3  0.0839  0.0055 -0.7239  0.0549  0.0476  0.0815 -0.0209 -0.0653  0.0376   \n",
       "4 -0.2443 -1.8954  1.9706  2.9655  1.4869 -3.3694  2.8370 -0.7195  2.9226   \n",
       "\n",
       "   pca_18  pca_19  pca_20  pca_21  pca_22  pca_23  pca_24  pca_25  pca_26  \\\n",
       "0 -0.8728  1.0885  4.0563  1.5469 -3.1492  1.2592  5.6369  3.3022  9.1475   \n",
       "1  2.7860  0.8163  1.3763 -1.7318 -0.2360 -1.6356 -0.8112 -0.7262 -1.8063   \n",
       "2 -1.2570 -1.2846 -1.4801 -5.4267  2.4971  0.6605 -0.2881 -6.0498  4.0474   \n",
       "3  0.0999  0.0555 -0.0462 -0.0051 -0.0312  0.0468 -0.0175  0.0246  0.0131   \n",
       "4 -2.4602 -0.2250 -2.5853 -1.1179  0.6235  0.3454 -1.7919  0.2929  0.1323   \n",
       "\n",
       "   pca_27  pca_28  pca_29  pca_30  pca_31  pca_32  pca_33  pca_34  pca_35  \\\n",
       "0 -2.6333 -4.2128 -1.6299  2.0286 -0.8353  1.6972  0.8595 -1.2020  0.8101   \n",
       "1 -1.6072 -0.2412 -3.5309 -1.7384 -0.0498  1.0673 -0.6408 -0.0897 -0.4982   \n",
       "2 10.5543 -5.5892 -0.3343 -6.7989 -1.2138  2.0709 -6.0758  4.4558 -0.1297   \n",
       "3 -0.0049  0.0052 -0.0067 -0.0078 -0.0217 -0.0154 -0.0013 -0.0058  0.0294   \n",
       "4 -0.2158 -0.0672 -0.7219  0.3161 -0.3052 -0.1286  0.3263 -0.0131  0.3689   \n",
       "\n",
       "   pca_36  pca_37  pca_38  pca_39  pca_40  pca_41  \n",
       "0  0.9430  0.0220 -1.4227 -0.5284 -0.1036 -0.2711  \n",
       "1 -0.5612  0.4642 -0.1810 -0.0563  0.1316 -0.0303  \n",
       "2  2.7148 -3.5948 -3.6074  0.4168 -2.8162 -0.1180  \n",
       "3  0.0176  0.0001 -0.0092  0.0043 -0.0053 -0.0023  \n",
       "4  0.1323 -0.0589 -0.1471 -0.0527  0.0559  0.0205  "
      ]
     },
     "execution_count": 1186,
     "metadata": {},
     "output_type": "execute_result"
    }
   ],
   "source": [
    "columns = ['pca_%i' % i for i in range(pca.n_components_)]\n",
    "df_pca = pd.DataFrame(pca.transform(data), columns=columns, index=df.index)\n",
    "df_pca.head()"
   ]
  },
  {
   "cell_type": "code",
   "execution_count": 1187,
   "metadata": {},
   "outputs": [],
   "source": [
    "for col in ['BuildingType','TotalGHGEmissions','SiteEnergyUse(kBtu)']:\n",
    "    df_pca[col]=df[col]\n",
    "    \n",
    "    \n",
    "    \n",
    "df_pca.to_csv('data/cleaned_and_normalized_pca.csv',index=False)"
   ]
  }
 ],
 "metadata": {
  "kernelspec": {
   "display_name": "Python 3",
   "language": "python",
   "name": "python3"
  },
  "language_info": {
   "codemirror_mode": {
    "name": "ipython",
    "version": 3
   },
   "file_extension": ".py",
   "mimetype": "text/x-python",
   "name": "python",
   "nbconvert_exporter": "python",
   "pygments_lexer": "ipython3",
   "version": "3.7.6"
  }
 },
 "nbformat": 4,
 "nbformat_minor": 4
}
