{
 "cells": [
  {
   "cell_type": "code",
   "execution_count": 107,
   "metadata": {},
   "outputs": [],
   "source": [
    "import pandas as pd\n",
    "import numpy as np\n",
    "import seaborn as sns\n",
    "import plotly.express as px\n",
    "import matplotlib.pyplot as plt\n",
    "from sklearn.impute import KNNImputer \n",
    "from functions import utils\n",
    "from scipy.stats import shapiro\n",
    "import math\n",
    "from functions import *\n",
    "from sklearn.preprocessing import OneHotEncoder, StandardScaler\n",
    "from sklearn.decomposition import PCA,KernelPCA"
   ]
  },
  {
   "cell_type": "code",
   "execution_count": 108,
   "metadata": {},
   "outputs": [
    {
     "data": {
      "text/plain": [
       "(3376, 46)"
      ]
     },
     "execution_count": 108,
     "metadata": {},
     "output_type": "execute_result"
    }
   ],
   "source": [
    "df=pd.read_csv('data/2016_Building_Energy_Benchmarking.csv')\n",
    "df.shape"
   ]
  },
  {
   "cell_type": "code",
   "execution_count": 109,
   "metadata": {},
   "outputs": [
    {
     "data": {
      "text/html": [
       "<div>\n",
       "<style scoped>\n",
       "    .dataframe tbody tr th:only-of-type {\n",
       "        vertical-align: middle;\n",
       "    }\n",
       "\n",
       "    .dataframe tbody tr th {\n",
       "        vertical-align: top;\n",
       "    }\n",
       "\n",
       "    .dataframe thead th {\n",
       "        text-align: right;\n",
       "    }\n",
       "</style>\n",
       "<table border=\"1\" class=\"dataframe\">\n",
       "  <thead>\n",
       "    <tr style=\"text-align: right;\">\n",
       "      <th></th>\n",
       "      <th>OSEBuildingID</th>\n",
       "      <th>DataYear</th>\n",
       "      <th>BuildingType</th>\n",
       "      <th>PrimaryPropertyType</th>\n",
       "      <th>PropertyName</th>\n",
       "      <th>Address</th>\n",
       "      <th>City</th>\n",
       "      <th>State</th>\n",
       "      <th>ZipCode</th>\n",
       "      <th>TaxParcelIdentificationNumber</th>\n",
       "      <th>...</th>\n",
       "      <th>Electricity(kWh)</th>\n",
       "      <th>Electricity(kBtu)</th>\n",
       "      <th>NaturalGas(therms)</th>\n",
       "      <th>NaturalGas(kBtu)</th>\n",
       "      <th>DefaultData</th>\n",
       "      <th>Comments</th>\n",
       "      <th>ComplianceStatus</th>\n",
       "      <th>Outlier</th>\n",
       "      <th>TotalGHGEmissions</th>\n",
       "      <th>GHGEmissionsIntensity</th>\n",
       "    </tr>\n",
       "  </thead>\n",
       "  <tbody>\n",
       "    <tr>\n",
       "      <th>0</th>\n",
       "      <td>1</td>\n",
       "      <td>2016</td>\n",
       "      <td>NonResidential</td>\n",
       "      <td>Hotel</td>\n",
       "      <td>Mayflower park hotel</td>\n",
       "      <td>405 Olive way</td>\n",
       "      <td>Seattle</td>\n",
       "      <td>WA</td>\n",
       "      <td>98101.0</td>\n",
       "      <td>0659000030</td>\n",
       "      <td>...</td>\n",
       "      <td>1.156514e+06</td>\n",
       "      <td>3946027.0</td>\n",
       "      <td>12764.52930</td>\n",
       "      <td>1276453.0</td>\n",
       "      <td>False</td>\n",
       "      <td>NaN</td>\n",
       "      <td>Compliant</td>\n",
       "      <td>NaN</td>\n",
       "      <td>249.98</td>\n",
       "      <td>2.83</td>\n",
       "    </tr>\n",
       "    <tr>\n",
       "      <th>1</th>\n",
       "      <td>2</td>\n",
       "      <td>2016</td>\n",
       "      <td>NonResidential</td>\n",
       "      <td>Hotel</td>\n",
       "      <td>Paramount Hotel</td>\n",
       "      <td>724 Pine street</td>\n",
       "      <td>Seattle</td>\n",
       "      <td>WA</td>\n",
       "      <td>98101.0</td>\n",
       "      <td>0659000220</td>\n",
       "      <td>...</td>\n",
       "      <td>9.504252e+05</td>\n",
       "      <td>3242851.0</td>\n",
       "      <td>51450.81641</td>\n",
       "      <td>5145082.0</td>\n",
       "      <td>False</td>\n",
       "      <td>NaN</td>\n",
       "      <td>Compliant</td>\n",
       "      <td>NaN</td>\n",
       "      <td>295.86</td>\n",
       "      <td>2.86</td>\n",
       "    </tr>\n",
       "    <tr>\n",
       "      <th>2</th>\n",
       "      <td>3</td>\n",
       "      <td>2016</td>\n",
       "      <td>NonResidential</td>\n",
       "      <td>Hotel</td>\n",
       "      <td>5673-The Westin Seattle</td>\n",
       "      <td>1900 5th Avenue</td>\n",
       "      <td>Seattle</td>\n",
       "      <td>WA</td>\n",
       "      <td>98101.0</td>\n",
       "      <td>0659000475</td>\n",
       "      <td>...</td>\n",
       "      <td>1.451544e+07</td>\n",
       "      <td>49526664.0</td>\n",
       "      <td>14938.00000</td>\n",
       "      <td>1493800.0</td>\n",
       "      <td>False</td>\n",
       "      <td>NaN</td>\n",
       "      <td>Compliant</td>\n",
       "      <td>NaN</td>\n",
       "      <td>2089.28</td>\n",
       "      <td>2.19</td>\n",
       "    </tr>\n",
       "    <tr>\n",
       "      <th>3</th>\n",
       "      <td>5</td>\n",
       "      <td>2016</td>\n",
       "      <td>NonResidential</td>\n",
       "      <td>Hotel</td>\n",
       "      <td>HOTEL MAX</td>\n",
       "      <td>620 STEWART ST</td>\n",
       "      <td>Seattle</td>\n",
       "      <td>WA</td>\n",
       "      <td>98101.0</td>\n",
       "      <td>0659000640</td>\n",
       "      <td>...</td>\n",
       "      <td>8.115253e+05</td>\n",
       "      <td>2768924.0</td>\n",
       "      <td>18112.13086</td>\n",
       "      <td>1811213.0</td>\n",
       "      <td>False</td>\n",
       "      <td>NaN</td>\n",
       "      <td>Compliant</td>\n",
       "      <td>NaN</td>\n",
       "      <td>286.43</td>\n",
       "      <td>4.67</td>\n",
       "    </tr>\n",
       "    <tr>\n",
       "      <th>4</th>\n",
       "      <td>8</td>\n",
       "      <td>2016</td>\n",
       "      <td>NonResidential</td>\n",
       "      <td>Hotel</td>\n",
       "      <td>WARWICK SEATTLE HOTEL (ID8)</td>\n",
       "      <td>401 LENORA ST</td>\n",
       "      <td>Seattle</td>\n",
       "      <td>WA</td>\n",
       "      <td>98121.0</td>\n",
       "      <td>0659000970</td>\n",
       "      <td>...</td>\n",
       "      <td>1.573449e+06</td>\n",
       "      <td>5368607.0</td>\n",
       "      <td>88039.98438</td>\n",
       "      <td>8803998.0</td>\n",
       "      <td>False</td>\n",
       "      <td>NaN</td>\n",
       "      <td>Compliant</td>\n",
       "      <td>NaN</td>\n",
       "      <td>505.01</td>\n",
       "      <td>2.88</td>\n",
       "    </tr>\n",
       "  </tbody>\n",
       "</table>\n",
       "<p>5 rows × 46 columns</p>\n",
       "</div>"
      ],
      "text/plain": [
       "   OSEBuildingID  DataYear    BuildingType PrimaryPropertyType  \\\n",
       "0              1      2016  NonResidential               Hotel   \n",
       "1              2      2016  NonResidential               Hotel   \n",
       "2              3      2016  NonResidential               Hotel   \n",
       "3              5      2016  NonResidential               Hotel   \n",
       "4              8      2016  NonResidential               Hotel   \n",
       "\n",
       "                  PropertyName          Address     City State  ZipCode  \\\n",
       "0         Mayflower park hotel    405 Olive way  Seattle    WA  98101.0   \n",
       "1              Paramount Hotel  724 Pine street  Seattle    WA  98101.0   \n",
       "2      5673-The Westin Seattle  1900 5th Avenue  Seattle    WA  98101.0   \n",
       "3                    HOTEL MAX   620 STEWART ST  Seattle    WA  98101.0   \n",
       "4  WARWICK SEATTLE HOTEL (ID8)    401 LENORA ST  Seattle    WA  98121.0   \n",
       "\n",
       "  TaxParcelIdentificationNumber  ...  Electricity(kWh) Electricity(kBtu)  \\\n",
       "0                    0659000030  ...      1.156514e+06         3946027.0   \n",
       "1                    0659000220  ...      9.504252e+05         3242851.0   \n",
       "2                    0659000475  ...      1.451544e+07        49526664.0   \n",
       "3                    0659000640  ...      8.115253e+05         2768924.0   \n",
       "4                    0659000970  ...      1.573449e+06         5368607.0   \n",
       "\n",
       "   NaturalGas(therms)  NaturalGas(kBtu)  DefaultData  Comments  \\\n",
       "0         12764.52930         1276453.0        False       NaN   \n",
       "1         51450.81641         5145082.0        False       NaN   \n",
       "2         14938.00000         1493800.0        False       NaN   \n",
       "3         18112.13086         1811213.0        False       NaN   \n",
       "4         88039.98438         8803998.0        False       NaN   \n",
       "\n",
       "   ComplianceStatus  Outlier  TotalGHGEmissions  GHGEmissionsIntensity  \n",
       "0         Compliant      NaN             249.98                   2.83  \n",
       "1         Compliant      NaN             295.86                   2.86  \n",
       "2         Compliant      NaN            2089.28                   2.19  \n",
       "3         Compliant      NaN             286.43                   4.67  \n",
       "4         Compliant      NaN             505.01                   2.88  \n",
       "\n",
       "[5 rows x 46 columns]"
      ]
     },
     "execution_count": 109,
     "metadata": {},
     "output_type": "execute_result"
    }
   ],
   "source": [
    "df.head()"
   ]
  },
  {
   "cell_type": "code",
   "execution_count": 110,
   "metadata": {},
   "outputs": [
    {
     "data": {
      "text/plain": [
       "(1546, 46)"
      ]
     },
     "execution_count": 110,
     "metadata": {},
     "output_type": "execute_result"
    }
   ],
   "source": [
    "## sélection des batiments non résidentiels et \n",
    "## répondant aux  exigences d'analyse comparative énergétique pour l'année de déclaration en cours.\n",
    "df=df[(df['ComplianceStatus']=='Compliant')&(~df['BuildingType'].str.contains('Multifamily')) & (~df['PrimaryPropertyType'].str.contains('Multifamily'))]\n",
    "df.shape\n"
   ]
  },
  {
   "cell_type": "code",
   "execution_count": 111,
   "metadata": {},
   "outputs": [
    {
     "data": {
      "text/html": [
       "<div>\n",
       "<style scoped>\n",
       "    .dataframe tbody tr th:only-of-type {\n",
       "        vertical-align: middle;\n",
       "    }\n",
       "\n",
       "    .dataframe tbody tr th {\n",
       "        vertical-align: top;\n",
       "    }\n",
       "\n",
       "    .dataframe thead th {\n",
       "        text-align: right;\n",
       "    }\n",
       "</style>\n",
       "<table border=\"1\" class=\"dataframe\">\n",
       "  <thead>\n",
       "    <tr style=\"text-align: right;\">\n",
       "      <th></th>\n",
       "      <th>OSEBuildingID</th>\n",
       "      <th>DataYear</th>\n",
       "      <th>BuildingType</th>\n",
       "      <th>PrimaryPropertyType</th>\n",
       "      <th>PropertyName</th>\n",
       "      <th>Address</th>\n",
       "      <th>City</th>\n",
       "      <th>State</th>\n",
       "      <th>ZipCode</th>\n",
       "      <th>TaxParcelIdentificationNumber</th>\n",
       "      <th>...</th>\n",
       "      <th>Electricity(kWh)</th>\n",
       "      <th>Electricity(kBtu)</th>\n",
       "      <th>NaturalGas(therms)</th>\n",
       "      <th>NaturalGas(kBtu)</th>\n",
       "      <th>DefaultData</th>\n",
       "      <th>Comments</th>\n",
       "      <th>ComplianceStatus</th>\n",
       "      <th>Outlier</th>\n",
       "      <th>TotalGHGEmissions</th>\n",
       "      <th>GHGEmissionsIntensity</th>\n",
       "    </tr>\n",
       "  </thead>\n",
       "  <tbody>\n",
       "  </tbody>\n",
       "</table>\n",
       "<p>0 rows × 46 columns</p>\n",
       "</div>"
      ],
      "text/plain": [
       "Empty DataFrame\n",
       "Columns: [OSEBuildingID, DataYear, BuildingType, PrimaryPropertyType, PropertyName, Address, City, State, ZipCode, TaxParcelIdentificationNumber, CouncilDistrictCode, Neighborhood, Latitude, Longitude, YearBuilt, NumberofBuildings, NumberofFloors, PropertyGFATotal, PropertyGFAParking, PropertyGFABuilding(s), ListOfAllPropertyUseTypes, LargestPropertyUseType, LargestPropertyUseTypeGFA, SecondLargestPropertyUseType, SecondLargestPropertyUseTypeGFA, ThirdLargestPropertyUseType, ThirdLargestPropertyUseTypeGFA, YearsENERGYSTARCertified, ENERGYSTARScore, SiteEUI(kBtu/sf), SiteEUIWN(kBtu/sf), SourceEUI(kBtu/sf), SourceEUIWN(kBtu/sf), SiteEnergyUse(kBtu), SiteEnergyUseWN(kBtu), SteamUse(kBtu), Electricity(kWh), Electricity(kBtu), NaturalGas(therms), NaturalGas(kBtu), DefaultData, Comments, ComplianceStatus, Outlier, TotalGHGEmissions, GHGEmissionsIntensity]\n",
       "Index: []\n",
       "\n",
       "[0 rows x 46 columns]"
      ]
     },
     "execution_count": 111,
     "metadata": {},
     "output_type": "execute_result"
    }
   ],
   "source": [
    "## recherche de doublons\n",
    "df['OSEBuildingID']=df['OSEBuildingID'].astype(str)\n",
    "df['Latitude']=df['Latitude'].astype(str)\n",
    "df['Longitude']=df['Longitude'].astype(str)\n",
    "\n",
    "duplicate = df[df.duplicated('OSEBuildingID')]\n",
    "duplicate ## aucun doublon\n"
   ]
  },
  {
   "cell_type": "markdown",
   "metadata": {},
   "source": [
    "# Partie 1 nettoyage des colonnes"
   ]
  },
  {
   "cell_type": "markdown",
   "metadata": {},
   "source": [
    "### 1-1 <u>Suppression des colonnes avec taux de complétion inférieur à 50%</u>"
   ]
  },
  {
   "cell_type": "code",
   "execution_count": 112,
   "metadata": {},
   "outputs": [
    {
     "data": {
      "text/plain": [
       "(1546, 46)"
      ]
     },
     "execution_count": 112,
     "metadata": {},
     "output_type": "execute_result"
    }
   ],
   "source": [
    "## variables comportant plus de 50% de valeurs manquantes\n",
    "na_df=utils.columns_na_percentage(df)\n",
    "na_columns=na_df[na_df['na_rate_percent']>=50] ## 7 colonnes ont plus de 50% de valeurs nulles\n",
    "na_columns\n",
    "df.shape"
   ]
  },
  {
   "cell_type": "code",
   "execution_count": 113,
   "metadata": {},
   "outputs": [
    {
     "data": {
      "image/png": "[encoded data removed]",
      "text/plain": [
       "<Figure size 1440x720 with 1 Axes>"
      ]
     },
     "metadata": {
      "needs_background": "light"
     },
     "output_type": "display_data"
    }
   ],
   "source": [
    "utils.draw_completion(df,12)"
   ]
  },
  {
   "cell_type": "code",
   "execution_count": 114,
   "metadata": {},
   "outputs": [
    {
     "data": {
      "text/plain": [
       "(1546, 41)"
      ]
     },
     "execution_count": 114,
     "metadata": {},
     "output_type": "execute_result"
    }
   ],
   "source": [
    "## suppression des colonnes ayant plus 50% de valeurs nulles\n",
    "df.drop(columns=na_columns['Column'].tolist(),axis=1,inplace=True)\n",
    "df.shape"
   ]
  },
  {
   "cell_type": "markdown",
   "metadata": {},
   "source": [
    "### 1-2 <u>Sélection des variables qualitatives</u>"
   ]
  },
  {
   "cell_type": "code",
   "execution_count": 115,
   "metadata": {},
   "outputs": [
    {
     "data": {
      "text/plain": [
       "OSEBuildingID                     0.000000\n",
       "BuildingType                      0.000000\n",
       "PrimaryPropertyType               0.000000\n",
       "PropertyName                      0.000000\n",
       "Address                           0.000000\n",
       "City                              0.000000\n",
       "State                             0.000000\n",
       "TaxParcelIdentificationNumber     0.000000\n",
       "Neighborhood                      0.000000\n",
       "Latitude                          0.000000\n",
       "Longitude                         0.000000\n",
       "ListOfAllPropertyUseTypes         0.000000\n",
       "LargestPropertyUseType            0.258732\n",
       "SecondLargestPropertyUseType     45.601552\n",
       "ComplianceStatus                  0.000000\n",
       "dtype: float64"
      ]
     },
     "execution_count": 115,
     "metadata": {},
     "output_type": "execute_result"
    }
   ],
   "source": [
    "numeric_columns=df.select_dtypes(exclude=['object']).columns.tolist()\n",
    "categorical_columns=df.select_dtypes(include=['object']).columns.tolist()\n",
    "df[categorical_columns].isnull().sum()/len(df)*100"
   ]
  },
  {
   "cell_type": "code",
   "execution_count": 116,
   "metadata": {},
   "outputs": [
    {
     "name": "stderr",
     "output_type": "stream",
     "text": [
      "/home/amadou/anaconda3/lib/python3.7/site-packages/matplotlib/collections.py:857: RuntimeWarning:\n",
      "\n",
      "invalid value encountered in sqrt\n",
      "\n"
     ]
    },
    {
     "data": {
      "image/png": "[encoded data removed]",
      "text/plain": [
       "<Figure size 1440x720 with 2 Axes>"
      ]
     },
     "metadata": {
      "needs_background": "light"
     },
     "output_type": "display_data"
    }
   ],
   "source": [
    "df['lat'] = df['Latitude'].astype(float)\n",
    "df['lng'] = df['Longitude'].astype(float)\n",
    "df.plot(kind=\"scatter\", x=\"lat\", y=\"lng\", \n",
    "            s=df['TotalGHGEmissions'], label=\"TotalGHGEmissions\",\n",
    "            c=\"SiteEUI(kBtu/sf)\", cmap=plt.get_cmap(\"jet\"), colorbar=True,\n",
    "            figsize=(20,10))\n",
    "plt.show()"
   ]
  },
  {
   "cell_type": "code",
   "execution_count": 117,
   "metadata": {},
   "outputs": [
    {
     "data": {
      "image/png": "[encoded data removed]",
      "text/plain": [
       "<Figure size 1440x720 with 2 Axes>"
      ]
     },
     "metadata": {
      "needs_background": "light"
     },
     "output_type": "display_data"
    }
   ],
   "source": [
    "df.plot(kind=\"scatter\", x=\"lat\", y=\"lng\", alpha=0.4,\n",
    "            s=df[\"TotalGHGEmissions\"], label=\"SiteEUI(kBtu/sf)\",\n",
    "            c=\"SiteEUI(kBtu/sf)\", cmap=plt.get_cmap(\"jet\"), colorbar=True,\n",
    "            figsize=(20,10))\n",
    "plt.show()"
   ]
  },
  {
   "cell_type": "code",
   "execution_count": 118,
   "metadata": {},
   "outputs": [],
   "source": [
    "relevant_categorical_columns=[\n",
    "    'OSEBuildingID',\n",
    "    'BuildingType',\n",
    "    'PrimaryPropertyType',\n",
    "    'PropertyName',\n",
    "    'Neighborhood'\n",
    "    \n",
    "]"
   ]
  },
  {
   "cell_type": "markdown",
   "metadata": {},
   "source": [
    "### 1-3 <u>Sélection des variables quantitatives</u>"
   ]
  },
  {
   "cell_type": "code",
   "execution_count": 119,
   "metadata": {},
   "outputs": [
    {
     "data": {
      "text/plain": [
       "DataYear                            0.000000\n",
       "ZipCode                             0.840880\n",
       "CouncilDistrictCode                 0.000000\n",
       "YearBuilt                           0.000000\n",
       "NumberofBuildings                   0.000000\n",
       "NumberofFloors                      0.000000\n",
       "PropertyGFATotal                    0.000000\n",
       "PropertyGFAParking                  0.000000\n",
       "PropertyGFABuilding(s)              0.000000\n",
       "LargestPropertyUseTypeGFA           0.258732\n",
       "SecondLargestPropertyUseTypeGFA    45.601552\n",
       "ENERGYSTARScore                    35.575679\n",
       "SiteEUI(kBtu/sf)                    0.000000\n",
       "SiteEUIWN(kBtu/sf)                  0.064683\n",
       "SourceEUI(kBtu/sf)                  0.000000\n",
       "SourceEUIWN(kBtu/sf)                0.000000\n",
       "SiteEnergyUse(kBtu)                 0.000000\n",
       "SiteEnergyUseWN(kBtu)               0.064683\n",
       "SteamUse(kBtu)                      0.000000\n",
       "Electricity(kWh)                    0.000000\n",
       "Electricity(kBtu)                   0.000000\n",
       "NaturalGas(therms)                  0.000000\n",
       "NaturalGas(kBtu)                    0.000000\n",
       "DefaultData                         0.000000\n",
       "TotalGHGEmissions                   0.000000\n",
       "GHGEmissionsIntensity               0.000000\n",
       "lat                                 0.000000\n",
       "lng                                 0.000000\n",
       "dtype: float64"
      ]
     },
     "execution_count": 119,
     "metadata": {},
     "output_type": "execute_result"
    }
   ],
   "source": [
    "numeric_columns=df.select_dtypes(exclude=['object']).columns.tolist()\n",
    "df[numeric_columns].isnull().sum()/len(df)*100"
   ]
  },
  {
   "cell_type": "code",
   "execution_count": 120,
   "metadata": {},
   "outputs": [],
   "source": [
    "relevant_numeric_columns=[\n",
    "    'GHGEmissionsIntensity',\n",
    "    'TotalGHGEmissions',\n",
    "    'NaturalGas(kBtu)',\n",
    "    'Electricity(kBtu)',\n",
    "    'SteamUse(kBtu)',\n",
    "    'SiteEnergyUse(kBtu)',\n",
    "    'SourceEUI(kBtu/sf)',\n",
    "   \n",
    "    'ENERGYSTARScore',\n",
    "   'PropertyGFATotal',\n",
    "    'NumberofFloors',\n",
    "    'NumberofBuildings',\n",
    "    'YearBuilt'\n",
    "]\n",
    " "
   ]
  },
  {
   "cell_type": "code",
   "execution_count": 121,
   "metadata": {},
   "outputs": [
    {
     "data": {
      "text/plain": [
       "(1546, 17)"
      ]
     },
     "execution_count": 121,
     "metadata": {},
     "output_type": "execute_result"
    }
   ],
   "source": [
    "df=df[relevant_categorical_columns+relevant_numeric_columns]\n",
    "df.shape"
   ]
  },
  {
   "cell_type": "markdown",
   "metadata": {},
   "source": [
    "# Partie 2 nettoyage des lignes"
   ]
  },
  {
   "cell_type": "code",
   "execution_count": 122,
   "metadata": {},
   "outputs": [
    {
     "name": "stdout",
     "output_type": "stream",
     "text": [
      "columns with negative values ['GHGEmissionsIntensity', 'TotalGHGEmissions', 'Electricity(kBtu)']\n"
     ]
    },
    {
     "name": "stderr",
     "output_type": "stream",
     "text": [
      "/home/amadou/anaconda3/lib/python3.7/site-packages/pandas/core/frame.py:3997: SettingWithCopyWarning:\n",
      "\n",
      "\n",
      "A value is trying to be set on a copy of a slice from a DataFrame\n",
      "\n",
      "See the caveats in the documentation: https://pandas.pydata.org/pandas-docs/stable/user_guide/indexing.html#returning-a-view-versus-a-copy\n",
      "\n"
     ]
    },
    {
     "data": {
      "text/plain": [
       "(1545, 17)"
      ]
     },
     "execution_count": 122,
     "metadata": {},
     "output_type": "execute_result"
    }
   ],
   "source": [
    "## identification et suppression des valeurs numériques négatives sauf pour les colonnes latitude et longitude\n",
    "negative_cols=[]\n",
    "\n",
    "for col in relevant_numeric_columns:\n",
    "    if len(df[df[col]<0])>0:\n",
    "        negative_cols.append(col)\n",
    "\n",
    "print('columns with negative values',negative_cols)\n",
    "for col in negative_cols:\n",
    "    df.drop(index=df.loc[df[col]<0,col].index,inplace=True)\n",
    "\n",
    "df.shape"
   ]
  },
  {
   "cell_type": "markdown",
   "metadata": {},
   "source": [
    "# Partie 3 analyse de la multicolinéarité des variables quantitatives"
   ]
  },
  {
   "cell_type": "markdown",
   "metadata": {},
   "source": [
    "## 3-1 matrice de corrélation"
   ]
  },
  {
   "cell_type": "code",
   "execution_count": 123,
   "metadata": {},
   "outputs": [
    {
     "data": {
      "image/png": "[encoded data removed]",
      "text/plain": [
       "<Figure size 1008x1008 with 2 Axes>"
      ]
     },
     "metadata": {
      "needs_background": "light"
     },
     "output_type": "display_data"
    }
   ],
   "source": [
    "cols=[item for item in relevant_numeric_columns if item!='YearBuilt']\n",
    "utils.show_correlation_matrix(df,cols)"
   ]
  },
  {
   "cell_type": "code",
   "execution_count": 124,
   "metadata": {},
   "outputs": [
    {
     "name": "stdout",
     "output_type": "stream",
     "text": [
      "Electricity(kBtu)      SiteEnergyUse(kBtu)    0.956264\n",
      "                       PropertyGFATotal       0.868560\n",
      "TotalGHGEmissions      SiteEnergyUse(kBtu)    0.860011\n",
      "SiteEnergyUse(kBtu)    PropertyGFATotal       0.809619\n",
      "Electricity(kBtu)      NumberofBuildings      0.759651\n",
      "PropertyGFATotal       NumberofBuildings      0.740139\n",
      "TotalGHGEmissions      NaturalGas(kBtu)       0.725563\n",
      "SiteEnergyUse(kBtu)    NumberofBuildings      0.714177\n",
      "TotalGHGEmissions      Electricity(kBtu)      0.686515\n",
      "                       SteamUse(kBtu)         0.684055\n",
      "SteamUse(kBtu)         SiteEnergyUse(kBtu)    0.605255\n",
      "Electricity(kBtu)      SteamUse(kBtu)         0.548153\n",
      "TotalGHGEmissions      PropertyGFATotal       0.527081\n",
      "GHGEmissionsIntensity  SourceEUI(kBtu/sf)     0.512910\n",
      "NaturalGas(kBtu)       SiteEnergyUse(kBtu)    0.503097\n",
      "dtype: float64\n"
     ]
    }
   ],
   "source": [
    "utils.corr_matrix(df,relevant_numeric_columns,0.5) ##threshold"
   ]
  },
  {
   "cell_type": "code",
   "execution_count": 125,
   "metadata": {},
   "outputs": [],
   "source": [
    "numeric_col_to_remove=['Electricity(kBtu)','SourceEUI(kBtu/sf)']\n",
    "\n",
    "for col in numeric_col_to_remove:\n",
    "    relevant_numeric_columns.remove(col)"
   ]
  },
  {
   "cell_type": "code",
   "execution_count": 126,
   "metadata": {},
   "outputs": [
    {
     "data": {
      "text/plain": [
       "(1545, 15)"
      ]
     },
     "execution_count": 126,
     "metadata": {},
     "output_type": "execute_result"
    }
   ],
   "source": [
    "df=df[relevant_categorical_columns+relevant_numeric_columns]\n",
    "df.shape"
   ]
  },
  {
   "cell_type": "code",
   "execution_count": 127,
   "metadata": {},
   "outputs": [
    {
     "data": {
      "text/plain": [
       "array([  1.,   3.,   0.,   2.,   4.,  27.,   6.,  11.,  14.,   9.,   7.,\n",
       "         5.,   8.,  23.,  10., 111.])"
      ]
     },
     "execution_count": 127,
     "metadata": {},
     "output_type": "execute_result"
    }
   ],
   "source": [
    "df['NumberofBuildings'].unique()"
   ]
  },
  {
   "cell_type": "markdown",
   "metadata": {},
   "source": [
    "# Partie 4 Identification des valeurs aberrantes par IQR"
   ]
  },
  {
   "cell_type": "code",
   "execution_count": 128,
   "metadata": {
    "scrolled": true
   },
   "outputs": [
    {
     "data": {
      "image/png": "[encoded data removed]",
      "text/plain": [
       "<Figure size 1440x720 with 1 Axes>"
      ]
     },
     "metadata": {
      "needs_background": "light"
     },
     "output_type": "display_data"
    }
   ],
   "source": [
    "\n",
    "#df[numeric_columns_2].describe()\n",
    "\n",
    "## afin de détecter d'éventuelles valeurs aberrantes, \n",
    "## nous traçons les boxplot pour  chaque variable nutnumérique\n",
    "\n",
    "## boxplot\n",
    "from matplotlib import rcParams\n",
    "\n",
    "rcParams['figure.figsize'] = 20,10\n",
    "g=sns.boxplot(data=df[[item for item in relevant_numeric_columns if item!='YearBuilt']])\n",
    "g.set_yscale(\"log\")\n",
    "\n",
    "## présence de plusieurs valeurs aberrantes "
   ]
  },
  {
   "cell_type": "code",
   "execution_count": 129,
   "metadata": {},
   "outputs": [
    {
     "data": {
      "text/html": [
       "<div>\n",
       "<style scoped>\n",
       "    .dataframe tbody tr th:only-of-type {\n",
       "        vertical-align: middle;\n",
       "    }\n",
       "\n",
       "    .dataframe tbody tr th {\n",
       "        vertical-align: top;\n",
       "    }\n",
       "\n",
       "    .dataframe thead th {\n",
       "        text-align: right;\n",
       "    }\n",
       "</style>\n",
       "<table border=\"1\" class=\"dataframe\">\n",
       "  <thead>\n",
       "    <tr style=\"text-align: right;\">\n",
       "      <th></th>\n",
       "      <th>GHGEmissionsIntensity</th>\n",
       "      <th>TotalGHGEmissions</th>\n",
       "      <th>NaturalGas(kBtu)</th>\n",
       "      <th>SteamUse(kBtu)</th>\n",
       "      <th>SiteEnergyUse(kBtu)</th>\n",
       "      <th>ENERGYSTARScore</th>\n",
       "      <th>PropertyGFATotal</th>\n",
       "      <th>NumberofFloors</th>\n",
       "      <th>NumberofBuildings</th>\n",
       "      <th>YearBuilt</th>\n",
       "    </tr>\n",
       "  </thead>\n",
       "  <tbody>\n",
       "    <tr>\n",
       "      <th>count</th>\n",
       "      <td>1545.000000</td>\n",
       "      <td>1545.000000</td>\n",
       "      <td>1.545000e+03</td>\n",
       "      <td>1.545000e+03</td>\n",
       "      <td>1.545000e+03</td>\n",
       "      <td>995.000000</td>\n",
       "      <td>1.545000e+03</td>\n",
       "      <td>1545.000000</td>\n",
       "      <td>1545.000000</td>\n",
       "      <td>1545.000000</td>\n",
       "    </tr>\n",
       "    <tr>\n",
       "      <th>mean</th>\n",
       "      <td>1.670052</td>\n",
       "      <td>193.951748</td>\n",
       "      <td>2.042091e+06</td>\n",
       "      <td>5.522533e+05</td>\n",
       "      <td>8.873302e+06</td>\n",
       "      <td>63.631156</td>\n",
       "      <td>1.214443e+05</td>\n",
       "      <td>4.276375</td>\n",
       "      <td>1.179288</td>\n",
       "      <td>1961.598706</td>\n",
       "    </tr>\n",
       "    <tr>\n",
       "      <th>std</th>\n",
       "      <td>2.409113</td>\n",
       "      <td>779.822704</td>\n",
       "      <td>9.719712e+06</td>\n",
       "      <td>5.724004e+06</td>\n",
       "      <td>3.133457e+07</td>\n",
       "      <td>28.813765</td>\n",
       "      <td>3.065798e+05</td>\n",
       "      <td>6.787055</td>\n",
       "      <td>3.042162</td>\n",
       "      <td>32.874577</td>\n",
       "    </tr>\n",
       "    <tr>\n",
       "      <th>min</th>\n",
       "      <td>0.000000</td>\n",
       "      <td>0.000000</td>\n",
       "      <td>0.000000e+00</td>\n",
       "      <td>0.000000e+00</td>\n",
       "      <td>5.713320e+04</td>\n",
       "      <td>1.000000</td>\n",
       "      <td>1.128500e+04</td>\n",
       "      <td>0.000000</td>\n",
       "      <td>0.000000</td>\n",
       "      <td>1900.000000</td>\n",
       "    </tr>\n",
       "    <tr>\n",
       "      <th>25%</th>\n",
       "      <td>0.360000</td>\n",
       "      <td>20.660000</td>\n",
       "      <td>0.000000e+00</td>\n",
       "      <td>0.000000e+00</td>\n",
       "      <td>1.252324e+06</td>\n",
       "      <td>44.000000</td>\n",
       "      <td>2.884100e+04</td>\n",
       "      <td>1.000000</td>\n",
       "      <td>1.000000</td>\n",
       "      <td>1930.000000</td>\n",
       "    </tr>\n",
       "    <tr>\n",
       "      <th>50%</th>\n",
       "      <td>0.890000</td>\n",
       "      <td>49.980000</td>\n",
       "      <td>4.910900e+05</td>\n",
       "      <td>0.000000e+00</td>\n",
       "      <td>2.735166e+06</td>\n",
       "      <td>71.000000</td>\n",
       "      <td>4.813900e+04</td>\n",
       "      <td>2.000000</td>\n",
       "      <td>1.000000</td>\n",
       "      <td>1965.000000</td>\n",
       "    </tr>\n",
       "    <tr>\n",
       "      <th>75%</th>\n",
       "      <td>1.960000</td>\n",
       "      <td>147.490000</td>\n",
       "      <td>1.531185e+06</td>\n",
       "      <td>0.000000e+00</td>\n",
       "      <td>7.305474e+06</td>\n",
       "      <td>88.000000</td>\n",
       "      <td>1.079300e+05</td>\n",
       "      <td>4.000000</td>\n",
       "      <td>1.000000</td>\n",
       "      <td>1989.000000</td>\n",
       "    </tr>\n",
       "    <tr>\n",
       "      <th>max</th>\n",
       "      <td>34.090000</td>\n",
       "      <td>16870.980000</td>\n",
       "      <td>2.979090e+08</td>\n",
       "      <td>1.349435e+08</td>\n",
       "      <td>8.739237e+08</td>\n",
       "      <td>100.000000</td>\n",
       "      <td>9.320156e+06</td>\n",
       "      <td>99.000000</td>\n",
       "      <td>111.000000</td>\n",
       "      <td>2015.000000</td>\n",
       "    </tr>\n",
       "  </tbody>\n",
       "</table>\n",
       "</div>"
      ],
      "text/plain": [
       "       GHGEmissionsIntensity  TotalGHGEmissions  NaturalGas(kBtu)  \\\n",
       "count            1545.000000        1545.000000      1.545000e+03   \n",
       "mean                1.670052         193.951748      2.042091e+06   \n",
       "std                 2.409113         779.822704      9.719712e+06   \n",
       "min                 0.000000           0.000000      0.000000e+00   \n",
       "25%                 0.360000          20.660000      0.000000e+00   \n",
       "50%                 0.890000          49.980000      4.910900e+05   \n",
       "75%                 1.960000         147.490000      1.531185e+06   \n",
       "max                34.090000       16870.980000      2.979090e+08   \n",
       "\n",
       "       SteamUse(kBtu)  SiteEnergyUse(kBtu)  ENERGYSTARScore  PropertyGFATotal  \\\n",
       "count    1.545000e+03         1.545000e+03       995.000000      1.545000e+03   \n",
       "mean     5.522533e+05         8.873302e+06        63.631156      1.214443e+05   \n",
       "std      5.724004e+06         3.133457e+07        28.813765      3.065798e+05   \n",
       "min      0.000000e+00         5.713320e+04         1.000000      1.128500e+04   \n",
       "25%      0.000000e+00         1.252324e+06        44.000000      2.884100e+04   \n",
       "50%      0.000000e+00         2.735166e+06        71.000000      4.813900e+04   \n",
       "75%      0.000000e+00         7.305474e+06        88.000000      1.079300e+05   \n",
       "max      1.349435e+08         8.739237e+08       100.000000      9.320156e+06   \n",
       "\n",
       "       NumberofFloors  NumberofBuildings    YearBuilt  \n",
       "count     1545.000000        1545.000000  1545.000000  \n",
       "mean         4.276375           1.179288  1961.598706  \n",
       "std          6.787055           3.042162    32.874577  \n",
       "min          0.000000           0.000000  1900.000000  \n",
       "25%          1.000000           1.000000  1930.000000  \n",
       "50%          2.000000           1.000000  1965.000000  \n",
       "75%          4.000000           1.000000  1989.000000  \n",
       "max         99.000000         111.000000  2015.000000  "
      ]
     },
     "execution_count": 129,
     "metadata": {},
     "output_type": "execute_result"
    }
   ],
   "source": [
    "df[relevant_numeric_columns].describe()"
   ]
  },
  {
   "cell_type": "code",
   "execution_count": 130,
   "metadata": {},
   "outputs": [
    {
     "name": "stdout",
     "output_type": "stream",
     "text": [
      "5470\n"
     ]
    }
   ],
   "source": [
    "\n",
    "outliers=[]\n",
    "group_by_col= 'BuildingType'#'BuildingType'\n",
    "name='OSEBuildingID'\n",
    "relevant_cols_iqr=[item for item in relevant_numeric_columns if item!='YearBuilt' and item!=group_by_col \n",
    "                  and item!='NumberofBuildings'\n",
    "                  ]\n",
    " \n",
    "\n",
    "for category in df[group_by_col].unique():\n",
    "    for col in relevant_cols_iqr:\n",
    "        data=df[df[group_by_col]==category][[col,name,group_by_col]]\n",
    "        if len(data)>0:\n",
    "            result=utils.find_outliers(df,col,name)\n",
    "            outliers+=result\n",
    "            #print('result',type(result))\n",
    "            \n",
    "        \n",
    "        \n",
    " \n",
    "\n",
    "print(len(outliers)) ## si on se réfère au type de batiment non résidentiel , il y a 6720 valeurs aberrantes"
   ]
  },
  {
   "cell_type": "code",
   "execution_count": 131,
   "metadata": {},
   "outputs": [
    {
     "data": {
      "text/plain": [
       "array([  1.,   3.,   0.,   2.,   4.,  27.,   6.,  11.,  14.,   9.,   7.,\n",
       "         5.,   8.,  23.,  10., 111.])"
      ]
     },
     "execution_count": 131,
     "metadata": {},
     "output_type": "execute_result"
    }
   ],
   "source": [
    "df['NumberofBuildings'].unique()"
   ]
  },
  {
   "cell_type": "code",
   "execution_count": 132,
   "metadata": {},
   "outputs": [
    {
     "name": "stdout",
     "output_type": "stream",
     "text": [
      "outliers_names ['5', '15', '17', '19', '24', '27', '43', '60', '84', '85', '96', '147', '338', '198', '224', '233', '268', '276', '282', '314', '318', '365', '381', '389', '401', '410', '466', '469', '477', '480', '487', '518', '525', '557', '558', '23854', '588', '607', '682', '683', '738', '743', '753', '828', '829', '19491', '19584', '19742', '19847', '19896', '19900', '20325', '20415', '20428', '20439', '20474', '20506', '20565', '20885', '20970', '20978', '21117', '21218', '21364', '21418', '21433', '21435', '21443', '21482', '21549', '21613', '21905', '21921', '22139', '22142', '22230', '22479', '22672', '22801', '23064', '23071', '23098', '23113', '23120', '23228', '23310', '23416', '23419', '23503', '23976', '24479', '24493', '24646', '24857', '24994', '25250', '25251', '25452', '25457', '25461', '25709', '25914', '25932', '25955', '25965', '26157', '26473', '26529', '26728', '26933', '26986', '27162', '27378', '27668', '27821', '27830', '28029', '28086', '32429', '33548', '34891', '40034', '41928', '45287', '45927', '49709', '49725', '49732', '49775', '49918', '49940', '50069', '50208', '50212', '50224', '3', '8', '12', '15', '16', '18', '19', '22', '23', '25', '26', '27', '30', '43', '60', '63', '84', '85', '89', '96', '102', '103', '104', '106', '107', '112', '114', '138', '145', '147', '172', '187', '338', '194', '198', '211', '224', '235', '245', '249', '250', '261', '267', '268', '276', '282', '295', '313', '314', '315', '316', '318', '327', '329', '333', '343', '353', '355', '357', '358', '381', '383', '385', '386', '387', '388', '389', '399', '401', '402', '410', '415', '422', '432', '439', '440', '457', '464', '465', '466', '470', '475', '477', '480', '487', '488', '494', '498', '518', '525', '532', '557', '23854', '588', '602', '603', '604', '637', '640', '651', '656', '657', '659', '677', '683', '696', '738', '743', '752', '753', '775', '755', '764', '765', '779', '805', '828', '829', '839', '841', '19584', '19900', '20372', '20885', '20978', '21364', '21399', '21435', '21549', '21741', '22062', '22240', '23071', '23113', '23310', '23311', '23622', '24086', '24857', '25222', '25250', '25251', '25452', '25914', '25955', '25965', '25992', '26157', '26986', '27378', '27673', '27821', '33548', '40028', '45927', '48287', '49705', '49709', '49725', '49732', '49775', '49783', '49865', '49918', '49926', '49940', '49967', '49979', '50094', '2', '8', '9', '12', '15', '18', '23', '26', '27', '30', '32', '33', '43', '54', '56', '60', '63', '66', '84', '85', '89', '95', '102', '107', '114', '120', '138', '147', '172', '338', '194', '195', '198', '220', '224', '225', '232', '235', '245', '249', '250', '261', '267', '268', '282', '313', '314', '315', '316', '317', '318', '353', '358', '359', '381', '383', '389', '411', '415', '419', '441', '457', '464', '466', '467', '469', '470', '475', '477', '480', '487', '488', '494', '498', '500', '518', '532', '543', '557', '558', '568', '575', '23854', '585', '588', '602', '603', '604', '607', '640', '651', '657', '682', '683', '689', '696', '738', '743', '775', '805', '828', '829', '839', '841', '843', '847', '848', '867', '19584', '19900', '20565', '20885', '20970', '20978', '21313', '21399', '21435', '21549', '21741', '22062', '22240', '22479', '22672', '22801', '23071', '23113', '23228', '23368', '23503', '23622', '24086', '24493', '24646', '24769', '24857', '24908', '24994', '25222', '25250', '25251', '25452', '25461', '25914', '25955', '25965', '25992', '26157', '26930', '26986', '27378', '27668', '27673', '27821', '28086', '33548', '37008', '40028', '40447', '41928', '48287', '49705', '49709', '49732', '49738', '49775', '49783', '49865', '49918', '49979', '50094', '50208', '50212', '50224', '1', '3', '5', '11', '15', '16', '17', '18', '19', '21', '22', '24', '25', '63', '96', '103', '104', '106', '110', '112', '145', '187', '276', '294', '319', '327', '330', '333', '335', '339', '341', '343', '347', '349', '352', '355', '356', '383', '385', '386', '387', '389', '399', '401', '403', '408', '410', '411', '413', '414', '415', '422', '429', '432', '433', '434', '436', '437', '466', '525', '612', '615', '616', '656', '659', '661', '677', '678', '712', '752', '755', '760', '765', '771', '779', '828', '19853', '19895', '20073', '20372', '20397', '20398', '21115', '21116', '21117', '21322', '21364', '21366', '21367', '21418', '21432', '21436', '21464', '21465', '21469', '23297', '23310', '23311', '23313', '23404', '25069', '25540', '25657', '25658', '25745', '26602', '27244', '32429', '45927', '49725', '49926', '49940', '49967', '3', '16', '18', '21', '23', '26', '27', '43', '46', '63', '84', '85', '89', '102', '103', '106', '107', '112', '114', '147', '172', '338', '194', '198', '211', '245', '249', '261', '267', '268', '276', '295', '313', '314', '315', '316', '324', '326', '327', '328', '329', '334', '336', '337', '341', '343', '345', '346', '349', '351', '353', '354', '355', '357', '358', '364', '365', '370', '372', '373', '375', '379', '383', '386', '387', '388', '389', '398', '399', '401', '402', '406', '410', '415', '422', '423', '424', '432', '433', '434', '438', '439', '440', '449', '464', '465', '466', '467', '470', '475', '477', '480', '487', '488', '494', '498', '518', '525', '532', '553', '556', '569', '588', '602', '603', '634', '637', '640', '651', '656', '657', '658', '659', '661', '683', '696', '703', '710', '732', '738', '742', '743', '750', '751', '753', '775', '755', '758', '764', '766', '767', '772', '803', '828', '841', '854', '858', '1281', '19900', '21399', '21425', '21435', '21741', '22062', '23071', '23113', '23311', '23622', '24086', '25222', '25251', '25955', '25965', '25992', '26157', '27673', '45927', '48287', '49695', '49705', '49709', '49725', '49732', '49780', '49783', '49865', '49926', '49940', '49967', '49972', '50031', '50094', '3', '16', '18', '21', '23', '26', '27', '43', '46', '56', '63', '100', '102', '103', '106', '107', '112', '114', '138', '145', '147', '172', '185', '187', '338', '194', '198', '211', '220', '225', '245', '249', '261', '263', '267', '268', '276', '295', '316', '324', '326', '327', '328', '329', '333', '334', '336', '337', '341', '342', '343', '345', '346', '349', '351', '353', '354', '355', '357', '358', '360', '364', '370', '371', '372', '373', '375', '376', '379', '383', '385', '386', '387', '388', '389', '390', '398', '399', '401', '402', '406', '410', '415', '421', '422', '423', '424', '427', '432', '433', '437', '438', '439', '443', '465', '470', '473', '475', '476', '477', '482', '488', '498', '500', '507', '508', '523', '524', '526', '532', '774', '561', '562', '568', '569', '574', '588', '597', '634', '637', '640', '657', '658', '659', '661', '674', '677', '685', '690', '692', '708', '710', '742', '744', '750', '751', '753', '775', '754', '755', '758', '764', '767', '772', '780', '796', '801', '804', '805', '807', '814', '815', '861', '828', '831', '854', '858', '21399', '21533', '21741', '22062', '23071', '23113', '23311', '23622', '24086', '24769', '25222', '25251', '25528', '25992', '27145', '27673', '29550', '29552', '37008', '40028', '49695', '49705', '49725', '49732', '49776', '49783', '49865', '49867', '49926', '49940', '49967', '49985', '50031', '50037', '50045', '50054', '50094', '1', '2', '3', '5', '8', '10', '12', '15', '16', '17', '18', '19', '21', '23', '25', '26', '27', '33', '56', '62', '63', '107', '338', '198', '250', '282', '294', '295', '324', '326', '327', '328', '329', '330', '331', '333', '334', '335', '336', '337', '341', '342', '343', '345', '346', '349', '351', '352', '353', '354', '355', '357', '358', '360', '364', '370', '371', '372', '373', '383', '386', '387', '388', '389', '399', '401', '402', '403', '406', '408', '410', '411', '413', '414', '415', '417', '422', '423', '424', '425', '427', '428', '429', '432', '436', '438', '538', '774', '569', '604', '658', '659', '661', '674', '677', '685', '690', '751', '752', '753', '775', '754', '755', '760', '764', '765', '766', '767', '771', '772', '779', '814', '815', '828', '20323', '20372', '20397', '21611', '21741', '23368', '23410', '25222', '25528', '25965', '25992', '27673', '29550', '29551', '29552', '32429', '33289', '49695', '49776', '50031', '50035', '50037', '50045', '50054', '5', '15', '17', '19', '24', '27', '43', '60', '84', '85', '96', '147', '338', '198', '224', '233', '268', '276', '282', '314', '318', '365', '381', '389', '401', '410', '466', '469', '477', '480', '487', '518', '525', '557', '558', '23854', '588', '607', '682', '683', '738', '743', '753', '828', '829', '19491', '19584', '19742', '19847', '19896', '19900', '20325', '20415', '20428', '20439', '20474', '20506', '20565', '20885', '20970', '20978', '21117', '21218', '21364', '21418', '21433', '21435', '21443', '21482', '21549', '21613', '21905', '21921', '22139', '22142', '22230', '22479', '22672', '22801', '23064', '23071', '23098', '23113', '23120', '23228', '23310', '23416', '23419', '23503', '23976', '24479', '24493', '24646', '24857', '24994', '25250', '25251', '25452', '25457', '25461', '25709', '25914', '25932', '25955', '25965', '26157', '26473', '26529', '26728', '26933', '26986', '27162', '27378', '27668', '27821', '27830', '28029', '28086', '32429', '33548', '34891', '40034', '41928', '45287', '45927', '49709', '49725', '49732', '49775', '49918', '49940', '50069', '50208', '50212', '50224', '3', '8', '12', '15', '16', '18', '19', '22', '23', '25', '26', '27', '30', '43', '60', '63', '84', '85', '89', '96', '102', '103', '104', '106', '107', '112', '114', '138', '145', '147', '172', '187', '338', '194', '198', '211', '224', '235', '245', '249', '250', '261', '267', '268', '276', '282', '295', '313', '314', '315', '316', '318', '327', '329', '333', '343', '353', '355', '357', '358', '381', '383', '385', '386', '387', '388', '389', '399', '401', '402', '410', '415', '422', '432', '439', '440', '457', '464', '465', '466', '470', '475', '477', '480', '487', '488', '494', '498', '518', '525', '532', '557', '23854', '588', '602', '603', '604', '637', '640', '651', '656', '657', '659', '677', '683', '696', '738', '743', '752', '753', '775', '755', '764', '765', '779', '805', '828', '829', '839', '841', '19584', '19900', '20372', '20885', '20978', '21364', '21399', '21435', '21549', '21741', '22062', '22240', '23071', '23113', '23310', '23311', '23622', '24086', '24857', '25222', '25250', '25251', '25452', '25914', '25955', '25965', '25992', '26157', '26986', '27378', '27673', '27821', '33548', '40028', '45927', '48287', '49705', '49709', '49725', '49732', '49775', '49783', '49865', '49918', '49926', '49940', '49967', '49979', '50094', '2', '8', '9', '12', '15', '18', '23', '26', '27', '30', '32', '33', '43', '54', '56', '60', '63', '66', '84', '85', '89', '95', '102', '107', '114', '120', '138', '147', '172', '338', '194', '195', '198', '220', '224', '225', '232', '235', '245', '249', '250', '261', '267', '268', '282', '313', '314', '315', '316', '317', '318', '353', '358', '359', '381', '383', '389', '411', '415', '419', '441', '457', '464', '466', '467', '469', '470', '475', '477', '480', '487', '488', '494', '498', '500', '518', '532', '543', '557', '558', '568', '575', '23854', '585', '588', '602', '603', '604', '607', '640', '651', '657', '682', '683', '689', '696', '738', '743', '775', '805', '828', '829', '839', '841', '843', '847', '848', '867', '19584', '19900', '20565', '20885', '20970', '20978', '21313', '21399', '21435', '21549', '21741', '22062', '22240', '22479', '22672', '22801', '23071', '23113', '23228', '23368', '23503', '23622', '24086', '24493', '24646', '24769', '24857', '24908', '24994', '25222', '25250', '25251', '25452', '25461', '25914', '25955', '25965', '25992', '26157', '26930', '26986', '27378', '27668', '27673', '27821', '28086', '33548', '37008', '40028', '40447', '41928', '48287', '49705', '49709', '49732', '49738', '49775', '49783', '49865', '49918', '49979', '50094', '50208', '50212', '50224', '1', '3', '5', '11', '15', '16', '17', '18', '19', '21', '22', '24', '25', '63', '96', '103', '104', '106', '110', '112', '145', '187', '276', '294', '319', '327', '330', '333', '335', '339', '341', '343', '347', '349', '352', '355', '356', '383', '385', '386', '387', '389', '399', '401', '403', '408', '410', '411', '413', '414', '415', '422', '429', '432', '433', '434', '436', '437', '466', '525', '612', '615', '616', '656', '659', '661', '677', '678', '712', '752', '755', '760', '765', '771', '779', '828', '19853', '19895', '20073', '20372', '20397', '20398', '21115', '21116', '21117', '21322', '21364', '21366', '21367', '21418', '21432', '21436', '21464', '21465', '21469', '23297', '23310', '23311', '23313', '23404', '25069', '25540', '25657', '25658', '25745', '26602', '27244', '32429', '45927', '49725', '49926', '49940', '49967', '3', '16', '18', '21', '23', '26', '27', '43', '46', '63', '84', '85', '89', '102', '103', '106', '107', '112', '114', '147', '172', '338', '194', '198', '211', '245', '249', '261', '267', '268', '276', '295', '313', '314', '315', '316', '324', '326', '327', '328', '329', '334', '336', '337', '341', '343', '345', '346', '349', '351', '353', '354', '355', '357', '358', '364', '365', '370', '372', '373', '375', '379', '383', '386', '387', '388', '389', '398', '399', '401', '402', '406', '410', '415', '422', '423', '424', '432', '433', '434', '438', '439', '440', '449', '464', '465', '466', '467', '470', '475', '477', '480', '487', '488', '494', '498', '518', '525', '532', '553', '556', '569', '588', '602', '603', '634', '637', '640', '651', '656', '657', '658', '659', '661', '683', '696', '703', '710', '732', '738', '742', '743', '750', '751', '753', '775', '755', '758', '764', '766', '767', '772', '803', '828', '841', '854', '858', '1281', '19900', '21399', '21425', '21435', '21741', '22062', '23071', '23113', '23311', '23622', '24086', '25222', '25251', '25955', '25965', '25992', '26157', '27673', '45927', '48287', '49695', '49705', '49709', '49725', '49732', '49780', '49783', '49865', '49926', '49940', '49967', '49972', '50031', '50094', '3', '16', '18', '21', '23', '26', '27', '43', '46', '56', '63', '100', '102', '103', '106', '107', '112', '114', '138', '145', '147', '172', '185', '187', '338', '194', '198', '211', '220', '225', '245', '249', '261', '263', '267', '268', '276', '295', '316', '324', '326', '327', '328', '329', '333', '334', '336', '337', '341', '342', '343', '345', '346', '349', '351', '353', '354', '355', '357', '358', '360', '364', '370', '371', '372', '373', '375', '376', '379', '383', '385', '386', '387', '388', '389', '390', '398', '399', '401', '402', '406', '410', '415', '421', '422', '423', '424', '427', '432', '433', '437', '438', '439', '443', '465', '470', '473', '475', '476', '477', '482', '488', '498', '500', '507', '508', '523', '524', '526', '532', '774', '561', '562', '568', '569', '574', '588', '597', '634', '637', '640', '657', '658', '659', '661', '674', '677', '685', '690', '692', '708', '710', '742', '744', '750', '751', '753', '775', '754', '755', '758', '764', '767', '772', '780', '796', '801', '804', '805', '807', '814', '815', '861', '828', '831', '854', '858', '21399', '21533', '21741', '22062', '23071', '23113', '23311', '23622', '24086', '24769', '25222', '25251', '25528', '25992', '27145', '27673', '29550', '29552', '37008', '40028', '49695', '49705', '49725', '49732', '49776', '49783', '49865', '49867', '49926', '49940', '49967', '49985', '50031', '50037', '50045', '50054', '50094', '1', '2', '3', '5', '8', '10', '12', '15', '16', '17', '18', '19', '21', '23', '25', '26', '27', '33', '56', '62', '63', '107', '338', '198', '250', '282', '294', '295', '324', '326', '327', '328', '329', '330', '331', '333', '334', '335', '336', '337', '341', '342', '343', '345', '346', '349', '351', '352', '353', '354', '355', '357', '358', '360', '364', '370', '371', '372', '373', '383', '386', '387', '388', '389', '399', '401', '402', '403', '406', '408', '410', '411', '413', '414', '415', '417', '422', '423', '424', '425', '427', '428', '429', '432', '436', '438', '538', '774', '569', '604', '658', '659', '661', '674', '677', '685', '690', '751', '752', '753', '775', '754', '755', '760', '764', '765', '766', '767', '771', '772', '779', '814', '815', '828', '20323', '20372', '20397', '21611', '21741', '23368', '23410', '25222', '25528', '25965', '25992', '27673', '29550', '29551', '29552', '32429', '33289', '49695', '49776', '50031', '50035', '50037', '50045', '50054', '5', '15', '17', '19', '24', '27', '43', '60', '84', '85', '96', '147', '338', '198', '224', '233', '268', '276', '282', '314', '318', '365', '381', '389', '401', '410', '466', '469', '477', '480', '487', '518', '525', '557', '558', '23854', '588', '607', '682', '683', '738', '743', '753', '828', '829', '19491', '19584', '19742', '19847', '19896', '19900', '20325', '20415', '20428', '20439', '20474', '20506', '20565', '20885', '20970', '20978', '21117', '21218', '21364', '21418', '21433', '21435', '21443', '21482', '21549', '21613', '21905', '21921', '22139', '22142', '22230', '22479', '22672', '22801', '23064', '23071', '23098', '23113', '23120', '23228', '23310', '23416', '23419', '23503', '23976', '24479', '24493', '24646', '24857', '24994', '25250', '25251', '25452', '25457', '25461', '25709', '25914', '25932', '25955', '25965', '26157', '26473', '26529', '26728', '26933', '26986', '27162', '27378', '27668', '27821', '27830', '28029', '28086', '32429', '33548', '34891', '40034', '41928', '45287', '45927', '49709', '49725', '49732', '49775', '49918', '49940', '50069', '50208', '50212', '50224', '3', '8', '12', '15', '16', '18', '19', '22', '23', '25', '26', '27', '30', '43', '60', '63', '84', '85', '89', '96', '102', '103', '104', '106', '107', '112', '114', '138', '145', '147', '172', '187', '338', '194', '198', '211', '224', '235', '245', '249', '250', '261', '267', '268', '276', '282', '295', '313', '314', '315', '316', '318', '327', '329', '333', '343', '353', '355', '357', '358', '381', '383', '385', '386', '387', '388', '389', '399', '401', '402', '410', '415', '422', '432', '439', '440', '457', '464', '465', '466', '470', '475', '477', '480', '487', '488', '494', '498', '518', '525', '532', '557', '23854', '588', '602', '603', '604', '637', '640', '651', '656', '657', '659', '677', '683', '696', '738', '743', '752', '753', '775', '755', '764', '765', '779', '805', '828', '829', '839', '841', '19584', '19900', '20372', '20885', '20978', '21364', '21399', '21435', '21549', '21741', '22062', '22240', '23071', '23113', '23310', '23311', '23622', '24086', '24857', '25222', '25250', '25251', '25452', '25914', '25955', '25965', '25992', '26157', '26986', '27378', '27673', '27821', '33548', '40028', '45927', '48287', '49705', '49709', '49725', '49732', '49775', '49783', '49865', '49918', '49926', '49940', '49967', '49979', '50094', '2', '8', '9', '12', '15', '18', '23', '26', '27', '30', '32', '33', '43', '54', '56', '60', '63', '66', '84', '85', '89', '95', '102', '107', '114', '120', '138', '147', '172', '338', '194', '195', '198', '220', '224', '225', '232', '235', '245', '249', '250', '261', '267', '268', '282', '313', '314', '315', '316', '317', '318', '353', '358', '359', '381', '383', '389', '411', '415', '419', '441', '457', '464', '466', '467', '469', '470', '475', '477', '480', '487', '488', '494', '498', '500', '518', '532', '543', '557', '558', '568', '575', '23854', '585', '588', '602', '603', '604', '607', '640', '651', '657', '682', '683', '689', '696', '738', '743', '775', '805', '828', '829', '839', '841', '843', '847', '848', '867', '19584', '19900', '20565', '20885', '20970', '20978', '21313', '21399', '21435', '21549', '21741', '22062', '22240', '22479', '22672', '22801', '23071', '23113', '23228', '23368', '23503', '23622', '24086', '24493', '24646', '24769', '24857', '24908', '24994', '25222', '25250', '25251', '25452', '25461', '25914', '25955', '25965', '25992', '26157', '26930', '26986', '27378', '27668', '27673', '27821', '28086', '33548', '37008', '40028', '40447', '41928', '48287', '49705', '49709', '49732', '49738', '49775', '49783', '49865', '49918', '49979', '50094', '50208', '50212', '50224', '1', '3', '5', '11', '15', '16', '17', '18', '19', '21', '22', '24', '25', '63', '96', '103', '104', '106', '110', '112', '145', '187', '276', '294', '319', '327', '330', '333', '335', '339', '341', '343', '347', '349', '352', '355', '356', '383', '385', '386', '387', '389', '399', '401', '403', '408', '410', '411', '413', '414', '415', '422', '429', '432', '433', '434', '436', '437', '466', '525', '612', '615', '616', '656', '659', '661', '677', '678', '712', '752', '755', '760', '765', '771', '779', '828', '19853', '19895', '20073', '20372', '20397', '20398', '21115', '21116', '21117', '21322', '21364', '21366', '21367', '21418', '21432', '21436', '21464', '21465', '21469', '23297', '23310', '23311', '23313', '23404', '25069', '25540', '25657', '25658', '25745', '26602', '27244', '32429', '45927', '49725', '49926', '49940', '49967', '3', '16', '18', '21', '23', '26', '27', '43', '46', '63', '84', '85', '89', '102', '103', '106', '107', '112', '114', '147', '172', '338', '194', '198', '211', '245', '249', '261', '267', '268', '276', '295', '313', '314', '315', '316', '324', '326', '327', '328', '329', '334', '336', '337', '341', '343', '345', '346', '349', '351', '353', '354', '355', '357', '358', '364', '365', '370', '372', '373', '375', '379', '383', '386', '387', '388', '389', '398', '399', '401', '402', '406', '410', '415', '422', '423', '424', '432', '433', '434', '438', '439', '440', '449', '464', '465', '466', '467', '470', '475', '477', '480', '487', '488', '494', '498', '518', '525', '532', '553', '556', '569', '588', '602', '603', '634', '637', '640', '651', '656', '657', '658', '659', '661', '683', '696', '703', '710', '732', '738', '742', '743', '750', '751', '753', '775', '755', '758', '764', '766', '767', '772', '803', '828', '841', '854', '858', '1281', '19900', '21399', '21425', '21435', '21741', '22062', '23071', '23113', '23311', '23622', '24086', '25222', '25251', '25955', '25965', '25992', '26157', '27673', '45927', '48287', '49695', '49705', '49709', '49725', '49732', '49780', '49783', '49865', '49926', '49940', '49967', '49972', '50031', '50094', '3', '16', '18', '21', '23', '26', '27', '43', '46', '56', '63', '100', '102', '103', '106', '107', '112', '114', '138', '145', '147', '172', '185', '187', '338', '194', '198', '211', '220', '225', '245', '249', '261', '263', '267', '268', '276', '295', '316', '324', '326', '327', '328', '329', '333', '334', '336', '337', '341', '342', '343', '345', '346', '349', '351', '353', '354', '355', '357', '358', '360', '364', '370', '371', '372', '373', '375', '376', '379', '383', '385', '386', '387', '388', '389', '390', '398', '399', '401', '402', '406', '410', '415', '421', '422', '423', '424', '427', '432', '433', '437', '438', '439', '443', '465', '470', '473', '475', '476', '477', '482', '488', '498', '500', '507', '508', '523', '524', '526', '532', '774', '561', '562', '568', '569', '574', '588', '597', '634', '637', '640', '657', '658', '659', '661', '674', '677', '685', '690', '692', '708', '710', '742', '744', '750', '751', '753', '775', '754', '755', '758', '764', '767', '772', '780', '796', '801', '804', '805', '807', '814', '815', '861', '828', '831', '854', '858', '21399', '21533', '21741', '22062', '23071', '23113', '23311', '23622', '24086', '24769', '25222', '25251', '25528', '25992', '27145', '27673', '29550', '29552', '37008', '40028', '49695', '49705', '49725', '49732', '49776', '49783', '49865', '49867', '49926', '49940', '49967', '49985', '50031', '50037', '50045', '50054', '50094', '1', '2', '3', '5', '8', '10', '12', '15', '16', '17', '18', '19', '21', '23', '25', '26', '27', '33', '56', '62', '63', '107', '338', '198', '250', '282', '294', '295', '324', '326', '327', '328', '329', '330', '331', '333', '334', '335', '336', '337', '341', '342', '343', '345', '346', '349', '351', '352', '353', '354', '355', '357', '358', '360', '364', '370', '371', '372', '373', '383', '386', '387', '388', '389', '399', '401', '402', '403', '406', '408', '410', '411', '413', '414', '415', '417', '422', '423', '424', '425', '427', '428', '429', '432', '436', '438', '538', '774', '569', '604', '658', '659', '661', '674', '677', '685', '690', '751', '752', '753', '775', '754', '755', '760', '764', '765', '766', '767', '771', '772', '779', '814', '815', '828', '20323', '20372', '20397', '21611', '21741', '23368', '23410', '25222', '25528', '25965', '25992', '27673', '29550', '29551', '29552', '32429', '33289', '49695', '49776', '50031', '50035', '50037', '50045', '50054', '5', '15', '17', '19', '24', '27', '43', '60', '84', '85', '96', '147', '338', '198', '224', '233', '268', '276', '282', '314', '318', '365', '381', '389', '401', '410', '466', '469', '477', '480', '487', '518', '525', '557', '558', '23854', '588', '607', '682', '683', '738', '743', '753', '828', '829', '19491', '19584', '19742', '19847', '19896', '19900', '20325', '20415', '20428', '20439', '20474', '20506', '20565', '20885', '20970', '20978', '21117', '21218', '21364', '21418', '21433', '21435', '21443', '21482', '21549', '21613', '21905', '21921', '22139', '22142', '22230', '22479', '22672', '22801', '23064', '23071', '23098', '23113', '23120', '23228', '23310', '23416', '23419', '23503', '23976', '24479', '24493', '24646', '24857', '24994', '25250', '25251', '25452', '25457', '25461', '25709', '25914', '25932', '25955', '25965', '26157', '26473', '26529', '26728', '26933', '26986', '27162', '27378', '27668', '27821', '27830', '28029', '28086', '32429', '33548', '34891', '40034', '41928', '45287', '45927', '49709', '49725', '49732', '49775', '49918', '49940', '50069', '50208', '50212', '50224', '3', '8', '12', '15', '16', '18', '19', '22', '23', '25', '26', '27', '30', '43', '60', '63', '84', '85', '89', '96', '102', '103', '104', '106', '107', '112', '114', '138', '145', '147', '172', '187', '338', '194', '198', '211', '224', '235', '245', '249', '250', '261', '267', '268', '276', '282', '295', '313', '314', '315', '316', '318', '327', '329', '333', '343', '353', '355', '357', '358', '381', '383', '385', '386', '387', '388', '389', '399', '401', '402', '410', '415', '422', '432', '439', '440', '457', '464', '465', '466', '470', '475', '477', '480', '487', '488', '494', '498', '518', '525', '532', '557', '23854', '588', '602', '603', '604', '637', '640', '651', '656', '657', '659', '677', '683', '696', '738', '743', '752', '753', '775', '755', '764', '765', '779', '805', '828', '829', '839', '841', '19584', '19900', '20372', '20885', '20978', '21364', '21399', '21435', '21549', '21741', '22062', '22240', '23071', '23113', '23310', '23311', '23622', '24086', '24857', '25222', '25250', '25251', '25452', '25914', '25955', '25965', '25992', '26157', '26986', '27378', '27673', '27821', '33548', '40028', '45927', '48287', '49705', '49709', '49725', '49732', '49775', '49783', '49865', '49918', '49926', '49940', '49967', '49979', '50094', '2', '8', '9', '12', '15', '18', '23', '26', '27', '30', '32', '33', '43', '54', '56', '60', '63', '66', '84', '85', '89', '95', '102', '107', '114', '120', '138', '147', '172', '338', '194', '195', '198', '220', '224', '225', '232', '235', '245', '249', '250', '261', '267', '268', '282', '313', '314', '315', '316', '317', '318', '353', '358', '359', '381', '383', '389', '411', '415', '419', '441', '457', '464', '466', '467', '469', '470', '475', '477', '480', '487', '488', '494', '498', '500', '518', '532', '543', '557', '558', '568', '575', '23854', '585', '588', '602', '603', '604', '607', '640', '651', '657', '682', '683', '689', '696', '738', '743', '775', '805', '828', '829', '839', '841', '843', '847', '848', '867', '19584', '19900', '20565', '20885', '20970', '20978', '21313', '21399', '21435', '21549', '21741', '22062', '22240', '22479', '22672', '22801', '23071', '23113', '23228', '23368', '23503', '23622', '24086', '24493', '24646', '24769', '24857', '24908', '24994', '25222', '25250', '25251', '25452', '25461', '25914', '25955', '25965', '25992', '26157', '26930', '26986', '27378', '27668', '27673', '27821', '28086', '33548', '37008', '40028', '40447', '41928', '48287', '49705', '49709', '49732', '49738', '49775', '49783', '49865', '49918', '49979', '50094', '50208', '50212', '50224', '1', '3', '5', '11', '15', '16', '17', '18', '19', '21', '22', '24', '25', '63', '96', '103', '104', '106', '110', '112', '145', '187', '276', '294', '319', '327', '330', '333', '335', '339', '341', '343', '347', '349', '352', '355', '356', '383', '385', '386', '387', '389', '399', '401', '403', '408', '410', '411', '413', '414', '415', '422', '429', '432', '433', '434', '436', '437', '466', '525', '612', '615', '616', '656', '659', '661', '677', '678', '712', '752', '755', '760', '765', '771', '779', '828', '19853', '19895', '20073', '20372', '20397', '20398', '21115', '21116', '21117', '21322', '21364', '21366', '21367', '21418', '21432', '21436', '21464', '21465', '21469', '23297', '23310', '23311', '23313', '23404', '25069', '25540', '25657', '25658', '25745', '26602', '27244', '32429', '45927', '49725', '49926', '49940', '49967', '3', '16', '18', '21', '23', '26', '27', '43', '46', '63', '84', '85', '89', '102', '103', '106', '107', '112', '114', '147', '172', '338', '194', '198', '211', '245', '249', '261', '267', '268', '276', '295', '313', '314', '315', '316', '324', '326', '327', '328', '329', '334', '336', '337', '341', '343', '345', '346', '349', '351', '353', '354', '355', '357', '358', '364', '365', '370', '372', '373', '375', '379', '383', '386', '387', '388', '389', '398', '399', '401', '402', '406', '410', '415', '422', '423', '424', '432', '433', '434', '438', '439', '440', '449', '464', '465', '466', '467', '470', '475', '477', '480', '487', '488', '494', '498', '518', '525', '532', '553', '556', '569', '588', '602', '603', '634', '637', '640', '651', '656', '657', '658', '659', '661', '683', '696', '703', '710', '732', '738', '742', '743', '750', '751', '753', '775', '755', '758', '764', '766', '767', '772', '803', '828', '841', '854', '858', '1281', '19900', '21399', '21425', '21435', '21741', '22062', '23071', '23113', '23311', '23622', '24086', '25222', '25251', '25955', '25965', '25992', '26157', '27673', '45927', '48287', '49695', '49705', '49709', '49725', '49732', '49780', '49783', '49865', '49926', '49940', '49967', '49972', '50031', '50094', '3', '16', '18', '21', '23', '26', '27', '43', '46', '56', '63', '100', '102', '103', '106', '107', '112', '114', '138', '145', '147', '172', '185', '187', '338', '194', '198', '211', '220', '225', '245', '249', '261', '263', '267', '268', '276', '295', '316', '324', '326', '327', '328', '329', '333', '334', '336', '337', '341', '342', '343', '345', '346', '349', '351', '353', '354', '355', '357', '358', '360', '364', '370', '371', '372', '373', '375', '376', '379', '383', '385', '386', '387', '388', '389', '390', '398', '399', '401', '402', '406', '410', '415', '421', '422', '423', '424', '427', '432', '433', '437', '438', '439', '443', '465', '470', '473', '475', '476', '477', '482', '488', '498', '500', '507', '508', '523', '524', '526', '532', '774', '561', '562', '568', '569', '574', '588', '597', '634', '637', '640', '657', '658', '659', '661', '674', '677', '685', '690', '692', '708', '710', '742', '744', '750', '751', '753', '775', '754', '755', '758', '764', '767', '772', '780', '796', '801', '804', '805', '807', '814', '815', '861', '828', '831', '854', '858', '21399', '21533', '21741', '22062', '23071', '23113', '23311', '23622', '24086', '24769', '25222', '25251', '25528', '25992', '27145', '27673', '29550', '29552', '37008', '40028', '49695', '49705', '49725', '49732', '49776', '49783', '49865', '49867', '49926', '49940', '49967', '49985', '50031', '50037', '50045', '50054', '50094', '1', '2', '3', '5', '8', '10', '12', '15', '16', '17', '18', '19', '21', '23', '25', '26', '27', '33', '56', '62', '63', '107', '338', '198', '250', '282', '294', '295', '324', '326', '327', '328', '329', '330', '331', '333', '334', '335', '336', '337', '341', '342', '343', '345', '346', '349', '351', '352', '353', '354', '355', '357', '358', '360', '364', '370', '371', '372', '373', '383', '386', '387', '388', '389', '399', '401', '402', '403', '406', '408', '410', '411', '413', '414', '415', '417', '422', '423', '424', '425', '427', '428', '429', '432', '436', '438', '538', '774', '569', '604', '658', '659', '661', '674', '677', '685', '690', '751', '752', '753', '775', '754', '755', '760', '764', '765', '766', '767', '771', '772', '779', '814', '815', '828', '20323', '20372', '20397', '21611', '21741', '23368', '23410', '25222', '25528', '25965', '25992', '27673', '29550', '29551', '29552', '32429', '33289', '49695', '49776', '50031', '50035', '50037', '50045', '50054', '5', '15', '17', '19', '24', '27', '43', '60', '84', '85', '96', '147', '338', '198', '224', '233', '268', '276', '282', '314', '318', '365', '381', '389', '401', '410', '466', '469', '477', '480', '487', '518', '525', '557', '558', '23854', '588', '607', '682', '683', '738', '743', '753', '828', '829', '19491', '19584', '19742', '19847', '19896', '19900', '20325', '20415', '20428', '20439', '20474', '20506', '20565', '20885', '20970', '20978', '21117', '21218', '21364', '21418', '21433', '21435', '21443', '21482', '21549', '21613', '21905', '21921', '22139', '22142', '22230', '22479', '22672', '22801', '23064', '23071', '23098', '23113', '23120', '23228', '23310', '23416', '23419', '23503', '23976', '24479', '24493', '24646', '24857', '24994', '25250', '25251', '25452', '25457', '25461', '25709', '25914', '25932', '25955', '25965', '26157', '26473', '26529', '26728', '26933', '26986', '27162', '27378', '27668', '27821', '27830', '28029', '28086', '32429', '33548', '34891', '40034', '41928', '45287', '45927', '49709', '49725', '49732', '49775', '49918', '49940', '50069', '50208', '50212', '50224', '3', '8', '12', '15', '16', '18', '19', '22', '23', '25', '26', '27', '30', '43', '60', '63', '84', '85', '89', '96', '102', '103', '104', '106', '107', '112', '114', '138', '145', '147', '172', '187', '338', '194', '198', '211', '224', '235', '245', '249', '250', '261', '267', '268', '276', '282', '295', '313', '314', '315', '316', '318', '327', '329', '333', '343', '353', '355', '357', '358', '381', '383', '385', '386', '387', '388', '389', '399', '401', '402', '410', '415', '422', '432', '439', '440', '457', '464', '465', '466', '470', '475', '477', '480', '487', '488', '494', '498', '518', '525', '532', '557', '23854', '588', '602', '603', '604', '637', '640', '651', '656', '657', '659', '677', '683', '696', '738', '743', '752', '753', '775', '755', '764', '765', '779', '805', '828', '829', '839', '841', '19584', '19900', '20372', '20885', '20978', '21364', '21399', '21435', '21549', '21741', '22062', '22240', '23071', '23113', '23310', '23311', '23622', '24086', '24857', '25222', '25250', '25251', '25452', '25914', '25955', '25965', '25992', '26157', '26986', '27378', '27673', '27821', '33548', '40028', '45927', '48287', '49705', '49709', '49725', '49732', '49775', '49783', '49865', '49918', '49926', '49940', '49967', '49979', '50094', '2', '8', '9', '12', '15', '18', '23', '26', '27', '30', '32', '33', '43', '54', '56', '60', '63', '66', '84', '85', '89', '95', '102', '107', '114', '120', '138', '147', '172', '338', '194', '195', '198', '220', '224', '225', '232', '235', '245', '249', '250', '261', '267', '268', '282', '313', '314', '315', '316', '317', '318', '353', '358', '359', '381', '383', '389', '411', '415', '419', '441', '457', '464', '466', '467', '469', '470', '475', '477', '480', '487', '488', '494', '498', '500', '518', '532', '543', '557', '558', '568', '575', '23854', '585', '588', '602', '603', '604', '607', '640', '651', '657', '682', '683', '689', '696', '738', '743', '775', '805', '828', '829', '839', '841', '843', '847', '848', '867', '19584', '19900', '20565', '20885', '20970', '20978', '21313', '21399', '21435', '21549', '21741', '22062', '22240', '22479', '22672', '22801', '23071', '23113', '23228', '23368', '23503', '23622', '24086', '24493', '24646', '24769', '24857', '24908', '24994', '25222', '25250', '25251', '25452', '25461', '25914', '25955', '25965', '25992', '26157', '26930', '26986', '27378', '27668', '27673', '27821', '28086', '33548', '37008', '40028', '40447', '41928', '48287', '49705', '49709', '49732', '49738', '49775', '49783', '49865', '49918', '49979', '50094', '50208', '50212', '50224', '1', '3', '5', '11', '15', '16', '17', '18', '19', '21', '22', '24', '25', '63', '96', '103', '104', '106', '110', '112', '145', '187', '276', '294', '319', '327', '330', '333', '335', '339', '341', '343', '347', '349', '352', '355', '356', '383', '385', '386', '387', '389', '399', '401', '403', '408', '410', '411', '413', '414', '415', '422', '429', '432', '433', '434', '436', '437', '466', '525', '612', '615', '616', '656', '659', '661', '677', '678', '712', '752', '755', '760', '765', '771', '779', '828', '19853', '19895', '20073', '20372', '20397', '20398', '21115', '21116', '21117', '21322', '21364', '21366', '21367', '21418', '21432', '21436', '21464', '21465', '21469', '23297', '23310', '23311', '23313', '23404', '25069', '25540', '25657', '25658', '25745', '26602', '27244', '32429', '45927', '49725', '49926', '49940', '49967', '3', '16', '18', '21', '23', '26', '27', '43', '46', '63', '84', '85', '89', '102', '103', '106', '107', '112', '114', '147', '172', '338', '194', '198', '211', '245', '249', '261', '267', '268', '276', '295', '313', '314', '315', '316', '324', '326', '327', '328', '329', '334', '336', '337', '341', '343', '345', '346', '349', '351', '353', '354', '355', '357', '358', '364', '365', '370', '372', '373', '375', '379', '383', '386', '387', '388', '389', '398', '399', '401', '402', '406', '410', '415', '422', '423', '424', '432', '433', '434', '438', '439', '440', '449', '464', '465', '466', '467', '470', '475', '477', '480', '487', '488', '494', '498', '518', '525', '532', '553', '556', '569', '588', '602', '603', '634', '637', '640', '651', '656', '657', '658', '659', '661', '683', '696', '703', '710', '732', '738', '742', '743', '750', '751', '753', '775', '755', '758', '764', '766', '767', '772', '803', '828', '841', '854', '858', '1281', '19900', '21399', '21425', '21435', '21741', '22062', '23071', '23113', '23311', '23622', '24086', '25222', '25251', '25955', '25965', '25992', '26157', '27673', '45927', '48287', '49695', '49705', '49709', '49725', '49732', '49780', '49783', '49865', '49926', '49940', '49967', '49972', '50031', '50094', '3', '16', '18', '21', '23', '26', '27', '43', '46', '56', '63', '100', '102', '103', '106', '107', '112', '114', '138', '145', '147', '172', '185', '187', '338', '194', '198', '211', '220', '225', '245', '249', '261', '263', '267', '268', '276', '295', '316', '324', '326', '327', '328', '329', '333', '334', '336', '337', '341', '342', '343', '345', '346', '349', '351', '353', '354', '355', '357', '358', '360', '364', '370', '371', '372', '373', '375', '376', '379', '383', '385', '386', '387', '388', '389', '390', '398', '399', '401', '402', '406', '410', '415', '421', '422', '423', '424', '427', '432', '433', '437', '438', '439', '443', '465', '470', '473', '475', '476', '477', '482', '488', '498', '500', '507', '508', '523', '524', '526', '532', '774', '561', '562', '568', '569', '574', '588', '597', '634', '637', '640', '657', '658', '659', '661', '674', '677', '685', '690', '692', '708', '710', '742', '744', '750', '751', '753', '775', '754', '755', '758', '764', '767', '772', '780', '796', '801', '804', '805', '807', '814', '815', '861', '828', '831', '854', '858', '21399', '21533', '21741', '22062', '23071', '23113', '23311', '23622', '24086', '24769', '25222', '25251', '25528', '25992', '27145', '27673', '29550', '29552', '37008', '40028', '49695', '49705', '49725', '49732', '49776', '49783', '49865', '49867', '49926', '49940', '49967', '49985', '50031', '50037', '50045', '50054', '50094', '1', '2', '3', '5', '8', '10', '12', '15', '16', '17', '18', '19', '21', '23', '25', '26', '27', '33', '56', '62', '63', '107', '338', '198', '250', '282', '294', '295', '324', '326', '327', '328', '329', '330', '331', '333', '334', '335', '336', '337', '341', '342', '343', '345', '346', '349', '351', '352', '353', '354', '355', '357', '358', '360', '364', '370', '371', '372', '373', '383', '386', '387', '388', '389', '399', '401', '402', '403', '406', '408', '410', '411', '413', '414', '415', '417', '422', '423', '424', '425', '427', '428', '429', '432', '436', '438', '538', '774', '569', '604', '658', '659', '661', '674', '677', '685', '690', '751', '752', '753', '775', '754', '755', '760', '764', '765', '766', '767', '771', '772', '779', '814', '815', '828', '20323', '20372', '20397', '21611', '21741', '23368', '23410', '25222', '25528', '25965', '25992', '27673', '29550', '29551', '29552', '32429', '33289', '49695', '49776', '50031', '50035', '50037', '50045', '50054']\n",
      "len first  5470\n",
      "duplicates 443\n"
     ]
    }
   ],
   "source": [
    "import collections\n",
    "outliers_names=list(map(lambda x: x[0],outliers))\n",
    "print('outliers_names',outliers_names)\n",
    "print('len first ',len(outliers_names)) ##84956\n",
    "duplicates=[item for item, count in collections.Counter(outliers_names).items() if count > 1] \n",
    "\n",
    "print('duplicates',len(duplicates))\n"
   ]
  },
  {
   "cell_type": "code",
   "execution_count": 133,
   "metadata": {},
   "outputs": [],
   "source": [
    "## création de nouvelles colonnes pour identifier les outliers\n",
    "cols_ouliers=list(map(lambda x:x+'_outliers',relevant_cols_iqr))\n",
    "for col in cols_ouliers:\n",
    "    df[col]=0\n"
   ]
  },
  {
   "cell_type": "code",
   "execution_count": 134,
   "metadata": {},
   "outputs": [],
   "source": [
    "## identification des outliers\n",
    "for i,col in outliers:\n",
    "    building=df[df['OSEBuildingID']==i]\n",
    "    df.loc[building.index,col+'_outliers']=1"
   ]
  },
  {
   "cell_type": "code",
   "execution_count": 135,
   "metadata": {},
   "outputs": [],
   "source": [
    "df.to_csv('data/2016_Building_Energy_Benchmarking_outliers.csv',index=False)"
   ]
  },
  {
   "cell_type": "code",
   "execution_count": 136,
   "metadata": {},
   "outputs": [
    {
     "data": {
      "text/html": [
       "<div>\n",
       "<style scoped>\n",
       "    .dataframe tbody tr th:only-of-type {\n",
       "        vertical-align: middle;\n",
       "    }\n",
       "\n",
       "    .dataframe tbody tr th {\n",
       "        vertical-align: top;\n",
       "    }\n",
       "\n",
       "    .dataframe thead th {\n",
       "        text-align: right;\n",
       "    }\n",
       "</style>\n",
       "<table border=\"1\" class=\"dataframe\">\n",
       "  <thead>\n",
       "    <tr style=\"text-align: right;\">\n",
       "      <th></th>\n",
       "      <th>PropertyName</th>\n",
       "      <th>OSEBuildingID</th>\n",
       "      <th>YearBuilt</th>\n",
       "    </tr>\n",
       "  </thead>\n",
       "  <tbody>\n",
       "    <tr>\n",
       "      <th>0</th>\n",
       "      <td>Mayflower park hotel</td>\n",
       "      <td>1</td>\n",
       "      <td>1927</td>\n",
       "    </tr>\n",
       "    <tr>\n",
       "      <th>1</th>\n",
       "      <td>Paramount Hotel</td>\n",
       "      <td>2</td>\n",
       "      <td>1996</td>\n",
       "    </tr>\n",
       "    <tr>\n",
       "      <th>2</th>\n",
       "      <td>5673-The Westin Seattle</td>\n",
       "      <td>3</td>\n",
       "      <td>1969</td>\n",
       "    </tr>\n",
       "    <tr>\n",
       "      <th>3</th>\n",
       "      <td>HOTEL MAX</td>\n",
       "      <td>5</td>\n",
       "      <td>1926</td>\n",
       "    </tr>\n",
       "    <tr>\n",
       "      <th>4</th>\n",
       "      <td>WARWICK SEATTLE HOTEL (ID8)</td>\n",
       "      <td>8</td>\n",
       "      <td>1980</td>\n",
       "    </tr>\n",
       "    <tr>\n",
       "      <th>...</th>\n",
       "      <td>...</td>\n",
       "      <td>...</td>\n",
       "      <td>...</td>\n",
       "    </tr>\n",
       "    <tr>\n",
       "      <th>3339</th>\n",
       "      <td>Airport - Main Terminal</td>\n",
       "      <td>50069</td>\n",
       "      <td>1929</td>\n",
       "    </tr>\n",
       "    <tr>\n",
       "      <th>3356</th>\n",
       "      <td>AIBS</td>\n",
       "      <td>50094</td>\n",
       "      <td>2015</td>\n",
       "    </tr>\n",
       "    <tr>\n",
       "      <th>3365</th>\n",
       "      <td>Ballard Pool</td>\n",
       "      <td>50208</td>\n",
       "      <td>1972</td>\n",
       "    </tr>\n",
       "    <tr>\n",
       "      <th>3367</th>\n",
       "      <td>Conservatory Campus</td>\n",
       "      <td>50212</td>\n",
       "      <td>1912</td>\n",
       "    </tr>\n",
       "    <tr>\n",
       "      <th>3373</th>\n",
       "      <td>Queen Anne Pool</td>\n",
       "      <td>50224</td>\n",
       "      <td>1974</td>\n",
       "    </tr>\n",
       "  </tbody>\n",
       "</table>\n",
       "<p>443 rows × 3 columns</p>\n",
       "</div>"
      ],
      "text/plain": [
       "                     PropertyName OSEBuildingID  YearBuilt\n",
       "0            Mayflower park hotel             1       1927\n",
       "1                 Paramount Hotel             2       1996\n",
       "2         5673-The Westin Seattle             3       1969\n",
       "3                       HOTEL MAX             5       1926\n",
       "4     WARWICK SEATTLE HOTEL (ID8)             8       1980\n",
       "...                           ...           ...        ...\n",
       "3339      Airport - Main Terminal         50069       1929\n",
       "3356                         AIBS         50094       2015\n",
       "3365                 Ballard Pool         50208       1972\n",
       "3367          Conservatory Campus         50212       1912\n",
       "3373              Queen Anne Pool         50224       1974\n",
       "\n",
       "[443 rows x 3 columns]"
      ]
     },
     "execution_count": 136,
     "metadata": {},
     "output_type": "execute_result"
    }
   ],
   "source": [
    "## identification des 525 batiments ayant des valeurs aberrantes\n",
    "outliers_df=df[df['OSEBuildingID'].isin(outliers_names)][['PropertyName','OSEBuildingID','YearBuilt']] \n",
    "outliers_df"
   ]
  },
  {
   "cell_type": "code",
   "execution_count": 137,
   "metadata": {},
   "outputs": [
    {
     "data": {
      "text/plain": [
       "(1102, 23)"
      ]
     },
     "execution_count": 137,
     "metadata": {},
     "output_type": "execute_result"
    }
   ],
   "source": [
    "## suppression des valeurs aberrantes\n",
    "df.drop(outliers_df.index,inplace=True)\n",
    "df.shape"
   ]
  },
  {
   "cell_type": "code",
   "execution_count": 138,
   "metadata": {},
   "outputs": [
    {
     "data": {
      "text/plain": [
       "array([1., 0., 2., 6., 3., 5., 4.])"
      ]
     },
     "execution_count": 138,
     "metadata": {},
     "output_type": "execute_result"
    }
   ],
   "source": [
    "df['NumberofBuildings'].unique()"
   ]
  },
  {
   "cell_type": "code",
   "execution_count": 139,
   "metadata": {},
   "outputs": [
    {
     "data": {
      "image/png": "[encoded data removed]",
      "text/plain": [
       "<Figure size 1440x720 with 1 Axes>"
      ]
     },
     "metadata": {
      "needs_background": "light"
     },
     "output_type": "display_data"
    }
   ],
   "source": [
    "rcParams['figure.figsize'] = 20,10\n",
    "g=sns.boxplot(data=df[[item for item in relevant_numeric_columns if item!='YearBuilt']])\n",
    "g.set_yscale(\"log\")\n"
   ]
  },
  {
   "cell_type": "markdown",
   "metadata": {},
   "source": [
    "# Partie 5 Imputation des valeurs manquantes"
   ]
  },
  {
   "cell_type": "code",
   "execution_count": 140,
   "metadata": {},
   "outputs": [
    {
     "data": {
      "text/plain": [
       "OSEBuildingID                      0.000000\n",
       "BuildingType                       0.000000\n",
       "PrimaryPropertyType                0.000000\n",
       "PropertyName                       0.000000\n",
       "Neighborhood                       0.000000\n",
       "GHGEmissionsIntensity              0.000000\n",
       "TotalGHGEmissions                  0.000000\n",
       "NaturalGas(kBtu)                   0.000000\n",
       "SteamUse(kBtu)                     0.000000\n",
       "SiteEnergyUse(kBtu)                0.000000\n",
       "ENERGYSTARScore                   35.753176\n",
       "PropertyGFATotal                   0.000000\n",
       "NumberofFloors                     0.000000\n",
       "NumberofBuildings                  0.000000\n",
       "YearBuilt                          0.000000\n",
       "GHGEmissionsIntensity_outliers     0.000000\n",
       "TotalGHGEmissions_outliers         0.000000\n",
       "NaturalGas(kBtu)_outliers          0.000000\n",
       "SteamUse(kBtu)_outliers            0.000000\n",
       "SiteEnergyUse(kBtu)_outliers       0.000000\n",
       "ENERGYSTARScore_outliers           0.000000\n",
       "PropertyGFATotal_outliers          0.000000\n",
       "NumberofFloors_outliers            0.000000\n",
       "dtype: float64"
      ]
     },
     "execution_count": 140,
     "metadata": {},
     "output_type": "execute_result"
    }
   ],
   "source": [
    "df.isnull().sum()/len(df)*100"
   ]
  },
  {
   "cell_type": "code",
   "execution_count": 141,
   "metadata": {},
   "outputs": [],
   "source": [
    "imputer = KNNImputer()\n",
    "data=np.array(df['ENERGYSTARScore']).reshape((len(df['ENERGYSTARScore']), 1))\n",
    "\n",
    "df['ENERGYSTARScore']=imputer.fit_transform(data)\n"
   ]
  },
  {
   "cell_type": "code",
   "execution_count": 142,
   "metadata": {},
   "outputs": [
    {
     "data": {
      "text/plain": [
       "OSEBuildingID                     0.0\n",
       "BuildingType                      0.0\n",
       "PrimaryPropertyType               0.0\n",
       "PropertyName                      0.0\n",
       "Neighborhood                      0.0\n",
       "GHGEmissionsIntensity             0.0\n",
       "TotalGHGEmissions                 0.0\n",
       "NaturalGas(kBtu)                  0.0\n",
       "SteamUse(kBtu)                    0.0\n",
       "SiteEnergyUse(kBtu)               0.0\n",
       "ENERGYSTARScore                   0.0\n",
       "PropertyGFATotal                  0.0\n",
       "NumberofFloors                    0.0\n",
       "NumberofBuildings                 0.0\n",
       "YearBuilt                         0.0\n",
       "GHGEmissionsIntensity_outliers    0.0\n",
       "TotalGHGEmissions_outliers        0.0\n",
       "NaturalGas(kBtu)_outliers         0.0\n",
       "SteamUse(kBtu)_outliers           0.0\n",
       "SiteEnergyUse(kBtu)_outliers      0.0\n",
       "ENERGYSTARScore_outliers          0.0\n",
       "PropertyGFATotal_outliers         0.0\n",
       "NumberofFloors_outliers           0.0\n",
       "dtype: float64"
      ]
     },
     "execution_count": 142,
     "metadata": {},
     "output_type": "execute_result"
    }
   ],
   "source": [
    "df.isnull().sum()/len(df)*100"
   ]
  },
  {
   "cell_type": "markdown",
   "metadata": {},
   "source": [
    "# Partie 6 feature engineering"
   ]
  },
  {
   "cell_type": "markdown",
   "metadata": {},
   "source": [
    "### 6-1 recherche des variables dont les valeurs sont constantes"
   ]
  },
  {
   "cell_type": "code",
   "execution_count": 143,
   "metadata": {},
   "outputs": [
    {
     "data": {
      "text/plain": [
       "['SteamUse(kBtu)']"
      ]
     },
     "execution_count": 143,
     "metadata": {},
     "output_type": "execute_result"
    }
   ],
   "source": [
    "static_cols=[]\n",
    "for col in relevant_numeric_columns:\n",
    "    if df[col].nunique(col)==1:\n",
    "        static_cols.append(col)\n",
    "        relevant_numeric_columns.remove(col)\n",
    "        \n",
    "static_cols"
   ]
  },
  {
   "cell_type": "markdown",
   "metadata": {},
   "source": [
    "### 6-2 création de la variable  âge à partir de l'année de construction"
   ]
  },
  {
   "cell_type": "code",
   "execution_count": 144,
   "metadata": {},
   "outputs": [],
   "source": [
    "df['YearBuilt']=2016-df['YearBuilt']\n",
    "\n",
    "df.rename(columns = {'YearBuilt':'age'}, inplace = True)\n",
    "relevant_numeric_columns.append('age')\n",
    "relevant_numeric_columns.remove('YearBuilt')"
   ]
  },
  {
   "cell_type": "markdown",
   "metadata": {},
   "source": [
    "### 6-3 suppression de la variable GHGEmissionsIntensity au profit de TotalGHGEmissions"
   ]
  },
  {
   "cell_type": "code",
   "execution_count": 145,
   "metadata": {},
   "outputs": [],
   "source": [
    "relevant_numeric_columns.remove('GHGEmissionsIntensity')"
   ]
  },
  {
   "cell_type": "code",
   "execution_count": 146,
   "metadata": {},
   "outputs": [
    {
     "data": {
      "text/plain": [
       "['TotalGHGEmissions',\n",
       " 'NaturalGas(kBtu)',\n",
       " 'SiteEnergyUse(kBtu)',\n",
       " 'ENERGYSTARScore',\n",
       " 'PropertyGFATotal',\n",
       " 'NumberofFloors',\n",
       " 'NumberofBuildings',\n",
       " 'age']"
      ]
     },
     "execution_count": 146,
     "metadata": {},
     "output_type": "execute_result"
    }
   ],
   "source": [
    "relevant_numeric_columns"
   ]
  },
  {
   "cell_type": "markdown",
   "metadata": {},
   "source": [
    "### 6-4 création de la variable volume à partir de la surface totale et du nombre d'étage"
   ]
  },
  {
   "cell_type": "code",
   "execution_count": 147,
   "metadata": {},
   "outputs": [],
   "source": [
    "df['PropertyGFATotal']=df['PropertyGFATotal']*df['NumberofFloors']\n",
    "\n",
    "df.rename(columns = {'PropertyGFATotal':'volume'}, inplace = True)\n",
    "relevant_numeric_columns.append('volume')\n",
    "relevant_numeric_columns.remove('PropertyGFATotal')\n",
    "relevant_numeric_columns.remove('NumberofFloors')"
   ]
  },
  {
   "cell_type": "markdown",
   "metadata": {},
   "source": [
    "# Partie 7 Analyse univariée"
   ]
  },
  {
   "cell_type": "markdown",
   "metadata": {},
   "source": [
    "### 7-1 Analyse univariée GHGEmissionsIntensity"
   ]
  },
  {
   "cell_type": "code",
   "execution_count": 148,
   "metadata": {},
   "outputs": [],
   "source": [
    "## histogramme et boite à moustache\n",
    "\n",
    "def boxplot_hist(df,col):\n",
    "    fig1 = px.box(df,x=col)\n",
    "    bins=round(1 + 3.322*math.log(len(df)))\n",
    "    fig1.show()\n",
    "    fig2 = px.histogram(df[col],nbins=bins)\n",
    "    fig2.show()\n",
    "    "
   ]
  },
  {
   "cell_type": "code",
   "execution_count": 149,
   "metadata": {},
   "outputs": [
    {
     "data": {
      "application/vnd.plotly.v1+json": {
       "config": {
        "plotlyServerURL": "https://plot.ly"
       },
       "data": [
        {
         "alignmentgroup": "True",
         "hovertemplate": "GHGEmissionsIntensity=%{x}<extra></extra>",
         "legendgroup": "",
         "marker": {
          "color": "#636efa"
         },
         "name": "",
         "notched": false,
         "offsetgroup": "",
         "orientation": "h",
         "showlegend": false,
         "type": "box",
         "x": [
          1.02,
          0.14,
          1.88,
          1.81,
          2.63,
          0.04,
          0.57,
          1.38,
          1.6,
          0.64,
          0.4,
          0.58,
          0.6,
          1.89,
          1.28,
          1.33,
          1.4,
          0.98,
          2.61,
          1.4,
          1.6,
          0.8,
          0.67,
          0.1,
          0.44,
          0.64,
          1.57,
          3.82,
          1.16,
          0.34,
          0.78,
          0.65,
          2.48,
          1.29,
          0.75,
          2.89,
          0.64,
          1.41,
          1.17,
          2.31,
          3.03,
          1.12,
          1.12,
          1.98,
          0.93,
          0.77,
          0.53,
          1.51,
          0.6,
          0.61,
          0.55,
          1.06,
          0.94,
          0.06,
          1.93,
          3.21,
          0.63,
          0.54,
          0.47,
          0.21,
          0.84,
          0.13,
          1.89,
          1.31,
          0.97,
          1.49,
          1.46,
          0.44,
          1.33,
          0.13,
          0.68,
          0.88,
          0.36,
          0.36,
          0.17,
          0.61,
          1,
          1.2,
          0.23,
          0.22,
          0.07,
          0.83,
          0.24,
          0.5,
          0.61,
          1.31,
          0.93,
          0.15,
          0.23,
          1.34,
          2.73,
          0.46,
          0.47,
          0.3,
          1.18,
          0.26,
          1.25,
          0.36,
          0.84,
          0.11,
          1.98,
          0.05,
          0.05,
          0.22,
          0.22,
          0.19,
          0.48,
          0.47,
          0.32,
          0.62,
          1.68,
          0.24,
          0.24,
          0.22,
          0.16,
          0.23,
          0.58,
          1.1,
          0.27,
          0.29,
          0.28,
          0.28,
          0.41,
          1.47,
          0.23,
          0.72,
          1.07,
          0.72,
          0.84,
          0.11,
          2.02,
          1.64,
          3.17,
          0.28,
          0.3,
          0.39,
          0.19,
          0.64,
          1.28,
          0.13,
          0.02,
          0.24,
          0.35,
          0.12,
          0.85,
          1.33,
          0.13,
          0.06,
          0.88,
          0.36,
          0.1,
          0.51,
          1.27,
          0.61,
          1.31,
          0.62,
          1.38,
          0.48,
          1.07,
          0.4,
          0.43,
          0.98,
          0.25,
          0.47,
          0.51,
          0.43,
          0.41,
          0.38,
          0.3,
          0.52,
          0.64,
          1.16,
          0.54,
          0.26,
          0.23,
          0.94,
          0.97,
          0.41,
          1.31,
          2.11,
          0.27,
          0.4,
          1.21,
          0.42,
          0.09,
          1.12,
          0.25,
          1.35,
          0.27,
          0.31,
          0.33,
          0.2,
          0.56,
          0.79,
          1.73,
          0.8,
          0.12,
          0.24,
          0.21,
          0.7,
          0.25,
          0.13,
          2.07,
          0.27,
          0.37,
          2.8,
          0.68,
          0.78,
          0.93,
          0.5,
          0.59,
          0.44,
          0.65,
          0.42,
          1.19,
          0.18,
          0.43,
          1,
          0.38,
          0.33,
          0.19,
          0.31,
          0.62,
          0,
          1.2,
          0.9,
          0.27,
          0.34,
          0.56,
          0.56,
          0.37,
          0.06,
          0.28,
          0.87,
          0.8,
          0.82,
          1.39,
          0.06,
          0.64,
          0.77,
          0.24,
          2.12,
          0.85,
          2.92,
          0.31,
          2.65,
          0.23,
          0.36,
          1.54,
          0.31,
          0.5,
          0.43,
          0.63,
          3.38,
          0.8,
          1.39,
          0.83,
          2.72,
          0.33,
          0.7,
          0.39,
          0.34,
          0.26,
          0.47,
          0.15,
          0.33,
          0.88,
          0.49,
          1,
          1.81,
          1.36,
          0.96,
          0.33,
          1.63,
          0.39,
          0.12,
          0.01,
          2.37,
          1.63,
          1.55,
          3.85,
          0.4,
          0.78,
          0.13,
          0.06,
          0.02,
          0.65,
          1.18,
          0.17,
          0.45,
          0.27,
          0.6,
          0.17,
          0.06,
          0.96,
          0.09,
          1.82,
          0.2,
          0.26,
          0.75,
          1.43,
          0.68,
          0.26,
          0.88,
          0.39,
          0.94,
          2.09,
          1.8,
          0.14,
          2.06,
          0.08,
          0.09,
          0.65,
          0.52,
          1.33,
          0.44,
          0.42,
          1.13,
          1.15,
          0.36,
          2.26,
          1.37,
          2.28,
          0.15,
          2.02,
          1.14,
          0.5,
          2.05,
          0.53,
          0.29,
          0.7,
          0.59,
          0.42,
          0.26,
          0.85,
          0.4,
          0.52,
          0.19,
          0.23,
          1,
          1.8,
          1.29,
          0.29,
          0.1,
          1.15,
          0.41,
          0.45,
          0.41,
          2.28,
          1.28,
          1.64,
          0.91,
          0.79,
          0.2,
          0.68,
          1.2,
          1.17,
          1.21,
          0.75,
          1.93,
          3.04,
          2.06,
          2.28,
          0.78,
          1.53,
          0.7,
          0.56,
          3.08,
          0.29,
          1.8,
          0.28,
          1.22,
          1.09,
          0.32,
          1.82,
          0.17,
          0.16,
          0.24,
          2.47,
          3.13,
          0.86,
          0.24,
          0.3,
          0.67,
          0.8,
          1.25,
          0.02,
          0.46,
          3.65,
          1.79,
          1.15,
          1.5,
          2.41,
          0.52,
          0.79,
          0.05,
          1.32,
          0.35,
          0.87,
          0.48,
          0.2,
          0.64,
          0.67,
          0.56,
          0.5,
          1.61,
          0.28,
          0.04,
          0.19,
          0.05,
          3.05,
          0.06,
          1.96,
          1.94,
          3,
          0.28,
          1.1,
          0.03,
          1.4,
          1.74,
          0.57,
          2.01,
          0.91,
          1.96,
          0.7,
          0.12,
          0.21,
          0.24,
          1.87,
          0.35,
          0.55,
          0.61,
          2.94,
          1.58,
          3.69,
          2.47,
          0.6,
          0.14,
          0.26,
          0.31,
          0.12,
          2.34,
          1.77,
          3.17,
          0.08,
          0.17,
          0.9,
          0.36,
          0.89,
          0.11,
          0.13,
          0.53,
          0.6,
          1.79,
          1.8,
          2.63,
          0.27,
          2.05,
          0.31,
          0.65,
          2.51,
          0.42,
          2.39,
          0.52,
          1.33,
          0.23,
          0.4,
          0.28,
          0.94,
          0.72,
          0.33,
          0.47,
          0.28,
          0.3,
          1.06,
          1.38,
          2.45,
          1.01,
          0.62,
          0.22,
          1.57,
          0.29,
          3.93,
          1.41,
          1.74,
          1.27,
          3.88,
          2.67,
          0.65,
          0.23,
          0.44,
          0.39,
          0.36,
          0.76,
          0.57,
          0.59,
          1.35,
          0.36,
          2.06,
          3.49,
          2.77,
          1.46,
          1.53,
          1.35,
          0.03,
          1.15,
          0.61,
          0.64,
          1.79,
          1.83,
          1.26,
          1.23,
          1.95,
          0.89,
          0.37,
          1.2,
          0.66,
          0.37,
          0.16,
          0.34,
          1.99,
          1.1,
          0.15,
          0.36,
          4.14,
          0.21,
          2.59,
          0.09,
          0.44,
          0.76,
          3.98,
          0.14,
          0.21,
          1.95,
          1.04,
          0.15,
          0.91,
          2.52,
          2.13,
          1.08,
          2.22,
          2.99,
          0.2,
          0.31,
          2.43,
          0.32,
          2.14,
          1.9,
          0.16,
          0.22,
          1.33,
          0.21,
          0.59,
          0.66,
          0.08,
          1.02,
          0.32,
          1.68,
          0.66,
          3.97,
          0.08,
          3.27,
          0.68,
          2.77,
          1.48,
          0.62,
          0.26,
          1.28,
          0.29,
          1.24,
          1.4,
          1.48,
          0.24,
          0.63,
          0.8,
          2.44,
          0.04,
          2.17,
          0.6,
          0.83,
          1.7,
          1.42,
          1.25,
          1.89,
          0.13,
          1.26,
          0.31,
          0.44,
          1.22,
          0.72,
          0.57,
          1.42,
          0.32,
          0.58,
          1.34,
          0.07,
          0.22,
          0.66,
          1.42,
          0.02,
          0.01,
          0.23,
          0.41,
          0.31,
          0.2,
          0.23,
          0.21,
          0.04,
          0.34,
          1.47,
          0.75,
          0.72,
          2.24,
          1.18,
          1.39,
          1.27,
          4.1,
          0.31,
          3.32,
          0.22,
          0.29,
          0.74,
          0.72,
          3.68,
          0.31,
          1.89,
          0.23,
          1.38,
          1.16,
          0.03,
          2.63,
          1,
          2.25,
          1.82,
          1.2,
          0.33,
          1.19,
          0.07,
          1.66,
          0.08,
          0.97,
          0.27,
          0.11,
          1.29,
          0.58,
          0.11,
          0.18,
          0.64,
          1.37,
          0.09,
          0.12,
          1.47,
          0.94,
          0.32,
          3.14,
          1.98,
          0.43,
          0.65,
          0.93,
          0.12,
          0.45,
          0.88,
          1.21,
          0.22,
          0.31,
          0.18,
          0.24,
          1.1,
          0.55,
          0.43,
          3.65,
          1.99,
          0.83,
          0.13,
          0.34,
          1.41,
          0.92,
          1.2,
          0.66,
          0.17,
          0.59,
          0.19,
          0.32,
          0.41,
          0.52,
          4.01,
          0.61,
          2.29,
          1.45,
          0.34,
          1.43,
          2.51,
          0.82,
          1.47,
          0.33,
          0.72,
          0.05,
          3.26,
          1.75,
          0.15,
          0.81,
          0.24,
          2.46,
          0.8,
          0.08,
          4.02,
          1.37,
          1.12,
          0.94,
          0.11,
          3.29,
          2.42,
          0.6,
          0.56,
          0.25,
          0.34,
          0.47,
          0.04,
          0.27,
          0.16,
          0.8,
          1.99,
          0.15,
          0.35,
          1.71,
          0.96,
          0.71,
          0.46,
          2.46,
          1.72,
          1.15,
          2.31,
          0.23,
          0.26,
          0.18,
          0.21,
          0.65,
          0.8,
          1.53,
          1.68,
          2.09,
          0.07,
          0.23,
          0.4,
          1.27,
          0.8,
          1.22,
          1.87,
          0.28,
          0.53,
          2.07,
          0.74,
          0.52,
          0.15,
          0.09,
          0.26,
          0.29,
          0.61,
          0.84,
          0.15,
          0.6,
          0.58,
          0.39,
          0.38,
          2.01,
          0.91,
          0.3,
          0.74,
          0.5,
          0.74,
          1.14,
          0.87,
          0.54,
          1.63,
          0.21,
          1.67,
          0.06,
          0.21,
          0.58,
          3.51,
          1.31,
          3.99,
          3.46,
          1.38,
          1.94,
          1.23,
          1.42,
          1.95,
          0.8,
          0.67,
          4.06,
          0.31,
          0.67,
          0.89,
          0.6,
          0.31,
          0.06,
          0.34,
          1.29,
          2.44,
          0.22,
          3.25,
          0.06,
          0.2,
          1.49,
          1.26,
          0.71,
          0.88,
          1.44,
          3.61,
          0.35,
          0.28,
          0.06,
          0.84,
          0.68,
          0.2,
          0.33,
          2.34,
          0.97,
          0.43,
          1.68,
          1.95,
          0.03,
          0.03,
          0.18,
          1.57,
          3.04,
          0.2,
          0.48,
          1.01,
          0.57,
          1.82,
          2.34,
          0.63,
          0.7,
          0.55,
          1.38,
          0.56,
          1.31,
          1.43,
          0.54,
          1.95,
          0.1,
          0.29,
          1.27,
          0.9,
          0.6,
          1.04,
          0.61,
          0.33,
          1.31,
          1.65,
          0.27,
          4.02,
          1.1,
          0.64,
          0.63,
          3.98,
          0.06,
          0.92,
          1.06,
          1.02,
          1,
          3.67,
          0.25,
          3.28,
          0.54,
          0.6,
          1.07,
          0.42,
          0.37,
          1.09,
          3.88,
          0.56,
          0.32,
          1.7,
          0.14,
          0.46,
          0.45,
          0.28,
          0.35,
          1.35,
          1.13,
          0.83,
          0.14,
          0.27,
          0.85,
          0.06,
          0.91,
          0.6,
          1.24,
          1.01,
          0.71,
          1.93,
          0.23,
          0.26,
          2.64,
          0.34,
          1.17,
          0.63,
          0.22,
          4.15,
          1.73,
          2.43,
          0.92,
          2.12,
          0.28,
          1.63,
          2.37,
          3.75,
          1.13,
          2.03,
          0.37,
          0.33,
          1.13,
          1.51,
          1.3,
          1.4,
          1,
          1.26,
          1.51,
          0.46,
          3.63,
          3.14,
          0.51,
          0.19,
          0.05,
          1.87,
          0.43,
          1.13,
          1.11,
          0.61,
          2.08,
          0.27,
          0.23,
          1.15,
          0.45,
          0.23,
          0.72,
          1.14,
          0.77,
          0.91,
          2.56,
          1.01,
          0.5,
          0.54,
          0.1,
          2.27,
          0.18,
          0.73,
          1.2,
          0.22,
          0.25,
          0.3,
          0.42,
          0.17,
          0.34,
          0.97,
          1.5,
          1.01,
          1.31,
          0.32,
          0.27,
          1.34,
          2.06,
          0.2,
          2.4,
          2.27,
          0.21,
          2.75,
          2.47,
          3.02,
          1.91,
          0.19,
          3.73,
          1.2,
          0.67,
          0.77,
          2.09,
          0.84,
          0.91,
          1.66,
          0.8,
          0.34,
          1.38,
          2.49,
          1.18,
          0.88,
          1.45,
          0.33,
          2.4,
          0.13,
          1.03,
          0.11,
          0.69,
          0.19,
          0.13,
          2.19,
          0.04,
          0.5,
          0.55,
          0.07,
          3.81,
          0.18,
          0.88,
          0.88,
          1.91,
          0.97,
          1.05,
          2.1,
          0.22,
          0.38,
          0.74,
          1.58,
          0.04,
          0.07,
          0.26,
          0.52,
          2.27,
          1.82,
          0.72,
          1.39,
          2.09,
          3.98,
          0.07,
          0.99,
          2.15,
          2.11,
          3.01,
          1.2,
          2.4,
          0.76,
          0.18,
          1.89,
          0.11,
          2.23,
          0.21,
          1.6,
          0.39,
          1.18,
          1.56,
          0.79,
          1.08,
          0.73,
          4.21,
          1.82,
          3.06,
          0.17,
          1.72,
          1.08,
          0.41,
          0.2,
          0.43,
          2.78,
          0.13,
          0.34,
          0.59,
          1.28,
          1,
          0.28,
          3.29,
          0.82,
          1.44,
          0.09,
          0.32,
          0.39,
          2.32,
          0.47,
          1.9,
          0.28,
          0.72,
          0.86,
          0.45,
          0.74,
          0.3,
          2,
          0.51,
          1.28,
          0.44,
          0.59,
          0.54,
          0.64,
          0.1,
          0.29,
          1.72,
          0.17,
          0.85,
          1.03,
          3.03,
          0.94,
          0.21,
          0.33,
          0.22,
          2.5,
          1.92,
          1.27,
          1.47,
          3.03,
          1.11,
          2.01,
          1.57,
          2.26
         ],
         "x0": " ",
         "xaxis": "x",
         "y0": " ",
         "yaxis": "y"
        }
       ],
       "layout": {
        "boxmode": "group",
        "legend": {
         "tracegroupgap": 0
        },
        "margin": {
         "t": 60
        },
        "template": {
         "data": {
          "bar": [
           {
            "error_x": {
             "color": "#2a3f5f"
            },
            "error_y": {
             "color": "#2a3f5f"
            },
            "marker": {
             "line": {
              "color": "#E5ECF6",
              "width": 0.5
             },
             "pattern": {
              "fillmode": "overlay",
              "size": 10,
              "solidity": 0.2
             }
            },
            "type": "bar"
           }
          ],
          "barpolar": [
           {
            "marker": {
             "line": {
              "color": "#E5ECF6",
              "width": 0.5
             },
             "pattern": {
              "fillmode": "overlay",
              "size": 10,
              "solidity": 0.2
             }
            },
            "type": "barpolar"
           }
          ],
          "carpet": [
           {
            "aaxis": {
             "endlinecolor": "#2a3f5f",
             "gridcolor": "white",
             "linecolor": "white",
             "minorgridcolor": "white",
             "startlinecolor": "#2a3f5f"
            },
            "baxis": {
             "endlinecolor": "#2a3f5f",
             "gridcolor": "white",
             "linecolor": "white",
             "minorgridcolor": "white",
             "startlinecolor": "#2a3f5f"
            },
            "type": "carpet"
           }
          ],
          "choropleth": [
           {
            "colorbar": {
             "outlinewidth": 0,
             "ticks": ""
            },
            "type": "choropleth"
           }
          ],
          "contour": [
           {
            "colorbar": {
             "outlinewidth": 0,
             "ticks": ""
            },
            "colorscale": [
             [
              0,
              "#0d0887"
             ],
             [
              0.1111111111111111,
              "#46039f"
             ],
             [
              0.2222222222222222,
              "#7201a8"
             ],
             [
              0.3333333333333333,
              "#9c179e"
             ],
             [
              0.4444444444444444,
              "#bd3786"
             ],
             [
              0.5555555555555556,
              "#d8576b"
             ],
             [
              0.6666666666666666,
              "#ed7953"
             ],
             [
              0.7777777777777778,
              "#fb9f3a"
             ],
             [
              0.8888888888888888,
              "#fdca26"
             ],
             [
              1,
              "#f0f921"
             ]
            ],
            "type": "contour"
           }
          ],
          "contourcarpet": [
           {
            "colorbar": {
             "outlinewidth": 0,
             "ticks": ""
            },
            "type": "contourcarpet"
           }
          ],
          "heatmap": [
           {
            "colorbar": {
             "outlinewidth": 0,
             "ticks": ""
            },
            "colorscale": [
             [
              0,
              "#0d0887"
             ],
             [
              0.1111111111111111,
              "#46039f"
             ],
             [
              0.2222222222222222,
              "#7201a8"
             ],
             [
              0.3333333333333333,
              "#9c179e"
             ],
             [
              0.4444444444444444,
              "#bd3786"
             ],
             [
              0.5555555555555556,
              "#d8576b"
             ],
             [
              0.6666666666666666,
              "#ed7953"
             ],
             [
              0.7777777777777778,
              "#fb9f3a"
             ],
             [
              0.8888888888888888,
              "#fdca26"
             ],
             [
              1,
              "#f0f921"
             ]
            ],
            "type": "heatmap"
           }
          ],
          "heatmapgl": [
           {
            "colorbar": {
             "outlinewidth": 0,
             "ticks": ""
            },
            "colorscale": [
             [
              0,
              "#0d0887"
             ],
             [
              0.1111111111111111,
              "#46039f"
             ],
             [
              0.2222222222222222,
              "#7201a8"
             ],
             [
              0.3333333333333333,
              "#9c179e"
             ],
             [
              0.4444444444444444,
              "#bd3786"
             ],
             [
              0.5555555555555556,
              "#d8576b"
             ],
             [
              0.6666666666666666,
              "#ed7953"
             ],
             [
              0.7777777777777778,
              "#fb9f3a"
             ],
             [
              0.8888888888888888,
              "#fdca26"
             ],
             [
              1,
              "#f0f921"
             ]
            ],
            "type": "heatmapgl"
           }
          ],
          "histogram": [
           {
            "marker": {
             "pattern": {
              "fillmode": "overlay",
              "size": 10,
              "solidity": 0.2
             }
            },
            "type": "histogram"
           }
          ],
          "histogram2d": [
           {
            "colorbar": {
             "outlinewidth": 0,
             "ticks": ""
            },
            "colorscale": [
             [
              0,
              "#0d0887"
             ],
             [
              0.1111111111111111,
              "#46039f"
             ],
             [
              0.2222222222222222,
              "#7201a8"
             ],
             [
              0.3333333333333333,
              "#9c179e"
             ],
             [
              0.4444444444444444,
              "#bd3786"
             ],
             [
              0.5555555555555556,
              "#d8576b"
             ],
             [
              0.6666666666666666,
              "#ed7953"
             ],
             [
              0.7777777777777778,
              "#fb9f3a"
             ],
             [
              0.8888888888888888,
              "#fdca26"
             ],
             [
              1,
              "#f0f921"
             ]
            ],
            "type": "histogram2d"
           }
          ],
          "histogram2dcontour": [
           {
            "colorbar": {
             "outlinewidth": 0,
             "ticks": ""
            },
            "colorscale": [
             [
              0,
              "#0d0887"
             ],
             [
              0.1111111111111111,
              "#46039f"
             ],
             [
              0.2222222222222222,
              "#7201a8"
             ],
             [
              0.3333333333333333,
              "#9c179e"
             ],
             [
              0.4444444444444444,
              "#bd3786"
             ],
             [
              0.5555555555555556,
              "#d8576b"
             ],
             [
              0.6666666666666666,
              "#ed7953"
             ],
             [
              0.7777777777777778,
              "#fb9f3a"
             ],
             [
              0.8888888888888888,
              "#fdca26"
             ],
             [
              1,
              "#f0f921"
             ]
            ],
            "type": "histogram2dcontour"
           }
          ],
          "mesh3d": [
           {
            "colorbar": {
             "outlinewidth": 0,
             "ticks": ""
            },
            "type": "mesh3d"
           }
          ],
          "parcoords": [
           {
            "line": {
             "colorbar": {
              "outlinewidth": 0,
              "ticks": ""
             }
            },
            "type": "parcoords"
           }
          ],
          "pie": [
           {
            "automargin": true,
            "type": "pie"
           }
          ],
          "scatter": [
           {
            "fillpattern": {
             "fillmode": "overlay",
             "size": 10,
             "solidity": 0.2
            },
            "type": "scatter"
           }
          ],
          "scatter3d": [
           {
            "line": {
             "colorbar": {
              "outlinewidth": 0,
              "ticks": ""
             }
            },
            "marker": {
             "colorbar": {
              "outlinewidth": 0,
              "ticks": ""
             }
            },
            "type": "scatter3d"
           }
          ],
          "scattercarpet": [
           {
            "marker": {
             "colorbar": {
              "outlinewidth": 0,
              "ticks": ""
             }
            },
            "type": "scattercarpet"
           }
          ],
          "scattergeo": [
           {
            "marker": {
             "colorbar": {
              "outlinewidth": 0,
              "ticks": ""
             }
            },
            "type": "scattergeo"
           }
          ],
          "scattergl": [
           {
            "marker": {
             "colorbar": {
              "outlinewidth": 0,
              "ticks": ""
             }
            },
            "type": "scattergl"
           }
          ],
          "scattermapbox": [
           {
            "marker": {
             "colorbar": {
              "outlinewidth": 0,
              "ticks": ""
             }
            },
            "type": "scattermapbox"
           }
          ],
          "scatterpolar": [
           {
            "marker": {
             "colorbar": {
              "outlinewidth": 0,
              "ticks": ""
             }
            },
            "type": "scatterpolar"
           }
          ],
          "scatterpolargl": [
           {
            "marker": {
             "colorbar": {
              "outlinewidth": 0,
              "ticks": ""
             }
            },
            "type": "scatterpolargl"
           }
          ],
          "scatterternary": [
           {
            "marker": {
             "colorbar": {
              "outlinewidth": 0,
              "ticks": ""
             }
            },
            "type": "scatterternary"
           }
          ],
          "surface": [
           {
            "colorbar": {
             "outlinewidth": 0,
             "ticks": ""
            },
            "colorscale": [
             [
              0,
              "#0d0887"
             ],
             [
              0.1111111111111111,
              "#46039f"
             ],
             [
              0.2222222222222222,
              "#7201a8"
             ],
             [
              0.3333333333333333,
              "#9c179e"
             ],
             [
              0.4444444444444444,
              "#bd3786"
             ],
             [
              0.5555555555555556,
              "#d8576b"
             ],
             [
              0.6666666666666666,
              "#ed7953"
             ],
             [
              0.7777777777777778,
              "#fb9f3a"
             ],
             [
              0.8888888888888888,
              "#fdca26"
             ],
             [
              1,
              "#f0f921"
             ]
            ],
            "type": "surface"
           }
          ],
          "table": [
           {
            "cells": {
             "fill": {
              "color": "#EBF0F8"
             },
             "line": {
              "color": "white"
             }
            },
            "header": {
             "fill": {
              "color": "#C8D4E3"
             },
             "line": {
              "color": "white"
             }
            },
            "type": "table"
           }
          ]
         },
         "layout": {
          "annotationdefaults": {
           "arrowcolor": "#2a3f5f",
           "arrowhead": 0,
           "arrowwidth": 1
          },
          "autotypenumbers": "strict",
          "coloraxis": {
           "colorbar": {
            "outlinewidth": 0,
            "ticks": ""
           }
          },
          "colorscale": {
           "diverging": [
            [
             0,
             "#8e0152"
            ],
            [
             0.1,
             "#c51b7d"
            ],
            [
             0.2,
             "#de77ae"
            ],
            [
             0.3,
             "#f1b6da"
            ],
            [
             0.4,
             "#fde0ef"
            ],
            [
             0.5,
             "#f7f7f7"
            ],
            [
             0.6,
             "#e6f5d0"
            ],
            [
             0.7,
             "#b8e186"
            ],
            [
             0.8,
             "#7fbc41"
            ],
            [
             0.9,
             "#4d9221"
            ],
            [
             1,
             "#276419"
            ]
           ],
           "sequential": [
            [
             0,
             "#0d0887"
            ],
            [
             0.1111111111111111,
             "#46039f"
            ],
            [
             0.2222222222222222,
             "#7201a8"
            ],
            [
             0.3333333333333333,
             "#9c179e"
            ],
            [
             0.4444444444444444,
             "#bd3786"
            ],
            [
             0.5555555555555556,
             "#d8576b"
            ],
            [
             0.6666666666666666,
             "#ed7953"
            ],
            [
             0.7777777777777778,
             "#fb9f3a"
            ],
            [
             0.8888888888888888,
             "#fdca26"
            ],
            [
             1,
             "#f0f921"
            ]
           ],
           "sequentialminus": [
            [
             0,
             "#0d0887"
            ],
            [
             0.1111111111111111,
             "#46039f"
            ],
            [
             0.2222222222222222,
             "#7201a8"
            ],
            [
             0.3333333333333333,
             "#9c179e"
            ],
            [
             0.4444444444444444,
             "#bd3786"
            ],
            [
             0.5555555555555556,
             "#d8576b"
            ],
            [
             0.6666666666666666,
             "#ed7953"
            ],
            [
             0.7777777777777778,
             "#fb9f3a"
            ],
            [
             0.8888888888888888,
             "#fdca26"
            ],
            [
             1,
             "#f0f921"
            ]
           ]
          },
          "colorway": [
           "#636efa",
           "#EF553B",
           "#00cc96",
           "#ab63fa",
           "#FFA15A",
           "#19d3f3",
           "#FF6692",
           "#B6E880",
           "#FF97FF",
           "#FECB52"
          ],
          "font": {
           "color": "#2a3f5f"
          },
          "geo": {
           "bgcolor": "white",
           "lakecolor": "white",
           "landcolor": "#E5ECF6",
           "showlakes": true,
           "showland": true,
           "subunitcolor": "white"
          },
          "hoverlabel": {
           "align": "left"
          },
          "hovermode": "closest",
          "mapbox": {
           "style": "light"
          },
          "paper_bgcolor": "white",
          "plot_bgcolor": "#E5ECF6",
          "polar": {
           "angularaxis": {
            "gridcolor": "white",
            "linecolor": "white",
            "ticks": ""
           },
           "bgcolor": "#E5ECF6",
           "radialaxis": {
            "gridcolor": "white",
            "linecolor": "white",
            "ticks": ""
           }
          },
          "scene": {
           "xaxis": {
            "backgroundcolor": "#E5ECF6",
            "gridcolor": "white",
            "gridwidth": 2,
            "linecolor": "white",
            "showbackground": true,
            "ticks": "",
            "zerolinecolor": "white"
           },
           "yaxis": {
            "backgroundcolor": "#E5ECF6",
            "gridcolor": "white",
            "gridwidth": 2,
            "linecolor": "white",
            "showbackground": true,
            "ticks": "",
            "zerolinecolor": "white"
           },
           "zaxis": {
            "backgroundcolor": "#E5ECF6",
            "gridcolor": "white",
            "gridwidth": 2,
            "linecolor": "white",
            "showbackground": true,
            "ticks": "",
            "zerolinecolor": "white"
           }
          },
          "shapedefaults": {
           "line": {
            "color": "#2a3f5f"
           }
          },
          "ternary": {
           "aaxis": {
            "gridcolor": "white",
            "linecolor": "white",
            "ticks": ""
           },
           "baxis": {
            "gridcolor": "white",
            "linecolor": "white",
            "ticks": ""
           },
           "bgcolor": "#E5ECF6",
           "caxis": {
            "gridcolor": "white",
            "linecolor": "white",
            "ticks": ""
           }
          },
          "title": {
           "x": 0.05
          },
          "xaxis": {
           "automargin": true,
           "gridcolor": "white",
           "linecolor": "white",
           "ticks": "",
           "title": {
            "standoff": 15
           },
           "zerolinecolor": "white",
           "zerolinewidth": 2
          },
          "yaxis": {
           "automargin": true,
           "gridcolor": "white",
           "linecolor": "white",
           "ticks": "",
           "title": {
            "standoff": 15
           },
           "zerolinecolor": "white",
           "zerolinewidth": 2
          }
         }
        },
        "xaxis": {
         "anchor": "y",
         "domain": [
          0,
          1
         ],
         "title": {
          "text": "GHGEmissionsIntensity"
         }
        },
        "yaxis": {
         "anchor": "x",
         "domain": [
          0,
          1
         ]
        }
       }
      },
      "text/html": [
       "<div>                            <div id=\"48cc03eb-c6ec-4578-8045-0c1c6fce99ad\" class=\"plotly-graph-div\" style=\"height:525px; width:100%;\"></div>            <script type=\"text/javascript\">                require([\"plotly\"], function(Plotly) {                    window.PLOTLYENV=window.PLOTLYENV || {};                                    if (document.getElementById(\"48cc03eb-c6ec-4578-8045-0c1c6fce99ad\")) {                    Plotly.newPlot(                        \"48cc03eb-c6ec-4578-8045-0c1c6fce99ad\",                        [{\"alignmentgroup\":\"True\",\"hovertemplate\":\"GHGEmissionsIntensity=%{x}<extra></extra>\",\"legendgroup\":\"\",\"marker\":{\"color\":\"#636efa\"},\"name\":\"\",\"notched\":false,\"offsetgroup\":\"\",\"orientation\":\"h\",\"showlegend\":false,\"x\":[1.02,0.14,1.88,1.81,2.63,0.04,0.57,1.38,1.6,0.64,0.4,0.58,0.6,1.89,1.28,1.33,1.4,0.98,2.61,1.4,1.6,0.8,0.67,0.1,0.44,0.64,1.57,3.82,1.16,0.34,0.78,0.65,2.48,1.29,0.75,2.89,0.64,1.41,1.17,2.31,3.03,1.12,1.12,1.98,0.93,0.77,0.53,1.51,0.6,0.61,0.55,1.06,0.94,0.06,1.93,3.21,0.63,0.54,0.47,0.21,0.84,0.13,1.89,1.31,0.97,1.49,1.46,0.44,1.33,0.13,0.68,0.88,0.36,0.36,0.17,0.61,1.0,1.2,0.23,0.22,0.07,0.83,0.24,0.5,0.61,1.31,0.93,0.15,0.23,1.34,2.73,0.46,0.47,0.3,1.18,0.26,1.25,0.36,0.84,0.11,1.98,0.05,0.05,0.22,0.22,0.19,0.48,0.47,0.32,0.62,1.68,0.24,0.24,0.22,0.16,0.23,0.58,1.1,0.27,0.29,0.28,0.28,0.41,1.47,0.23,0.72,1.07,0.72,0.84,0.11,2.02,1.64,3.17,0.28,0.3,0.39,0.19,0.64,1.28,0.13,0.02,0.24,0.35,0.12,0.85,1.33,0.13,0.06,0.88,0.36,0.1,0.51,1.27,0.61,1.31,0.62,1.38,0.48,1.07,0.4,0.43,0.98,0.25,0.47,0.51,0.43,0.41,0.38,0.3,0.52,0.64,1.16,0.54,0.26,0.23,0.94,0.97,0.41,1.31,2.11,0.27,0.4,1.21,0.42,0.09,1.12,0.25,1.35,0.27,0.31,0.33,0.2,0.56,0.79,1.73,0.8,0.12,0.24,0.21,0.7,0.25,0.13,2.07,0.27,0.37,2.8,0.68,0.78,0.93,0.5,0.59,0.44,0.65,0.42,1.19,0.18,0.43,1.0,0.38,0.33,0.19,0.31,0.62,0.0,1.2,0.9,0.27,0.34,0.56,0.56,0.37,0.06,0.28,0.87,0.8,0.82,1.39,0.06,0.64,0.77,0.24,2.12,0.85,2.92,0.31,2.65,0.23,0.36,1.54,0.31,0.5,0.43,0.63,3.38,0.8,1.39,0.83,2.72,0.33,0.7,0.39,0.34,0.26,0.47,0.15,0.33,0.88,0.49,1.0,1.81,1.36,0.96,0.33,1.63,0.39,0.12,0.01,2.37,1.63,1.55,3.85,0.4,0.78,0.13,0.06,0.02,0.65,1.18,0.17,0.45,0.27,0.6,0.17,0.06,0.96,0.09,1.82,0.2,0.26,0.75,1.43,0.68,0.26,0.88,0.39,0.94,2.09,1.8,0.14,2.06,0.08,0.09,0.65,0.52,1.33,0.44,0.42,1.13,1.15,0.36,2.26,1.37,2.28,0.15,2.02,1.14,0.5,2.05,0.53,0.29,0.7,0.59,0.42,0.26,0.85,0.4,0.52,0.19,0.23,1.0,1.8,1.29,0.29,0.1,1.15,0.41,0.45,0.41,2.28,1.28,1.64,0.91,0.79,0.2,0.68,1.2,1.17,1.21,0.75,1.93,3.04,2.06,2.28,0.78,1.53,0.7,0.56,3.08,0.29,1.8,0.28,1.22,1.09,0.32,1.82,0.17,0.16,0.24,2.47,3.13,0.86,0.24,0.3,0.67,0.8,1.25,0.02,0.46,3.65,1.79,1.15,1.5,2.41,0.52,0.79,0.05,1.32,0.35,0.87,0.48,0.2,0.64,0.67,0.56,0.5,1.61,0.28,0.04,0.19,0.05,3.05,0.06,1.96,1.94,3.0,0.28,1.1,0.03,1.4,1.74,0.57,2.01,0.91,1.96,0.7,0.12,0.21,0.24,1.87,0.35,0.55,0.61,2.94,1.58,3.69,2.47,0.6,0.14,0.26,0.31,0.12,2.34,1.77,3.17,0.08,0.17,0.9,0.36,0.89,0.11,0.13,0.53,0.6,1.79,1.8,2.63,0.27,2.05,0.31,0.65,2.51,0.42,2.39,0.52,1.33,0.23,0.4,0.28,0.94,0.72,0.33,0.47,0.28,0.3,1.06,1.38,2.45,1.01,0.62,0.22,1.57,0.29,3.93,1.41,1.74,1.27,3.88,2.67,0.65,0.23,0.44,0.39,0.36,0.76,0.57,0.59,1.35,0.36,2.06,3.49,2.77,1.46,1.53,1.35,0.03,1.15,0.61,0.64,1.79,1.83,1.26,1.23,1.95,0.89,0.37,1.2,0.66,0.37,0.16,0.34,1.99,1.1,0.15,0.36,4.14,0.21,2.59,0.09,0.44,0.76,3.98,0.14,0.21,1.95,1.04,0.15,0.91,2.52,2.13,1.08,2.22,2.99,0.2,0.31,2.43,0.32,2.14,1.9,0.16,0.22,1.33,0.21,0.59,0.66,0.08,1.02,0.32,1.68,0.66,3.97,0.08,3.27,0.68,2.77,1.48,0.62,0.26,1.28,0.29,1.24,1.4,1.48,0.24,0.63,0.8,2.44,0.04,2.17,0.6,0.83,1.7,1.42,1.25,1.89,0.13,1.26,0.31,0.44,1.22,0.72,0.57,1.42,0.32,0.58,1.34,0.07,0.22,0.66,1.42,0.02,0.01,0.23,0.41,0.31,0.2,0.23,0.21,0.04,0.34,1.47,0.75,0.72,2.24,1.18,1.39,1.27,4.1,0.31,3.32,0.22,0.29,0.74,0.72,3.68,0.31,1.89,0.23,1.38,1.16,0.03,2.63,1.0,2.25,1.82,1.2,0.33,1.19,0.07,1.66,0.08,0.97,0.27,0.11,1.29,0.58,0.11,0.18,0.64,1.37,0.09,0.12,1.47,0.94,0.32,3.14,1.98,0.43,0.65,0.93,0.12,0.45,0.88,1.21,0.22,0.31,0.18,0.24,1.1,0.55,0.43,3.65,1.99,0.83,0.13,0.34,1.41,0.92,1.2,0.66,0.17,0.59,0.19,0.32,0.41,0.52,4.01,0.61,2.29,1.45,0.34,1.43,2.51,0.82,1.47,0.33,0.72,0.05,3.26,1.75,0.15,0.81,0.24,2.46,0.8,0.08,4.02,1.37,1.12,0.94,0.11,3.29,2.42,0.6,0.56,0.25,0.34,0.47,0.04,0.27,0.16,0.8,1.99,0.15,0.35,1.71,0.96,0.71,0.46,2.46,1.72,1.15,2.31,0.23,0.26,0.18,0.21,0.65,0.8,1.53,1.68,2.09,0.07,0.23,0.4,1.27,0.8,1.22,1.87,0.28,0.53,2.07,0.74,0.52,0.15,0.09,0.26,0.29,0.61,0.84,0.15,0.6,0.58,0.39,0.38,2.01,0.91,0.3,0.74,0.5,0.74,1.14,0.87,0.54,1.63,0.21,1.67,0.06,0.21,0.58,3.51,1.31,3.99,3.46,1.38,1.94,1.23,1.42,1.95,0.8,0.67,4.06,0.31,0.67,0.89,0.6,0.31,0.06,0.34,1.29,2.44,0.22,3.25,0.06,0.2,1.49,1.26,0.71,0.88,1.44,3.61,0.35,0.28,0.06,0.84,0.68,0.2,0.33,2.34,0.97,0.43,1.68,1.95,0.03,0.03,0.18,1.57,3.04,0.2,0.48,1.01,0.57,1.82,2.34,0.63,0.7,0.55,1.38,0.56,1.31,1.43,0.54,1.95,0.1,0.29,1.27,0.9,0.6,1.04,0.61,0.33,1.31,1.65,0.27,4.02,1.1,0.64,0.63,3.98,0.06,0.92,1.06,1.02,1.0,3.67,0.25,3.28,0.54,0.6,1.07,0.42,0.37,1.09,3.88,0.56,0.32,1.7,0.14,0.46,0.45,0.28,0.35,1.35,1.13,0.83,0.14,0.27,0.85,0.06,0.91,0.6,1.24,1.01,0.71,1.93,0.23,0.26,2.64,0.34,1.17,0.63,0.22,4.15,1.73,2.43,0.92,2.12,0.28,1.63,2.37,3.75,1.13,2.03,0.37,0.33,1.13,1.51,1.3,1.4,1.0,1.26,1.51,0.46,3.63,3.14,0.51,0.19,0.05,1.87,0.43,1.13,1.11,0.61,2.08,0.27,0.23,1.15,0.45,0.23,0.72,1.14,0.77,0.91,2.56,1.01,0.5,0.54,0.1,2.27,0.18,0.73,1.2,0.22,0.25,0.3,0.42,0.17,0.34,0.97,1.5,1.01,1.31,0.32,0.27,1.34,2.06,0.2,2.4,2.27,0.21,2.75,2.47,3.02,1.91,0.19,3.73,1.2,0.67,0.77,2.09,0.84,0.91,1.66,0.8,0.34,1.38,2.49,1.18,0.88,1.45,0.33,2.4,0.13,1.03,0.11,0.69,0.19,0.13,2.19,0.04,0.5,0.55,0.07,3.81,0.18,0.88,0.88,1.91,0.97,1.05,2.1,0.22,0.38,0.74,1.58,0.04,0.07,0.26,0.52,2.27,1.82,0.72,1.39,2.09,3.98,0.07,0.99,2.15,2.11,3.01,1.2,2.4,0.76,0.18,1.89,0.11,2.23,0.21,1.6,0.39,1.18,1.56,0.79,1.08,0.73,4.21,1.82,3.06,0.17,1.72,1.08,0.41,0.2,0.43,2.78,0.13,0.34,0.59,1.28,1.0,0.28,3.29,0.82,1.44,0.09,0.32,0.39,2.32,0.47,1.9,0.28,0.72,0.86,0.45,0.74,0.3,2.0,0.51,1.28,0.44,0.59,0.54,0.64,0.1,0.29,1.72,0.17,0.85,1.03,3.03,0.94,0.21,0.33,0.22,2.5,1.92,1.27,1.47,3.03,1.11,2.01,1.57,2.26],\"x0\":\" \",\"xaxis\":\"x\",\"y0\":\" \",\"yaxis\":\"y\",\"type\":\"box\"}],                        {\"template\":{\"data\":{\"histogram2dcontour\":[{\"type\":\"histogram2dcontour\",\"colorbar\":{\"outlinewidth\":0,\"ticks\":\"\"},\"colorscale\":[[0.0,\"#0d0887\"],[0.1111111111111111,\"#46039f\"],[0.2222222222222222,\"#7201a8\"],[0.3333333333333333,\"#9c179e\"],[0.4444444444444444,\"#bd3786\"],[0.5555555555555556,\"#d8576b\"],[0.6666666666666666,\"#ed7953\"],[0.7777777777777778,\"#fb9f3a\"],[0.8888888888888888,\"#fdca26\"],[1.0,\"#f0f921\"]]}],\"choropleth\":[{\"type\":\"choropleth\",\"colorbar\":{\"outlinewidth\":0,\"ticks\":\"\"}}],\"histogram2d\":[{\"type\":\"histogram2d\",\"colorbar\":{\"outlinewidth\":0,\"ticks\":\"\"},\"colorscale\":[[0.0,\"#0d0887\"],[0.1111111111111111,\"#46039f\"],[0.2222222222222222,\"#7201a8\"],[0.3333333333333333,\"#9c179e\"],[0.4444444444444444,\"#bd3786\"],[0.5555555555555556,\"#d8576b\"],[0.6666666666666666,\"#ed7953\"],[0.7777777777777778,\"#fb9f3a\"],[0.8888888888888888,\"#fdca26\"],[1.0,\"#f0f921\"]]}],\"heatmap\":[{\"type\":\"heatmap\",\"colorbar\":{\"outlinewidth\":0,\"ticks\":\"\"},\"colorscale\":[[0.0,\"#0d0887\"],[0.1111111111111111,\"#46039f\"],[0.2222222222222222,\"#7201a8\"],[0.3333333333333333,\"#9c179e\"],[0.4444444444444444,\"#bd3786\"],[0.5555555555555556,\"#d8576b\"],[0.6666666666666666,\"#ed7953\"],[0.7777777777777778,\"#fb9f3a\"],[0.8888888888888888,\"#fdca26\"],[1.0,\"#f0f921\"]]}],\"heatmapgl\":[{\"type\":\"heatmapgl\",\"colorbar\":{\"outlinewidth\":0,\"ticks\":\"\"},\"colorscale\":[[0.0,\"#0d0887\"],[0.1111111111111111,\"#46039f\"],[0.2222222222222222,\"#7201a8\"],[0.3333333333333333,\"#9c179e\"],[0.4444444444444444,\"#bd3786\"],[0.5555555555555556,\"#d8576b\"],[0.6666666666666666,\"#ed7953\"],[0.7777777777777778,\"#fb9f3a\"],[0.8888888888888888,\"#fdca26\"],[1.0,\"#f0f921\"]]}],\"contourcarpet\":[{\"type\":\"contourcarpet\",\"colorbar\":{\"outlinewidth\":0,\"ticks\":\"\"}}],\"contour\":[{\"type\":\"contour\",\"colorbar\":{\"outlinewidth\":0,\"ticks\":\"\"},\"colorscale\":[[0.0,\"#0d0887\"],[0.1111111111111111,\"#46039f\"],[0.2222222222222222,\"#7201a8\"],[0.3333333333333333,\"#9c179e\"],[0.4444444444444444,\"#bd3786\"],[0.5555555555555556,\"#d8576b\"],[0.6666666666666666,\"#ed7953\"],[0.7777777777777778,\"#fb9f3a\"],[0.8888888888888888,\"#fdca26\"],[1.0,\"#f0f921\"]]}],\"surface\":[{\"type\":\"surface\",\"colorbar\":{\"outlinewidth\":0,\"ticks\":\"\"},\"colorscale\":[[0.0,\"#0d0887\"],[0.1111111111111111,\"#46039f\"],[0.2222222222222222,\"#7201a8\"],[0.3333333333333333,\"#9c179e\"],[0.4444444444444444,\"#bd3786\"],[0.5555555555555556,\"#d8576b\"],[0.6666666666666666,\"#ed7953\"],[0.7777777777777778,\"#fb9f3a\"],[0.8888888888888888,\"#fdca26\"],[1.0,\"#f0f921\"]]}],\"mesh3d\":[{\"type\":\"mesh3d\",\"colorbar\":{\"outlinewidth\":0,\"ticks\":\"\"}}],\"scatter\":[{\"fillpattern\":{\"fillmode\":\"overlay\",\"size\":10,\"solidity\":0.2},\"type\":\"scatter\"}],\"parcoords\":[{\"type\":\"parcoords\",\"line\":{\"colorbar\":{\"outlinewidth\":0,\"ticks\":\"\"}}}],\"scatterpolargl\":[{\"type\":\"scatterpolargl\",\"marker\":{\"colorbar\":{\"outlinewidth\":0,\"ticks\":\"\"}}}],\"bar\":[{\"error_x\":{\"color\":\"#2a3f5f\"},\"error_y\":{\"color\":\"#2a3f5f\"},\"marker\":{\"line\":{\"color\":\"#E5ECF6\",\"width\":0.5},\"pattern\":{\"fillmode\":\"overlay\",\"size\":10,\"solidity\":0.2}},\"type\":\"bar\"}],\"scattergeo\":[{\"type\":\"scattergeo\",\"marker\":{\"colorbar\":{\"outlinewidth\":0,\"ticks\":\"\"}}}],\"scatterpolar\":[{\"type\":\"scatterpolar\",\"marker\":{\"colorbar\":{\"outlinewidth\":0,\"ticks\":\"\"}}}],\"histogram\":[{\"marker\":{\"pattern\":{\"fillmode\":\"overlay\",\"size\":10,\"solidity\":0.2}},\"type\":\"histogram\"}],\"scattergl\":[{\"type\":\"scattergl\",\"marker\":{\"colorbar\":{\"outlinewidth\":0,\"ticks\":\"\"}}}],\"scatter3d\":[{\"type\":\"scatter3d\",\"line\":{\"colorbar\":{\"outlinewidth\":0,\"ticks\":\"\"}},\"marker\":{\"colorbar\":{\"outlinewidth\":0,\"ticks\":\"\"}}}],\"scattermapbox\":[{\"type\":\"scattermapbox\",\"marker\":{\"colorbar\":{\"outlinewidth\":0,\"ticks\":\"\"}}}],\"scatterternary\":[{\"type\":\"scatterternary\",\"marker\":{\"colorbar\":{\"outlinewidth\":0,\"ticks\":\"\"}}}],\"scattercarpet\":[{\"type\":\"scattercarpet\",\"marker\":{\"colorbar\":{\"outlinewidth\":0,\"ticks\":\"\"}}}],\"carpet\":[{\"aaxis\":{\"endlinecolor\":\"#2a3f5f\",\"gridcolor\":\"white\",\"linecolor\":\"white\",\"minorgridcolor\":\"white\",\"startlinecolor\":\"#2a3f5f\"},\"baxis\":{\"endlinecolor\":\"#2a3f5f\",\"gridcolor\":\"white\",\"linecolor\":\"white\",\"minorgridcolor\":\"white\",\"startlinecolor\":\"#2a3f5f\"},\"type\":\"carpet\"}],\"table\":[{\"cells\":{\"fill\":{\"color\":\"#EBF0F8\"},\"line\":{\"color\":\"white\"}},\"header\":{\"fill\":{\"color\":\"#C8D4E3\"},\"line\":{\"color\":\"white\"}},\"type\":\"table\"}],\"barpolar\":[{\"marker\":{\"line\":{\"color\":\"#E5ECF6\",\"width\":0.5},\"pattern\":{\"fillmode\":\"overlay\",\"size\":10,\"solidity\":0.2}},\"type\":\"barpolar\"}],\"pie\":[{\"automargin\":true,\"type\":\"pie\"}]},\"layout\":{\"autotypenumbers\":\"strict\",\"colorway\":[\"#636efa\",\"#EF553B\",\"#00cc96\",\"#ab63fa\",\"#FFA15A\",\"#19d3f3\",\"#FF6692\",\"#B6E880\",\"#FF97FF\",\"#FECB52\"],\"font\":{\"color\":\"#2a3f5f\"},\"hovermode\":\"closest\",\"hoverlabel\":{\"align\":\"left\"},\"paper_bgcolor\":\"white\",\"plot_bgcolor\":\"#E5ECF6\",\"polar\":{\"bgcolor\":\"#E5ECF6\",\"angularaxis\":{\"gridcolor\":\"white\",\"linecolor\":\"white\",\"ticks\":\"\"},\"radialaxis\":{\"gridcolor\":\"white\",\"linecolor\":\"white\",\"ticks\":\"\"}},\"ternary\":{\"bgcolor\":\"#E5ECF6\",\"aaxis\":{\"gridcolor\":\"white\",\"linecolor\":\"white\",\"ticks\":\"\"},\"baxis\":{\"gridcolor\":\"white\",\"linecolor\":\"white\",\"ticks\":\"\"},\"caxis\":{\"gridcolor\":\"white\",\"linecolor\":\"white\",\"ticks\":\"\"}},\"coloraxis\":{\"colorbar\":{\"outlinewidth\":0,\"ticks\":\"\"}},\"colorscale\":{\"sequential\":[[0.0,\"#0d0887\"],[0.1111111111111111,\"#46039f\"],[0.2222222222222222,\"#7201a8\"],[0.3333333333333333,\"#9c179e\"],[0.4444444444444444,\"#bd3786\"],[0.5555555555555556,\"#d8576b\"],[0.6666666666666666,\"#ed7953\"],[0.7777777777777778,\"#fb9f3a\"],[0.8888888888888888,\"#fdca26\"],[1.0,\"#f0f921\"]],\"sequentialminus\":[[0.0,\"#0d0887\"],[0.1111111111111111,\"#46039f\"],[0.2222222222222222,\"#7201a8\"],[0.3333333333333333,\"#9c179e\"],[0.4444444444444444,\"#bd3786\"],[0.5555555555555556,\"#d8576b\"],[0.6666666666666666,\"#ed7953\"],[0.7777777777777778,\"#fb9f3a\"],[0.8888888888888888,\"#fdca26\"],[1.0,\"#f0f921\"]],\"diverging\":[[0,\"#8e0152\"],[0.1,\"#c51b7d\"],[0.2,\"#de77ae\"],[0.3,\"#f1b6da\"],[0.4,\"#fde0ef\"],[0.5,\"#f7f7f7\"],[0.6,\"#e6f5d0\"],[0.7,\"#b8e186\"],[0.8,\"#7fbc41\"],[0.9,\"#4d9221\"],[1,\"#276419\"]]},\"xaxis\":{\"gridcolor\":\"white\",\"linecolor\":\"white\",\"ticks\":\"\",\"title\":{\"standoff\":15},\"zerolinecolor\":\"white\",\"automargin\":true,\"zerolinewidth\":2},\"yaxis\":{\"gridcolor\":\"white\",\"linecolor\":\"white\",\"ticks\":\"\",\"title\":{\"standoff\":15},\"zerolinecolor\":\"white\",\"automargin\":true,\"zerolinewidth\":2},\"scene\":{\"xaxis\":{\"backgroundcolor\":\"#E5ECF6\",\"gridcolor\":\"white\",\"linecolor\":\"white\",\"showbackground\":true,\"ticks\":\"\",\"zerolinecolor\":\"white\",\"gridwidth\":2},\"yaxis\":{\"backgroundcolor\":\"#E5ECF6\",\"gridcolor\":\"white\",\"linecolor\":\"white\",\"showbackground\":true,\"ticks\":\"\",\"zerolinecolor\":\"white\",\"gridwidth\":2},\"zaxis\":{\"backgroundcolor\":\"#E5ECF6\",\"gridcolor\":\"white\",\"linecolor\":\"white\",\"showbackground\":true,\"ticks\":\"\",\"zerolinecolor\":\"white\",\"gridwidth\":2}},\"shapedefaults\":{\"line\":{\"color\":\"#2a3f5f\"}},\"annotationdefaults\":{\"arrowcolor\":\"#2a3f5f\",\"arrowhead\":0,\"arrowwidth\":1},\"geo\":{\"bgcolor\":\"white\",\"landcolor\":\"#E5ECF6\",\"subunitcolor\":\"white\",\"showland\":true,\"showlakes\":true,\"lakecolor\":\"white\"},\"title\":{\"x\":0.05},\"mapbox\":{\"style\":\"light\"}}},\"xaxis\":{\"anchor\":\"y\",\"domain\":[0.0,1.0],\"title\":{\"text\":\"GHGEmissionsIntensity\"}},\"yaxis\":{\"anchor\":\"x\",\"domain\":[0.0,1.0]},\"legend\":{\"tracegroupgap\":0},\"margin\":{\"t\":60},\"boxmode\":\"group\"},                        {\"responsive\": true}                    ).then(function(){\n",
       "                            \n",
       "var gd = document.getElementById('48cc03eb-c6ec-4578-8045-0c1c6fce99ad');\n",
       "var x = new MutationObserver(function (mutations, observer) {{\n",
       "        var display = window.getComputedStyle(gd).display;\n",
       "        if (!display || display === 'none') {{\n",
       "            console.log([gd, 'removed!']);\n",
       "            Plotly.purge(gd);\n",
       "            observer.disconnect();\n",
       "        }}\n",
       "}});\n",
       "\n",
       "// Listen for the removal of the full notebook cells\n",
       "var notebookContainer = gd.closest('#notebook-container');\n",
       "if (notebookContainer) {{\n",
       "    x.observe(notebookContainer, {childList: true});\n",
       "}}\n",
       "\n",
       "// Listen for the clearing of the current output cell\n",
       "var outputEl = gd.closest('.output');\n",
       "if (outputEl) {{\n",
       "    x.observe(outputEl, {childList: true});\n",
       "}}\n",
       "\n",
       "                        })                };                });            </script>        </div>"
      ]
     },
     "metadata": {},
     "output_type": "display_data"
    },
    {
     "data": {
      "application/vnd.plotly.v1+json": {
       "config": {
        "plotlyServerURL": "https://plot.ly"
       },
       "data": [
        {
         "alignmentgroup": "True",
         "bingroup": "x",
         "hovertemplate": "variable=GHGEmissionsIntensity<br>value=%{x}<br>count=%{y}<extra></extra>",
         "legendgroup": "GHGEmissionsIntensity",
         "marker": {
          "color": "#636efa",
          "pattern": {
           "shape": ""
          }
         },
         "name": "GHGEmissionsIntensity",
         "nbinsx": 24,
         "offsetgroup": "GHGEmissionsIntensity",
         "orientation": "v",
         "showlegend": true,
         "type": "histogram",
         "x": [
          1.02,
          0.14,
          1.88,
          1.81,
          2.63,
          0.04,
          0.57,
          1.38,
          1.6,
          0.64,
          0.4,
          0.58,
          0.6,
          1.89,
          1.28,
          1.33,
          1.4,
          0.98,
          2.61,
          1.4,
          1.6,
          0.8,
          0.67,
          0.1,
          0.44,
          0.64,
          1.57,
          3.82,
          1.16,
          0.34,
          0.78,
          0.65,
          2.48,
          1.29,
          0.75,
          2.89,
          0.64,
          1.41,
          1.17,
          2.31,
          3.03,
          1.12,
          1.12,
          1.98,
          0.93,
          0.77,
          0.53,
          1.51,
          0.6,
          0.61,
          0.55,
          1.06,
          0.94,
          0.06,
          1.93,
          3.21,
          0.63,
          0.54,
          0.47,
          0.21,
          0.84,
          0.13,
          1.89,
          1.31,
          0.97,
          1.49,
          1.46,
          0.44,
          1.33,
          0.13,
          0.68,
          0.88,
          0.36,
          0.36,
          0.17,
          0.61,
          1,
          1.2,
          0.23,
          0.22,
          0.07,
          0.83,
          0.24,
          0.5,
          0.61,
          1.31,
          0.93,
          0.15,
          0.23,
          1.34,
          2.73,
          0.46,
          0.47,
          0.3,
          1.18,
          0.26,
          1.25,
          0.36,
          0.84,
          0.11,
          1.98,
          0.05,
          0.05,
          0.22,
          0.22,
          0.19,
          0.48,
          0.47,
          0.32,
          0.62,
          1.68,
          0.24,
          0.24,
          0.22,
          0.16,
          0.23,
          0.58,
          1.1,
          0.27,
          0.29,
          0.28,
          0.28,
          0.41,
          1.47,
          0.23,
          0.72,
          1.07,
          0.72,
          0.84,
          0.11,
          2.02,
          1.64,
          3.17,
          0.28,
          0.3,
          0.39,
          0.19,
          0.64,
          1.28,
          0.13,
          0.02,
          0.24,
          0.35,
          0.12,
          0.85,
          1.33,
          0.13,
          0.06,
          0.88,
          0.36,
          0.1,
          0.51,
          1.27,
          0.61,
          1.31,
          0.62,
          1.38,
          0.48,
          1.07,
          0.4,
          0.43,
          0.98,
          0.25,
          0.47,
          0.51,
          0.43,
          0.41,
          0.38,
          0.3,
          0.52,
          0.64,
          1.16,
          0.54,
          0.26,
          0.23,
          0.94,
          0.97,
          0.41,
          1.31,
          2.11,
          0.27,
          0.4,
          1.21,
          0.42,
          0.09,
          1.12,
          0.25,
          1.35,
          0.27,
          0.31,
          0.33,
          0.2,
          0.56,
          0.79,
          1.73,
          0.8,
          0.12,
          0.24,
          0.21,
          0.7,
          0.25,
          0.13,
          2.07,
          0.27,
          0.37,
          2.8,
          0.68,
          0.78,
          0.93,
          0.5,
          0.59,
          0.44,
          0.65,
          0.42,
          1.19,
          0.18,
          0.43,
          1,
          0.38,
          0.33,
          0.19,
          0.31,
          0.62,
          0,
          1.2,
          0.9,
          0.27,
          0.34,
          0.56,
          0.56,
          0.37,
          0.06,
          0.28,
          0.87,
          0.8,
          0.82,
          1.39,
          0.06,
          0.64,
          0.77,
          0.24,
          2.12,
          0.85,
          2.92,
          0.31,
          2.65,
          0.23,
          0.36,
          1.54,
          0.31,
          0.5,
          0.43,
          0.63,
          3.38,
          0.8,
          1.39,
          0.83,
          2.72,
          0.33,
          0.7,
          0.39,
          0.34,
          0.26,
          0.47,
          0.15,
          0.33,
          0.88,
          0.49,
          1,
          1.81,
          1.36,
          0.96,
          0.33,
          1.63,
          0.39,
          0.12,
          0.01,
          2.37,
          1.63,
          1.55,
          3.85,
          0.4,
          0.78,
          0.13,
          0.06,
          0.02,
          0.65,
          1.18,
          0.17,
          0.45,
          0.27,
          0.6,
          0.17,
          0.06,
          0.96,
          0.09,
          1.82,
          0.2,
          0.26,
          0.75,
          1.43,
          0.68,
          0.26,
          0.88,
          0.39,
          0.94,
          2.09,
          1.8,
          0.14,
          2.06,
          0.08,
          0.09,
          0.65,
          0.52,
          1.33,
          0.44,
          0.42,
          1.13,
          1.15,
          0.36,
          2.26,
          1.37,
          2.28,
          0.15,
          2.02,
          1.14,
          0.5,
          2.05,
          0.53,
          0.29,
          0.7,
          0.59,
          0.42,
          0.26,
          0.85,
          0.4,
          0.52,
          0.19,
          0.23,
          1,
          1.8,
          1.29,
          0.29,
          0.1,
          1.15,
          0.41,
          0.45,
          0.41,
          2.28,
          1.28,
          1.64,
          0.91,
          0.79,
          0.2,
          0.68,
          1.2,
          1.17,
          1.21,
          0.75,
          1.93,
          3.04,
          2.06,
          2.28,
          0.78,
          1.53,
          0.7,
          0.56,
          3.08,
          0.29,
          1.8,
          0.28,
          1.22,
          1.09,
          0.32,
          1.82,
          0.17,
          0.16,
          0.24,
          2.47,
          3.13,
          0.86,
          0.24,
          0.3,
          0.67,
          0.8,
          1.25,
          0.02,
          0.46,
          3.65,
          1.79,
          1.15,
          1.5,
          2.41,
          0.52,
          0.79,
          0.05,
          1.32,
          0.35,
          0.87,
          0.48,
          0.2,
          0.64,
          0.67,
          0.56,
          0.5,
          1.61,
          0.28,
          0.04,
          0.19,
          0.05,
          3.05,
          0.06,
          1.96,
          1.94,
          3,
          0.28,
          1.1,
          0.03,
          1.4,
          1.74,
          0.57,
          2.01,
          0.91,
          1.96,
          0.7,
          0.12,
          0.21,
          0.24,
          1.87,
          0.35,
          0.55,
          0.61,
          2.94,
          1.58,
          3.69,
          2.47,
          0.6,
          0.14,
          0.26,
          0.31,
          0.12,
          2.34,
          1.77,
          3.17,
          0.08,
          0.17,
          0.9,
          0.36,
          0.89,
          0.11,
          0.13,
          0.53,
          0.6,
          1.79,
          1.8,
          2.63,
          0.27,
          2.05,
          0.31,
          0.65,
          2.51,
          0.42,
          2.39,
          0.52,
          1.33,
          0.23,
          0.4,
          0.28,
          0.94,
          0.72,
          0.33,
          0.47,
          0.28,
          0.3,
          1.06,
          1.38,
          2.45,
          1.01,
          0.62,
          0.22,
          1.57,
          0.29,
          3.93,
          1.41,
          1.74,
          1.27,
          3.88,
          2.67,
          0.65,
          0.23,
          0.44,
          0.39,
          0.36,
          0.76,
          0.57,
          0.59,
          1.35,
          0.36,
          2.06,
          3.49,
          2.77,
          1.46,
          1.53,
          1.35,
          0.03,
          1.15,
          0.61,
          0.64,
          1.79,
          1.83,
          1.26,
          1.23,
          1.95,
          0.89,
          0.37,
          1.2,
          0.66,
          0.37,
          0.16,
          0.34,
          1.99,
          1.1,
          0.15,
          0.36,
          4.14,
          0.21,
          2.59,
          0.09,
          0.44,
          0.76,
          3.98,
          0.14,
          0.21,
          1.95,
          1.04,
          0.15,
          0.91,
          2.52,
          2.13,
          1.08,
          2.22,
          2.99,
          0.2,
          0.31,
          2.43,
          0.32,
          2.14,
          1.9,
          0.16,
          0.22,
          1.33,
          0.21,
          0.59,
          0.66,
          0.08,
          1.02,
          0.32,
          1.68,
          0.66,
          3.97,
          0.08,
          3.27,
          0.68,
          2.77,
          1.48,
          0.62,
          0.26,
          1.28,
          0.29,
          1.24,
          1.4,
          1.48,
          0.24,
          0.63,
          0.8,
          2.44,
          0.04,
          2.17,
          0.6,
          0.83,
          1.7,
          1.42,
          1.25,
          1.89,
          0.13,
          1.26,
          0.31,
          0.44,
          1.22,
          0.72,
          0.57,
          1.42,
          0.32,
          0.58,
          1.34,
          0.07,
          0.22,
          0.66,
          1.42,
          0.02,
          0.01,
          0.23,
          0.41,
          0.31,
          0.2,
          0.23,
          0.21,
          0.04,
          0.34,
          1.47,
          0.75,
          0.72,
          2.24,
          1.18,
          1.39,
          1.27,
          4.1,
          0.31,
          3.32,
          0.22,
          0.29,
          0.74,
          0.72,
          3.68,
          0.31,
          1.89,
          0.23,
          1.38,
          1.16,
          0.03,
          2.63,
          1,
          2.25,
          1.82,
          1.2,
          0.33,
          1.19,
          0.07,
          1.66,
          0.08,
          0.97,
          0.27,
          0.11,
          1.29,
          0.58,
          0.11,
          0.18,
          0.64,
          1.37,
          0.09,
          0.12,
          1.47,
          0.94,
          0.32,
          3.14,
          1.98,
          0.43,
          0.65,
          0.93,
          0.12,
          0.45,
          0.88,
          1.21,
          0.22,
          0.31,
          0.18,
          0.24,
          1.1,
          0.55,
          0.43,
          3.65,
          1.99,
          0.83,
          0.13,
          0.34,
          1.41,
          0.92,
          1.2,
          0.66,
          0.17,
          0.59,
          0.19,
          0.32,
          0.41,
          0.52,
          4.01,
          0.61,
          2.29,
          1.45,
          0.34,
          1.43,
          2.51,
          0.82,
          1.47,
          0.33,
          0.72,
          0.05,
          3.26,
          1.75,
          0.15,
          0.81,
          0.24,
          2.46,
          0.8,
          0.08,
          4.02,
          1.37,
          1.12,
          0.94,
          0.11,
          3.29,
          2.42,
          0.6,
          0.56,
          0.25,
          0.34,
          0.47,
          0.04,
          0.27,
          0.16,
          0.8,
          1.99,
          0.15,
          0.35,
          1.71,
          0.96,
          0.71,
          0.46,
          2.46,
          1.72,
          1.15,
          2.31,
          0.23,
          0.26,
          0.18,
          0.21,
          0.65,
          0.8,
          1.53,
          1.68,
          2.09,
          0.07,
          0.23,
          0.4,
          1.27,
          0.8,
          1.22,
          1.87,
          0.28,
          0.53,
          2.07,
          0.74,
          0.52,
          0.15,
          0.09,
          0.26,
          0.29,
          0.61,
          0.84,
          0.15,
          0.6,
          0.58,
          0.39,
          0.38,
          2.01,
          0.91,
          0.3,
          0.74,
          0.5,
          0.74,
          1.14,
          0.87,
          0.54,
          1.63,
          0.21,
          1.67,
          0.06,
          0.21,
          0.58,
          3.51,
          1.31,
          3.99,
          3.46,
          1.38,
          1.94,
          1.23,
          1.42,
          1.95,
          0.8,
          0.67,
          4.06,
          0.31,
          0.67,
          0.89,
          0.6,
          0.31,
          0.06,
          0.34,
          1.29,
          2.44,
          0.22,
          3.25,
          0.06,
          0.2,
          1.49,
          1.26,
          0.71,
          0.88,
          1.44,
          3.61,
          0.35,
          0.28,
          0.06,
          0.84,
          0.68,
          0.2,
          0.33,
          2.34,
          0.97,
          0.43,
          1.68,
          1.95,
          0.03,
          0.03,
          0.18,
          1.57,
          3.04,
          0.2,
          0.48,
          1.01,
          0.57,
          1.82,
          2.34,
          0.63,
          0.7,
          0.55,
          1.38,
          0.56,
          1.31,
          1.43,
          0.54,
          1.95,
          0.1,
          0.29,
          1.27,
          0.9,
          0.6,
          1.04,
          0.61,
          0.33,
          1.31,
          1.65,
          0.27,
          4.02,
          1.1,
          0.64,
          0.63,
          3.98,
          0.06,
          0.92,
          1.06,
          1.02,
          1,
          3.67,
          0.25,
          3.28,
          0.54,
          0.6,
          1.07,
          0.42,
          0.37,
          1.09,
          3.88,
          0.56,
          0.32,
          1.7,
          0.14,
          0.46,
          0.45,
          0.28,
          0.35,
          1.35,
          1.13,
          0.83,
          0.14,
          0.27,
          0.85,
          0.06,
          0.91,
          0.6,
          1.24,
          1.01,
          0.71,
          1.93,
          0.23,
          0.26,
          2.64,
          0.34,
          1.17,
          0.63,
          0.22,
          4.15,
          1.73,
          2.43,
          0.92,
          2.12,
          0.28,
          1.63,
          2.37,
          3.75,
          1.13,
          2.03,
          0.37,
          0.33,
          1.13,
          1.51,
          1.3,
          1.4,
          1,
          1.26,
          1.51,
          0.46,
          3.63,
          3.14,
          0.51,
          0.19,
          0.05,
          1.87,
          0.43,
          1.13,
          1.11,
          0.61,
          2.08,
          0.27,
          0.23,
          1.15,
          0.45,
          0.23,
          0.72,
          1.14,
          0.77,
          0.91,
          2.56,
          1.01,
          0.5,
          0.54,
          0.1,
          2.27,
          0.18,
          0.73,
          1.2,
          0.22,
          0.25,
          0.3,
          0.42,
          0.17,
          0.34,
          0.97,
          1.5,
          1.01,
          1.31,
          0.32,
          0.27,
          1.34,
          2.06,
          0.2,
          2.4,
          2.27,
          0.21,
          2.75,
          2.47,
          3.02,
          1.91,
          0.19,
          3.73,
          1.2,
          0.67,
          0.77,
          2.09,
          0.84,
          0.91,
          1.66,
          0.8,
          0.34,
          1.38,
          2.49,
          1.18,
          0.88,
          1.45,
          0.33,
          2.4,
          0.13,
          1.03,
          0.11,
          0.69,
          0.19,
          0.13,
          2.19,
          0.04,
          0.5,
          0.55,
          0.07,
          3.81,
          0.18,
          0.88,
          0.88,
          1.91,
          0.97,
          1.05,
          2.1,
          0.22,
          0.38,
          0.74,
          1.58,
          0.04,
          0.07,
          0.26,
          0.52,
          2.27,
          1.82,
          0.72,
          1.39,
          2.09,
          3.98,
          0.07,
          0.99,
          2.15,
          2.11,
          3.01,
          1.2,
          2.4,
          0.76,
          0.18,
          1.89,
          0.11,
          2.23,
          0.21,
          1.6,
          0.39,
          1.18,
          1.56,
          0.79,
          1.08,
          0.73,
          4.21,
          1.82,
          3.06,
          0.17,
          1.72,
          1.08,
          0.41,
          0.2,
          0.43,
          2.78,
          0.13,
          0.34,
          0.59,
          1.28,
          1,
          0.28,
          3.29,
          0.82,
          1.44,
          0.09,
          0.32,
          0.39,
          2.32,
          0.47,
          1.9,
          0.28,
          0.72,
          0.86,
          0.45,
          0.74,
          0.3,
          2,
          0.51,
          1.28,
          0.44,
          0.59,
          0.54,
          0.64,
          0.1,
          0.29,
          1.72,
          0.17,
          0.85,
          1.03,
          3.03,
          0.94,
          0.21,
          0.33,
          0.22,
          2.5,
          1.92,
          1.27,
          1.47,
          3.03,
          1.11,
          2.01,
          1.57,
          2.26
         ],
         "xaxis": "x",
         "yaxis": "y"
        }
       ],
       "layout": {
        "barmode": "relative",
        "legend": {
         "title": {
          "text": "variable"
         },
         "tracegroupgap": 0
        },
        "margin": {
         "t": 60
        },
        "template": {
         "data": {
          "bar": [
           {
            "error_x": {
             "color": "#2a3f5f"
            },
            "error_y": {
             "color": "#2a3f5f"
            },
            "marker": {
             "line": {
              "color": "#E5ECF6",
              "width": 0.5
             },
             "pattern": {
              "fillmode": "overlay",
              "size": 10,
              "solidity": 0.2
             }
            },
            "type": "bar"
           }
          ],
          "barpolar": [
           {
            "marker": {
             "line": {
              "color": "#E5ECF6",
              "width": 0.5
             },
             "pattern": {
              "fillmode": "overlay",
              "size": 10,
              "solidity": 0.2
             }
            },
            "type": "barpolar"
           }
          ],
          "carpet": [
           {
            "aaxis": {
             "endlinecolor": "#2a3f5f",
             "gridcolor": "white",
             "linecolor": "white",
             "minorgridcolor": "white",
             "startlinecolor": "#2a3f5f"
            },
            "baxis": {
             "endlinecolor": "#2a3f5f",
             "gridcolor": "white",
             "linecolor": "white",
             "minorgridcolor": "white",
             "startlinecolor": "#2a3f5f"
            },
            "type": "carpet"
           }
          ],
          "choropleth": [
           {
            "colorbar": {
             "outlinewidth": 0,
             "ticks": ""
            },
            "type": "choropleth"
           }
          ],
          "contour": [
           {
            "colorbar": {
             "outlinewidth": 0,
             "ticks": ""
            },
            "colorscale": [
             [
              0,
              "#0d0887"
             ],
             [
              0.1111111111111111,
              "#46039f"
             ],
             [
              0.2222222222222222,
              "#7201a8"
             ],
             [
              0.3333333333333333,
              "#9c179e"
             ],
             [
              0.4444444444444444,
              "#bd3786"
             ],
             [
              0.5555555555555556,
              "#d8576b"
             ],
             [
              0.6666666666666666,
              "#ed7953"
             ],
             [
              0.7777777777777778,
              "#fb9f3a"
             ],
             [
              0.8888888888888888,
              "#fdca26"
             ],
             [
              1,
              "#f0f921"
             ]
            ],
            "type": "contour"
           }
          ],
          "contourcarpet": [
           {
            "colorbar": {
             "outlinewidth": 0,
             "ticks": ""
            },
            "type": "contourcarpet"
           }
          ],
          "heatmap": [
           {
            "colorbar": {
             "outlinewidth": 0,
             "ticks": ""
            },
            "colorscale": [
             [
              0,
              "#0d0887"
             ],
             [
              0.1111111111111111,
              "#46039f"
             ],
             [
              0.2222222222222222,
              "#7201a8"
             ],
             [
              0.3333333333333333,
              "#9c179e"
             ],
             [
              0.4444444444444444,
              "#bd3786"
             ],
             [
              0.5555555555555556,
              "#d8576b"
             ],
             [
              0.6666666666666666,
              "#ed7953"
             ],
             [
              0.7777777777777778,
              "#fb9f3a"
             ],
             [
              0.8888888888888888,
              "#fdca26"
             ],
             [
              1,
              "#f0f921"
             ]
            ],
            "type": "heatmap"
           }
          ],
          "heatmapgl": [
           {
            "colorbar": {
             "outlinewidth": 0,
             "ticks": ""
            },
            "colorscale": [
             [
              0,
              "#0d0887"
             ],
             [
              0.1111111111111111,
              "#46039f"
             ],
             [
              0.2222222222222222,
              "#7201a8"
             ],
             [
              0.3333333333333333,
              "#9c179e"
             ],
             [
              0.4444444444444444,
              "#bd3786"
             ],
             [
              0.5555555555555556,
              "#d8576b"
             ],
             [
              0.6666666666666666,
              "#ed7953"
             ],
             [
              0.7777777777777778,
              "#fb9f3a"
             ],
             [
              0.8888888888888888,
              "#fdca26"
             ],
             [
              1,
              "#f0f921"
             ]
            ],
            "type": "heatmapgl"
           }
          ],
          "histogram": [
           {
            "marker": {
             "pattern": {
              "fillmode": "overlay",
              "size": 10,
              "solidity": 0.2
             }
            },
            "type": "histogram"
           }
          ],
          "histogram2d": [
           {
            "colorbar": {
             "outlinewidth": 0,
             "ticks": ""
            },
            "colorscale": [
             [
              0,
              "#0d0887"
             ],
             [
              0.1111111111111111,
              "#46039f"
             ],
             [
              0.2222222222222222,
              "#7201a8"
             ],
             [
              0.3333333333333333,
              "#9c179e"
             ],
             [
              0.4444444444444444,
              "#bd3786"
             ],
             [
              0.5555555555555556,
              "#d8576b"
             ],
             [
              0.6666666666666666,
              "#ed7953"
             ],
             [
              0.7777777777777778,
              "#fb9f3a"
             ],
             [
              0.8888888888888888,
              "#fdca26"
             ],
             [
              1,
              "#f0f921"
             ]
            ],
            "type": "histogram2d"
           }
          ],
          "histogram2dcontour": [
           {
            "colorbar": {
             "outlinewidth": 0,
             "ticks": ""
            },
            "colorscale": [
             [
              0,
              "#0d0887"
             ],
             [
              0.1111111111111111,
              "#46039f"
             ],
             [
              0.2222222222222222,
              "#7201a8"
             ],
             [
              0.3333333333333333,
              "#9c179e"
             ],
             [
              0.4444444444444444,
              "#bd3786"
             ],
             [
              0.5555555555555556,
              "#d8576b"
             ],
             [
              0.6666666666666666,
              "#ed7953"
             ],
             [
              0.7777777777777778,
              "#fb9f3a"
             ],
             [
              0.8888888888888888,
              "#fdca26"
             ],
             [
              1,
              "#f0f921"
             ]
            ],
            "type": "histogram2dcontour"
           }
          ],
          "mesh3d": [
           {
            "colorbar": {
             "outlinewidth": 0,
             "ticks": ""
            },
            "type": "mesh3d"
           }
          ],
          "parcoords": [
           {
            "line": {
             "colorbar": {
              "outlinewidth": 0,
              "ticks": ""
             }
            },
            "type": "parcoords"
           }
          ],
          "pie": [
           {
            "automargin": true,
            "type": "pie"
           }
          ],
          "scatter": [
           {
            "fillpattern": {
             "fillmode": "overlay",
             "size": 10,
             "solidity": 0.2
            },
            "type": "scatter"
           }
          ],
          "scatter3d": [
           {
            "line": {
             "colorbar": {
              "outlinewidth": 0,
              "ticks": ""
             }
            },
            "marker": {
             "colorbar": {
              "outlinewidth": 0,
              "ticks": ""
             }
            },
            "type": "scatter3d"
           }
          ],
          "scattercarpet": [
           {
            "marker": {
             "colorbar": {
              "outlinewidth": 0,
              "ticks": ""
             }
            },
            "type": "scattercarpet"
           }
          ],
          "scattergeo": [
           {
            "marker": {
             "colorbar": {
              "outlinewidth": 0,
              "ticks": ""
             }
            },
            "type": "scattergeo"
           }
          ],
          "scattergl": [
           {
            "marker": {
             "colorbar": {
              "outlinewidth": 0,
              "ticks": ""
             }
            },
            "type": "scattergl"
           }
          ],
          "scattermapbox": [
           {
            "marker": {
             "colorbar": {
              "outlinewidth": 0,
              "ticks": ""
             }
            },
            "type": "scattermapbox"
           }
          ],
          "scatterpolar": [
           {
            "marker": {
             "colorbar": {
              "outlinewidth": 0,
              "ticks": ""
             }
            },
            "type": "scatterpolar"
           }
          ],
          "scatterpolargl": [
           {
            "marker": {
             "colorbar": {
              "outlinewidth": 0,
              "ticks": ""
             }
            },
            "type": "scatterpolargl"
           }
          ],
          "scatterternary": [
           {
            "marker": {
             "colorbar": {
              "outlinewidth": 0,
              "ticks": ""
             }
            },
            "type": "scatterternary"
           }
          ],
          "surface": [
           {
            "colorbar": {
             "outlinewidth": 0,
             "ticks": ""
            },
            "colorscale": [
             [
              0,
              "#0d0887"
             ],
             [
              0.1111111111111111,
              "#46039f"
             ],
             [
              0.2222222222222222,
              "#7201a8"
             ],
             [
              0.3333333333333333,
              "#9c179e"
             ],
             [
              0.4444444444444444,
              "#bd3786"
             ],
             [
              0.5555555555555556,
              "#d8576b"
             ],
             [
              0.6666666666666666,
              "#ed7953"
             ],
             [
              0.7777777777777778,
              "#fb9f3a"
             ],
             [
              0.8888888888888888,
              "#fdca26"
             ],
             [
              1,
              "#f0f921"
             ]
            ],
            "type": "surface"
           }
          ],
          "table": [
           {
            "cells": {
             "fill": {
              "color": "#EBF0F8"
             },
             "line": {
              "color": "white"
             }
            },
            "header": {
             "fill": {
              "color": "#C8D4E3"
             },
             "line": {
              "color": "white"
             }
            },
            "type": "table"
           }
          ]
         },
         "layout": {
          "annotationdefaults": {
           "arrowcolor": "#2a3f5f",
           "arrowhead": 0,
           "arrowwidth": 1
          },
          "autotypenumbers": "strict",
          "coloraxis": {
           "colorbar": {
            "outlinewidth": 0,
            "ticks": ""
           }
          },
          "colorscale": {
           "diverging": [
            [
             0,
             "#8e0152"
            ],
            [
             0.1,
             "#c51b7d"
            ],
            [
             0.2,
             "#de77ae"
            ],
            [
             0.3,
             "#f1b6da"
            ],
            [
             0.4,
             "#fde0ef"
            ],
            [
             0.5,
             "#f7f7f7"
            ],
            [
             0.6,
             "#e6f5d0"
            ],
            [
             0.7,
             "#b8e186"
            ],
            [
             0.8,
             "#7fbc41"
            ],
            [
             0.9,
             "#4d9221"
            ],
            [
             1,
             "#276419"
            ]
           ],
           "sequential": [
            [
             0,
             "#0d0887"
            ],
            [
             0.1111111111111111,
             "#46039f"
            ],
            [
             0.2222222222222222,
             "#7201a8"
            ],
            [
             0.3333333333333333,
             "#9c179e"
            ],
            [
             0.4444444444444444,
             "#bd3786"
            ],
            [
             0.5555555555555556,
             "#d8576b"
            ],
            [
             0.6666666666666666,
             "#ed7953"
            ],
            [
             0.7777777777777778,
             "#fb9f3a"
            ],
            [
             0.8888888888888888,
             "#fdca26"
            ],
            [
             1,
             "#f0f921"
            ]
           ],
           "sequentialminus": [
            [
             0,
             "#0d0887"
            ],
            [
             0.1111111111111111,
             "#46039f"
            ],
            [
             0.2222222222222222,
             "#7201a8"
            ],
            [
             0.3333333333333333,
             "#9c179e"
            ],
            [
             0.4444444444444444,
             "#bd3786"
            ],
            [
             0.5555555555555556,
             "#d8576b"
            ],
            [
             0.6666666666666666,
             "#ed7953"
            ],
            [
             0.7777777777777778,
             "#fb9f3a"
            ],
            [
             0.8888888888888888,
             "#fdca26"
            ],
            [
             1,
             "#f0f921"
            ]
           ]
          },
          "colorway": [
           "#636efa",
           "#EF553B",
           "#00cc96",
           "#ab63fa",
           "#FFA15A",
           "#19d3f3",
           "#FF6692",
           "#B6E880",
           "#FF97FF",
           "#FECB52"
          ],
          "font": {
           "color": "#2a3f5f"
          },
          "geo": {
           "bgcolor": "white",
           "lakecolor": "white",
           "landcolor": "#E5ECF6",
           "showlakes": true,
           "showland": true,
           "subunitcolor": "white"
          },
          "hoverlabel": {
           "align": "left"
          },
          "hovermode": "closest",
          "mapbox": {
           "style": "light"
          },
          "paper_bgcolor": "white",
          "plot_bgcolor": "#E5ECF6",
          "polar": {
           "angularaxis": {
            "gridcolor": "white",
            "linecolor": "white",
            "ticks": ""
           },
           "bgcolor": "#E5ECF6",
           "radialaxis": {
            "gridcolor": "white",
            "linecolor": "white",
            "ticks": ""
           }
          },
          "scene": {
           "xaxis": {
            "backgroundcolor": "#E5ECF6",
            "gridcolor": "white",
            "gridwidth": 2,
            "linecolor": "white",
            "showbackground": true,
            "ticks": "",
            "zerolinecolor": "white"
           },
           "yaxis": {
            "backgroundcolor": "#E5ECF6",
            "gridcolor": "white",
            "gridwidth": 2,
            "linecolor": "white",
            "showbackground": true,
            "ticks": "",
            "zerolinecolor": "white"
           },
           "zaxis": {
            "backgroundcolor": "#E5ECF6",
            "gridcolor": "white",
            "gridwidth": 2,
            "linecolor": "white",
            "showbackground": true,
            "ticks": "",
            "zerolinecolor": "white"
           }
          },
          "shapedefaults": {
           "line": {
            "color": "#2a3f5f"
           }
          },
          "ternary": {
           "aaxis": {
            "gridcolor": "white",
            "linecolor": "white",
            "ticks": ""
           },
           "baxis": {
            "gridcolor": "white",
            "linecolor": "white",
            "ticks": ""
           },
           "bgcolor": "#E5ECF6",
           "caxis": {
            "gridcolor": "white",
            "linecolor": "white",
            "ticks": ""
           }
          },
          "title": {
           "x": 0.05
          },
          "xaxis": {
           "automargin": true,
           "gridcolor": "white",
           "linecolor": "white",
           "ticks": "",
           "title": {
            "standoff": 15
           },
           "zerolinecolor": "white",
           "zerolinewidth": 2
          },
          "yaxis": {
           "automargin": true,
           "gridcolor": "white",
           "linecolor": "white",
           "ticks": "",
           "title": {
            "standoff": 15
           },
           "zerolinecolor": "white",
           "zerolinewidth": 2
          }
         }
        },
        "xaxis": {
         "anchor": "y",
         "domain": [
          0,
          1
         ],
         "title": {
          "text": "value"
         }
        },
        "yaxis": {
         "anchor": "x",
         "domain": [
          0,
          1
         ],
         "title": {
          "text": "count"
         }
        }
       }
      },
      "text/html": [
       "<div>                            <div id=\"6f80283f-db08-4481-b36a-ce1806cad779\" class=\"plotly-graph-div\" style=\"height:525px; width:100%;\"></div>            <script type=\"text/javascript\">                require([\"plotly\"], function(Plotly) {                    window.PLOTLYENV=window.PLOTLYENV || {};                                    if (document.getElementById(\"6f80283f-db08-4481-b36a-ce1806cad779\")) {                    Plotly.newPlot(                        \"6f80283f-db08-4481-b36a-ce1806cad779\",                        [{\"alignmentgroup\":\"True\",\"bingroup\":\"x\",\"hovertemplate\":\"variable=GHGEmissionsIntensity<br>value=%{x}<br>count=%{y}<extra></extra>\",\"legendgroup\":\"GHGEmissionsIntensity\",\"marker\":{\"color\":\"#636efa\",\"pattern\":{\"shape\":\"\"}},\"name\":\"GHGEmissionsIntensity\",\"nbinsx\":24,\"offsetgroup\":\"GHGEmissionsIntensity\",\"orientation\":\"v\",\"showlegend\":true,\"x\":[1.02,0.14,1.88,1.81,2.63,0.04,0.57,1.38,1.6,0.64,0.4,0.58,0.6,1.89,1.28,1.33,1.4,0.98,2.61,1.4,1.6,0.8,0.67,0.1,0.44,0.64,1.57,3.82,1.16,0.34,0.78,0.65,2.48,1.29,0.75,2.89,0.64,1.41,1.17,2.31,3.03,1.12,1.12,1.98,0.93,0.77,0.53,1.51,0.6,0.61,0.55,1.06,0.94,0.06,1.93,3.21,0.63,0.54,0.47,0.21,0.84,0.13,1.89,1.31,0.97,1.49,1.46,0.44,1.33,0.13,0.68,0.88,0.36,0.36,0.17,0.61,1.0,1.2,0.23,0.22,0.07,0.83,0.24,0.5,0.61,1.31,0.93,0.15,0.23,1.34,2.73,0.46,0.47,0.3,1.18,0.26,1.25,0.36,0.84,0.11,1.98,0.05,0.05,0.22,0.22,0.19,0.48,0.47,0.32,0.62,1.68,0.24,0.24,0.22,0.16,0.23,0.58,1.1,0.27,0.29,0.28,0.28,0.41,1.47,0.23,0.72,1.07,0.72,0.84,0.11,2.02,1.64,3.17,0.28,0.3,0.39,0.19,0.64,1.28,0.13,0.02,0.24,0.35,0.12,0.85,1.33,0.13,0.06,0.88,0.36,0.1,0.51,1.27,0.61,1.31,0.62,1.38,0.48,1.07,0.4,0.43,0.98,0.25,0.47,0.51,0.43,0.41,0.38,0.3,0.52,0.64,1.16,0.54,0.26,0.23,0.94,0.97,0.41,1.31,2.11,0.27,0.4,1.21,0.42,0.09,1.12,0.25,1.35,0.27,0.31,0.33,0.2,0.56,0.79,1.73,0.8,0.12,0.24,0.21,0.7,0.25,0.13,2.07,0.27,0.37,2.8,0.68,0.78,0.93,0.5,0.59,0.44,0.65,0.42,1.19,0.18,0.43,1.0,0.38,0.33,0.19,0.31,0.62,0.0,1.2,0.9,0.27,0.34,0.56,0.56,0.37,0.06,0.28,0.87,0.8,0.82,1.39,0.06,0.64,0.77,0.24,2.12,0.85,2.92,0.31,2.65,0.23,0.36,1.54,0.31,0.5,0.43,0.63,3.38,0.8,1.39,0.83,2.72,0.33,0.7,0.39,0.34,0.26,0.47,0.15,0.33,0.88,0.49,1.0,1.81,1.36,0.96,0.33,1.63,0.39,0.12,0.01,2.37,1.63,1.55,3.85,0.4,0.78,0.13,0.06,0.02,0.65,1.18,0.17,0.45,0.27,0.6,0.17,0.06,0.96,0.09,1.82,0.2,0.26,0.75,1.43,0.68,0.26,0.88,0.39,0.94,2.09,1.8,0.14,2.06,0.08,0.09,0.65,0.52,1.33,0.44,0.42,1.13,1.15,0.36,2.26,1.37,2.28,0.15,2.02,1.14,0.5,2.05,0.53,0.29,0.7,0.59,0.42,0.26,0.85,0.4,0.52,0.19,0.23,1.0,1.8,1.29,0.29,0.1,1.15,0.41,0.45,0.41,2.28,1.28,1.64,0.91,0.79,0.2,0.68,1.2,1.17,1.21,0.75,1.93,3.04,2.06,2.28,0.78,1.53,0.7,0.56,3.08,0.29,1.8,0.28,1.22,1.09,0.32,1.82,0.17,0.16,0.24,2.47,3.13,0.86,0.24,0.3,0.67,0.8,1.25,0.02,0.46,3.65,1.79,1.15,1.5,2.41,0.52,0.79,0.05,1.32,0.35,0.87,0.48,0.2,0.64,0.67,0.56,0.5,1.61,0.28,0.04,0.19,0.05,3.05,0.06,1.96,1.94,3.0,0.28,1.1,0.03,1.4,1.74,0.57,2.01,0.91,1.96,0.7,0.12,0.21,0.24,1.87,0.35,0.55,0.61,2.94,1.58,3.69,2.47,0.6,0.14,0.26,0.31,0.12,2.34,1.77,3.17,0.08,0.17,0.9,0.36,0.89,0.11,0.13,0.53,0.6,1.79,1.8,2.63,0.27,2.05,0.31,0.65,2.51,0.42,2.39,0.52,1.33,0.23,0.4,0.28,0.94,0.72,0.33,0.47,0.28,0.3,1.06,1.38,2.45,1.01,0.62,0.22,1.57,0.29,3.93,1.41,1.74,1.27,3.88,2.67,0.65,0.23,0.44,0.39,0.36,0.76,0.57,0.59,1.35,0.36,2.06,3.49,2.77,1.46,1.53,1.35,0.03,1.15,0.61,0.64,1.79,1.83,1.26,1.23,1.95,0.89,0.37,1.2,0.66,0.37,0.16,0.34,1.99,1.1,0.15,0.36,4.14,0.21,2.59,0.09,0.44,0.76,3.98,0.14,0.21,1.95,1.04,0.15,0.91,2.52,2.13,1.08,2.22,2.99,0.2,0.31,2.43,0.32,2.14,1.9,0.16,0.22,1.33,0.21,0.59,0.66,0.08,1.02,0.32,1.68,0.66,3.97,0.08,3.27,0.68,2.77,1.48,0.62,0.26,1.28,0.29,1.24,1.4,1.48,0.24,0.63,0.8,2.44,0.04,2.17,0.6,0.83,1.7,1.42,1.25,1.89,0.13,1.26,0.31,0.44,1.22,0.72,0.57,1.42,0.32,0.58,1.34,0.07,0.22,0.66,1.42,0.02,0.01,0.23,0.41,0.31,0.2,0.23,0.21,0.04,0.34,1.47,0.75,0.72,2.24,1.18,1.39,1.27,4.1,0.31,3.32,0.22,0.29,0.74,0.72,3.68,0.31,1.89,0.23,1.38,1.16,0.03,2.63,1.0,2.25,1.82,1.2,0.33,1.19,0.07,1.66,0.08,0.97,0.27,0.11,1.29,0.58,0.11,0.18,0.64,1.37,0.09,0.12,1.47,0.94,0.32,3.14,1.98,0.43,0.65,0.93,0.12,0.45,0.88,1.21,0.22,0.31,0.18,0.24,1.1,0.55,0.43,3.65,1.99,0.83,0.13,0.34,1.41,0.92,1.2,0.66,0.17,0.59,0.19,0.32,0.41,0.52,4.01,0.61,2.29,1.45,0.34,1.43,2.51,0.82,1.47,0.33,0.72,0.05,3.26,1.75,0.15,0.81,0.24,2.46,0.8,0.08,4.02,1.37,1.12,0.94,0.11,3.29,2.42,0.6,0.56,0.25,0.34,0.47,0.04,0.27,0.16,0.8,1.99,0.15,0.35,1.71,0.96,0.71,0.46,2.46,1.72,1.15,2.31,0.23,0.26,0.18,0.21,0.65,0.8,1.53,1.68,2.09,0.07,0.23,0.4,1.27,0.8,1.22,1.87,0.28,0.53,2.07,0.74,0.52,0.15,0.09,0.26,0.29,0.61,0.84,0.15,0.6,0.58,0.39,0.38,2.01,0.91,0.3,0.74,0.5,0.74,1.14,0.87,0.54,1.63,0.21,1.67,0.06,0.21,0.58,3.51,1.31,3.99,3.46,1.38,1.94,1.23,1.42,1.95,0.8,0.67,4.06,0.31,0.67,0.89,0.6,0.31,0.06,0.34,1.29,2.44,0.22,3.25,0.06,0.2,1.49,1.26,0.71,0.88,1.44,3.61,0.35,0.28,0.06,0.84,0.68,0.2,0.33,2.34,0.97,0.43,1.68,1.95,0.03,0.03,0.18,1.57,3.04,0.2,0.48,1.01,0.57,1.82,2.34,0.63,0.7,0.55,1.38,0.56,1.31,1.43,0.54,1.95,0.1,0.29,1.27,0.9,0.6,1.04,0.61,0.33,1.31,1.65,0.27,4.02,1.1,0.64,0.63,3.98,0.06,0.92,1.06,1.02,1.0,3.67,0.25,3.28,0.54,0.6,1.07,0.42,0.37,1.09,3.88,0.56,0.32,1.7,0.14,0.46,0.45,0.28,0.35,1.35,1.13,0.83,0.14,0.27,0.85,0.06,0.91,0.6,1.24,1.01,0.71,1.93,0.23,0.26,2.64,0.34,1.17,0.63,0.22,4.15,1.73,2.43,0.92,2.12,0.28,1.63,2.37,3.75,1.13,2.03,0.37,0.33,1.13,1.51,1.3,1.4,1.0,1.26,1.51,0.46,3.63,3.14,0.51,0.19,0.05,1.87,0.43,1.13,1.11,0.61,2.08,0.27,0.23,1.15,0.45,0.23,0.72,1.14,0.77,0.91,2.56,1.01,0.5,0.54,0.1,2.27,0.18,0.73,1.2,0.22,0.25,0.3,0.42,0.17,0.34,0.97,1.5,1.01,1.31,0.32,0.27,1.34,2.06,0.2,2.4,2.27,0.21,2.75,2.47,3.02,1.91,0.19,3.73,1.2,0.67,0.77,2.09,0.84,0.91,1.66,0.8,0.34,1.38,2.49,1.18,0.88,1.45,0.33,2.4,0.13,1.03,0.11,0.69,0.19,0.13,2.19,0.04,0.5,0.55,0.07,3.81,0.18,0.88,0.88,1.91,0.97,1.05,2.1,0.22,0.38,0.74,1.58,0.04,0.07,0.26,0.52,2.27,1.82,0.72,1.39,2.09,3.98,0.07,0.99,2.15,2.11,3.01,1.2,2.4,0.76,0.18,1.89,0.11,2.23,0.21,1.6,0.39,1.18,1.56,0.79,1.08,0.73,4.21,1.82,3.06,0.17,1.72,1.08,0.41,0.2,0.43,2.78,0.13,0.34,0.59,1.28,1.0,0.28,3.29,0.82,1.44,0.09,0.32,0.39,2.32,0.47,1.9,0.28,0.72,0.86,0.45,0.74,0.3,2.0,0.51,1.28,0.44,0.59,0.54,0.64,0.1,0.29,1.72,0.17,0.85,1.03,3.03,0.94,0.21,0.33,0.22,2.5,1.92,1.27,1.47,3.03,1.11,2.01,1.57,2.26],\"xaxis\":\"x\",\"yaxis\":\"y\",\"type\":\"histogram\"}],                        {\"template\":{\"data\":{\"histogram2dcontour\":[{\"type\":\"histogram2dcontour\",\"colorbar\":{\"outlinewidth\":0,\"ticks\":\"\"},\"colorscale\":[[0.0,\"#0d0887\"],[0.1111111111111111,\"#46039f\"],[0.2222222222222222,\"#7201a8\"],[0.3333333333333333,\"#9c179e\"],[0.4444444444444444,\"#bd3786\"],[0.5555555555555556,\"#d8576b\"],[0.6666666666666666,\"#ed7953\"],[0.7777777777777778,\"#fb9f3a\"],[0.8888888888888888,\"#fdca26\"],[1.0,\"#f0f921\"]]}],\"choropleth\":[{\"type\":\"choropleth\",\"colorbar\":{\"outlinewidth\":0,\"ticks\":\"\"}}],\"histogram2d\":[{\"type\":\"histogram2d\",\"colorbar\":{\"outlinewidth\":0,\"ticks\":\"\"},\"colorscale\":[[0.0,\"#0d0887\"],[0.1111111111111111,\"#46039f\"],[0.2222222222222222,\"#7201a8\"],[0.3333333333333333,\"#9c179e\"],[0.4444444444444444,\"#bd3786\"],[0.5555555555555556,\"#d8576b\"],[0.6666666666666666,\"#ed7953\"],[0.7777777777777778,\"#fb9f3a\"],[0.8888888888888888,\"#fdca26\"],[1.0,\"#f0f921\"]]}],\"heatmap\":[{\"type\":\"heatmap\",\"colorbar\":{\"outlinewidth\":0,\"ticks\":\"\"},\"colorscale\":[[0.0,\"#0d0887\"],[0.1111111111111111,\"#46039f\"],[0.2222222222222222,\"#7201a8\"],[0.3333333333333333,\"#9c179e\"],[0.4444444444444444,\"#bd3786\"],[0.5555555555555556,\"#d8576b\"],[0.6666666666666666,\"#ed7953\"],[0.7777777777777778,\"#fb9f3a\"],[0.8888888888888888,\"#fdca26\"],[1.0,\"#f0f921\"]]}],\"heatmapgl\":[{\"type\":\"heatmapgl\",\"colorbar\":{\"outlinewidth\":0,\"ticks\":\"\"},\"colorscale\":[[0.0,\"#0d0887\"],[0.1111111111111111,\"#46039f\"],[0.2222222222222222,\"#7201a8\"],[0.3333333333333333,\"#9c179e\"],[0.4444444444444444,\"#bd3786\"],[0.5555555555555556,\"#d8576b\"],[0.6666666666666666,\"#ed7953\"],[0.7777777777777778,\"#fb9f3a\"],[0.8888888888888888,\"#fdca26\"],[1.0,\"#f0f921\"]]}],\"contourcarpet\":[{\"type\":\"contourcarpet\",\"colorbar\":{\"outlinewidth\":0,\"ticks\":\"\"}}],\"contour\":[{\"type\":\"contour\",\"colorbar\":{\"outlinewidth\":0,\"ticks\":\"\"},\"colorscale\":[[0.0,\"#0d0887\"],[0.1111111111111111,\"#46039f\"],[0.2222222222222222,\"#7201a8\"],[0.3333333333333333,\"#9c179e\"],[0.4444444444444444,\"#bd3786\"],[0.5555555555555556,\"#d8576b\"],[0.6666666666666666,\"#ed7953\"],[0.7777777777777778,\"#fb9f3a\"],[0.8888888888888888,\"#fdca26\"],[1.0,\"#f0f921\"]]}],\"surface\":[{\"type\":\"surface\",\"colorbar\":{\"outlinewidth\":0,\"ticks\":\"\"},\"colorscale\":[[0.0,\"#0d0887\"],[0.1111111111111111,\"#46039f\"],[0.2222222222222222,\"#7201a8\"],[0.3333333333333333,\"#9c179e\"],[0.4444444444444444,\"#bd3786\"],[0.5555555555555556,\"#d8576b\"],[0.6666666666666666,\"#ed7953\"],[0.7777777777777778,\"#fb9f3a\"],[0.8888888888888888,\"#fdca26\"],[1.0,\"#f0f921\"]]}],\"mesh3d\":[{\"type\":\"mesh3d\",\"colorbar\":{\"outlinewidth\":0,\"ticks\":\"\"}}],\"scatter\":[{\"fillpattern\":{\"fillmode\":\"overlay\",\"size\":10,\"solidity\":0.2},\"type\":\"scatter\"}],\"parcoords\":[{\"type\":\"parcoords\",\"line\":{\"colorbar\":{\"outlinewidth\":0,\"ticks\":\"\"}}}],\"scatterpolargl\":[{\"type\":\"scatterpolargl\",\"marker\":{\"colorbar\":{\"outlinewidth\":0,\"ticks\":\"\"}}}],\"bar\":[{\"error_x\":{\"color\":\"#2a3f5f\"},\"error_y\":{\"color\":\"#2a3f5f\"},\"marker\":{\"line\":{\"color\":\"#E5ECF6\",\"width\":0.5},\"pattern\":{\"fillmode\":\"overlay\",\"size\":10,\"solidity\":0.2}},\"type\":\"bar\"}],\"scattergeo\":[{\"type\":\"scattergeo\",\"marker\":{\"colorbar\":{\"outlinewidth\":0,\"ticks\":\"\"}}}],\"scatterpolar\":[{\"type\":\"scatterpolar\",\"marker\":{\"colorbar\":{\"outlinewidth\":0,\"ticks\":\"\"}}}],\"histogram\":[{\"marker\":{\"pattern\":{\"fillmode\":\"overlay\",\"size\":10,\"solidity\":0.2}},\"type\":\"histogram\"}],\"scattergl\":[{\"type\":\"scattergl\",\"marker\":{\"colorbar\":{\"outlinewidth\":0,\"ticks\":\"\"}}}],\"scatter3d\":[{\"type\":\"scatter3d\",\"line\":{\"colorbar\":{\"outlinewidth\":0,\"ticks\":\"\"}},\"marker\":{\"colorbar\":{\"outlinewidth\":0,\"ticks\":\"\"}}}],\"scattermapbox\":[{\"type\":\"scattermapbox\",\"marker\":{\"colorbar\":{\"outlinewidth\":0,\"ticks\":\"\"}}}],\"scatterternary\":[{\"type\":\"scatterternary\",\"marker\":{\"colorbar\":{\"outlinewidth\":0,\"ticks\":\"\"}}}],\"scattercarpet\":[{\"type\":\"scattercarpet\",\"marker\":{\"colorbar\":{\"outlinewidth\":0,\"ticks\":\"\"}}}],\"carpet\":[{\"aaxis\":{\"endlinecolor\":\"#2a3f5f\",\"gridcolor\":\"white\",\"linecolor\":\"white\",\"minorgridcolor\":\"white\",\"startlinecolor\":\"#2a3f5f\"},\"baxis\":{\"endlinecolor\":\"#2a3f5f\",\"gridcolor\":\"white\",\"linecolor\":\"white\",\"minorgridcolor\":\"white\",\"startlinecolor\":\"#2a3f5f\"},\"type\":\"carpet\"}],\"table\":[{\"cells\":{\"fill\":{\"color\":\"#EBF0F8\"},\"line\":{\"color\":\"white\"}},\"header\":{\"fill\":{\"color\":\"#C8D4E3\"},\"line\":{\"color\":\"white\"}},\"type\":\"table\"}],\"barpolar\":[{\"marker\":{\"line\":{\"color\":\"#E5ECF6\",\"width\":0.5},\"pattern\":{\"fillmode\":\"overlay\",\"size\":10,\"solidity\":0.2}},\"type\":\"barpolar\"}],\"pie\":[{\"automargin\":true,\"type\":\"pie\"}]},\"layout\":{\"autotypenumbers\":\"strict\",\"colorway\":[\"#636efa\",\"#EF553B\",\"#00cc96\",\"#ab63fa\",\"#FFA15A\",\"#19d3f3\",\"#FF6692\",\"#B6E880\",\"#FF97FF\",\"#FECB52\"],\"font\":{\"color\":\"#2a3f5f\"},\"hovermode\":\"closest\",\"hoverlabel\":{\"align\":\"left\"},\"paper_bgcolor\":\"white\",\"plot_bgcolor\":\"#E5ECF6\",\"polar\":{\"bgcolor\":\"#E5ECF6\",\"angularaxis\":{\"gridcolor\":\"white\",\"linecolor\":\"white\",\"ticks\":\"\"},\"radialaxis\":{\"gridcolor\":\"white\",\"linecolor\":\"white\",\"ticks\":\"\"}},\"ternary\":{\"bgcolor\":\"#E5ECF6\",\"aaxis\":{\"gridcolor\":\"white\",\"linecolor\":\"white\",\"ticks\":\"\"},\"baxis\":{\"gridcolor\":\"white\",\"linecolor\":\"white\",\"ticks\":\"\"},\"caxis\":{\"gridcolor\":\"white\",\"linecolor\":\"white\",\"ticks\":\"\"}},\"coloraxis\":{\"colorbar\":{\"outlinewidth\":0,\"ticks\":\"\"}},\"colorscale\":{\"sequential\":[[0.0,\"#0d0887\"],[0.1111111111111111,\"#46039f\"],[0.2222222222222222,\"#7201a8\"],[0.3333333333333333,\"#9c179e\"],[0.4444444444444444,\"#bd3786\"],[0.5555555555555556,\"#d8576b\"],[0.6666666666666666,\"#ed7953\"],[0.7777777777777778,\"#fb9f3a\"],[0.8888888888888888,\"#fdca26\"],[1.0,\"#f0f921\"]],\"sequentialminus\":[[0.0,\"#0d0887\"],[0.1111111111111111,\"#46039f\"],[0.2222222222222222,\"#7201a8\"],[0.3333333333333333,\"#9c179e\"],[0.4444444444444444,\"#bd3786\"],[0.5555555555555556,\"#d8576b\"],[0.6666666666666666,\"#ed7953\"],[0.7777777777777778,\"#fb9f3a\"],[0.8888888888888888,\"#fdca26\"],[1.0,\"#f0f921\"]],\"diverging\":[[0,\"#8e0152\"],[0.1,\"#c51b7d\"],[0.2,\"#de77ae\"],[0.3,\"#f1b6da\"],[0.4,\"#fde0ef\"],[0.5,\"#f7f7f7\"],[0.6,\"#e6f5d0\"],[0.7,\"#b8e186\"],[0.8,\"#7fbc41\"],[0.9,\"#4d9221\"],[1,\"#276419\"]]},\"xaxis\":{\"gridcolor\":\"white\",\"linecolor\":\"white\",\"ticks\":\"\",\"title\":{\"standoff\":15},\"zerolinecolor\":\"white\",\"automargin\":true,\"zerolinewidth\":2},\"yaxis\":{\"gridcolor\":\"white\",\"linecolor\":\"white\",\"ticks\":\"\",\"title\":{\"standoff\":15},\"zerolinecolor\":\"white\",\"automargin\":true,\"zerolinewidth\":2},\"scene\":{\"xaxis\":{\"backgroundcolor\":\"#E5ECF6\",\"gridcolor\":\"white\",\"linecolor\":\"white\",\"showbackground\":true,\"ticks\":\"\",\"zerolinecolor\":\"white\",\"gridwidth\":2},\"yaxis\":{\"backgroundcolor\":\"#E5ECF6\",\"gridcolor\":\"white\",\"linecolor\":\"white\",\"showbackground\":true,\"ticks\":\"\",\"zerolinecolor\":\"white\",\"gridwidth\":2},\"zaxis\":{\"backgroundcolor\":\"#E5ECF6\",\"gridcolor\":\"white\",\"linecolor\":\"white\",\"showbackground\":true,\"ticks\":\"\",\"zerolinecolor\":\"white\",\"gridwidth\":2}},\"shapedefaults\":{\"line\":{\"color\":\"#2a3f5f\"}},\"annotationdefaults\":{\"arrowcolor\":\"#2a3f5f\",\"arrowhead\":0,\"arrowwidth\":1},\"geo\":{\"bgcolor\":\"white\",\"landcolor\":\"#E5ECF6\",\"subunitcolor\":\"white\",\"showland\":true,\"showlakes\":true,\"lakecolor\":\"white\"},\"title\":{\"x\":0.05},\"mapbox\":{\"style\":\"light\"}}},\"xaxis\":{\"anchor\":\"y\",\"domain\":[0.0,1.0],\"title\":{\"text\":\"value\"}},\"yaxis\":{\"anchor\":\"x\",\"domain\":[0.0,1.0],\"title\":{\"text\":\"count\"}},\"legend\":{\"title\":{\"text\":\"variable\"},\"tracegroupgap\":0},\"margin\":{\"t\":60},\"barmode\":\"relative\"},                        {\"responsive\": true}                    ).then(function(){\n",
       "                            \n",
       "var gd = document.getElementById('6f80283f-db08-4481-b36a-ce1806cad779');\n",
       "var x = new MutationObserver(function (mutations, observer) {{\n",
       "        var display = window.getComputedStyle(gd).display;\n",
       "        if (!display || display === 'none') {{\n",
       "            console.log([gd, 'removed!']);\n",
       "            Plotly.purge(gd);\n",
       "            observer.disconnect();\n",
       "        }}\n",
       "}});\n",
       "\n",
       "// Listen for the removal of the full notebook cells\n",
       "var notebookContainer = gd.closest('#notebook-container');\n",
       "if (notebookContainer) {{\n",
       "    x.observe(notebookContainer, {childList: true});\n",
       "}}\n",
       "\n",
       "// Listen for the clearing of the current output cell\n",
       "var outputEl = gd.closest('.output');\n",
       "if (outputEl) {{\n",
       "    x.observe(outputEl, {childList: true});\n",
       "}}\n",
       "\n",
       "                        })                };                });            </script>        </div>"
      ]
     },
     "metadata": {},
     "output_type": "display_data"
    }
   ],
   "source": [
    "boxplot_hist(df,'GHGEmissionsIntensity')"
   ]
  },
  {
   "cell_type": "code",
   "execution_count": 150,
   "metadata": {},
   "outputs": [
    {
     "data": {
      "text/html": [
       "<div>\n",
       "<style scoped>\n",
       "    .dataframe tbody tr th:only-of-type {\n",
       "        vertical-align: middle;\n",
       "    }\n",
       "\n",
       "    .dataframe tbody tr th {\n",
       "        vertical-align: top;\n",
       "    }\n",
       "\n",
       "    .dataframe thead th {\n",
       "        text-align: right;\n",
       "    }\n",
       "</style>\n",
       "<table border=\"1\" class=\"dataframe\">\n",
       "  <thead>\n",
       "    <tr style=\"text-align: right;\">\n",
       "      <th></th>\n",
       "      <th>TotalGHGEmissions</th>\n",
       "      <th>NaturalGas(kBtu)</th>\n",
       "      <th>SiteEnergyUse(kBtu)</th>\n",
       "      <th>ENERGYSTARScore</th>\n",
       "      <th>NumberofBuildings</th>\n",
       "      <th>age</th>\n",
       "      <th>volume</th>\n",
       "    </tr>\n",
       "  </thead>\n",
       "  <tbody>\n",
       "    <tr>\n",
       "      <th>TotalGHGEmissions</th>\n",
       "      <td>1.000000</td>\n",
       "      <td>0.948385</td>\n",
       "      <td>0.676305</td>\n",
       "      <td>-0.087275</td>\n",
       "      <td>0.092500</td>\n",
       "      <td>-0.091206</td>\n",
       "      <td>0.261850</td>\n",
       "    </tr>\n",
       "    <tr>\n",
       "      <th>NaturalGas(kBtu)</th>\n",
       "      <td>0.948385</td>\n",
       "      <td>1.000000</td>\n",
       "      <td>0.414388</td>\n",
       "      <td>-0.052272</td>\n",
       "      <td>0.082766</td>\n",
       "      <td>-0.025419</td>\n",
       "      <td>0.087835</td>\n",
       "    </tr>\n",
       "    <tr>\n",
       "      <th>SiteEnergyUse(kBtu)</th>\n",
       "      <td>0.676305</td>\n",
       "      <td>0.414388</td>\n",
       "      <td>1.000000</td>\n",
       "      <td>-0.135915</td>\n",
       "      <td>0.074659</td>\n",
       "      <td>-0.206161</td>\n",
       "      <td>0.538457</td>\n",
       "    </tr>\n",
       "    <tr>\n",
       "      <th>ENERGYSTARScore</th>\n",
       "      <td>-0.087275</td>\n",
       "      <td>-0.052272</td>\n",
       "      <td>-0.135915</td>\n",
       "      <td>1.000000</td>\n",
       "      <td>0.007139</td>\n",
       "      <td>0.056855</td>\n",
       "      <td>0.139048</td>\n",
       "    </tr>\n",
       "    <tr>\n",
       "      <th>NumberofBuildings</th>\n",
       "      <td>0.092500</td>\n",
       "      <td>0.082766</td>\n",
       "      <td>0.074659</td>\n",
       "      <td>0.007139</td>\n",
       "      <td>1.000000</td>\n",
       "      <td>-0.086414</td>\n",
       "      <td>0.006476</td>\n",
       "    </tr>\n",
       "    <tr>\n",
       "      <th>age</th>\n",
       "      <td>-0.091206</td>\n",
       "      <td>-0.025419</td>\n",
       "      <td>-0.206161</td>\n",
       "      <td>0.056855</td>\n",
       "      <td>-0.086414</td>\n",
       "      <td>1.000000</td>\n",
       "      <td>-0.128343</td>\n",
       "    </tr>\n",
       "    <tr>\n",
       "      <th>volume</th>\n",
       "      <td>0.261850</td>\n",
       "      <td>0.087835</td>\n",
       "      <td>0.538457</td>\n",
       "      <td>0.139048</td>\n",
       "      <td>0.006476</td>\n",
       "      <td>-0.128343</td>\n",
       "      <td>1.000000</td>\n",
       "    </tr>\n",
       "  </tbody>\n",
       "</table>\n",
       "</div>"
      ],
      "text/plain": [
       "                     TotalGHGEmissions  NaturalGas(kBtu)  SiteEnergyUse(kBtu)  \\\n",
       "TotalGHGEmissions             1.000000          0.948385             0.676305   \n",
       "NaturalGas(kBtu)              0.948385          1.000000             0.414388   \n",
       "SiteEnergyUse(kBtu)           0.676305          0.414388             1.000000   \n",
       "ENERGYSTARScore              -0.087275         -0.052272            -0.135915   \n",
       "NumberofBuildings             0.092500          0.082766             0.074659   \n",
       "age                          -0.091206         -0.025419            -0.206161   \n",
       "volume                        0.261850          0.087835             0.538457   \n",
       "\n",
       "                     ENERGYSTARScore  NumberofBuildings       age    volume  \n",
       "TotalGHGEmissions          -0.087275           0.092500 -0.091206  0.261850  \n",
       "NaturalGas(kBtu)           -0.052272           0.082766 -0.025419  0.087835  \n",
       "SiteEnergyUse(kBtu)        -0.135915           0.074659 -0.206161  0.538457  \n",
       "ENERGYSTARScore             1.000000           0.007139  0.056855  0.139048  \n",
       "NumberofBuildings           0.007139           1.000000 -0.086414  0.006476  \n",
       "age                         0.056855          -0.086414  1.000000 -0.128343  \n",
       "volume                      0.139048           0.006476 -0.128343  1.000000  "
      ]
     },
     "execution_count": 150,
     "metadata": {},
     "output_type": "execute_result"
    }
   ],
   "source": [
    "df[relevant_numeric_columns].corr()"
   ]
  },
  {
   "cell_type": "markdown",
   "metadata": {},
   "source": [
    "# Partie 10 Transformation des variables qualitatives en numérique et normalisation"
   ]
  },
  {
   "cell_type": "code",
   "execution_count": 151,
   "metadata": {},
   "outputs": [
    {
     "name": "stdout",
     "output_type": "stream",
     "text": [
      "<class 'pandas.core.frame.DataFrame'>\n",
      "Int64Index: 1102 entries, 23 to 3375\n",
      "Data columns (total 23 columns):\n",
      " #   Column                          Non-Null Count  Dtype  \n",
      "---  ------                          --------------  -----  \n",
      " 0   OSEBuildingID                   1102 non-null   object \n",
      " 1   BuildingType                    1102 non-null   object \n",
      " 2   PrimaryPropertyType             1102 non-null   object \n",
      " 3   PropertyName                    1102 non-null   object \n",
      " 4   Neighborhood                    1102 non-null   object \n",
      " 5   GHGEmissionsIntensity           1102 non-null   float64\n",
      " 6   TotalGHGEmissions               1102 non-null   float64\n",
      " 7   NaturalGas(kBtu)                1102 non-null   float64\n",
      " 8   SteamUse(kBtu)                  1102 non-null   float64\n",
      " 9   SiteEnergyUse(kBtu)             1102 non-null   float64\n",
      " 10  ENERGYSTARScore                 1102 non-null   float64\n",
      " 11  volume                          1102 non-null   int64  \n",
      " 12  NumberofFloors                  1102 non-null   int64  \n",
      " 13  NumberofBuildings               1102 non-null   float64\n",
      " 14  age                             1102 non-null   int64  \n",
      " 15  GHGEmissionsIntensity_outliers  1102 non-null   int64  \n",
      " 16  TotalGHGEmissions_outliers      1102 non-null   int64  \n",
      " 17  NaturalGas(kBtu)_outliers       1102 non-null   int64  \n",
      " 18  SteamUse(kBtu)_outliers         1102 non-null   int64  \n",
      " 19  SiteEnergyUse(kBtu)_outliers    1102 non-null   int64  \n",
      " 20  ENERGYSTARScore_outliers        1102 non-null   int64  \n",
      " 21  PropertyGFATotal_outliers       1102 non-null   int64  \n",
      " 22  NumberofFloors_outliers         1102 non-null   int64  \n",
      "dtypes: float64(7), int64(11), object(5)\n",
      "memory usage: 206.6+ KB\n"
     ]
    }
   ],
   "source": [
    "df.info()"
   ]
  },
  {
   "cell_type": "code",
   "execution_count": 152,
   "metadata": {},
   "outputs": [],
   "source": [
    "features_categorical=['BuildingType','PrimaryPropertyType','Neighborhood']\n",
    "one_hot_encoder = OneHotEncoder(sparse=False)\n",
    "data=one_hot_encoder.fit_transform(df[features_categorical])\n",
    "df_one_hot=pd.DataFrame(columns = one_hot_encoder.get_feature_names_out().tolist(),\n",
    "              data = data)\n",
    " \n",
    "df_test=pd.concat([df[relevant_numeric_columns],df_one_hot],axis='columns')"
   ]
  },
  {
   "cell_type": "code",
   "execution_count": 153,
   "metadata": {},
   "outputs": [
    {
     "data": {
      "text/html": [
       "<div>\n",
       "<style scoped>\n",
       "    .dataframe tbody tr th:only-of-type {\n",
       "        vertical-align: middle;\n",
       "    }\n",
       "\n",
       "    .dataframe tbody tr th {\n",
       "        vertical-align: top;\n",
       "    }\n",
       "\n",
       "    .dataframe thead th {\n",
       "        text-align: right;\n",
       "    }\n",
       "</style>\n",
       "<table border=\"1\" class=\"dataframe\">\n",
       "  <thead>\n",
       "    <tr style=\"text-align: right;\">\n",
       "      <th></th>\n",
       "      <th>TotalGHGEmissions</th>\n",
       "      <th>NaturalGas(kBtu)</th>\n",
       "      <th>SiteEnergyUse(kBtu)</th>\n",
       "      <th>ENERGYSTARScore</th>\n",
       "      <th>NumberofBuildings</th>\n",
       "      <th>age</th>\n",
       "      <th>volume</th>\n",
       "      <th>BuildingType_Campus</th>\n",
       "      <th>BuildingType_NonResidential</th>\n",
       "      <th>BuildingType_Nonresidential COS</th>\n",
       "      <th>...</th>\n",
       "      <th>Neighborhood_GREATER DUWAMISH</th>\n",
       "      <th>Neighborhood_LAKE UNION</th>\n",
       "      <th>Neighborhood_MAGNOLIA / QUEEN ANNE</th>\n",
       "      <th>Neighborhood_NORTH</th>\n",
       "      <th>Neighborhood_NORTHEAST</th>\n",
       "      <th>Neighborhood_NORTHWEST</th>\n",
       "      <th>Neighborhood_North</th>\n",
       "      <th>Neighborhood_Northwest</th>\n",
       "      <th>Neighborhood_SOUTHEAST</th>\n",
       "      <th>Neighborhood_SOUTHWEST</th>\n",
       "    </tr>\n",
       "  </thead>\n",
       "  <tbody>\n",
       "    <tr>\n",
       "      <th>3368</th>\n",
       "      <td>60.81</td>\n",
       "      <td>1.043951e+06</td>\n",
       "      <td>1.813404e+06</td>\n",
       "      <td>63.553672</td>\n",
       "      <td>1.0</td>\n",
       "      <td>22.0</td>\n",
       "      <td>20050.0</td>\n",
       "      <td>NaN</td>\n",
       "      <td>NaN</td>\n",
       "      <td>NaN</td>\n",
       "      <td>...</td>\n",
       "      <td>NaN</td>\n",
       "      <td>NaN</td>\n",
       "      <td>NaN</td>\n",
       "      <td>NaN</td>\n",
       "      <td>NaN</td>\n",
       "      <td>NaN</td>\n",
       "      <td>NaN</td>\n",
       "      <td>NaN</td>\n",
       "      <td>NaN</td>\n",
       "      <td>NaN</td>\n",
       "    </tr>\n",
       "    <tr>\n",
       "      <th>3370</th>\n",
       "      <td>20.33</td>\n",
       "      <td>2.997200e+05</td>\n",
       "      <td>9.320821e+05</td>\n",
       "      <td>63.553672</td>\n",
       "      <td>1.0</td>\n",
       "      <td>34.0</td>\n",
       "      <td>18261.0</td>\n",
       "      <td>NaN</td>\n",
       "      <td>NaN</td>\n",
       "      <td>NaN</td>\n",
       "      <td>...</td>\n",
       "      <td>NaN</td>\n",
       "      <td>NaN</td>\n",
       "      <td>NaN</td>\n",
       "      <td>NaN</td>\n",
       "      <td>NaN</td>\n",
       "      <td>NaN</td>\n",
       "      <td>NaN</td>\n",
       "      <td>NaN</td>\n",
       "      <td>NaN</td>\n",
       "      <td>NaN</td>\n",
       "    </tr>\n",
       "    <tr>\n",
       "      <th>3372</th>\n",
       "      <td>32.17</td>\n",
       "      <td>5.537300e+05</td>\n",
       "      <td>9.502762e+05</td>\n",
       "      <td>63.553672</td>\n",
       "      <td>1.0</td>\n",
       "      <td>12.0</td>\n",
       "      <td>16000.0</td>\n",
       "      <td>NaN</td>\n",
       "      <td>NaN</td>\n",
       "      <td>NaN</td>\n",
       "      <td>...</td>\n",
       "      <td>NaN</td>\n",
       "      <td>NaN</td>\n",
       "      <td>NaN</td>\n",
       "      <td>NaN</td>\n",
       "      <td>NaN</td>\n",
       "      <td>NaN</td>\n",
       "      <td>NaN</td>\n",
       "      <td>NaN</td>\n",
       "      <td>NaN</td>\n",
       "      <td>NaN</td>\n",
       "    </tr>\n",
       "    <tr>\n",
       "      <th>3374</th>\n",
       "      <td>22.11</td>\n",
       "      <td>3.706010e+05</td>\n",
       "      <td>7.194712e+05</td>\n",
       "      <td>63.553672</td>\n",
       "      <td>1.0</td>\n",
       "      <td>27.0</td>\n",
       "      <td>14101.0</td>\n",
       "      <td>NaN</td>\n",
       "      <td>NaN</td>\n",
       "      <td>NaN</td>\n",
       "      <td>...</td>\n",
       "      <td>NaN</td>\n",
       "      <td>NaN</td>\n",
       "      <td>NaN</td>\n",
       "      <td>NaN</td>\n",
       "      <td>NaN</td>\n",
       "      <td>NaN</td>\n",
       "      <td>NaN</td>\n",
       "      <td>NaN</td>\n",
       "      <td>NaN</td>\n",
       "      <td>NaN</td>\n",
       "    </tr>\n",
       "    <tr>\n",
       "      <th>3375</th>\n",
       "      <td>41.27</td>\n",
       "      <td>7.203420e+05</td>\n",
       "      <td>1.152896e+06</td>\n",
       "      <td>63.553672</td>\n",
       "      <td>1.0</td>\n",
       "      <td>78.0</td>\n",
       "      <td>18258.0</td>\n",
       "      <td>NaN</td>\n",
       "      <td>NaN</td>\n",
       "      <td>NaN</td>\n",
       "      <td>...</td>\n",
       "      <td>NaN</td>\n",
       "      <td>NaN</td>\n",
       "      <td>NaN</td>\n",
       "      <td>NaN</td>\n",
       "      <td>NaN</td>\n",
       "      <td>NaN</td>\n",
       "      <td>NaN</td>\n",
       "      <td>NaN</td>\n",
       "      <td>NaN</td>\n",
       "      <td>NaN</td>\n",
       "    </tr>\n",
       "  </tbody>\n",
       "</table>\n",
       "<p>5 rows × 51 columns</p>\n",
       "</div>"
      ],
      "text/plain": [
       "      TotalGHGEmissions  NaturalGas(kBtu)  SiteEnergyUse(kBtu)  \\\n",
       "3368              60.81      1.043951e+06         1.813404e+06   \n",
       "3370              20.33      2.997200e+05         9.320821e+05   \n",
       "3372              32.17      5.537300e+05         9.502762e+05   \n",
       "3374              22.11      3.706010e+05         7.194712e+05   \n",
       "3375              41.27      7.203420e+05         1.152896e+06   \n",
       "\n",
       "      ENERGYSTARScore  NumberofBuildings   age   volume  BuildingType_Campus  \\\n",
       "3368        63.553672                1.0  22.0  20050.0                  NaN   \n",
       "3370        63.553672                1.0  34.0  18261.0                  NaN   \n",
       "3372        63.553672                1.0  12.0  16000.0                  NaN   \n",
       "3374        63.553672                1.0  27.0  14101.0                  NaN   \n",
       "3375        63.553672                1.0  78.0  18258.0                  NaN   \n",
       "\n",
       "      BuildingType_NonResidential  BuildingType_Nonresidential COS  ...  \\\n",
       "3368                          NaN                              NaN  ...   \n",
       "3370                          NaN                              NaN  ...   \n",
       "3372                          NaN                              NaN  ...   \n",
       "3374                          NaN                              NaN  ...   \n",
       "3375                          NaN                              NaN  ...   \n",
       "\n",
       "      Neighborhood_GREATER DUWAMISH  Neighborhood_LAKE UNION  \\\n",
       "3368                            NaN                      NaN   \n",
       "3370                            NaN                      NaN   \n",
       "3372                            NaN                      NaN   \n",
       "3374                            NaN                      NaN   \n",
       "3375                            NaN                      NaN   \n",
       "\n",
       "      Neighborhood_MAGNOLIA / QUEEN ANNE  Neighborhood_NORTH  \\\n",
       "3368                                 NaN                 NaN   \n",
       "3370                                 NaN                 NaN   \n",
       "3372                                 NaN                 NaN   \n",
       "3374                                 NaN                 NaN   \n",
       "3375                                 NaN                 NaN   \n",
       "\n",
       "      Neighborhood_NORTHEAST  Neighborhood_NORTHWEST  Neighborhood_North  \\\n",
       "3368                     NaN                     NaN                 NaN   \n",
       "3370                     NaN                     NaN                 NaN   \n",
       "3372                     NaN                     NaN                 NaN   \n",
       "3374                     NaN                     NaN                 NaN   \n",
       "3375                     NaN                     NaN                 NaN   \n",
       "\n",
       "      Neighborhood_Northwest  Neighborhood_SOUTHEAST  Neighborhood_SOUTHWEST  \n",
       "3368                     NaN                     NaN                     NaN  \n",
       "3370                     NaN                     NaN                     NaN  \n",
       "3372                     NaN                     NaN                     NaN  \n",
       "3374                     NaN                     NaN                     NaN  \n",
       "3375                     NaN                     NaN                     NaN  \n",
       "\n",
       "[5 rows x 51 columns]"
      ]
     },
     "execution_count": 153,
     "metadata": {},
     "output_type": "execute_result"
    }
   ],
   "source": [
    "df_test.tail()"
   ]
  },
  {
   "cell_type": "code",
   "execution_count": 154,
   "metadata": {},
   "outputs": [
    {
     "name": "stdout",
     "output_type": "stream",
     "text": [
      "<class 'pandas.core.frame.DataFrame'>\n",
      "Int64Index: 1776 entries, 0 to 3375\n",
      "Data columns (total 51 columns):\n",
      " #   Column                                           Non-Null Count  Dtype  \n",
      "---  ------                                           --------------  -----  \n",
      " 0   TotalGHGEmissions                                1102 non-null   float64\n",
      " 1   NaturalGas(kBtu)                                 1102 non-null   float64\n",
      " 2   SiteEnergyUse(kBtu)                              1102 non-null   float64\n",
      " 3   ENERGYSTARScore                                  1102 non-null   float64\n",
      " 4   NumberofBuildings                                1102 non-null   float64\n",
      " 5   age                                              1102 non-null   float64\n",
      " 6   volume                                           1102 non-null   float64\n",
      " 7   BuildingType_Campus                              1102 non-null   float64\n",
      " 8   BuildingType_NonResidential                      1102 non-null   float64\n",
      " 9   BuildingType_Nonresidential COS                  1102 non-null   float64\n",
      " 10  BuildingType_Nonresidential WA                   1102 non-null   float64\n",
      " 11  BuildingType_SPS-District K-12                   1102 non-null   float64\n",
      " 12  PrimaryPropertyType_Distribution Center          1102 non-null   float64\n",
      " 13  PrimaryPropertyType_Hospital                     1102 non-null   float64\n",
      " 14  PrimaryPropertyType_Hotel                        1102 non-null   float64\n",
      " 15  PrimaryPropertyType_K-12 School                  1102 non-null   float64\n",
      " 16  PrimaryPropertyType_Laboratory                   1102 non-null   float64\n",
      " 17  PrimaryPropertyType_Large Office                 1102 non-null   float64\n",
      " 18  PrimaryPropertyType_Medical Office               1102 non-null   float64\n",
      " 19  PrimaryPropertyType_Mixed Use Property           1102 non-null   float64\n",
      " 20  PrimaryPropertyType_Other                        1102 non-null   float64\n",
      " 21  PrimaryPropertyType_Refrigerated Warehouse       1102 non-null   float64\n",
      " 22  PrimaryPropertyType_Residence Hall               1102 non-null   float64\n",
      " 23  PrimaryPropertyType_Restaurant                   1102 non-null   float64\n",
      " 24  PrimaryPropertyType_Retail Store                 1102 non-null   float64\n",
      " 25  PrimaryPropertyType_Self-Storage Facility        1102 non-null   float64\n",
      " 26  PrimaryPropertyType_Senior Care Community        1102 non-null   float64\n",
      " 27  PrimaryPropertyType_Small- and Mid-Sized Office  1102 non-null   float64\n",
      " 28  PrimaryPropertyType_Supermarket / Grocery Store  1102 non-null   float64\n",
      " 29  PrimaryPropertyType_University                   1102 non-null   float64\n",
      " 30  PrimaryPropertyType_Warehouse                    1102 non-null   float64\n",
      " 31  PrimaryPropertyType_Worship Facility             1102 non-null   float64\n",
      " 32  Neighborhood_BALLARD                             1102 non-null   float64\n",
      " 33  Neighborhood_Ballard                             1102 non-null   float64\n",
      " 34  Neighborhood_CENTRAL                             1102 non-null   float64\n",
      " 35  Neighborhood_Central                             1102 non-null   float64\n",
      " 36  Neighborhood_DELRIDGE                            1102 non-null   float64\n",
      " 37  Neighborhood_DELRIDGE NEIGHBORHOODS              1102 non-null   float64\n",
      " 38  Neighborhood_DOWNTOWN                            1102 non-null   float64\n",
      " 39  Neighborhood_Delridge                            1102 non-null   float64\n",
      " 40  Neighborhood_EAST                                1102 non-null   float64\n",
      " 41  Neighborhood_GREATER DUWAMISH                    1102 non-null   float64\n",
      " 42  Neighborhood_LAKE UNION                          1102 non-null   float64\n",
      " 43  Neighborhood_MAGNOLIA / QUEEN ANNE               1102 non-null   float64\n",
      " 44  Neighborhood_NORTH                               1102 non-null   float64\n",
      " 45  Neighborhood_NORTHEAST                           1102 non-null   float64\n",
      " 46  Neighborhood_NORTHWEST                           1102 non-null   float64\n",
      " 47  Neighborhood_North                               1102 non-null   float64\n",
      " 48  Neighborhood_Northwest                           1102 non-null   float64\n",
      " 49  Neighborhood_SOUTHEAST                           1102 non-null   float64\n",
      " 50  Neighborhood_SOUTHWEST                           1102 non-null   float64\n",
      "dtypes: float64(51)\n",
      "memory usage: 721.5 KB\n"
     ]
    }
   ],
   "source": [
    "df_test.info()"
   ]
  },
  {
   "cell_type": "code",
   "execution_count": 155,
   "metadata": {},
   "outputs": [
    {
     "data": {
      "text/plain": [
       "TotalGHGEmissions                                  61.161525\n",
       "NaturalGas(kBtu)                                   61.161525\n",
       "SiteEnergyUse(kBtu)                                61.161525\n",
       "ENERGYSTARScore                                    61.161525\n",
       "NumberofBuildings                                  61.161525\n",
       "age                                                61.161525\n",
       "volume                                             61.161525\n",
       "BuildingType_Campus                                61.161525\n",
       "BuildingType_NonResidential                        61.161525\n",
       "BuildingType_Nonresidential COS                    61.161525\n",
       "BuildingType_Nonresidential WA                     61.161525\n",
       "BuildingType_SPS-District K-12                     61.161525\n",
       "PrimaryPropertyType_Distribution Center            61.161525\n",
       "PrimaryPropertyType_Hospital                       61.161525\n",
       "PrimaryPropertyType_Hotel                          61.161525\n",
       "PrimaryPropertyType_K-12 School                    61.161525\n",
       "PrimaryPropertyType_Laboratory                     61.161525\n",
       "PrimaryPropertyType_Large Office                   61.161525\n",
       "PrimaryPropertyType_Medical Office                 61.161525\n",
       "PrimaryPropertyType_Mixed Use Property             61.161525\n",
       "PrimaryPropertyType_Other                          61.161525\n",
       "PrimaryPropertyType_Refrigerated Warehouse         61.161525\n",
       "PrimaryPropertyType_Residence Hall                 61.161525\n",
       "PrimaryPropertyType_Restaurant                     61.161525\n",
       "PrimaryPropertyType_Retail Store                   61.161525\n",
       "PrimaryPropertyType_Self-Storage Facility          61.161525\n",
       "PrimaryPropertyType_Senior Care Community          61.161525\n",
       "PrimaryPropertyType_Small- and Mid-Sized Office    61.161525\n",
       "PrimaryPropertyType_Supermarket / Grocery Store    61.161525\n",
       "PrimaryPropertyType_University                     61.161525\n",
       "PrimaryPropertyType_Warehouse                      61.161525\n",
       "PrimaryPropertyType_Worship Facility               61.161525\n",
       "Neighborhood_BALLARD                               61.161525\n",
       "Neighborhood_Ballard                               61.161525\n",
       "Neighborhood_CENTRAL                               61.161525\n",
       "Neighborhood_Central                               61.161525\n",
       "Neighborhood_DELRIDGE                              61.161525\n",
       "Neighborhood_DELRIDGE NEIGHBORHOODS                61.161525\n",
       "Neighborhood_DOWNTOWN                              61.161525\n",
       "Neighborhood_Delridge                              61.161525\n",
       "Neighborhood_EAST                                  61.161525\n",
       "Neighborhood_GREATER DUWAMISH                      61.161525\n",
       "Neighborhood_LAKE UNION                            61.161525\n",
       "Neighborhood_MAGNOLIA / QUEEN ANNE                 61.161525\n",
       "Neighborhood_NORTH                                 61.161525\n",
       "Neighborhood_NORTHEAST                             61.161525\n",
       "Neighborhood_NORTHWEST                             61.161525\n",
       "Neighborhood_North                                 61.161525\n",
       "Neighborhood_Northwest                             61.161525\n",
       "Neighborhood_SOUTHEAST                             61.161525\n",
       "Neighborhood_SOUTHWEST                             61.161525\n",
       "dtype: float64"
      ]
     },
     "execution_count": 155,
     "metadata": {},
     "output_type": "execute_result"
    }
   ],
   "source": [
    "df_test.isnull().sum()/len(df)*100"
   ]
  },
  {
   "cell_type": "code",
   "execution_count": 156,
   "metadata": {},
   "outputs": [],
   "source": [
    " \n",
    "target_cols=['TotalGHGEmissions','SiteEnergyUse(kBtu)']\n",
    "cols_to_normalize=[col for col in relevant_numeric_columns if col!='TotalGHGEmissions' and col!='SiteEnergyUse(kBtu)']\n",
    "df[cols_to_normalize]=StandardScaler().fit_transform(df[cols_to_normalize])\n",
    "df[relevant_numeric_columns].to_csv('data/cleaned_and_normalized.csv',index=False)"
   ]
  },
  {
   "cell_type": "code",
   "execution_count": 157,
   "metadata": {},
   "outputs": [
    {
     "name": "stdout",
     "output_type": "stream",
     "text": [
      "<class 'pandas.core.frame.DataFrame'>\n",
      "Int64Index: 1102 entries, 23 to 3375\n",
      "Data columns (total 23 columns):\n",
      " #   Column                          Non-Null Count  Dtype  \n",
      "---  ------                          --------------  -----  \n",
      " 0   OSEBuildingID                   1102 non-null   object \n",
      " 1   BuildingType                    1102 non-null   object \n",
      " 2   PrimaryPropertyType             1102 non-null   object \n",
      " 3   PropertyName                    1102 non-null   object \n",
      " 4   Neighborhood                    1102 non-null   object \n",
      " 5   GHGEmissionsIntensity           1102 non-null   float64\n",
      " 6   TotalGHGEmissions               1102 non-null   float64\n",
      " 7   NaturalGas(kBtu)                1102 non-null   float64\n",
      " 8   SteamUse(kBtu)                  1102 non-null   float64\n",
      " 9   SiteEnergyUse(kBtu)             1102 non-null   float64\n",
      " 10  ENERGYSTARScore                 1102 non-null   float64\n",
      " 11  volume                          1102 non-null   float64\n",
      " 12  NumberofFloors                  1102 non-null   int64  \n",
      " 13  NumberofBuildings               1102 non-null   float64\n",
      " 14  age                             1102 non-null   float64\n",
      " 15  GHGEmissionsIntensity_outliers  1102 non-null   int64  \n",
      " 16  TotalGHGEmissions_outliers      1102 non-null   int64  \n",
      " 17  NaturalGas(kBtu)_outliers       1102 non-null   int64  \n",
      " 18  SteamUse(kBtu)_outliers         1102 non-null   int64  \n",
      " 19  SiteEnergyUse(kBtu)_outliers    1102 non-null   int64  \n",
      " 20  ENERGYSTARScore_outliers        1102 non-null   int64  \n",
      " 21  PropertyGFATotal_outliers       1102 non-null   int64  \n",
      " 22  NumberofFloors_outliers         1102 non-null   int64  \n",
      "dtypes: float64(9), int64(9), object(5)\n",
      "memory usage: 246.6+ KB\n"
     ]
    }
   ],
   "source": [
    "df.info()"
   ]
  },
  {
   "cell_type": "code",
   "execution_count": 158,
   "metadata": {},
   "outputs": [],
   "source": [
    "df_outliers=pd.read_csv('data/2016_Building_Energy_Benchmarking_outliers.csv')"
   ]
  },
  {
   "cell_type": "code",
   "execution_count": null,
   "metadata": {},
   "outputs": [],
   "source": []
  }
 ],
 "metadata": {
  "kernelspec": {
   "display_name": "Python 3",
   "language": "python",
   "name": "python3"
  },
  "language_info": {
   "codemirror_mode": {
    "name": "ipython",
    "version": 3
   },
   "file_extension": ".py",
   "mimetype": "text/x-python",
   "name": "python",
   "nbconvert_exporter": "python",
   "pygments_lexer": "ipython3",
   "version": "3.7.6"
  }
 },
 "nbformat": 4,
 "nbformat_minor": 4
}
