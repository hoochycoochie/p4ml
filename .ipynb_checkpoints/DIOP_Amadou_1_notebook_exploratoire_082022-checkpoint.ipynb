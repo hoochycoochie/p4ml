{
 "cells": [
  {
   "cell_type": "code",
   "execution_count": 566,
   "metadata": {},
   "outputs": [],
   "source": [
    "import pandas as pd\n",
    "import numpy as np\n",
    "import seaborn as sns\n",
    "import plotly.express as px\n",
    "import matplotlib.pyplot as plt\n",
    "from sklearn.impute import KNNImputer \n",
    "from functions import utils\n",
    "from scipy.stats import shapiro\n",
    "import math\n",
    "from functions import *\n",
    "from sklearn.preprocessing import OneHotEncoder, StandardScaler\n",
    "from sklearn.decomposition import PCA,KernelPCA\n",
    "import haversine as hs\n",
    "from IPython.display import display\n",
    "pd.options.display.float_format = '{:,.4f}'.format\n",
    "pd.set_option('display.max_columns', 200)\n",
    "pd.set_option('display.max_rows', 100)\n",
    "#pd.set_option('display.min_rows', 100)\n",
    "#pd.set_option('display.expand_frame_repr', True)"
   ]
  },
  {
   "cell_type": "code",
   "execution_count": 567,
   "metadata": {},
   "outputs": [
    {
     "data": {
      "text/plain": [
       "(3376, 46)"
      ]
     },
     "execution_count": 567,
     "metadata": {},
     "output_type": "execute_result"
    }
   ],
   "source": [
    "df=pd.read_csv('data/2016_Building_Energy_Benchmarking.csv')\n",
    "df.shape"
   ]
  },
  {
   "cell_type": "code",
   "execution_count": 568,
   "metadata": {},
   "outputs": [
    {
     "data": {
      "text/html": [
       "<div>\n",
       "<style scoped>\n",
       "    .dataframe tbody tr th:only-of-type {\n",
       "        vertical-align: middle;\n",
       "    }\n",
       "\n",
       "    .dataframe tbody tr th {\n",
       "        vertical-align: top;\n",
       "    }\n",
       "\n",
       "    .dataframe thead th {\n",
       "        text-align: right;\n",
       "    }\n",
       "</style>\n",
       "<table border=\"1\" class=\"dataframe\">\n",
       "  <thead>\n",
       "    <tr style=\"text-align: right;\">\n",
       "      <th></th>\n",
       "      <th>OSEBuildingID</th>\n",
       "      <th>DataYear</th>\n",
       "      <th>BuildingType</th>\n",
       "      <th>PrimaryPropertyType</th>\n",
       "      <th>PropertyName</th>\n",
       "      <th>Address</th>\n",
       "      <th>City</th>\n",
       "      <th>State</th>\n",
       "      <th>ZipCode</th>\n",
       "      <th>TaxParcelIdentificationNumber</th>\n",
       "      <th>CouncilDistrictCode</th>\n",
       "      <th>Neighborhood</th>\n",
       "      <th>Latitude</th>\n",
       "      <th>Longitude</th>\n",
       "      <th>YearBuilt</th>\n",
       "      <th>NumberofBuildings</th>\n",
       "      <th>NumberofFloors</th>\n",
       "      <th>PropertyGFATotal</th>\n",
       "      <th>PropertyGFAParking</th>\n",
       "      <th>PropertyGFABuilding(s)</th>\n",
       "      <th>ListOfAllPropertyUseTypes</th>\n",
       "      <th>LargestPropertyUseType</th>\n",
       "      <th>LargestPropertyUseTypeGFA</th>\n",
       "      <th>SecondLargestPropertyUseType</th>\n",
       "      <th>SecondLargestPropertyUseTypeGFA</th>\n",
       "      <th>ThirdLargestPropertyUseType</th>\n",
       "      <th>ThirdLargestPropertyUseTypeGFA</th>\n",
       "      <th>YearsENERGYSTARCertified</th>\n",
       "      <th>ENERGYSTARScore</th>\n",
       "      <th>SiteEUI(kBtu/sf)</th>\n",
       "      <th>SiteEUIWN(kBtu/sf)</th>\n",
       "      <th>SourceEUI(kBtu/sf)</th>\n",
       "      <th>SourceEUIWN(kBtu/sf)</th>\n",
       "      <th>SiteEnergyUse(kBtu)</th>\n",
       "      <th>SiteEnergyUseWN(kBtu)</th>\n",
       "      <th>SteamUse(kBtu)</th>\n",
       "      <th>Electricity(kWh)</th>\n",
       "      <th>Electricity(kBtu)</th>\n",
       "      <th>NaturalGas(therms)</th>\n",
       "      <th>NaturalGas(kBtu)</th>\n",
       "      <th>DefaultData</th>\n",
       "      <th>Comments</th>\n",
       "      <th>ComplianceStatus</th>\n",
       "      <th>Outlier</th>\n",
       "      <th>TotalGHGEmissions</th>\n",
       "      <th>GHGEmissionsIntensity</th>\n",
       "    </tr>\n",
       "  </thead>\n",
       "  <tbody>\n",
       "    <tr>\n",
       "      <th>0</th>\n",
       "      <td>1</td>\n",
       "      <td>2016</td>\n",
       "      <td>NonResidential</td>\n",
       "      <td>Hotel</td>\n",
       "      <td>Mayflower park hotel</td>\n",
       "      <td>405 Olive way</td>\n",
       "      <td>Seattle</td>\n",
       "      <td>WA</td>\n",
       "      <td>98,101.0000</td>\n",
       "      <td>0659000030</td>\n",
       "      <td>7</td>\n",
       "      <td>DOWNTOWN</td>\n",
       "      <td>47.6122</td>\n",
       "      <td>-122.3380</td>\n",
       "      <td>1927</td>\n",
       "      <td>1.0000</td>\n",
       "      <td>12</td>\n",
       "      <td>88434</td>\n",
       "      <td>0</td>\n",
       "      <td>88434</td>\n",
       "      <td>Hotel</td>\n",
       "      <td>Hotel</td>\n",
       "      <td>88,434.0000</td>\n",
       "      <td>NaN</td>\n",
       "      <td>nan</td>\n",
       "      <td>NaN</td>\n",
       "      <td>nan</td>\n",
       "      <td>NaN</td>\n",
       "      <td>60.0000</td>\n",
       "      <td>81.7000</td>\n",
       "      <td>84.3000</td>\n",
       "      <td>182.5000</td>\n",
       "      <td>189.0000</td>\n",
       "      <td>7,226,362.5000</td>\n",
       "      <td>7,456,910.0000</td>\n",
       "      <td>2,003,882.0000</td>\n",
       "      <td>1,156,514.2500</td>\n",
       "      <td>3,946,027.0000</td>\n",
       "      <td>12,764.5293</td>\n",
       "      <td>1,276,453.0000</td>\n",
       "      <td>False</td>\n",
       "      <td>nan</td>\n",
       "      <td>Compliant</td>\n",
       "      <td>NaN</td>\n",
       "      <td>249.9800</td>\n",
       "      <td>2.8300</td>\n",
       "    </tr>\n",
       "    <tr>\n",
       "      <th>1</th>\n",
       "      <td>2</td>\n",
       "      <td>2016</td>\n",
       "      <td>NonResidential</td>\n",
       "      <td>Hotel</td>\n",
       "      <td>Paramount Hotel</td>\n",
       "      <td>724 Pine street</td>\n",
       "      <td>Seattle</td>\n",
       "      <td>WA</td>\n",
       "      <td>98,101.0000</td>\n",
       "      <td>0659000220</td>\n",
       "      <td>7</td>\n",
       "      <td>DOWNTOWN</td>\n",
       "      <td>47.6132</td>\n",
       "      <td>-122.3339</td>\n",
       "      <td>1996</td>\n",
       "      <td>1.0000</td>\n",
       "      <td>11</td>\n",
       "      <td>103566</td>\n",
       "      <td>15064</td>\n",
       "      <td>88502</td>\n",
       "      <td>Hotel, Parking, Restaurant</td>\n",
       "      <td>Hotel</td>\n",
       "      <td>83,880.0000</td>\n",
       "      <td>Parking</td>\n",
       "      <td>15,064.0000</td>\n",
       "      <td>Restaurant</td>\n",
       "      <td>4,622.0000</td>\n",
       "      <td>NaN</td>\n",
       "      <td>61.0000</td>\n",
       "      <td>94.8000</td>\n",
       "      <td>97.9000</td>\n",
       "      <td>176.1000</td>\n",
       "      <td>179.4000</td>\n",
       "      <td>8,387,933.0000</td>\n",
       "      <td>8,664,479.0000</td>\n",
       "      <td>0.0000</td>\n",
       "      <td>950,425.1875</td>\n",
       "      <td>3,242,851.0000</td>\n",
       "      <td>51,450.8164</td>\n",
       "      <td>5,145,082.0000</td>\n",
       "      <td>False</td>\n",
       "      <td>nan</td>\n",
       "      <td>Compliant</td>\n",
       "      <td>NaN</td>\n",
       "      <td>295.8600</td>\n",
       "      <td>2.8600</td>\n",
       "    </tr>\n",
       "    <tr>\n",
       "      <th>2</th>\n",
       "      <td>3</td>\n",
       "      <td>2016</td>\n",
       "      <td>NonResidential</td>\n",
       "      <td>Hotel</td>\n",
       "      <td>5673-The Westin Seattle</td>\n",
       "      <td>1900 5th Avenue</td>\n",
       "      <td>Seattle</td>\n",
       "      <td>WA</td>\n",
       "      <td>98,101.0000</td>\n",
       "      <td>0659000475</td>\n",
       "      <td>7</td>\n",
       "      <td>DOWNTOWN</td>\n",
       "      <td>47.6139</td>\n",
       "      <td>-122.3381</td>\n",
       "      <td>1969</td>\n",
       "      <td>1.0000</td>\n",
       "      <td>41</td>\n",
       "      <td>956110</td>\n",
       "      <td>196718</td>\n",
       "      <td>759392</td>\n",
       "      <td>Hotel</td>\n",
       "      <td>Hotel</td>\n",
       "      <td>756,493.0000</td>\n",
       "      <td>NaN</td>\n",
       "      <td>nan</td>\n",
       "      <td>NaN</td>\n",
       "      <td>nan</td>\n",
       "      <td>NaN</td>\n",
       "      <td>43.0000</td>\n",
       "      <td>96.0000</td>\n",
       "      <td>97.7000</td>\n",
       "      <td>241.9000</td>\n",
       "      <td>244.1000</td>\n",
       "      <td>72,587,024.0000</td>\n",
       "      <td>73,937,112.0000</td>\n",
       "      <td>21,566,554.0000</td>\n",
       "      <td>14,515,435.0000</td>\n",
       "      <td>49,526,664.0000</td>\n",
       "      <td>14,938.0000</td>\n",
       "      <td>1,493,800.0000</td>\n",
       "      <td>False</td>\n",
       "      <td>nan</td>\n",
       "      <td>Compliant</td>\n",
       "      <td>NaN</td>\n",
       "      <td>2,089.2800</td>\n",
       "      <td>2.1900</td>\n",
       "    </tr>\n",
       "    <tr>\n",
       "      <th>3</th>\n",
       "      <td>5</td>\n",
       "      <td>2016</td>\n",
       "      <td>NonResidential</td>\n",
       "      <td>Hotel</td>\n",
       "      <td>HOTEL MAX</td>\n",
       "      <td>620 STEWART ST</td>\n",
       "      <td>Seattle</td>\n",
       "      <td>WA</td>\n",
       "      <td>98,101.0000</td>\n",
       "      <td>0659000640</td>\n",
       "      <td>7</td>\n",
       "      <td>DOWNTOWN</td>\n",
       "      <td>47.6141</td>\n",
       "      <td>-122.3366</td>\n",
       "      <td>1926</td>\n",
       "      <td>1.0000</td>\n",
       "      <td>10</td>\n",
       "      <td>61320</td>\n",
       "      <td>0</td>\n",
       "      <td>61320</td>\n",
       "      <td>Hotel</td>\n",
       "      <td>Hotel</td>\n",
       "      <td>61,320.0000</td>\n",
       "      <td>NaN</td>\n",
       "      <td>nan</td>\n",
       "      <td>NaN</td>\n",
       "      <td>nan</td>\n",
       "      <td>NaN</td>\n",
       "      <td>56.0000</td>\n",
       "      <td>110.8000</td>\n",
       "      <td>113.3000</td>\n",
       "      <td>216.2000</td>\n",
       "      <td>224.0000</td>\n",
       "      <td>6,794,584.0000</td>\n",
       "      <td>6,946,800.5000</td>\n",
       "      <td>2,214,446.2500</td>\n",
       "      <td>811,525.3125</td>\n",
       "      <td>2,768,924.0000</td>\n",
       "      <td>18,112.1309</td>\n",
       "      <td>1,811,213.0000</td>\n",
       "      <td>False</td>\n",
       "      <td>nan</td>\n",
       "      <td>Compliant</td>\n",
       "      <td>NaN</td>\n",
       "      <td>286.4300</td>\n",
       "      <td>4.6700</td>\n",
       "    </tr>\n",
       "    <tr>\n",
       "      <th>4</th>\n",
       "      <td>8</td>\n",
       "      <td>2016</td>\n",
       "      <td>NonResidential</td>\n",
       "      <td>Hotel</td>\n",
       "      <td>WARWICK SEATTLE HOTEL (ID8)</td>\n",
       "      <td>401 LENORA ST</td>\n",
       "      <td>Seattle</td>\n",
       "      <td>WA</td>\n",
       "      <td>98,121.0000</td>\n",
       "      <td>0659000970</td>\n",
       "      <td>7</td>\n",
       "      <td>DOWNTOWN</td>\n",
       "      <td>47.6138</td>\n",
       "      <td>-122.3405</td>\n",
       "      <td>1980</td>\n",
       "      <td>1.0000</td>\n",
       "      <td>18</td>\n",
       "      <td>175580</td>\n",
       "      <td>62000</td>\n",
       "      <td>113580</td>\n",
       "      <td>Hotel, Parking, Swimming Pool</td>\n",
       "      <td>Hotel</td>\n",
       "      <td>123,445.0000</td>\n",
       "      <td>Parking</td>\n",
       "      <td>68,009.0000</td>\n",
       "      <td>Swimming Pool</td>\n",
       "      <td>0.0000</td>\n",
       "      <td>NaN</td>\n",
       "      <td>75.0000</td>\n",
       "      <td>114.8000</td>\n",
       "      <td>118.7000</td>\n",
       "      <td>211.4000</td>\n",
       "      <td>215.6000</td>\n",
       "      <td>14,172,606.0000</td>\n",
       "      <td>14,656,503.0000</td>\n",
       "      <td>0.0000</td>\n",
       "      <td>1,573,448.6250</td>\n",
       "      <td>5,368,607.0000</td>\n",
       "      <td>88,039.9844</td>\n",
       "      <td>8,803,998.0000</td>\n",
       "      <td>False</td>\n",
       "      <td>nan</td>\n",
       "      <td>Compliant</td>\n",
       "      <td>NaN</td>\n",
       "      <td>505.0100</td>\n",
       "      <td>2.8800</td>\n",
       "    </tr>\n",
       "  </tbody>\n",
       "</table>\n",
       "</div>"
      ],
      "text/plain": [
       "   OSEBuildingID  DataYear    BuildingType PrimaryPropertyType  \\\n",
       "0              1      2016  NonResidential               Hotel   \n",
       "1              2      2016  NonResidential               Hotel   \n",
       "2              3      2016  NonResidential               Hotel   \n",
       "3              5      2016  NonResidential               Hotel   \n",
       "4              8      2016  NonResidential               Hotel   \n",
       "\n",
       "                  PropertyName          Address     City State     ZipCode  \\\n",
       "0         Mayflower park hotel    405 Olive way  Seattle    WA 98,101.0000   \n",
       "1              Paramount Hotel  724 Pine street  Seattle    WA 98,101.0000   \n",
       "2      5673-The Westin Seattle  1900 5th Avenue  Seattle    WA 98,101.0000   \n",
       "3                    HOTEL MAX   620 STEWART ST  Seattle    WA 98,101.0000   \n",
       "4  WARWICK SEATTLE HOTEL (ID8)    401 LENORA ST  Seattle    WA 98,121.0000   \n",
       "\n",
       "  TaxParcelIdentificationNumber  CouncilDistrictCode Neighborhood  Latitude  \\\n",
       "0                    0659000030                    7     DOWNTOWN   47.6122   \n",
       "1                    0659000220                    7     DOWNTOWN   47.6132   \n",
       "2                    0659000475                    7     DOWNTOWN   47.6139   \n",
       "3                    0659000640                    7     DOWNTOWN   47.6141   \n",
       "4                    0659000970                    7     DOWNTOWN   47.6138   \n",
       "\n",
       "   Longitude  YearBuilt  NumberofBuildings  NumberofFloors  PropertyGFATotal  \\\n",
       "0  -122.3380       1927             1.0000              12             88434   \n",
       "1  -122.3339       1996             1.0000              11            103566   \n",
       "2  -122.3381       1969             1.0000              41            956110   \n",
       "3  -122.3366       1926             1.0000              10             61320   \n",
       "4  -122.3405       1980             1.0000              18            175580   \n",
       "\n",
       "   PropertyGFAParking  PropertyGFABuilding(s)      ListOfAllPropertyUseTypes  \\\n",
       "0                   0                   88434                          Hotel   \n",
       "1               15064                   88502     Hotel, Parking, Restaurant   \n",
       "2              196718                  759392                          Hotel   \n",
       "3                   0                   61320                          Hotel   \n",
       "4               62000                  113580  Hotel, Parking, Swimming Pool   \n",
       "\n",
       "  LargestPropertyUseType  LargestPropertyUseTypeGFA  \\\n",
       "0                  Hotel                88,434.0000   \n",
       "1                  Hotel                83,880.0000   \n",
       "2                  Hotel               756,493.0000   \n",
       "3                  Hotel                61,320.0000   \n",
       "4                  Hotel               123,445.0000   \n",
       "\n",
       "  SecondLargestPropertyUseType  SecondLargestPropertyUseTypeGFA  \\\n",
       "0                          NaN                              nan   \n",
       "1                      Parking                      15,064.0000   \n",
       "2                          NaN                              nan   \n",
       "3                          NaN                              nan   \n",
       "4                      Parking                      68,009.0000   \n",
       "\n",
       "  ThirdLargestPropertyUseType  ThirdLargestPropertyUseTypeGFA  \\\n",
       "0                         NaN                             nan   \n",
       "1                  Restaurant                      4,622.0000   \n",
       "2                         NaN                             nan   \n",
       "3                         NaN                             nan   \n",
       "4               Swimming Pool                          0.0000   \n",
       "\n",
       "  YearsENERGYSTARCertified  ENERGYSTARScore  SiteEUI(kBtu/sf)  \\\n",
       "0                      NaN          60.0000           81.7000   \n",
       "1                      NaN          61.0000           94.8000   \n",
       "2                      NaN          43.0000           96.0000   \n",
       "3                      NaN          56.0000          110.8000   \n",
       "4                      NaN          75.0000          114.8000   \n",
       "\n",
       "   SiteEUIWN(kBtu/sf)  SourceEUI(kBtu/sf)  SourceEUIWN(kBtu/sf)  \\\n",
       "0             84.3000            182.5000              189.0000   \n",
       "1             97.9000            176.1000              179.4000   \n",
       "2             97.7000            241.9000              244.1000   \n",
       "3            113.3000            216.2000              224.0000   \n",
       "4            118.7000            211.4000              215.6000   \n",
       "\n",
       "   SiteEnergyUse(kBtu)  SiteEnergyUseWN(kBtu)  SteamUse(kBtu)  \\\n",
       "0       7,226,362.5000         7,456,910.0000  2,003,882.0000   \n",
       "1       8,387,933.0000         8,664,479.0000          0.0000   \n",
       "2      72,587,024.0000        73,937,112.0000 21,566,554.0000   \n",
       "3       6,794,584.0000         6,946,800.5000  2,214,446.2500   \n",
       "4      14,172,606.0000        14,656,503.0000          0.0000   \n",
       "\n",
       "   Electricity(kWh)  Electricity(kBtu)  NaturalGas(therms)  NaturalGas(kBtu)  \\\n",
       "0    1,156,514.2500     3,946,027.0000         12,764.5293    1,276,453.0000   \n",
       "1      950,425.1875     3,242,851.0000         51,450.8164    5,145,082.0000   \n",
       "2   14,515,435.0000    49,526,664.0000         14,938.0000    1,493,800.0000   \n",
       "3      811,525.3125     2,768,924.0000         18,112.1309    1,811,213.0000   \n",
       "4    1,573,448.6250     5,368,607.0000         88,039.9844    8,803,998.0000   \n",
       "\n",
       "   DefaultData  Comments ComplianceStatus Outlier  TotalGHGEmissions  \\\n",
       "0        False       nan        Compliant     NaN           249.9800   \n",
       "1        False       nan        Compliant     NaN           295.8600   \n",
       "2        False       nan        Compliant     NaN         2,089.2800   \n",
       "3        False       nan        Compliant     NaN           286.4300   \n",
       "4        False       nan        Compliant     NaN           505.0100   \n",
       "\n",
       "   GHGEmissionsIntensity  \n",
       "0                 2.8300  \n",
       "1                 2.8600  \n",
       "2                 2.1900  \n",
       "3                 4.6700  \n",
       "4                 2.8800  "
      ]
     },
     "execution_count": 568,
     "metadata": {},
     "output_type": "execute_result"
    }
   ],
   "source": [
    "df.head()"
   ]
  },
  {
   "cell_type": "markdown",
   "metadata": {},
   "source": [
    "sélection des batiments non résidentiels et \n",
    "répondant aux  exigences d'analyse comparative énergétique pour l'année de déclaration en cours."
   ]
  },
  {
   "cell_type": "code",
   "execution_count": 569,
   "metadata": {},
   "outputs": [
    {
     "data": {
      "text/plain": [
       "(1546, 46)"
      ]
     },
     "execution_count": 569,
     "metadata": {},
     "output_type": "execute_result"
    }
   ],
   "source": [
    "\n",
    "df=df[(df['ComplianceStatus']=='Compliant')&(~df['BuildingType'].str.contains('Multifamily')) & (~df['PrimaryPropertyType'].str.contains('Multifamily'))]\n",
    "df.shape\n"
   ]
  },
  {
   "cell_type": "markdown",
   "metadata": {},
   "source": [
    "recherche de doublons"
   ]
  },
  {
   "cell_type": "code",
   "execution_count": 570,
   "metadata": {},
   "outputs": [
    {
     "data": {
      "text/html": [
       "<div>\n",
       "<style scoped>\n",
       "    .dataframe tbody tr th:only-of-type {\n",
       "        vertical-align: middle;\n",
       "    }\n",
       "\n",
       "    .dataframe tbody tr th {\n",
       "        vertical-align: top;\n",
       "    }\n",
       "\n",
       "    .dataframe thead th {\n",
       "        text-align: right;\n",
       "    }\n",
       "</style>\n",
       "<table border=\"1\" class=\"dataframe\">\n",
       "  <thead>\n",
       "    <tr style=\"text-align: right;\">\n",
       "      <th></th>\n",
       "      <th>OSEBuildingID</th>\n",
       "      <th>DataYear</th>\n",
       "      <th>BuildingType</th>\n",
       "      <th>PrimaryPropertyType</th>\n",
       "      <th>PropertyName</th>\n",
       "      <th>Address</th>\n",
       "      <th>City</th>\n",
       "      <th>State</th>\n",
       "      <th>ZipCode</th>\n",
       "      <th>TaxParcelIdentificationNumber</th>\n",
       "      <th>CouncilDistrictCode</th>\n",
       "      <th>Neighborhood</th>\n",
       "      <th>Latitude</th>\n",
       "      <th>Longitude</th>\n",
       "      <th>YearBuilt</th>\n",
       "      <th>NumberofBuildings</th>\n",
       "      <th>NumberofFloors</th>\n",
       "      <th>PropertyGFATotal</th>\n",
       "      <th>PropertyGFAParking</th>\n",
       "      <th>PropertyGFABuilding(s)</th>\n",
       "      <th>ListOfAllPropertyUseTypes</th>\n",
       "      <th>LargestPropertyUseType</th>\n",
       "      <th>LargestPropertyUseTypeGFA</th>\n",
       "      <th>SecondLargestPropertyUseType</th>\n",
       "      <th>SecondLargestPropertyUseTypeGFA</th>\n",
       "      <th>ThirdLargestPropertyUseType</th>\n",
       "      <th>ThirdLargestPropertyUseTypeGFA</th>\n",
       "      <th>YearsENERGYSTARCertified</th>\n",
       "      <th>ENERGYSTARScore</th>\n",
       "      <th>SiteEUI(kBtu/sf)</th>\n",
       "      <th>SiteEUIWN(kBtu/sf)</th>\n",
       "      <th>SourceEUI(kBtu/sf)</th>\n",
       "      <th>SourceEUIWN(kBtu/sf)</th>\n",
       "      <th>SiteEnergyUse(kBtu)</th>\n",
       "      <th>SiteEnergyUseWN(kBtu)</th>\n",
       "      <th>SteamUse(kBtu)</th>\n",
       "      <th>Electricity(kWh)</th>\n",
       "      <th>Electricity(kBtu)</th>\n",
       "      <th>NaturalGas(therms)</th>\n",
       "      <th>NaturalGas(kBtu)</th>\n",
       "      <th>DefaultData</th>\n",
       "      <th>Comments</th>\n",
       "      <th>ComplianceStatus</th>\n",
       "      <th>Outlier</th>\n",
       "      <th>TotalGHGEmissions</th>\n",
       "      <th>GHGEmissionsIntensity</th>\n",
       "    </tr>\n",
       "  </thead>\n",
       "  <tbody>\n",
       "  </tbody>\n",
       "</table>\n",
       "</div>"
      ],
      "text/plain": [
       "Empty DataFrame\n",
       "Columns: [OSEBuildingID, DataYear, BuildingType, PrimaryPropertyType, PropertyName, Address, City, State, ZipCode, TaxParcelIdentificationNumber, CouncilDistrictCode, Neighborhood, Latitude, Longitude, YearBuilt, NumberofBuildings, NumberofFloors, PropertyGFATotal, PropertyGFAParking, PropertyGFABuilding(s), ListOfAllPropertyUseTypes, LargestPropertyUseType, LargestPropertyUseTypeGFA, SecondLargestPropertyUseType, SecondLargestPropertyUseTypeGFA, ThirdLargestPropertyUseType, ThirdLargestPropertyUseTypeGFA, YearsENERGYSTARCertified, ENERGYSTARScore, SiteEUI(kBtu/sf), SiteEUIWN(kBtu/sf), SourceEUI(kBtu/sf), SourceEUIWN(kBtu/sf), SiteEnergyUse(kBtu), SiteEnergyUseWN(kBtu), SteamUse(kBtu), Electricity(kWh), Electricity(kBtu), NaturalGas(therms), NaturalGas(kBtu), DefaultData, Comments, ComplianceStatus, Outlier, TotalGHGEmissions, GHGEmissionsIntensity]\n",
       "Index: []"
      ]
     },
     "execution_count": 570,
     "metadata": {},
     "output_type": "execute_result"
    }
   ],
   "source": [
    "\n",
    "df['OSEBuildingID']=df['OSEBuildingID'].astype(str)\n",
    "df['Latitude']=df['Latitude'].astype(str)\n",
    "df['Longitude']=df['Longitude'].astype(str)\n",
    "\n",
    "duplicate = df[df.duplicated('OSEBuildingID')]\n",
    "duplicate ## aucun doublon\n"
   ]
  },
  {
   "cell_type": "markdown",
   "metadata": {},
   "source": [
    "# Partie 1 nettoyage des colonnes"
   ]
  },
  {
   "cell_type": "markdown",
   "metadata": {},
   "source": [
    "### 1-1 <u>Suppression des colonnes avec taux de complétion inférieur à 50%</u>"
   ]
  },
  {
   "cell_type": "code",
   "execution_count": 571,
   "metadata": {},
   "outputs": [
    {
     "data": {
      "text/plain": [
       "(1546, 46)"
      ]
     },
     "execution_count": 571,
     "metadata": {},
     "output_type": "execute_result"
    }
   ],
   "source": [
    "## variables comportant plus de 50% de valeurs manquantes\n",
    "na_df=utils.columns_na_percentage(df)\n",
    "na_columns=na_df[na_df['na_rate_percent']>=50] ## 7 colonnes ont plus de 50% de valeurs nulles\n",
    "na_columns\n",
    "df.shape"
   ]
  },
  {
   "cell_type": "code",
   "execution_count": 572,
   "metadata": {},
   "outputs": [
    {
     "data": {
      "image/png": "[encoded data removed]",
      "text/plain": [
       "<Figure size 1440x720 with 1 Axes>"
      ]
     },
     "metadata": {
      "needs_background": "light"
     },
     "output_type": "display_data"
    }
   ],
   "source": [
    "utils.draw_completion(df,12)"
   ]
  },
  {
   "cell_type": "markdown",
   "metadata": {},
   "source": [
    "suppression des colonnes ayant plus 50% de valeurs nulles"
   ]
  },
  {
   "cell_type": "code",
   "execution_count": 573,
   "metadata": {},
   "outputs": [
    {
     "data": {
      "text/plain": [
       "(1546, 41)"
      ]
     },
     "execution_count": 573,
     "metadata": {},
     "output_type": "execute_result"
    }
   ],
   "source": [
    "\n",
    "df.drop(columns=na_columns['Column'].tolist(),axis=1,inplace=True)\n",
    "df.shape"
   ]
  },
  {
   "cell_type": "markdown",
   "metadata": {},
   "source": [
    "### 1-2 <u>Sélection des variables qualitatives</u>"
   ]
  },
  {
   "cell_type": "code",
   "execution_count": 574,
   "metadata": {},
   "outputs": [
    {
     "data": {
      "text/plain": [
       "OSEBuildingID                    0.0000\n",
       "BuildingType                     0.0000\n",
       "PrimaryPropertyType              0.0000\n",
       "PropertyName                     0.0000\n",
       "Address                          0.0000\n",
       "City                             0.0000\n",
       "State                            0.0000\n",
       "TaxParcelIdentificationNumber    0.0000\n",
       "Neighborhood                     0.0000\n",
       "Latitude                         0.0000\n",
       "Longitude                        0.0000\n",
       "ListOfAllPropertyUseTypes        0.0000\n",
       "LargestPropertyUseType           0.2587\n",
       "SecondLargestPropertyUseType    45.6016\n",
       "ComplianceStatus                 0.0000\n",
       "dtype: float64"
      ]
     },
     "execution_count": 574,
     "metadata": {},
     "output_type": "execute_result"
    }
   ],
   "source": [
    "numeric_columns=df.select_dtypes(exclude=['object']).columns.tolist()\n",
    "categorical_columns=df.select_dtypes(include=['object']).columns.tolist()\n",
    "df[categorical_columns].isnull().sum()/len(df)*100"
   ]
  },
  {
   "cell_type": "code",
   "execution_count": 575,
   "metadata": {},
   "outputs": [
    {
     "name": "stderr",
     "output_type": "stream",
     "text": [
      "/home/amadou/anaconda3/lib/python3.7/site-packages/matplotlib/collections.py:857: RuntimeWarning:\n",
      "\n",
      "invalid value encountered in sqrt\n",
      "\n"
     ]
    },
    {
     "data": {
      "image/png": "[encoded data removed]",
      "text/plain": [
       "<Figure size 1440x720 with 2 Axes>"
      ]
     },
     "metadata": {
      "needs_background": "light"
     },
     "output_type": "display_data"
    }
   ],
   "source": [
    "df['lat'] = df['Latitude'].astype(float)\n",
    "df['lng'] = df['Longitude'].astype(float)\n",
    "df.plot(kind=\"scatter\", x=\"lat\", y=\"lng\", \n",
    "            s=df['TotalGHGEmissions'], label=\"TotalGHGEmissions\",\n",
    "            c=\"SiteEUI(kBtu/sf)\", cmap=plt.get_cmap(\"jet\"), colorbar=True,\n",
    "            figsize=(20,10))\n",
    "plt.show()"
   ]
  },
  {
   "cell_type": "code",
   "execution_count": 576,
   "metadata": {},
   "outputs": [
    {
     "data": {
      "image/png": "[encoded data removed]",
      "text/plain": [
       "<Figure size 1440x720 with 2 Axes>"
      ]
     },
     "metadata": {
      "needs_background": "light"
     },
     "output_type": "display_data"
    }
   ],
   "source": [
    "df.plot(kind=\"scatter\", x=\"lat\", y=\"lng\", alpha=0.4,\n",
    "            s=df[\"TotalGHGEmissions\"], label=\"SiteEUI(kBtu/sf)\",\n",
    "            c=\"SiteEUI(kBtu/sf)\", cmap=plt.get_cmap(\"jet\"), colorbar=True,\n",
    "            figsize=(20,10))\n",
    "plt.show()"
   ]
  },
  {
   "cell_type": "code",
   "execution_count": 577,
   "metadata": {},
   "outputs": [],
   "source": [
    "relevant_categorical_columns=[\n",
    "    'OSEBuildingID',\n",
    "    'BuildingType',\n",
    "    'PrimaryPropertyType',\n",
    "    'PropertyName',\n",
    "    'Neighborhood',\n",
    "    \n",
    "    \n",
    "]"
   ]
  },
  {
   "cell_type": "markdown",
   "metadata": {},
   "source": [
    "### 1-3 <u>Sélection des variables quantitatives</u>"
   ]
  },
  {
   "cell_type": "markdown",
   "metadata": {},
   "source": [
    "Afin d'éviter le phénomène de data leakage, nous n'allons pas sélectionner les variables inconnues au moment de la prédiction"
   ]
  },
  {
   "cell_type": "code",
   "execution_count": 578,
   "metadata": {},
   "outputs": [
    {
     "data": {
      "text/plain": [
       "DataYear                           0.0000\n",
       "ZipCode                            0.8409\n",
       "CouncilDistrictCode                0.0000\n",
       "YearBuilt                          0.0000\n",
       "NumberofBuildings                  0.0000\n",
       "NumberofFloors                     0.0000\n",
       "PropertyGFATotal                   0.0000\n",
       "PropertyGFAParking                 0.0000\n",
       "PropertyGFABuilding(s)             0.0000\n",
       "LargestPropertyUseTypeGFA          0.2587\n",
       "SecondLargestPropertyUseTypeGFA   45.6016\n",
       "ENERGYSTARScore                   35.5757\n",
       "SiteEUI(kBtu/sf)                   0.0000\n",
       "SiteEUIWN(kBtu/sf)                 0.0647\n",
       "SourceEUI(kBtu/sf)                 0.0000\n",
       "SourceEUIWN(kBtu/sf)               0.0000\n",
       "SiteEnergyUse(kBtu)                0.0000\n",
       "SiteEnergyUseWN(kBtu)              0.0647\n",
       "SteamUse(kBtu)                     0.0000\n",
       "Electricity(kWh)                   0.0000\n",
       "Electricity(kBtu)                  0.0000\n",
       "NaturalGas(therms)                 0.0000\n",
       "NaturalGas(kBtu)                   0.0000\n",
       "DefaultData                        0.0000\n",
       "TotalGHGEmissions                  0.0000\n",
       "GHGEmissionsIntensity              0.0000\n",
       "lat                                0.0000\n",
       "lng                                0.0000\n",
       "dtype: float64"
      ]
     },
     "execution_count": 578,
     "metadata": {},
     "output_type": "execute_result"
    }
   ],
   "source": [
    "numeric_columns=df.select_dtypes(exclude=['object']).columns.tolist()\n",
    "df[numeric_columns].isnull().sum()/len(df)*100"
   ]
  },
  {
   "cell_type": "code",
   "execution_count": 579,
   "metadata": {},
   "outputs": [],
   "source": [
    "target_cols=['TotalGHGEmissions','SiteEnergyUse(kBtu)']\n",
    "relevant_numeric_columns=[\n",
    "    'NumberofBuildings',\n",
    "    'NumberofFloors',\n",
    "    'PropertyGFATotal',\n",
    "    'PropertyGFAParking',\n",
    "    'PropertyGFABuilding(s)',\n",
    "    'LargestPropertyUseTypeGFA',\n",
    "    'TotalGHGEmissions',\n",
    "    'SiteEnergyUse(kBtu)',\n",
    "    'ENERGYSTARScore',\n",
    "    \n",
    "    'YearBuilt',\n",
    "    'lat',\n",
    "    'lng',\n",
    "    'NaturalGas(kBtu)',\n",
    "    'Electricity(kBtu)',\n",
    "    \n",
    "    'SteamUse(kBtu)'\n",
    "    \n",
    "]\n",
    " "
   ]
  },
  {
   "cell_type": "code",
   "execution_count": 580,
   "metadata": {},
   "outputs": [
    {
     "data": {
      "text/plain": [
       "(1546, 20)"
      ]
     },
     "execution_count": 580,
     "metadata": {},
     "output_type": "execute_result"
    }
   ],
   "source": [
    "df=df[relevant_categorical_columns+relevant_numeric_columns]\n",
    "df.shape"
   ]
  },
  {
   "cell_type": "markdown",
   "metadata": {},
   "source": [
    "# Partie 2 nettoyage des lignes"
   ]
  },
  {
   "cell_type": "markdown",
   "metadata": {},
   "source": [
    "identification et suppression des valeurs numériques négatives sauf pour les colonnes latitude et longitude"
   ]
  },
  {
   "cell_type": "code",
   "execution_count": 581,
   "metadata": {},
   "outputs": [
    {
     "name": "stdout",
     "output_type": "stream",
     "text": [
      "columns with negative values ['TotalGHGEmissions', 'Electricity(kBtu)']\n"
     ]
    },
    {
     "name": "stderr",
     "output_type": "stream",
     "text": [
      "/home/amadou/anaconda3/lib/python3.7/site-packages/pandas/core/frame.py:3997: SettingWithCopyWarning:\n",
      "\n",
      "\n",
      "A value is trying to be set on a copy of a slice from a DataFrame\n",
      "\n",
      "See the caveats in the documentation: https://pandas.pydata.org/pandas-docs/stable/user_guide/indexing.html#returning-a-view-versus-a-copy\n",
      "\n"
     ]
    },
    {
     "data": {
      "text/plain": [
       "(1545, 20)"
      ]
     },
     "execution_count": 581,
     "metadata": {},
     "output_type": "execute_result"
    }
   ],
   "source": [
    "\n",
    "negative_cols=[]\n",
    "\n",
    "for col in relevant_numeric_columns:\n",
    "    if col not in ['lat','lng'] and len(df[df[col]<0])>0:\n",
    "        negative_cols.append(col)\n",
    "\n",
    "print('columns with negative values',negative_cols)\n",
    "for col in negative_cols:\n",
    "    df.drop(index=df.loc[df[col]<0,col].index,inplace=True)\n",
    "\n",
    "df.shape"
   ]
  },
  {
   "cell_type": "markdown",
   "metadata": {},
   "source": [
    "# Partie 3 analyse de la multicolinéarité des variables quantitatives"
   ]
  },
  {
   "cell_type": "markdown",
   "metadata": {},
   "source": [
    "## 3-1 matrice de corrélation"
   ]
  },
  {
   "cell_type": "code",
   "execution_count": 582,
   "metadata": {},
   "outputs": [
    {
     "data": {
      "image/png": "[encoded data removed]",
      "text/plain": [
       "<Figure size 1008x1008 with 2 Axes>"
      ]
     },
     "metadata": {
      "needs_background": "light"
     },
     "output_type": "display_data"
    }
   ],
   "source": [
    "cols=[item for item in relevant_numeric_columns if item!='YearBuilt' and item not in target_cols and item not in ['lat','lng']]\n",
    "utils.show_correlation_matrix(df,cols)"
   ]
  },
  {
   "cell_type": "code",
   "execution_count": 583,
   "metadata": {},
   "outputs": [
    {
     "name": "stdout",
     "output_type": "stream",
     "text": [
      "PropertyGFATotal           PropertyGFABuilding(s)      0.9904\n",
      "PropertyGFABuilding(s)     LargestPropertyUseTypeGFA   0.9824\n",
      "PropertyGFATotal           LargestPropertyUseTypeGFA   0.9777\n",
      "SiteEnergyUse(kBtu)        Electricity(kBtu)           0.9563\n",
      "LargestPropertyUseTypeGFA  Electricity(kBtu)           0.8902\n",
      "PropertyGFABuilding(s)     Electricity(kBtu)           0.8797\n",
      "PropertyGFATotal           Electricity(kBtu)           0.8686\n",
      "TotalGHGEmissions          SiteEnergyUse(kBtu)         0.8600\n",
      "LargestPropertyUseTypeGFA  SiteEnergyUse(kBtu)         0.8468\n",
      "PropertyGFABuilding(s)     SiteEnergyUse(kBtu)         0.8262\n",
      "PropertyGFATotal           SiteEnergyUse(kBtu)         0.8096\n",
      "NumberofBuildings          LargestPropertyUseTypeGFA   0.8012\n",
      "                           PropertyGFABuilding(s)      0.7766\n",
      "                           Electricity(kBtu)           0.7597\n",
      "                           PropertyGFATotal            0.7401\n",
      "TotalGHGEmissions          NaturalGas(kBtu)            0.7256\n",
      "NumberofBuildings          SiteEnergyUse(kBtu)         0.7142\n",
      "TotalGHGEmissions          Electricity(kBtu)           0.6865\n",
      "                           SteamUse(kBtu)              0.6841\n",
      "SiteEnergyUse(kBtu)        SteamUse(kBtu)              0.6053\n",
      "LargestPropertyUseTypeGFA  TotalGHGEmissions           0.5751\n",
      "Electricity(kBtu)          SteamUse(kBtu)              0.5482\n",
      "PropertyGFABuilding(s)     TotalGHGEmissions           0.5435\n",
      "PropertyGFATotal           TotalGHGEmissions           0.5271\n",
      "LargestPropertyUseTypeGFA  SteamUse(kBtu)              0.5104\n",
      "SiteEnergyUse(kBtu)        NaturalGas(kBtu)            0.5031\n",
      "NumberofFloors             PropertyGFAParking          0.5007\n",
      "dtype: float64\n"
     ]
    }
   ],
   "source": [
    "utils.corr_matrix(df,relevant_numeric_columns,0.5) ##threshold"
   ]
  },
  {
   "cell_type": "markdown",
   "metadata": {},
   "source": [
    "suppression de la variable LargestPropertyUseTypeGFA trop corrélée avec PropertyGFATotal, et PropertyGFABuilding(s)\n",
    "\n",
    "suppression de la variable PropertyGFATotal trop corrélée avec  PropertyGFABuilding(s)"
   ]
  },
  {
   "cell_type": "code",
   "execution_count": 584,
   "metadata": {},
   "outputs": [],
   "source": [
    " \n",
    "correlated_cols_to_remove=['PropertyGFATotal','LargestPropertyUseTypeGFA']\n",
    "\n",
    "for col in correlated_cols_to_remove:\n",
    "    if col in relevant_numeric_columns:\n",
    "        relevant_numeric_columns.remove(col)\n",
    " "
   ]
  },
  {
   "cell_type": "code",
   "execution_count": 585,
   "metadata": {},
   "outputs": [
    {
     "name": "stdout",
     "output_type": "stream",
     "text": [
      "SiteEnergyUse(kBtu)     Electricity(kBtu)        0.9563\n",
      "PropertyGFABuilding(s)  Electricity(kBtu)        0.8797\n",
      "TotalGHGEmissions       SiteEnergyUse(kBtu)      0.8600\n",
      "PropertyGFABuilding(s)  SiteEnergyUse(kBtu)      0.8262\n",
      "NumberofBuildings       PropertyGFABuilding(s)   0.7766\n",
      "                        Electricity(kBtu)        0.7597\n",
      "TotalGHGEmissions       NaturalGas(kBtu)         0.7256\n",
      "NumberofBuildings       SiteEnergyUse(kBtu)      0.7142\n",
      "TotalGHGEmissions       Electricity(kBtu)        0.6865\n",
      "                        SteamUse(kBtu)           0.6841\n",
      "SiteEnergyUse(kBtu)     SteamUse(kBtu)           0.6053\n",
      "Electricity(kBtu)       SteamUse(kBtu)           0.5482\n",
      "PropertyGFABuilding(s)  TotalGHGEmissions        0.5435\n",
      "SiteEnergyUse(kBtu)     NaturalGas(kBtu)         0.5031\n",
      "NumberofFloors          PropertyGFAParking       0.5007\n",
      "dtype: float64\n"
     ]
    }
   ],
   "source": [
    "utils.corr_matrix(df,relevant_numeric_columns,0.5) ##threshold"
   ]
  },
  {
   "cell_type": "code",
   "execution_count": 586,
   "metadata": {},
   "outputs": [
    {
     "data": {
      "text/plain": [
       "(1545, 18)"
      ]
     },
     "execution_count": 586,
     "metadata": {},
     "output_type": "execute_result"
    }
   ],
   "source": [
    "df=df[relevant_categorical_columns+relevant_numeric_columns]\n",
    "df.shape"
   ]
  },
  {
   "cell_type": "markdown",
   "metadata": {},
   "source": [
    "# Partie 4 Identification des valeurs aberrantes par IQR"
   ]
  },
  {
   "cell_type": "code",
   "execution_count": 587,
   "metadata": {
    "scrolled": true
   },
   "outputs": [
    {
     "data": {
      "image/png": "[encoded data removed]",
      "text/plain": [
       "<Figure size 1440x720 with 1 Axes>"
      ]
     },
     "metadata": {
      "needs_background": "light"
     },
     "output_type": "display_data"
    }
   ],
   "source": [
    "\n",
    "#df[numeric_columns_2].describe()\n",
    "\n",
    "## afin de détecter d'éventuelles valeurs aberrantes, \n",
    "## nous traçons les boxplot pour  chaque variable nutnumérique\n",
    "\n",
    "## boxplot\n",
    "from matplotlib import rcParams\n",
    "\n",
    "rcParams['figure.figsize'] = 20,10\n",
    "g=sns.boxplot(data=df[[item for item in relevant_numeric_columns if item not in ['YearBuilt','lat','lng']]])\n",
    "g.set_yscale(\"log\")\n",
    "\n",
    "## présence de plusieurs valeurs aberrantes "
   ]
  },
  {
   "cell_type": "code",
   "execution_count": 588,
   "metadata": {},
   "outputs": [
    {
     "data": {
      "text/html": [
       "<div>\n",
       "<style scoped>\n",
       "    .dataframe tbody tr th:only-of-type {\n",
       "        vertical-align: middle;\n",
       "    }\n",
       "\n",
       "    .dataframe tbody tr th {\n",
       "        vertical-align: top;\n",
       "    }\n",
       "\n",
       "    .dataframe thead th {\n",
       "        text-align: right;\n",
       "    }\n",
       "</style>\n",
       "<table border=\"1\" class=\"dataframe\">\n",
       "  <thead>\n",
       "    <tr style=\"text-align: right;\">\n",
       "      <th></th>\n",
       "      <th>NumberofBuildings</th>\n",
       "      <th>NumberofFloors</th>\n",
       "      <th>PropertyGFAParking</th>\n",
       "      <th>PropertyGFABuilding(s)</th>\n",
       "      <th>TotalGHGEmissions</th>\n",
       "      <th>SiteEnergyUse(kBtu)</th>\n",
       "      <th>ENERGYSTARScore</th>\n",
       "      <th>YearBuilt</th>\n",
       "      <th>lat</th>\n",
       "      <th>lng</th>\n",
       "      <th>NaturalGas(kBtu)</th>\n",
       "      <th>Electricity(kBtu)</th>\n",
       "      <th>SteamUse(kBtu)</th>\n",
       "    </tr>\n",
       "  </thead>\n",
       "  <tbody>\n",
       "    <tr>\n",
       "      <th>count</th>\n",
       "      <td>1,545.0000</td>\n",
       "      <td>1,545.0000</td>\n",
       "      <td>1,545.0000</td>\n",
       "      <td>1,545.0000</td>\n",
       "      <td>1,545.0000</td>\n",
       "      <td>1,545.0000</td>\n",
       "      <td>995.0000</td>\n",
       "      <td>1,545.0000</td>\n",
       "      <td>1,545.0000</td>\n",
       "      <td>1,545.0000</td>\n",
       "      <td>1,545.0000</td>\n",
       "      <td>1,545.0000</td>\n",
       "      <td>1,545.0000</td>\n",
       "    </tr>\n",
       "    <tr>\n",
       "      <th>mean</th>\n",
       "      <td>1.1793</td>\n",
       "      <td>4.2764</td>\n",
       "      <td>13,845.8544</td>\n",
       "      <td>107,598.4867</td>\n",
       "      <td>193.9517</td>\n",
       "      <td>8,873,302.4272</td>\n",
       "      <td>63.6312</td>\n",
       "      <td>1,961.5987</td>\n",
       "      <td>47.6165</td>\n",
       "      <td>-122.3335</td>\n",
       "      <td>2,042,091.0246</td>\n",
       "      <td>6,149,264.6153</td>\n",
       "      <td>552,253.3136</td>\n",
       "    </tr>\n",
       "    <tr>\n",
       "      <th>std</th>\n",
       "      <td>3.0422</td>\n",
       "      <td>6.7871</td>\n",
       "      <td>43,757.7778</td>\n",
       "      <td>292,900.8933</td>\n",
       "      <td>779.8227</td>\n",
       "      <td>31,334,568.7068</td>\n",
       "      <td>28.8138</td>\n",
       "      <td>32.8746</td>\n",
       "      <td>0.0470</td>\n",
       "      <td>0.0233</td>\n",
       "      <td>9,719,712.2889</td>\n",
       "      <td>21,530,636.6458</td>\n",
       "      <td>5,724,003.5845</td>\n",
       "    </tr>\n",
       "    <tr>\n",
       "      <th>min</th>\n",
       "      <td>0.0000</td>\n",
       "      <td>0.0000</td>\n",
       "      <td>0.0000</td>\n",
       "      <td>3,636.0000</td>\n",
       "      <td>0.0000</td>\n",
       "      <td>57,133.1992</td>\n",
       "      <td>1.0000</td>\n",
       "      <td>1,900.0000</td>\n",
       "      <td>47.5096</td>\n",
       "      <td>-122.4118</td>\n",
       "      <td>0.0000</td>\n",
       "      <td>0.0000</td>\n",
       "      <td>0.0000</td>\n",
       "    </tr>\n",
       "    <tr>\n",
       "      <th>25%</th>\n",
       "      <td>1.0000</td>\n",
       "      <td>1.0000</td>\n",
       "      <td>0.0000</td>\n",
       "      <td>27,933.0000</td>\n",
       "      <td>20.6600</td>\n",
       "      <td>1,252,323.8750</td>\n",
       "      <td>44.0000</td>\n",
       "      <td>1,930.0000</td>\n",
       "      <td>47.5878</td>\n",
       "      <td>-122.3431</td>\n",
       "      <td>0.0000</td>\n",
       "      <td>731,279.0000</td>\n",
       "      <td>0.0000</td>\n",
       "    </tr>\n",
       "    <tr>\n",
       "      <th>50%</th>\n",
       "      <td>1.0000</td>\n",
       "      <td>2.0000</td>\n",
       "      <td>0.0000</td>\n",
       "      <td>46,068.0000</td>\n",
       "      <td>49.9800</td>\n",
       "      <td>2,735,166.0000</td>\n",
       "      <td>71.0000</td>\n",
       "      <td>1,965.0000</td>\n",
       "      <td>47.6127</td>\n",
       "      <td>-122.3332</td>\n",
       "      <td>491,090.0000</td>\n",
       "      <td>1,747,974.0000</td>\n",
       "      <td>0.0000</td>\n",
       "    </tr>\n",
       "    <tr>\n",
       "      <th>75%</th>\n",
       "      <td>1.0000</td>\n",
       "      <td>4.0000</td>\n",
       "      <td>0.0000</td>\n",
       "      <td>95,995.0000</td>\n",
       "      <td>147.4900</td>\n",
       "      <td>7,305,474.0000</td>\n",
       "      <td>88.0000</td>\n",
       "      <td>1,989.0000</td>\n",
       "      <td>47.6491</td>\n",
       "      <td>-122.3227</td>\n",
       "      <td>1,531,185.0000</td>\n",
       "      <td>5,266,334.0000</td>\n",
       "      <td>0.0000</td>\n",
       "    </tr>\n",
       "    <tr>\n",
       "      <th>max</th>\n",
       "      <td>111.0000</td>\n",
       "      <td>99.0000</td>\n",
       "      <td>512,608.0000</td>\n",
       "      <td>9,320,156.0000</td>\n",
       "      <td>16,870.9800</td>\n",
       "      <td>873,923,712.0000</td>\n",
       "      <td>100.0000</td>\n",
       "      <td>2,015.0000</td>\n",
       "      <td>47.7339</td>\n",
       "      <td>-122.2618</td>\n",
       "      <td>297,909,000.0000</td>\n",
       "      <td>657,074,389.0000</td>\n",
       "      <td>134,943,456.0000</td>\n",
       "    </tr>\n",
       "  </tbody>\n",
       "</table>\n",
       "</div>"
      ],
      "text/plain": [
       "       NumberofBuildings  NumberofFloors  PropertyGFAParking  \\\n",
       "count         1,545.0000      1,545.0000          1,545.0000   \n",
       "mean              1.1793          4.2764         13,845.8544   \n",
       "std               3.0422          6.7871         43,757.7778   \n",
       "min               0.0000          0.0000              0.0000   \n",
       "25%               1.0000          1.0000              0.0000   \n",
       "50%               1.0000          2.0000              0.0000   \n",
       "75%               1.0000          4.0000              0.0000   \n",
       "max             111.0000         99.0000        512,608.0000   \n",
       "\n",
       "       PropertyGFABuilding(s)  TotalGHGEmissions  SiteEnergyUse(kBtu)  \\\n",
       "count              1,545.0000         1,545.0000           1,545.0000   \n",
       "mean             107,598.4867           193.9517       8,873,302.4272   \n",
       "std              292,900.8933           779.8227      31,334,568.7068   \n",
       "min                3,636.0000             0.0000          57,133.1992   \n",
       "25%               27,933.0000            20.6600       1,252,323.8750   \n",
       "50%               46,068.0000            49.9800       2,735,166.0000   \n",
       "75%               95,995.0000           147.4900       7,305,474.0000   \n",
       "max            9,320,156.0000        16,870.9800     873,923,712.0000   \n",
       "\n",
       "       ENERGYSTARScore  YearBuilt        lat        lng  NaturalGas(kBtu)  \\\n",
       "count         995.0000 1,545.0000 1,545.0000 1,545.0000        1,545.0000   \n",
       "mean           63.6312 1,961.5987    47.6165  -122.3335    2,042,091.0246   \n",
       "std            28.8138    32.8746     0.0470     0.0233    9,719,712.2889   \n",
       "min             1.0000 1,900.0000    47.5096  -122.4118            0.0000   \n",
       "25%            44.0000 1,930.0000    47.5878  -122.3431            0.0000   \n",
       "50%            71.0000 1,965.0000    47.6127  -122.3332      491,090.0000   \n",
       "75%            88.0000 1,989.0000    47.6491  -122.3227    1,531,185.0000   \n",
       "max           100.0000 2,015.0000    47.7339  -122.2618  297,909,000.0000   \n",
       "\n",
       "       Electricity(kBtu)   SteamUse(kBtu)  \n",
       "count         1,545.0000       1,545.0000  \n",
       "mean      6,149,264.6153     552,253.3136  \n",
       "std      21,530,636.6458   5,724,003.5845  \n",
       "min               0.0000           0.0000  \n",
       "25%         731,279.0000           0.0000  \n",
       "50%       1,747,974.0000           0.0000  \n",
       "75%       5,266,334.0000           0.0000  \n",
       "max     657,074,389.0000 134,943,456.0000  "
      ]
     },
     "execution_count": 588,
     "metadata": {},
     "output_type": "execute_result"
    }
   ],
   "source": [
    "df[relevant_numeric_columns].describe()"
   ]
  },
  {
   "cell_type": "code",
   "execution_count": 589,
   "metadata": {},
   "outputs": [
    {
     "name": "stdout",
     "output_type": "stream",
     "text": [
      "28800\n"
     ]
    }
   ],
   "source": [
    "\n",
    "outliers=[]\n",
    "group_by_col= 'BuildingType'#'BuildingType'\n",
    "name='OSEBuildingID'\n",
    "relevant_cols_iqr=[item for item in relevant_numeric_columns if item not in ['lat','lng','YearBuilt','NumberofBuildings',group_by_col]\n",
    "                  ]\n",
    " \n",
    "\n",
    "for category in df[group_by_col].unique():\n",
    "    for col in relevant_cols_iqr:\n",
    "        data=df[df[group_by_col]==category][[col,name,group_by_col]]\n",
    "        if len(data)>0:\n",
    "            result=utils.find_outliers(df,col,name)\n",
    "            outliers+=result\n",
    "            #print('result',type(result))\n",
    "            \n",
    "        \n",
    "        \n",
    " \n",
    "\n",
    "print(len(outliers)) ## si on se réfère au type de batiment non résidentiel , il y a 4900 valeurs aberrantes"
   ]
  },
  {
   "cell_type": "code",
   "execution_count": 590,
   "metadata": {},
   "outputs": [
    {
     "name": "stdout",
     "output_type": "stream",
     "text": [
      "outliers_names len 28800\n",
      "len first  28800\n",
      "duplicates 580\n"
     ]
    }
   ],
   "source": [
    "import collections\n",
    "outliers_names=list(map(lambda x: x[0],outliers))\n",
    "print('outliers_names len',len(outliers_names))\n",
    "print('len first ',len(outliers_names)) ##84956\n",
    "duplicates=[item for item, count in collections.Counter(outliers_names).items() if count > 1] \n",
    "\n",
    "print('duplicates',len(duplicates))\n"
   ]
  },
  {
   "cell_type": "code",
   "execution_count": 591,
   "metadata": {},
   "outputs": [],
   "source": [
    "## création de nouvelles colonnes pour identifier les outliers\n",
    "cols_ouliers=list(map(lambda x:x+'_outliers',relevant_cols_iqr))\n",
    "for col in cols_ouliers:\n",
    "    df[col]=0\n"
   ]
  },
  {
   "cell_type": "code",
   "execution_count": 592,
   "metadata": {},
   "outputs": [],
   "source": [
    "## identification des outliers\n",
    "for i,col in outliers:\n",
    "    building=df[df['OSEBuildingID']==i]\n",
    "    df.loc[building.index,col+'_outliers']=1"
   ]
  },
  {
   "cell_type": "code",
   "execution_count": 593,
   "metadata": {},
   "outputs": [],
   "source": [
    "df.to_csv('data/2016_Building_Energy_Benchmarking_outliers.csv',index=False)"
   ]
  },
  {
   "cell_type": "code",
   "execution_count": 594,
   "metadata": {},
   "outputs": [
    {
     "data": {
      "text/html": [
       "<div>\n",
       "<style scoped>\n",
       "    .dataframe tbody tr th:only-of-type {\n",
       "        vertical-align: middle;\n",
       "    }\n",
       "\n",
       "    .dataframe tbody tr th {\n",
       "        vertical-align: top;\n",
       "    }\n",
       "\n",
       "    .dataframe thead th {\n",
       "        text-align: right;\n",
       "    }\n",
       "</style>\n",
       "<table border=\"1\" class=\"dataframe\">\n",
       "  <thead>\n",
       "    <tr style=\"text-align: right;\">\n",
       "      <th></th>\n",
       "      <th>PropertyName</th>\n",
       "      <th>OSEBuildingID</th>\n",
       "      <th>YearBuilt</th>\n",
       "    </tr>\n",
       "  </thead>\n",
       "  <tbody>\n",
       "    <tr>\n",
       "      <th>0</th>\n",
       "      <td>Mayflower park hotel</td>\n",
       "      <td>1</td>\n",
       "      <td>1927</td>\n",
       "    </tr>\n",
       "    <tr>\n",
       "      <th>1</th>\n",
       "      <td>Paramount Hotel</td>\n",
       "      <td>2</td>\n",
       "      <td>1996</td>\n",
       "    </tr>\n",
       "    <tr>\n",
       "      <th>2</th>\n",
       "      <td>5673-The Westin Seattle</td>\n",
       "      <td>3</td>\n",
       "      <td>1969</td>\n",
       "    </tr>\n",
       "    <tr>\n",
       "      <th>3</th>\n",
       "      <td>HOTEL MAX</td>\n",
       "      <td>5</td>\n",
       "      <td>1926</td>\n",
       "    </tr>\n",
       "    <tr>\n",
       "      <th>4</th>\n",
       "      <td>WARWICK SEATTLE HOTEL (ID8)</td>\n",
       "      <td>8</td>\n",
       "      <td>1980</td>\n",
       "    </tr>\n",
       "    <tr>\n",
       "      <th>...</th>\n",
       "      <td>...</td>\n",
       "      <td>...</td>\n",
       "      <td>...</td>\n",
       "    </tr>\n",
       "    <tr>\n",
       "      <th>3338</th>\n",
       "      <td>Airport - Maintenance Shop - DOT: KCIA</td>\n",
       "      <td>50068</td>\n",
       "      <td>1955</td>\n",
       "    </tr>\n",
       "    <tr>\n",
       "      <th>3356</th>\n",
       "      <td>AIBS</td>\n",
       "      <td>50094</td>\n",
       "      <td>2015</td>\n",
       "    </tr>\n",
       "    <tr>\n",
       "      <th>3365</th>\n",
       "      <td>Ballard Pool</td>\n",
       "      <td>50208</td>\n",
       "      <td>1972</td>\n",
       "    </tr>\n",
       "    <tr>\n",
       "      <th>3367</th>\n",
       "      <td>Conservatory Campus</td>\n",
       "      <td>50212</td>\n",
       "      <td>1912</td>\n",
       "    </tr>\n",
       "    <tr>\n",
       "      <th>3373</th>\n",
       "      <td>Queen Anne Pool</td>\n",
       "      <td>50224</td>\n",
       "      <td>1974</td>\n",
       "    </tr>\n",
       "  </tbody>\n",
       "</table>\n",
       "<p>580 rows × 3 columns</p>\n",
       "</div>"
      ],
      "text/plain": [
       "                                PropertyName OSEBuildingID  YearBuilt\n",
       "0                       Mayflower park hotel             1       1927\n",
       "1                            Paramount Hotel             2       1996\n",
       "2                    5673-The Westin Seattle             3       1969\n",
       "3                                  HOTEL MAX             5       1926\n",
       "4                WARWICK SEATTLE HOTEL (ID8)             8       1980\n",
       "...                                      ...           ...        ...\n",
       "3338  Airport - Maintenance Shop - DOT: KCIA         50068       1955\n",
       "3356                                    AIBS         50094       2015\n",
       "3365                            Ballard Pool         50208       1972\n",
       "3367                     Conservatory Campus         50212       1912\n",
       "3373                         Queen Anne Pool         50224       1974\n",
       "\n",
       "[580 rows x 3 columns]"
      ]
     },
     "execution_count": 594,
     "metadata": {},
     "output_type": "execute_result"
    }
   ],
   "source": [
    "## identification des 525 batiments ayant des valeurs aberrantes\n",
    "outliers_df=df[df['OSEBuildingID'].isin(outliers_names)][['PropertyName','OSEBuildingID','YearBuilt']] \n",
    "outliers_df"
   ]
  },
  {
   "cell_type": "markdown",
   "metadata": {},
   "source": [
    "suppression des valeurs aberrantes"
   ]
  },
  {
   "cell_type": "code",
   "execution_count": 595,
   "metadata": {},
   "outputs": [
    {
     "data": {
      "text/plain": [
       "(965, 27)"
      ]
     },
     "execution_count": 595,
     "metadata": {},
     "output_type": "execute_result"
    }
   ],
   "source": [
    "\n",
    "df.drop(outliers_df.index,inplace=True)\n",
    "df.shape"
   ]
  },
  {
   "cell_type": "code",
   "execution_count": 596,
   "metadata": {},
   "outputs": [
    {
     "data": {
      "image/png": "[encoded data removed]",
      "text/plain": [
       "<Figure size 1440x720 with 1 Axes>"
      ]
     },
     "metadata": {
      "needs_background": "light"
     },
     "output_type": "display_data"
    }
   ],
   "source": [
    "rcParams['figure.figsize'] = 20,10\n",
    "g=sns.boxplot(data=df[[item for item in relevant_numeric_columns if item not in ['YearBuilt','lat','lng']]])\n",
    "g.set_yscale(\"log\")\n"
   ]
  },
  {
   "cell_type": "markdown",
   "metadata": {},
   "source": [
    "# Partie 5 Imputation des valeurs manquantes"
   ]
  },
  {
   "cell_type": "code",
   "execution_count": 597,
   "metadata": {},
   "outputs": [
    {
     "data": {
      "text/plain": [
       "OSEBuildingID                      0.0000\n",
       "BuildingType                       0.0000\n",
       "PrimaryPropertyType                0.0000\n",
       "PropertyName                       0.0000\n",
       "Neighborhood                       0.0000\n",
       "NumberofBuildings                  0.0000\n",
       "NumberofFloors                     0.0000\n",
       "PropertyGFAParking                 0.0000\n",
       "PropertyGFABuilding(s)             0.0000\n",
       "TotalGHGEmissions                  0.0000\n",
       "SiteEnergyUse(kBtu)                0.0000\n",
       "ENERGYSTARScore                   38.0311\n",
       "YearBuilt                          0.0000\n",
       "lat                                0.0000\n",
       "lng                                0.0000\n",
       "NaturalGas(kBtu)                   0.0000\n",
       "Electricity(kBtu)                  0.0000\n",
       "SteamUse(kBtu)                     0.0000\n",
       "NumberofFloors_outliers            0.0000\n",
       "PropertyGFAParking_outliers        0.0000\n",
       "PropertyGFABuilding(s)_outliers    0.0000\n",
       "TotalGHGEmissions_outliers         0.0000\n",
       "SiteEnergyUse(kBtu)_outliers       0.0000\n",
       "ENERGYSTARScore_outliers           0.0000\n",
       "NaturalGas(kBtu)_outliers          0.0000\n",
       "Electricity(kBtu)_outliers         0.0000\n",
       "SteamUse(kBtu)_outliers            0.0000\n",
       "dtype: float64"
      ]
     },
     "execution_count": 597,
     "metadata": {},
     "output_type": "execute_result"
    }
   ],
   "source": [
    "df.isnull().sum()/len(df)*100"
   ]
  },
  {
   "cell_type": "code",
   "execution_count": 598,
   "metadata": {},
   "outputs": [],
   "source": [
    "imputer = KNNImputer()\n",
    "data=np.array(df['ENERGYSTARScore']).reshape((len(df['ENERGYSTARScore']), 1))\n",
    "\n",
    "df['ENERGYSTARScore']=imputer.fit_transform(data)\n",
    "#df['LargestPropertyUseTypeGFA']=imputer.fit_transform(np.array(df['LargestPropertyUseTypeGFA']).reshape((len(df['LargestPropertyUseTypeGFA']), 1)))\n"
   ]
  },
  {
   "cell_type": "code",
   "execution_count": 599,
   "metadata": {},
   "outputs": [
    {
     "data": {
      "text/plain": [
       "OSEBuildingID                     0.0000\n",
       "BuildingType                      0.0000\n",
       "PrimaryPropertyType               0.0000\n",
       "PropertyName                      0.0000\n",
       "Neighborhood                      0.0000\n",
       "NumberofBuildings                 0.0000\n",
       "NumberofFloors                    0.0000\n",
       "PropertyGFAParking                0.0000\n",
       "PropertyGFABuilding(s)            0.0000\n",
       "TotalGHGEmissions                 0.0000\n",
       "SiteEnergyUse(kBtu)               0.0000\n",
       "ENERGYSTARScore                   0.0000\n",
       "YearBuilt                         0.0000\n",
       "lat                               0.0000\n",
       "lng                               0.0000\n",
       "NaturalGas(kBtu)                  0.0000\n",
       "Electricity(kBtu)                 0.0000\n",
       "SteamUse(kBtu)                    0.0000\n",
       "NumberofFloors_outliers           0.0000\n",
       "PropertyGFAParking_outliers       0.0000\n",
       "PropertyGFABuilding(s)_outliers   0.0000\n",
       "TotalGHGEmissions_outliers        0.0000\n",
       "SiteEnergyUse(kBtu)_outliers      0.0000\n",
       "ENERGYSTARScore_outliers          0.0000\n",
       "NaturalGas(kBtu)_outliers         0.0000\n",
       "Electricity(kBtu)_outliers        0.0000\n",
       "SteamUse(kBtu)_outliers           0.0000\n",
       "dtype: float64"
      ]
     },
     "execution_count": 599,
     "metadata": {},
     "output_type": "execute_result"
    }
   ],
   "source": [
    "df.isnull().sum()/len(df)*100"
   ]
  },
  {
   "cell_type": "markdown",
   "metadata": {},
   "source": [
    "# Partie 6 feature engineering"
   ]
  },
  {
   "cell_type": "markdown",
   "metadata": {},
   "source": [
    "### 6-1 recherche et suppression des variables dont les valeurs sont constantes"
   ]
  },
  {
   "cell_type": "code",
   "execution_count": 600,
   "metadata": {},
   "outputs": [
    {
     "data": {
      "text/plain": [
       "['PropertyGFAParking', 'SteamUse(kBtu)']"
      ]
     },
     "execution_count": 600,
     "metadata": {},
     "output_type": "execute_result"
    }
   ],
   "source": [
    "\n",
    "static_cols=[]\n",
    "for col in relevant_numeric_columns:\n",
    "    if col not in ['lat','lng'] and df[col].nunique(col)==1:\n",
    "        static_cols.append(col)\n",
    "        relevant_numeric_columns.remove(col)\n",
    "        \n",
    "static_cols\n"
   ]
  },
  {
   "cell_type": "markdown",
   "metadata": {},
   "source": [
    "### 6-2 création de la variable  âge à partir de l'année de construction"
   ]
  },
  {
   "cell_type": "code",
   "execution_count": 601,
   "metadata": {},
   "outputs": [],
   "source": [
    "df['YearBuilt']=2016-df['YearBuilt']\n",
    "\n",
    "df.rename(columns = {'YearBuilt':'age'}, inplace = True)\n",
    "relevant_numeric_columns.append('age')\n",
    "relevant_numeric_columns.remove('YearBuilt')"
   ]
  },
  {
   "cell_type": "markdown",
   "metadata": {},
   "source": [
    "### 6-3 création de la variable  volume_building à partir de PropertyGFABuilding(s) et NumberofFloors"
   ]
  },
  {
   "cell_type": "code",
   "execution_count": 602,
   "metadata": {},
   "outputs": [
    {
     "data": {
      "text/plain": [
       "\"\\ndf['PropertyGFABuilding(s)']=df['NumberofFloors']*df['PropertyGFABuilding(s)']\\n\\ndf.rename(columns = {'PropertyGFABuilding(s)':'volume_building'}, inplace = True)\\nrelevant_numeric_columns.append('volume_building')\\nrelevant_numeric_columns.remove('PropertyGFABuilding(s)')\\nrelevant_numeric_columns.remove('NumberofFloors')\\n\""
      ]
     },
     "execution_count": 602,
     "metadata": {},
     "output_type": "execute_result"
    }
   ],
   "source": [
    "'''\n",
    "df['PropertyGFABuilding(s)']=df['NumberofFloors']*df['PropertyGFABuilding(s)']\n",
    "\n",
    "df.rename(columns = {'PropertyGFABuilding(s)':'volume_building'}, inplace = True)\n",
    "relevant_numeric_columns.append('volume_building')\n",
    "relevant_numeric_columns.remove('PropertyGFABuilding(s)')\n",
    "relevant_numeric_columns.remove('NumberofFloors')\n",
    "'''"
   ]
  },
  {
   "cell_type": "markdown",
   "metadata": {},
   "source": [
    "### 6-4 création de la variable  distance_from_center_ville (lat et lng) distance par rapport au centre ville de seattle "
   ]
  },
  {
   "cell_type": "code",
   "execution_count": 603,
   "metadata": {},
   "outputs": [],
   "source": [
    "#distance_from_center_ville\n",
    "lat_center = 47.617004\n",
    "lng_center = -122.343506\n",
    "\n",
    "def dist_from_center(x):\n",
    "    center_ville=(47.617004,-122.343506)\n",
    "    return hs.haversine((x.lat,x.lng),center_ville)\n",
    "    \n",
    "center_ville = (lat_center,lng_center)\n",
    "#df['distance_from_center_ville']=\n",
    "\n",
    "df['distance_from_center_ville']=df[['lat','lng']].apply(lambda x:dist_from_center(x),axis=1)\n",
    "df['distance_from_center_ville'].sort_values()\n",
    "\n",
    "for col in ['lat','lng']:\n",
    "    if col  in relevant_numeric_columns:\n",
    "        relevant_numeric_columns.remove(col)\n",
    "        \n",
    "if 'distance_from_center_ville' not in relevant_numeric_columns:\n",
    "    relevant_numeric_columns.append('distance_from_center_ville')\n",
    "    "
   ]
  },
  {
   "cell_type": "markdown",
   "metadata": {},
   "source": [
    "### 6-5 création de la variable  natural_gas_percentage "
   ]
  },
  {
   "cell_type": "code",
   "execution_count": 604,
   "metadata": {},
   "outputs": [],
   "source": [
    "cols_to_remove=[\n",
    "    \n",
    "    'Electricity(kBtu)',\n",
    "    'NaturalGas(kBtu)'\n",
    "   \n",
    "]\n",
    "new_col=  'natural_gas_percentage' \n",
    "df[new_col]=(df['NaturalGas(kBtu)']/(df['SiteEnergyUse(kBtu)']))*100\n",
    "if new_col not in relevant_numeric_columns:\n",
    "    relevant_numeric_columns.append(new_col)\n",
    "    \n",
    "    \n",
    "for col in cols_to_remove:\n",
    "    if col in relevant_numeric_columns:\n",
    "        relevant_numeric_columns.remove(col)\n",
    "    \n",
    "imputer = KNNImputer()\n",
    "data=np.array(df[new_col]).reshape((len(df[new_col]), 1))\n",
    "\n",
    "df[new_col]=imputer.fit_transform(data)"
   ]
  },
  {
   "cell_type": "code",
   "execution_count": 605,
   "metadata": {},
   "outputs": [
    {
     "name": "stdout",
     "output_type": "stream",
     "text": [
      "<class 'pandas.core.frame.DataFrame'>\n",
      "Int64Index: 965 entries, 25 to 3375\n",
      "Data columns (total 29 columns):\n",
      " #   Column                           Non-Null Count  Dtype  \n",
      "---  ------                           --------------  -----  \n",
      " 0   OSEBuildingID                    965 non-null    object \n",
      " 1   BuildingType                     965 non-null    object \n",
      " 2   PrimaryPropertyType              965 non-null    object \n",
      " 3   PropertyName                     965 non-null    object \n",
      " 4   Neighborhood                     965 non-null    object \n",
      " 5   NumberofBuildings                965 non-null    float64\n",
      " 6   NumberofFloors                   965 non-null    int64  \n",
      " 7   PropertyGFAParking               965 non-null    int64  \n",
      " 8   PropertyGFABuilding(s)           965 non-null    int64  \n",
      " 9   TotalGHGEmissions                965 non-null    float64\n",
      " 10  SiteEnergyUse(kBtu)              965 non-null    float64\n",
      " 11  ENERGYSTARScore                  965 non-null    float64\n",
      " 12  age                              965 non-null    int64  \n",
      " 13  lat                              965 non-null    float64\n",
      " 14  lng                              965 non-null    float64\n",
      " 15  NaturalGas(kBtu)                 965 non-null    float64\n",
      " 16  Electricity(kBtu)                965 non-null    float64\n",
      " 17  SteamUse(kBtu)                   965 non-null    float64\n",
      " 18  NumberofFloors_outliers          965 non-null    int64  \n",
      " 19  PropertyGFAParking_outliers      965 non-null    int64  \n",
      " 20  PropertyGFABuilding(s)_outliers  965 non-null    int64  \n",
      " 21  TotalGHGEmissions_outliers       965 non-null    int64  \n",
      " 22  SiteEnergyUse(kBtu)_outliers     965 non-null    int64  \n",
      " 23  ENERGYSTARScore_outliers         965 non-null    int64  \n",
      " 24  NaturalGas(kBtu)_outliers        965 non-null    int64  \n",
      " 25  Electricity(kBtu)_outliers       965 non-null    int64  \n",
      " 26  SteamUse(kBtu)_outliers          965 non-null    int64  \n",
      " 27  distance_from_center_ville       965 non-null    float64\n",
      " 28  natural_gas_percentage           965 non-null    float64\n",
      "dtypes: float64(11), int64(13), object(5)\n",
      "memory usage: 226.2+ KB\n"
     ]
    }
   ],
   "source": [
    "df.info()"
   ]
  },
  {
   "cell_type": "code",
   "execution_count": 606,
   "metadata": {},
   "outputs": [
    {
     "data": {
      "text/plain": [
       "['NumberofBuildings',\n",
       " 'NumberofFloors',\n",
       " 'PropertyGFABuilding(s)',\n",
       " 'TotalGHGEmissions',\n",
       " 'SiteEnergyUse(kBtu)',\n",
       " 'ENERGYSTARScore',\n",
       " 'age',\n",
       " 'distance_from_center_ville',\n",
       " 'natural_gas_percentage']"
      ]
     },
     "execution_count": 606,
     "metadata": {},
     "output_type": "execute_result"
    }
   ],
   "source": [
    "relevant_numeric_columns"
   ]
  },
  {
   "cell_type": "code",
   "execution_count": 607,
   "metadata": {},
   "outputs": [
    {
     "data": {
      "text/plain": [
       "0"
      ]
     },
     "execution_count": 607,
     "metadata": {},
     "output_type": "execute_result"
    }
   ],
   "source": [
    "df['natural_gas_percentage'].isnull().sum()"
   ]
  },
  {
   "cell_type": "markdown",
   "metadata": {},
   "source": [
    "# Partie 7 Analyse univariée"
   ]
  },
  {
   "cell_type": "markdown",
   "metadata": {},
   "source": [
    "### 7-1 Analyse univariée TotalGHGEmissions"
   ]
  },
  {
   "cell_type": "code",
   "execution_count": 608,
   "metadata": {},
   "outputs": [],
   "source": [
    "## histogramme et boite à moustache\n",
    "\n",
    "def boxplot_hist(df,col):\n",
    "    fig1 = px.box(df,x=col)\n",
    "    bins=round(1 + 3.322*math.log(len(df)))\n",
    "    fig1.show()\n",
    "    fig2 = px.histogram(df[col],nbins=bins)\n",
    "    fig2.show()\n",
    "    "
   ]
  },
  {
   "cell_type": "code",
   "execution_count": 609,
   "metadata": {},
   "outputs": [
    {
     "data": {
      "application/vnd.plotly.v1+json": {
       "config": {
        "plotlyServerURL": "https://plot.ly"
       },
       "data": [
        {
         "alignmentgroup": "True",
         "hovertemplate": "TotalGHGEmissions=%{x}<extra></extra>",
         "legendgroup": "",
         "marker": {
          "color": "#636efa"
         },
         "name": "",
         "notched": false,
         "offsetgroup": "",
         "orientation": "h",
         "showlegend": false,
         "type": "box",
         "x": [
          9.13,
          157.77,
          215,
          3.93,
          31.47,
          130.56,
          83.86,
          45.43,
          66.48,
          33.26,
          35.36,
          134.38,
          146.34,
          87.98,
          39.06,
          6.11,
          191.2,
          78.85,
          44.32,
          127.29,
          89.02,
          142.39,
          176.75,
          74.33,
          204.08,
          61.21,
          100.46,
          104.26,
          49.58,
          66.3,
          83.7,
          51.11,
          69.44,
          35.78,
          59.34,
          48.99,
          225.69,
          3,
          175.77,
          208.26,
          28.27,
          96.43,
          27.39,
          16.81,
          92.91,
          72.88,
          49.09,
          84.57,
          149.93,
          57.21,
          101.41,
          26.19,
          31.97,
          89.47,
          119.03,
          6.09,
          24.91,
          78.92,
          116.03,
          48.65,
          70.47,
          156.67,
          36.61,
          18.03,
          74.83,
          20.98,
          44.48,
          13.86,
          117.11,
          5.32,
          5.44,
          35.8,
          42.03,
          38.59,
          33.06,
          93.23,
          29.53,
          74.1,
          163.83,
          22.44,
          45.47,
          121.98,
          110.46,
          10.24,
          226.43,
          237.39,
          158.92,
          17.17,
          32.22,
          8.15,
          25.58,
          33.18,
          2.8,
          42.65,
          76.68,
          10.72,
          3.62,
          46.93,
          6.32,
          204.81,
          32.02,
          74.31,
          38.55,
          90.24,
          42.25,
          46.49,
          44.35,
          22.1,
          57.73,
          33.22,
          34,
          58.67,
          91.1,
          23.86,
          107.83,
          22.12,
          65.3,
          107.16,
          20.29,
          39.5,
          64,
          39.47,
          8.73,
          25.74,
          19.73,
          134.69,
          19.89,
          26.04,
          13.28,
          31.58,
          65.56,
          132.6,
          74.18,
          15.65,
          16.48,
          41.18,
          7.37,
          138.35,
          67.78,
          180.76,
          98.43,
          47.25,
          100.42,
          49.25,
          42.74,
          33.41,
          67.29,
          17.28,
          40.38,
          94.74,
          21.37,
          23.48,
          30.61,
          0,
          60.7,
          55.73,
          5.59,
          70.09,
          8.8,
          47.39,
          97.82,
          69.02,
          119.46,
          157.48,
          7.08,
          95.86,
          75.29,
          19.86,
          155.74,
          48.5,
          178.62,
          34.14,
          168.5,
          86.9,
          47.82,
          260.13,
          109.85,
          150.88,
          27.82,
          54.4,
          20.12,
          41.8,
          13.72,
          9.31,
          51.56,
          30.35,
          73.58,
          89.94,
          111.23,
          46.52,
          152.28,
          60.92,
          13.61,
          1.06,
          131.64,
          89.53,
          158.55,
          195.43,
          29.16,
          24.12,
          4.22,
          4.2,
          110.41,
          20.94,
          27.24,
          54.18,
          7.56,
          109.71,
          13.07,
          134.82,
          16.27,
          13.51,
          31.74,
          30.52,
          11.29,
          24.39,
          17.87,
          101.5,
          36.02,
          43.84,
          86.46,
          3.58,
          77.04,
          2.41,
          2.57,
          21.93,
          22.65,
          37.78,
          9.77,
          9.47,
          169.75,
          7.77,
          63.48,
          207.6,
          29.62,
          9.82,
          42.19,
          25.24,
          24.02,
          43.8,
          15.27,
          6.33,
          18.1,
          154.17,
          29.54,
          9.95,
          6.16,
          24.25,
          13.87,
          8.68,
          28.81,
          33.78,
          66.29,
          12.95,
          126.78,
          10.83,
          86.02,
          30.33,
          72.78,
          36.43,
          4.22,
          13.91,
          47.12,
          63.61,
          28.41,
          47.66,
          46.57,
          101.99,
          18.66,
          32.64,
          33.23,
          34.98,
          64.51,
          8.45,
          38.87,
          6.49,
          32.22,
          23.59,
          6.69,
          37.31,
          5.67,
          4.8,
          4.99,
          118.37,
          89.57,
          27.14,
          202.65,
          23.15,
          26.11,
          33.37,
          49.98,
          0.63,
          19.07,
          130.58,
          185.23,
          89.29,
          43.45,
          35.04,
          188.67,
          13.29,
          210.3,
          34.15,
          1.86,
          134.57,
          43.13,
          13.16,
          33.92,
          147,
          12.48,
          5.17,
          19.93,
          19.82,
          13.02,
          19.04,
          63.06,
          10.05,
          0.82,
          3.89,
          1.73,
          83.1,
          1.7,
          61.71,
          46.64,
          65.65,
          10.75,
          39.05,
          1.67,
          31.6,
          67.52,
          28.58,
          61.53,
          29.82,
          47.59,
          18.85,
          2.52,
          39.5,
          11.27,
          15.47,
          68.14,
          32.63,
          106.45,
          68.97,
          29.41,
          3.06,
          10.26,
          8.85,
          3.16,
          64.81,
          45.79,
          81.96,
          1.55,
          3.73,
          18.16,
          4.95,
          3.34,
          13.71,
          36.92,
          46.48,
          60.88,
          42.04,
          8.47,
          30.32,
          66.53,
          9.46,
          73.52,
          18.34,
          82.34,
          5.41,
          16.06,
          23.85,
          38.12,
          11.29,
          16.13,
          19.39,
          8.49,
          30.02,
          127.1,
          49.58,
          40.22,
          15.9,
          122.73,
          10.36,
          32.86,
          176.79,
          36.74,
          45.33,
          61.98,
          180.38,
          79.58,
          17.12,
          8.8,
          12.77,
          12.59,
          26.38,
          20.76,
          20.9,
          48.35,
          9.3,
          101.34,
          71.23,
          107.45,
          60.04,
          37.34,
          1.12,
          31.61,
          34.87,
          16.57,
          73,
          82.72,
          32.09,
          73.48,
          20.64,
          192.12,
          13.97,
          13.33,
          8.77,
          98.28,
          218.79,
          44.89,
          12.98,
          143.34,
          14.13,
          75.99,
          2.01,
          182.81,
          3.04,
          10.73,
          75.25,
          4.05,
          115.43,
          104.91,
          35.96,
          167.98,
          111.73,
          5.97,
          7.07,
          54.44,
          13.27,
          92.45,
          86.81,
          3.71,
          6.35,
          27.97,
          9.42,
          15.62,
          18.63,
          2.64,
          26.55,
          7.59,
          73.26,
          18.54,
          203.73,
          1.85,
          103.28,
          23.9,
          80.09,
          32.77,
          24.88,
          135.81,
          49.62,
          5.97,
          27.41,
          53.73,
          49.73,
          225.67,
          5.08,
          15.11,
          17.38,
          64.88,
          0.81,
          215.56,
          173.75,
          55.3,
          25.09,
          46.9,
          60.34,
          208.53,
          45.38,
          38.86,
          78.22,
          5.24,
          6.61,
          13.14,
          36.77,
          29.24,
          13.29,
          31.79,
          8.42,
          14.9,
          34.26,
          1.55,
          37.49,
          46.44,
          0.68,
          0.4,
          4.58,
          14.81,
          11.08,
          5.07,
          6.3,
          1.68,
          7.82,
          34.52,
          16.67,
          17.39,
          60.67,
          44.26,
          33.28,
          30.49,
          128.66,
          67.45,
          42.87,
          28.28,
          121.9,
          8.44,
          82.57,
          44.28,
          33.42,
          0.86,
          80.19,
          42.96,
          52.41,
          55.85,
          32.58,
          184.6,
          11.39,
          53.21,
          129.89,
          3.04,
          96.15,
          122.71,
          2.19,
          43.63,
          2.28,
          179.55,
          23.6,
          2.25,
          26.41,
          38.39,
          2.69,
          44.26,
          37.65,
          21.24,
          112.34,
          146.93,
          46.45,
          110.66,
          22.26,
          38.57,
          5.37,
          15.7,
          33.8,
          59.24,
          26.73,
          13.12,
          13.7,
          178.86,
          61.3,
          55.86,
          6.16,
          16.04,
          22.29,
          24.76,
          14.36,
          6.04,
          18.87,
          4.95,
          7.56,
          10.01,
          128.41,
          19.56,
          50.07,
          42.45,
          54.24,
          19.51,
          37.08,
          9.26,
          22.48,
          8.07,
          174.62,
          67.05,
          3.8,
          19.61,
          8.85,
          51.1,
          17.04,
          2.91,
          83.3,
          33.1,
          28.37,
          21.5,
          157.07,
          4.48,
          178.35,
          102.35,
          13.87,
          12.92,
          18.03,
          9.71,
          1.14,
          12.55,
          5.09,
          25.77,
          40.85,
          3.45,
          8.7,
          40.94,
          95.93,
          17.29,
          15.35,
          51.27,
          40.01,
          40.42,
          59,
          5.82,
          6.42,
          3.67,
          6.41,
          17.51,
          42.73,
          38.87,
          60.12,
          2.82,
          9.25,
          16.5,
          46.16,
          24.91,
          43.64,
          38.38,
          93.5,
          30.99,
          17.87,
          3.65,
          3.72,
          9.29,
          8.22,
          43.17,
          19.88,
          7.27,
          27.92,
          20.3,
          57.25,
          31.94,
          19.77,
          18.87,
          18.04,
          26.52,
          49.18,
          23.5,
          78.57,
          7.74,
          219.93,
          34.04,
          1.51,
          4.33,
          19.43,
          158.63,
          41.77,
          175.53,
          124.4,
          43.18,
          64.75,
          59.14,
          39.05,
          85.15,
          21.46,
          29.88,
          112.82,
          6.46,
          17.6,
          26.27,
          12.17,
          6.3,
          1.46,
          7.49,
          66.77,
          106.35,
          7.98,
          92.7,
          2.15,
          7.05,
          61.6,
          30.79,
          35.48,
          37.61,
          152.14,
          11.44,
          14.17,
          1.6,
          17.45,
          27.83,
          4.02,
          11.73,
          96.62,
          23.62,
          9.65,
          33.52,
          82.07,
          0.79,
          0.75,
          58.36,
          77.23,
          10.05,
          25.15,
          39.25,
          14.99,
          54.27,
          47.08,
          28.05,
          11.69,
          42.24,
          13.22,
          31.54,
          51.15,
          27.75,
          42.66,
          1.6,
          9.67,
          44.68,
          32.44,
          14.37,
          23.52,
          23.84,
          8.49,
          28.78,
          41.96,
          6.3,
          120.72,
          49.53,
          14.64,
          17.22,
          125.59,
          1.24,
          36.82,
          27.93,
          29.44,
          28.64,
          97.27,
          116.94,
          5.86,
          101.21,
          10.99,
          13.09,
          11.85,
          14.35,
          46.53,
          223.36,
          18.76,
          7.05,
          50.05,
          3.25,
          22.09,
          20.66,
          6.53,
          13.69,
          63.81,
          25.53,
          2.88,
          9.29,
          17.79,
          2.35,
          20.76,
          18.19,
          35.4,
          190.45,
          29.21,
          25.14,
          5.66,
          14.21,
          65.89,
          8.61,
          26.56,
          17.41,
          10.31,
          95.38,
          120.86,
          37.28,
          62.51,
          22.38,
          18.81,
          58.79,
          55.06,
          91.69,
          28.07,
          121.63,
          17.31,
          10.04,
          34.03,
          38.59,
          35.99,
          22.33,
          39.65,
          46.01,
          12.57,
          203.21,
          70.92,
          1.59,
          41.88,
          11.02,
          38.21,
          87.41,
          48.13,
          69.2,
          226.73,
          156.18,
          9.72,
          4.76,
          18.62,
          43.91,
          19.81,
          37.43,
          53.88,
          47.03,
          28.46,
          14.79,
          3.78,
          60.93,
          7.69,
          26.94,
          35.72,
          7.52,
          10.92,
          6.84,
          173.67,
          11.18,
          6.76,
          20.96,
          32.42,
          20.78,
          53.25,
          10.04,
          6.73,
          34.61,
          42.71,
          4.45,
          65.95,
          53.65,
          6.96,
          104.74,
          55.23,
          96.2,
          56.25,
          9.23,
          78.36,
          39.4,
          29.7,
          27.06,
          60.83,
          19.28,
          19.14,
          46.61,
          20.46,
          11.38,
          38.36,
          206.33,
          93.55,
          49.55,
          41.7,
          38.18,
          25.14,
          51.89,
          2.94,
          37.97,
          2.62,
          29.39,
          6.88,
          3.06,
          67.15,
          0.89,
          17.65,
          14.19,
          2.82,
          77.84,
          21.87,
          67.33,
          62.94,
          115.34,
          53.02,
          4.8,
          9.09,
          128.07,
          0.87,
          4.15,
          7.31,
          11.32,
          63.22,
          55.73,
          39.31,
          51.14,
          54.02,
          150.23,
          7.12,
          24.97,
          68.39,
          43.97,
          66.43,
          119.76,
          43.04,
          67.96,
          22.18,
          38.71,
          3.39,
          49.44,
          7.8,
          156.45,
          21.05,
          29.18,
          89.8,
          81.18,
          176.75,
          72.02,
          24.82,
          193.36,
          83.45,
          137.66,
          12.43,
          37.83,
          32.72,
          145.11,
          30.03,
          11.4,
          158.6,
          94.63,
          9.46,
          15.5,
          92.07,
          175.46,
          191.97,
          38.17,
          144.41,
          57.59,
          51.59,
          184.81,
          22.76,
          54.98,
          16.13,
          107.29,
          38.13,
          29.4,
          74.3,
          82.58,
          10.8,
          51.39,
          25.93,
          103.65,
          48.53,
          62.41,
          9.76,
          65.01,
          4.38,
          91.98,
          134.8,
          67.65,
          9.24,
          22.17,
          4.44,
          29.18,
          23,
          14.37,
          24.73,
          60.81,
          20.33,
          32.17,
          22.11,
          41.27
         ],
         "x0": " ",
         "xaxis": "x",
         "y0": " ",
         "yaxis": "y"
        }
       ],
       "layout": {
        "boxmode": "group",
        "legend": {
         "tracegroupgap": 0
        },
        "margin": {
         "t": 60
        },
        "template": {
         "data": {
          "bar": [
           {
            "error_x": {
             "color": "#2a3f5f"
            },
            "error_y": {
             "color": "#2a3f5f"
            },
            "marker": {
             "line": {
              "color": "#E5ECF6",
              "width": 0.5
             },
             "pattern": {
              "fillmode": "overlay",
              "size": 10,
              "solidity": 0.2
             }
            },
            "type": "bar"
           }
          ],
          "barpolar": [
           {
            "marker": {
             "line": {
              "color": "#E5ECF6",
              "width": 0.5
             },
             "pattern": {
              "fillmode": "overlay",
              "size": 10,
              "solidity": 0.2
             }
            },
            "type": "barpolar"
           }
          ],
          "carpet": [
           {
            "aaxis": {
             "endlinecolor": "#2a3f5f",
             "gridcolor": "white",
             "linecolor": "white",
             "minorgridcolor": "white",
             "startlinecolor": "#2a3f5f"
            },
            "baxis": {
             "endlinecolor": "#2a3f5f",
             "gridcolor": "white",
             "linecolor": "white",
             "minorgridcolor": "white",
             "startlinecolor": "#2a3f5f"
            },
            "type": "carpet"
           }
          ],
          "choropleth": [
           {
            "colorbar": {
             "outlinewidth": 0,
             "ticks": ""
            },
            "type": "choropleth"
           }
          ],
          "contour": [
           {
            "colorbar": {
             "outlinewidth": 0,
             "ticks": ""
            },
            "colorscale": [
             [
              0,
              "#0d0887"
             ],
             [
              0.1111111111111111,
              "#46039f"
             ],
             [
              0.2222222222222222,
              "#7201a8"
             ],
             [
              0.3333333333333333,
              "#9c179e"
             ],
             [
              0.4444444444444444,
              "#bd3786"
             ],
             [
              0.5555555555555556,
              "#d8576b"
             ],
             [
              0.6666666666666666,
              "#ed7953"
             ],
             [
              0.7777777777777778,
              "#fb9f3a"
             ],
             [
              0.8888888888888888,
              "#fdca26"
             ],
             [
              1,
              "#f0f921"
             ]
            ],
            "type": "contour"
           }
          ],
          "contourcarpet": [
           {
            "colorbar": {
             "outlinewidth": 0,
             "ticks": ""
            },
            "type": "contourcarpet"
           }
          ],
          "heatmap": [
           {
            "colorbar": {
             "outlinewidth": 0,
             "ticks": ""
            },
            "colorscale": [
             [
              0,
              "#0d0887"
             ],
             [
              0.1111111111111111,
              "#46039f"
             ],
             [
              0.2222222222222222,
              "#7201a8"
             ],
             [
              0.3333333333333333,
              "#9c179e"
             ],
             [
              0.4444444444444444,
              "#bd3786"
             ],
             [
              0.5555555555555556,
              "#d8576b"
             ],
             [
              0.6666666666666666,
              "#ed7953"
             ],
             [
              0.7777777777777778,
              "#fb9f3a"
             ],
             [
              0.8888888888888888,
              "#fdca26"
             ],
             [
              1,
              "#f0f921"
             ]
            ],
            "type": "heatmap"
           }
          ],
          "heatmapgl": [
           {
            "colorbar": {
             "outlinewidth": 0,
             "ticks": ""
            },
            "colorscale": [
             [
              0,
              "#0d0887"
             ],
             [
              0.1111111111111111,
              "#46039f"
             ],
             [
              0.2222222222222222,
              "#7201a8"
             ],
             [
              0.3333333333333333,
              "#9c179e"
             ],
             [
              0.4444444444444444,
              "#bd3786"
             ],
             [
              0.5555555555555556,
              "#d8576b"
             ],
             [
              0.6666666666666666,
              "#ed7953"
             ],
             [
              0.7777777777777778,
              "#fb9f3a"
             ],
             [
              0.8888888888888888,
              "#fdca26"
             ],
             [
              1,
              "#f0f921"
             ]
            ],
            "type": "heatmapgl"
           }
          ],
          "histogram": [
           {
            "marker": {
             "pattern": {
              "fillmode": "overlay",
              "size": 10,
              "solidity": 0.2
             }
            },
            "type": "histogram"
           }
          ],
          "histogram2d": [
           {
            "colorbar": {
             "outlinewidth": 0,
             "ticks": ""
            },
            "colorscale": [
             [
              0,
              "#0d0887"
             ],
             [
              0.1111111111111111,
              "#46039f"
             ],
             [
              0.2222222222222222,
              "#7201a8"
             ],
             [
              0.3333333333333333,
              "#9c179e"
             ],
             [
              0.4444444444444444,
              "#bd3786"
             ],
             [
              0.5555555555555556,
              "#d8576b"
             ],
             [
              0.6666666666666666,
              "#ed7953"
             ],
             [
              0.7777777777777778,
              "#fb9f3a"
             ],
             [
              0.8888888888888888,
              "#fdca26"
             ],
             [
              1,
              "#f0f921"
             ]
            ],
            "type": "histogram2d"
           }
          ],
          "histogram2dcontour": [
           {
            "colorbar": {
             "outlinewidth": 0,
             "ticks": ""
            },
            "colorscale": [
             [
              0,
              "#0d0887"
             ],
             [
              0.1111111111111111,
              "#46039f"
             ],
             [
              0.2222222222222222,
              "#7201a8"
             ],
             [
              0.3333333333333333,
              "#9c179e"
             ],
             [
              0.4444444444444444,
              "#bd3786"
             ],
             [
              0.5555555555555556,
              "#d8576b"
             ],
             [
              0.6666666666666666,
              "#ed7953"
             ],
             [
              0.7777777777777778,
              "#fb9f3a"
             ],
             [
              0.8888888888888888,
              "#fdca26"
             ],
             [
              1,
              "#f0f921"
             ]
            ],
            "type": "histogram2dcontour"
           }
          ],
          "mesh3d": [
           {
            "colorbar": {
             "outlinewidth": 0,
             "ticks": ""
            },
            "type": "mesh3d"
           }
          ],
          "parcoords": [
           {
            "line": {
             "colorbar": {
              "outlinewidth": 0,
              "ticks": ""
             }
            },
            "type": "parcoords"
           }
          ],
          "pie": [
           {
            "automargin": true,
            "type": "pie"
           }
          ],
          "scatter": [
           {
            "fillpattern": {
             "fillmode": "overlay",
             "size": 10,
             "solidity": 0.2
            },
            "type": "scatter"
           }
          ],
          "scatter3d": [
           {
            "line": {
             "colorbar": {
              "outlinewidth": 0,
              "ticks": ""
             }
            },
            "marker": {
             "colorbar": {
              "outlinewidth": 0,
              "ticks": ""
             }
            },
            "type": "scatter3d"
           }
          ],
          "scattercarpet": [
           {
            "marker": {
             "colorbar": {
              "outlinewidth": 0,
              "ticks": ""
             }
            },
            "type": "scattercarpet"
           }
          ],
          "scattergeo": [
           {
            "marker": {
             "colorbar": {
              "outlinewidth": 0,
              "ticks": ""
             }
            },
            "type": "scattergeo"
           }
          ],
          "scattergl": [
           {
            "marker": {
             "colorbar": {
              "outlinewidth": 0,
              "ticks": ""
             }
            },
            "type": "scattergl"
           }
          ],
          "scattermapbox": [
           {
            "marker": {
             "colorbar": {
              "outlinewidth": 0,
              "ticks": ""
             }
            },
            "type": "scattermapbox"
           }
          ],
          "scatterpolar": [
           {
            "marker": {
             "colorbar": {
              "outlinewidth": 0,
              "ticks": ""
             }
            },
            "type": "scatterpolar"
           }
          ],
          "scatterpolargl": [
           {
            "marker": {
             "colorbar": {
              "outlinewidth": 0,
              "ticks": ""
             }
            },
            "type": "scatterpolargl"
           }
          ],
          "scatterternary": [
           {
            "marker": {
             "colorbar": {
              "outlinewidth": 0,
              "ticks": ""
             }
            },
            "type": "scatterternary"
           }
          ],
          "surface": [
           {
            "colorbar": {
             "outlinewidth": 0,
             "ticks": ""
            },
            "colorscale": [
             [
              0,
              "#0d0887"
             ],
             [
              0.1111111111111111,
              "#46039f"
             ],
             [
              0.2222222222222222,
              "#7201a8"
             ],
             [
              0.3333333333333333,
              "#9c179e"
             ],
             [
              0.4444444444444444,
              "#bd3786"
             ],
             [
              0.5555555555555556,
              "#d8576b"
             ],
             [
              0.6666666666666666,
              "#ed7953"
             ],
             [
              0.7777777777777778,
              "#fb9f3a"
             ],
             [
              0.8888888888888888,
              "#fdca26"
             ],
             [
              1,
              "#f0f921"
             ]
            ],
            "type": "surface"
           }
          ],
          "table": [
           {
            "cells": {
             "fill": {
              "color": "#EBF0F8"
             },
             "line": {
              "color": "white"
             }
            },
            "header": {
             "fill": {
              "color": "#C8D4E3"
             },
             "line": {
              "color": "white"
             }
            },
            "type": "table"
           }
          ]
         },
         "layout": {
          "annotationdefaults": {
           "arrowcolor": "#2a3f5f",
           "arrowhead": 0,
           "arrowwidth": 1
          },
          "autotypenumbers": "strict",
          "coloraxis": {
           "colorbar": {
            "outlinewidth": 0,
            "ticks": ""
           }
          },
          "colorscale": {
           "diverging": [
            [
             0,
             "#8e0152"
            ],
            [
             0.1,
             "#c51b7d"
            ],
            [
             0.2,
             "#de77ae"
            ],
            [
             0.3,
             "#f1b6da"
            ],
            [
             0.4,
             "#fde0ef"
            ],
            [
             0.5,
             "#f7f7f7"
            ],
            [
             0.6,
             "#e6f5d0"
            ],
            [
             0.7,
             "#b8e186"
            ],
            [
             0.8,
             "#7fbc41"
            ],
            [
             0.9,
             "#4d9221"
            ],
            [
             1,
             "#276419"
            ]
           ],
           "sequential": [
            [
             0,
             "#0d0887"
            ],
            [
             0.1111111111111111,
             "#46039f"
            ],
            [
             0.2222222222222222,
             "#7201a8"
            ],
            [
             0.3333333333333333,
             "#9c179e"
            ],
            [
             0.4444444444444444,
             "#bd3786"
            ],
            [
             0.5555555555555556,
             "#d8576b"
            ],
            [
             0.6666666666666666,
             "#ed7953"
            ],
            [
             0.7777777777777778,
             "#fb9f3a"
            ],
            [
             0.8888888888888888,
             "#fdca26"
            ],
            [
             1,
             "#f0f921"
            ]
           ],
           "sequentialminus": [
            [
             0,
             "#0d0887"
            ],
            [
             0.1111111111111111,
             "#46039f"
            ],
            [
             0.2222222222222222,
             "#7201a8"
            ],
            [
             0.3333333333333333,
             "#9c179e"
            ],
            [
             0.4444444444444444,
             "#bd3786"
            ],
            [
             0.5555555555555556,
             "#d8576b"
            ],
            [
             0.6666666666666666,
             "#ed7953"
            ],
            [
             0.7777777777777778,
             "#fb9f3a"
            ],
            [
             0.8888888888888888,
             "#fdca26"
            ],
            [
             1,
             "#f0f921"
            ]
           ]
          },
          "colorway": [
           "#636efa",
           "#EF553B",
           "#00cc96",
           "#ab63fa",
           "#FFA15A",
           "#19d3f3",
           "#FF6692",
           "#B6E880",
           "#FF97FF",
           "#FECB52"
          ],
          "font": {
           "color": "#2a3f5f"
          },
          "geo": {
           "bgcolor": "white",
           "lakecolor": "white",
           "landcolor": "#E5ECF6",
           "showlakes": true,
           "showland": true,
           "subunitcolor": "white"
          },
          "hoverlabel": {
           "align": "left"
          },
          "hovermode": "closest",
          "mapbox": {
           "style": "light"
          },
          "paper_bgcolor": "white",
          "plot_bgcolor": "#E5ECF6",
          "polar": {
           "angularaxis": {
            "gridcolor": "white",
            "linecolor": "white",
            "ticks": ""
           },
           "bgcolor": "#E5ECF6",
           "radialaxis": {
            "gridcolor": "white",
            "linecolor": "white",
            "ticks": ""
           }
          },
          "scene": {
           "xaxis": {
            "backgroundcolor": "#E5ECF6",
            "gridcolor": "white",
            "gridwidth": 2,
            "linecolor": "white",
            "showbackground": true,
            "ticks": "",
            "zerolinecolor": "white"
           },
           "yaxis": {
            "backgroundcolor": "#E5ECF6",
            "gridcolor": "white",
            "gridwidth": 2,
            "linecolor": "white",
            "showbackground": true,
            "ticks": "",
            "zerolinecolor": "white"
           },
           "zaxis": {
            "backgroundcolor": "#E5ECF6",
            "gridcolor": "white",
            "gridwidth": 2,
            "linecolor": "white",
            "showbackground": true,
            "ticks": "",
            "zerolinecolor": "white"
           }
          },
          "shapedefaults": {
           "line": {
            "color": "#2a3f5f"
           }
          },
          "ternary": {
           "aaxis": {
            "gridcolor": "white",
            "linecolor": "white",
            "ticks": ""
           },
           "baxis": {
            "gridcolor": "white",
            "linecolor": "white",
            "ticks": ""
           },
           "bgcolor": "#E5ECF6",
           "caxis": {
            "gridcolor": "white",
            "linecolor": "white",
            "ticks": ""
           }
          },
          "title": {
           "x": 0.05
          },
          "xaxis": {
           "automargin": true,
           "gridcolor": "white",
           "linecolor": "white",
           "ticks": "",
           "title": {
            "standoff": 15
           },
           "zerolinecolor": "white",
           "zerolinewidth": 2
          },
          "yaxis": {
           "automargin": true,
           "gridcolor": "white",
           "linecolor": "white",
           "ticks": "",
           "title": {
            "standoff": 15
           },
           "zerolinecolor": "white",
           "zerolinewidth": 2
          }
         }
        },
        "xaxis": {
         "anchor": "y",
         "domain": [
          0,
          1
         ],
         "title": {
          "text": "TotalGHGEmissions"
         }
        },
        "yaxis": {
         "anchor": "x",
         "domain": [
          0,
          1
         ]
        }
       }
      },
      "text/html": [
       "<div>                            <div id=\"bcdbd9c6-ff32-4b4d-8828-4e816877833b\" class=\"plotly-graph-div\" style=\"height:525px; width:100%;\"></div>            <script type=\"text/javascript\">                require([\"plotly\"], function(Plotly) {                    window.PLOTLYENV=window.PLOTLYENV || {};                                    if (document.getElementById(\"bcdbd9c6-ff32-4b4d-8828-4e816877833b\")) {                    Plotly.newPlot(                        \"bcdbd9c6-ff32-4b4d-8828-4e816877833b\",                        [{\"alignmentgroup\":\"True\",\"hovertemplate\":\"TotalGHGEmissions=%{x}<extra></extra>\",\"legendgroup\":\"\",\"marker\":{\"color\":\"#636efa\"},\"name\":\"\",\"notched\":false,\"offsetgroup\":\"\",\"orientation\":\"h\",\"showlegend\":false,\"x\":[9.13,157.77,215.0,3.93,31.47,130.56,83.86,45.43,66.48,33.26,35.36,134.38,146.34,87.98,39.06,6.11,191.2,78.85,44.32,127.29,89.02,142.39,176.75,74.33,204.08,61.21,100.46,104.26,49.58,66.3,83.7,51.11,69.44,35.78,59.34,48.99,225.69,3.0,175.77,208.26,28.27,96.43,27.39,16.81,92.91,72.88,49.09,84.57,149.93,57.21,101.41,26.19,31.97,89.47,119.03,6.09,24.91,78.92,116.03,48.65,70.47,156.67,36.61,18.03,74.83,20.98,44.48,13.86,117.11,5.32,5.44,35.8,42.03,38.59,33.06,93.23,29.53,74.1,163.83,22.44,45.47,121.98,110.46,10.24,226.43,237.39,158.92,17.17,32.22,8.15,25.58,33.18,2.8,42.65,76.68,10.72,3.62,46.93,6.32,204.81,32.02,74.31,38.55,90.24,42.25,46.49,44.35,22.1,57.73,33.22,34.0,58.67,91.1,23.86,107.83,22.12,65.3,107.16,20.29,39.5,64.0,39.47,8.73,25.74,19.73,134.69,19.89,26.04,13.28,31.58,65.56,132.6,74.18,15.65,16.48,41.18,7.37,138.35,67.78,180.76,98.43,47.25,100.42,49.25,42.74,33.41,67.29,17.28,40.38,94.74,21.37,23.48,30.61,0.0,60.7,55.73,5.59,70.09,8.8,47.39,97.82,69.02,119.46,157.48,7.08,95.86,75.29,19.86,155.74,48.5,178.62,34.14,168.5,86.9,47.82,260.13,109.85,150.88,27.82,54.4,20.12,41.8,13.72,9.31,51.56,30.35,73.58,89.94,111.23,46.52,152.28,60.92,13.61,1.06,131.64,89.53,158.55,195.43,29.16,24.12,4.22,4.2,110.41,20.94,27.24,54.18,7.56,109.71,13.07,134.82,16.27,13.51,31.74,30.52,11.29,24.39,17.87,101.5,36.02,43.84,86.46,3.58,77.04,2.41,2.57,21.93,22.65,37.78,9.77,9.47,169.75,7.77,63.48,207.6,29.62,9.82,42.19,25.24,24.02,43.8,15.27,6.33,18.1,154.17,29.54,9.95,6.16,24.25,13.87,8.68,28.81,33.78,66.29,12.95,126.78,10.83,86.02,30.33,72.78,36.43,4.22,13.91,47.12,63.61,28.41,47.66,46.57,101.99,18.66,32.64,33.23,34.98,64.51,8.45,38.87,6.49,32.22,23.59,6.69,37.31,5.67,4.8,4.99,118.37,89.57,27.14,202.65,23.15,26.11,33.37,49.98,0.63,19.07,130.58,185.23,89.29,43.45,35.04,188.67,13.29,210.3,34.15,1.86,134.57,43.13,13.16,33.92,147.0,12.48,5.17,19.93,19.82,13.02,19.04,63.06,10.05,0.82,3.89,1.73,83.1,1.7,61.71,46.64,65.65,10.75,39.05,1.67,31.6,67.52,28.58,61.53,29.82,47.59,18.85,2.52,39.5,11.27,15.47,68.14,32.63,106.45,68.97,29.41,3.06,10.26,8.85,3.16,64.81,45.79,81.96,1.55,3.73,18.16,4.95,3.34,13.71,36.92,46.48,60.88,42.04,8.47,30.32,66.53,9.46,73.52,18.34,82.34,5.41,16.06,23.85,38.12,11.29,16.13,19.39,8.49,30.02,127.1,49.58,40.22,15.9,122.73,10.36,32.86,176.79,36.74,45.33,61.98,180.38,79.58,17.12,8.8,12.77,12.59,26.38,20.76,20.9,48.35,9.3,101.34,71.23,107.45,60.04,37.34,1.12,31.61,34.87,16.57,73.0,82.72,32.09,73.48,20.64,192.12,13.97,13.33,8.77,98.28,218.79,44.89,12.98,143.34,14.13,75.99,2.01,182.81,3.04,10.73,75.25,4.05,115.43,104.91,35.96,167.98,111.73,5.97,7.07,54.44,13.27,92.45,86.81,3.71,6.35,27.97,9.42,15.62,18.63,2.64,26.55,7.59,73.26,18.54,203.73,1.85,103.28,23.9,80.09,32.77,24.88,135.81,49.62,5.97,27.41,53.73,49.73,225.67,5.08,15.11,17.38,64.88,0.81,215.56,173.75,55.3,25.09,46.9,60.34,208.53,45.38,38.86,78.22,5.24,6.61,13.14,36.77,29.24,13.29,31.79,8.42,14.9,34.26,1.55,37.49,46.44,0.68,0.4,4.58,14.81,11.08,5.07,6.3,1.68,7.82,34.52,16.67,17.39,60.67,44.26,33.28,30.49,128.66,67.45,42.87,28.28,121.9,8.44,82.57,44.28,33.42,0.86,80.19,42.96,52.41,55.85,32.58,184.6,11.39,53.21,129.89,3.04,96.15,122.71,2.19,43.63,2.28,179.55,23.6,2.25,26.41,38.39,2.69,44.26,37.65,21.24,112.34,146.93,46.45,110.66,22.26,38.57,5.37,15.7,33.8,59.24,26.73,13.12,13.7,178.86,61.3,55.86,6.16,16.04,22.29,24.76,14.36,6.04,18.87,4.95,7.56,10.01,128.41,19.56,50.07,42.45,54.24,19.51,37.08,9.26,22.48,8.07,174.62,67.05,3.8,19.61,8.85,51.1,17.04,2.91,83.3,33.1,28.37,21.5,157.07,4.48,178.35,102.35,13.87,12.92,18.03,9.71,1.14,12.55,5.09,25.77,40.85,3.45,8.7,40.94,95.93,17.29,15.35,51.27,40.01,40.42,59.0,5.82,6.42,3.67,6.41,17.51,42.73,38.87,60.12,2.82,9.25,16.5,46.16,24.91,43.64,38.38,93.5,30.99,17.87,3.65,3.72,9.29,8.22,43.17,19.88,7.27,27.92,20.3,57.25,31.94,19.77,18.87,18.04,26.52,49.18,23.5,78.57,7.74,219.93,34.04,1.51,4.33,19.43,158.63,41.77,175.53,124.4,43.18,64.75,59.14,39.05,85.15,21.46,29.88,112.82,6.46,17.6,26.27,12.17,6.3,1.46,7.49,66.77,106.35,7.98,92.7,2.15,7.05,61.6,30.79,35.48,37.61,152.14,11.44,14.17,1.6,17.45,27.83,4.02,11.73,96.62,23.62,9.65,33.52,82.07,0.79,0.75,58.36,77.23,10.05,25.15,39.25,14.99,54.27,47.08,28.05,11.69,42.24,13.22,31.54,51.15,27.75,42.66,1.6,9.67,44.68,32.44,14.37,23.52,23.84,8.49,28.78,41.96,6.3,120.72,49.53,14.64,17.22,125.59,1.24,36.82,27.93,29.44,28.64,97.27,116.94,5.86,101.21,10.99,13.09,11.85,14.35,46.53,223.36,18.76,7.05,50.05,3.25,22.09,20.66,6.53,13.69,63.81,25.53,2.88,9.29,17.79,2.35,20.76,18.19,35.4,190.45,29.21,25.14,5.66,14.21,65.89,8.61,26.56,17.41,10.31,95.38,120.86,37.28,62.51,22.38,18.81,58.79,55.06,91.69,28.07,121.63,17.31,10.04,34.03,38.59,35.99,22.33,39.65,46.01,12.57,203.21,70.92,1.59,41.88,11.02,38.21,87.41,48.13,69.2,226.73,156.18,9.72,4.76,18.62,43.91,19.81,37.43,53.88,47.03,28.46,14.79,3.78,60.93,7.69,26.94,35.72,7.52,10.92,6.84,173.67,11.18,6.76,20.96,32.42,20.78,53.25,10.04,6.73,34.61,42.71,4.45,65.95,53.65,6.96,104.74,55.23,96.2,56.25,9.23,78.36,39.4,29.7,27.06,60.83,19.28,19.14,46.61,20.46,11.38,38.36,206.33,93.55,49.55,41.7,38.18,25.14,51.89,2.94,37.97,2.62,29.39,6.88,3.06,67.15,0.89,17.65,14.19,2.82,77.84,21.87,67.33,62.94,115.34,53.02,4.8,9.09,128.07,0.87,4.15,7.31,11.32,63.22,55.73,39.31,51.14,54.02,150.23,7.12,24.97,68.39,43.97,66.43,119.76,43.04,67.96,22.18,38.71,3.39,49.44,7.8,156.45,21.05,29.18,89.8,81.18,176.75,72.02,24.82,193.36,83.45,137.66,12.43,37.83,32.72,145.11,30.03,11.4,158.6,94.63,9.46,15.5,92.07,175.46,191.97,38.17,144.41,57.59,51.59,184.81,22.76,54.98,16.13,107.29,38.13,29.4,74.3,82.58,10.8,51.39,25.93,103.65,48.53,62.41,9.76,65.01,4.38,91.98,134.8,67.65,9.24,22.17,4.44,29.18,23.0,14.37,24.73,60.81,20.33,32.17,22.11,41.27],\"x0\":\" \",\"xaxis\":\"x\",\"y0\":\" \",\"yaxis\":\"y\",\"type\":\"box\"}],                        {\"template\":{\"data\":{\"histogram2dcontour\":[{\"type\":\"histogram2dcontour\",\"colorbar\":{\"outlinewidth\":0,\"ticks\":\"\"},\"colorscale\":[[0.0,\"#0d0887\"],[0.1111111111111111,\"#46039f\"],[0.2222222222222222,\"#7201a8\"],[0.3333333333333333,\"#9c179e\"],[0.4444444444444444,\"#bd3786\"],[0.5555555555555556,\"#d8576b\"],[0.6666666666666666,\"#ed7953\"],[0.7777777777777778,\"#fb9f3a\"],[0.8888888888888888,\"#fdca26\"],[1.0,\"#f0f921\"]]}],\"choropleth\":[{\"type\":\"choropleth\",\"colorbar\":{\"outlinewidth\":0,\"ticks\":\"\"}}],\"histogram2d\":[{\"type\":\"histogram2d\",\"colorbar\":{\"outlinewidth\":0,\"ticks\":\"\"},\"colorscale\":[[0.0,\"#0d0887\"],[0.1111111111111111,\"#46039f\"],[0.2222222222222222,\"#7201a8\"],[0.3333333333333333,\"#9c179e\"],[0.4444444444444444,\"#bd3786\"],[0.5555555555555556,\"#d8576b\"],[0.6666666666666666,\"#ed7953\"],[0.7777777777777778,\"#fb9f3a\"],[0.8888888888888888,\"#fdca26\"],[1.0,\"#f0f921\"]]}],\"heatmap\":[{\"type\":\"heatmap\",\"colorbar\":{\"outlinewidth\":0,\"ticks\":\"\"},\"colorscale\":[[0.0,\"#0d0887\"],[0.1111111111111111,\"#46039f\"],[0.2222222222222222,\"#7201a8\"],[0.3333333333333333,\"#9c179e\"],[0.4444444444444444,\"#bd3786\"],[0.5555555555555556,\"#d8576b\"],[0.6666666666666666,\"#ed7953\"],[0.7777777777777778,\"#fb9f3a\"],[0.8888888888888888,\"#fdca26\"],[1.0,\"#f0f921\"]]}],\"heatmapgl\":[{\"type\":\"heatmapgl\",\"colorbar\":{\"outlinewidth\":0,\"ticks\":\"\"},\"colorscale\":[[0.0,\"#0d0887\"],[0.1111111111111111,\"#46039f\"],[0.2222222222222222,\"#7201a8\"],[0.3333333333333333,\"#9c179e\"],[0.4444444444444444,\"#bd3786\"],[0.5555555555555556,\"#d8576b\"],[0.6666666666666666,\"#ed7953\"],[0.7777777777777778,\"#fb9f3a\"],[0.8888888888888888,\"#fdca26\"],[1.0,\"#f0f921\"]]}],\"contourcarpet\":[{\"type\":\"contourcarpet\",\"colorbar\":{\"outlinewidth\":0,\"ticks\":\"\"}}],\"contour\":[{\"type\":\"contour\",\"colorbar\":{\"outlinewidth\":0,\"ticks\":\"\"},\"colorscale\":[[0.0,\"#0d0887\"],[0.1111111111111111,\"#46039f\"],[0.2222222222222222,\"#7201a8\"],[0.3333333333333333,\"#9c179e\"],[0.4444444444444444,\"#bd3786\"],[0.5555555555555556,\"#d8576b\"],[0.6666666666666666,\"#ed7953\"],[0.7777777777777778,\"#fb9f3a\"],[0.8888888888888888,\"#fdca26\"],[1.0,\"#f0f921\"]]}],\"surface\":[{\"type\":\"surface\",\"colorbar\":{\"outlinewidth\":0,\"ticks\":\"\"},\"colorscale\":[[0.0,\"#0d0887\"],[0.1111111111111111,\"#46039f\"],[0.2222222222222222,\"#7201a8\"],[0.3333333333333333,\"#9c179e\"],[0.4444444444444444,\"#bd3786\"],[0.5555555555555556,\"#d8576b\"],[0.6666666666666666,\"#ed7953\"],[0.7777777777777778,\"#fb9f3a\"],[0.8888888888888888,\"#fdca26\"],[1.0,\"#f0f921\"]]}],\"mesh3d\":[{\"type\":\"mesh3d\",\"colorbar\":{\"outlinewidth\":0,\"ticks\":\"\"}}],\"scatter\":[{\"fillpattern\":{\"fillmode\":\"overlay\",\"size\":10,\"solidity\":0.2},\"type\":\"scatter\"}],\"parcoords\":[{\"type\":\"parcoords\",\"line\":{\"colorbar\":{\"outlinewidth\":0,\"ticks\":\"\"}}}],\"scatterpolargl\":[{\"type\":\"scatterpolargl\",\"marker\":{\"colorbar\":{\"outlinewidth\":0,\"ticks\":\"\"}}}],\"bar\":[{\"error_x\":{\"color\":\"#2a3f5f\"},\"error_y\":{\"color\":\"#2a3f5f\"},\"marker\":{\"line\":{\"color\":\"#E5ECF6\",\"width\":0.5},\"pattern\":{\"fillmode\":\"overlay\",\"size\":10,\"solidity\":0.2}},\"type\":\"bar\"}],\"scattergeo\":[{\"type\":\"scattergeo\",\"marker\":{\"colorbar\":{\"outlinewidth\":0,\"ticks\":\"\"}}}],\"scatterpolar\":[{\"type\":\"scatterpolar\",\"marker\":{\"colorbar\":{\"outlinewidth\":0,\"ticks\":\"\"}}}],\"histogram\":[{\"marker\":{\"pattern\":{\"fillmode\":\"overlay\",\"size\":10,\"solidity\":0.2}},\"type\":\"histogram\"}],\"scattergl\":[{\"type\":\"scattergl\",\"marker\":{\"colorbar\":{\"outlinewidth\":0,\"ticks\":\"\"}}}],\"scatter3d\":[{\"type\":\"scatter3d\",\"line\":{\"colorbar\":{\"outlinewidth\":0,\"ticks\":\"\"}},\"marker\":{\"colorbar\":{\"outlinewidth\":0,\"ticks\":\"\"}}}],\"scattermapbox\":[{\"type\":\"scattermapbox\",\"marker\":{\"colorbar\":{\"outlinewidth\":0,\"ticks\":\"\"}}}],\"scatterternary\":[{\"type\":\"scatterternary\",\"marker\":{\"colorbar\":{\"outlinewidth\":0,\"ticks\":\"\"}}}],\"scattercarpet\":[{\"type\":\"scattercarpet\",\"marker\":{\"colorbar\":{\"outlinewidth\":0,\"ticks\":\"\"}}}],\"carpet\":[{\"aaxis\":{\"endlinecolor\":\"#2a3f5f\",\"gridcolor\":\"white\",\"linecolor\":\"white\",\"minorgridcolor\":\"white\",\"startlinecolor\":\"#2a3f5f\"},\"baxis\":{\"endlinecolor\":\"#2a3f5f\",\"gridcolor\":\"white\",\"linecolor\":\"white\",\"minorgridcolor\":\"white\",\"startlinecolor\":\"#2a3f5f\"},\"type\":\"carpet\"}],\"table\":[{\"cells\":{\"fill\":{\"color\":\"#EBF0F8\"},\"line\":{\"color\":\"white\"}},\"header\":{\"fill\":{\"color\":\"#C8D4E3\"},\"line\":{\"color\":\"white\"}},\"type\":\"table\"}],\"barpolar\":[{\"marker\":{\"line\":{\"color\":\"#E5ECF6\",\"width\":0.5},\"pattern\":{\"fillmode\":\"overlay\",\"size\":10,\"solidity\":0.2}},\"type\":\"barpolar\"}],\"pie\":[{\"automargin\":true,\"type\":\"pie\"}]},\"layout\":{\"autotypenumbers\":\"strict\",\"colorway\":[\"#636efa\",\"#EF553B\",\"#00cc96\",\"#ab63fa\",\"#FFA15A\",\"#19d3f3\",\"#FF6692\",\"#B6E880\",\"#FF97FF\",\"#FECB52\"],\"font\":{\"color\":\"#2a3f5f\"},\"hovermode\":\"closest\",\"hoverlabel\":{\"align\":\"left\"},\"paper_bgcolor\":\"white\",\"plot_bgcolor\":\"#E5ECF6\",\"polar\":{\"bgcolor\":\"#E5ECF6\",\"angularaxis\":{\"gridcolor\":\"white\",\"linecolor\":\"white\",\"ticks\":\"\"},\"radialaxis\":{\"gridcolor\":\"white\",\"linecolor\":\"white\",\"ticks\":\"\"}},\"ternary\":{\"bgcolor\":\"#E5ECF6\",\"aaxis\":{\"gridcolor\":\"white\",\"linecolor\":\"white\",\"ticks\":\"\"},\"baxis\":{\"gridcolor\":\"white\",\"linecolor\":\"white\",\"ticks\":\"\"},\"caxis\":{\"gridcolor\":\"white\",\"linecolor\":\"white\",\"ticks\":\"\"}},\"coloraxis\":{\"colorbar\":{\"outlinewidth\":0,\"ticks\":\"\"}},\"colorscale\":{\"sequential\":[[0.0,\"#0d0887\"],[0.1111111111111111,\"#46039f\"],[0.2222222222222222,\"#7201a8\"],[0.3333333333333333,\"#9c179e\"],[0.4444444444444444,\"#bd3786\"],[0.5555555555555556,\"#d8576b\"],[0.6666666666666666,\"#ed7953\"],[0.7777777777777778,\"#fb9f3a\"],[0.8888888888888888,\"#fdca26\"],[1.0,\"#f0f921\"]],\"sequentialminus\":[[0.0,\"#0d0887\"],[0.1111111111111111,\"#46039f\"],[0.2222222222222222,\"#7201a8\"],[0.3333333333333333,\"#9c179e\"],[0.4444444444444444,\"#bd3786\"],[0.5555555555555556,\"#d8576b\"],[0.6666666666666666,\"#ed7953\"],[0.7777777777777778,\"#fb9f3a\"],[0.8888888888888888,\"#fdca26\"],[1.0,\"#f0f921\"]],\"diverging\":[[0,\"#8e0152\"],[0.1,\"#c51b7d\"],[0.2,\"#de77ae\"],[0.3,\"#f1b6da\"],[0.4,\"#fde0ef\"],[0.5,\"#f7f7f7\"],[0.6,\"#e6f5d0\"],[0.7,\"#b8e186\"],[0.8,\"#7fbc41\"],[0.9,\"#4d9221\"],[1,\"#276419\"]]},\"xaxis\":{\"gridcolor\":\"white\",\"linecolor\":\"white\",\"ticks\":\"\",\"title\":{\"standoff\":15},\"zerolinecolor\":\"white\",\"automargin\":true,\"zerolinewidth\":2},\"yaxis\":{\"gridcolor\":\"white\",\"linecolor\":\"white\",\"ticks\":\"\",\"title\":{\"standoff\":15},\"zerolinecolor\":\"white\",\"automargin\":true,\"zerolinewidth\":2},\"scene\":{\"xaxis\":{\"backgroundcolor\":\"#E5ECF6\",\"gridcolor\":\"white\",\"linecolor\":\"white\",\"showbackground\":true,\"ticks\":\"\",\"zerolinecolor\":\"white\",\"gridwidth\":2},\"yaxis\":{\"backgroundcolor\":\"#E5ECF6\",\"gridcolor\":\"white\",\"linecolor\":\"white\",\"showbackground\":true,\"ticks\":\"\",\"zerolinecolor\":\"white\",\"gridwidth\":2},\"zaxis\":{\"backgroundcolor\":\"#E5ECF6\",\"gridcolor\":\"white\",\"linecolor\":\"white\",\"showbackground\":true,\"ticks\":\"\",\"zerolinecolor\":\"white\",\"gridwidth\":2}},\"shapedefaults\":{\"line\":{\"color\":\"#2a3f5f\"}},\"annotationdefaults\":{\"arrowcolor\":\"#2a3f5f\",\"arrowhead\":0,\"arrowwidth\":1},\"geo\":{\"bgcolor\":\"white\",\"landcolor\":\"#E5ECF6\",\"subunitcolor\":\"white\",\"showland\":true,\"showlakes\":true,\"lakecolor\":\"white\"},\"title\":{\"x\":0.05},\"mapbox\":{\"style\":\"light\"}}},\"xaxis\":{\"anchor\":\"y\",\"domain\":[0.0,1.0],\"title\":{\"text\":\"TotalGHGEmissions\"}},\"yaxis\":{\"anchor\":\"x\",\"domain\":[0.0,1.0]},\"legend\":{\"tracegroupgap\":0},\"margin\":{\"t\":60},\"boxmode\":\"group\"},                        {\"responsive\": true}                    ).then(function(){\n",
       "                            \n",
       "var gd = document.getElementById('bcdbd9c6-ff32-4b4d-8828-4e816877833b');\n",
       "var x = new MutationObserver(function (mutations, observer) {{\n",
       "        var display = window.getComputedStyle(gd).display;\n",
       "        if (!display || display === 'none') {{\n",
       "            console.log([gd, 'removed!']);\n",
       "            Plotly.purge(gd);\n",
       "            observer.disconnect();\n",
       "        }}\n",
       "}});\n",
       "\n",
       "// Listen for the removal of the full notebook cells\n",
       "var notebookContainer = gd.closest('#notebook-container');\n",
       "if (notebookContainer) {{\n",
       "    x.observe(notebookContainer, {childList: true});\n",
       "}}\n",
       "\n",
       "// Listen for the clearing of the current output cell\n",
       "var outputEl = gd.closest('.output');\n",
       "if (outputEl) {{\n",
       "    x.observe(outputEl, {childList: true});\n",
       "}}\n",
       "\n",
       "                        })                };                });            </script>        </div>"
      ]
     },
     "metadata": {},
     "output_type": "display_data"
    },
    {
     "data": {
      "application/vnd.plotly.v1+json": {
       "config": {
        "plotlyServerURL": "https://plot.ly"
       },
       "data": [
        {
         "alignmentgroup": "True",
         "bingroup": "x",
         "hovertemplate": "variable=TotalGHGEmissions<br>value=%{x}<br>count=%{y}<extra></extra>",
         "legendgroup": "TotalGHGEmissions",
         "marker": {
          "color": "#636efa",
          "pattern": {
           "shape": ""
          }
         },
         "name": "TotalGHGEmissions",
         "nbinsx": 24,
         "offsetgroup": "TotalGHGEmissions",
         "orientation": "v",
         "showlegend": true,
         "type": "histogram",
         "x": [
          9.13,
          157.77,
          215,
          3.93,
          31.47,
          130.56,
          83.86,
          45.43,
          66.48,
          33.26,
          35.36,
          134.38,
          146.34,
          87.98,
          39.06,
          6.11,
          191.2,
          78.85,
          44.32,
          127.29,
          89.02,
          142.39,
          176.75,
          74.33,
          204.08,
          61.21,
          100.46,
          104.26,
          49.58,
          66.3,
          83.7,
          51.11,
          69.44,
          35.78,
          59.34,
          48.99,
          225.69,
          3,
          175.77,
          208.26,
          28.27,
          96.43,
          27.39,
          16.81,
          92.91,
          72.88,
          49.09,
          84.57,
          149.93,
          57.21,
          101.41,
          26.19,
          31.97,
          89.47,
          119.03,
          6.09,
          24.91,
          78.92,
          116.03,
          48.65,
          70.47,
          156.67,
          36.61,
          18.03,
          74.83,
          20.98,
          44.48,
          13.86,
          117.11,
          5.32,
          5.44,
          35.8,
          42.03,
          38.59,
          33.06,
          93.23,
          29.53,
          74.1,
          163.83,
          22.44,
          45.47,
          121.98,
          110.46,
          10.24,
          226.43,
          237.39,
          158.92,
          17.17,
          32.22,
          8.15,
          25.58,
          33.18,
          2.8,
          42.65,
          76.68,
          10.72,
          3.62,
          46.93,
          6.32,
          204.81,
          32.02,
          74.31,
          38.55,
          90.24,
          42.25,
          46.49,
          44.35,
          22.1,
          57.73,
          33.22,
          34,
          58.67,
          91.1,
          23.86,
          107.83,
          22.12,
          65.3,
          107.16,
          20.29,
          39.5,
          64,
          39.47,
          8.73,
          25.74,
          19.73,
          134.69,
          19.89,
          26.04,
          13.28,
          31.58,
          65.56,
          132.6,
          74.18,
          15.65,
          16.48,
          41.18,
          7.37,
          138.35,
          67.78,
          180.76,
          98.43,
          47.25,
          100.42,
          49.25,
          42.74,
          33.41,
          67.29,
          17.28,
          40.38,
          94.74,
          21.37,
          23.48,
          30.61,
          0,
          60.7,
          55.73,
          5.59,
          70.09,
          8.8,
          47.39,
          97.82,
          69.02,
          119.46,
          157.48,
          7.08,
          95.86,
          75.29,
          19.86,
          155.74,
          48.5,
          178.62,
          34.14,
          168.5,
          86.9,
          47.82,
          260.13,
          109.85,
          150.88,
          27.82,
          54.4,
          20.12,
          41.8,
          13.72,
          9.31,
          51.56,
          30.35,
          73.58,
          89.94,
          111.23,
          46.52,
          152.28,
          60.92,
          13.61,
          1.06,
          131.64,
          89.53,
          158.55,
          195.43,
          29.16,
          24.12,
          4.22,
          4.2,
          110.41,
          20.94,
          27.24,
          54.18,
          7.56,
          109.71,
          13.07,
          134.82,
          16.27,
          13.51,
          31.74,
          30.52,
          11.29,
          24.39,
          17.87,
          101.5,
          36.02,
          43.84,
          86.46,
          3.58,
          77.04,
          2.41,
          2.57,
          21.93,
          22.65,
          37.78,
          9.77,
          9.47,
          169.75,
          7.77,
          63.48,
          207.6,
          29.62,
          9.82,
          42.19,
          25.24,
          24.02,
          43.8,
          15.27,
          6.33,
          18.1,
          154.17,
          29.54,
          9.95,
          6.16,
          24.25,
          13.87,
          8.68,
          28.81,
          33.78,
          66.29,
          12.95,
          126.78,
          10.83,
          86.02,
          30.33,
          72.78,
          36.43,
          4.22,
          13.91,
          47.12,
          63.61,
          28.41,
          47.66,
          46.57,
          101.99,
          18.66,
          32.64,
          33.23,
          34.98,
          64.51,
          8.45,
          38.87,
          6.49,
          32.22,
          23.59,
          6.69,
          37.31,
          5.67,
          4.8,
          4.99,
          118.37,
          89.57,
          27.14,
          202.65,
          23.15,
          26.11,
          33.37,
          49.98,
          0.63,
          19.07,
          130.58,
          185.23,
          89.29,
          43.45,
          35.04,
          188.67,
          13.29,
          210.3,
          34.15,
          1.86,
          134.57,
          43.13,
          13.16,
          33.92,
          147,
          12.48,
          5.17,
          19.93,
          19.82,
          13.02,
          19.04,
          63.06,
          10.05,
          0.82,
          3.89,
          1.73,
          83.1,
          1.7,
          61.71,
          46.64,
          65.65,
          10.75,
          39.05,
          1.67,
          31.6,
          67.52,
          28.58,
          61.53,
          29.82,
          47.59,
          18.85,
          2.52,
          39.5,
          11.27,
          15.47,
          68.14,
          32.63,
          106.45,
          68.97,
          29.41,
          3.06,
          10.26,
          8.85,
          3.16,
          64.81,
          45.79,
          81.96,
          1.55,
          3.73,
          18.16,
          4.95,
          3.34,
          13.71,
          36.92,
          46.48,
          60.88,
          42.04,
          8.47,
          30.32,
          66.53,
          9.46,
          73.52,
          18.34,
          82.34,
          5.41,
          16.06,
          23.85,
          38.12,
          11.29,
          16.13,
          19.39,
          8.49,
          30.02,
          127.1,
          49.58,
          40.22,
          15.9,
          122.73,
          10.36,
          32.86,
          176.79,
          36.74,
          45.33,
          61.98,
          180.38,
          79.58,
          17.12,
          8.8,
          12.77,
          12.59,
          26.38,
          20.76,
          20.9,
          48.35,
          9.3,
          101.34,
          71.23,
          107.45,
          60.04,
          37.34,
          1.12,
          31.61,
          34.87,
          16.57,
          73,
          82.72,
          32.09,
          73.48,
          20.64,
          192.12,
          13.97,
          13.33,
          8.77,
          98.28,
          218.79,
          44.89,
          12.98,
          143.34,
          14.13,
          75.99,
          2.01,
          182.81,
          3.04,
          10.73,
          75.25,
          4.05,
          115.43,
          104.91,
          35.96,
          167.98,
          111.73,
          5.97,
          7.07,
          54.44,
          13.27,
          92.45,
          86.81,
          3.71,
          6.35,
          27.97,
          9.42,
          15.62,
          18.63,
          2.64,
          26.55,
          7.59,
          73.26,
          18.54,
          203.73,
          1.85,
          103.28,
          23.9,
          80.09,
          32.77,
          24.88,
          135.81,
          49.62,
          5.97,
          27.41,
          53.73,
          49.73,
          225.67,
          5.08,
          15.11,
          17.38,
          64.88,
          0.81,
          215.56,
          173.75,
          55.3,
          25.09,
          46.9,
          60.34,
          208.53,
          45.38,
          38.86,
          78.22,
          5.24,
          6.61,
          13.14,
          36.77,
          29.24,
          13.29,
          31.79,
          8.42,
          14.9,
          34.26,
          1.55,
          37.49,
          46.44,
          0.68,
          0.4,
          4.58,
          14.81,
          11.08,
          5.07,
          6.3,
          1.68,
          7.82,
          34.52,
          16.67,
          17.39,
          60.67,
          44.26,
          33.28,
          30.49,
          128.66,
          67.45,
          42.87,
          28.28,
          121.9,
          8.44,
          82.57,
          44.28,
          33.42,
          0.86,
          80.19,
          42.96,
          52.41,
          55.85,
          32.58,
          184.6,
          11.39,
          53.21,
          129.89,
          3.04,
          96.15,
          122.71,
          2.19,
          43.63,
          2.28,
          179.55,
          23.6,
          2.25,
          26.41,
          38.39,
          2.69,
          44.26,
          37.65,
          21.24,
          112.34,
          146.93,
          46.45,
          110.66,
          22.26,
          38.57,
          5.37,
          15.7,
          33.8,
          59.24,
          26.73,
          13.12,
          13.7,
          178.86,
          61.3,
          55.86,
          6.16,
          16.04,
          22.29,
          24.76,
          14.36,
          6.04,
          18.87,
          4.95,
          7.56,
          10.01,
          128.41,
          19.56,
          50.07,
          42.45,
          54.24,
          19.51,
          37.08,
          9.26,
          22.48,
          8.07,
          174.62,
          67.05,
          3.8,
          19.61,
          8.85,
          51.1,
          17.04,
          2.91,
          83.3,
          33.1,
          28.37,
          21.5,
          157.07,
          4.48,
          178.35,
          102.35,
          13.87,
          12.92,
          18.03,
          9.71,
          1.14,
          12.55,
          5.09,
          25.77,
          40.85,
          3.45,
          8.7,
          40.94,
          95.93,
          17.29,
          15.35,
          51.27,
          40.01,
          40.42,
          59,
          5.82,
          6.42,
          3.67,
          6.41,
          17.51,
          42.73,
          38.87,
          60.12,
          2.82,
          9.25,
          16.5,
          46.16,
          24.91,
          43.64,
          38.38,
          93.5,
          30.99,
          17.87,
          3.65,
          3.72,
          9.29,
          8.22,
          43.17,
          19.88,
          7.27,
          27.92,
          20.3,
          57.25,
          31.94,
          19.77,
          18.87,
          18.04,
          26.52,
          49.18,
          23.5,
          78.57,
          7.74,
          219.93,
          34.04,
          1.51,
          4.33,
          19.43,
          158.63,
          41.77,
          175.53,
          124.4,
          43.18,
          64.75,
          59.14,
          39.05,
          85.15,
          21.46,
          29.88,
          112.82,
          6.46,
          17.6,
          26.27,
          12.17,
          6.3,
          1.46,
          7.49,
          66.77,
          106.35,
          7.98,
          92.7,
          2.15,
          7.05,
          61.6,
          30.79,
          35.48,
          37.61,
          152.14,
          11.44,
          14.17,
          1.6,
          17.45,
          27.83,
          4.02,
          11.73,
          96.62,
          23.62,
          9.65,
          33.52,
          82.07,
          0.79,
          0.75,
          58.36,
          77.23,
          10.05,
          25.15,
          39.25,
          14.99,
          54.27,
          47.08,
          28.05,
          11.69,
          42.24,
          13.22,
          31.54,
          51.15,
          27.75,
          42.66,
          1.6,
          9.67,
          44.68,
          32.44,
          14.37,
          23.52,
          23.84,
          8.49,
          28.78,
          41.96,
          6.3,
          120.72,
          49.53,
          14.64,
          17.22,
          125.59,
          1.24,
          36.82,
          27.93,
          29.44,
          28.64,
          97.27,
          116.94,
          5.86,
          101.21,
          10.99,
          13.09,
          11.85,
          14.35,
          46.53,
          223.36,
          18.76,
          7.05,
          50.05,
          3.25,
          22.09,
          20.66,
          6.53,
          13.69,
          63.81,
          25.53,
          2.88,
          9.29,
          17.79,
          2.35,
          20.76,
          18.19,
          35.4,
          190.45,
          29.21,
          25.14,
          5.66,
          14.21,
          65.89,
          8.61,
          26.56,
          17.41,
          10.31,
          95.38,
          120.86,
          37.28,
          62.51,
          22.38,
          18.81,
          58.79,
          55.06,
          91.69,
          28.07,
          121.63,
          17.31,
          10.04,
          34.03,
          38.59,
          35.99,
          22.33,
          39.65,
          46.01,
          12.57,
          203.21,
          70.92,
          1.59,
          41.88,
          11.02,
          38.21,
          87.41,
          48.13,
          69.2,
          226.73,
          156.18,
          9.72,
          4.76,
          18.62,
          43.91,
          19.81,
          37.43,
          53.88,
          47.03,
          28.46,
          14.79,
          3.78,
          60.93,
          7.69,
          26.94,
          35.72,
          7.52,
          10.92,
          6.84,
          173.67,
          11.18,
          6.76,
          20.96,
          32.42,
          20.78,
          53.25,
          10.04,
          6.73,
          34.61,
          42.71,
          4.45,
          65.95,
          53.65,
          6.96,
          104.74,
          55.23,
          96.2,
          56.25,
          9.23,
          78.36,
          39.4,
          29.7,
          27.06,
          60.83,
          19.28,
          19.14,
          46.61,
          20.46,
          11.38,
          38.36,
          206.33,
          93.55,
          49.55,
          41.7,
          38.18,
          25.14,
          51.89,
          2.94,
          37.97,
          2.62,
          29.39,
          6.88,
          3.06,
          67.15,
          0.89,
          17.65,
          14.19,
          2.82,
          77.84,
          21.87,
          67.33,
          62.94,
          115.34,
          53.02,
          4.8,
          9.09,
          128.07,
          0.87,
          4.15,
          7.31,
          11.32,
          63.22,
          55.73,
          39.31,
          51.14,
          54.02,
          150.23,
          7.12,
          24.97,
          68.39,
          43.97,
          66.43,
          119.76,
          43.04,
          67.96,
          22.18,
          38.71,
          3.39,
          49.44,
          7.8,
          156.45,
          21.05,
          29.18,
          89.8,
          81.18,
          176.75,
          72.02,
          24.82,
          193.36,
          83.45,
          137.66,
          12.43,
          37.83,
          32.72,
          145.11,
          30.03,
          11.4,
          158.6,
          94.63,
          9.46,
          15.5,
          92.07,
          175.46,
          191.97,
          38.17,
          144.41,
          57.59,
          51.59,
          184.81,
          22.76,
          54.98,
          16.13,
          107.29,
          38.13,
          29.4,
          74.3,
          82.58,
          10.8,
          51.39,
          25.93,
          103.65,
          48.53,
          62.41,
          9.76,
          65.01,
          4.38,
          91.98,
          134.8,
          67.65,
          9.24,
          22.17,
          4.44,
          29.18,
          23,
          14.37,
          24.73,
          60.81,
          20.33,
          32.17,
          22.11,
          41.27
         ],
         "xaxis": "x",
         "yaxis": "y"
        }
       ],
       "layout": {
        "barmode": "relative",
        "legend": {
         "title": {
          "text": "variable"
         },
         "tracegroupgap": 0
        },
        "margin": {
         "t": 60
        },
        "template": {
         "data": {
          "bar": [
           {
            "error_x": {
             "color": "#2a3f5f"
            },
            "error_y": {
             "color": "#2a3f5f"
            },
            "marker": {
             "line": {
              "color": "#E5ECF6",
              "width": 0.5
             },
             "pattern": {
              "fillmode": "overlay",
              "size": 10,
              "solidity": 0.2
             }
            },
            "type": "bar"
           }
          ],
          "barpolar": [
           {
            "marker": {
             "line": {
              "color": "#E5ECF6",
              "width": 0.5
             },
             "pattern": {
              "fillmode": "overlay",
              "size": 10,
              "solidity": 0.2
             }
            },
            "type": "barpolar"
           }
          ],
          "carpet": [
           {
            "aaxis": {
             "endlinecolor": "#2a3f5f",
             "gridcolor": "white",
             "linecolor": "white",
             "minorgridcolor": "white",
             "startlinecolor": "#2a3f5f"
            },
            "baxis": {
             "endlinecolor": "#2a3f5f",
             "gridcolor": "white",
             "linecolor": "white",
             "minorgridcolor": "white",
             "startlinecolor": "#2a3f5f"
            },
            "type": "carpet"
           }
          ],
          "choropleth": [
           {
            "colorbar": {
             "outlinewidth": 0,
             "ticks": ""
            },
            "type": "choropleth"
           }
          ],
          "contour": [
           {
            "colorbar": {
             "outlinewidth": 0,
             "ticks": ""
            },
            "colorscale": [
             [
              0,
              "#0d0887"
             ],
             [
              0.1111111111111111,
              "#46039f"
             ],
             [
              0.2222222222222222,
              "#7201a8"
             ],
             [
              0.3333333333333333,
              "#9c179e"
             ],
             [
              0.4444444444444444,
              "#bd3786"
             ],
             [
              0.5555555555555556,
              "#d8576b"
             ],
             [
              0.6666666666666666,
              "#ed7953"
             ],
             [
              0.7777777777777778,
              "#fb9f3a"
             ],
             [
              0.8888888888888888,
              "#fdca26"
             ],
             [
              1,
              "#f0f921"
             ]
            ],
            "type": "contour"
           }
          ],
          "contourcarpet": [
           {
            "colorbar": {
             "outlinewidth": 0,
             "ticks": ""
            },
            "type": "contourcarpet"
           }
          ],
          "heatmap": [
           {
            "colorbar": {
             "outlinewidth": 0,
             "ticks": ""
            },
            "colorscale": [
             [
              0,
              "#0d0887"
             ],
             [
              0.1111111111111111,
              "#46039f"
             ],
             [
              0.2222222222222222,
              "#7201a8"
             ],
             [
              0.3333333333333333,
              "#9c179e"
             ],
             [
              0.4444444444444444,
              "#bd3786"
             ],
             [
              0.5555555555555556,
              "#d8576b"
             ],
             [
              0.6666666666666666,
              "#ed7953"
             ],
             [
              0.7777777777777778,
              "#fb9f3a"
             ],
             [
              0.8888888888888888,
              "#fdca26"
             ],
             [
              1,
              "#f0f921"
             ]
            ],
            "type": "heatmap"
           }
          ],
          "heatmapgl": [
           {
            "colorbar": {
             "outlinewidth": 0,
             "ticks": ""
            },
            "colorscale": [
             [
              0,
              "#0d0887"
             ],
             [
              0.1111111111111111,
              "#46039f"
             ],
             [
              0.2222222222222222,
              "#7201a8"
             ],
             [
              0.3333333333333333,
              "#9c179e"
             ],
             [
              0.4444444444444444,
              "#bd3786"
             ],
             [
              0.5555555555555556,
              "#d8576b"
             ],
             [
              0.6666666666666666,
              "#ed7953"
             ],
             [
              0.7777777777777778,
              "#fb9f3a"
             ],
             [
              0.8888888888888888,
              "#fdca26"
             ],
             [
              1,
              "#f0f921"
             ]
            ],
            "type": "heatmapgl"
           }
          ],
          "histogram": [
           {
            "marker": {
             "pattern": {
              "fillmode": "overlay",
              "size": 10,
              "solidity": 0.2
             }
            },
            "type": "histogram"
           }
          ],
          "histogram2d": [
           {
            "colorbar": {
             "outlinewidth": 0,
             "ticks": ""
            },
            "colorscale": [
             [
              0,
              "#0d0887"
             ],
             [
              0.1111111111111111,
              "#46039f"
             ],
             [
              0.2222222222222222,
              "#7201a8"
             ],
             [
              0.3333333333333333,
              "#9c179e"
             ],
             [
              0.4444444444444444,
              "#bd3786"
             ],
             [
              0.5555555555555556,
              "#d8576b"
             ],
             [
              0.6666666666666666,
              "#ed7953"
             ],
             [
              0.7777777777777778,
              "#fb9f3a"
             ],
             [
              0.8888888888888888,
              "#fdca26"
             ],
             [
              1,
              "#f0f921"
             ]
            ],
            "type": "histogram2d"
           }
          ],
          "histogram2dcontour": [
           {
            "colorbar": {
             "outlinewidth": 0,
             "ticks": ""
            },
            "colorscale": [
             [
              0,
              "#0d0887"
             ],
             [
              0.1111111111111111,
              "#46039f"
             ],
             [
              0.2222222222222222,
              "#7201a8"
             ],
             [
              0.3333333333333333,
              "#9c179e"
             ],
             [
              0.4444444444444444,
              "#bd3786"
             ],
             [
              0.5555555555555556,
              "#d8576b"
             ],
             [
              0.6666666666666666,
              "#ed7953"
             ],
             [
              0.7777777777777778,
              "#fb9f3a"
             ],
             [
              0.8888888888888888,
              "#fdca26"
             ],
             [
              1,
              "#f0f921"
             ]
            ],
            "type": "histogram2dcontour"
           }
          ],
          "mesh3d": [
           {
            "colorbar": {
             "outlinewidth": 0,
             "ticks": ""
            },
            "type": "mesh3d"
           }
          ],
          "parcoords": [
           {
            "line": {
             "colorbar": {
              "outlinewidth": 0,
              "ticks": ""
             }
            },
            "type": "parcoords"
           }
          ],
          "pie": [
           {
            "automargin": true,
            "type": "pie"
           }
          ],
          "scatter": [
           {
            "fillpattern": {
             "fillmode": "overlay",
             "size": 10,
             "solidity": 0.2
            },
            "type": "scatter"
           }
          ],
          "scatter3d": [
           {
            "line": {
             "colorbar": {
              "outlinewidth": 0,
              "ticks": ""
             }
            },
            "marker": {
             "colorbar": {
              "outlinewidth": 0,
              "ticks": ""
             }
            },
            "type": "scatter3d"
           }
          ],
          "scattercarpet": [
           {
            "marker": {
             "colorbar": {
              "outlinewidth": 0,
              "ticks": ""
             }
            },
            "type": "scattercarpet"
           }
          ],
          "scattergeo": [
           {
            "marker": {
             "colorbar": {
              "outlinewidth": 0,
              "ticks": ""
             }
            },
            "type": "scattergeo"
           }
          ],
          "scattergl": [
           {
            "marker": {
             "colorbar": {
              "outlinewidth": 0,
              "ticks": ""
             }
            },
            "type": "scattergl"
           }
          ],
          "scattermapbox": [
           {
            "marker": {
             "colorbar": {
              "outlinewidth": 0,
              "ticks": ""
             }
            },
            "type": "scattermapbox"
           }
          ],
          "scatterpolar": [
           {
            "marker": {
             "colorbar": {
              "outlinewidth": 0,
              "ticks": ""
             }
            },
            "type": "scatterpolar"
           }
          ],
          "scatterpolargl": [
           {
            "marker": {
             "colorbar": {
              "outlinewidth": 0,
              "ticks": ""
             }
            },
            "type": "scatterpolargl"
           }
          ],
          "scatterternary": [
           {
            "marker": {
             "colorbar": {
              "outlinewidth": 0,
              "ticks": ""
             }
            },
            "type": "scatterternary"
           }
          ],
          "surface": [
           {
            "colorbar": {
             "outlinewidth": 0,
             "ticks": ""
            },
            "colorscale": [
             [
              0,
              "#0d0887"
             ],
             [
              0.1111111111111111,
              "#46039f"
             ],
             [
              0.2222222222222222,
              "#7201a8"
             ],
             [
              0.3333333333333333,
              "#9c179e"
             ],
             [
              0.4444444444444444,
              "#bd3786"
             ],
             [
              0.5555555555555556,
              "#d8576b"
             ],
             [
              0.6666666666666666,
              "#ed7953"
             ],
             [
              0.7777777777777778,
              "#fb9f3a"
             ],
             [
              0.8888888888888888,
              "#fdca26"
             ],
             [
              1,
              "#f0f921"
             ]
            ],
            "type": "surface"
           }
          ],
          "table": [
           {
            "cells": {
             "fill": {
              "color": "#EBF0F8"
             },
             "line": {
              "color": "white"
             }
            },
            "header": {
             "fill": {
              "color": "#C8D4E3"
             },
             "line": {
              "color": "white"
             }
            },
            "type": "table"
           }
          ]
         },
         "layout": {
          "annotationdefaults": {
           "arrowcolor": "#2a3f5f",
           "arrowhead": 0,
           "arrowwidth": 1
          },
          "autotypenumbers": "strict",
          "coloraxis": {
           "colorbar": {
            "outlinewidth": 0,
            "ticks": ""
           }
          },
          "colorscale": {
           "diverging": [
            [
             0,
             "#8e0152"
            ],
            [
             0.1,
             "#c51b7d"
            ],
            [
             0.2,
             "#de77ae"
            ],
            [
             0.3,
             "#f1b6da"
            ],
            [
             0.4,
             "#fde0ef"
            ],
            [
             0.5,
             "#f7f7f7"
            ],
            [
             0.6,
             "#e6f5d0"
            ],
            [
             0.7,
             "#b8e186"
            ],
            [
             0.8,
             "#7fbc41"
            ],
            [
             0.9,
             "#4d9221"
            ],
            [
             1,
             "#276419"
            ]
           ],
           "sequential": [
            [
             0,
             "#0d0887"
            ],
            [
             0.1111111111111111,
             "#46039f"
            ],
            [
             0.2222222222222222,
             "#7201a8"
            ],
            [
             0.3333333333333333,
             "#9c179e"
            ],
            [
             0.4444444444444444,
             "#bd3786"
            ],
            [
             0.5555555555555556,
             "#d8576b"
            ],
            [
             0.6666666666666666,
             "#ed7953"
            ],
            [
             0.7777777777777778,
             "#fb9f3a"
            ],
            [
             0.8888888888888888,
             "#fdca26"
            ],
            [
             1,
             "#f0f921"
            ]
           ],
           "sequentialminus": [
            [
             0,
             "#0d0887"
            ],
            [
             0.1111111111111111,
             "#46039f"
            ],
            [
             0.2222222222222222,
             "#7201a8"
            ],
            [
             0.3333333333333333,
             "#9c179e"
            ],
            [
             0.4444444444444444,
             "#bd3786"
            ],
            [
             0.5555555555555556,
             "#d8576b"
            ],
            [
             0.6666666666666666,
             "#ed7953"
            ],
            [
             0.7777777777777778,
             "#fb9f3a"
            ],
            [
             0.8888888888888888,
             "#fdca26"
            ],
            [
             1,
             "#f0f921"
            ]
           ]
          },
          "colorway": [
           "#636efa",
           "#EF553B",
           "#00cc96",
           "#ab63fa",
           "#FFA15A",
           "#19d3f3",
           "#FF6692",
           "#B6E880",
           "#FF97FF",
           "#FECB52"
          ],
          "font": {
           "color": "#2a3f5f"
          },
          "geo": {
           "bgcolor": "white",
           "lakecolor": "white",
           "landcolor": "#E5ECF6",
           "showlakes": true,
           "showland": true,
           "subunitcolor": "white"
          },
          "hoverlabel": {
           "align": "left"
          },
          "hovermode": "closest",
          "mapbox": {
           "style": "light"
          },
          "paper_bgcolor": "white",
          "plot_bgcolor": "#E5ECF6",
          "polar": {
           "angularaxis": {
            "gridcolor": "white",
            "linecolor": "white",
            "ticks": ""
           },
           "bgcolor": "#E5ECF6",
           "radialaxis": {
            "gridcolor": "white",
            "linecolor": "white",
            "ticks": ""
           }
          },
          "scene": {
           "xaxis": {
            "backgroundcolor": "#E5ECF6",
            "gridcolor": "white",
            "gridwidth": 2,
            "linecolor": "white",
            "showbackground": true,
            "ticks": "",
            "zerolinecolor": "white"
           },
           "yaxis": {
            "backgroundcolor": "#E5ECF6",
            "gridcolor": "white",
            "gridwidth": 2,
            "linecolor": "white",
            "showbackground": true,
            "ticks": "",
            "zerolinecolor": "white"
           },
           "zaxis": {
            "backgroundcolor": "#E5ECF6",
            "gridcolor": "white",
            "gridwidth": 2,
            "linecolor": "white",
            "showbackground": true,
            "ticks": "",
            "zerolinecolor": "white"
           }
          },
          "shapedefaults": {
           "line": {
            "color": "#2a3f5f"
           }
          },
          "ternary": {
           "aaxis": {
            "gridcolor": "white",
            "linecolor": "white",
            "ticks": ""
           },
           "baxis": {
            "gridcolor": "white",
            "linecolor": "white",
            "ticks": ""
           },
           "bgcolor": "#E5ECF6",
           "caxis": {
            "gridcolor": "white",
            "linecolor": "white",
            "ticks": ""
           }
          },
          "title": {
           "x": 0.05
          },
          "xaxis": {
           "automargin": true,
           "gridcolor": "white",
           "linecolor": "white",
           "ticks": "",
           "title": {
            "standoff": 15
           },
           "zerolinecolor": "white",
           "zerolinewidth": 2
          },
          "yaxis": {
           "automargin": true,
           "gridcolor": "white",
           "linecolor": "white",
           "ticks": "",
           "title": {
            "standoff": 15
           },
           "zerolinecolor": "white",
           "zerolinewidth": 2
          }
         }
        },
        "xaxis": {
         "anchor": "y",
         "domain": [
          0,
          1
         ],
         "title": {
          "text": "value"
         }
        },
        "yaxis": {
         "anchor": "x",
         "domain": [
          0,
          1
         ],
         "title": {
          "text": "count"
         }
        }
       }
      },
      "text/html": [
       "<div>                            <div id=\"6e5ea06e-b1ea-4f7b-8e74-4f0c6021caa0\" class=\"plotly-graph-div\" style=\"height:525px; width:100%;\"></div>            <script type=\"text/javascript\">                require([\"plotly\"], function(Plotly) {                    window.PLOTLYENV=window.PLOTLYENV || {};                                    if (document.getElementById(\"6e5ea06e-b1ea-4f7b-8e74-4f0c6021caa0\")) {                    Plotly.newPlot(                        \"6e5ea06e-b1ea-4f7b-8e74-4f0c6021caa0\",                        [{\"alignmentgroup\":\"True\",\"bingroup\":\"x\",\"hovertemplate\":\"variable=TotalGHGEmissions<br>value=%{x}<br>count=%{y}<extra></extra>\",\"legendgroup\":\"TotalGHGEmissions\",\"marker\":{\"color\":\"#636efa\",\"pattern\":{\"shape\":\"\"}},\"name\":\"TotalGHGEmissions\",\"nbinsx\":24,\"offsetgroup\":\"TotalGHGEmissions\",\"orientation\":\"v\",\"showlegend\":true,\"x\":[9.13,157.77,215.0,3.93,31.47,130.56,83.86,45.43,66.48,33.26,35.36,134.38,146.34,87.98,39.06,6.11,191.2,78.85,44.32,127.29,89.02,142.39,176.75,74.33,204.08,61.21,100.46,104.26,49.58,66.3,83.7,51.11,69.44,35.78,59.34,48.99,225.69,3.0,175.77,208.26,28.27,96.43,27.39,16.81,92.91,72.88,49.09,84.57,149.93,57.21,101.41,26.19,31.97,89.47,119.03,6.09,24.91,78.92,116.03,48.65,70.47,156.67,36.61,18.03,74.83,20.98,44.48,13.86,117.11,5.32,5.44,35.8,42.03,38.59,33.06,93.23,29.53,74.1,163.83,22.44,45.47,121.98,110.46,10.24,226.43,237.39,158.92,17.17,32.22,8.15,25.58,33.18,2.8,42.65,76.68,10.72,3.62,46.93,6.32,204.81,32.02,74.31,38.55,90.24,42.25,46.49,44.35,22.1,57.73,33.22,34.0,58.67,91.1,23.86,107.83,22.12,65.3,107.16,20.29,39.5,64.0,39.47,8.73,25.74,19.73,134.69,19.89,26.04,13.28,31.58,65.56,132.6,74.18,15.65,16.48,41.18,7.37,138.35,67.78,180.76,98.43,47.25,100.42,49.25,42.74,33.41,67.29,17.28,40.38,94.74,21.37,23.48,30.61,0.0,60.7,55.73,5.59,70.09,8.8,47.39,97.82,69.02,119.46,157.48,7.08,95.86,75.29,19.86,155.74,48.5,178.62,34.14,168.5,86.9,47.82,260.13,109.85,150.88,27.82,54.4,20.12,41.8,13.72,9.31,51.56,30.35,73.58,89.94,111.23,46.52,152.28,60.92,13.61,1.06,131.64,89.53,158.55,195.43,29.16,24.12,4.22,4.2,110.41,20.94,27.24,54.18,7.56,109.71,13.07,134.82,16.27,13.51,31.74,30.52,11.29,24.39,17.87,101.5,36.02,43.84,86.46,3.58,77.04,2.41,2.57,21.93,22.65,37.78,9.77,9.47,169.75,7.77,63.48,207.6,29.62,9.82,42.19,25.24,24.02,43.8,15.27,6.33,18.1,154.17,29.54,9.95,6.16,24.25,13.87,8.68,28.81,33.78,66.29,12.95,126.78,10.83,86.02,30.33,72.78,36.43,4.22,13.91,47.12,63.61,28.41,47.66,46.57,101.99,18.66,32.64,33.23,34.98,64.51,8.45,38.87,6.49,32.22,23.59,6.69,37.31,5.67,4.8,4.99,118.37,89.57,27.14,202.65,23.15,26.11,33.37,49.98,0.63,19.07,130.58,185.23,89.29,43.45,35.04,188.67,13.29,210.3,34.15,1.86,134.57,43.13,13.16,33.92,147.0,12.48,5.17,19.93,19.82,13.02,19.04,63.06,10.05,0.82,3.89,1.73,83.1,1.7,61.71,46.64,65.65,10.75,39.05,1.67,31.6,67.52,28.58,61.53,29.82,47.59,18.85,2.52,39.5,11.27,15.47,68.14,32.63,106.45,68.97,29.41,3.06,10.26,8.85,3.16,64.81,45.79,81.96,1.55,3.73,18.16,4.95,3.34,13.71,36.92,46.48,60.88,42.04,8.47,30.32,66.53,9.46,73.52,18.34,82.34,5.41,16.06,23.85,38.12,11.29,16.13,19.39,8.49,30.02,127.1,49.58,40.22,15.9,122.73,10.36,32.86,176.79,36.74,45.33,61.98,180.38,79.58,17.12,8.8,12.77,12.59,26.38,20.76,20.9,48.35,9.3,101.34,71.23,107.45,60.04,37.34,1.12,31.61,34.87,16.57,73.0,82.72,32.09,73.48,20.64,192.12,13.97,13.33,8.77,98.28,218.79,44.89,12.98,143.34,14.13,75.99,2.01,182.81,3.04,10.73,75.25,4.05,115.43,104.91,35.96,167.98,111.73,5.97,7.07,54.44,13.27,92.45,86.81,3.71,6.35,27.97,9.42,15.62,18.63,2.64,26.55,7.59,73.26,18.54,203.73,1.85,103.28,23.9,80.09,32.77,24.88,135.81,49.62,5.97,27.41,53.73,49.73,225.67,5.08,15.11,17.38,64.88,0.81,215.56,173.75,55.3,25.09,46.9,60.34,208.53,45.38,38.86,78.22,5.24,6.61,13.14,36.77,29.24,13.29,31.79,8.42,14.9,34.26,1.55,37.49,46.44,0.68,0.4,4.58,14.81,11.08,5.07,6.3,1.68,7.82,34.52,16.67,17.39,60.67,44.26,33.28,30.49,128.66,67.45,42.87,28.28,121.9,8.44,82.57,44.28,33.42,0.86,80.19,42.96,52.41,55.85,32.58,184.6,11.39,53.21,129.89,3.04,96.15,122.71,2.19,43.63,2.28,179.55,23.6,2.25,26.41,38.39,2.69,44.26,37.65,21.24,112.34,146.93,46.45,110.66,22.26,38.57,5.37,15.7,33.8,59.24,26.73,13.12,13.7,178.86,61.3,55.86,6.16,16.04,22.29,24.76,14.36,6.04,18.87,4.95,7.56,10.01,128.41,19.56,50.07,42.45,54.24,19.51,37.08,9.26,22.48,8.07,174.62,67.05,3.8,19.61,8.85,51.1,17.04,2.91,83.3,33.1,28.37,21.5,157.07,4.48,178.35,102.35,13.87,12.92,18.03,9.71,1.14,12.55,5.09,25.77,40.85,3.45,8.7,40.94,95.93,17.29,15.35,51.27,40.01,40.42,59.0,5.82,6.42,3.67,6.41,17.51,42.73,38.87,60.12,2.82,9.25,16.5,46.16,24.91,43.64,38.38,93.5,30.99,17.87,3.65,3.72,9.29,8.22,43.17,19.88,7.27,27.92,20.3,57.25,31.94,19.77,18.87,18.04,26.52,49.18,23.5,78.57,7.74,219.93,34.04,1.51,4.33,19.43,158.63,41.77,175.53,124.4,43.18,64.75,59.14,39.05,85.15,21.46,29.88,112.82,6.46,17.6,26.27,12.17,6.3,1.46,7.49,66.77,106.35,7.98,92.7,2.15,7.05,61.6,30.79,35.48,37.61,152.14,11.44,14.17,1.6,17.45,27.83,4.02,11.73,96.62,23.62,9.65,33.52,82.07,0.79,0.75,58.36,77.23,10.05,25.15,39.25,14.99,54.27,47.08,28.05,11.69,42.24,13.22,31.54,51.15,27.75,42.66,1.6,9.67,44.68,32.44,14.37,23.52,23.84,8.49,28.78,41.96,6.3,120.72,49.53,14.64,17.22,125.59,1.24,36.82,27.93,29.44,28.64,97.27,116.94,5.86,101.21,10.99,13.09,11.85,14.35,46.53,223.36,18.76,7.05,50.05,3.25,22.09,20.66,6.53,13.69,63.81,25.53,2.88,9.29,17.79,2.35,20.76,18.19,35.4,190.45,29.21,25.14,5.66,14.21,65.89,8.61,26.56,17.41,10.31,95.38,120.86,37.28,62.51,22.38,18.81,58.79,55.06,91.69,28.07,121.63,17.31,10.04,34.03,38.59,35.99,22.33,39.65,46.01,12.57,203.21,70.92,1.59,41.88,11.02,38.21,87.41,48.13,69.2,226.73,156.18,9.72,4.76,18.62,43.91,19.81,37.43,53.88,47.03,28.46,14.79,3.78,60.93,7.69,26.94,35.72,7.52,10.92,6.84,173.67,11.18,6.76,20.96,32.42,20.78,53.25,10.04,6.73,34.61,42.71,4.45,65.95,53.65,6.96,104.74,55.23,96.2,56.25,9.23,78.36,39.4,29.7,27.06,60.83,19.28,19.14,46.61,20.46,11.38,38.36,206.33,93.55,49.55,41.7,38.18,25.14,51.89,2.94,37.97,2.62,29.39,6.88,3.06,67.15,0.89,17.65,14.19,2.82,77.84,21.87,67.33,62.94,115.34,53.02,4.8,9.09,128.07,0.87,4.15,7.31,11.32,63.22,55.73,39.31,51.14,54.02,150.23,7.12,24.97,68.39,43.97,66.43,119.76,43.04,67.96,22.18,38.71,3.39,49.44,7.8,156.45,21.05,29.18,89.8,81.18,176.75,72.02,24.82,193.36,83.45,137.66,12.43,37.83,32.72,145.11,30.03,11.4,158.6,94.63,9.46,15.5,92.07,175.46,191.97,38.17,144.41,57.59,51.59,184.81,22.76,54.98,16.13,107.29,38.13,29.4,74.3,82.58,10.8,51.39,25.93,103.65,48.53,62.41,9.76,65.01,4.38,91.98,134.8,67.65,9.24,22.17,4.44,29.18,23.0,14.37,24.73,60.81,20.33,32.17,22.11,41.27],\"xaxis\":\"x\",\"yaxis\":\"y\",\"type\":\"histogram\"}],                        {\"template\":{\"data\":{\"histogram2dcontour\":[{\"type\":\"histogram2dcontour\",\"colorbar\":{\"outlinewidth\":0,\"ticks\":\"\"},\"colorscale\":[[0.0,\"#0d0887\"],[0.1111111111111111,\"#46039f\"],[0.2222222222222222,\"#7201a8\"],[0.3333333333333333,\"#9c179e\"],[0.4444444444444444,\"#bd3786\"],[0.5555555555555556,\"#d8576b\"],[0.6666666666666666,\"#ed7953\"],[0.7777777777777778,\"#fb9f3a\"],[0.8888888888888888,\"#fdca26\"],[1.0,\"#f0f921\"]]}],\"choropleth\":[{\"type\":\"choropleth\",\"colorbar\":{\"outlinewidth\":0,\"ticks\":\"\"}}],\"histogram2d\":[{\"type\":\"histogram2d\",\"colorbar\":{\"outlinewidth\":0,\"ticks\":\"\"},\"colorscale\":[[0.0,\"#0d0887\"],[0.1111111111111111,\"#46039f\"],[0.2222222222222222,\"#7201a8\"],[0.3333333333333333,\"#9c179e\"],[0.4444444444444444,\"#bd3786\"],[0.5555555555555556,\"#d8576b\"],[0.6666666666666666,\"#ed7953\"],[0.7777777777777778,\"#fb9f3a\"],[0.8888888888888888,\"#fdca26\"],[1.0,\"#f0f921\"]]}],\"heatmap\":[{\"type\":\"heatmap\",\"colorbar\":{\"outlinewidth\":0,\"ticks\":\"\"},\"colorscale\":[[0.0,\"#0d0887\"],[0.1111111111111111,\"#46039f\"],[0.2222222222222222,\"#7201a8\"],[0.3333333333333333,\"#9c179e\"],[0.4444444444444444,\"#bd3786\"],[0.5555555555555556,\"#d8576b\"],[0.6666666666666666,\"#ed7953\"],[0.7777777777777778,\"#fb9f3a\"],[0.8888888888888888,\"#fdca26\"],[1.0,\"#f0f921\"]]}],\"heatmapgl\":[{\"type\":\"heatmapgl\",\"colorbar\":{\"outlinewidth\":0,\"ticks\":\"\"},\"colorscale\":[[0.0,\"#0d0887\"],[0.1111111111111111,\"#46039f\"],[0.2222222222222222,\"#7201a8\"],[0.3333333333333333,\"#9c179e\"],[0.4444444444444444,\"#bd3786\"],[0.5555555555555556,\"#d8576b\"],[0.6666666666666666,\"#ed7953\"],[0.7777777777777778,\"#fb9f3a\"],[0.8888888888888888,\"#fdca26\"],[1.0,\"#f0f921\"]]}],\"contourcarpet\":[{\"type\":\"contourcarpet\",\"colorbar\":{\"outlinewidth\":0,\"ticks\":\"\"}}],\"contour\":[{\"type\":\"contour\",\"colorbar\":{\"outlinewidth\":0,\"ticks\":\"\"},\"colorscale\":[[0.0,\"#0d0887\"],[0.1111111111111111,\"#46039f\"],[0.2222222222222222,\"#7201a8\"],[0.3333333333333333,\"#9c179e\"],[0.4444444444444444,\"#bd3786\"],[0.5555555555555556,\"#d8576b\"],[0.6666666666666666,\"#ed7953\"],[0.7777777777777778,\"#fb9f3a\"],[0.8888888888888888,\"#fdca26\"],[1.0,\"#f0f921\"]]}],\"surface\":[{\"type\":\"surface\",\"colorbar\":{\"outlinewidth\":0,\"ticks\":\"\"},\"colorscale\":[[0.0,\"#0d0887\"],[0.1111111111111111,\"#46039f\"],[0.2222222222222222,\"#7201a8\"],[0.3333333333333333,\"#9c179e\"],[0.4444444444444444,\"#bd3786\"],[0.5555555555555556,\"#d8576b\"],[0.6666666666666666,\"#ed7953\"],[0.7777777777777778,\"#fb9f3a\"],[0.8888888888888888,\"#fdca26\"],[1.0,\"#f0f921\"]]}],\"mesh3d\":[{\"type\":\"mesh3d\",\"colorbar\":{\"outlinewidth\":0,\"ticks\":\"\"}}],\"scatter\":[{\"fillpattern\":{\"fillmode\":\"overlay\",\"size\":10,\"solidity\":0.2},\"type\":\"scatter\"}],\"parcoords\":[{\"type\":\"parcoords\",\"line\":{\"colorbar\":{\"outlinewidth\":0,\"ticks\":\"\"}}}],\"scatterpolargl\":[{\"type\":\"scatterpolargl\",\"marker\":{\"colorbar\":{\"outlinewidth\":0,\"ticks\":\"\"}}}],\"bar\":[{\"error_x\":{\"color\":\"#2a3f5f\"},\"error_y\":{\"color\":\"#2a3f5f\"},\"marker\":{\"line\":{\"color\":\"#E5ECF6\",\"width\":0.5},\"pattern\":{\"fillmode\":\"overlay\",\"size\":10,\"solidity\":0.2}},\"type\":\"bar\"}],\"scattergeo\":[{\"type\":\"scattergeo\",\"marker\":{\"colorbar\":{\"outlinewidth\":0,\"ticks\":\"\"}}}],\"scatterpolar\":[{\"type\":\"scatterpolar\",\"marker\":{\"colorbar\":{\"outlinewidth\":0,\"ticks\":\"\"}}}],\"histogram\":[{\"marker\":{\"pattern\":{\"fillmode\":\"overlay\",\"size\":10,\"solidity\":0.2}},\"type\":\"histogram\"}],\"scattergl\":[{\"type\":\"scattergl\",\"marker\":{\"colorbar\":{\"outlinewidth\":0,\"ticks\":\"\"}}}],\"scatter3d\":[{\"type\":\"scatter3d\",\"line\":{\"colorbar\":{\"outlinewidth\":0,\"ticks\":\"\"}},\"marker\":{\"colorbar\":{\"outlinewidth\":0,\"ticks\":\"\"}}}],\"scattermapbox\":[{\"type\":\"scattermapbox\",\"marker\":{\"colorbar\":{\"outlinewidth\":0,\"ticks\":\"\"}}}],\"scatterternary\":[{\"type\":\"scatterternary\",\"marker\":{\"colorbar\":{\"outlinewidth\":0,\"ticks\":\"\"}}}],\"scattercarpet\":[{\"type\":\"scattercarpet\",\"marker\":{\"colorbar\":{\"outlinewidth\":0,\"ticks\":\"\"}}}],\"carpet\":[{\"aaxis\":{\"endlinecolor\":\"#2a3f5f\",\"gridcolor\":\"white\",\"linecolor\":\"white\",\"minorgridcolor\":\"white\",\"startlinecolor\":\"#2a3f5f\"},\"baxis\":{\"endlinecolor\":\"#2a3f5f\",\"gridcolor\":\"white\",\"linecolor\":\"white\",\"minorgridcolor\":\"white\",\"startlinecolor\":\"#2a3f5f\"},\"type\":\"carpet\"}],\"table\":[{\"cells\":{\"fill\":{\"color\":\"#EBF0F8\"},\"line\":{\"color\":\"white\"}},\"header\":{\"fill\":{\"color\":\"#C8D4E3\"},\"line\":{\"color\":\"white\"}},\"type\":\"table\"}],\"barpolar\":[{\"marker\":{\"line\":{\"color\":\"#E5ECF6\",\"width\":0.5},\"pattern\":{\"fillmode\":\"overlay\",\"size\":10,\"solidity\":0.2}},\"type\":\"barpolar\"}],\"pie\":[{\"automargin\":true,\"type\":\"pie\"}]},\"layout\":{\"autotypenumbers\":\"strict\",\"colorway\":[\"#636efa\",\"#EF553B\",\"#00cc96\",\"#ab63fa\",\"#FFA15A\",\"#19d3f3\",\"#FF6692\",\"#B6E880\",\"#FF97FF\",\"#FECB52\"],\"font\":{\"color\":\"#2a3f5f\"},\"hovermode\":\"closest\",\"hoverlabel\":{\"align\":\"left\"},\"paper_bgcolor\":\"white\",\"plot_bgcolor\":\"#E5ECF6\",\"polar\":{\"bgcolor\":\"#E5ECF6\",\"angularaxis\":{\"gridcolor\":\"white\",\"linecolor\":\"white\",\"ticks\":\"\"},\"radialaxis\":{\"gridcolor\":\"white\",\"linecolor\":\"white\",\"ticks\":\"\"}},\"ternary\":{\"bgcolor\":\"#E5ECF6\",\"aaxis\":{\"gridcolor\":\"white\",\"linecolor\":\"white\",\"ticks\":\"\"},\"baxis\":{\"gridcolor\":\"white\",\"linecolor\":\"white\",\"ticks\":\"\"},\"caxis\":{\"gridcolor\":\"white\",\"linecolor\":\"white\",\"ticks\":\"\"}},\"coloraxis\":{\"colorbar\":{\"outlinewidth\":0,\"ticks\":\"\"}},\"colorscale\":{\"sequential\":[[0.0,\"#0d0887\"],[0.1111111111111111,\"#46039f\"],[0.2222222222222222,\"#7201a8\"],[0.3333333333333333,\"#9c179e\"],[0.4444444444444444,\"#bd3786\"],[0.5555555555555556,\"#d8576b\"],[0.6666666666666666,\"#ed7953\"],[0.7777777777777778,\"#fb9f3a\"],[0.8888888888888888,\"#fdca26\"],[1.0,\"#f0f921\"]],\"sequentialminus\":[[0.0,\"#0d0887\"],[0.1111111111111111,\"#46039f\"],[0.2222222222222222,\"#7201a8\"],[0.3333333333333333,\"#9c179e\"],[0.4444444444444444,\"#bd3786\"],[0.5555555555555556,\"#d8576b\"],[0.6666666666666666,\"#ed7953\"],[0.7777777777777778,\"#fb9f3a\"],[0.8888888888888888,\"#fdca26\"],[1.0,\"#f0f921\"]],\"diverging\":[[0,\"#8e0152\"],[0.1,\"#c51b7d\"],[0.2,\"#de77ae\"],[0.3,\"#f1b6da\"],[0.4,\"#fde0ef\"],[0.5,\"#f7f7f7\"],[0.6,\"#e6f5d0\"],[0.7,\"#b8e186\"],[0.8,\"#7fbc41\"],[0.9,\"#4d9221\"],[1,\"#276419\"]]},\"xaxis\":{\"gridcolor\":\"white\",\"linecolor\":\"white\",\"ticks\":\"\",\"title\":{\"standoff\":15},\"zerolinecolor\":\"white\",\"automargin\":true,\"zerolinewidth\":2},\"yaxis\":{\"gridcolor\":\"white\",\"linecolor\":\"white\",\"ticks\":\"\",\"title\":{\"standoff\":15},\"zerolinecolor\":\"white\",\"automargin\":true,\"zerolinewidth\":2},\"scene\":{\"xaxis\":{\"backgroundcolor\":\"#E5ECF6\",\"gridcolor\":\"white\",\"linecolor\":\"white\",\"showbackground\":true,\"ticks\":\"\",\"zerolinecolor\":\"white\",\"gridwidth\":2},\"yaxis\":{\"backgroundcolor\":\"#E5ECF6\",\"gridcolor\":\"white\",\"linecolor\":\"white\",\"showbackground\":true,\"ticks\":\"\",\"zerolinecolor\":\"white\",\"gridwidth\":2},\"zaxis\":{\"backgroundcolor\":\"#E5ECF6\",\"gridcolor\":\"white\",\"linecolor\":\"white\",\"showbackground\":true,\"ticks\":\"\",\"zerolinecolor\":\"white\",\"gridwidth\":2}},\"shapedefaults\":{\"line\":{\"color\":\"#2a3f5f\"}},\"annotationdefaults\":{\"arrowcolor\":\"#2a3f5f\",\"arrowhead\":0,\"arrowwidth\":1},\"geo\":{\"bgcolor\":\"white\",\"landcolor\":\"#E5ECF6\",\"subunitcolor\":\"white\",\"showland\":true,\"showlakes\":true,\"lakecolor\":\"white\"},\"title\":{\"x\":0.05},\"mapbox\":{\"style\":\"light\"}}},\"xaxis\":{\"anchor\":\"y\",\"domain\":[0.0,1.0],\"title\":{\"text\":\"value\"}},\"yaxis\":{\"anchor\":\"x\",\"domain\":[0.0,1.0],\"title\":{\"text\":\"count\"}},\"legend\":{\"title\":{\"text\":\"variable\"},\"tracegroupgap\":0},\"margin\":{\"t\":60},\"barmode\":\"relative\"},                        {\"responsive\": true}                    ).then(function(){\n",
       "                            \n",
       "var gd = document.getElementById('6e5ea06e-b1ea-4f7b-8e74-4f0c6021caa0');\n",
       "var x = new MutationObserver(function (mutations, observer) {{\n",
       "        var display = window.getComputedStyle(gd).display;\n",
       "        if (!display || display === 'none') {{\n",
       "            console.log([gd, 'removed!']);\n",
       "            Plotly.purge(gd);\n",
       "            observer.disconnect();\n",
       "        }}\n",
       "}});\n",
       "\n",
       "// Listen for the removal of the full notebook cells\n",
       "var notebookContainer = gd.closest('#notebook-container');\n",
       "if (notebookContainer) {{\n",
       "    x.observe(notebookContainer, {childList: true});\n",
       "}}\n",
       "\n",
       "// Listen for the clearing of the current output cell\n",
       "var outputEl = gd.closest('.output');\n",
       "if (outputEl) {{\n",
       "    x.observe(outputEl, {childList: true});\n",
       "}}\n",
       "\n",
       "                        })                };                });            </script>        </div>"
      ]
     },
     "metadata": {},
     "output_type": "display_data"
    }
   ],
   "source": [
    "boxplot_hist(df,'TotalGHGEmissions')"
   ]
  },
  {
   "cell_type": "markdown",
   "metadata": {},
   "source": [
    "# Partie 8 Transformation des variables qualitatives en numériques et normalisation"
   ]
  },
  {
   "cell_type": "code",
   "execution_count": 610,
   "metadata": {},
   "outputs": [
    {
     "data": {
      "text/plain": [
       "['BuildingType', 'PrimaryPropertyType', 'Neighborhood']"
      ]
     },
     "execution_count": 610,
     "metadata": {},
     "output_type": "execute_result"
    }
   ],
   "source": [
    "relevant_categorical_columns.remove('OSEBuildingID')\n",
    "relevant_categorical_columns.remove('PropertyName')\n",
    "relevant_categorical_columns"
   ]
  },
  {
   "cell_type": "code",
   "execution_count": 611,
   "metadata": {},
   "outputs": [],
   "source": [
    "df=df[relevant_categorical_columns+relevant_numeric_columns].reset_index()\n",
    "ohe = OneHotEncoder(sparse=False)\n",
    "\n",
    " \n",
    "data= ohe.fit_transform(df[relevant_categorical_columns])\n",
    "new_cols= ohe.get_feature_names_out().tolist()\n",
    "df_hot= pd.DataFrame(columns =new_cols,\n",
    "              data =data)\n",
    "for col in new_cols:\n",
    "    df[col]=df_hot[col]"
   ]
  },
  {
   "cell_type": "code",
   "execution_count": 612,
   "metadata": {},
   "outputs": [],
   "source": [
    "cols_to_normalize=[item for item in relevant_numeric_columns if item!='TotalGHGEmissions' and item!='SiteEnergyUse(kBtu)']\n",
    "\n",
    "values_to_normalize=df[cols_to_normalize].values\n",
    "## normalisation des données\n",
    "df[cols_to_normalize] = StandardScaler().fit_transform(values_to_normalize)\n",
    "df.drop(columns=['BuildingType', 'PrimaryPropertyType', 'Neighborhood','index'],inplace=True)\n",
    "df.to_csv('data/cleaned_and_normalized.csv',index=False)"
   ]
  },
  {
   "cell_type": "code",
   "execution_count": 613,
   "metadata": {},
   "outputs": [
    {
     "data": {
      "text/html": [
       "<div>\n",
       "<style scoped>\n",
       "    .dataframe tbody tr th:only-of-type {\n",
       "        vertical-align: middle;\n",
       "    }\n",
       "\n",
       "    .dataframe tbody tr th {\n",
       "        vertical-align: top;\n",
       "    }\n",
       "\n",
       "    .dataframe thead th {\n",
       "        text-align: right;\n",
       "    }\n",
       "</style>\n",
       "<table border=\"1\" class=\"dataframe\">\n",
       "  <thead>\n",
       "    <tr style=\"text-align: right;\">\n",
       "      <th></th>\n",
       "      <th>NumberofBuildings</th>\n",
       "      <th>NumberofFloors</th>\n",
       "      <th>PropertyGFABuilding(s)</th>\n",
       "      <th>TotalGHGEmissions</th>\n",
       "      <th>SiteEnergyUse(kBtu)</th>\n",
       "      <th>ENERGYSTARScore</th>\n",
       "      <th>age</th>\n",
       "      <th>distance_from_center_ville</th>\n",
       "      <th>natural_gas_percentage</th>\n",
       "      <th>BuildingType_Campus</th>\n",
       "      <th>BuildingType_NonResidential</th>\n",
       "      <th>BuildingType_Nonresidential COS</th>\n",
       "      <th>BuildingType_Nonresidential WA</th>\n",
       "      <th>BuildingType_SPS-District K-12</th>\n",
       "      <th>PrimaryPropertyType_Distribution Center</th>\n",
       "      <th>PrimaryPropertyType_Hospital</th>\n",
       "      <th>PrimaryPropertyType_Hotel</th>\n",
       "      <th>PrimaryPropertyType_K-12 School</th>\n",
       "      <th>PrimaryPropertyType_Large Office</th>\n",
       "      <th>PrimaryPropertyType_Medical Office</th>\n",
       "      <th>PrimaryPropertyType_Mixed Use Property</th>\n",
       "      <th>PrimaryPropertyType_Other</th>\n",
       "      <th>PrimaryPropertyType_Refrigerated Warehouse</th>\n",
       "      <th>PrimaryPropertyType_Residence Hall</th>\n",
       "      <th>PrimaryPropertyType_Restaurant</th>\n",
       "      <th>PrimaryPropertyType_Retail Store</th>\n",
       "      <th>PrimaryPropertyType_Self-Storage Facility</th>\n",
       "      <th>PrimaryPropertyType_Senior Care Community</th>\n",
       "      <th>PrimaryPropertyType_Small- and Mid-Sized Office</th>\n",
       "      <th>PrimaryPropertyType_Supermarket / Grocery Store</th>\n",
       "      <th>PrimaryPropertyType_University</th>\n",
       "      <th>PrimaryPropertyType_Warehouse</th>\n",
       "      <th>PrimaryPropertyType_Worship Facility</th>\n",
       "      <th>Neighborhood_BALLARD</th>\n",
       "      <th>Neighborhood_Ballard</th>\n",
       "      <th>Neighborhood_CENTRAL</th>\n",
       "      <th>Neighborhood_Central</th>\n",
       "      <th>Neighborhood_DELRIDGE</th>\n",
       "      <th>Neighborhood_DELRIDGE NEIGHBORHOODS</th>\n",
       "      <th>Neighborhood_DOWNTOWN</th>\n",
       "      <th>Neighborhood_Delridge</th>\n",
       "      <th>Neighborhood_EAST</th>\n",
       "      <th>Neighborhood_GREATER DUWAMISH</th>\n",
       "      <th>Neighborhood_LAKE UNION</th>\n",
       "      <th>Neighborhood_MAGNOLIA / QUEEN ANNE</th>\n",
       "      <th>Neighborhood_NORTH</th>\n",
       "      <th>Neighborhood_NORTHEAST</th>\n",
       "      <th>Neighborhood_NORTHWEST</th>\n",
       "      <th>Neighborhood_North</th>\n",
       "      <th>Neighborhood_Northwest</th>\n",
       "      <th>Neighborhood_SOUTHEAST</th>\n",
       "      <th>Neighborhood_SOUTHWEST</th>\n",
       "    </tr>\n",
       "  </thead>\n",
       "  <tbody>\n",
       "    <tr>\n",
       "      <th>count</th>\n",
       "      <td>965.0000</td>\n",
       "      <td>965.0000</td>\n",
       "      <td>965.0000</td>\n",
       "      <td>965.0000</td>\n",
       "      <td>965.0000</td>\n",
       "      <td>965.0000</td>\n",
       "      <td>965.0000</td>\n",
       "      <td>965.0000</td>\n",
       "      <td>965.0000</td>\n",
       "      <td>965.0000</td>\n",
       "      <td>965.0000</td>\n",
       "      <td>965.0000</td>\n",
       "      <td>965.0000</td>\n",
       "      <td>965.0000</td>\n",
       "      <td>965.0000</td>\n",
       "      <td>965.0000</td>\n",
       "      <td>965.0000</td>\n",
       "      <td>965.0000</td>\n",
       "      <td>965.0000</td>\n",
       "      <td>965.0000</td>\n",
       "      <td>965.0000</td>\n",
       "      <td>965.0000</td>\n",
       "      <td>965.0000</td>\n",
       "      <td>965.0000</td>\n",
       "      <td>965.0000</td>\n",
       "      <td>965.0000</td>\n",
       "      <td>965.0000</td>\n",
       "      <td>965.0000</td>\n",
       "      <td>965.0000</td>\n",
       "      <td>965.0000</td>\n",
       "      <td>965.0000</td>\n",
       "      <td>965.0000</td>\n",
       "      <td>965.0000</td>\n",
       "      <td>965.0000</td>\n",
       "      <td>965.0000</td>\n",
       "      <td>965.0000</td>\n",
       "      <td>965.0000</td>\n",
       "      <td>965.0000</td>\n",
       "      <td>965.0000</td>\n",
       "      <td>965.0000</td>\n",
       "      <td>965.0000</td>\n",
       "      <td>965.0000</td>\n",
       "      <td>965.0000</td>\n",
       "      <td>965.0000</td>\n",
       "      <td>965.0000</td>\n",
       "      <td>965.0000</td>\n",
       "      <td>965.0000</td>\n",
       "      <td>965.0000</td>\n",
       "      <td>965.0000</td>\n",
       "      <td>965.0000</td>\n",
       "      <td>965.0000</td>\n",
       "      <td>965.0000</td>\n",
       "    </tr>\n",
       "    <tr>\n",
       "      <th>mean</th>\n",
       "      <td>0.0000</td>\n",
       "      <td>0.0000</td>\n",
       "      <td>0.0000</td>\n",
       "      <td>49.9348</td>\n",
       "      <td>2,400,732.4629</td>\n",
       "      <td>-0.0000</td>\n",
       "      <td>-0.0000</td>\n",
       "      <td>-0.0000</td>\n",
       "      <td>0.0000</td>\n",
       "      <td>0.0093</td>\n",
       "      <td>0.9347</td>\n",
       "      <td>0.0497</td>\n",
       "      <td>0.0010</td>\n",
       "      <td>0.0052</td>\n",
       "      <td>0.0508</td>\n",
       "      <td>0.0010</td>\n",
       "      <td>0.0197</td>\n",
       "      <td>0.0446</td>\n",
       "      <td>0.0114</td>\n",
       "      <td>0.0135</td>\n",
       "      <td>0.0694</td>\n",
       "      <td>0.1554</td>\n",
       "      <td>0.0114</td>\n",
       "      <td>0.0155</td>\n",
       "      <td>0.0083</td>\n",
       "      <td>0.0736</td>\n",
       "      <td>0.0249</td>\n",
       "      <td>0.0083</td>\n",
       "      <td>0.2073</td>\n",
       "      <td>0.0228</td>\n",
       "      <td>0.0135</td>\n",
       "      <td>0.1813</td>\n",
       "      <td>0.0674</td>\n",
       "      <td>0.0466</td>\n",
       "      <td>0.0041</td>\n",
       "      <td>0.0363</td>\n",
       "      <td>0.0031</td>\n",
       "      <td>0.0301</td>\n",
       "      <td>0.0010</td>\n",
       "      <td>0.1482</td>\n",
       "      <td>0.0031</td>\n",
       "      <td>0.0580</td>\n",
       "      <td>0.2995</td>\n",
       "      <td>0.0518</td>\n",
       "      <td>0.0798</td>\n",
       "      <td>0.0394</td>\n",
       "      <td>0.0870</td>\n",
       "      <td>0.0549</td>\n",
       "      <td>0.0062</td>\n",
       "      <td>0.0041</td>\n",
       "      <td>0.0218</td>\n",
       "      <td>0.0249</td>\n",
       "    </tr>\n",
       "    <tr>\n",
       "      <th>std</th>\n",
       "      <td>1.0005</td>\n",
       "      <td>1.0005</td>\n",
       "      <td>1.0005</td>\n",
       "      <td>50.1051</td>\n",
       "      <td>2,160,199.5107</td>\n",
       "      <td>1.0005</td>\n",
       "      <td>1.0005</td>\n",
       "      <td>1.0005</td>\n",
       "      <td>1.0005</td>\n",
       "      <td>0.0962</td>\n",
       "      <td>0.2472</td>\n",
       "      <td>0.2175</td>\n",
       "      <td>0.0322</td>\n",
       "      <td>0.0718</td>\n",
       "      <td>0.2197</td>\n",
       "      <td>0.0322</td>\n",
       "      <td>0.1390</td>\n",
       "      <td>0.2064</td>\n",
       "      <td>0.1062</td>\n",
       "      <td>0.1153</td>\n",
       "      <td>0.2543</td>\n",
       "      <td>0.3625</td>\n",
       "      <td>0.1062</td>\n",
       "      <td>0.1238</td>\n",
       "      <td>0.0907</td>\n",
       "      <td>0.2612</td>\n",
       "      <td>0.1558</td>\n",
       "      <td>0.0907</td>\n",
       "      <td>0.4055</td>\n",
       "      <td>0.1493</td>\n",
       "      <td>0.1153</td>\n",
       "      <td>0.3855</td>\n",
       "      <td>0.2508</td>\n",
       "      <td>0.2110</td>\n",
       "      <td>0.0643</td>\n",
       "      <td>0.1871</td>\n",
       "      <td>0.0557</td>\n",
       "      <td>0.1708</td>\n",
       "      <td>0.0322</td>\n",
       "      <td>0.3555</td>\n",
       "      <td>0.0557</td>\n",
       "      <td>0.2339</td>\n",
       "      <td>0.4583</td>\n",
       "      <td>0.2218</td>\n",
       "      <td>0.2711</td>\n",
       "      <td>0.1946</td>\n",
       "      <td>0.2820</td>\n",
       "      <td>0.2279</td>\n",
       "      <td>0.0786</td>\n",
       "      <td>0.0643</td>\n",
       "      <td>0.1460</td>\n",
       "      <td>0.1558</td>\n",
       "    </tr>\n",
       "    <tr>\n",
       "      <th>min</th>\n",
       "      <td>-2.2640</td>\n",
       "      <td>-1.5754</td>\n",
       "      <td>-1.1251</td>\n",
       "      <td>0.0000</td>\n",
       "      <td>57,133.1992</td>\n",
       "      <td>-2.7165</td>\n",
       "      <td>-1.9373</td>\n",
       "      <td>-1.6054</td>\n",
       "      <td>-1.1535</td>\n",
       "      <td>0.0000</td>\n",
       "      <td>0.0000</td>\n",
       "      <td>0.0000</td>\n",
       "      <td>0.0000</td>\n",
       "      <td>0.0000</td>\n",
       "      <td>0.0000</td>\n",
       "      <td>0.0000</td>\n",
       "      <td>0.0000</td>\n",
       "      <td>0.0000</td>\n",
       "      <td>0.0000</td>\n",
       "      <td>0.0000</td>\n",
       "      <td>0.0000</td>\n",
       "      <td>0.0000</td>\n",
       "      <td>0.0000</td>\n",
       "      <td>0.0000</td>\n",
       "      <td>0.0000</td>\n",
       "      <td>0.0000</td>\n",
       "      <td>0.0000</td>\n",
       "      <td>0.0000</td>\n",
       "      <td>0.0000</td>\n",
       "      <td>0.0000</td>\n",
       "      <td>0.0000</td>\n",
       "      <td>0.0000</td>\n",
       "      <td>0.0000</td>\n",
       "      <td>0.0000</td>\n",
       "      <td>0.0000</td>\n",
       "      <td>0.0000</td>\n",
       "      <td>0.0000</td>\n",
       "      <td>0.0000</td>\n",
       "      <td>0.0000</td>\n",
       "      <td>0.0000</td>\n",
       "      <td>0.0000</td>\n",
       "      <td>0.0000</td>\n",
       "      <td>0.0000</td>\n",
       "      <td>0.0000</td>\n",
       "      <td>0.0000</td>\n",
       "      <td>0.0000</td>\n",
       "      <td>0.0000</td>\n",
       "      <td>0.0000</td>\n",
       "      <td>0.0000</td>\n",
       "      <td>0.0000</td>\n",
       "      <td>0.0000</td>\n",
       "      <td>0.0000</td>\n",
       "    </tr>\n",
       "    <tr>\n",
       "      <th>25%</th>\n",
       "      <td>-0.0482</td>\n",
       "      <td>-0.8693</td>\n",
       "      <td>-0.6621</td>\n",
       "      <td>13.8600</td>\n",
       "      <td>954,352.6875</td>\n",
       "      <td>-0.0979</td>\n",
       "      <td>-0.7476</td>\n",
       "      <td>-0.8295</td>\n",
       "      <td>-1.1535</td>\n",
       "      <td>0.0000</td>\n",
       "      <td>1.0000</td>\n",
       "      <td>0.0000</td>\n",
       "      <td>0.0000</td>\n",
       "      <td>0.0000</td>\n",
       "      <td>0.0000</td>\n",
       "      <td>0.0000</td>\n",
       "      <td>0.0000</td>\n",
       "      <td>0.0000</td>\n",
       "      <td>0.0000</td>\n",
       "      <td>0.0000</td>\n",
       "      <td>0.0000</td>\n",
       "      <td>0.0000</td>\n",
       "      <td>0.0000</td>\n",
       "      <td>0.0000</td>\n",
       "      <td>0.0000</td>\n",
       "      <td>0.0000</td>\n",
       "      <td>0.0000</td>\n",
       "      <td>0.0000</td>\n",
       "      <td>0.0000</td>\n",
       "      <td>0.0000</td>\n",
       "      <td>0.0000</td>\n",
       "      <td>0.0000</td>\n",
       "      <td>0.0000</td>\n",
       "      <td>0.0000</td>\n",
       "      <td>0.0000</td>\n",
       "      <td>0.0000</td>\n",
       "      <td>0.0000</td>\n",
       "      <td>0.0000</td>\n",
       "      <td>0.0000</td>\n",
       "      <td>0.0000</td>\n",
       "      <td>0.0000</td>\n",
       "      <td>0.0000</td>\n",
       "      <td>0.0000</td>\n",
       "      <td>0.0000</td>\n",
       "      <td>0.0000</td>\n",
       "      <td>0.0000</td>\n",
       "      <td>0.0000</td>\n",
       "      <td>0.0000</td>\n",
       "      <td>0.0000</td>\n",
       "      <td>0.0000</td>\n",
       "      <td>0.0000</td>\n",
       "      <td>0.0000</td>\n",
       "    </tr>\n",
       "    <tr>\n",
       "      <th>50%</th>\n",
       "      <td>-0.0482</td>\n",
       "      <td>-0.1632</td>\n",
       "      <td>-0.3486</td>\n",
       "      <td>33.2800</td>\n",
       "      <td>1,634,669.3750</td>\n",
       "      <td>-0.0000</td>\n",
       "      <td>-0.1367</td>\n",
       "      <td>-0.1012</td>\n",
       "      <td>-0.0137</td>\n",
       "      <td>0.0000</td>\n",
       "      <td>1.0000</td>\n",
       "      <td>0.0000</td>\n",
       "      <td>0.0000</td>\n",
       "      <td>0.0000</td>\n",
       "      <td>0.0000</td>\n",
       "      <td>0.0000</td>\n",
       "      <td>0.0000</td>\n",
       "      <td>0.0000</td>\n",
       "      <td>0.0000</td>\n",
       "      <td>0.0000</td>\n",
       "      <td>0.0000</td>\n",
       "      <td>0.0000</td>\n",
       "      <td>0.0000</td>\n",
       "      <td>0.0000</td>\n",
       "      <td>0.0000</td>\n",
       "      <td>0.0000</td>\n",
       "      <td>0.0000</td>\n",
       "      <td>0.0000</td>\n",
       "      <td>0.0000</td>\n",
       "      <td>0.0000</td>\n",
       "      <td>0.0000</td>\n",
       "      <td>0.0000</td>\n",
       "      <td>0.0000</td>\n",
       "      <td>0.0000</td>\n",
       "      <td>0.0000</td>\n",
       "      <td>0.0000</td>\n",
       "      <td>0.0000</td>\n",
       "      <td>0.0000</td>\n",
       "      <td>0.0000</td>\n",
       "      <td>0.0000</td>\n",
       "      <td>0.0000</td>\n",
       "      <td>0.0000</td>\n",
       "      <td>0.0000</td>\n",
       "      <td>0.0000</td>\n",
       "      <td>0.0000</td>\n",
       "      <td>0.0000</td>\n",
       "      <td>0.0000</td>\n",
       "      <td>0.0000</td>\n",
       "      <td>0.0000</td>\n",
       "      <td>0.0000</td>\n",
       "      <td>0.0000</td>\n",
       "      <td>0.0000</td>\n",
       "    </tr>\n",
       "    <tr>\n",
       "      <th>75%</th>\n",
       "      <td>-0.0482</td>\n",
       "      <td>0.5429</td>\n",
       "      <td>0.2661</td>\n",
       "      <td>66.4800</td>\n",
       "      <td>3,064,039.5000</td>\n",
       "      <td>0.6122</td>\n",
       "      <td>0.9243</td>\n",
       "      <td>0.6670</td>\n",
       "      <td>0.8240</td>\n",
       "      <td>0.0000</td>\n",
       "      <td>1.0000</td>\n",
       "      <td>0.0000</td>\n",
       "      <td>0.0000</td>\n",
       "      <td>0.0000</td>\n",
       "      <td>0.0000</td>\n",
       "      <td>0.0000</td>\n",
       "      <td>0.0000</td>\n",
       "      <td>0.0000</td>\n",
       "      <td>0.0000</td>\n",
       "      <td>0.0000</td>\n",
       "      <td>0.0000</td>\n",
       "      <td>0.0000</td>\n",
       "      <td>0.0000</td>\n",
       "      <td>0.0000</td>\n",
       "      <td>0.0000</td>\n",
       "      <td>0.0000</td>\n",
       "      <td>0.0000</td>\n",
       "      <td>0.0000</td>\n",
       "      <td>0.0000</td>\n",
       "      <td>0.0000</td>\n",
       "      <td>0.0000</td>\n",
       "      <td>0.0000</td>\n",
       "      <td>0.0000</td>\n",
       "      <td>0.0000</td>\n",
       "      <td>0.0000</td>\n",
       "      <td>0.0000</td>\n",
       "      <td>0.0000</td>\n",
       "      <td>0.0000</td>\n",
       "      <td>0.0000</td>\n",
       "      <td>0.0000</td>\n",
       "      <td>0.0000</td>\n",
       "      <td>0.0000</td>\n",
       "      <td>1.0000</td>\n",
       "      <td>0.0000</td>\n",
       "      <td>0.0000</td>\n",
       "      <td>0.0000</td>\n",
       "      <td>0.0000</td>\n",
       "      <td>0.0000</td>\n",
       "      <td>0.0000</td>\n",
       "      <td>0.0000</td>\n",
       "      <td>0.0000</td>\n",
       "      <td>0.0000</td>\n",
       "    </tr>\n",
       "    <tr>\n",
       "      <th>max</th>\n",
       "      <td>11.0309</td>\n",
       "      <td>4.0735</td>\n",
       "      <td>4.7456</td>\n",
       "      <td>260.1300</td>\n",
       "      <td>13,424,079.0000</td>\n",
       "      <td>1.6774</td>\n",
       "      <td>1.7603</td>\n",
       "      <td>2.4752</td>\n",
       "      <td>2.5401</td>\n",
       "      <td>1.0000</td>\n",
       "      <td>1.0000</td>\n",
       "      <td>1.0000</td>\n",
       "      <td>1.0000</td>\n",
       "      <td>1.0000</td>\n",
       "      <td>1.0000</td>\n",
       "      <td>1.0000</td>\n",
       "      <td>1.0000</td>\n",
       "      <td>1.0000</td>\n",
       "      <td>1.0000</td>\n",
       "      <td>1.0000</td>\n",
       "      <td>1.0000</td>\n",
       "      <td>1.0000</td>\n",
       "      <td>1.0000</td>\n",
       "      <td>1.0000</td>\n",
       "      <td>1.0000</td>\n",
       "      <td>1.0000</td>\n",
       "      <td>1.0000</td>\n",
       "      <td>1.0000</td>\n",
       "      <td>1.0000</td>\n",
       "      <td>1.0000</td>\n",
       "      <td>1.0000</td>\n",
       "      <td>1.0000</td>\n",
       "      <td>1.0000</td>\n",
       "      <td>1.0000</td>\n",
       "      <td>1.0000</td>\n",
       "      <td>1.0000</td>\n",
       "      <td>1.0000</td>\n",
       "      <td>1.0000</td>\n",
       "      <td>1.0000</td>\n",
       "      <td>1.0000</td>\n",
       "      <td>1.0000</td>\n",
       "      <td>1.0000</td>\n",
       "      <td>1.0000</td>\n",
       "      <td>1.0000</td>\n",
       "      <td>1.0000</td>\n",
       "      <td>1.0000</td>\n",
       "      <td>1.0000</td>\n",
       "      <td>1.0000</td>\n",
       "      <td>1.0000</td>\n",
       "      <td>1.0000</td>\n",
       "      <td>1.0000</td>\n",
       "      <td>1.0000</td>\n",
       "    </tr>\n",
       "  </tbody>\n",
       "</table>\n",
       "</div>"
      ],
      "text/plain": [
       "       NumberofBuildings  NumberofFloors  PropertyGFABuilding(s)  \\\n",
       "count           965.0000        965.0000                965.0000   \n",
       "mean              0.0000          0.0000                  0.0000   \n",
       "std               1.0005          1.0005                  1.0005   \n",
       "min              -2.2640         -1.5754                 -1.1251   \n",
       "25%              -0.0482         -0.8693                 -0.6621   \n",
       "50%              -0.0482         -0.1632                 -0.3486   \n",
       "75%              -0.0482          0.5429                  0.2661   \n",
       "max              11.0309          4.0735                  4.7456   \n",
       "\n",
       "       TotalGHGEmissions  SiteEnergyUse(kBtu)  ENERGYSTARScore      age  \\\n",
       "count           965.0000             965.0000         965.0000 965.0000   \n",
       "mean             49.9348       2,400,732.4629          -0.0000  -0.0000   \n",
       "std              50.1051       2,160,199.5107           1.0005   1.0005   \n",
       "min               0.0000          57,133.1992          -2.7165  -1.9373   \n",
       "25%              13.8600         954,352.6875          -0.0979  -0.7476   \n",
       "50%              33.2800       1,634,669.3750          -0.0000  -0.1367   \n",
       "75%              66.4800       3,064,039.5000           0.6122   0.9243   \n",
       "max             260.1300      13,424,079.0000           1.6774   1.7603   \n",
       "\n",
       "       distance_from_center_ville  natural_gas_percentage  \\\n",
       "count                    965.0000                965.0000   \n",
       "mean                      -0.0000                  0.0000   \n",
       "std                        1.0005                  1.0005   \n",
       "min                       -1.6054                 -1.1535   \n",
       "25%                       -0.8295                 -1.1535   \n",
       "50%                       -0.1012                 -0.0137   \n",
       "75%                        0.6670                  0.8240   \n",
       "max                        2.4752                  2.5401   \n",
       "\n",
       "       BuildingType_Campus  BuildingType_NonResidential  \\\n",
       "count             965.0000                     965.0000   \n",
       "mean                0.0093                       0.9347   \n",
       "std                 0.0962                       0.2472   \n",
       "min                 0.0000                       0.0000   \n",
       "25%                 0.0000                       1.0000   \n",
       "50%                 0.0000                       1.0000   \n",
       "75%                 0.0000                       1.0000   \n",
       "max                 1.0000                       1.0000   \n",
       "\n",
       "       BuildingType_Nonresidential COS  BuildingType_Nonresidential WA  \\\n",
       "count                         965.0000                        965.0000   \n",
       "mean                            0.0497                          0.0010   \n",
       "std                             0.2175                          0.0322   \n",
       "min                             0.0000                          0.0000   \n",
       "25%                             0.0000                          0.0000   \n",
       "50%                             0.0000                          0.0000   \n",
       "75%                             0.0000                          0.0000   \n",
       "max                             1.0000                          1.0000   \n",
       "\n",
       "       BuildingType_SPS-District K-12  \\\n",
       "count                        965.0000   \n",
       "mean                           0.0052   \n",
       "std                            0.0718   \n",
       "min                            0.0000   \n",
       "25%                            0.0000   \n",
       "50%                            0.0000   \n",
       "75%                            0.0000   \n",
       "max                            1.0000   \n",
       "\n",
       "       PrimaryPropertyType_Distribution Center  PrimaryPropertyType_Hospital  \\\n",
       "count                                 965.0000                      965.0000   \n",
       "mean                                    0.0508                        0.0010   \n",
       "std                                     0.2197                        0.0322   \n",
       "min                                     0.0000                        0.0000   \n",
       "25%                                     0.0000                        0.0000   \n",
       "50%                                     0.0000                        0.0000   \n",
       "75%                                     0.0000                        0.0000   \n",
       "max                                     1.0000                        1.0000   \n",
       "\n",
       "       PrimaryPropertyType_Hotel  PrimaryPropertyType_K-12 School  \\\n",
       "count                   965.0000                         965.0000   \n",
       "mean                      0.0197                           0.0446   \n",
       "std                       0.1390                           0.2064   \n",
       "min                       0.0000                           0.0000   \n",
       "25%                       0.0000                           0.0000   \n",
       "50%                       0.0000                           0.0000   \n",
       "75%                       0.0000                           0.0000   \n",
       "max                       1.0000                           1.0000   \n",
       "\n",
       "       PrimaryPropertyType_Large Office  PrimaryPropertyType_Medical Office  \\\n",
       "count                          965.0000                            965.0000   \n",
       "mean                             0.0114                              0.0135   \n",
       "std                              0.1062                              0.1153   \n",
       "min                              0.0000                              0.0000   \n",
       "25%                              0.0000                              0.0000   \n",
       "50%                              0.0000                              0.0000   \n",
       "75%                              0.0000                              0.0000   \n",
       "max                              1.0000                              1.0000   \n",
       "\n",
       "       PrimaryPropertyType_Mixed Use Property  PrimaryPropertyType_Other  \\\n",
       "count                                965.0000                   965.0000   \n",
       "mean                                   0.0694                     0.1554   \n",
       "std                                    0.2543                     0.3625   \n",
       "min                                    0.0000                     0.0000   \n",
       "25%                                    0.0000                     0.0000   \n",
       "50%                                    0.0000                     0.0000   \n",
       "75%                                    0.0000                     0.0000   \n",
       "max                                    1.0000                     1.0000   \n",
       "\n",
       "       PrimaryPropertyType_Refrigerated Warehouse  \\\n",
       "count                                    965.0000   \n",
       "mean                                       0.0114   \n",
       "std                                        0.1062   \n",
       "min                                        0.0000   \n",
       "25%                                        0.0000   \n",
       "50%                                        0.0000   \n",
       "75%                                        0.0000   \n",
       "max                                        1.0000   \n",
       "\n",
       "       PrimaryPropertyType_Residence Hall  PrimaryPropertyType_Restaurant  \\\n",
       "count                            965.0000                        965.0000   \n",
       "mean                               0.0155                          0.0083   \n",
       "std                                0.1238                          0.0907   \n",
       "min                                0.0000                          0.0000   \n",
       "25%                                0.0000                          0.0000   \n",
       "50%                                0.0000                          0.0000   \n",
       "75%                                0.0000                          0.0000   \n",
       "max                                1.0000                          1.0000   \n",
       "\n",
       "       PrimaryPropertyType_Retail Store  \\\n",
       "count                          965.0000   \n",
       "mean                             0.0736   \n",
       "std                              0.2612   \n",
       "min                              0.0000   \n",
       "25%                              0.0000   \n",
       "50%                              0.0000   \n",
       "75%                              0.0000   \n",
       "max                              1.0000   \n",
       "\n",
       "       PrimaryPropertyType_Self-Storage Facility  \\\n",
       "count                                   965.0000   \n",
       "mean                                      0.0249   \n",
       "std                                       0.1558   \n",
       "min                                       0.0000   \n",
       "25%                                       0.0000   \n",
       "50%                                       0.0000   \n",
       "75%                                       0.0000   \n",
       "max                                       1.0000   \n",
       "\n",
       "       PrimaryPropertyType_Senior Care Community  \\\n",
       "count                                   965.0000   \n",
       "mean                                      0.0083   \n",
       "std                                       0.0907   \n",
       "min                                       0.0000   \n",
       "25%                                       0.0000   \n",
       "50%                                       0.0000   \n",
       "75%                                       0.0000   \n",
       "max                                       1.0000   \n",
       "\n",
       "       PrimaryPropertyType_Small- and Mid-Sized Office  \\\n",
       "count                                         965.0000   \n",
       "mean                                            0.2073   \n",
       "std                                             0.4055   \n",
       "min                                             0.0000   \n",
       "25%                                             0.0000   \n",
       "50%                                             0.0000   \n",
       "75%                                             0.0000   \n",
       "max                                             1.0000   \n",
       "\n",
       "       PrimaryPropertyType_Supermarket / Grocery Store  \\\n",
       "count                                         965.0000   \n",
       "mean                                            0.0228   \n",
       "std                                             0.1493   \n",
       "min                                             0.0000   \n",
       "25%                                             0.0000   \n",
       "50%                                             0.0000   \n",
       "75%                                             0.0000   \n",
       "max                                             1.0000   \n",
       "\n",
       "       PrimaryPropertyType_University  PrimaryPropertyType_Warehouse  \\\n",
       "count                        965.0000                       965.0000   \n",
       "mean                           0.0135                         0.1813   \n",
       "std                            0.1153                         0.3855   \n",
       "min                            0.0000                         0.0000   \n",
       "25%                            0.0000                         0.0000   \n",
       "50%                            0.0000                         0.0000   \n",
       "75%                            0.0000                         0.0000   \n",
       "max                            1.0000                         1.0000   \n",
       "\n",
       "       PrimaryPropertyType_Worship Facility  Neighborhood_BALLARD  \\\n",
       "count                              965.0000              965.0000   \n",
       "mean                                 0.0674                0.0466   \n",
       "std                                  0.2508                0.2110   \n",
       "min                                  0.0000                0.0000   \n",
       "25%                                  0.0000                0.0000   \n",
       "50%                                  0.0000                0.0000   \n",
       "75%                                  0.0000                0.0000   \n",
       "max                                  1.0000                1.0000   \n",
       "\n",
       "       Neighborhood_Ballard  Neighborhood_CENTRAL  Neighborhood_Central  \\\n",
       "count              965.0000              965.0000              965.0000   \n",
       "mean                 0.0041                0.0363                0.0031   \n",
       "std                  0.0643                0.1871                0.0557   \n",
       "min                  0.0000                0.0000                0.0000   \n",
       "25%                  0.0000                0.0000                0.0000   \n",
       "50%                  0.0000                0.0000                0.0000   \n",
       "75%                  0.0000                0.0000                0.0000   \n",
       "max                  1.0000                1.0000                1.0000   \n",
       "\n",
       "       Neighborhood_DELRIDGE  Neighborhood_DELRIDGE NEIGHBORHOODS  \\\n",
       "count               965.0000                             965.0000   \n",
       "mean                  0.0301                               0.0010   \n",
       "std                   0.1708                               0.0322   \n",
       "min                   0.0000                               0.0000   \n",
       "25%                   0.0000                               0.0000   \n",
       "50%                   0.0000                               0.0000   \n",
       "75%                   0.0000                               0.0000   \n",
       "max                   1.0000                               1.0000   \n",
       "\n",
       "       Neighborhood_DOWNTOWN  Neighborhood_Delridge  Neighborhood_EAST  \\\n",
       "count               965.0000               965.0000           965.0000   \n",
       "mean                  0.1482                 0.0031             0.0580   \n",
       "std                   0.3555                 0.0557             0.2339   \n",
       "min                   0.0000                 0.0000             0.0000   \n",
       "25%                   0.0000                 0.0000             0.0000   \n",
       "50%                   0.0000                 0.0000             0.0000   \n",
       "75%                   0.0000                 0.0000             0.0000   \n",
       "max                   1.0000                 1.0000             1.0000   \n",
       "\n",
       "       Neighborhood_GREATER DUWAMISH  Neighborhood_LAKE UNION  \\\n",
       "count                       965.0000                 965.0000   \n",
       "mean                          0.2995                   0.0518   \n",
       "std                           0.4583                   0.2218   \n",
       "min                           0.0000                   0.0000   \n",
       "25%                           0.0000                   0.0000   \n",
       "50%                           0.0000                   0.0000   \n",
       "75%                           1.0000                   0.0000   \n",
       "max                           1.0000                   1.0000   \n",
       "\n",
       "       Neighborhood_MAGNOLIA / QUEEN ANNE  Neighborhood_NORTH  \\\n",
       "count                            965.0000            965.0000   \n",
       "mean                               0.0798              0.0394   \n",
       "std                                0.2711              0.1946   \n",
       "min                                0.0000              0.0000   \n",
       "25%                                0.0000              0.0000   \n",
       "50%                                0.0000              0.0000   \n",
       "75%                                0.0000              0.0000   \n",
       "max                                1.0000              1.0000   \n",
       "\n",
       "       Neighborhood_NORTHEAST  Neighborhood_NORTHWEST  Neighborhood_North  \\\n",
       "count                965.0000                965.0000            965.0000   \n",
       "mean                   0.0870                  0.0549              0.0062   \n",
       "std                    0.2820                  0.2279              0.0786   \n",
       "min                    0.0000                  0.0000              0.0000   \n",
       "25%                    0.0000                  0.0000              0.0000   \n",
       "50%                    0.0000                  0.0000              0.0000   \n",
       "75%                    0.0000                  0.0000              0.0000   \n",
       "max                    1.0000                  1.0000              1.0000   \n",
       "\n",
       "       Neighborhood_Northwest  Neighborhood_SOUTHEAST  Neighborhood_SOUTHWEST  \n",
       "count                965.0000                965.0000                965.0000  \n",
       "mean                   0.0041                  0.0218                  0.0249  \n",
       "std                    0.0643                  0.1460                  0.1558  \n",
       "min                    0.0000                  0.0000                  0.0000  \n",
       "25%                    0.0000                  0.0000                  0.0000  \n",
       "50%                    0.0000                  0.0000                  0.0000  \n",
       "75%                    0.0000                  0.0000                  0.0000  \n",
       "max                    1.0000                  1.0000                  1.0000  "
      ]
     },
     "execution_count": 613,
     "metadata": {},
     "output_type": "execute_result"
    }
   ],
   "source": [
    "df.describe()"
   ]
  }
 ],
 "metadata": {
  "kernelspec": {
   "display_name": "Python 3",
   "language": "python",
   "name": "python3"
  },
  "language_info": {
   "codemirror_mode": {
    "name": "ipython",
    "version": 3
   },
   "file_extension": ".py",
   "mimetype": "text/x-python",
   "name": "python",
   "nbconvert_exporter": "python",
   "pygments_lexer": "ipython3",
   "version": "3.7.6"
  }
 },
 "nbformat": 4,
 "nbformat_minor": 4
}
