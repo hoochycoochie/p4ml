{
 "cells": [
  {
   "cell_type": "markdown",
   "metadata": {},
   "source": [
    "# <center><u><font color='red'> Prédiction des émissions  de CO2</font></u></center>"
   ]
  },
  {
   "cell_type": "code",
   "execution_count": 70,
   "metadata": {},
   "outputs": [],
   "source": [
    "import pandas as pd\n",
    "import numpy as np\n",
    "import seaborn as sns\n",
    "import plotly.express as px\n",
    "import matplotlib.pyplot as plt\n",
    "\n",
    "from sklearn.linear_model import Ridge,Lasso,ElasticNet,LinearRegression\n",
    "from sklearn.dummy import DummyRegressor\n",
    "from sklearn.ensemble import RandomForestRegressor\n",
    "from sklearn.model_selection import train_test_split\n",
    "from functions import utils\n",
    "import math\n",
    "from sklearn.svm import SVR\n",
    "from xgboost import XGBRegressor \n",
    "from functions.functions import *\n",
    "from sklearn.neural_network import MLPRegressor\n",
    "import warnings\n",
    "warnings.filterwarnings('ignore')\n",
    "from IPython.display import display\n",
    "pd.options.display.float_format = '{:,.4f}'.format\n"
   ]
  },
  {
   "cell_type": "code",
   "execution_count": 71,
   "metadata": {},
   "outputs": [],
   "source": [
    "target_col='TotalGHGEmissions'\n",
    "stratify_col='PrimaryPropertyType'"
   ]
  },
  {
   "cell_type": "code",
   "execution_count": 72,
   "metadata": {},
   "outputs": [],
   "source": [
    "df=pd.read_csv('data/cleaned_and_normalized_pca.csv')\n"
   ]
  },
  {
   "cell_type": "code",
   "execution_count": 73,
   "metadata": {},
   "outputs": [
    {
     "data": {
      "text/html": [
       "<div>\n",
       "<style scoped>\n",
       "    .dataframe tbody tr th:only-of-type {\n",
       "        vertical-align: middle;\n",
       "    }\n",
       "\n",
       "    .dataframe tbody tr th {\n",
       "        vertical-align: top;\n",
       "    }\n",
       "\n",
       "    .dataframe thead th {\n",
       "        text-align: right;\n",
       "    }\n",
       "</style>\n",
       "<table border=\"1\" class=\"dataframe\">\n",
       "  <thead>\n",
       "    <tr style=\"text-align: right;\">\n",
       "      <th></th>\n",
       "      <th>pca_0</th>\n",
       "      <th>pca_1</th>\n",
       "      <th>pca_2</th>\n",
       "      <th>pca_3</th>\n",
       "      <th>pca_4</th>\n",
       "      <th>pca_5</th>\n",
       "      <th>pca_6</th>\n",
       "      <th>pca_7</th>\n",
       "      <th>pca_8</th>\n",
       "      <th>pca_9</th>\n",
       "      <th>...</th>\n",
       "      <th>pca_32</th>\n",
       "      <th>pca_33</th>\n",
       "      <th>pca_34</th>\n",
       "      <th>pca_35</th>\n",
       "      <th>pca_36</th>\n",
       "      <th>pca_37</th>\n",
       "      <th>pca_38</th>\n",
       "      <th>BuildingType</th>\n",
       "      <th>TotalGHGEmissions</th>\n",
       "      <th>SiteEnergyUse(kBtu)</th>\n",
       "    </tr>\n",
       "  </thead>\n",
       "  <tbody>\n",
       "    <tr>\n",
       "      <th>0</th>\n",
       "      <td>4.0341</td>\n",
       "      <td>-2.2225</td>\n",
       "      <td>3.4706</td>\n",
       "      <td>0.3884</td>\n",
       "      <td>-1.1989</td>\n",
       "      <td>1.4803</td>\n",
       "      <td>5.5414</td>\n",
       "      <td>-0.0777</td>\n",
       "      <td>0.1388</td>\n",
       "      <td>-2.7239</td>\n",
       "      <td>...</td>\n",
       "      <td>0.7934</td>\n",
       "      <td>0.6241</td>\n",
       "      <td>1.5591</td>\n",
       "      <td>-0.6630</td>\n",
       "      <td>0.6032</td>\n",
       "      <td>0.9198</td>\n",
       "      <td>0.9234</td>\n",
       "      <td>NonResidential</td>\n",
       "      <td>221.5100</td>\n",
       "      <td>6,298,131.5000</td>\n",
       "    </tr>\n",
       "    <tr>\n",
       "      <th>1</th>\n",
       "      <td>0.5075</td>\n",
       "      <td>-1.7344</td>\n",
       "      <td>1.9091</td>\n",
       "      <td>-0.3307</td>\n",
       "      <td>-0.6477</td>\n",
       "      <td>0.0908</td>\n",
       "      <td>0.5726</td>\n",
       "      <td>-0.0114</td>\n",
       "      <td>-0.7945</td>\n",
       "      <td>-0.8958</td>\n",
       "      <td>...</td>\n",
       "      <td>-0.5478</td>\n",
       "      <td>0.3158</td>\n",
       "      <td>-0.5670</td>\n",
       "      <td>0.3015</td>\n",
       "      <td>0.0542</td>\n",
       "      <td>0.5210</td>\n",
       "      <td>-0.3425</td>\n",
       "      <td>NonResidential</td>\n",
       "      <td>273.0200</td>\n",
       "      <td>7,606,084.5000</td>\n",
       "    </tr>\n",
       "    <tr>\n",
       "      <th>2</th>\n",
       "      <td>1.7649</td>\n",
       "      <td>-0.4836</td>\n",
       "      <td>-1.7048</td>\n",
       "      <td>0.5458</td>\n",
       "      <td>0.5272</td>\n",
       "      <td>-0.6925</td>\n",
       "      <td>2.4083</td>\n",
       "      <td>-0.6399</td>\n",
       "      <td>-1.0747</td>\n",
       "      <td>-0.7783</td>\n",
       "      <td>...</td>\n",
       "      <td>-7.3312</td>\n",
       "      <td>-4.5387</td>\n",
       "      <td>0.0880</td>\n",
       "      <td>-2.7381</td>\n",
       "      <td>5.0553</td>\n",
       "      <td>0.0367</td>\n",
       "      <td>0.5429</td>\n",
       "      <td>NonResidential</td>\n",
       "      <td>9.1300</td>\n",
       "      <td>1,310,236.6250</td>\n",
       "    </tr>\n",
       "    <tr>\n",
       "      <th>3</th>\n",
       "      <td>0.9358</td>\n",
       "      <td>-0.2651</td>\n",
       "      <td>2.4654</td>\n",
       "      <td>-0.2529</td>\n",
       "      <td>-0.0739</td>\n",
       "      <td>0.1274</td>\n",
       "      <td>-0.6701</td>\n",
       "      <td>0.5069</td>\n",
       "      <td>-0.5936</td>\n",
       "      <td>0.0733</td>\n",
       "      <td>...</td>\n",
       "      <td>-0.0116</td>\n",
       "      <td>-0.0080</td>\n",
       "      <td>0.0374</td>\n",
       "      <td>-0.0064</td>\n",
       "      <td>0.0009</td>\n",
       "      <td>0.0053</td>\n",
       "      <td>0.0073</td>\n",
       "      <td>NonResidential</td>\n",
       "      <td>157.7700</td>\n",
       "      <td>4,145,920.5000</td>\n",
       "    </tr>\n",
       "    <tr>\n",
       "      <th>4</th>\n",
       "      <td>0.7743</td>\n",
       "      <td>1.2464</td>\n",
       "      <td>2.7930</td>\n",
       "      <td>-0.0597</td>\n",
       "      <td>1.8443</td>\n",
       "      <td>1.3994</td>\n",
       "      <td>1.7014</td>\n",
       "      <td>-0.9865</td>\n",
       "      <td>0.5436</td>\n",
       "      <td>-0.3433</td>\n",
       "      <td>...</td>\n",
       "      <td>0.1656</td>\n",
       "      <td>-0.2187</td>\n",
       "      <td>0.4844</td>\n",
       "      <td>-0.0132</td>\n",
       "      <td>0.0972</td>\n",
       "      <td>0.0504</td>\n",
       "      <td>0.1045</td>\n",
       "      <td>NonResidential</td>\n",
       "      <td>215.0000</td>\n",
       "      <td>6,668,568.5000</td>\n",
       "    </tr>\n",
       "  </tbody>\n",
       "</table>\n",
       "<p>5 rows × 42 columns</p>\n",
       "</div>"
      ],
      "text/plain": [
       "   pca_0   pca_1   pca_2   pca_3   pca_4   pca_5   pca_6   pca_7   pca_8  \\\n",
       "0 4.0341 -2.2225  3.4706  0.3884 -1.1989  1.4803  5.5414 -0.0777  0.1388   \n",
       "1 0.5075 -1.7344  1.9091 -0.3307 -0.6477  0.0908  0.5726 -0.0114 -0.7945   \n",
       "2 1.7649 -0.4836 -1.7048  0.5458  0.5272 -0.6925  2.4083 -0.6399 -1.0747   \n",
       "3 0.9358 -0.2651  2.4654 -0.2529 -0.0739  0.1274 -0.6701  0.5069 -0.5936   \n",
       "4 0.7743  1.2464  2.7930 -0.0597  1.8443  1.3994  1.7014 -0.9865  0.5436   \n",
       "\n",
       "    pca_9  ...  pca_32  pca_33  pca_34  pca_35  pca_36  pca_37  pca_38  \\\n",
       "0 -2.7239  ...  0.7934  0.6241  1.5591 -0.6630  0.6032  0.9198  0.9234   \n",
       "1 -0.8958  ... -0.5478  0.3158 -0.5670  0.3015  0.0542  0.5210 -0.3425   \n",
       "2 -0.7783  ... -7.3312 -4.5387  0.0880 -2.7381  5.0553  0.0367  0.5429   \n",
       "3  0.0733  ... -0.0116 -0.0080  0.0374 -0.0064  0.0009  0.0053  0.0073   \n",
       "4 -0.3433  ...  0.1656 -0.2187  0.4844 -0.0132  0.0972  0.0504  0.1045   \n",
       "\n",
       "     BuildingType  TotalGHGEmissions  SiteEnergyUse(kBtu)  \n",
       "0  NonResidential           221.5100       6,298,131.5000  \n",
       "1  NonResidential           273.0200       7,606,084.5000  \n",
       "2  NonResidential             9.1300       1,310,236.6250  \n",
       "3  NonResidential           157.7700       4,145,920.5000  \n",
       "4  NonResidential           215.0000       6,668,568.5000  \n",
       "\n",
       "[5 rows x 42 columns]"
      ]
     },
     "execution_count": 73,
     "metadata": {},
     "output_type": "execute_result"
    }
   ],
   "source": [
    "df.head()"
   ]
  },
  {
   "cell_type": "code",
   "execution_count": 74,
   "metadata": {},
   "outputs": [],
   "source": [
    "cols=['best_params','R2','rmse','model','time_elapsed']\n",
    "df_result=pd.DataFrame(columns=cols)\n",
    "df_result_with_energy_star_score=pd.DataFrame(columns=cols)"
   ]
  },
  {
   "cell_type": "code",
   "execution_count": 75,
   "metadata": {},
   "outputs": [],
   "source": [
    "test_size=0.25\n",
    "random_state=42\n",
    "cv=5\n",
    "scoring='r2'\n",
    "feature_cols=[col for col in df.columns.tolist() if col not in ['TotalGHGEmissions','SiteEnergyUse(kBtu)','ENERGYSTARScore',stratify_col]]\n",
    "\n",
    " \n",
    "feature_cols_with_energy_star_score=[col for col in df.columns.tolist() if col not in ['TotalGHGEmissions','SiteEnergyUse(kBtu)','ENERGYSTARScore',stratify_col]]\n",
    "\n"
   ]
  },
  {
   "cell_type": "code",
   "execution_count": 76,
   "metadata": {},
   "outputs": [
    {
     "ename": "KeyError",
     "evalue": "\"None of [Index(['PrimaryPropertyType'], dtype='object')] are in the [columns]\"",
     "output_type": "error",
     "traceback": [
      "\u001b[0;31m---------------------------------------------------------------------------\u001b[0m",
      "\u001b[0;31mKeyError\u001b[0m                                  Traceback (most recent call last)",
      "\u001b[0;32m<ipython-input-76-2a87ed2caef5>\u001b[0m in \u001b[0;36m<module>\u001b[0;34m\u001b[0m\n\u001b[0;32m----> 1\u001b[0;31m \u001b[0mstratify\u001b[0m\u001b[0;34m=\u001b[0m\u001b[0mdf\u001b[0m\u001b[0;34m[\u001b[0m\u001b[0;34m[\u001b[0m\u001b[0;34m'PrimaryPropertyType'\u001b[0m\u001b[0;34m]\u001b[0m\u001b[0;34m]\u001b[0m\u001b[0;34m\u001b[0m\u001b[0;34m\u001b[0m\u001b[0m\n\u001b[0m\u001b[1;32m      2\u001b[0m \u001b[0mX_train\u001b[0m\u001b[0;34m,\u001b[0m\u001b[0mX_test\u001b[0m\u001b[0;34m,\u001b[0m\u001b[0my_train\u001b[0m\u001b[0;34m,\u001b[0m\u001b[0my_test\u001b[0m\u001b[0;34m=\u001b[0m\u001b[0mtrain_test_split\u001b[0m\u001b[0;34m(\u001b[0m\u001b[0mdf\u001b[0m\u001b[0;34m[\u001b[0m\u001b[0mfeature_cols\u001b[0m\u001b[0;34m]\u001b[0m\u001b[0;34m,\u001b[0m\u001b[0mdf\u001b[0m\u001b[0;34m[\u001b[0m\u001b[0mtarget_col\u001b[0m\u001b[0;34m]\u001b[0m\u001b[0;34m,\u001b[0m\u001b[0mtest_size\u001b[0m\u001b[0;34m=\u001b[0m\u001b[0mtest_size\u001b[0m\u001b[0;34m,\u001b[0m\u001b[0mrandom_state\u001b[0m\u001b[0;34m=\u001b[0m\u001b[0mrandom_state\u001b[0m\u001b[0;34m)\u001b[0m\u001b[0;34m\u001b[0m\u001b[0;34m\u001b[0m\u001b[0m\n\u001b[1;32m      3\u001b[0m \u001b[0mX_train_with_energy_star_score\u001b[0m\u001b[0;34m=\u001b[0m\u001b[0mX_train\u001b[0m\u001b[0;34m[\u001b[0m\u001b[0mfeature_cols_with_energy_star_score\u001b[0m\u001b[0;34m]\u001b[0m\u001b[0;34m\u001b[0m\u001b[0;34m\u001b[0m\u001b[0m\n\u001b[1;32m      4\u001b[0m \u001b[0mX_test_with_energy_star_score\u001b[0m\u001b[0;34m=\u001b[0m\u001b[0mX_test\u001b[0m\u001b[0;34m[\u001b[0m\u001b[0mfeature_cols_with_energy_star_score\u001b[0m\u001b[0;34m]\u001b[0m\u001b[0;34m\u001b[0m\u001b[0;34m\u001b[0m\u001b[0m\n\u001b[1;32m      5\u001b[0m \u001b[0mtrain_y\u001b[0m\u001b[0;34m=\u001b[0m\u001b[0my_train\u001b[0m\u001b[0;34m.\u001b[0m\u001b[0mvalues\u001b[0m\u001b[0;34m\u001b[0m\u001b[0;34m\u001b[0m\u001b[0m\n",
      "\u001b[0;32m~/anaconda3/lib/python3.7/site-packages/pandas/core/frame.py\u001b[0m in \u001b[0;36m__getitem__\u001b[0;34m(self, key)\u001b[0m\n\u001b[1;32m   2804\u001b[0m             \u001b[0;32mif\u001b[0m \u001b[0mis_iterator\u001b[0m\u001b[0;34m(\u001b[0m\u001b[0mkey\u001b[0m\u001b[0;34m)\u001b[0m\u001b[0;34m:\u001b[0m\u001b[0;34m\u001b[0m\u001b[0;34m\u001b[0m\u001b[0m\n\u001b[1;32m   2805\u001b[0m                 \u001b[0mkey\u001b[0m \u001b[0;34m=\u001b[0m \u001b[0mlist\u001b[0m\u001b[0;34m(\u001b[0m\u001b[0mkey\u001b[0m\u001b[0;34m)\u001b[0m\u001b[0;34m\u001b[0m\u001b[0;34m\u001b[0m\u001b[0m\n\u001b[0;32m-> 2806\u001b[0;31m             \u001b[0mindexer\u001b[0m \u001b[0;34m=\u001b[0m \u001b[0mself\u001b[0m\u001b[0;34m.\u001b[0m\u001b[0mloc\u001b[0m\u001b[0;34m.\u001b[0m\u001b[0m_get_listlike_indexer\u001b[0m\u001b[0;34m(\u001b[0m\u001b[0mkey\u001b[0m\u001b[0;34m,\u001b[0m \u001b[0maxis\u001b[0m\u001b[0;34m=\u001b[0m\u001b[0;36m1\u001b[0m\u001b[0;34m,\u001b[0m \u001b[0mraise_missing\u001b[0m\u001b[0;34m=\u001b[0m\u001b[0;32mTrue\u001b[0m\u001b[0;34m)\u001b[0m\u001b[0;34m[\u001b[0m\u001b[0;36m1\u001b[0m\u001b[0;34m]\u001b[0m\u001b[0;34m\u001b[0m\u001b[0;34m\u001b[0m\u001b[0m\n\u001b[0m\u001b[1;32m   2807\u001b[0m \u001b[0;34m\u001b[0m\u001b[0m\n\u001b[1;32m   2808\u001b[0m         \u001b[0;31m# take() does not accept boolean indexers\u001b[0m\u001b[0;34m\u001b[0m\u001b[0;34m\u001b[0m\u001b[0;34m\u001b[0m\u001b[0m\n",
      "\u001b[0;32m~/anaconda3/lib/python3.7/site-packages/pandas/core/indexing.py\u001b[0m in \u001b[0;36m_get_listlike_indexer\u001b[0;34m(self, key, axis, raise_missing)\u001b[0m\n\u001b[1;32m   1550\u001b[0m \u001b[0;34m\u001b[0m\u001b[0m\n\u001b[1;32m   1551\u001b[0m         self._validate_read_indexer(\n\u001b[0;32m-> 1552\u001b[0;31m             \u001b[0mkeyarr\u001b[0m\u001b[0;34m,\u001b[0m \u001b[0mindexer\u001b[0m\u001b[0;34m,\u001b[0m \u001b[0mo\u001b[0m\u001b[0;34m.\u001b[0m\u001b[0m_get_axis_number\u001b[0m\u001b[0;34m(\u001b[0m\u001b[0maxis\u001b[0m\u001b[0;34m)\u001b[0m\u001b[0;34m,\u001b[0m \u001b[0mraise_missing\u001b[0m\u001b[0;34m=\u001b[0m\u001b[0mraise_missing\u001b[0m\u001b[0;34m\u001b[0m\u001b[0;34m\u001b[0m\u001b[0m\n\u001b[0m\u001b[1;32m   1553\u001b[0m         )\n\u001b[1;32m   1554\u001b[0m         \u001b[0;32mreturn\u001b[0m \u001b[0mkeyarr\u001b[0m\u001b[0;34m,\u001b[0m \u001b[0mindexer\u001b[0m\u001b[0;34m\u001b[0m\u001b[0;34m\u001b[0m\u001b[0m\n",
      "\u001b[0;32m~/anaconda3/lib/python3.7/site-packages/pandas/core/indexing.py\u001b[0m in \u001b[0;36m_validate_read_indexer\u001b[0;34m(self, key, indexer, axis, raise_missing)\u001b[0m\n\u001b[1;32m   1637\u001b[0m             \u001b[0;32mif\u001b[0m \u001b[0mmissing\u001b[0m \u001b[0;34m==\u001b[0m \u001b[0mlen\u001b[0m\u001b[0;34m(\u001b[0m\u001b[0mindexer\u001b[0m\u001b[0;34m)\u001b[0m\u001b[0;34m:\u001b[0m\u001b[0;34m\u001b[0m\u001b[0;34m\u001b[0m\u001b[0m\n\u001b[1;32m   1638\u001b[0m                 \u001b[0maxis_name\u001b[0m \u001b[0;34m=\u001b[0m \u001b[0mself\u001b[0m\u001b[0;34m.\u001b[0m\u001b[0mobj\u001b[0m\u001b[0;34m.\u001b[0m\u001b[0m_get_axis_name\u001b[0m\u001b[0;34m(\u001b[0m\u001b[0maxis\u001b[0m\u001b[0;34m)\u001b[0m\u001b[0;34m\u001b[0m\u001b[0;34m\u001b[0m\u001b[0m\n\u001b[0;32m-> 1639\u001b[0;31m                 \u001b[0;32mraise\u001b[0m \u001b[0mKeyError\u001b[0m\u001b[0;34m(\u001b[0m\u001b[0;34mf\"None of [{key}] are in the [{axis_name}]\"\u001b[0m\u001b[0;34m)\u001b[0m\u001b[0;34m\u001b[0m\u001b[0;34m\u001b[0m\u001b[0m\n\u001b[0m\u001b[1;32m   1640\u001b[0m \u001b[0;34m\u001b[0m\u001b[0m\n\u001b[1;32m   1641\u001b[0m             \u001b[0;31m# We (temporarily) allow for some missing keys with .loc, except in\u001b[0m\u001b[0;34m\u001b[0m\u001b[0;34m\u001b[0m\u001b[0;34m\u001b[0m\u001b[0m\n",
      "\u001b[0;31mKeyError\u001b[0m: \"None of [Index(['PrimaryPropertyType'], dtype='object')] are in the [columns]\""
     ]
    }
   ],
   "source": [
    "stratify=df[[stratify_col]]\n",
    "X_train,X_test,y_train,y_test=train_test_split(df[feature_cols],df[target_col],test_size=test_size,random_state=random_state)\n",
    "X_train_with_energy_star_score=X_train[feature_cols_with_energy_star_score]\n",
    "X_test_with_energy_star_score=X_test[feature_cols_with_energy_star_score]\n",
    "train_y=y_train.values\n",
    "test_y=y_test.values\n"
   ]
  },
  {
   "cell_type": "markdown",
   "metadata": {},
   "source": [
    "## Partie 1 modèles linéaires"
   ]
  },
  {
   "cell_type": "markdown",
   "metadata": {},
   "source": [
    "### 1 <u>Modèle linéaire simple</u>"
   ]
  },
  {
   "cell_type": "markdown",
   "metadata": {},
   "source": [
    "#### 1-1 <u>Régression linéaire sans ENERGYSTARScore </u>"
   ]
  },
  {
   "cell_type": "code",
   "execution_count": null,
   "metadata": {},
   "outputs": [],
   "source": [
    "\n",
    "train_x=X_train.values\n",
    "test_x=X_test.values\n",
    " \n",
    "\n",
    "result=utils.model_func(df,LinearRegression(),target_col,feature_cols,test_size,random_state,train_x,test_x,train_y,test_y)\n",
    "\n",
    "df_result=df_result.append(result,ignore_index = True)\n",
    "df_result"
   ]
  },
  {
   "cell_type": "markdown",
   "metadata": {},
   "source": [
    "#### 1-2  <u>Régression linéaire avec ENERGYSTARScore </u>"
   ]
  },
  {
   "cell_type": "code",
   "execution_count": null,
   "metadata": {},
   "outputs": [],
   "source": [
    "\n",
    "train_x=X_train_with_energy_star_score.values\n",
    "test_x=X_test_with_energy_star_score.values\n",
    " \n",
    "result=utils.model_func(df,LinearRegression(),target_col,feature_cols_with_energy_star_score,test_size,random_state,train_x,test_x,train_y,test_y)\n",
    "\n",
    "df_result_with_energy_star_score=df_result_with_energy_star_score.append(result,ignore_index = True)\n",
    "df_result_with_energy_star_score\n",
    "print(result)"
   ]
  },
  {
   "cell_type": "markdown",
   "metadata": {},
   "source": [
    "### 2 <u>Régression de ridge</u>"
   ]
  },
  {
   "cell_type": "markdown",
   "metadata": {},
   "source": [
    "#### 2-1 <u>Régression de ridge sans ENERGYSTARScore </u>"
   ]
  },
  {
   "cell_type": "code",
   "execution_count": null,
   "metadata": {},
   "outputs": [],
   "source": [
    "\n",
    "train_x=X_train_with_energy_star_score.values\n",
    "test_x=X_test.values\n",
    " \n",
    "param_grid = [{\n",
    "    #'alpha':np.arange(0.01,2.01,0.01), 1.9200000000000002\n",
    "    'alpha':[0,1,1.92,2],\n",
    "    'fit_intercept':[True,False],\n",
    "  \n",
    "  'solver':['auto', 'svd', 'cholesky', 'lsqr', 'sparse_cg', 'sag', 'saga', 'lbfgs']\n",
    "}]\n",
    "\n",
    "\n",
    "\n",
    "scoring = 'r2'\n",
    " \n",
    "model = Ridge(random_state=random_state)\n",
    "#ridge.best_params_,ridge.best_score_,rmse,model.__class__.__name__,elapsed\n",
    "result=utils.grid_search_cv_func(df,target_col,feature_cols,param_grid,scoring,model,test_size,random_state,cv,train_x,test_x,train_y,test_y)\n",
    "\n",
    "df_result=df_result.append(result,ignore_index = True)\n",
    "print(result)"
   ]
  },
  {
   "cell_type": "markdown",
   "metadata": {},
   "source": [
    "#### 2-2 <u>Régression de ridge avec ENERGYSTARScore </u>"
   ]
  },
  {
   "cell_type": "code",
   "execution_count": null,
   "metadata": {},
   "outputs": [],
   "source": [
    "train_x=X_train_with_energy_star_score.values\n",
    "test_x=X_test_with_energy_star_score.values\n",
    "\n",
    " \n",
    "param_grid = [{\n",
    "    #'alpha':np.arange(0.01,2.01,0.01), 1.9200000000000002\n",
    "    'alpha':[0,1,1.92,2],\n",
    "    'fit_intercept':[True,False],\n",
    "  \n",
    "  'solver':['auto', 'svd', 'cholesky', 'lsqr', 'sparse_cg', 'sag', 'saga', 'lbfgs']\n",
    "}]\n",
    "\n",
    "\n",
    " \n",
    "model = Ridge(random_state=random_state)\n",
    "result=utils.grid_search_cv_func(df,target_col,feature_cols_with_energy_star_score,param_grid,scoring,model,test_size,random_state,cv,train_x,test_x,train_y,test_y)\n",
    "df_result_with_energy_star_score=df_result_with_energy_star_score.append(result,ignore_index = True)\n",
    "print(result)\n",
    "df_result_with_energy_star_score"
   ]
  },
  {
   "cell_type": "markdown",
   "metadata": {},
   "source": [
    "### 3 <u>Régression de Lasso</u>"
   ]
  },
  {
   "cell_type": "markdown",
   "metadata": {},
   "source": [
    "#### 3-1 <u>Régression de Lasso sans ENERGYSTARScore </u>"
   ]
  },
  {
   "cell_type": "code",
   "execution_count": null,
   "metadata": {},
   "outputs": [],
   "source": [
    "train_x=X_train.values\n",
    "test_x=X_test.values\n",
    "\n",
    " \n",
    "param_grid = [{\n",
    "   # 'alpha':np.arange(0,0.99,0.001),\n",
    "     'alpha':[0.105],\n",
    "    'fit_intercept':[True,False],\n",
    "  \n",
    "  \n",
    "}]\n",
    "\n",
    "\n",
    " \n",
    " \n",
    "model = Lasso( random_state=random_state)\n",
    "result=utils.grid_search_cv_func(df,target_col,feature_cols,param_grid,scoring,model,test_size,random_state,cv,train_x,test_x,train_y,test_y)\n",
    "\n",
    "df_result=df_result.append(result,ignore_index = True)\n",
    "print(result)\n",
    "df_result"
   ]
  },
  {
   "cell_type": "markdown",
   "metadata": {},
   "source": [
    "#### 3-2 <u>Régression de Lasso avec ENERGYSTARScore </u>"
   ]
  },
  {
   "cell_type": "code",
   "execution_count": null,
   "metadata": {},
   "outputs": [],
   "source": [
    "train_x=X_train_with_energy_star_score.values\n",
    "test_x=X_test_with_energy_star_score.values\n",
    "\n",
    " \n",
    "param_grid = [{\n",
    "   # 'alpha':np.arange(0,0.99,0.001),\n",
    "     'alpha':[0.105],\n",
    "    'fit_intercept':[True,False],\n",
    "  \n",
    "  \n",
    "}]\n",
    "\n",
    " \n",
    "model = Lasso( random_state=random_state)\n",
    "result=utils.grid_search_cv_func(df,target_col,feature_cols_with_energy_star_score,param_grid,scoring,model,test_size,random_state,cv,train_x,test_x,train_y,test_y)\n",
    "df_result_with_energy_star_score=df_result_with_energy_star_score.append(result,ignore_index = True)\n",
    "print(result)\n",
    "df_result_with_energy_star_score"
   ]
  },
  {
   "cell_type": "markdown",
   "metadata": {},
   "source": [
    "### 4 <u>Régression de ElasticNet</u>"
   ]
  },
  {
   "cell_type": "markdown",
   "metadata": {},
   "source": [
    "#### 4-1 <u>Régression de ElasticNet sans ENERGYSTARScore </u>"
   ]
  },
  {
   "cell_type": "code",
   "execution_count": null,
   "metadata": {},
   "outputs": [],
   "source": [
    "train_x=X_train.values\n",
    "test_x=X_test.values\n",
    " \n",
    "param_grid = [{\"alpha\": [0],#np.arange(0,2,1),  #coefficient qui multiplie le terme de pénalité\n",
    "              \"l1_ratio\": [0],#np.arange(0, 1, 0.01)#L1 ratio si = 1 équivaut à un Lasso si 0 à un Ridge\n",
    "}]\n",
    "\n",
    " \n",
    "model = ElasticNet( random_state=random_state,normalize=False)\n",
    "result=utils.grid_search_cv_func(df,target_col,feature_cols,param_grid,scoring,model,test_size,random_state,cv,train_x,test_x,train_y,test_y)\n",
    "df_result=df_result.append(result,ignore_index = True)\n",
    "print(result)\n",
    "df_result"
   ]
  },
  {
   "cell_type": "markdown",
   "metadata": {},
   "source": [
    "#### 4-2 <u>Régression de ElasticNet avec ENERGYSTARScore </u>"
   ]
  },
  {
   "cell_type": "code",
   "execution_count": null,
   "metadata": {},
   "outputs": [],
   "source": [
    "train_x=X_train_with_energy_star_score.values\n",
    "test_x=X_test_with_energy_star_score.values\n",
    " \n",
    "param_grid = [{\"alpha\": [0],#np.arange(0,2,1),  #coefficient qui multiplie le terme de pénalité\n",
    "              \"l1_ratio\": [0],#np.arange(0, 1, 0.01)#L1 ratio si = 1 équivaut à un Lasso si 0 à un Ridge\n",
    "}]\n",
    "\n",
    " \n",
    "model = ElasticNet( random_state=random_state,normalize=False)\n",
    "result=utils.grid_search_cv_func(df,target_col,feature_cols_with_energy_star_score,param_grid,scoring,model,test_size,random_state,cv,train_x,test_x,train_y,test_y)\n",
    "\n",
    "\n",
    "df_result_with_energy_star_score=df_result_with_energy_star_score.append(result,ignore_index = True)\n",
    "print(result)\n",
    "df_result_with_energy_star_score"
   ]
  },
  {
   "cell_type": "markdown",
   "metadata": {},
   "source": [
    "Conclusion modèles linéaires: La régularisation Ridge avec le pramaètre alpha=1 reste le meilleur modèle, la prise en compte de ENERGYSTARScore comme variable explicative améliore les performance du modèle"
   ]
  },
  {
   "cell_type": "markdown",
   "metadata": {},
   "source": [
    "## Partie 2 modèles non linéaires"
   ]
  },
  {
   "cell_type": "markdown",
   "metadata": {},
   "source": [
    "### 1 <u>Random Forest</u>"
   ]
  },
  {
   "cell_type": "markdown",
   "metadata": {},
   "source": [
    "#### 1-1 <u>Random Forest sans ENERGYSTARScore </u>"
   ]
  },
  {
   "cell_type": "code",
   "execution_count": null,
   "metadata": {},
   "outputs": [],
   "source": [
    "\n",
    "train_x=X_train.values\n",
    "test_x=X_test.values\n",
    " \n",
    "\n",
    "\n",
    "'''\n",
    "param_grid = {\n",
    "'n_estimators':[5,20,50,100], # nombre d'arbres\n",
    "'max_features':['auto', 'sqrt'], # nombre de variables tenu en compte pour la création de chaque arbre\n",
    "'max_depth':np.arange(10,130,10), # nombre maximum de niveaux dans chaque arbre de décision \n",
    "'min_samples_split':[2, 6, 10], # nombre minimal d'observation avant séparation du noeud\n",
    "'min_samples_leaf':[1, 3, 4], #nombre minimal d'observation pour créer une feuille\n",
    "'bootstrap':[True, False] # méthode d'échantillonnage\n",
    "}   \n",
    "'''\n",
    " \n",
    "## best params\n",
    "param_grid={'bootstrap': [True],\n",
    " 'max_depth': [10],\n",
    " 'max_features': ['auto'],\n",
    " 'min_samples_leaf': [3],\n",
    " 'min_samples_split': [2],\n",
    " 'n_estimators': [100]\n",
    "           }\n",
    "\n",
    "model = RandomForestRegressor(random_state=random_state)\n",
    "result=utils.grid_search_cv_func(df,target_col,feature_cols,param_grid,scoring,model,test_size,random_state,cv,train_x,test_x,train_y,test_y)\n",
    "\n",
    "\n",
    "df_result=df_result.append(result,ignore_index = True)\n",
    "print(result)\n",
    "df_result\n"
   ]
  },
  {
   "cell_type": "markdown",
   "metadata": {},
   "source": [
    "#### 1-2 <u>Random Forest avec ENERGYSTARScore </u>"
   ]
  },
  {
   "cell_type": "code",
   "execution_count": null,
   "metadata": {},
   "outputs": [],
   "source": [
    " \n",
    "train_x=X_train_with_energy_star_score.values\n",
    "test_x=X_test_with_energy_star_score.values\n",
    " \n",
    "\n",
    " \n",
    "\n",
    "\n",
    "## best params\n",
    "param_grid={'bootstrap': [True],\n",
    " 'max_depth': [10],\n",
    " 'max_features': ['auto'],\n",
    " 'min_samples_leaf': [3],\n",
    " 'min_samples_split': [2],\n",
    " 'n_estimators': [100]\n",
    "           }\n",
    "model = RandomForestRegressor(random_state=random_state)\n",
    "result=utils.grid_search_cv_func(df,target_col,feature_cols_with_energy_star_score,param_grid,scoring,model,test_size,random_state,cv,train_x,test_x,train_y,test_y)\n",
    "df_result_with_energy_star_score=df_result_with_energy_star_score.append(result,ignore_index = True)\n",
    "df_result_with_energy_star_score\n",
    " "
   ]
  },
  {
   "cell_type": "markdown",
   "metadata": {},
   "source": [
    "  ### 2 <u>XGBoost</u>"
   ]
  },
  {
   "cell_type": "markdown",
   "metadata": {},
   "source": [
    "#### 2-1 <u>XGBoost sans ENERGYSTARScore </u>"
   ]
  },
  {
   "cell_type": "code",
   "execution_count": null,
   "metadata": {},
   "outputs": [],
   "source": [
    " \n",
    "train_x=X_train.values\n",
    "test_x=X_test.values\n",
    " \n",
    "'''\n",
    "param_grid = {\n",
    "    'learning_rate':np.arange(0.1,1,0.1),\n",
    "    'n_estimators':  np.arange(50, 110, 10),  #nombre d'arbres de décision 50\n",
    "              'max_depth': np.arange(20, 50, 5)} #nombre maximum de niveaux dans chaque arbre de décision 20\n",
    "# define the model/ estimator\n",
    "'''\n",
    "\n",
    "param_grid={'learning_rate': [0.1], 'max_depth': [25], 'n_estimators': [50]}\n",
    "\n",
    "model = XGBRegressor(random_state=42)\n",
    "result=utils.grid_search_cv_func(df,target_col,feature_cols,param_grid,scoring,model,test_size,random_state,cv,train_x,test_x,train_y,test_y)\n",
    "\n",
    "\n",
    "df_result=df_result.append(result,ignore_index = True)\n",
    "df_result"
   ]
  },
  {
   "cell_type": "markdown",
   "metadata": {},
   "source": [
    "#### 2-2 <u>XGBoost avec ENERGYSTARScore </u>"
   ]
  },
  {
   "cell_type": "code",
   "execution_count": null,
   "metadata": {},
   "outputs": [],
   "source": [
    " \n",
    "train_x=X_train_with_energy_star_score.values\n",
    "test_x=X_test_with_energy_star_score.values\n",
    "\n",
    "'''\n",
    "param_grid = {\n",
    "    'learning_rate':np.arange(0.1,1,0.1),\n",
    "    'n_estimators':  np.arange(50, 110, 10),  #nombre d'arbres de décision 50\n",
    "              'max_depth': np.arange(20, 50, 5)} #nombre maximum de niveaux dans chaque arbre de décision 20\n",
    "# define the model/ estimator\n",
    "'''\n",
    "\n",
    "param_grid={'learning_rate': [0.1], 'max_depth': [25], 'n_estimators': [50]}\n",
    "\n",
    "\n",
    "# define the model/ estimator\n",
    "model = XGBRegressor(random_state=42)\n",
    "result=utils.grid_search_cv_func(df,target_col,feature_cols_with_energy_star_score,param_grid,scoring,model,test_size,random_state,cv,train_x,test_x,train_y,test_y)\n",
    "df_result_with_energy_star_score=df_result_with_energy_star_score.append(result,ignore_index = True)\n",
    "df_result_with_energy_star_score\n"
   ]
  },
  {
   "cell_type": "code",
   "execution_count": null,
   "metadata": {},
   "outputs": [],
   "source": [
    "from sklearn.preprocessing import StandardScaler\n",
    "Labels=df_result['model'].unique().tolist()\n",
    " \n",
    " \n",
    "numeric_cols=['R2','rmse','time_elapsed']\n",
    "fig, ax = plt.subplots(figsize=(40,15))\n",
    "data_plot=df_result.copy()\n",
    "data_plot['R2']=data_plot['R2']+200\n",
    "data_plot['rmse']=data_plot['rmse']+200\n",
    " \n",
    "utils.bar_plot(ax,data_plot[['time_elapsed','rmse','R2']], total_width=1.5, single_width=0.9)\n",
    "plt.xticks(range(len(Labels)), Labels, fontsize=20, rotation=45)\n",
    "\n",
    "ttl = plt.title(\"modèles de prédictions émission co2 sans energystartscore\", fontsize=26)\n",
    "ttl.set_position([.5, 1.03])\n",
    "plt.show()"
   ]
  },
  {
   "cell_type": "code",
   "execution_count": null,
   "metadata": {},
   "outputs": [],
   "source": [
    "from sklearn.preprocessing import StandardScaler\n",
    "Labels=df_result_with_energy_star_score['model'].unique().tolist()\n",
    " \n",
    " \n",
    "numeric_cols=['R2','rmse','time_elapsed']\n",
    "fig, ax = plt.subplots(figsize=(40,15))\n",
    "data_plot=df_result_with_energy_star_score.copy()\n",
    "data_plot['R2']=data_plot['R2']+200\n",
    "data_plot['rmse']=data_plot['rmse']+200\n",
    " \n",
    "utils.bar_plot(ax,data_plot[['time_elapsed','rmse','R2']].sort_values(ascending=False,by='R2'), total_width=1.5, single_width=0.9)\n",
    "plt.xticks(range(len(Labels)), Labels, fontsize=20, rotation=45)\n",
    "\n",
    "ttl = plt.title(\"modèles de prédictions émission co2 avec energystartscore\", fontsize=26)\n",
    "ttl.set_position([.5, 1.03])\n",
    "plt.show()"
   ]
  },
  {
   "cell_type": "code",
   "execution_count": null,
   "metadata": {},
   "outputs": [],
   "source": [
    "df_result.sort_values(by='R2',ascending=False)"
   ]
  },
  {
   "cell_type": "code",
   "execution_count": null,
   "metadata": {},
   "outputs": [],
   "source": [
    "df_result_with_energy_star_score.sort_values(by='R2',ascending=False)"
   ]
  }
 ],
 "metadata": {
  "kernelspec": {
   "display_name": "Python 3",
   "language": "python",
   "name": "python3"
  },
  "language_info": {
   "codemirror_mode": {
    "name": "ipython",
    "version": 3
   },
   "file_extension": ".py",
   "mimetype": "text/x-python",
   "name": "python",
   "nbconvert_exporter": "python",
   "pygments_lexer": "ipython3",
   "version": "3.7.6"
  }
 },
 "nbformat": 4,
 "nbformat_minor": 4
}
